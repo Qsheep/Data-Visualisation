{
 "cells": [
  {
   "cell_type": "markdown",
   "id": "d4ec0285",
   "metadata": {},
   "source": [
    "# Test Report"
   ]
  },
  {
   "cell_type": "code",
   "execution_count": 1,
   "id": "0af70105",
   "metadata": {},
   "outputs": [],
   "source": [
    "# !pip install openpyxl\n",
    "# !pip install scikit-learn\n",
    "import pandas as pd\n",
    "import seaborn as sns\n",
    "import matplotlib.pyplot as plt\n",
    "import plotly.express as px\n",
    "from plotly.subplots import make_subplots\n",
    "import plotly.graph_objects as go\n",
    "import math"
   ]
  },
  {
   "cell_type": "code",
   "execution_count": 2,
   "id": "956991a0",
   "metadata": {},
   "outputs": [
    {
     "data": {
      "text/html": [
       "<div>\n",
       "<style scoped>\n",
       "    .dataframe tbody tr th:only-of-type {\n",
       "        vertical-align: middle;\n",
       "    }\n",
       "\n",
       "    .dataframe tbody tr th {\n",
       "        vertical-align: top;\n",
       "    }\n",
       "\n",
       "    .dataframe thead th {\n",
       "        text-align: right;\n",
       "    }\n",
       "</style>\n",
       "<table border=\"1\" class=\"dataframe\">\n",
       "  <thead>\n",
       "    <tr style=\"text-align: right;\">\n",
       "      <th></th>\n",
       "      <th>Group</th>\n",
       "      <th>Id</th>\n",
       "      <th>Voc [V]</th>\n",
       "      <th>Isc [A]</th>\n",
       "      <th>FF [%]</th>\n",
       "      <th>η [%]</th>\n",
       "      <th>Rserie [mΩ]</th>\n",
       "      <th>Rshunt [mΩ]</th>\n",
       "      <th>Notes</th>\n",
       "      <th>Type</th>\n",
       "    </tr>\n",
       "  </thead>\n",
       "  <tbody>\n",
       "    <tr>\n",
       "      <th>65</th>\n",
       "      <td>V</td>\n",
       "      <td>1.510291e+09</td>\n",
       "      <td>0.635</td>\n",
       "      <td>6.597</td>\n",
       "      <td>71.400002</td>\n",
       "      <td>13.277</td>\n",
       "      <td>7.499618</td>\n",
       "      <td>1485.165039</td>\n",
       "      <td>15min annealing in coinstack</td>\n",
       "      <td>Original Measurements</td>\n",
       "    </tr>\n",
       "    <tr>\n",
       "      <th>66</th>\n",
       "      <td>V</td>\n",
       "      <td>1.510291e+09</td>\n",
       "      <td>0.633</td>\n",
       "      <td>6.562</td>\n",
       "      <td>71.199997</td>\n",
       "      <td>13.126</td>\n",
       "      <td>7.452113</td>\n",
       "      <td>2040.825073</td>\n",
       "      <td>15min annealing in coinstack</td>\n",
       "      <td>Original Measurements</td>\n",
       "    </tr>\n",
       "    <tr>\n",
       "      <th>67</th>\n",
       "      <td>V</td>\n",
       "      <td>1.510291e+09</td>\n",
       "      <td>0.640</td>\n",
       "      <td>6.600</td>\n",
       "      <td>70.599998</td>\n",
       "      <td>13.242</td>\n",
       "      <td>7.517376</td>\n",
       "      <td>2054.822754</td>\n",
       "      <td>15min annealing in coinstack</td>\n",
       "      <td>Original Measurements</td>\n",
       "    </tr>\n",
       "    <tr>\n",
       "      <th>68</th>\n",
       "      <td>V</td>\n",
       "      <td>1.510291e+09</td>\n",
       "      <td>0.637</td>\n",
       "      <td>6.566</td>\n",
       "      <td>71.400002</td>\n",
       "      <td>13.255</td>\n",
       "      <td>7.331909</td>\n",
       "      <td>2027.017334</td>\n",
       "      <td>15min annealing in coinstack</td>\n",
       "      <td>Original Measurements</td>\n",
       "    </tr>\n",
       "    <tr>\n",
       "      <th>69</th>\n",
       "      <td>V</td>\n",
       "      <td>1.510291e+09</td>\n",
       "      <td>0.638</td>\n",
       "      <td>6.515</td>\n",
       "      <td>70.800003</td>\n",
       "      <td>13.064</td>\n",
       "      <td>7.317156</td>\n",
       "      <td>1408.429810</td>\n",
       "      <td>15min annealing in coinstack</td>\n",
       "      <td>Original Measurements</td>\n",
       "    </tr>\n",
       "  </tbody>\n",
       "</table>\n",
       "</div>"
      ],
      "text/plain": [
       "   Group            Id  Voc [V]  Isc [A]     FF [%]   η [%]  Rserie [mΩ]  \\\n",
       "65     V  1.510291e+09    0.635    6.597  71.400002  13.277     7.499618   \n",
       "66     V  1.510291e+09    0.633    6.562  71.199997  13.126     7.452113   \n",
       "67     V  1.510291e+09    0.640    6.600  70.599998  13.242     7.517376   \n",
       "68     V  1.510291e+09    0.637    6.566  71.400002  13.255     7.331909   \n",
       "69     V  1.510291e+09    0.638    6.515  70.800003  13.064     7.317156   \n",
       "\n",
       "    Rshunt [mΩ]                         Notes                   Type  \n",
       "65  1485.165039  15min annealing in coinstack  Original Measurements  \n",
       "66  2040.825073  15min annealing in coinstack  Original Measurements  \n",
       "67  2054.822754  15min annealing in coinstack  Original Measurements  \n",
       "68  2027.017334  15min annealing in coinstack  Original Measurements  \n",
       "69  1408.429810  15min annealing in coinstack  Original Measurements  "
      ]
     },
     "execution_count": 2,
     "metadata": {},
     "output_type": "execute_result"
    }
   ],
   "source": [
    "Original_measurments = pd.read_excel('A. Annealing test.xlsx',\n",
    "                                     usecols='A:H,R',skiprows = 7)\n",
    "Original_measurments['Type'] = \"Original Measurements\"\n",
    "Original_measurments.tail()"
   ]
  },
  {
   "cell_type": "code",
   "execution_count": 3,
   "id": "5de40347",
   "metadata": {},
   "outputs": [
    {
     "name": "stderr",
     "output_type": "stream",
     "text": [
      "/Users/maxandchang/anaconda3/lib/python3.7/site-packages/ipykernel_launcher.py:3: FutureWarning: The default value of regex will change from True to False in a future version.\n",
      "  This is separate from the ipykernel package so we can avoid doing imports until\n"
     ]
    },
    {
     "data": {
      "text/html": [
       "<div>\n",
       "<style scoped>\n",
       "    .dataframe tbody tr th:only-of-type {\n",
       "        vertical-align: middle;\n",
       "    }\n",
       "\n",
       "    .dataframe tbody tr th {\n",
       "        vertical-align: top;\n",
       "    }\n",
       "\n",
       "    .dataframe thead th {\n",
       "        text-align: right;\n",
       "    }\n",
       "</style>\n",
       "<table border=\"1\" class=\"dataframe\">\n",
       "  <thead>\n",
       "    <tr style=\"text-align: right;\">\n",
       "      <th></th>\n",
       "      <th>Group</th>\n",
       "      <th>Id</th>\n",
       "      <th>Voc [V]</th>\n",
       "      <th>Isc [A]</th>\n",
       "      <th>FF [%]</th>\n",
       "      <th>η [%]</th>\n",
       "      <th>Rserie [mΩ]</th>\n",
       "      <th>Rshunt [mΩ]</th>\n",
       "      <th>Notes</th>\n",
       "      <th>Type</th>\n",
       "    </tr>\n",
       "  </thead>\n",
       "  <tbody>\n",
       "    <tr>\n",
       "      <th>0</th>\n",
       "      <td>I</td>\n",
       "      <td>1511100796</td>\n",
       "      <td>0.641</td>\n",
       "      <td>6.528</td>\n",
       "      <td>68.599998</td>\n",
       "      <td>12.743</td>\n",
       "      <td>7.349692</td>\n",
       "      <td>1734.138916</td>\n",
       "      <td>2h annealing in cassettes</td>\n",
       "      <td>Remeasure Before Annealing</td>\n",
       "    </tr>\n",
       "    <tr>\n",
       "      <th>1</th>\n",
       "      <td>I</td>\n",
       "      <td>1511100798</td>\n",
       "      <td>0.638</td>\n",
       "      <td>6.5</td>\n",
       "      <td>69.300003</td>\n",
       "      <td>12.752</td>\n",
       "      <td>7.528696</td>\n",
       "      <td>1463.435669</td>\n",
       "      <td>2h annealing in cassettes</td>\n",
       "      <td>Remeasure Before Annealing</td>\n",
       "    </tr>\n",
       "    <tr>\n",
       "      <th>2</th>\n",
       "      <td>I</td>\n",
       "      <td>1511100799</td>\n",
       "      <td>0.636</td>\n",
       "      <td>6.498</td>\n",
       "      <td>68.900002</td>\n",
       "      <td>12.624</td>\n",
       "      <td>7.603422</td>\n",
       "      <td>1621.634766</td>\n",
       "      <td>2h annealing in cassettes</td>\n",
       "      <td>Remeasure Before Annealing</td>\n",
       "    </tr>\n",
       "    <tr>\n",
       "      <th>3</th>\n",
       "      <td>I</td>\n",
       "      <td>1511100802</td>\n",
       "      <td>0.634</td>\n",
       "      <td>6.573</td>\n",
       "      <td>67.900002</td>\n",
       "      <td>12.557</td>\n",
       "      <td>7.727072</td>\n",
       "      <td>1369.851929</td>\n",
       "      <td>2h annealing in cassettes</td>\n",
       "      <td>Remeasure Before Annealing</td>\n",
       "    </tr>\n",
       "    <tr>\n",
       "      <th>4</th>\n",
       "      <td>I</td>\n",
       "      <td>1511100803</td>\n",
       "      <td>0.632</td>\n",
       "      <td>6.54</td>\n",
       "      <td>68</td>\n",
       "      <td>12.477</td>\n",
       "      <td>7.600221</td>\n",
       "      <td>1604.267578</td>\n",
       "      <td>2h annealing in cassettes</td>\n",
       "      <td>Remeasure Before Annealing</td>\n",
       "    </tr>\n",
       "  </tbody>\n",
       "</table>\n",
       "</div>"
      ],
      "text/plain": [
       "  Group          Id Voc [V] Isc [A]     FF [%]   η [%] Rserie [mΩ]  \\\n",
       "0     I  1511100796   0.641   6.528  68.599998  12.743    7.349692   \n",
       "1     I  1511100798   0.638     6.5  69.300003  12.752    7.528696   \n",
       "2     I  1511100799   0.636   6.498  68.900002  12.624    7.603422   \n",
       "3     I  1511100802   0.634   6.573  67.900002  12.557    7.727072   \n",
       "4     I  1511100803   0.632    6.54         68  12.477    7.600221   \n",
       "\n",
       "   Rshunt [mΩ]                      Notes                        Type  \n",
       "0  1734.138916  2h annealing in cassettes  Remeasure Before Annealing  \n",
       "1  1463.435669  2h annealing in cassettes  Remeasure Before Annealing  \n",
       "2  1621.634766  2h annealing in cassettes  Remeasure Before Annealing  \n",
       "3  1369.851929  2h annealing in cassettes  Remeasure Before Annealing  \n",
       "4  1604.267578  2h annealing in cassettes  Remeasure Before Annealing  "
      ]
     },
     "execution_count": 3,
     "metadata": {},
     "output_type": "execute_result"
    }
   ],
   "source": [
    "Remeasure_b_annealing = pd.read_excel('A. Annealing test.xlsx',\n",
    "                                     usecols='I:R',skiprows = 7,keep_default_na = False)\n",
    "Remeasure_b_annealing.columns=Remeasure_b_annealing.columns.str.replace(r'.1', '')\n",
    "Remeasure_b_annealing['Type'] = \"Remeasure Before Annealing\"\n",
    "Remeasure_b_annealing = Remeasure_b_annealing.drop(columns=['Unnamed:6'])\n",
    "Remeasure_b_annealing.head()"
   ]
  },
  {
   "cell_type": "code",
   "execution_count": 4,
   "id": "78d1174d",
   "metadata": {},
   "outputs": [
    {
     "name": "stderr",
     "output_type": "stream",
     "text": [
      "/Users/maxandchang/anaconda3/lib/python3.7/site-packages/ipykernel_launcher.py:3: FutureWarning: The default value of regex will change from True to False in a future version.\n",
      "  This is separate from the ipykernel package so we can avoid doing imports until\n"
     ]
    },
    {
     "data": {
      "text/html": [
       "<div>\n",
       "<style scoped>\n",
       "    .dataframe tbody tr th:only-of-type {\n",
       "        vertical-align: middle;\n",
       "    }\n",
       "\n",
       "    .dataframe tbody tr th {\n",
       "        vertical-align: top;\n",
       "    }\n",
       "\n",
       "    .dataframe thead th {\n",
       "        text-align: right;\n",
       "    }\n",
       "</style>\n",
       "<table border=\"1\" class=\"dataframe\">\n",
       "  <thead>\n",
       "    <tr style=\"text-align: right;\">\n",
       "      <th></th>\n",
       "      <th>Notes</th>\n",
       "      <th>Group</th>\n",
       "      <th>Id</th>\n",
       "      <th>Voc [V]</th>\n",
       "      <th>Isc [A]</th>\n",
       "      <th>FF [%]</th>\n",
       "      <th>η [%]</th>\n",
       "      <th>Rserie [mΩ]</th>\n",
       "      <th>Rshunt [mΩ]</th>\n",
       "      <th>Type</th>\n",
       "    </tr>\n",
       "  </thead>\n",
       "  <tbody>\n",
       "    <tr>\n",
       "      <th>0</th>\n",
       "      <td>2h annealing in cassettes</td>\n",
       "      <td>I</td>\n",
       "      <td>1511100796</td>\n",
       "      <td>0.622</td>\n",
       "      <td>6.363</td>\n",
       "      <td>65.199997</td>\n",
       "      <td>11.457</td>\n",
       "      <td>8.154295</td>\n",
       "      <td>671.138794</td>\n",
       "      <td>Remeasure After Annealing</td>\n",
       "    </tr>\n",
       "    <tr>\n",
       "      <th>1</th>\n",
       "      <td>2h annealing in cassettes</td>\n",
       "      <td>I</td>\n",
       "      <td>1511100798</td>\n",
       "      <td>0.629</td>\n",
       "      <td>6.469</td>\n",
       "      <td>70.800003</td>\n",
       "      <td>12.788</td>\n",
       "      <td>7.41509</td>\n",
       "      <td>1764.734741</td>\n",
       "      <td>Remeasure After Annealing</td>\n",
       "    </tr>\n",
       "    <tr>\n",
       "      <th>2</th>\n",
       "      <td>2h annealing in cassettes</td>\n",
       "      <td>I</td>\n",
       "      <td>1511100799</td>\n",
       "      <td>0.628</td>\n",
       "      <td>6.419</td>\n",
       "      <td>70.300003</td>\n",
       "      <td>12.566</td>\n",
       "      <td>7.667529</td>\n",
       "      <td>1734.091064</td>\n",
       "      <td>Remeasure After Annealing</td>\n",
       "    </tr>\n",
       "    <tr>\n",
       "      <th>3</th>\n",
       "      <td>2h annealing in cassettes</td>\n",
       "      <td>I</td>\n",
       "      <td>1511100802</td>\n",
       "      <td>0.629</td>\n",
       "      <td>6.496</td>\n",
       "      <td>69</td>\n",
       "      <td>12.517</td>\n",
       "      <td>7.646422</td>\n",
       "      <td>1140.686401</td>\n",
       "      <td>Remeasure After Annealing</td>\n",
       "    </tr>\n",
       "    <tr>\n",
       "      <th>4</th>\n",
       "      <td>2h annealing in cassettes</td>\n",
       "      <td>I</td>\n",
       "      <td>1511100803</td>\n",
       "      <td>0.628</td>\n",
       "      <td>6.445</td>\n",
       "      <td>70.099998</td>\n",
       "      <td>12.593</td>\n",
       "      <td>7.478048</td>\n",
       "      <td>1435.389648</td>\n",
       "      <td>Remeasure After Annealing</td>\n",
       "    </tr>\n",
       "  </tbody>\n",
       "</table>\n",
       "</div>"
      ],
      "text/plain": [
       "                       Notes Group          Id Voc [V] Isc [A]     FF [%]  \\\n",
       "0  2h annealing in cassettes     I  1511100796   0.622   6.363  65.199997   \n",
       "1  2h annealing in cassettes     I  1511100798   0.629   6.469  70.800003   \n",
       "2  2h annealing in cassettes     I  1511100799   0.628   6.419  70.300003   \n",
       "3  2h annealing in cassettes     I  1511100802   0.629   6.496         69   \n",
       "4  2h annealing in cassettes     I  1511100803   0.628   6.445  70.099998   \n",
       "\n",
       "    η [%] Rserie [mΩ]  Rshunt [mΩ]                       Type  \n",
       "0  11.457    8.154295   671.138794  Remeasure After Annealing  \n",
       "1  12.788     7.41509  1764.734741  Remeasure After Annealing  \n",
       "2  12.566    7.667529  1734.091064  Remeasure After Annealing  \n",
       "3  12.517    7.646422  1140.686401  Remeasure After Annealing  \n",
       "4  12.593    7.478048  1435.389648  Remeasure After Annealing  "
      ]
     },
     "execution_count": 4,
     "metadata": {},
     "output_type": "execute_result"
    }
   ],
   "source": [
    "Remeasure_a_annealing = pd.read_excel('A. Annealing test.xlsx',\n",
    "                                     usecols='S:Z,R',skiprows = 7,keep_default_na = False)\n",
    "Remeasure_a_annealing.columns = Remeasure_a_annealing.columns.str.replace(r'.2', '')\n",
    "Remeasure_a_annealing['Type'] = \"Remeasure After Annealing\"\n",
    "Remeasure_a_annealing.head()"
   ]
  },
  {
   "cell_type": "code",
   "execution_count": 5,
   "id": "be91cb4e",
   "metadata": {},
   "outputs": [
    {
     "data": {
      "text/plain": [
       "Index(['Group', 'Id', 'Voc [V]', 'Isc [A]', 'FF [%]', 'η [%]', 'Rserie [mΩ]',\n",
       "       'Rshunt [mΩ]', 'Notes', 'Type'],\n",
       "      dtype='object')"
      ]
     },
     "execution_count": 5,
     "metadata": {},
     "output_type": "execute_result"
    }
   ],
   "source": [
    "frames = [Original_measurments, Remeasure_b_annealing, Remeasure_a_annealing]\n",
    "Annealing_test = pd.concat(frames)\n",
    "Annealing_test.columns"
   ]
  },
  {
   "cell_type": "code",
   "execution_count": 6,
   "id": "5517d761",
   "metadata": {},
   "outputs": [
    {
     "data": {
      "text/html": [
       "<div>\n",
       "<style scoped>\n",
       "    .dataframe tbody tr th:only-of-type {\n",
       "        vertical-align: middle;\n",
       "    }\n",
       "\n",
       "    .dataframe tbody tr th {\n",
       "        vertical-align: top;\n",
       "    }\n",
       "\n",
       "    .dataframe thead th {\n",
       "        text-align: right;\n",
       "    }\n",
       "</style>\n",
       "<table border=\"1\" class=\"dataframe\">\n",
       "  <thead>\n",
       "    <tr style=\"text-align: right;\">\n",
       "      <th></th>\n",
       "      <th>Group</th>\n",
       "      <th>Id</th>\n",
       "      <th>Voc [V]</th>\n",
       "      <th>Isc [A]</th>\n",
       "      <th>FF [%]</th>\n",
       "      <th>η [%]</th>\n",
       "      <th>Rserie [mΩ]</th>\n",
       "      <th>Rshunt [mΩ]</th>\n",
       "      <th>Notes</th>\n",
       "      <th>Type</th>\n",
       "    </tr>\n",
       "  </thead>\n",
       "  <tbody>\n",
       "    <tr>\n",
       "      <th>65</th>\n",
       "      <td>V</td>\n",
       "      <td>1511100966</td>\n",
       "      <td>0.628</td>\n",
       "      <td>6.638</td>\n",
       "      <td>69.699997</td>\n",
       "      <td>12.885</td>\n",
       "      <td>7.854242</td>\n",
       "      <td>1515.173828</td>\n",
       "      <td>15min annealing in coinstack</td>\n",
       "      <td>Remeasure After Annealing</td>\n",
       "    </tr>\n",
       "    <tr>\n",
       "      <th>66</th>\n",
       "      <td>V</td>\n",
       "      <td>1511100967</td>\n",
       "      <td>0.630</td>\n",
       "      <td>6.654</td>\n",
       "      <td>69.900002</td>\n",
       "      <td>12.996</td>\n",
       "      <td>7.709498</td>\n",
       "      <td>1570.665039</td>\n",
       "      <td>15min annealing in coinstack</td>\n",
       "      <td>Remeasure After Annealing</td>\n",
       "    </tr>\n",
       "    <tr>\n",
       "      <th>67</th>\n",
       "      <td>V</td>\n",
       "      <td>1511100974</td>\n",
       "      <td>0.627</td>\n",
       "      <td>6.675</td>\n",
       "      <td>68.300003</td>\n",
       "      <td>12.681</td>\n",
       "      <td>7.753457</td>\n",
       "      <td>1310.037720</td>\n",
       "      <td>15min annealing in coinstack</td>\n",
       "      <td>Remeasure After Annealing</td>\n",
       "    </tr>\n",
       "    <tr>\n",
       "      <th>68</th>\n",
       "      <td>V</td>\n",
       "      <td>1511100977</td>\n",
       "      <td>0.627</td>\n",
       "      <td>6.635</td>\n",
       "      <td>68.800003</td>\n",
       "      <td>12.699</td>\n",
       "      <td>7.668727</td>\n",
       "      <td>1428.545288</td>\n",
       "      <td>15min annealing in coinstack</td>\n",
       "      <td>Remeasure After Annealing</td>\n",
       "    </tr>\n",
       "    <tr>\n",
       "      <th>69</th>\n",
       "      <td>V</td>\n",
       "      <td>1511100978</td>\n",
       "      <td>0.633</td>\n",
       "      <td>6.518</td>\n",
       "      <td>68.500000</td>\n",
       "      <td>12.548</td>\n",
       "      <td>7.899511</td>\n",
       "      <td>1149.418335</td>\n",
       "      <td>15min annealing in coinstack</td>\n",
       "      <td>Remeasure After Annealing</td>\n",
       "    </tr>\n",
       "  </tbody>\n",
       "</table>\n",
       "</div>"
      ],
      "text/plain": [
       "   Group          Id  Voc [V]  Isc [A]     FF [%]   η [%]  Rserie [mΩ]  \\\n",
       "65     V  1511100966    0.628    6.638  69.699997  12.885     7.854242   \n",
       "66     V  1511100967    0.630    6.654  69.900002  12.996     7.709498   \n",
       "67     V  1511100974    0.627    6.675  68.300003  12.681     7.753457   \n",
       "68     V  1511100977    0.627    6.635  68.800003  12.699     7.668727   \n",
       "69     V  1511100978    0.633    6.518  68.500000  12.548     7.899511   \n",
       "\n",
       "    Rshunt [mΩ]                         Notes                       Type  \n",
       "65  1515.173828  15min annealing in coinstack  Remeasure After Annealing  \n",
       "66  1570.665039  15min annealing in coinstack  Remeasure After Annealing  \n",
       "67  1310.037720  15min annealing in coinstack  Remeasure After Annealing  \n",
       "68  1428.545288  15min annealing in coinstack  Remeasure After Annealing  \n",
       "69  1149.418335  15min annealing in coinstack  Remeasure After Annealing  "
      ]
     },
     "execution_count": 6,
     "metadata": {},
     "output_type": "execute_result"
    }
   ],
   "source": [
    "# Annealing_test.astype({col: float for col in Annealing_test.columns[3:5]}) \n",
    "Annealing_test[['Voc [V]', 'Isc [A]', 'FF [%]', 'η [%]', 'Rserie [mΩ]', \n",
    "                'Rshunt [mΩ]']] = Annealing_test[['Voc [V]', 'Isc [A]', 'FF [%]', 'η [%]', 'Rserie [mΩ]',\n",
    "       'Rshunt [mΩ]']].apply(pd.to_numeric)\n",
    "Annealing_test = Annealing_test.dropna()\n",
    "Annealing_test.tail()"
   ]
  },
  {
   "cell_type": "code",
   "execution_count": 132,
   "id": "1c82f4be",
   "metadata": {},
   "outputs": [
    {
     "data": {
      "text/html": [
       "<div>\n",
       "<style scoped>\n",
       "    .dataframe tbody tr th:only-of-type {\n",
       "        vertical-align: middle;\n",
       "    }\n",
       "\n",
       "    .dataframe tbody tr th {\n",
       "        vertical-align: top;\n",
       "    }\n",
       "\n",
       "    .dataframe thead th {\n",
       "        text-align: right;\n",
       "    }\n",
       "</style>\n",
       "<table border=\"1\" class=\"dataframe\">\n",
       "  <thead>\n",
       "    <tr style=\"text-align: right;\">\n",
       "      <th></th>\n",
       "      <th>Group</th>\n",
       "      <th>Id</th>\n",
       "      <th>Voc [V]</th>\n",
       "      <th>Isc [A]</th>\n",
       "      <th>FF [%]</th>\n",
       "      <th>η [%]</th>\n",
       "      <th>Rserie [mΩ]</th>\n",
       "      <th>Rshunt [mΩ]</th>\n",
       "      <th>Group.1</th>\n",
       "      <th>Id.1</th>\n",
       "      <th>...</th>\n",
       "      <th>Isc_PLbA</th>\n",
       "      <th>Isc_PLaA</th>\n",
       "      <th>FF_PLbA</th>\n",
       "      <th>FF_PLaA</th>\n",
       "      <th>η_PLbA</th>\n",
       "      <th>η_PLaA</th>\n",
       "      <th>Rserie_PLbA</th>\n",
       "      <th>Rserie_PLaA</th>\n",
       "      <th>Rshunt_PLbA</th>\n",
       "      <th>Rshunt_PLaA</th>\n",
       "    </tr>\n",
       "  </thead>\n",
       "  <tbody>\n",
       "    <tr>\n",
       "      <th>0</th>\n",
       "      <td>I</td>\n",
       "      <td>1510290796</td>\n",
       "      <td>0.633</td>\n",
       "      <td>6.468</td>\n",
       "      <td>71.699997</td>\n",
       "      <td>13.038</td>\n",
       "      <td>7.024438</td>\n",
       "      <td>1874.968262</td>\n",
       "      <td>I</td>\n",
       "      <td>1511100796</td>\n",
       "      <td>...</td>\n",
       "      <td>-0.009276</td>\n",
       "      <td>0.016234</td>\n",
       "      <td>0.043236</td>\n",
       "      <td>0.090656</td>\n",
       "      <td>0.022626</td>\n",
       "      <td>0.121261</td>\n",
       "      <td>-0.046303</td>\n",
       "      <td>-0.160847</td>\n",
       "      <td>0.075110</td>\n",
       "      <td>0.642053</td>\n",
       "    </tr>\n",
       "    <tr>\n",
       "      <th>1</th>\n",
       "      <td>I</td>\n",
       "      <td>1510290798</td>\n",
       "      <td>0.641</td>\n",
       "      <td>6.484</td>\n",
       "      <td>72.400002</td>\n",
       "      <td>13.366</td>\n",
       "      <td>7.152323</td>\n",
       "      <td>2307.690186</td>\n",
       "      <td>I</td>\n",
       "      <td>1511100798</td>\n",
       "      <td>...</td>\n",
       "      <td>-0.002468</td>\n",
       "      <td>0.002313</td>\n",
       "      <td>0.042818</td>\n",
       "      <td>0.022099</td>\n",
       "      <td>0.045937</td>\n",
       "      <td>0.043244</td>\n",
       "      <td>-0.052622</td>\n",
       "      <td>-0.036739</td>\n",
       "      <td>0.365844</td>\n",
       "      <td>0.235281</td>\n",
       "    </tr>\n",
       "    <tr>\n",
       "      <th>2</th>\n",
       "      <td>I</td>\n",
       "      <td>1510290799</td>\n",
       "      <td>0.639</td>\n",
       "      <td>6.421</td>\n",
       "      <td>72.300003</td>\n",
       "      <td>13.171</td>\n",
       "      <td>7.006229</td>\n",
       "      <td>1470.584717</td>\n",
       "      <td>I</td>\n",
       "      <td>1511100799</td>\n",
       "      <td>...</td>\n",
       "      <td>-0.011992</td>\n",
       "      <td>0.000311</td>\n",
       "      <td>0.047026</td>\n",
       "      <td>0.027663</td>\n",
       "      <td>0.041531</td>\n",
       "      <td>0.045934</td>\n",
       "      <td>-0.085237</td>\n",
       "      <td>-0.094387</td>\n",
       "      <td>-0.102714</td>\n",
       "      <td>-0.179185</td>\n",
       "    </tr>\n",
       "    <tr>\n",
       "      <th>3</th>\n",
       "      <td>I</td>\n",
       "      <td>1510290802</td>\n",
       "      <td>0.637</td>\n",
       "      <td>6.535</td>\n",
       "      <td>71.199997</td>\n",
       "      <td>13.166</td>\n",
       "      <td>7.042247</td>\n",
       "      <td>2000.017822</td>\n",
       "      <td>I</td>\n",
       "      <td>1511100802</td>\n",
       "      <td>...</td>\n",
       "      <td>-0.005815</td>\n",
       "      <td>0.005968</td>\n",
       "      <td>0.046348</td>\n",
       "      <td>0.030899</td>\n",
       "      <td>0.046256</td>\n",
       "      <td>0.049294</td>\n",
       "      <td>-0.097245</td>\n",
       "      <td>-0.085793</td>\n",
       "      <td>0.315080</td>\n",
       "      <td>0.429662</td>\n",
       "    </tr>\n",
       "    <tr>\n",
       "      <th>4</th>\n",
       "      <td>I</td>\n",
       "      <td>1510290803</td>\n",
       "      <td>0.636</td>\n",
       "      <td>6.479</td>\n",
       "      <td>71.599998</td>\n",
       "      <td>13.104</td>\n",
       "      <td>7.064157</td>\n",
       "      <td>1910.844727</td>\n",
       "      <td>I</td>\n",
       "      <td>1511100803</td>\n",
       "      <td>...</td>\n",
       "      <td>-0.009415</td>\n",
       "      <td>0.005248</td>\n",
       "      <td>0.050279</td>\n",
       "      <td>0.020950</td>\n",
       "      <td>0.047848</td>\n",
       "      <td>0.038996</td>\n",
       "      <td>-0.075885</td>\n",
       "      <td>-0.058590</td>\n",
       "      <td>0.160441</td>\n",
       "      <td>0.248819</td>\n",
       "    </tr>\n",
       "  </tbody>\n",
       "</table>\n",
       "<p>5 rows × 37 columns</p>\n",
       "</div>"
      ],
      "text/plain": [
       "  Group          Id  Voc [V]  Isc [A]     FF [%]   η [%]  Rserie [mΩ]  \\\n",
       "0     I  1510290796    0.633    6.468  71.699997  13.038     7.024438   \n",
       "1     I  1510290798    0.641    6.484  72.400002  13.366     7.152323   \n",
       "2     I  1510290799    0.639    6.421  72.300003  13.171     7.006229   \n",
       "3     I  1510290802    0.637    6.535  71.199997  13.166     7.042247   \n",
       "4     I  1510290803    0.636    6.479  71.599998  13.104     7.064157   \n",
       "\n",
       "   Rshunt [mΩ] Group.1        Id.1  ...  Isc_PLbA  Isc_PLaA   FF_PLbA  \\\n",
       "0  1874.968262       I  1511100796  ... -0.009276  0.016234  0.043236   \n",
       "1  2307.690186       I  1511100798  ... -0.002468  0.002313  0.042818   \n",
       "2  1470.584717       I  1511100799  ... -0.011992  0.000311  0.047026   \n",
       "3  2000.017822       I  1511100802  ... -0.005815  0.005968  0.046348   \n",
       "4  1910.844727       I  1511100803  ... -0.009415  0.005248  0.050279   \n",
       "\n",
       "    FF_PLaA    η_PLbA    η_PLaA Rserie_PLbA Rserie_PLaA Rshunt_PLbA  \\\n",
       "0  0.090656  0.022626  0.121261   -0.046303   -0.160847    0.075110   \n",
       "1  0.022099  0.045937  0.043244   -0.052622   -0.036739    0.365844   \n",
       "2  0.027663  0.041531  0.045934   -0.085237   -0.094387   -0.102714   \n",
       "3  0.030899  0.046256  0.049294   -0.097245   -0.085793    0.315080   \n",
       "4  0.020950  0.047848  0.038996   -0.075885   -0.058590    0.160441   \n",
       "\n",
       "   Rshunt_PLaA  \n",
       "0     0.642053  \n",
       "1     0.235281  \n",
       "2    -0.179185  \n",
       "3     0.429662  \n",
       "4     0.248819  \n",
       "\n",
       "[5 rows x 37 columns]"
      ]
     },
     "execution_count": 132,
     "metadata": {},
     "output_type": "execute_result"
    }
   ],
   "source": [
    "Annealing_test_wide = pd.read_excel('A. Annealing test.xlsx', #usecols='I:R',\n",
    "                                     skiprows = 7,keep_default_na = False)\n",
    "Annealing_test_wide = Annealing_test_wide.drop(columns=['Unnamed: 16'])\n",
    "Annealing_test_wide[['Voc [V]', 'Isc [A]', 'FF [%]', 'η [%]', 'Rserie [mΩ]',\n",
    "       'Rshunt [mΩ]', 'Voc [V].1', 'Isc [A].1', 'FF [%].1',\n",
    "       'η [%].1', 'Rserie [mΩ].1', 'Rshunt [mΩ].1',\n",
    "       'Voc [V].2', 'Isc [A].2', 'FF [%].2', 'η [%].2', 'Rserie [mΩ].2',\n",
    "       'Rshunt [mΩ].2']] = Annealing_test_wide[['Voc [V]', 'Isc [A]', 'FF [%]', 'η [%]', 'Rserie [mΩ]',\n",
    "       'Rshunt [mΩ]', 'Voc [V].1', 'Isc [A].1', 'FF [%].1',\n",
    "       'η [%].1', 'Rserie [mΩ].1', 'Rshunt [mΩ].1',\n",
    "       'Voc [V].2', 'Isc [A].2', 'FF [%].2', 'η [%].2', 'Rserie [mΩ].2',\n",
    "       'Rshunt [mΩ].2']].apply(pd.to_numeric)\n",
    "\n",
    "Annealing_test_wide = Annealing_test_wide.dropna()\n",
    "\n",
    "Annealing_test_wide[\"Voc_PLbA\"] = (- Annealing_test_wide[\"Voc [V].1\"] + Annealing_test_wide[\"Voc [V]\"]) / Annealing_test_wide[\"Voc [V]\"]\n",
    "Annealing_test_wide[\"Voc_PLaA\"] = (- Annealing_test_wide[\"Voc [V].2\"] + Annealing_test_wide[\"Voc [V]\"]) / Annealing_test_wide[\"Voc [V]\"]\n",
    "\n",
    "Annealing_test_wide[\"Isc_PLbA\"] = (- Annealing_test_wide[\"Isc [A].1\"] + Annealing_test_wide[\"Isc [A]\"]) / Annealing_test_wide[\"Isc [A]\"]\n",
    "Annealing_test_wide[\"Isc_PLaA\"] = (- Annealing_test_wide[\"Isc [A].2\"] + Annealing_test_wide[\"Isc [A]\"]) / Annealing_test_wide[\"Isc [A]\"]\n",
    "\n",
    "\n",
    "Annealing_test_wide[\"FF_PLbA\"] = (- Annealing_test_wide[\"FF [%].1\"] + Annealing_test_wide[\"FF [%]\"]) / Annealing_test_wide[\"FF [%]\"]\n",
    "Annealing_test_wide[\"FF_PLaA\"] = (- Annealing_test_wide[\"FF [%].2\"] + Annealing_test_wide[\"FF [%]\"]) / Annealing_test_wide[\"FF [%]\"]\n",
    "\n",
    "Annealing_test_wide[\"η_PLbA\"] = (-Annealing_test_wide[\"η [%].1\"] + Annealing_test_wide[\"η [%]\"]) / Annealing_test_wide[\"η [%]\"]\n",
    "Annealing_test_wide[\"η_PLaA\"] = (-Annealing_test_wide[\"η [%].2\"] + Annealing_test_wide[\"η [%]\"]) / Annealing_test_wide[\"η [%]\"]\n",
    "\n",
    "Annealing_test_wide[\"Rserie_PLbA\"] = (-Annealing_test_wide[\"Rserie [mΩ].1\"] + Annealing_test_wide[\"Rserie [mΩ]\"]) / Annealing_test_wide[\"Rserie [mΩ]\"]\n",
    "Annealing_test_wide[\"Rserie_PLaA\"] = (-Annealing_test_wide[\"Rserie [mΩ].2\"] + Annealing_test_wide[\"Rserie [mΩ]\"]) / Annealing_test_wide[\"Rserie [mΩ]\"]\n",
    "\n",
    "Annealing_test_wide[\"Rshunt_PLbA\"] = (-Annealing_test_wide[\"Rshunt [mΩ].1\"] + Annealing_test_wide[\"Rshunt [mΩ]\"]) / Annealing_test_wide[\"Rshunt [mΩ]\"]\n",
    "Annealing_test_wide[\"Rshunt_PLaA\"] = (-Annealing_test_wide[\"Rshunt [mΩ].2\"] + Annealing_test_wide[\"Rshunt [mΩ]\"]) / Annealing_test_wide[\"Rshunt [mΩ]\"]\n",
    "Annealing_test_wide = Annealing_test_wide.dropna()\n",
    "\n",
    "Annealing_test_wide.head()"
   ]
  },
  {
   "cell_type": "code",
   "execution_count": null,
   "id": "9374b592",
   "metadata": {},
   "outputs": [],
   "source": []
  },
  {
   "cell_type": "markdown",
   "id": "eed3e74d",
   "metadata": {},
   "source": [
    "# Step 1:  Check if experiment data are good enough."
   ]
  },
  {
   "cell_type": "markdown",
   "id": "b930c303",
   "metadata": {},
   "source": [
    "Outliers need to be removed based on standard rules."
   ]
  },
  {
   "cell_type": "markdown",
   "id": "1bc4e2f8",
   "metadata": {},
   "source": [
    "# Section 2: I-V plot"
   ]
  },
  {
   "cell_type": "markdown",
   "id": "01392b28",
   "metadata": {},
   "source": [
    "Isc : Short circuit current\n",
    "\n",
    "Voc : Open circuit voltage"
   ]
  },
  {
   "cell_type": "markdown",
   "id": "0037925b",
   "metadata": {},
   "source": [
    "### Which group has the most overlap of green cross and blue dots?"
   ]
  },
  {
   "cell_type": "code",
   "execution_count": 133,
   "id": "9a61858c",
   "metadata": {},
   "outputs": [
    {
     "data": {
      "application/vnd.plotly.v1+json": {
       "config": {
        "plotlyServerURL": "https://plot.ly"
       },
       "data": [
        {
         "hovertemplate": "Type=Original Measurements<br>Notes=2h annealing in cassettes<br>Voc [V]=%{x}<br>Isc [A]=%{y}<extra></extra>",
         "legendgroup": "Original Measurements",
         "marker": {
          "color": "blue",
          "size": 8,
          "symbol": "circle"
         },
         "mode": "markers",
         "name": "Original Measurements",
         "orientation": "v",
         "showlegend": true,
         "type": "scatter",
         "x": [
          0.6330000162124634,
          0.640999972820282,
          0.6389999985694885,
          0.6370000243186951,
          0.6359999775886536,
          0.6380000114440918,
          0.6389999985694885,
          0.6380000114440918,
          0.6380000114440918,
          0.6389999985694885,
          0.6420000195503235,
          0.640999972820282
         ],
         "xaxis": "x4",
         "y": [
          6.4679999351501465,
          6.484000205993652,
          6.421000003814697,
          6.534999847412109,
          6.479000091552734,
          6.514999866485596,
          6.533999919891357,
          6.51200008392334,
          6.4710001945495605,
          6.502999782562256,
          6.488999843597412,
          6.544000148773193
         ],
         "yaxis": "y4"
        },
        {
         "hovertemplate": "Type=Original Measurements<br>Notes=1h annealing in cassettes <br>Voc [V]=%{x}<br>Isc [A]=%{y}<extra></extra>",
         "legendgroup": "Original Measurements",
         "marker": {
          "color": "blue",
          "size": 8,
          "symbol": "circle"
         },
         "mode": "markers",
         "name": "Original Measurements",
         "orientation": "v",
         "showlegend": false,
         "type": "scatter",
         "x": [
          0.6370000243186951,
          0.6380000114440918,
          0.6389999985694885,
          0.640999972820282,
          0.6389999985694885,
          0.6330000162124634,
          0.6380000114440918,
          0.6399999856948853,
          0.6389999985694885,
          0.6370000243186951,
          0.6389999985694885,
          0.6349999904632568
         ],
         "xaxis": "x5",
         "y": [
          6.479000091552734,
          6.5879998207092285,
          6.578000068664551,
          6.51800012588501,
          6.449999809265137,
          6.533999919891357,
          6.5279998779296875,
          6.514999866485596,
          6.494999885559082,
          6.545000076293945,
          6.504000186920166,
          6.4710001945495605
         ],
         "yaxis": "y5"
        },
        {
         "hovertemplate": "Type=Original Measurements<br>Notes=30min annealing in cassettes<br>Voc [V]=%{x}<br>Isc [A]=%{y}<extra></extra>",
         "legendgroup": "Original Measurements",
         "marker": {
          "color": "blue",
          "size": 8,
          "symbol": "circle"
         },
         "mode": "markers",
         "name": "Original Measurements",
         "orientation": "v",
         "showlegend": false,
         "type": "scatter",
         "x": [
          0.6399999856948853,
          0.6370000243186951,
          0.6370000243186951,
          0.6389999985694885,
          0.6370000243186951,
          0.6370000243186951,
          0.6380000114440918,
          0.6370000243186951,
          0.6340000033378601,
          0.6370000243186951,
          0.6399999856948853,
          0.6340000033378601
         ],
         "xaxis": "x6",
         "y": [
          6.479000091552734,
          6.442999839782715,
          6.39900016784668,
          6.388999938964844,
          6.427999973297119,
          6.708000183105469,
          6.710999965667725,
          6.742000102996826,
          6.677000045776367,
          6.614999771118164,
          6.664999961853027,
          6.718999862670898
         ],
         "yaxis": "y6"
        },
        {
         "hovertemplate": "Type=Original Measurements<br>Notes=15min annealing in cassettes<br>Voc [V]=%{x}<br>Isc [A]=%{y}<extra></extra>",
         "legendgroup": "Original Measurements",
         "marker": {
          "color": "blue",
          "size": 8,
          "symbol": "circle"
         },
         "mode": "markers",
         "name": "Original Measurements",
         "orientation": "v",
         "showlegend": false,
         "type": "scatter",
         "x": [
          0.640999972820282,
          0.6349999904632568,
          0.6340000033378601,
          0.6399999856948853,
          0.6330000162124634,
          0.6370000243186951,
          0.6380000114440918,
          0.6340000033378601,
          0.640999972820282,
          0.6389999985694885,
          0.6399999856948853,
          0.6320000290870667
         ],
         "xaxis": "x",
         "y": [
          6.703000068664551,
          6.734000205993652,
          6.580999851226807,
          6.6570000648498535,
          6.624000072479248,
          6.630000114440918,
          6.620999813079834,
          6.660999774932861,
          6.671999931335449,
          6.644000053405762,
          6.624000072479248,
          6.671000003814697
         ],
         "yaxis": "y"
        },
        {
         "hovertemplate": "Type=Original Measurements<br>Notes=15min annealing in coinstack<br>Voc [V]=%{x}<br>Isc [A]=%{y}<extra></extra>",
         "legendgroup": "Original Measurements",
         "marker": {
          "color": "blue",
          "size": 8,
          "symbol": "circle"
         },
         "mode": "markers",
         "name": "Original Measurements",
         "orientation": "v",
         "showlegend": false,
         "type": "scatter",
         "x": [
          0.6349999904632568,
          0.6340000033378601,
          0.6330000162124634,
          0.6359999775886536,
          0.6380000114440918,
          0.6389999985694885,
          0.6399999856948853,
          0.6399999856948853,
          0.6340000033378601,
          0.6349999904632568,
          0.6330000162124634,
          0.6399999856948853,
          0.6370000243186951,
          0.6380000114440918
         ],
         "xaxis": "x2",
         "y": [
          6.697999954223633,
          6.501999855041504,
          6.659999847412109,
          6.627999782562256,
          6.5929999351501465,
          6.6020002365112305,
          6.611999988555908,
          6.573999881744385,
          6.605999946594238,
          6.5970001220703125,
          6.561999797821045,
          6.599999904632568,
          6.565999984741211,
          6.514999866485596
         ],
         "yaxis": "y2"
        },
        {
         "hovertemplate": "Type=Remeasure Before Annealing<br>Notes=2h annealing in cassettes<br>Voc [V]=%{x}<br>Isc [A]=%{y}<extra></extra>",
         "legendgroup": "Remeasure Before Annealing",
         "marker": {
          "color": "orange",
          "size": 8,
          "symbol": "diamond"
         },
         "mode": "markers",
         "name": "Remeasure Before Annealing",
         "orientation": "v",
         "showlegend": true,
         "type": "scatter",
         "x": [
          0.640999972820282,
          0.6380000114440918,
          0.6359999775886536,
          0.6340000033378601,
          0.6320000290870667,
          0.6330000162124634,
          0.6330000162124634,
          0.6320000290870667,
          0.6320000290870667,
          0.6330000162124634,
          0.6320000290870667,
          0.6330000162124634
         ],
         "xaxis": "x4",
         "y": [
          6.5279998779296875,
          6.5,
          6.498000144958496,
          6.572999954223633,
          6.539999961853027,
          6.546999931335449,
          6.554999828338623,
          6.541999816894531,
          6.525000095367432,
          6.531000137329102,
          6.526000022888184,
          6.559999942779541
         ],
         "yaxis": "y4"
        },
        {
         "hovertemplate": "Type=Remeasure Before Annealing<br>Notes=1h annealing in cassettes <br>Voc [V]=%{x}<br>Isc [A]=%{y}<extra></extra>",
         "legendgroup": "Remeasure Before Annealing",
         "marker": {
          "color": "orange",
          "size": 8,
          "symbol": "diamond"
         },
         "mode": "markers",
         "name": "Remeasure Before Annealing",
         "orientation": "v",
         "showlegend": false,
         "type": "scatter",
         "x": [
          0.6309999823570251,
          0.6309999823570251,
          0.6320000290870667,
          0.6340000033378601,
          0.6320000290870667,
          0.6320000290870667,
          0.628000020980835,
          0.6330000162124634,
          0.6320000290870667,
          0.6320000290870667,
          0.6330000162124634,
          0.6309999823570251
         ],
         "xaxis": "x5",
         "y": [
          6.511000156402588,
          6.590000152587891,
          6.599999904632568,
          6.565000057220459,
          6.510000228881836,
          6.585999965667725,
          6.564000129699707,
          6.552999973297119,
          6.551000118255615,
          6.584000110626221,
          6.5920000076293945,
          6.520999908447266
         ],
         "yaxis": "y5"
        },
        {
         "hovertemplate": "Type=Remeasure Before Annealing<br>Notes=30min annealing in cassettes<br>Voc [V]=%{x}<br>Isc [A]=%{y}<extra></extra>",
         "legendgroup": "Remeasure Before Annealing",
         "marker": {
          "color": "orange",
          "size": 8,
          "symbol": "diamond"
         },
         "mode": "markers",
         "name": "Remeasure Before Annealing",
         "orientation": "v",
         "showlegend": false,
         "type": "scatter",
         "x": [
          0.6370000243186951,
          0.6330000162124634,
          0.6309999823570251,
          0.6320000290870667,
          0.6320000290870667,
          0.6330000162124634,
          0.6330000162124634,
          0.6320000290870667,
          0.6330000162124634,
          0.6320000290870667,
          0.6320000290870667,
          0.6320000290870667
         ],
         "xaxis": "x6",
         "y": [
          6.540999889373779,
          6.53000020980835,
          6.474999904632568,
          6.513000011444092,
          6.5320000648498535,
          6.728000164031982,
          6.708000183105469,
          6.716000080108643,
          6.703999996185303,
          6.64300012588501,
          6.664999961853027,
          6.734000205993652
         ],
         "yaxis": "y6"
        },
        {
         "hovertemplate": "Type=Remeasure Before Annealing<br>Notes=15min annealing in cassettes<br>Voc [V]=%{x}<br>Isc [A]=%{y}<extra></extra>",
         "legendgroup": "Remeasure Before Annealing",
         "marker": {
          "color": "orange",
          "size": 8,
          "symbol": "diamond"
         },
         "mode": "markers",
         "name": "Remeasure Before Annealing",
         "orientation": "v",
         "showlegend": false,
         "type": "scatter",
         "x": [
          0.6340000033378601,
          0.6330000162124634,
          0.6290000081062317,
          0.6330000162124634,
          0.6299999952316284,
          0.6320000290870667,
          0.6330000162124634,
          0.6320000290870667,
          0.6330000162124634,
          0.6340000033378601,
          0.6330000162124634,
          0.6340000033378601
         ],
         "xaxis": "x",
         "y": [
          6.7210001945495605,
          6.73799991607666,
          6.565999984741211,
          6.658999919891357,
          6.63100004196167,
          6.671000003814697,
          6.670000076293945,
          6.678999900817871,
          6.65500020980835,
          6.677999973297119,
          6.665999889373779,
          6.745999813079834
         ],
         "yaxis": "y"
        },
        {
         "hovertemplate": "Type=Remeasure Before Annealing<br>Notes=15min annealing in coinstack<br>Voc [V]=%{x}<br>Isc [A]=%{y}<extra></extra>",
         "legendgroup": "Remeasure Before Annealing",
         "marker": {
          "color": "orange",
          "size": 8,
          "symbol": "diamond"
         },
         "mode": "markers",
         "name": "Remeasure Before Annealing",
         "orientation": "v",
         "showlegend": false,
         "type": "scatter",
         "x": [
          0.6340000033378601,
          0.6290000081062317,
          0.6330000162124634,
          0.6320000290870667,
          0.6320000290870667,
          0.6330000162124634,
          0.6330000162124634,
          0.6320000290870667,
          0.6320000290870667,
          0.6330000162124634,
          0.6320000290870667,
          0.6330000162124634,
          0.6309999823570251,
          0.6299999952316284
         ],
         "xaxis": "x2",
         "y": [
          6.738999843597412,
          6.548999786376953,
          6.6570000648498535,
          6.611000061035156,
          6.611000061035156,
          6.632999897003174,
          6.6579999923706055,
          6.5879998207092285,
          6.627999782562256,
          6.640999794006348,
          6.620999813079834,
          6.644000053405762,
          6.571000099182129,
          6.517000198364258
         ],
         "yaxis": "y2"
        },
        {
         "hovertemplate": "Type=Remeasure After Annealing<br>Notes=2h annealing in cassettes<br>Voc [V]=%{x}<br>Isc [A]=%{y}<extra></extra>",
         "legendgroup": "Remeasure After Annealing",
         "marker": {
          "color": "green",
          "size": 8,
          "symbol": "cross"
         },
         "mode": "markers",
         "name": "Remeasure After Annealing",
         "orientation": "v",
         "showlegend": true,
         "type": "scatter",
         "x": [
          0.621999979019165,
          0.6290000081062317,
          0.628000020980835,
          0.6290000081062317,
          0.628000020980835,
          0.6290000081062317,
          0.6299999952316284,
          0.6309999823570251,
          0.6299999952316284,
          0.6309999823570251,
          0.6330000162124634,
          0.6340000033378601
         ],
         "xaxis": "x4",
         "y": [
          6.36299991607666,
          6.468999862670898,
          6.419000148773193,
          6.495999813079834,
          6.445000171661377,
          6.452000141143799,
          6.514999866485596,
          6.501999855041504,
          6.501999855041504,
          6.4730000495910645,
          6.514999866485596,
          6.514999866485596
         ],
         "yaxis": "y4"
        },
        {
         "hovertemplate": "Type=Remeasure After Annealing<br>Notes=1h annealing in cassettes <br>Voc [V]=%{x}<br>Isc [A]=%{y}<extra></extra>",
         "legendgroup": "Remeasure After Annealing",
         "marker": {
          "color": "green",
          "size": 8,
          "symbol": "cross"
         },
         "mode": "markers",
         "name": "Remeasure After Annealing",
         "orientation": "v",
         "showlegend": false,
         "type": "scatter",
         "x": [
          0.6290000081062317,
          0.6309999823570251,
          0.6330000162124634,
          0.6320000290870667,
          0.6320000290870667,
          0.6330000162124634,
          0.6309999823570251,
          0.6340000033378601,
          0.6330000162124634,
          0.6340000033378601,
          0.6349999904632568,
          0.6340000033378601
         ],
         "xaxis": "x5",
         "y": [
          6.515999794006348,
          6.564000129699707,
          6.579999923706055,
          6.561999797821045,
          6.513999938964844,
          6.520999908447266,
          6.52400016784668,
          6.514999866485596,
          6.504000186920166,
          6.513999938964844,
          6.51800012588501,
          6.440000057220459
         ],
         "yaxis": "y5"
        },
        {
         "hovertemplate": "Type=Remeasure After Annealing<br>Notes=30min annealing in cassettes<br>Voc [V]=%{x}<br>Isc [A]=%{y}<extra></extra>",
         "legendgroup": "Remeasure After Annealing",
         "marker": {
          "color": "green",
          "size": 8,
          "symbol": "cross"
         },
         "mode": "markers",
         "name": "Remeasure After Annealing",
         "orientation": "v",
         "showlegend": false,
         "type": "scatter",
         "x": [
          0.6370000243186951,
          0.6349999904632568,
          0.6230000257492065,
          0.6359999775886536,
          0.6359999775886536,
          0.6380000114440918,
          0.6399999856948853,
          0.6399999856948853,
          0.6389999985694885,
          0.6389999985694885,
          0.6399999856948853,
          0.6420000195503235
         ],
         "xaxis": "x6",
         "y": [
          6.48199987411499,
          6.498000144958496,
          6.4710001945495605,
          6.50600004196167,
          6.550000190734863,
          6.684000015258789,
          6.669000148773193,
          6.695000171661377,
          6.626999855041504,
          6.5920000076293945,
          6.639999866485596,
          6.684000015258789
         ],
         "yaxis": "y6"
        },
        {
         "hovertemplate": "Type=Remeasure After Annealing<br>Notes=15min annealing in cassettes<br>Voc [V]=%{x}<br>Isc [A]=%{y}<extra></extra>",
         "legendgroup": "Remeasure After Annealing",
         "marker": {
          "color": "green",
          "size": 8,
          "symbol": "cross"
         },
         "mode": "markers",
         "name": "Remeasure After Annealing",
         "orientation": "v",
         "showlegend": false,
         "type": "scatter",
         "x": [
          0.6380000114440918,
          0.6399999856948853,
          0.6349999904632568,
          0.6380000114440918,
          0.6370000243186951,
          0.6380000114440918,
          0.6380000114440918,
          0.6389999985694885,
          0.6399999856948853,
          0.6370000243186951,
          0.6389999985694885,
          0.640999972820282
         ],
         "xaxis": "x",
         "y": [
          6.664999961853027,
          6.738999843597412,
          6.565000057220459,
          6.6539998054504395,
          6.633999824523926,
          6.663000106811523,
          6.664000034332275,
          6.686999797821045,
          6.677999973297119,
          6.664000034332275,
          6.6539998054504395,
          6.701000213623047
         ],
         "yaxis": "y"
        },
        {
         "hovertemplate": "Type=Remeasure After Annealing<br>Notes=15min annealing in coinstack<br>Voc [V]=%{x}<br>Isc [A]=%{y}<extra></extra>",
         "legendgroup": "Remeasure After Annealing",
         "marker": {
          "color": "green",
          "size": 8,
          "symbol": "cross"
         },
         "mode": "markers",
         "name": "Remeasure After Annealing",
         "orientation": "v",
         "showlegend": false,
         "type": "scatter",
         "x": [
          0.628000020980835,
          0.628000020980835,
          0.6320000290870667,
          0.6269999742507935,
          0.625,
          0.628000020980835,
          0.6299999952316284,
          0.6309999823570251,
          0.6259999871253967,
          0.628000020980835,
          0.6299999952316284,
          0.6269999742507935,
          0.6269999742507935,
          0.6330000162124634
         ],
         "xaxis": "x2",
         "y": [
          6.672999858856201,
          6.585999965667725,
          6.703999996185303,
          6.651000022888184,
          6.609000205993652,
          6.663000106811523,
          6.706999778747559,
          6.671000003814697,
          6.627999782562256,
          6.638000011444092,
          6.6539998054504395,
          6.675000190734863,
          6.635000228881836,
          6.51800012588501
         ],
         "yaxis": "y2"
        }
       ],
       "layout": {
        "annotations": [
         {
          "font": {},
          "showarrow": false,
          "text": "Notes=15min annealing in cassettes",
          "x": 0.15999999999999998,
          "xanchor": "center",
          "xref": "paper",
          "y": 0.46499999999999997,
          "yanchor": "bottom",
          "yref": "paper"
         },
         {
          "font": {},
          "showarrow": false,
          "text": "Notes=15min annealing in coinstack",
          "x": 0.49999999999999994,
          "xanchor": "center",
          "xref": "paper",
          "y": 0.46499999999999997,
          "yanchor": "bottom",
          "yref": "paper"
         },
         {
          "font": {},
          "showarrow": false,
          "text": "Notes=2h annealing in cassettes",
          "x": 0.15999999999999998,
          "xanchor": "center",
          "xref": "paper",
          "y": 0.9999999999999999,
          "yanchor": "bottom",
          "yref": "paper"
         },
         {
          "font": {},
          "showarrow": false,
          "text": "Notes=1h annealing in cassettes ",
          "x": 0.49999999999999994,
          "xanchor": "center",
          "xref": "paper",
          "y": 0.9999999999999999,
          "yanchor": "bottom",
          "yref": "paper"
         },
         {
          "font": {},
          "showarrow": false,
          "text": "Notes=30min annealing in cassettes",
          "x": 0.8399999999999999,
          "xanchor": "center",
          "xref": "paper",
          "y": 0.9999999999999999,
          "yanchor": "bottom",
          "yref": "paper"
         }
        ],
        "legend": {
         "title": {
          "text": "Type"
         },
         "tracegroupgap": 0,
         "x": 0.7,
         "y": 0.05
        },
        "margin": {
         "t": 60
        },
        "template": {
         "data": {
          "bar": [
           {
            "error_x": {
             "color": "#2a3f5f"
            },
            "error_y": {
             "color": "#2a3f5f"
            },
            "marker": {
             "line": {
              "color": "#E5ECF6",
              "width": 0.5
             },
             "pattern": {
              "fillmode": "overlay",
              "size": 10,
              "solidity": 0.2
             }
            },
            "type": "bar"
           }
          ],
          "barpolar": [
           {
            "marker": {
             "line": {
              "color": "#E5ECF6",
              "width": 0.5
             },
             "pattern": {
              "fillmode": "overlay",
              "size": 10,
              "solidity": 0.2
             }
            },
            "type": "barpolar"
           }
          ],
          "carpet": [
           {
            "aaxis": {
             "endlinecolor": "#2a3f5f",
             "gridcolor": "white",
             "linecolor": "white",
             "minorgridcolor": "white",
             "startlinecolor": "#2a3f5f"
            },
            "baxis": {
             "endlinecolor": "#2a3f5f",
             "gridcolor": "white",
             "linecolor": "white",
             "minorgridcolor": "white",
             "startlinecolor": "#2a3f5f"
            },
            "type": "carpet"
           }
          ],
          "choropleth": [
           {
            "colorbar": {
             "outlinewidth": 0,
             "ticks": ""
            },
            "type": "choropleth"
           }
          ],
          "contour": [
           {
            "colorbar": {
             "outlinewidth": 0,
             "ticks": ""
            },
            "colorscale": [
             [
              0,
              "#0d0887"
             ],
             [
              0.1111111111111111,
              "#46039f"
             ],
             [
              0.2222222222222222,
              "#7201a8"
             ],
             [
              0.3333333333333333,
              "#9c179e"
             ],
             [
              0.4444444444444444,
              "#bd3786"
             ],
             [
              0.5555555555555556,
              "#d8576b"
             ],
             [
              0.6666666666666666,
              "#ed7953"
             ],
             [
              0.7777777777777778,
              "#fb9f3a"
             ],
             [
              0.8888888888888888,
              "#fdca26"
             ],
             [
              1,
              "#f0f921"
             ]
            ],
            "type": "contour"
           }
          ],
          "contourcarpet": [
           {
            "colorbar": {
             "outlinewidth": 0,
             "ticks": ""
            },
            "type": "contourcarpet"
           }
          ],
          "heatmap": [
           {
            "colorbar": {
             "outlinewidth": 0,
             "ticks": ""
            },
            "colorscale": [
             [
              0,
              "#0d0887"
             ],
             [
              0.1111111111111111,
              "#46039f"
             ],
             [
              0.2222222222222222,
              "#7201a8"
             ],
             [
              0.3333333333333333,
              "#9c179e"
             ],
             [
              0.4444444444444444,
              "#bd3786"
             ],
             [
              0.5555555555555556,
              "#d8576b"
             ],
             [
              0.6666666666666666,
              "#ed7953"
             ],
             [
              0.7777777777777778,
              "#fb9f3a"
             ],
             [
              0.8888888888888888,
              "#fdca26"
             ],
             [
              1,
              "#f0f921"
             ]
            ],
            "type": "heatmap"
           }
          ],
          "heatmapgl": [
           {
            "colorbar": {
             "outlinewidth": 0,
             "ticks": ""
            },
            "colorscale": [
             [
              0,
              "#0d0887"
             ],
             [
              0.1111111111111111,
              "#46039f"
             ],
             [
              0.2222222222222222,
              "#7201a8"
             ],
             [
              0.3333333333333333,
              "#9c179e"
             ],
             [
              0.4444444444444444,
              "#bd3786"
             ],
             [
              0.5555555555555556,
              "#d8576b"
             ],
             [
              0.6666666666666666,
              "#ed7953"
             ],
             [
              0.7777777777777778,
              "#fb9f3a"
             ],
             [
              0.8888888888888888,
              "#fdca26"
             ],
             [
              1,
              "#f0f921"
             ]
            ],
            "type": "heatmapgl"
           }
          ],
          "histogram": [
           {
            "marker": {
             "pattern": {
              "fillmode": "overlay",
              "size": 10,
              "solidity": 0.2
             }
            },
            "type": "histogram"
           }
          ],
          "histogram2d": [
           {
            "colorbar": {
             "outlinewidth": 0,
             "ticks": ""
            },
            "colorscale": [
             [
              0,
              "#0d0887"
             ],
             [
              0.1111111111111111,
              "#46039f"
             ],
             [
              0.2222222222222222,
              "#7201a8"
             ],
             [
              0.3333333333333333,
              "#9c179e"
             ],
             [
              0.4444444444444444,
              "#bd3786"
             ],
             [
              0.5555555555555556,
              "#d8576b"
             ],
             [
              0.6666666666666666,
              "#ed7953"
             ],
             [
              0.7777777777777778,
              "#fb9f3a"
             ],
             [
              0.8888888888888888,
              "#fdca26"
             ],
             [
              1,
              "#f0f921"
             ]
            ],
            "type": "histogram2d"
           }
          ],
          "histogram2dcontour": [
           {
            "colorbar": {
             "outlinewidth": 0,
             "ticks": ""
            },
            "colorscale": [
             [
              0,
              "#0d0887"
             ],
             [
              0.1111111111111111,
              "#46039f"
             ],
             [
              0.2222222222222222,
              "#7201a8"
             ],
             [
              0.3333333333333333,
              "#9c179e"
             ],
             [
              0.4444444444444444,
              "#bd3786"
             ],
             [
              0.5555555555555556,
              "#d8576b"
             ],
             [
              0.6666666666666666,
              "#ed7953"
             ],
             [
              0.7777777777777778,
              "#fb9f3a"
             ],
             [
              0.8888888888888888,
              "#fdca26"
             ],
             [
              1,
              "#f0f921"
             ]
            ],
            "type": "histogram2dcontour"
           }
          ],
          "mesh3d": [
           {
            "colorbar": {
             "outlinewidth": 0,
             "ticks": ""
            },
            "type": "mesh3d"
           }
          ],
          "parcoords": [
           {
            "line": {
             "colorbar": {
              "outlinewidth": 0,
              "ticks": ""
             }
            },
            "type": "parcoords"
           }
          ],
          "pie": [
           {
            "automargin": true,
            "type": "pie"
           }
          ],
          "scatter": [
           {
            "fillpattern": {
             "fillmode": "overlay",
             "size": 10,
             "solidity": 0.2
            },
            "type": "scatter"
           }
          ],
          "scatter3d": [
           {
            "line": {
             "colorbar": {
              "outlinewidth": 0,
              "ticks": ""
             }
            },
            "marker": {
             "colorbar": {
              "outlinewidth": 0,
              "ticks": ""
             }
            },
            "type": "scatter3d"
           }
          ],
          "scattercarpet": [
           {
            "marker": {
             "colorbar": {
              "outlinewidth": 0,
              "ticks": ""
             }
            },
            "type": "scattercarpet"
           }
          ],
          "scattergeo": [
           {
            "marker": {
             "colorbar": {
              "outlinewidth": 0,
              "ticks": ""
             }
            },
            "type": "scattergeo"
           }
          ],
          "scattergl": [
           {
            "marker": {
             "colorbar": {
              "outlinewidth": 0,
              "ticks": ""
             }
            },
            "type": "scattergl"
           }
          ],
          "scattermapbox": [
           {
            "marker": {
             "colorbar": {
              "outlinewidth": 0,
              "ticks": ""
             }
            },
            "type": "scattermapbox"
           }
          ],
          "scatterpolar": [
           {
            "marker": {
             "colorbar": {
              "outlinewidth": 0,
              "ticks": ""
             }
            },
            "type": "scatterpolar"
           }
          ],
          "scatterpolargl": [
           {
            "marker": {
             "colorbar": {
              "outlinewidth": 0,
              "ticks": ""
             }
            },
            "type": "scatterpolargl"
           }
          ],
          "scatterternary": [
           {
            "marker": {
             "colorbar": {
              "outlinewidth": 0,
              "ticks": ""
             }
            },
            "type": "scatterternary"
           }
          ],
          "surface": [
           {
            "colorbar": {
             "outlinewidth": 0,
             "ticks": ""
            },
            "colorscale": [
             [
              0,
              "#0d0887"
             ],
             [
              0.1111111111111111,
              "#46039f"
             ],
             [
              0.2222222222222222,
              "#7201a8"
             ],
             [
              0.3333333333333333,
              "#9c179e"
             ],
             [
              0.4444444444444444,
              "#bd3786"
             ],
             [
              0.5555555555555556,
              "#d8576b"
             ],
             [
              0.6666666666666666,
              "#ed7953"
             ],
             [
              0.7777777777777778,
              "#fb9f3a"
             ],
             [
              0.8888888888888888,
              "#fdca26"
             ],
             [
              1,
              "#f0f921"
             ]
            ],
            "type": "surface"
           }
          ],
          "table": [
           {
            "cells": {
             "fill": {
              "color": "#EBF0F8"
             },
             "line": {
              "color": "white"
             }
            },
            "header": {
             "fill": {
              "color": "#C8D4E3"
             },
             "line": {
              "color": "white"
             }
            },
            "type": "table"
           }
          ]
         },
         "layout": {
          "annotationdefaults": {
           "arrowcolor": "#2a3f5f",
           "arrowhead": 0,
           "arrowwidth": 1
          },
          "autotypenumbers": "strict",
          "coloraxis": {
           "colorbar": {
            "outlinewidth": 0,
            "ticks": ""
           }
          },
          "colorscale": {
           "diverging": [
            [
             0,
             "#8e0152"
            ],
            [
             0.1,
             "#c51b7d"
            ],
            [
             0.2,
             "#de77ae"
            ],
            [
             0.3,
             "#f1b6da"
            ],
            [
             0.4,
             "#fde0ef"
            ],
            [
             0.5,
             "#f7f7f7"
            ],
            [
             0.6,
             "#e6f5d0"
            ],
            [
             0.7,
             "#b8e186"
            ],
            [
             0.8,
             "#7fbc41"
            ],
            [
             0.9,
             "#4d9221"
            ],
            [
             1,
             "#276419"
            ]
           ],
           "sequential": [
            [
             0,
             "#0d0887"
            ],
            [
             0.1111111111111111,
             "#46039f"
            ],
            [
             0.2222222222222222,
             "#7201a8"
            ],
            [
             0.3333333333333333,
             "#9c179e"
            ],
            [
             0.4444444444444444,
             "#bd3786"
            ],
            [
             0.5555555555555556,
             "#d8576b"
            ],
            [
             0.6666666666666666,
             "#ed7953"
            ],
            [
             0.7777777777777778,
             "#fb9f3a"
            ],
            [
             0.8888888888888888,
             "#fdca26"
            ],
            [
             1,
             "#f0f921"
            ]
           ],
           "sequentialminus": [
            [
             0,
             "#0d0887"
            ],
            [
             0.1111111111111111,
             "#46039f"
            ],
            [
             0.2222222222222222,
             "#7201a8"
            ],
            [
             0.3333333333333333,
             "#9c179e"
            ],
            [
             0.4444444444444444,
             "#bd3786"
            ],
            [
             0.5555555555555556,
             "#d8576b"
            ],
            [
             0.6666666666666666,
             "#ed7953"
            ],
            [
             0.7777777777777778,
             "#fb9f3a"
            ],
            [
             0.8888888888888888,
             "#fdca26"
            ],
            [
             1,
             "#f0f921"
            ]
           ]
          },
          "colorway": [
           "#636efa",
           "#EF553B",
           "#00cc96",
           "#ab63fa",
           "#FFA15A",
           "#19d3f3",
           "#FF6692",
           "#B6E880",
           "#FF97FF",
           "#FECB52"
          ],
          "font": {
           "color": "#2a3f5f"
          },
          "geo": {
           "bgcolor": "white",
           "lakecolor": "white",
           "landcolor": "#E5ECF6",
           "showlakes": true,
           "showland": true,
           "subunitcolor": "white"
          },
          "hoverlabel": {
           "align": "left"
          },
          "hovermode": "closest",
          "mapbox": {
           "style": "light"
          },
          "paper_bgcolor": "white",
          "plot_bgcolor": "#E5ECF6",
          "polar": {
           "angularaxis": {
            "gridcolor": "white",
            "linecolor": "white",
            "ticks": ""
           },
           "bgcolor": "#E5ECF6",
           "radialaxis": {
            "gridcolor": "white",
            "linecolor": "white",
            "ticks": ""
           }
          },
          "scene": {
           "xaxis": {
            "backgroundcolor": "#E5ECF6",
            "gridcolor": "white",
            "gridwidth": 2,
            "linecolor": "white",
            "showbackground": true,
            "ticks": "",
            "zerolinecolor": "white"
           },
           "yaxis": {
            "backgroundcolor": "#E5ECF6",
            "gridcolor": "white",
            "gridwidth": 2,
            "linecolor": "white",
            "showbackground": true,
            "ticks": "",
            "zerolinecolor": "white"
           },
           "zaxis": {
            "backgroundcolor": "#E5ECF6",
            "gridcolor": "white",
            "gridwidth": 2,
            "linecolor": "white",
            "showbackground": true,
            "ticks": "",
            "zerolinecolor": "white"
           }
          },
          "shapedefaults": {
           "line": {
            "color": "#2a3f5f"
           }
          },
          "ternary": {
           "aaxis": {
            "gridcolor": "white",
            "linecolor": "white",
            "ticks": ""
           },
           "baxis": {
            "gridcolor": "white",
            "linecolor": "white",
            "ticks": ""
           },
           "bgcolor": "#E5ECF6",
           "caxis": {
            "gridcolor": "white",
            "linecolor": "white",
            "ticks": ""
           }
          },
          "title": {
           "x": 0.05
          },
          "xaxis": {
           "automargin": true,
           "gridcolor": "white",
           "linecolor": "white",
           "ticks": "",
           "title": {
            "standoff": 15
           },
           "zerolinecolor": "white",
           "zerolinewidth": 2
          },
          "yaxis": {
           "automargin": true,
           "gridcolor": "white",
           "linecolor": "white",
           "ticks": "",
           "title": {
            "standoff": 15
           },
           "zerolinecolor": "white",
           "zerolinewidth": 2
          }
         }
        },
        "title": {
         "text": "(I,V) performance between 5 annealing tests"
        },
        "xaxis": {
         "anchor": "y",
         "domain": [
          0,
          0.31999999999999995
         ],
         "title": {
          "text": "Voc [V]"
         }
        },
        "xaxis2": {
         "anchor": "y2",
         "domain": [
          0.33999999999999997,
          0.6599999999999999
         ],
         "matches": "x",
         "title": {
          "text": "Voc [V]"
         }
        },
        "xaxis3": {
         "anchor": "y3",
         "domain": [
          0.6799999999999999,
          0.9999999999999999
         ],
         "matches": "x",
         "title": {
          "text": "Voc [V]"
         }
        },
        "xaxis4": {
         "anchor": "y4",
         "domain": [
          0,
          0.31999999999999995
         ],
         "matches": "x",
         "showticklabels": false
        },
        "xaxis5": {
         "anchor": "y5",
         "domain": [
          0.33999999999999997,
          0.6599999999999999
         ],
         "matches": "x",
         "showticklabels": false
        },
        "xaxis6": {
         "anchor": "y6",
         "domain": [
          0.6799999999999999,
          0.9999999999999999
         ],
         "matches": "x",
         "showticklabels": false
        },
        "yaxis": {
         "anchor": "x",
         "domain": [
          0,
          0.46499999999999997
         ],
         "title": {
          "text": "Isc [A]"
         }
        },
        "yaxis2": {
         "anchor": "x2",
         "domain": [
          0,
          0.46499999999999997
         ],
         "matches": "y",
         "showticklabels": false
        },
        "yaxis3": {
         "anchor": "x3",
         "domain": [
          0,
          0.46499999999999997
         ],
         "matches": "y",
         "showticklabels": false
        },
        "yaxis4": {
         "anchor": "x4",
         "domain": [
          0.5349999999999999,
          0.9999999999999999
         ],
         "matches": "y",
         "title": {
          "text": "Isc [A]"
         }
        },
        "yaxis5": {
         "anchor": "x5",
         "domain": [
          0.5349999999999999,
          0.9999999999999999
         ],
         "matches": "y",
         "showticklabels": false
        },
        "yaxis6": {
         "anchor": "x6",
         "domain": [
          0.5349999999999999,
          0.9999999999999999
         ],
         "matches": "y",
         "showticklabels": false
        }
       }
      },
      "text/html": [
       "<div>                            <div id=\"efb6fc35-41c4-4162-b4d3-ac25a8717ce0\" class=\"plotly-graph-div\" style=\"height:525px; width:100%;\"></div>            <script type=\"text/javascript\">                require([\"plotly\"], function(Plotly) {                    window.PLOTLYENV=window.PLOTLYENV || {};                                    if (document.getElementById(\"efb6fc35-41c4-4162-b4d3-ac25a8717ce0\")) {                    Plotly.newPlot(                        \"efb6fc35-41c4-4162-b4d3-ac25a8717ce0\",                        [{\"hovertemplate\":\"Type=Original Measurements<br>Notes=2h annealing in cassettes<br>Voc [V]=%{x}<br>Isc [A]=%{y}<extra></extra>\",\"legendgroup\":\"Original Measurements\",\"marker\":{\"color\":\"blue\",\"symbol\":\"circle\",\"size\":8},\"mode\":\"markers\",\"name\":\"Original Measurements\",\"orientation\":\"v\",\"showlegend\":true,\"x\":[0.6330000162124634,0.640999972820282,0.6389999985694885,0.6370000243186951,0.6359999775886536,0.6380000114440918,0.6389999985694885,0.6380000114440918,0.6380000114440918,0.6389999985694885,0.6420000195503235,0.640999972820282],\"xaxis\":\"x4\",\"y\":[6.4679999351501465,6.484000205993652,6.421000003814697,6.534999847412109,6.479000091552734,6.514999866485596,6.533999919891357,6.51200008392334,6.4710001945495605,6.502999782562256,6.488999843597412,6.544000148773193],\"yaxis\":\"y4\",\"type\":\"scatter\"},{\"hovertemplate\":\"Type=Original Measurements<br>Notes=1h annealing in cassettes <br>Voc [V]=%{x}<br>Isc [A]=%{y}<extra></extra>\",\"legendgroup\":\"Original Measurements\",\"marker\":{\"color\":\"blue\",\"symbol\":\"circle\",\"size\":8},\"mode\":\"markers\",\"name\":\"Original Measurements\",\"orientation\":\"v\",\"showlegend\":false,\"x\":[0.6370000243186951,0.6380000114440918,0.6389999985694885,0.640999972820282,0.6389999985694885,0.6330000162124634,0.6380000114440918,0.6399999856948853,0.6389999985694885,0.6370000243186951,0.6389999985694885,0.6349999904632568],\"xaxis\":\"x5\",\"y\":[6.479000091552734,6.5879998207092285,6.578000068664551,6.51800012588501,6.449999809265137,6.533999919891357,6.5279998779296875,6.514999866485596,6.494999885559082,6.545000076293945,6.504000186920166,6.4710001945495605],\"yaxis\":\"y5\",\"type\":\"scatter\"},{\"hovertemplate\":\"Type=Original Measurements<br>Notes=30min annealing in cassettes<br>Voc [V]=%{x}<br>Isc [A]=%{y}<extra></extra>\",\"legendgroup\":\"Original Measurements\",\"marker\":{\"color\":\"blue\",\"symbol\":\"circle\",\"size\":8},\"mode\":\"markers\",\"name\":\"Original Measurements\",\"orientation\":\"v\",\"showlegend\":false,\"x\":[0.6399999856948853,0.6370000243186951,0.6370000243186951,0.6389999985694885,0.6370000243186951,0.6370000243186951,0.6380000114440918,0.6370000243186951,0.6340000033378601,0.6370000243186951,0.6399999856948853,0.6340000033378601],\"xaxis\":\"x6\",\"y\":[6.479000091552734,6.442999839782715,6.39900016784668,6.388999938964844,6.427999973297119,6.708000183105469,6.710999965667725,6.742000102996826,6.677000045776367,6.614999771118164,6.664999961853027,6.718999862670898],\"yaxis\":\"y6\",\"type\":\"scatter\"},{\"hovertemplate\":\"Type=Original Measurements<br>Notes=15min annealing in cassettes<br>Voc [V]=%{x}<br>Isc [A]=%{y}<extra></extra>\",\"legendgroup\":\"Original Measurements\",\"marker\":{\"color\":\"blue\",\"symbol\":\"circle\",\"size\":8},\"mode\":\"markers\",\"name\":\"Original Measurements\",\"orientation\":\"v\",\"showlegend\":false,\"x\":[0.640999972820282,0.6349999904632568,0.6340000033378601,0.6399999856948853,0.6330000162124634,0.6370000243186951,0.6380000114440918,0.6340000033378601,0.640999972820282,0.6389999985694885,0.6399999856948853,0.6320000290870667],\"xaxis\":\"x\",\"y\":[6.703000068664551,6.734000205993652,6.580999851226807,6.6570000648498535,6.624000072479248,6.630000114440918,6.620999813079834,6.660999774932861,6.671999931335449,6.644000053405762,6.624000072479248,6.671000003814697],\"yaxis\":\"y\",\"type\":\"scatter\"},{\"hovertemplate\":\"Type=Original Measurements<br>Notes=15min annealing in coinstack<br>Voc [V]=%{x}<br>Isc [A]=%{y}<extra></extra>\",\"legendgroup\":\"Original Measurements\",\"marker\":{\"color\":\"blue\",\"symbol\":\"circle\",\"size\":8},\"mode\":\"markers\",\"name\":\"Original Measurements\",\"orientation\":\"v\",\"showlegend\":false,\"x\":[0.6349999904632568,0.6340000033378601,0.6330000162124634,0.6359999775886536,0.6380000114440918,0.6389999985694885,0.6399999856948853,0.6399999856948853,0.6340000033378601,0.6349999904632568,0.6330000162124634,0.6399999856948853,0.6370000243186951,0.6380000114440918],\"xaxis\":\"x2\",\"y\":[6.697999954223633,6.501999855041504,6.659999847412109,6.627999782562256,6.5929999351501465,6.6020002365112305,6.611999988555908,6.573999881744385,6.605999946594238,6.5970001220703125,6.561999797821045,6.599999904632568,6.565999984741211,6.514999866485596],\"yaxis\":\"y2\",\"type\":\"scatter\"},{\"hovertemplate\":\"Type=Remeasure Before Annealing<br>Notes=2h annealing in cassettes<br>Voc [V]=%{x}<br>Isc [A]=%{y}<extra></extra>\",\"legendgroup\":\"Remeasure Before Annealing\",\"marker\":{\"color\":\"orange\",\"symbol\":\"diamond\",\"size\":8},\"mode\":\"markers\",\"name\":\"Remeasure Before Annealing\",\"orientation\":\"v\",\"showlegend\":true,\"x\":[0.640999972820282,0.6380000114440918,0.6359999775886536,0.6340000033378601,0.6320000290870667,0.6330000162124634,0.6330000162124634,0.6320000290870667,0.6320000290870667,0.6330000162124634,0.6320000290870667,0.6330000162124634],\"xaxis\":\"x4\",\"y\":[6.5279998779296875,6.5,6.498000144958496,6.572999954223633,6.539999961853027,6.546999931335449,6.554999828338623,6.541999816894531,6.525000095367432,6.531000137329102,6.526000022888184,6.559999942779541],\"yaxis\":\"y4\",\"type\":\"scatter\"},{\"hovertemplate\":\"Type=Remeasure Before Annealing<br>Notes=1h annealing in cassettes <br>Voc [V]=%{x}<br>Isc [A]=%{y}<extra></extra>\",\"legendgroup\":\"Remeasure Before Annealing\",\"marker\":{\"color\":\"orange\",\"symbol\":\"diamond\",\"size\":8},\"mode\":\"markers\",\"name\":\"Remeasure Before Annealing\",\"orientation\":\"v\",\"showlegend\":false,\"x\":[0.6309999823570251,0.6309999823570251,0.6320000290870667,0.6340000033378601,0.6320000290870667,0.6320000290870667,0.628000020980835,0.6330000162124634,0.6320000290870667,0.6320000290870667,0.6330000162124634,0.6309999823570251],\"xaxis\":\"x5\",\"y\":[6.511000156402588,6.590000152587891,6.599999904632568,6.565000057220459,6.510000228881836,6.585999965667725,6.564000129699707,6.552999973297119,6.551000118255615,6.584000110626221,6.5920000076293945,6.520999908447266],\"yaxis\":\"y5\",\"type\":\"scatter\"},{\"hovertemplate\":\"Type=Remeasure Before Annealing<br>Notes=30min annealing in cassettes<br>Voc [V]=%{x}<br>Isc [A]=%{y}<extra></extra>\",\"legendgroup\":\"Remeasure Before Annealing\",\"marker\":{\"color\":\"orange\",\"symbol\":\"diamond\",\"size\":8},\"mode\":\"markers\",\"name\":\"Remeasure Before Annealing\",\"orientation\":\"v\",\"showlegend\":false,\"x\":[0.6370000243186951,0.6330000162124634,0.6309999823570251,0.6320000290870667,0.6320000290870667,0.6330000162124634,0.6330000162124634,0.6320000290870667,0.6330000162124634,0.6320000290870667,0.6320000290870667,0.6320000290870667],\"xaxis\":\"x6\",\"y\":[6.540999889373779,6.53000020980835,6.474999904632568,6.513000011444092,6.5320000648498535,6.728000164031982,6.708000183105469,6.716000080108643,6.703999996185303,6.64300012588501,6.664999961853027,6.734000205993652],\"yaxis\":\"y6\",\"type\":\"scatter\"},{\"hovertemplate\":\"Type=Remeasure Before Annealing<br>Notes=15min annealing in cassettes<br>Voc [V]=%{x}<br>Isc [A]=%{y}<extra></extra>\",\"legendgroup\":\"Remeasure Before Annealing\",\"marker\":{\"color\":\"orange\",\"symbol\":\"diamond\",\"size\":8},\"mode\":\"markers\",\"name\":\"Remeasure Before Annealing\",\"orientation\":\"v\",\"showlegend\":false,\"x\":[0.6340000033378601,0.6330000162124634,0.6290000081062317,0.6330000162124634,0.6299999952316284,0.6320000290870667,0.6330000162124634,0.6320000290870667,0.6330000162124634,0.6340000033378601,0.6330000162124634,0.6340000033378601],\"xaxis\":\"x\",\"y\":[6.7210001945495605,6.73799991607666,6.565999984741211,6.658999919891357,6.63100004196167,6.671000003814697,6.670000076293945,6.678999900817871,6.65500020980835,6.677999973297119,6.665999889373779,6.745999813079834],\"yaxis\":\"y\",\"type\":\"scatter\"},{\"hovertemplate\":\"Type=Remeasure Before Annealing<br>Notes=15min annealing in coinstack<br>Voc [V]=%{x}<br>Isc [A]=%{y}<extra></extra>\",\"legendgroup\":\"Remeasure Before Annealing\",\"marker\":{\"color\":\"orange\",\"symbol\":\"diamond\",\"size\":8},\"mode\":\"markers\",\"name\":\"Remeasure Before Annealing\",\"orientation\":\"v\",\"showlegend\":false,\"x\":[0.6340000033378601,0.6290000081062317,0.6330000162124634,0.6320000290870667,0.6320000290870667,0.6330000162124634,0.6330000162124634,0.6320000290870667,0.6320000290870667,0.6330000162124634,0.6320000290870667,0.6330000162124634,0.6309999823570251,0.6299999952316284],\"xaxis\":\"x2\",\"y\":[6.738999843597412,6.548999786376953,6.6570000648498535,6.611000061035156,6.611000061035156,6.632999897003174,6.6579999923706055,6.5879998207092285,6.627999782562256,6.640999794006348,6.620999813079834,6.644000053405762,6.571000099182129,6.517000198364258],\"yaxis\":\"y2\",\"type\":\"scatter\"},{\"hovertemplate\":\"Type=Remeasure After Annealing<br>Notes=2h annealing in cassettes<br>Voc [V]=%{x}<br>Isc [A]=%{y}<extra></extra>\",\"legendgroup\":\"Remeasure After Annealing\",\"marker\":{\"color\":\"green\",\"symbol\":\"cross\",\"size\":8},\"mode\":\"markers\",\"name\":\"Remeasure After Annealing\",\"orientation\":\"v\",\"showlegend\":true,\"x\":[0.621999979019165,0.6290000081062317,0.628000020980835,0.6290000081062317,0.628000020980835,0.6290000081062317,0.6299999952316284,0.6309999823570251,0.6299999952316284,0.6309999823570251,0.6330000162124634,0.6340000033378601],\"xaxis\":\"x4\",\"y\":[6.36299991607666,6.468999862670898,6.419000148773193,6.495999813079834,6.445000171661377,6.452000141143799,6.514999866485596,6.501999855041504,6.501999855041504,6.4730000495910645,6.514999866485596,6.514999866485596],\"yaxis\":\"y4\",\"type\":\"scatter\"},{\"hovertemplate\":\"Type=Remeasure After Annealing<br>Notes=1h annealing in cassettes <br>Voc [V]=%{x}<br>Isc [A]=%{y}<extra></extra>\",\"legendgroup\":\"Remeasure After Annealing\",\"marker\":{\"color\":\"green\",\"symbol\":\"cross\",\"size\":8},\"mode\":\"markers\",\"name\":\"Remeasure After Annealing\",\"orientation\":\"v\",\"showlegend\":false,\"x\":[0.6290000081062317,0.6309999823570251,0.6330000162124634,0.6320000290870667,0.6320000290870667,0.6330000162124634,0.6309999823570251,0.6340000033378601,0.6330000162124634,0.6340000033378601,0.6349999904632568,0.6340000033378601],\"xaxis\":\"x5\",\"y\":[6.515999794006348,6.564000129699707,6.579999923706055,6.561999797821045,6.513999938964844,6.520999908447266,6.52400016784668,6.514999866485596,6.504000186920166,6.513999938964844,6.51800012588501,6.440000057220459],\"yaxis\":\"y5\",\"type\":\"scatter\"},{\"hovertemplate\":\"Type=Remeasure After Annealing<br>Notes=30min annealing in cassettes<br>Voc [V]=%{x}<br>Isc [A]=%{y}<extra></extra>\",\"legendgroup\":\"Remeasure After Annealing\",\"marker\":{\"color\":\"green\",\"symbol\":\"cross\",\"size\":8},\"mode\":\"markers\",\"name\":\"Remeasure After Annealing\",\"orientation\":\"v\",\"showlegend\":false,\"x\":[0.6370000243186951,0.6349999904632568,0.6230000257492065,0.6359999775886536,0.6359999775886536,0.6380000114440918,0.6399999856948853,0.6399999856948853,0.6389999985694885,0.6389999985694885,0.6399999856948853,0.6420000195503235],\"xaxis\":\"x6\",\"y\":[6.48199987411499,6.498000144958496,6.4710001945495605,6.50600004196167,6.550000190734863,6.684000015258789,6.669000148773193,6.695000171661377,6.626999855041504,6.5920000076293945,6.639999866485596,6.684000015258789],\"yaxis\":\"y6\",\"type\":\"scatter\"},{\"hovertemplate\":\"Type=Remeasure After Annealing<br>Notes=15min annealing in cassettes<br>Voc [V]=%{x}<br>Isc [A]=%{y}<extra></extra>\",\"legendgroup\":\"Remeasure After Annealing\",\"marker\":{\"color\":\"green\",\"symbol\":\"cross\",\"size\":8},\"mode\":\"markers\",\"name\":\"Remeasure After Annealing\",\"orientation\":\"v\",\"showlegend\":false,\"x\":[0.6380000114440918,0.6399999856948853,0.6349999904632568,0.6380000114440918,0.6370000243186951,0.6380000114440918,0.6380000114440918,0.6389999985694885,0.6399999856948853,0.6370000243186951,0.6389999985694885,0.640999972820282],\"xaxis\":\"x\",\"y\":[6.664999961853027,6.738999843597412,6.565000057220459,6.6539998054504395,6.633999824523926,6.663000106811523,6.664000034332275,6.686999797821045,6.677999973297119,6.664000034332275,6.6539998054504395,6.701000213623047],\"yaxis\":\"y\",\"type\":\"scatter\"},{\"hovertemplate\":\"Type=Remeasure After Annealing<br>Notes=15min annealing in coinstack<br>Voc [V]=%{x}<br>Isc [A]=%{y}<extra></extra>\",\"legendgroup\":\"Remeasure After Annealing\",\"marker\":{\"color\":\"green\",\"symbol\":\"cross\",\"size\":8},\"mode\":\"markers\",\"name\":\"Remeasure After Annealing\",\"orientation\":\"v\",\"showlegend\":false,\"x\":[0.628000020980835,0.628000020980835,0.6320000290870667,0.6269999742507935,0.625,0.628000020980835,0.6299999952316284,0.6309999823570251,0.6259999871253967,0.628000020980835,0.6299999952316284,0.6269999742507935,0.6269999742507935,0.6330000162124634],\"xaxis\":\"x2\",\"y\":[6.672999858856201,6.585999965667725,6.703999996185303,6.651000022888184,6.609000205993652,6.663000106811523,6.706999778747559,6.671000003814697,6.627999782562256,6.638000011444092,6.6539998054504395,6.675000190734863,6.635000228881836,6.51800012588501],\"yaxis\":\"y2\",\"type\":\"scatter\"}],                        {\"template\":{\"data\":{\"histogram2dcontour\":[{\"type\":\"histogram2dcontour\",\"colorbar\":{\"outlinewidth\":0,\"ticks\":\"\"},\"colorscale\":[[0.0,\"#0d0887\"],[0.1111111111111111,\"#46039f\"],[0.2222222222222222,\"#7201a8\"],[0.3333333333333333,\"#9c179e\"],[0.4444444444444444,\"#bd3786\"],[0.5555555555555556,\"#d8576b\"],[0.6666666666666666,\"#ed7953\"],[0.7777777777777778,\"#fb9f3a\"],[0.8888888888888888,\"#fdca26\"],[1.0,\"#f0f921\"]]}],\"choropleth\":[{\"type\":\"choropleth\",\"colorbar\":{\"outlinewidth\":0,\"ticks\":\"\"}}],\"histogram2d\":[{\"type\":\"histogram2d\",\"colorbar\":{\"outlinewidth\":0,\"ticks\":\"\"},\"colorscale\":[[0.0,\"#0d0887\"],[0.1111111111111111,\"#46039f\"],[0.2222222222222222,\"#7201a8\"],[0.3333333333333333,\"#9c179e\"],[0.4444444444444444,\"#bd3786\"],[0.5555555555555556,\"#d8576b\"],[0.6666666666666666,\"#ed7953\"],[0.7777777777777778,\"#fb9f3a\"],[0.8888888888888888,\"#fdca26\"],[1.0,\"#f0f921\"]]}],\"heatmap\":[{\"type\":\"heatmap\",\"colorbar\":{\"outlinewidth\":0,\"ticks\":\"\"},\"colorscale\":[[0.0,\"#0d0887\"],[0.1111111111111111,\"#46039f\"],[0.2222222222222222,\"#7201a8\"],[0.3333333333333333,\"#9c179e\"],[0.4444444444444444,\"#bd3786\"],[0.5555555555555556,\"#d8576b\"],[0.6666666666666666,\"#ed7953\"],[0.7777777777777778,\"#fb9f3a\"],[0.8888888888888888,\"#fdca26\"],[1.0,\"#f0f921\"]]}],\"heatmapgl\":[{\"type\":\"heatmapgl\",\"colorbar\":{\"outlinewidth\":0,\"ticks\":\"\"},\"colorscale\":[[0.0,\"#0d0887\"],[0.1111111111111111,\"#46039f\"],[0.2222222222222222,\"#7201a8\"],[0.3333333333333333,\"#9c179e\"],[0.4444444444444444,\"#bd3786\"],[0.5555555555555556,\"#d8576b\"],[0.6666666666666666,\"#ed7953\"],[0.7777777777777778,\"#fb9f3a\"],[0.8888888888888888,\"#fdca26\"],[1.0,\"#f0f921\"]]}],\"contourcarpet\":[{\"type\":\"contourcarpet\",\"colorbar\":{\"outlinewidth\":0,\"ticks\":\"\"}}],\"contour\":[{\"type\":\"contour\",\"colorbar\":{\"outlinewidth\":0,\"ticks\":\"\"},\"colorscale\":[[0.0,\"#0d0887\"],[0.1111111111111111,\"#46039f\"],[0.2222222222222222,\"#7201a8\"],[0.3333333333333333,\"#9c179e\"],[0.4444444444444444,\"#bd3786\"],[0.5555555555555556,\"#d8576b\"],[0.6666666666666666,\"#ed7953\"],[0.7777777777777778,\"#fb9f3a\"],[0.8888888888888888,\"#fdca26\"],[1.0,\"#f0f921\"]]}],\"surface\":[{\"type\":\"surface\",\"colorbar\":{\"outlinewidth\":0,\"ticks\":\"\"},\"colorscale\":[[0.0,\"#0d0887\"],[0.1111111111111111,\"#46039f\"],[0.2222222222222222,\"#7201a8\"],[0.3333333333333333,\"#9c179e\"],[0.4444444444444444,\"#bd3786\"],[0.5555555555555556,\"#d8576b\"],[0.6666666666666666,\"#ed7953\"],[0.7777777777777778,\"#fb9f3a\"],[0.8888888888888888,\"#fdca26\"],[1.0,\"#f0f921\"]]}],\"mesh3d\":[{\"type\":\"mesh3d\",\"colorbar\":{\"outlinewidth\":0,\"ticks\":\"\"}}],\"scatter\":[{\"fillpattern\":{\"fillmode\":\"overlay\",\"size\":10,\"solidity\":0.2},\"type\":\"scatter\"}],\"parcoords\":[{\"type\":\"parcoords\",\"line\":{\"colorbar\":{\"outlinewidth\":0,\"ticks\":\"\"}}}],\"scatterpolargl\":[{\"type\":\"scatterpolargl\",\"marker\":{\"colorbar\":{\"outlinewidth\":0,\"ticks\":\"\"}}}],\"bar\":[{\"error_x\":{\"color\":\"#2a3f5f\"},\"error_y\":{\"color\":\"#2a3f5f\"},\"marker\":{\"line\":{\"color\":\"#E5ECF6\",\"width\":0.5},\"pattern\":{\"fillmode\":\"overlay\",\"size\":10,\"solidity\":0.2}},\"type\":\"bar\"}],\"scattergeo\":[{\"type\":\"scattergeo\",\"marker\":{\"colorbar\":{\"outlinewidth\":0,\"ticks\":\"\"}}}],\"scatterpolar\":[{\"type\":\"scatterpolar\",\"marker\":{\"colorbar\":{\"outlinewidth\":0,\"ticks\":\"\"}}}],\"histogram\":[{\"marker\":{\"pattern\":{\"fillmode\":\"overlay\",\"size\":10,\"solidity\":0.2}},\"type\":\"histogram\"}],\"scattergl\":[{\"type\":\"scattergl\",\"marker\":{\"colorbar\":{\"outlinewidth\":0,\"ticks\":\"\"}}}],\"scatter3d\":[{\"type\":\"scatter3d\",\"line\":{\"colorbar\":{\"outlinewidth\":0,\"ticks\":\"\"}},\"marker\":{\"colorbar\":{\"outlinewidth\":0,\"ticks\":\"\"}}}],\"scattermapbox\":[{\"type\":\"scattermapbox\",\"marker\":{\"colorbar\":{\"outlinewidth\":0,\"ticks\":\"\"}}}],\"scatterternary\":[{\"type\":\"scatterternary\",\"marker\":{\"colorbar\":{\"outlinewidth\":0,\"ticks\":\"\"}}}],\"scattercarpet\":[{\"type\":\"scattercarpet\",\"marker\":{\"colorbar\":{\"outlinewidth\":0,\"ticks\":\"\"}}}],\"carpet\":[{\"aaxis\":{\"endlinecolor\":\"#2a3f5f\",\"gridcolor\":\"white\",\"linecolor\":\"white\",\"minorgridcolor\":\"white\",\"startlinecolor\":\"#2a3f5f\"},\"baxis\":{\"endlinecolor\":\"#2a3f5f\",\"gridcolor\":\"white\",\"linecolor\":\"white\",\"minorgridcolor\":\"white\",\"startlinecolor\":\"#2a3f5f\"},\"type\":\"carpet\"}],\"table\":[{\"cells\":{\"fill\":{\"color\":\"#EBF0F8\"},\"line\":{\"color\":\"white\"}},\"header\":{\"fill\":{\"color\":\"#C8D4E3\"},\"line\":{\"color\":\"white\"}},\"type\":\"table\"}],\"barpolar\":[{\"marker\":{\"line\":{\"color\":\"#E5ECF6\",\"width\":0.5},\"pattern\":{\"fillmode\":\"overlay\",\"size\":10,\"solidity\":0.2}},\"type\":\"barpolar\"}],\"pie\":[{\"automargin\":true,\"type\":\"pie\"}]},\"layout\":{\"autotypenumbers\":\"strict\",\"colorway\":[\"#636efa\",\"#EF553B\",\"#00cc96\",\"#ab63fa\",\"#FFA15A\",\"#19d3f3\",\"#FF6692\",\"#B6E880\",\"#FF97FF\",\"#FECB52\"],\"font\":{\"color\":\"#2a3f5f\"},\"hovermode\":\"closest\",\"hoverlabel\":{\"align\":\"left\"},\"paper_bgcolor\":\"white\",\"plot_bgcolor\":\"#E5ECF6\",\"polar\":{\"bgcolor\":\"#E5ECF6\",\"angularaxis\":{\"gridcolor\":\"white\",\"linecolor\":\"white\",\"ticks\":\"\"},\"radialaxis\":{\"gridcolor\":\"white\",\"linecolor\":\"white\",\"ticks\":\"\"}},\"ternary\":{\"bgcolor\":\"#E5ECF6\",\"aaxis\":{\"gridcolor\":\"white\",\"linecolor\":\"white\",\"ticks\":\"\"},\"baxis\":{\"gridcolor\":\"white\",\"linecolor\":\"white\",\"ticks\":\"\"},\"caxis\":{\"gridcolor\":\"white\",\"linecolor\":\"white\",\"ticks\":\"\"}},\"coloraxis\":{\"colorbar\":{\"outlinewidth\":0,\"ticks\":\"\"}},\"colorscale\":{\"sequential\":[[0.0,\"#0d0887\"],[0.1111111111111111,\"#46039f\"],[0.2222222222222222,\"#7201a8\"],[0.3333333333333333,\"#9c179e\"],[0.4444444444444444,\"#bd3786\"],[0.5555555555555556,\"#d8576b\"],[0.6666666666666666,\"#ed7953\"],[0.7777777777777778,\"#fb9f3a\"],[0.8888888888888888,\"#fdca26\"],[1.0,\"#f0f921\"]],\"sequentialminus\":[[0.0,\"#0d0887\"],[0.1111111111111111,\"#46039f\"],[0.2222222222222222,\"#7201a8\"],[0.3333333333333333,\"#9c179e\"],[0.4444444444444444,\"#bd3786\"],[0.5555555555555556,\"#d8576b\"],[0.6666666666666666,\"#ed7953\"],[0.7777777777777778,\"#fb9f3a\"],[0.8888888888888888,\"#fdca26\"],[1.0,\"#f0f921\"]],\"diverging\":[[0,\"#8e0152\"],[0.1,\"#c51b7d\"],[0.2,\"#de77ae\"],[0.3,\"#f1b6da\"],[0.4,\"#fde0ef\"],[0.5,\"#f7f7f7\"],[0.6,\"#e6f5d0\"],[0.7,\"#b8e186\"],[0.8,\"#7fbc41\"],[0.9,\"#4d9221\"],[1,\"#276419\"]]},\"xaxis\":{\"gridcolor\":\"white\",\"linecolor\":\"white\",\"ticks\":\"\",\"title\":{\"standoff\":15},\"zerolinecolor\":\"white\",\"automargin\":true,\"zerolinewidth\":2},\"yaxis\":{\"gridcolor\":\"white\",\"linecolor\":\"white\",\"ticks\":\"\",\"title\":{\"standoff\":15},\"zerolinecolor\":\"white\",\"automargin\":true,\"zerolinewidth\":2},\"scene\":{\"xaxis\":{\"backgroundcolor\":\"#E5ECF6\",\"gridcolor\":\"white\",\"linecolor\":\"white\",\"showbackground\":true,\"ticks\":\"\",\"zerolinecolor\":\"white\",\"gridwidth\":2},\"yaxis\":{\"backgroundcolor\":\"#E5ECF6\",\"gridcolor\":\"white\",\"linecolor\":\"white\",\"showbackground\":true,\"ticks\":\"\",\"zerolinecolor\":\"white\",\"gridwidth\":2},\"zaxis\":{\"backgroundcolor\":\"#E5ECF6\",\"gridcolor\":\"white\",\"linecolor\":\"white\",\"showbackground\":true,\"ticks\":\"\",\"zerolinecolor\":\"white\",\"gridwidth\":2}},\"shapedefaults\":{\"line\":{\"color\":\"#2a3f5f\"}},\"annotationdefaults\":{\"arrowcolor\":\"#2a3f5f\",\"arrowhead\":0,\"arrowwidth\":1},\"geo\":{\"bgcolor\":\"white\",\"landcolor\":\"#E5ECF6\",\"subunitcolor\":\"white\",\"showland\":true,\"showlakes\":true,\"lakecolor\":\"white\"},\"title\":{\"x\":0.05},\"mapbox\":{\"style\":\"light\"}}},\"xaxis\":{\"anchor\":\"y\",\"domain\":[0.0,0.31999999999999995],\"title\":{\"text\":\"Voc [V]\"}},\"yaxis\":{\"anchor\":\"x\",\"domain\":[0.0,0.46499999999999997],\"title\":{\"text\":\"Isc [A]\"}},\"xaxis2\":{\"anchor\":\"y2\",\"domain\":[0.33999999999999997,0.6599999999999999],\"matches\":\"x\",\"title\":{\"text\":\"Voc [V]\"}},\"yaxis2\":{\"anchor\":\"x2\",\"domain\":[0.0,0.46499999999999997],\"matches\":\"y\",\"showticklabels\":false},\"xaxis3\":{\"anchor\":\"y3\",\"domain\":[0.6799999999999999,0.9999999999999999],\"matches\":\"x\",\"title\":{\"text\":\"Voc [V]\"}},\"yaxis3\":{\"anchor\":\"x3\",\"domain\":[0.0,0.46499999999999997],\"matches\":\"y\",\"showticklabels\":false},\"xaxis4\":{\"anchor\":\"y4\",\"domain\":[0.0,0.31999999999999995],\"matches\":\"x\",\"showticklabels\":false},\"yaxis4\":{\"anchor\":\"x4\",\"domain\":[0.5349999999999999,0.9999999999999999],\"matches\":\"y\",\"title\":{\"text\":\"Isc [A]\"}},\"xaxis5\":{\"anchor\":\"y5\",\"domain\":[0.33999999999999997,0.6599999999999999],\"matches\":\"x\",\"showticklabels\":false},\"yaxis5\":{\"anchor\":\"x5\",\"domain\":[0.5349999999999999,0.9999999999999999],\"matches\":\"y\",\"showticklabels\":false},\"xaxis6\":{\"anchor\":\"y6\",\"domain\":[0.6799999999999999,0.9999999999999999],\"matches\":\"x\",\"showticklabels\":false},\"yaxis6\":{\"anchor\":\"x6\",\"domain\":[0.5349999999999999,0.9999999999999999],\"matches\":\"y\",\"showticklabels\":false},\"annotations\":[{\"font\":{},\"showarrow\":false,\"text\":\"Notes=15min annealing in cassettes\",\"x\":0.15999999999999998,\"xanchor\":\"center\",\"xref\":\"paper\",\"y\":0.46499999999999997,\"yanchor\":\"bottom\",\"yref\":\"paper\"},{\"font\":{},\"showarrow\":false,\"text\":\"Notes=15min annealing in coinstack\",\"x\":0.49999999999999994,\"xanchor\":\"center\",\"xref\":\"paper\",\"y\":0.46499999999999997,\"yanchor\":\"bottom\",\"yref\":\"paper\"},{\"font\":{},\"showarrow\":false,\"text\":\"Notes=2h annealing in cassettes\",\"x\":0.15999999999999998,\"xanchor\":\"center\",\"xref\":\"paper\",\"y\":0.9999999999999999,\"yanchor\":\"bottom\",\"yref\":\"paper\"},{\"font\":{},\"showarrow\":false,\"text\":\"Notes=1h annealing in cassettes \",\"x\":0.49999999999999994,\"xanchor\":\"center\",\"xref\":\"paper\",\"y\":0.9999999999999999,\"yanchor\":\"bottom\",\"yref\":\"paper\"},{\"font\":{},\"showarrow\":false,\"text\":\"Notes=30min annealing in cassettes\",\"x\":0.8399999999999999,\"xanchor\":\"center\",\"xref\":\"paper\",\"y\":0.9999999999999999,\"yanchor\":\"bottom\",\"yref\":\"paper\"}],\"legend\":{\"title\":{\"text\":\"Type\"},\"tracegroupgap\":0,\"y\":0.05,\"x\":0.7},\"margin\":{\"t\":60},\"title\":{\"text\":\"(I,V) performance between 5 annealing tests\"}},                        {\"responsive\": true}                    ).then(function(){\n",
       "                            \n",
       "var gd = document.getElementById('efb6fc35-41c4-4162-b4d3-ac25a8717ce0');\n",
       "var x = new MutationObserver(function (mutations, observer) {{\n",
       "        var display = window.getComputedStyle(gd).display;\n",
       "        if (!display || display === 'none') {{\n",
       "            console.log([gd, 'removed!']);\n",
       "            Plotly.purge(gd);\n",
       "            observer.disconnect();\n",
       "        }}\n",
       "}});\n",
       "\n",
       "// Listen for the removal of the full notebook cells\n",
       "var notebookContainer = gd.closest('#notebook-container');\n",
       "if (notebookContainer) {{\n",
       "    x.observe(notebookContainer, {childList: true});\n",
       "}}\n",
       "\n",
       "// Listen for the clearing of the current output cell\n",
       "var outputEl = gd.closest('.output');\n",
       "if (outputEl) {{\n",
       "    x.observe(outputEl, {childList: true});\n",
       "}}\n",
       "\n",
       "                        })                };                });            </script>        </div>"
      ]
     },
     "metadata": {},
     "output_type": "display_data"
    }
   ],
   "source": [
    "fig_IV = px.scatter(Annealing_test, x=\"Voc [V]\", y=\"Isc [A]\", \n",
    "                 color=\"Type\", facet_col=\"Notes\",\n",
    "                 color_discrete_sequence = [\"blue\",\"orange\", \"green\"],\n",
    "                 symbol_sequence=[\"circle\",\"diamond\",\"cross\"],\n",
    "                symbol=\"Type\", facet_col_wrap=3)\n",
    "fig_IV.update_traces(marker_size=8)\n",
    "fig_IV.update_layout(title=\"(I,V) performance between 5 annealing tests\",\n",
    "                  legend=dict(y=0.05, x=0.7)\n",
    "                 )\n",
    "fig_IV.show()\n",
    "fig_IV.write_image(\"2.1 (I,V) performance between 5 annealing tests.png\", scale=3, width=900, height=600) "
   ]
  },
  {
   "cell_type": "code",
   "execution_count": 146,
   "id": "0680e795",
   "metadata": {},
   "outputs": [
    {
     "data": {
      "application/vnd.plotly.v1+json": {
       "config": {
        "plotlyServerURL": "https://plot.ly"
       },
       "data": [
        {
         "name": "Original measurments",
         "offsetgroup": "A",
         "type": "box",
         "x": [
          "2h annealing in cassettes",
          "2h annealing in cassettes",
          "2h annealing in cassettes",
          "2h annealing in cassettes",
          "2h annealing in cassettes",
          "2h annealing in cassettes",
          "2h annealing in cassettes",
          "2h annealing in cassettes",
          "2h annealing in cassettes",
          "2h annealing in cassettes",
          "2h annealing in cassettes",
          "2h annealing in cassettes",
          "1h annealing in cassettes ",
          "1h annealing in cassettes ",
          "1h annealing in cassettes ",
          "1h annealing in cassettes ",
          "1h annealing in cassettes ",
          "1h annealing in cassettes ",
          "1h annealing in cassettes ",
          "1h annealing in cassettes ",
          "1h annealing in cassettes ",
          "1h annealing in cassettes ",
          "1h annealing in cassettes ",
          "1h annealing in cassettes ",
          "30min annealing in cassettes",
          "30min annealing in cassettes",
          "30min annealing in cassettes",
          "30min annealing in cassettes",
          "30min annealing in cassettes",
          "30min annealing in cassettes",
          "30min annealing in cassettes",
          "30min annealing in cassettes",
          "30min annealing in cassettes",
          "30min annealing in cassettes",
          "30min annealing in cassettes",
          "30min annealing in cassettes",
          "15min annealing in cassettes",
          "15min annealing in cassettes",
          "15min annealing in cassettes",
          "15min annealing in cassettes",
          "15min annealing in cassettes",
          "15min annealing in cassettes",
          "15min annealing in cassettes",
          "15min annealing in cassettes",
          "15min annealing in cassettes",
          "15min annealing in cassettes",
          "15min annealing in cassettes",
          "15min annealing in cassettes",
          "15min annealing in coinstack",
          "15min annealing in coinstack",
          "15min annealing in coinstack",
          "15min annealing in coinstack",
          "15min annealing in coinstack",
          "15min annealing in coinstack",
          "15min annealing in coinstack",
          "15min annealing in coinstack",
          "15min annealing in coinstack",
          "15min annealing in coinstack",
          "15min annealing in coinstack",
          "15min annealing in coinstack",
          "15min annealing in coinstack",
          "15min annealing in coinstack"
         ],
         "xaxis": "x",
         "y": [
          0.6330000162124634,
          0.640999972820282,
          0.6389999985694885,
          0.6370000243186951,
          0.6359999775886536,
          0.6380000114440918,
          0.6389999985694885,
          0.6380000114440918,
          0.6380000114440918,
          0.6389999985694885,
          0.6420000195503235,
          0.640999972820282,
          0.6370000243186951,
          0.6380000114440918,
          0.6389999985694885,
          0.640999972820282,
          0.6389999985694885,
          0.6330000162124634,
          0.6380000114440918,
          0.6399999856948853,
          0.6389999985694885,
          0.6370000243186951,
          0.6389999985694885,
          0.6349999904632568,
          0.6399999856948853,
          0.6370000243186951,
          0.6370000243186951,
          0.6389999985694885,
          0.6370000243186951,
          0.6370000243186951,
          0.6380000114440918,
          0.6370000243186951,
          0.6340000033378601,
          0.6370000243186951,
          0.6399999856948853,
          0.6340000033378601,
          0.640999972820282,
          0.6349999904632568,
          0.6340000033378601,
          0.6399999856948853,
          0.6330000162124634,
          0.6370000243186951,
          0.6380000114440918,
          0.6340000033378601,
          0.640999972820282,
          0.6389999985694885,
          0.6399999856948853,
          0.6320000290870667,
          0.6349999904632568,
          0.6340000033378601,
          0.6330000162124634,
          0.6359999775886536,
          0.6380000114440918,
          0.6389999985694885,
          0.6399999856948853,
          0.6399999856948853,
          0.6340000033378601,
          0.6349999904632568,
          0.6330000162124634,
          0.6399999856948853,
          0.6370000243186951,
          0.6380000114440918
         ],
         "yaxis": "y"
        },
        {
         "name": "Remeasure before annealing",
         "offsetgroup": "B",
         "type": "box",
         "x": [
          "2h annealing in cassettes",
          "2h annealing in cassettes",
          "2h annealing in cassettes",
          "2h annealing in cassettes",
          "2h annealing in cassettes",
          "2h annealing in cassettes",
          "2h annealing in cassettes",
          "2h annealing in cassettes",
          "2h annealing in cassettes",
          "2h annealing in cassettes",
          "2h annealing in cassettes",
          "2h annealing in cassettes",
          "1h annealing in cassettes ",
          "1h annealing in cassettes ",
          "1h annealing in cassettes ",
          "1h annealing in cassettes ",
          "1h annealing in cassettes ",
          "1h annealing in cassettes ",
          "1h annealing in cassettes ",
          "1h annealing in cassettes ",
          "1h annealing in cassettes ",
          "1h annealing in cassettes ",
          "1h annealing in cassettes ",
          "1h annealing in cassettes ",
          "30min annealing in cassettes",
          "30min annealing in cassettes",
          "30min annealing in cassettes",
          "30min annealing in cassettes",
          "30min annealing in cassettes",
          "30min annealing in cassettes",
          "30min annealing in cassettes",
          "30min annealing in cassettes",
          "30min annealing in cassettes",
          "30min annealing in cassettes",
          "30min annealing in cassettes",
          "30min annealing in cassettes",
          "15min annealing in cassettes",
          "15min annealing in cassettes",
          "15min annealing in cassettes",
          "15min annealing in cassettes",
          "15min annealing in cassettes",
          "15min annealing in cassettes",
          "15min annealing in cassettes",
          "15min annealing in cassettes",
          "15min annealing in cassettes",
          "15min annealing in cassettes",
          "15min annealing in cassettes",
          "15min annealing in cassettes",
          "15min annealing in coinstack",
          "15min annealing in coinstack",
          "15min annealing in coinstack",
          "15min annealing in coinstack",
          "15min annealing in coinstack",
          "15min annealing in coinstack",
          "15min annealing in coinstack",
          "15min annealing in coinstack",
          "15min annealing in coinstack",
          "15min annealing in coinstack",
          "15min annealing in coinstack",
          "15min annealing in coinstack",
          "15min annealing in coinstack",
          "15min annealing in coinstack"
         ],
         "xaxis": "x",
         "y": [
          0.640999972820282,
          0.6380000114440918,
          0.6359999775886536,
          0.6340000033378601,
          0.6320000290870667,
          0.6330000162124634,
          0.6330000162124634,
          0.6320000290870667,
          0.6320000290870667,
          0.6330000162124634,
          0.6320000290870667,
          0.6330000162124634,
          0.6309999823570251,
          0.6309999823570251,
          0.6320000290870667,
          0.6340000033378601,
          0.6320000290870667,
          0.6320000290870667,
          0.628000020980835,
          0.6330000162124634,
          0.6320000290870667,
          0.6320000290870667,
          0.6330000162124634,
          0.6309999823570251,
          0.6370000243186951,
          0.6330000162124634,
          0.6309999823570251,
          0.6320000290870667,
          0.6320000290870667,
          0.6330000162124634,
          0.6330000162124634,
          0.6320000290870667,
          0.6330000162124634,
          0.6320000290870667,
          0.6320000290870667,
          0.6320000290870667,
          0.6340000033378601,
          0.6330000162124634,
          0.6290000081062317,
          0.6330000162124634,
          0.6299999952316284,
          0.6320000290870667,
          0.6330000162124634,
          0.6320000290870667,
          0.6330000162124634,
          0.6340000033378601,
          0.6330000162124634,
          0.6340000033378601,
          0.6340000033378601,
          0.6290000081062317,
          0.6330000162124634,
          0.6320000290870667,
          0.6320000290870667,
          0.6330000162124634,
          0.6330000162124634,
          0.6320000290870667,
          0.6320000290870667,
          0.6330000162124634,
          0.6320000290870667,
          0.6330000162124634,
          0.6309999823570251,
          0.6299999952316284
         ],
         "yaxis": "y"
        },
        {
         "name": "Remeasure after annealing",
         "offsetgroup": "C",
         "type": "box",
         "x": [
          "2h annealing in cassettes",
          "2h annealing in cassettes",
          "2h annealing in cassettes",
          "2h annealing in cassettes",
          "2h annealing in cassettes",
          "2h annealing in cassettes",
          "2h annealing in cassettes",
          "2h annealing in cassettes",
          "2h annealing in cassettes",
          "2h annealing in cassettes",
          "2h annealing in cassettes",
          "2h annealing in cassettes",
          "1h annealing in cassettes ",
          "1h annealing in cassettes ",
          "1h annealing in cassettes ",
          "1h annealing in cassettes ",
          "1h annealing in cassettes ",
          "1h annealing in cassettes ",
          "1h annealing in cassettes ",
          "1h annealing in cassettes ",
          "1h annealing in cassettes ",
          "1h annealing in cassettes ",
          "1h annealing in cassettes ",
          "1h annealing in cassettes ",
          "30min annealing in cassettes",
          "30min annealing in cassettes",
          "30min annealing in cassettes",
          "30min annealing in cassettes",
          "30min annealing in cassettes",
          "30min annealing in cassettes",
          "30min annealing in cassettes",
          "30min annealing in cassettes",
          "30min annealing in cassettes",
          "30min annealing in cassettes",
          "30min annealing in cassettes",
          "30min annealing in cassettes",
          "15min annealing in cassettes",
          "15min annealing in cassettes",
          "15min annealing in cassettes",
          "15min annealing in cassettes",
          "15min annealing in cassettes",
          "15min annealing in cassettes",
          "15min annealing in cassettes",
          "15min annealing in cassettes",
          "15min annealing in cassettes",
          "15min annealing in cassettes",
          "15min annealing in cassettes",
          "15min annealing in cassettes",
          "15min annealing in coinstack",
          "15min annealing in coinstack",
          "15min annealing in coinstack",
          "15min annealing in coinstack",
          "15min annealing in coinstack",
          "15min annealing in coinstack",
          "15min annealing in coinstack",
          "15min annealing in coinstack",
          "15min annealing in coinstack",
          "15min annealing in coinstack",
          "15min annealing in coinstack",
          "15min annealing in coinstack",
          "15min annealing in coinstack",
          "15min annealing in coinstack"
         ],
         "xaxis": "x",
         "y": [
          0.621999979019165,
          0.6290000081062317,
          0.628000020980835,
          0.6290000081062317,
          0.628000020980835,
          0.6290000081062317,
          0.6299999952316284,
          0.6309999823570251,
          0.6299999952316284,
          0.6309999823570251,
          0.6330000162124634,
          0.6340000033378601,
          0.6290000081062317,
          0.6309999823570251,
          0.6330000162124634,
          0.6320000290870667,
          0.6320000290870667,
          0.6330000162124634,
          0.6309999823570251,
          0.6340000033378601,
          0.6330000162124634,
          0.6340000033378601,
          0.6349999904632568,
          0.6340000033378601,
          0.6370000243186951,
          0.6349999904632568,
          0.6230000257492065,
          0.6359999775886536,
          0.6359999775886536,
          0.6380000114440918,
          0.6399999856948853,
          0.6399999856948853,
          0.6389999985694885,
          0.6389999985694885,
          0.6399999856948853,
          0.6420000195503235,
          0.6380000114440918,
          0.6399999856948853,
          0.6349999904632568,
          0.6380000114440918,
          0.6370000243186951,
          0.6380000114440918,
          0.6380000114440918,
          0.6389999985694885,
          0.6399999856948853,
          0.6370000243186951,
          0.6389999985694885,
          0.640999972820282,
          0.628000020980835,
          0.628000020980835,
          0.6320000290870667,
          0.6269999742507935,
          0.625,
          0.628000020980835,
          0.6299999952316284,
          0.6309999823570251,
          0.6259999871253967,
          0.628000020980835,
          0.6299999952316284,
          0.6269999742507935,
          0.6269999742507935,
          0.6330000162124634
         ],
         "yaxis": "y"
        },
        {
         "name": "Performance loss before annealing",
         "offsetgroup": "B",
         "type": "box",
         "x": [
          "2h annealing in cassettes",
          "2h annealing in cassettes",
          "2h annealing in cassettes",
          "2h annealing in cassettes",
          "2h annealing in cassettes",
          "2h annealing in cassettes",
          "2h annealing in cassettes",
          "2h annealing in cassettes",
          "2h annealing in cassettes",
          "2h annealing in cassettes",
          "2h annealing in cassettes",
          "2h annealing in cassettes",
          "1h annealing in cassettes ",
          "1h annealing in cassettes ",
          "1h annealing in cassettes ",
          "1h annealing in cassettes ",
          "1h annealing in cassettes ",
          "1h annealing in cassettes ",
          "1h annealing in cassettes ",
          "1h annealing in cassettes ",
          "1h annealing in cassettes ",
          "1h annealing in cassettes ",
          "1h annealing in cassettes ",
          "1h annealing in cassettes ",
          "30min annealing in cassettes",
          "30min annealing in cassettes",
          "30min annealing in cassettes",
          "30min annealing in cassettes",
          "30min annealing in cassettes",
          "30min annealing in cassettes",
          "30min annealing in cassettes",
          "30min annealing in cassettes",
          "30min annealing in cassettes",
          "30min annealing in cassettes",
          "30min annealing in cassettes",
          "30min annealing in cassettes",
          "15min annealing in cassettes",
          "15min annealing in cassettes",
          "15min annealing in cassettes",
          "15min annealing in cassettes",
          "15min annealing in cassettes",
          "15min annealing in cassettes",
          "15min annealing in cassettes",
          "15min annealing in cassettes",
          "15min annealing in cassettes",
          "15min annealing in cassettes",
          "15min annealing in cassettes",
          "15min annealing in cassettes",
          "15min annealing in coinstack",
          "15min annealing in coinstack",
          "15min annealing in coinstack",
          "15min annealing in coinstack",
          "15min annealing in coinstack",
          "15min annealing in coinstack",
          "15min annealing in coinstack",
          "15min annealing in coinstack",
          "15min annealing in coinstack",
          "15min annealing in coinstack",
          "15min annealing in coinstack",
          "15min annealing in coinstack",
          "15min annealing in coinstack",
          "15min annealing in coinstack"
         ],
         "xaxis": "x2",
         "y": [
          -0.012638161773969777,
          0.004680127150381781,
          0.004694868525118974,
          0.00470960889529579,
          0.006289227425372593,
          0.007836982981099161,
          0.009389643772233395,
          0.009404360892477707,
          0.009404360892477707,
          0.009389643772233395,
          0.015576308658465675,
          0.01248043205465402,
          0.00941921779059158,
          0.010971832228062688,
          0.010954568854604869,
          0.010920389671193428,
          0.010954568854604869,
          0.0015797584514770182,
          0.015673965962198323,
          0.010937452560755295,
          0.010954568854604869,
          0.007849285778248085,
          0.009389643772233395,
          0.006299225458749267,
          0.004687439755069608,
          0.006279447336771938,
          0.00941921779059158,
          0.010954568854604869,
          0.007849285778248085,
          0.006279447336771938,
          0.007836982981099161,
          0.007849285778248085,
          0.0015772667509968972,
          0.007849285778248085,
          0.012499932479111832,
          0.0031545335019937944,
          0.010920389671193428,
          0.003149565796582767,
          0.007886427768619282,
          0.010937452560755295,
          0.004739369516584686,
          0.007849285778248085,
          0.007836982981099161,
          0.0031545335019937944,
          0.01248043205465402,
          0.00782471868986192,
          0.010937452560755295,
          -0.00316451607396672,
          0.0015747828982913836,
          0.007886427768619282,
          0,
          0.006289227425372593,
          0.009404360892477707,
          0.009389643772233395,
          0.010937452560755295,
          0.012499932479111832,
          0.0031545335019937944,
          0.003149565796582767,
          0.0015797584514770182,
          0.010937452560755295,
          0.00941921779059158,
          0.012539210139441233
         ],
         "yaxis": "y2"
        },
        {
         "name": "Performance loss after annealing",
         "offsetgroup": "C",
         "type": "box",
         "x": [
          "2h annealing in cassettes",
          "2h annealing in cassettes",
          "2h annealing in cassettes",
          "2h annealing in cassettes",
          "2h annealing in cassettes",
          "2h annealing in cassettes",
          "2h annealing in cassettes",
          "2h annealing in cassettes",
          "2h annealing in cassettes",
          "2h annealing in cassettes",
          "2h annealing in cassettes",
          "2h annealing in cassettes",
          "1h annealing in cassettes ",
          "1h annealing in cassettes ",
          "1h annealing in cassettes ",
          "1h annealing in cassettes ",
          "1h annealing in cassettes ",
          "1h annealing in cassettes ",
          "1h annealing in cassettes ",
          "1h annealing in cassettes ",
          "1h annealing in cassettes ",
          "1h annealing in cassettes ",
          "1h annealing in cassettes ",
          "1h annealing in cassettes ",
          "30min annealing in cassettes",
          "30min annealing in cassettes",
          "30min annealing in cassettes",
          "30min annealing in cassettes",
          "30min annealing in cassettes",
          "30min annealing in cassettes",
          "30min annealing in cassettes",
          "30min annealing in cassettes",
          "30min annealing in cassettes",
          "30min annealing in cassettes",
          "30min annealing in cassettes",
          "30min annealing in cassettes",
          "15min annealing in cassettes",
          "15min annealing in cassettes",
          "15min annealing in cassettes",
          "15min annealing in cassettes",
          "15min annealing in cassettes",
          "15min annealing in cassettes",
          "15min annealing in cassettes",
          "15min annealing in cassettes",
          "15min annealing in cassettes",
          "15min annealing in cassettes",
          "15min annealing in cassettes",
          "15min annealing in cassettes",
          "15min annealing in coinstack",
          "15min annealing in coinstack",
          "15min annealing in coinstack",
          "15min annealing in coinstack",
          "15min annealing in coinstack",
          "15min annealing in coinstack",
          "15min annealing in coinstack",
          "15min annealing in coinstack",
          "15min annealing in coinstack",
          "15min annealing in coinstack",
          "15min annealing in coinstack",
          "15min annealing in coinstack",
          "15min annealing in coinstack",
          "15min annealing in coinstack"
         ],
         "xaxis": "x2",
         "y": [
          0.017377625452708094,
          0.018720694575465668,
          0.017214362462095317,
          0.012558894673543876,
          0.012578548568743417,
          0.014106588050819779,
          0.014084512297352369,
          0.010971832228062688,
          0.012539210139441233,
          0.012519587214980895,
          0.014018696361043706,
          0.010920389671193428,
          0.012558894673543876,
          0.010971832228062688,
          0.009389643772233395,
          0.014040474438114615,
          0.010954568854604869,
          0,
          0.010971832228062688,
          0.00937497264239876,
          0.009389643772233395,
          0.00470960889529579,
          0.006259793607490447,
          0.0015747828982913836,
          0.004687439755069608,
          0.0031397704538196425,
          0.02197801889326811,
          0.004694868525118974,
          0.0015699320123434945,
          -0.0015698384414761478,
          -0.0031347558227570902,
          -0.004709515324428443,
          -0.007886427768619282,
          -0.0031396768829522956,
          0,
          -0.012618322035244772,
          0.004680127150381781,
          -0.00787400835704065,
          -0.0015772667509968972,
          0.003124959836713072,
          -0.0063191279680617045,
          -0.0015698384414761478,
          0,
          -0.007886427768619282,
          0.0015600423834605938,
          0.0031298501647429476,
          0.001562479918356536,
          -0.014240416643992697,
          0.011023574153623417,
          0.00946369451961618,
          0.0015797584514770182,
          0.014150949143084797,
          0.020376193120540394,
          0.017214362462095317,
          0.015624985448084446,
          0.01406250552972791,
          0.012618322035244772,
          0.011023574153623417,
          0.004739369516584686,
          0.020312518335413598,
          0.01569866512736352,
          0.007836982981099161
         ],
         "yaxis": "y2"
        }
       ],
       "layout": {
        "annotations": [
         {
          "font": {
           "size": 18
          },
          "showarrow": false,
          "text": "$ \\textrm{ Performance Loss (PL) } \\\\\\ = \\\\\\ \\frac{\\textrm{Original measurement } - \\textrm{ Re-measurement}}{\\textrm{Original measurement}}$",
          "x": 1.35,
          "xref": "paper",
          "y": 0.5,
          "yref": "paper"
         }
        ],
        "boxgap": 0.5,
        "boxmode": "group",
        "height": 600,
        "shapes": [
         {
          "line": {
           "color": "grey",
           "dash": "dash",
           "width": 1
          },
          "type": "line",
          "x0": 0.5,
          "x1": 0.5,
          "xref": "x",
          "y0": 0,
          "y1": 1,
          "yref": "y domain"
         },
         {
          "line": {
           "color": "grey",
           "dash": "dash",
           "width": 1
          },
          "type": "line",
          "x0": 0.5,
          "x1": 0.5,
          "xref": "x2",
          "y0": 0,
          "y1": 1,
          "yref": "y2 domain"
         },
         {
          "line": {
           "color": "grey",
           "dash": "dash",
           "width": 1
          },
          "type": "line",
          "x0": 1.5,
          "x1": 1.5,
          "xref": "x",
          "y0": 0,
          "y1": 1,
          "yref": "y domain"
         },
         {
          "line": {
           "color": "grey",
           "dash": "dash",
           "width": 1
          },
          "type": "line",
          "x0": 1.5,
          "x1": 1.5,
          "xref": "x2",
          "y0": 0,
          "y1": 1,
          "yref": "y2 domain"
         },
         {
          "line": {
           "color": "grey",
           "dash": "dash",
           "width": 1
          },
          "type": "line",
          "x0": 2.5,
          "x1": 2.5,
          "xref": "x",
          "y0": 0,
          "y1": 1,
          "yref": "y domain"
         },
         {
          "line": {
           "color": "grey",
           "dash": "dash",
           "width": 1
          },
          "type": "line",
          "x0": 2.5,
          "x1": 2.5,
          "xref": "x2",
          "y0": 0,
          "y1": 1,
          "yref": "y2 domain"
         },
         {
          "line": {
           "color": "grey",
           "dash": "dash",
           "width": 1
          },
          "type": "line",
          "x0": 3.5,
          "x1": 3.5,
          "xref": "x",
          "y0": 0,
          "y1": 1,
          "yref": "y domain"
         },
         {
          "line": {
           "color": "grey",
           "dash": "dash",
           "width": 1
          },
          "type": "line",
          "x0": 3.5,
          "x1": 3.5,
          "xref": "x2",
          "y0": 0,
          "y1": 1,
          "yref": "y2 domain"
         }
        ],
        "template": {
         "data": {
          "bar": [
           {
            "error_x": {
             "color": "#2a3f5f"
            },
            "error_y": {
             "color": "#2a3f5f"
            },
            "marker": {
             "line": {
              "color": "#E5ECF6",
              "width": 0.5
             },
             "pattern": {
              "fillmode": "overlay",
              "size": 10,
              "solidity": 0.2
             }
            },
            "type": "bar"
           }
          ],
          "barpolar": [
           {
            "marker": {
             "line": {
              "color": "#E5ECF6",
              "width": 0.5
             },
             "pattern": {
              "fillmode": "overlay",
              "size": 10,
              "solidity": 0.2
             }
            },
            "type": "barpolar"
           }
          ],
          "carpet": [
           {
            "aaxis": {
             "endlinecolor": "#2a3f5f",
             "gridcolor": "white",
             "linecolor": "white",
             "minorgridcolor": "white",
             "startlinecolor": "#2a3f5f"
            },
            "baxis": {
             "endlinecolor": "#2a3f5f",
             "gridcolor": "white",
             "linecolor": "white",
             "minorgridcolor": "white",
             "startlinecolor": "#2a3f5f"
            },
            "type": "carpet"
           }
          ],
          "choropleth": [
           {
            "colorbar": {
             "outlinewidth": 0,
             "ticks": ""
            },
            "type": "choropleth"
           }
          ],
          "contour": [
           {
            "colorbar": {
             "outlinewidth": 0,
             "ticks": ""
            },
            "colorscale": [
             [
              0,
              "#0d0887"
             ],
             [
              0.1111111111111111,
              "#46039f"
             ],
             [
              0.2222222222222222,
              "#7201a8"
             ],
             [
              0.3333333333333333,
              "#9c179e"
             ],
             [
              0.4444444444444444,
              "#bd3786"
             ],
             [
              0.5555555555555556,
              "#d8576b"
             ],
             [
              0.6666666666666666,
              "#ed7953"
             ],
             [
              0.7777777777777778,
              "#fb9f3a"
             ],
             [
              0.8888888888888888,
              "#fdca26"
             ],
             [
              1,
              "#f0f921"
             ]
            ],
            "type": "contour"
           }
          ],
          "contourcarpet": [
           {
            "colorbar": {
             "outlinewidth": 0,
             "ticks": ""
            },
            "type": "contourcarpet"
           }
          ],
          "heatmap": [
           {
            "colorbar": {
             "outlinewidth": 0,
             "ticks": ""
            },
            "colorscale": [
             [
              0,
              "#0d0887"
             ],
             [
              0.1111111111111111,
              "#46039f"
             ],
             [
              0.2222222222222222,
              "#7201a8"
             ],
             [
              0.3333333333333333,
              "#9c179e"
             ],
             [
              0.4444444444444444,
              "#bd3786"
             ],
             [
              0.5555555555555556,
              "#d8576b"
             ],
             [
              0.6666666666666666,
              "#ed7953"
             ],
             [
              0.7777777777777778,
              "#fb9f3a"
             ],
             [
              0.8888888888888888,
              "#fdca26"
             ],
             [
              1,
              "#f0f921"
             ]
            ],
            "type": "heatmap"
           }
          ],
          "heatmapgl": [
           {
            "colorbar": {
             "outlinewidth": 0,
             "ticks": ""
            },
            "colorscale": [
             [
              0,
              "#0d0887"
             ],
             [
              0.1111111111111111,
              "#46039f"
             ],
             [
              0.2222222222222222,
              "#7201a8"
             ],
             [
              0.3333333333333333,
              "#9c179e"
             ],
             [
              0.4444444444444444,
              "#bd3786"
             ],
             [
              0.5555555555555556,
              "#d8576b"
             ],
             [
              0.6666666666666666,
              "#ed7953"
             ],
             [
              0.7777777777777778,
              "#fb9f3a"
             ],
             [
              0.8888888888888888,
              "#fdca26"
             ],
             [
              1,
              "#f0f921"
             ]
            ],
            "type": "heatmapgl"
           }
          ],
          "histogram": [
           {
            "marker": {
             "pattern": {
              "fillmode": "overlay",
              "size": 10,
              "solidity": 0.2
             }
            },
            "type": "histogram"
           }
          ],
          "histogram2d": [
           {
            "colorbar": {
             "outlinewidth": 0,
             "ticks": ""
            },
            "colorscale": [
             [
              0,
              "#0d0887"
             ],
             [
              0.1111111111111111,
              "#46039f"
             ],
             [
              0.2222222222222222,
              "#7201a8"
             ],
             [
              0.3333333333333333,
              "#9c179e"
             ],
             [
              0.4444444444444444,
              "#bd3786"
             ],
             [
              0.5555555555555556,
              "#d8576b"
             ],
             [
              0.6666666666666666,
              "#ed7953"
             ],
             [
              0.7777777777777778,
              "#fb9f3a"
             ],
             [
              0.8888888888888888,
              "#fdca26"
             ],
             [
              1,
              "#f0f921"
             ]
            ],
            "type": "histogram2d"
           }
          ],
          "histogram2dcontour": [
           {
            "colorbar": {
             "outlinewidth": 0,
             "ticks": ""
            },
            "colorscale": [
             [
              0,
              "#0d0887"
             ],
             [
              0.1111111111111111,
              "#46039f"
             ],
             [
              0.2222222222222222,
              "#7201a8"
             ],
             [
              0.3333333333333333,
              "#9c179e"
             ],
             [
              0.4444444444444444,
              "#bd3786"
             ],
             [
              0.5555555555555556,
              "#d8576b"
             ],
             [
              0.6666666666666666,
              "#ed7953"
             ],
             [
              0.7777777777777778,
              "#fb9f3a"
             ],
             [
              0.8888888888888888,
              "#fdca26"
             ],
             [
              1,
              "#f0f921"
             ]
            ],
            "type": "histogram2dcontour"
           }
          ],
          "mesh3d": [
           {
            "colorbar": {
             "outlinewidth": 0,
             "ticks": ""
            },
            "type": "mesh3d"
           }
          ],
          "parcoords": [
           {
            "line": {
             "colorbar": {
              "outlinewidth": 0,
              "ticks": ""
             }
            },
            "type": "parcoords"
           }
          ],
          "pie": [
           {
            "automargin": true,
            "type": "pie"
           }
          ],
          "scatter": [
           {
            "fillpattern": {
             "fillmode": "overlay",
             "size": 10,
             "solidity": 0.2
            },
            "type": "scatter"
           }
          ],
          "scatter3d": [
           {
            "line": {
             "colorbar": {
              "outlinewidth": 0,
              "ticks": ""
             }
            },
            "marker": {
             "colorbar": {
              "outlinewidth": 0,
              "ticks": ""
             }
            },
            "type": "scatter3d"
           }
          ],
          "scattercarpet": [
           {
            "marker": {
             "colorbar": {
              "outlinewidth": 0,
              "ticks": ""
             }
            },
            "type": "scattercarpet"
           }
          ],
          "scattergeo": [
           {
            "marker": {
             "colorbar": {
              "outlinewidth": 0,
              "ticks": ""
             }
            },
            "type": "scattergeo"
           }
          ],
          "scattergl": [
           {
            "marker": {
             "colorbar": {
              "outlinewidth": 0,
              "ticks": ""
             }
            },
            "type": "scattergl"
           }
          ],
          "scattermapbox": [
           {
            "marker": {
             "colorbar": {
              "outlinewidth": 0,
              "ticks": ""
             }
            },
            "type": "scattermapbox"
           }
          ],
          "scatterpolar": [
           {
            "marker": {
             "colorbar": {
              "outlinewidth": 0,
              "ticks": ""
             }
            },
            "type": "scatterpolar"
           }
          ],
          "scatterpolargl": [
           {
            "marker": {
             "colorbar": {
              "outlinewidth": 0,
              "ticks": ""
             }
            },
            "type": "scatterpolargl"
           }
          ],
          "scatterternary": [
           {
            "marker": {
             "colorbar": {
              "outlinewidth": 0,
              "ticks": ""
             }
            },
            "type": "scatterternary"
           }
          ],
          "surface": [
           {
            "colorbar": {
             "outlinewidth": 0,
             "ticks": ""
            },
            "colorscale": [
             [
              0,
              "#0d0887"
             ],
             [
              0.1111111111111111,
              "#46039f"
             ],
             [
              0.2222222222222222,
              "#7201a8"
             ],
             [
              0.3333333333333333,
              "#9c179e"
             ],
             [
              0.4444444444444444,
              "#bd3786"
             ],
             [
              0.5555555555555556,
              "#d8576b"
             ],
             [
              0.6666666666666666,
              "#ed7953"
             ],
             [
              0.7777777777777778,
              "#fb9f3a"
             ],
             [
              0.8888888888888888,
              "#fdca26"
             ],
             [
              1,
              "#f0f921"
             ]
            ],
            "type": "surface"
           }
          ],
          "table": [
           {
            "cells": {
             "fill": {
              "color": "#EBF0F8"
             },
             "line": {
              "color": "white"
             }
            },
            "header": {
             "fill": {
              "color": "#C8D4E3"
             },
             "line": {
              "color": "white"
             }
            },
            "type": "table"
           }
          ]
         },
         "layout": {
          "annotationdefaults": {
           "arrowcolor": "#2a3f5f",
           "arrowhead": 0,
           "arrowwidth": 1
          },
          "autotypenumbers": "strict",
          "coloraxis": {
           "colorbar": {
            "outlinewidth": 0,
            "ticks": ""
           }
          },
          "colorscale": {
           "diverging": [
            [
             0,
             "#8e0152"
            ],
            [
             0.1,
             "#c51b7d"
            ],
            [
             0.2,
             "#de77ae"
            ],
            [
             0.3,
             "#f1b6da"
            ],
            [
             0.4,
             "#fde0ef"
            ],
            [
             0.5,
             "#f7f7f7"
            ],
            [
             0.6,
             "#e6f5d0"
            ],
            [
             0.7,
             "#b8e186"
            ],
            [
             0.8,
             "#7fbc41"
            ],
            [
             0.9,
             "#4d9221"
            ],
            [
             1,
             "#276419"
            ]
           ],
           "sequential": [
            [
             0,
             "#0d0887"
            ],
            [
             0.1111111111111111,
             "#46039f"
            ],
            [
             0.2222222222222222,
             "#7201a8"
            ],
            [
             0.3333333333333333,
             "#9c179e"
            ],
            [
             0.4444444444444444,
             "#bd3786"
            ],
            [
             0.5555555555555556,
             "#d8576b"
            ],
            [
             0.6666666666666666,
             "#ed7953"
            ],
            [
             0.7777777777777778,
             "#fb9f3a"
            ],
            [
             0.8888888888888888,
             "#fdca26"
            ],
            [
             1,
             "#f0f921"
            ]
           ],
           "sequentialminus": [
            [
             0,
             "#0d0887"
            ],
            [
             0.1111111111111111,
             "#46039f"
            ],
            [
             0.2222222222222222,
             "#7201a8"
            ],
            [
             0.3333333333333333,
             "#9c179e"
            ],
            [
             0.4444444444444444,
             "#bd3786"
            ],
            [
             0.5555555555555556,
             "#d8576b"
            ],
            [
             0.6666666666666666,
             "#ed7953"
            ],
            [
             0.7777777777777778,
             "#fb9f3a"
            ],
            [
             0.8888888888888888,
             "#fdca26"
            ],
            [
             1,
             "#f0f921"
            ]
           ]
          },
          "colorway": [
           "#636efa",
           "#EF553B",
           "#00cc96",
           "#ab63fa",
           "#FFA15A",
           "#19d3f3",
           "#FF6692",
           "#B6E880",
           "#FF97FF",
           "#FECB52"
          ],
          "font": {
           "color": "#2a3f5f"
          },
          "geo": {
           "bgcolor": "white",
           "lakecolor": "white",
           "landcolor": "#E5ECF6",
           "showlakes": true,
           "showland": true,
           "subunitcolor": "white"
          },
          "hoverlabel": {
           "align": "left"
          },
          "hovermode": "closest",
          "mapbox": {
           "style": "light"
          },
          "paper_bgcolor": "white",
          "plot_bgcolor": "#E5ECF6",
          "polar": {
           "angularaxis": {
            "gridcolor": "white",
            "linecolor": "white",
            "ticks": ""
           },
           "bgcolor": "#E5ECF6",
           "radialaxis": {
            "gridcolor": "white",
            "linecolor": "white",
            "ticks": ""
           }
          },
          "scene": {
           "xaxis": {
            "backgroundcolor": "#E5ECF6",
            "gridcolor": "white",
            "gridwidth": 2,
            "linecolor": "white",
            "showbackground": true,
            "ticks": "",
            "zerolinecolor": "white"
           },
           "yaxis": {
            "backgroundcolor": "#E5ECF6",
            "gridcolor": "white",
            "gridwidth": 2,
            "linecolor": "white",
            "showbackground": true,
            "ticks": "",
            "zerolinecolor": "white"
           },
           "zaxis": {
            "backgroundcolor": "#E5ECF6",
            "gridcolor": "white",
            "gridwidth": 2,
            "linecolor": "white",
            "showbackground": true,
            "ticks": "",
            "zerolinecolor": "white"
           }
          },
          "shapedefaults": {
           "line": {
            "color": "#2a3f5f"
           }
          },
          "ternary": {
           "aaxis": {
            "gridcolor": "white",
            "linecolor": "white",
            "ticks": ""
           },
           "baxis": {
            "gridcolor": "white",
            "linecolor": "white",
            "ticks": ""
           },
           "bgcolor": "#E5ECF6",
           "caxis": {
            "gridcolor": "white",
            "linecolor": "white",
            "ticks": ""
           }
          },
          "title": {
           "x": 0.05
          },
          "xaxis": {
           "automargin": true,
           "gridcolor": "white",
           "linecolor": "white",
           "ticks": "",
           "title": {
            "standoff": 15
           },
           "zerolinecolor": "white",
           "zerolinewidth": 2
          },
          "yaxis": {
           "automargin": true,
           "gridcolor": "white",
           "linecolor": "white",
           "ticks": "",
           "title": {
            "standoff": 15
           },
           "zerolinecolor": "white",
           "zerolinewidth": 2
          }
         }
        },
        "title": {
         "text": "Voc performance between 5 annealing tests"
        },
        "width": 900,
        "xaxis": {
         "anchor": "y",
         "domain": [
          0,
          1
         ],
         "matches": "x2",
         "showticklabels": false
        },
        "xaxis2": {
         "anchor": "y2",
         "domain": [
          0,
          1
         ]
        },
        "yaxis": {
         "anchor": "x",
         "domain": [
          0.515,
          1
         ],
         "tickformat": ".3f",
         "title": {
          "text": "Voc [V]"
         }
        },
        "yaxis2": {
         "anchor": "x2",
         "domain": [
          0,
          0.485
         ],
         "tickformat": ".1%",
         "title": {
          "text": "PL of Voc"
         }
        }
       }
      },
      "text/html": [
       "<div>                            <div id=\"d614624c-d1e1-403d-a390-cc531bcccafc\" class=\"plotly-graph-div\" style=\"height:600px; width:900px;\"></div>            <script type=\"text/javascript\">                require([\"plotly\"], function(Plotly) {                    window.PLOTLYENV=window.PLOTLYENV || {};                                    if (document.getElementById(\"d614624c-d1e1-403d-a390-cc531bcccafc\")) {                    Plotly.newPlot(                        \"d614624c-d1e1-403d-a390-cc531bcccafc\",                        [{\"name\":\"Original measurments\",\"offsetgroup\":\"A\",\"x\":[\"2h annealing in cassettes\",\"2h annealing in cassettes\",\"2h annealing in cassettes\",\"2h annealing in cassettes\",\"2h annealing in cassettes\",\"2h annealing in cassettes\",\"2h annealing in cassettes\",\"2h annealing in cassettes\",\"2h annealing in cassettes\",\"2h annealing in cassettes\",\"2h annealing in cassettes\",\"2h annealing in cassettes\",\"1h annealing in cassettes \",\"1h annealing in cassettes \",\"1h annealing in cassettes \",\"1h annealing in cassettes \",\"1h annealing in cassettes \",\"1h annealing in cassettes \",\"1h annealing in cassettes \",\"1h annealing in cassettes \",\"1h annealing in cassettes \",\"1h annealing in cassettes \",\"1h annealing in cassettes \",\"1h annealing in cassettes \",\"30min annealing in cassettes\",\"30min annealing in cassettes\",\"30min annealing in cassettes\",\"30min annealing in cassettes\",\"30min annealing in cassettes\",\"30min annealing in cassettes\",\"30min annealing in cassettes\",\"30min annealing in cassettes\",\"30min annealing in cassettes\",\"30min annealing in cassettes\",\"30min annealing in cassettes\",\"30min annealing in cassettes\",\"15min annealing in cassettes\",\"15min annealing in cassettes\",\"15min annealing in cassettes\",\"15min annealing in cassettes\",\"15min annealing in cassettes\",\"15min annealing in cassettes\",\"15min annealing in cassettes\",\"15min annealing in cassettes\",\"15min annealing in cassettes\",\"15min annealing in cassettes\",\"15min annealing in cassettes\",\"15min annealing in cassettes\",\"15min annealing in coinstack\",\"15min annealing in coinstack\",\"15min annealing in coinstack\",\"15min annealing in coinstack\",\"15min annealing in coinstack\",\"15min annealing in coinstack\",\"15min annealing in coinstack\",\"15min annealing in coinstack\",\"15min annealing in coinstack\",\"15min annealing in coinstack\",\"15min annealing in coinstack\",\"15min annealing in coinstack\",\"15min annealing in coinstack\",\"15min annealing in coinstack\"],\"y\":[0.6330000162124634,0.640999972820282,0.6389999985694885,0.6370000243186951,0.6359999775886536,0.6380000114440918,0.6389999985694885,0.6380000114440918,0.6380000114440918,0.6389999985694885,0.6420000195503235,0.640999972820282,0.6370000243186951,0.6380000114440918,0.6389999985694885,0.640999972820282,0.6389999985694885,0.6330000162124634,0.6380000114440918,0.6399999856948853,0.6389999985694885,0.6370000243186951,0.6389999985694885,0.6349999904632568,0.6399999856948853,0.6370000243186951,0.6370000243186951,0.6389999985694885,0.6370000243186951,0.6370000243186951,0.6380000114440918,0.6370000243186951,0.6340000033378601,0.6370000243186951,0.6399999856948853,0.6340000033378601,0.640999972820282,0.6349999904632568,0.6340000033378601,0.6399999856948853,0.6330000162124634,0.6370000243186951,0.6380000114440918,0.6340000033378601,0.640999972820282,0.6389999985694885,0.6399999856948853,0.6320000290870667,0.6349999904632568,0.6340000033378601,0.6330000162124634,0.6359999775886536,0.6380000114440918,0.6389999985694885,0.6399999856948853,0.6399999856948853,0.6340000033378601,0.6349999904632568,0.6330000162124634,0.6399999856948853,0.6370000243186951,0.6380000114440918],\"type\":\"box\",\"xaxis\":\"x\",\"yaxis\":\"y\"},{\"name\":\"Remeasure before annealing\",\"offsetgroup\":\"B\",\"x\":[\"2h annealing in cassettes\",\"2h annealing in cassettes\",\"2h annealing in cassettes\",\"2h annealing in cassettes\",\"2h annealing in cassettes\",\"2h annealing in cassettes\",\"2h annealing in cassettes\",\"2h annealing in cassettes\",\"2h annealing in cassettes\",\"2h annealing in cassettes\",\"2h annealing in cassettes\",\"2h annealing in cassettes\",\"1h annealing in cassettes \",\"1h annealing in cassettes \",\"1h annealing in cassettes \",\"1h annealing in cassettes \",\"1h annealing in cassettes \",\"1h annealing in cassettes \",\"1h annealing in cassettes \",\"1h annealing in cassettes \",\"1h annealing in cassettes \",\"1h annealing in cassettes \",\"1h annealing in cassettes \",\"1h annealing in cassettes \",\"30min annealing in cassettes\",\"30min annealing in cassettes\",\"30min annealing in cassettes\",\"30min annealing in cassettes\",\"30min annealing in cassettes\",\"30min annealing in cassettes\",\"30min annealing in cassettes\",\"30min annealing in cassettes\",\"30min annealing in cassettes\",\"30min annealing in cassettes\",\"30min annealing in cassettes\",\"30min annealing in cassettes\",\"15min annealing in cassettes\",\"15min annealing in cassettes\",\"15min annealing in cassettes\",\"15min annealing in cassettes\",\"15min annealing in cassettes\",\"15min annealing in cassettes\",\"15min annealing in cassettes\",\"15min annealing in cassettes\",\"15min annealing in cassettes\",\"15min annealing in cassettes\",\"15min annealing in cassettes\",\"15min annealing in cassettes\",\"15min annealing in coinstack\",\"15min annealing in coinstack\",\"15min annealing in coinstack\",\"15min annealing in coinstack\",\"15min annealing in coinstack\",\"15min annealing in coinstack\",\"15min annealing in coinstack\",\"15min annealing in coinstack\",\"15min annealing in coinstack\",\"15min annealing in coinstack\",\"15min annealing in coinstack\",\"15min annealing in coinstack\",\"15min annealing in coinstack\",\"15min annealing in coinstack\"],\"y\":[0.640999972820282,0.6380000114440918,0.6359999775886536,0.6340000033378601,0.6320000290870667,0.6330000162124634,0.6330000162124634,0.6320000290870667,0.6320000290870667,0.6330000162124634,0.6320000290870667,0.6330000162124634,0.6309999823570251,0.6309999823570251,0.6320000290870667,0.6340000033378601,0.6320000290870667,0.6320000290870667,0.628000020980835,0.6330000162124634,0.6320000290870667,0.6320000290870667,0.6330000162124634,0.6309999823570251,0.6370000243186951,0.6330000162124634,0.6309999823570251,0.6320000290870667,0.6320000290870667,0.6330000162124634,0.6330000162124634,0.6320000290870667,0.6330000162124634,0.6320000290870667,0.6320000290870667,0.6320000290870667,0.6340000033378601,0.6330000162124634,0.6290000081062317,0.6330000162124634,0.6299999952316284,0.6320000290870667,0.6330000162124634,0.6320000290870667,0.6330000162124634,0.6340000033378601,0.6330000162124634,0.6340000033378601,0.6340000033378601,0.6290000081062317,0.6330000162124634,0.6320000290870667,0.6320000290870667,0.6330000162124634,0.6330000162124634,0.6320000290870667,0.6320000290870667,0.6330000162124634,0.6320000290870667,0.6330000162124634,0.6309999823570251,0.6299999952316284],\"type\":\"box\",\"xaxis\":\"x\",\"yaxis\":\"y\"},{\"name\":\"Remeasure after annealing\",\"offsetgroup\":\"C\",\"x\":[\"2h annealing in cassettes\",\"2h annealing in cassettes\",\"2h annealing in cassettes\",\"2h annealing in cassettes\",\"2h annealing in cassettes\",\"2h annealing in cassettes\",\"2h annealing in cassettes\",\"2h annealing in cassettes\",\"2h annealing in cassettes\",\"2h annealing in cassettes\",\"2h annealing in cassettes\",\"2h annealing in cassettes\",\"1h annealing in cassettes \",\"1h annealing in cassettes \",\"1h annealing in cassettes \",\"1h annealing in cassettes \",\"1h annealing in cassettes \",\"1h annealing in cassettes \",\"1h annealing in cassettes \",\"1h annealing in cassettes \",\"1h annealing in cassettes \",\"1h annealing in cassettes \",\"1h annealing in cassettes \",\"1h annealing in cassettes \",\"30min annealing in cassettes\",\"30min annealing in cassettes\",\"30min annealing in cassettes\",\"30min annealing in cassettes\",\"30min annealing in cassettes\",\"30min annealing in cassettes\",\"30min annealing in cassettes\",\"30min annealing in cassettes\",\"30min annealing in cassettes\",\"30min annealing in cassettes\",\"30min annealing in cassettes\",\"30min annealing in cassettes\",\"15min annealing in cassettes\",\"15min annealing in cassettes\",\"15min annealing in cassettes\",\"15min annealing in cassettes\",\"15min annealing in cassettes\",\"15min annealing in cassettes\",\"15min annealing in cassettes\",\"15min annealing in cassettes\",\"15min annealing in cassettes\",\"15min annealing in cassettes\",\"15min annealing in cassettes\",\"15min annealing in cassettes\",\"15min annealing in coinstack\",\"15min annealing in coinstack\",\"15min annealing in coinstack\",\"15min annealing in coinstack\",\"15min annealing in coinstack\",\"15min annealing in coinstack\",\"15min annealing in coinstack\",\"15min annealing in coinstack\",\"15min annealing in coinstack\",\"15min annealing in coinstack\",\"15min annealing in coinstack\",\"15min annealing in coinstack\",\"15min annealing in coinstack\",\"15min annealing in coinstack\"],\"y\":[0.621999979019165,0.6290000081062317,0.628000020980835,0.6290000081062317,0.628000020980835,0.6290000081062317,0.6299999952316284,0.6309999823570251,0.6299999952316284,0.6309999823570251,0.6330000162124634,0.6340000033378601,0.6290000081062317,0.6309999823570251,0.6330000162124634,0.6320000290870667,0.6320000290870667,0.6330000162124634,0.6309999823570251,0.6340000033378601,0.6330000162124634,0.6340000033378601,0.6349999904632568,0.6340000033378601,0.6370000243186951,0.6349999904632568,0.6230000257492065,0.6359999775886536,0.6359999775886536,0.6380000114440918,0.6399999856948853,0.6399999856948853,0.6389999985694885,0.6389999985694885,0.6399999856948853,0.6420000195503235,0.6380000114440918,0.6399999856948853,0.6349999904632568,0.6380000114440918,0.6370000243186951,0.6380000114440918,0.6380000114440918,0.6389999985694885,0.6399999856948853,0.6370000243186951,0.6389999985694885,0.640999972820282,0.628000020980835,0.628000020980835,0.6320000290870667,0.6269999742507935,0.625,0.628000020980835,0.6299999952316284,0.6309999823570251,0.6259999871253967,0.628000020980835,0.6299999952316284,0.6269999742507935,0.6269999742507935,0.6330000162124634],\"type\":\"box\",\"xaxis\":\"x\",\"yaxis\":\"y\"},{\"name\":\"Performance loss before annealing\",\"offsetgroup\":\"B\",\"x\":[\"2h annealing in cassettes\",\"2h annealing in cassettes\",\"2h annealing in cassettes\",\"2h annealing in cassettes\",\"2h annealing in cassettes\",\"2h annealing in cassettes\",\"2h annealing in cassettes\",\"2h annealing in cassettes\",\"2h annealing in cassettes\",\"2h annealing in cassettes\",\"2h annealing in cassettes\",\"2h annealing in cassettes\",\"1h annealing in cassettes \",\"1h annealing in cassettes \",\"1h annealing in cassettes \",\"1h annealing in cassettes \",\"1h annealing in cassettes \",\"1h annealing in cassettes \",\"1h annealing in cassettes \",\"1h annealing in cassettes \",\"1h annealing in cassettes \",\"1h annealing in cassettes \",\"1h annealing in cassettes \",\"1h annealing in cassettes \",\"30min annealing in cassettes\",\"30min annealing in cassettes\",\"30min annealing in cassettes\",\"30min annealing in cassettes\",\"30min annealing in cassettes\",\"30min annealing in cassettes\",\"30min annealing in cassettes\",\"30min annealing in cassettes\",\"30min annealing in cassettes\",\"30min annealing in cassettes\",\"30min annealing in cassettes\",\"30min annealing in cassettes\",\"15min annealing in cassettes\",\"15min annealing in cassettes\",\"15min annealing in cassettes\",\"15min annealing in cassettes\",\"15min annealing in cassettes\",\"15min annealing in cassettes\",\"15min annealing in cassettes\",\"15min annealing in cassettes\",\"15min annealing in cassettes\",\"15min annealing in cassettes\",\"15min annealing in cassettes\",\"15min annealing in cassettes\",\"15min annealing in coinstack\",\"15min annealing in coinstack\",\"15min annealing in coinstack\",\"15min annealing in coinstack\",\"15min annealing in coinstack\",\"15min annealing in coinstack\",\"15min annealing in coinstack\",\"15min annealing in coinstack\",\"15min annealing in coinstack\",\"15min annealing in coinstack\",\"15min annealing in coinstack\",\"15min annealing in coinstack\",\"15min annealing in coinstack\",\"15min annealing in coinstack\"],\"y\":[-0.012638161773969777,0.004680127150381781,0.004694868525118974,0.00470960889529579,0.006289227425372593,0.007836982981099161,0.009389643772233395,0.009404360892477707,0.009404360892477707,0.009389643772233395,0.015576308658465675,0.01248043205465402,0.00941921779059158,0.010971832228062688,0.010954568854604869,0.010920389671193428,0.010954568854604869,0.0015797584514770182,0.015673965962198323,0.010937452560755295,0.010954568854604869,0.007849285778248085,0.009389643772233395,0.006299225458749267,0.004687439755069608,0.006279447336771938,0.00941921779059158,0.010954568854604869,0.007849285778248085,0.006279447336771938,0.007836982981099161,0.007849285778248085,0.0015772667509968972,0.007849285778248085,0.012499932479111832,0.0031545335019937944,0.010920389671193428,0.003149565796582767,0.007886427768619282,0.010937452560755295,0.004739369516584686,0.007849285778248085,0.007836982981099161,0.0031545335019937944,0.01248043205465402,0.00782471868986192,0.010937452560755295,-0.00316451607396672,0.0015747828982913836,0.007886427768619282,0.0,0.006289227425372593,0.009404360892477707,0.009389643772233395,0.010937452560755295,0.012499932479111832,0.0031545335019937944,0.003149565796582767,0.0015797584514770182,0.010937452560755295,0.00941921779059158,0.012539210139441233],\"type\":\"box\",\"xaxis\":\"x2\",\"yaxis\":\"y2\"},{\"name\":\"Performance loss after annealing\",\"offsetgroup\":\"C\",\"x\":[\"2h annealing in cassettes\",\"2h annealing in cassettes\",\"2h annealing in cassettes\",\"2h annealing in cassettes\",\"2h annealing in cassettes\",\"2h annealing in cassettes\",\"2h annealing in cassettes\",\"2h annealing in cassettes\",\"2h annealing in cassettes\",\"2h annealing in cassettes\",\"2h annealing in cassettes\",\"2h annealing in cassettes\",\"1h annealing in cassettes \",\"1h annealing in cassettes \",\"1h annealing in cassettes \",\"1h annealing in cassettes \",\"1h annealing in cassettes \",\"1h annealing in cassettes \",\"1h annealing in cassettes \",\"1h annealing in cassettes \",\"1h annealing in cassettes \",\"1h annealing in cassettes \",\"1h annealing in cassettes \",\"1h annealing in cassettes \",\"30min annealing in cassettes\",\"30min annealing in cassettes\",\"30min annealing in cassettes\",\"30min annealing in cassettes\",\"30min annealing in cassettes\",\"30min annealing in cassettes\",\"30min annealing in cassettes\",\"30min annealing in cassettes\",\"30min annealing in cassettes\",\"30min annealing in cassettes\",\"30min annealing in cassettes\",\"30min annealing in cassettes\",\"15min annealing in cassettes\",\"15min annealing in cassettes\",\"15min annealing in cassettes\",\"15min annealing in cassettes\",\"15min annealing in cassettes\",\"15min annealing in cassettes\",\"15min annealing in cassettes\",\"15min annealing in cassettes\",\"15min annealing in cassettes\",\"15min annealing in cassettes\",\"15min annealing in cassettes\",\"15min annealing in cassettes\",\"15min annealing in coinstack\",\"15min annealing in coinstack\",\"15min annealing in coinstack\",\"15min annealing in coinstack\",\"15min annealing in coinstack\",\"15min annealing in coinstack\",\"15min annealing in coinstack\",\"15min annealing in coinstack\",\"15min annealing in coinstack\",\"15min annealing in coinstack\",\"15min annealing in coinstack\",\"15min annealing in coinstack\",\"15min annealing in coinstack\",\"15min annealing in coinstack\"],\"y\":[0.017377625452708094,0.018720694575465668,0.017214362462095317,0.012558894673543876,0.012578548568743417,0.014106588050819779,0.014084512297352369,0.010971832228062688,0.012539210139441233,0.012519587214980895,0.014018696361043706,0.010920389671193428,0.012558894673543876,0.010971832228062688,0.009389643772233395,0.014040474438114615,0.010954568854604869,0.0,0.010971832228062688,0.00937497264239876,0.009389643772233395,0.00470960889529579,0.006259793607490447,0.0015747828982913836,0.004687439755069608,0.0031397704538196425,0.02197801889326811,0.004694868525118974,0.0015699320123434945,-0.0015698384414761478,-0.0031347558227570902,-0.004709515324428443,-0.007886427768619282,-0.0031396768829522956,0.0,-0.012618322035244772,0.004680127150381781,-0.00787400835704065,-0.0015772667509968972,0.003124959836713072,-0.0063191279680617045,-0.0015698384414761478,0.0,-0.007886427768619282,0.0015600423834605938,0.0031298501647429476,0.001562479918356536,-0.014240416643992697,0.011023574153623417,0.00946369451961618,0.0015797584514770182,0.014150949143084797,0.020376193120540394,0.017214362462095317,0.015624985448084446,0.01406250552972791,0.012618322035244772,0.011023574153623417,0.004739369516584686,0.020312518335413598,0.01569866512736352,0.007836982981099161],\"type\":\"box\",\"xaxis\":\"x2\",\"yaxis\":\"y2\"}],                        {\"template\":{\"data\":{\"histogram2dcontour\":[{\"type\":\"histogram2dcontour\",\"colorbar\":{\"outlinewidth\":0,\"ticks\":\"\"},\"colorscale\":[[0.0,\"#0d0887\"],[0.1111111111111111,\"#46039f\"],[0.2222222222222222,\"#7201a8\"],[0.3333333333333333,\"#9c179e\"],[0.4444444444444444,\"#bd3786\"],[0.5555555555555556,\"#d8576b\"],[0.6666666666666666,\"#ed7953\"],[0.7777777777777778,\"#fb9f3a\"],[0.8888888888888888,\"#fdca26\"],[1.0,\"#f0f921\"]]}],\"choropleth\":[{\"type\":\"choropleth\",\"colorbar\":{\"outlinewidth\":0,\"ticks\":\"\"}}],\"histogram2d\":[{\"type\":\"histogram2d\",\"colorbar\":{\"outlinewidth\":0,\"ticks\":\"\"},\"colorscale\":[[0.0,\"#0d0887\"],[0.1111111111111111,\"#46039f\"],[0.2222222222222222,\"#7201a8\"],[0.3333333333333333,\"#9c179e\"],[0.4444444444444444,\"#bd3786\"],[0.5555555555555556,\"#d8576b\"],[0.6666666666666666,\"#ed7953\"],[0.7777777777777778,\"#fb9f3a\"],[0.8888888888888888,\"#fdca26\"],[1.0,\"#f0f921\"]]}],\"heatmap\":[{\"type\":\"heatmap\",\"colorbar\":{\"outlinewidth\":0,\"ticks\":\"\"},\"colorscale\":[[0.0,\"#0d0887\"],[0.1111111111111111,\"#46039f\"],[0.2222222222222222,\"#7201a8\"],[0.3333333333333333,\"#9c179e\"],[0.4444444444444444,\"#bd3786\"],[0.5555555555555556,\"#d8576b\"],[0.6666666666666666,\"#ed7953\"],[0.7777777777777778,\"#fb9f3a\"],[0.8888888888888888,\"#fdca26\"],[1.0,\"#f0f921\"]]}],\"heatmapgl\":[{\"type\":\"heatmapgl\",\"colorbar\":{\"outlinewidth\":0,\"ticks\":\"\"},\"colorscale\":[[0.0,\"#0d0887\"],[0.1111111111111111,\"#46039f\"],[0.2222222222222222,\"#7201a8\"],[0.3333333333333333,\"#9c179e\"],[0.4444444444444444,\"#bd3786\"],[0.5555555555555556,\"#d8576b\"],[0.6666666666666666,\"#ed7953\"],[0.7777777777777778,\"#fb9f3a\"],[0.8888888888888888,\"#fdca26\"],[1.0,\"#f0f921\"]]}],\"contourcarpet\":[{\"type\":\"contourcarpet\",\"colorbar\":{\"outlinewidth\":0,\"ticks\":\"\"}}],\"contour\":[{\"type\":\"contour\",\"colorbar\":{\"outlinewidth\":0,\"ticks\":\"\"},\"colorscale\":[[0.0,\"#0d0887\"],[0.1111111111111111,\"#46039f\"],[0.2222222222222222,\"#7201a8\"],[0.3333333333333333,\"#9c179e\"],[0.4444444444444444,\"#bd3786\"],[0.5555555555555556,\"#d8576b\"],[0.6666666666666666,\"#ed7953\"],[0.7777777777777778,\"#fb9f3a\"],[0.8888888888888888,\"#fdca26\"],[1.0,\"#f0f921\"]]}],\"surface\":[{\"type\":\"surface\",\"colorbar\":{\"outlinewidth\":0,\"ticks\":\"\"},\"colorscale\":[[0.0,\"#0d0887\"],[0.1111111111111111,\"#46039f\"],[0.2222222222222222,\"#7201a8\"],[0.3333333333333333,\"#9c179e\"],[0.4444444444444444,\"#bd3786\"],[0.5555555555555556,\"#d8576b\"],[0.6666666666666666,\"#ed7953\"],[0.7777777777777778,\"#fb9f3a\"],[0.8888888888888888,\"#fdca26\"],[1.0,\"#f0f921\"]]}],\"mesh3d\":[{\"type\":\"mesh3d\",\"colorbar\":{\"outlinewidth\":0,\"ticks\":\"\"}}],\"scatter\":[{\"fillpattern\":{\"fillmode\":\"overlay\",\"size\":10,\"solidity\":0.2},\"type\":\"scatter\"}],\"parcoords\":[{\"type\":\"parcoords\",\"line\":{\"colorbar\":{\"outlinewidth\":0,\"ticks\":\"\"}}}],\"scatterpolargl\":[{\"type\":\"scatterpolargl\",\"marker\":{\"colorbar\":{\"outlinewidth\":0,\"ticks\":\"\"}}}],\"bar\":[{\"error_x\":{\"color\":\"#2a3f5f\"},\"error_y\":{\"color\":\"#2a3f5f\"},\"marker\":{\"line\":{\"color\":\"#E5ECF6\",\"width\":0.5},\"pattern\":{\"fillmode\":\"overlay\",\"size\":10,\"solidity\":0.2}},\"type\":\"bar\"}],\"scattergeo\":[{\"type\":\"scattergeo\",\"marker\":{\"colorbar\":{\"outlinewidth\":0,\"ticks\":\"\"}}}],\"scatterpolar\":[{\"type\":\"scatterpolar\",\"marker\":{\"colorbar\":{\"outlinewidth\":0,\"ticks\":\"\"}}}],\"histogram\":[{\"marker\":{\"pattern\":{\"fillmode\":\"overlay\",\"size\":10,\"solidity\":0.2}},\"type\":\"histogram\"}],\"scattergl\":[{\"type\":\"scattergl\",\"marker\":{\"colorbar\":{\"outlinewidth\":0,\"ticks\":\"\"}}}],\"scatter3d\":[{\"type\":\"scatter3d\",\"line\":{\"colorbar\":{\"outlinewidth\":0,\"ticks\":\"\"}},\"marker\":{\"colorbar\":{\"outlinewidth\":0,\"ticks\":\"\"}}}],\"scattermapbox\":[{\"type\":\"scattermapbox\",\"marker\":{\"colorbar\":{\"outlinewidth\":0,\"ticks\":\"\"}}}],\"scatterternary\":[{\"type\":\"scatterternary\",\"marker\":{\"colorbar\":{\"outlinewidth\":0,\"ticks\":\"\"}}}],\"scattercarpet\":[{\"type\":\"scattercarpet\",\"marker\":{\"colorbar\":{\"outlinewidth\":0,\"ticks\":\"\"}}}],\"carpet\":[{\"aaxis\":{\"endlinecolor\":\"#2a3f5f\",\"gridcolor\":\"white\",\"linecolor\":\"white\",\"minorgridcolor\":\"white\",\"startlinecolor\":\"#2a3f5f\"},\"baxis\":{\"endlinecolor\":\"#2a3f5f\",\"gridcolor\":\"white\",\"linecolor\":\"white\",\"minorgridcolor\":\"white\",\"startlinecolor\":\"#2a3f5f\"},\"type\":\"carpet\"}],\"table\":[{\"cells\":{\"fill\":{\"color\":\"#EBF0F8\"},\"line\":{\"color\":\"white\"}},\"header\":{\"fill\":{\"color\":\"#C8D4E3\"},\"line\":{\"color\":\"white\"}},\"type\":\"table\"}],\"barpolar\":[{\"marker\":{\"line\":{\"color\":\"#E5ECF6\",\"width\":0.5},\"pattern\":{\"fillmode\":\"overlay\",\"size\":10,\"solidity\":0.2}},\"type\":\"barpolar\"}],\"pie\":[{\"automargin\":true,\"type\":\"pie\"}]},\"layout\":{\"autotypenumbers\":\"strict\",\"colorway\":[\"#636efa\",\"#EF553B\",\"#00cc96\",\"#ab63fa\",\"#FFA15A\",\"#19d3f3\",\"#FF6692\",\"#B6E880\",\"#FF97FF\",\"#FECB52\"],\"font\":{\"color\":\"#2a3f5f\"},\"hovermode\":\"closest\",\"hoverlabel\":{\"align\":\"left\"},\"paper_bgcolor\":\"white\",\"plot_bgcolor\":\"#E5ECF6\",\"polar\":{\"bgcolor\":\"#E5ECF6\",\"angularaxis\":{\"gridcolor\":\"white\",\"linecolor\":\"white\",\"ticks\":\"\"},\"radialaxis\":{\"gridcolor\":\"white\",\"linecolor\":\"white\",\"ticks\":\"\"}},\"ternary\":{\"bgcolor\":\"#E5ECF6\",\"aaxis\":{\"gridcolor\":\"white\",\"linecolor\":\"white\",\"ticks\":\"\"},\"baxis\":{\"gridcolor\":\"white\",\"linecolor\":\"white\",\"ticks\":\"\"},\"caxis\":{\"gridcolor\":\"white\",\"linecolor\":\"white\",\"ticks\":\"\"}},\"coloraxis\":{\"colorbar\":{\"outlinewidth\":0,\"ticks\":\"\"}},\"colorscale\":{\"sequential\":[[0.0,\"#0d0887\"],[0.1111111111111111,\"#46039f\"],[0.2222222222222222,\"#7201a8\"],[0.3333333333333333,\"#9c179e\"],[0.4444444444444444,\"#bd3786\"],[0.5555555555555556,\"#d8576b\"],[0.6666666666666666,\"#ed7953\"],[0.7777777777777778,\"#fb9f3a\"],[0.8888888888888888,\"#fdca26\"],[1.0,\"#f0f921\"]],\"sequentialminus\":[[0.0,\"#0d0887\"],[0.1111111111111111,\"#46039f\"],[0.2222222222222222,\"#7201a8\"],[0.3333333333333333,\"#9c179e\"],[0.4444444444444444,\"#bd3786\"],[0.5555555555555556,\"#d8576b\"],[0.6666666666666666,\"#ed7953\"],[0.7777777777777778,\"#fb9f3a\"],[0.8888888888888888,\"#fdca26\"],[1.0,\"#f0f921\"]],\"diverging\":[[0,\"#8e0152\"],[0.1,\"#c51b7d\"],[0.2,\"#de77ae\"],[0.3,\"#f1b6da\"],[0.4,\"#fde0ef\"],[0.5,\"#f7f7f7\"],[0.6,\"#e6f5d0\"],[0.7,\"#b8e186\"],[0.8,\"#7fbc41\"],[0.9,\"#4d9221\"],[1,\"#276419\"]]},\"xaxis\":{\"gridcolor\":\"white\",\"linecolor\":\"white\",\"ticks\":\"\",\"title\":{\"standoff\":15},\"zerolinecolor\":\"white\",\"automargin\":true,\"zerolinewidth\":2},\"yaxis\":{\"gridcolor\":\"white\",\"linecolor\":\"white\",\"ticks\":\"\",\"title\":{\"standoff\":15},\"zerolinecolor\":\"white\",\"automargin\":true,\"zerolinewidth\":2},\"scene\":{\"xaxis\":{\"backgroundcolor\":\"#E5ECF6\",\"gridcolor\":\"white\",\"linecolor\":\"white\",\"showbackground\":true,\"ticks\":\"\",\"zerolinecolor\":\"white\",\"gridwidth\":2},\"yaxis\":{\"backgroundcolor\":\"#E5ECF6\",\"gridcolor\":\"white\",\"linecolor\":\"white\",\"showbackground\":true,\"ticks\":\"\",\"zerolinecolor\":\"white\",\"gridwidth\":2},\"zaxis\":{\"backgroundcolor\":\"#E5ECF6\",\"gridcolor\":\"white\",\"linecolor\":\"white\",\"showbackground\":true,\"ticks\":\"\",\"zerolinecolor\":\"white\",\"gridwidth\":2}},\"shapedefaults\":{\"line\":{\"color\":\"#2a3f5f\"}},\"annotationdefaults\":{\"arrowcolor\":\"#2a3f5f\",\"arrowhead\":0,\"arrowwidth\":1},\"geo\":{\"bgcolor\":\"white\",\"landcolor\":\"#E5ECF6\",\"subunitcolor\":\"white\",\"showland\":true,\"showlakes\":true,\"lakecolor\":\"white\"},\"title\":{\"x\":0.05},\"mapbox\":{\"style\":\"light\"}}},\"xaxis\":{\"anchor\":\"y\",\"domain\":[0.0,1.0],\"matches\":\"x2\",\"showticklabels\":false},\"yaxis\":{\"anchor\":\"x\",\"domain\":[0.515,1.0],\"title\":{\"text\":\"Voc [V]\"},\"tickformat\":\".3f\"},\"xaxis2\":{\"anchor\":\"y2\",\"domain\":[0.0,1.0]},\"yaxis2\":{\"anchor\":\"x2\",\"domain\":[0.0,0.485],\"title\":{\"text\":\"PL of Voc\"},\"tickformat\":\".1%\"},\"shapes\":[{\"line\":{\"color\":\"grey\",\"dash\":\"dash\",\"width\":1},\"type\":\"line\",\"x0\":0.5,\"x1\":0.5,\"xref\":\"x\",\"y0\":0,\"y1\":1,\"yref\":\"y domain\"},{\"line\":{\"color\":\"grey\",\"dash\":\"dash\",\"width\":1},\"type\":\"line\",\"x0\":0.5,\"x1\":0.5,\"xref\":\"x2\",\"y0\":0,\"y1\":1,\"yref\":\"y2 domain\"},{\"line\":{\"color\":\"grey\",\"dash\":\"dash\",\"width\":1},\"type\":\"line\",\"x0\":1.5,\"x1\":1.5,\"xref\":\"x\",\"y0\":0,\"y1\":1,\"yref\":\"y domain\"},{\"line\":{\"color\":\"grey\",\"dash\":\"dash\",\"width\":1},\"type\":\"line\",\"x0\":1.5,\"x1\":1.5,\"xref\":\"x2\",\"y0\":0,\"y1\":1,\"yref\":\"y2 domain\"},{\"line\":{\"color\":\"grey\",\"dash\":\"dash\",\"width\":1},\"type\":\"line\",\"x0\":2.5,\"x1\":2.5,\"xref\":\"x\",\"y0\":0,\"y1\":1,\"yref\":\"y domain\"},{\"line\":{\"color\":\"grey\",\"dash\":\"dash\",\"width\":1},\"type\":\"line\",\"x0\":2.5,\"x1\":2.5,\"xref\":\"x2\",\"y0\":0,\"y1\":1,\"yref\":\"y2 domain\"},{\"line\":{\"color\":\"grey\",\"dash\":\"dash\",\"width\":1},\"type\":\"line\",\"x0\":3.5,\"x1\":3.5,\"xref\":\"x\",\"y0\":0,\"y1\":1,\"yref\":\"y domain\"},{\"line\":{\"color\":\"grey\",\"dash\":\"dash\",\"width\":1},\"type\":\"line\",\"x0\":3.5,\"x1\":3.5,\"xref\":\"x2\",\"y0\":0,\"y1\":1,\"yref\":\"y2 domain\"}],\"annotations\":[{\"font\":{\"size\":18},\"showarrow\":false,\"text\":\"$ \\\\textrm{ Performance Loss (PL) } \\\\\\\\\\\\ = \\\\\\\\\\\\ \\\\frac{\\\\textrm{Original measurement } - \\\\textrm{ Re-measurement}}{\\\\textrm{Original measurement}}$\",\"x\":1.35,\"xref\":\"paper\",\"y\":0.5,\"yref\":\"paper\"}],\"title\":{\"text\":\"Voc performance between 5 annealing tests\"},\"boxmode\":\"group\",\"height\":600,\"width\":900,\"boxgap\":0.5},                        {\"responsive\": true}                    ).then(function(){\n",
       "                            \n",
       "var gd = document.getElementById('d614624c-d1e1-403d-a390-cc531bcccafc');\n",
       "var x = new MutationObserver(function (mutations, observer) {{\n",
       "        var display = window.getComputedStyle(gd).display;\n",
       "        if (!display || display === 'none') {{\n",
       "            console.log([gd, 'removed!']);\n",
       "            Plotly.purge(gd);\n",
       "            observer.disconnect();\n",
       "        }}\n",
       "}});\n",
       "\n",
       "// Listen for the removal of the full notebook cells\n",
       "var notebookContainer = gd.closest('#notebook-container');\n",
       "if (notebookContainer) {{\n",
       "    x.observe(notebookContainer, {childList: true});\n",
       "}}\n",
       "\n",
       "// Listen for the clearing of the current output cell\n",
       "var outputEl = gd.closest('.output');\n",
       "if (outputEl) {{\n",
       "    x.observe(outputEl, {childList: true});\n",
       "}}\n",
       "\n",
       "                        })                };                });            </script>        </div>"
      ]
     },
     "metadata": {},
     "output_type": "display_data"
    }
   ],
   "source": [
    "Annealing_test_wide_V = Annealing_test_wide[Annealing_test_wide['Voc_PLaA'] < 0.1]\n",
    "Annealing_test_wide_V = Annealing_test_wide_V[Annealing_test_wide_V['Voc_PLbA'] < 0.1]\n",
    "\n",
    "fig_V = make_subplots(rows=2, cols=1,shared_xaxes = True,vertical_spacing=0.03)\n",
    "\n",
    "fig_V.add_trace(\n",
    "    go.Box(y=Annealing_test_wide_V['Voc [V]'], x = Annealing_test_wide_V[\"Notes\"], \n",
    "           name = \"Original measurments\", offsetgroup = \"A\"),\n",
    "    row=1, col=1\n",
    ")\n",
    "\n",
    "fig_V.add_trace(\n",
    "    go.Box(y=Annealing_test_wide_V['Voc [V].1'], x = Annealing_test_wide_V[\"Notes\"], \n",
    "           name = \"Remeasure before annealing\", offsetgroup = \"B\"),\n",
    "    row=1, col=1\n",
    ")\n",
    "\n",
    "fig_V.add_trace(\n",
    "    go.Box(y=Annealing_test_wide_V['Voc [V].2'], x = Annealing_test_wide_V[\"Notes\"], \n",
    "           name = \"Remeasure after annealing\", offsetgroup = \"C\"),\n",
    "    row=1, col=1,\n",
    ")\n",
    "\n",
    "fig_V.add_trace(\n",
    "    go.Box(y=Annealing_test_wide_V['Voc_PLbA'], x = Annealing_test_wide_V[\"Notes\"], \n",
    "           name = \"Performance loss before annealing\", offsetgroup = \"B\"),\n",
    "    row=2, col=1\n",
    ")\n",
    "\n",
    "fig_V.add_trace(\n",
    "    go.Box(y=Annealing_test_wide_V['Voc_PLaA'], x = Annealing_test_wide_V[\"Notes\"], \n",
    "           name = \"Performance loss after annealing\", offsetgroup = \"C\"),\n",
    "    row=2, col=1\n",
    ")\n",
    "vx = 0.5\n",
    "fig_V.add_vline(x=vx, line_width=1, line_dash=\"dash\", line_color=\"grey\")\n",
    "fig_V.add_vline(x=vx+1, line_width=1, line_dash=\"dash\", line_color=\"grey\")\n",
    "fig_V.add_vline(x=vx+2, line_width=1, line_dash=\"dash\", line_color=\"grey\")\n",
    "fig_V.add_vline(x=vx+3, line_width=1, line_dash=\"dash\", line_color=\"grey\")\n",
    "\n",
    "fig_V.add_annotation(yref='paper', xref='paper', y=0.5,x = 1.35,showarrow=False, font_size =18,\n",
    "            text=r'$ \\textrm{ Performance Loss (PL) } \\\\\\ = \\\\\\ \\frac{\\textrm{Original measurement } - \\textrm{ Re-measurement}}{\\textrm{Original measurement}}$')\n",
    "\n",
    "fig_V.update_layout(title=\"Voc performance between 5 annealing tests\",\n",
    "                     boxmode='group', height=600, width=900,\n",
    "                     boxgap=0.5,\n",
    "                     yaxis=dict(title=\"Voc [V]\", tickformat=\".3f\"),\n",
    "                     yaxis2=dict(title=\"PL of Voc\", tickformat=\".1%\")\n",
    "                    ) \n",
    "fig_V.show()\n",
    "fig_V.write_image(\"2.1.V Voc performance between 5 annealing tests.png\", scale=3, width=900, height=600) "
   ]
  },
  {
   "cell_type": "code",
   "execution_count": 144,
   "id": "2fcdf572",
   "metadata": {},
   "outputs": [
    {
     "data": {
      "application/vnd.plotly.v1+json": {
       "config": {
        "plotlyServerURL": "https://plot.ly"
       },
       "data": [
        {
         "name": "Original measurments",
         "offsetgroup": "A",
         "type": "box",
         "x": [
          "2h annealing in cassettes",
          "2h annealing in cassettes",
          "2h annealing in cassettes",
          "2h annealing in cassettes",
          "2h annealing in cassettes",
          "2h annealing in cassettes",
          "2h annealing in cassettes",
          "2h annealing in cassettes",
          "2h annealing in cassettes",
          "2h annealing in cassettes",
          "2h annealing in cassettes",
          "2h annealing in cassettes",
          "1h annealing in cassettes ",
          "1h annealing in cassettes ",
          "1h annealing in cassettes ",
          "1h annealing in cassettes ",
          "1h annealing in cassettes ",
          "1h annealing in cassettes ",
          "1h annealing in cassettes ",
          "1h annealing in cassettes ",
          "1h annealing in cassettes ",
          "1h annealing in cassettes ",
          "1h annealing in cassettes ",
          "1h annealing in cassettes ",
          "30min annealing in cassettes",
          "30min annealing in cassettes",
          "30min annealing in cassettes",
          "30min annealing in cassettes",
          "30min annealing in cassettes",
          "30min annealing in cassettes",
          "30min annealing in cassettes",
          "30min annealing in cassettes",
          "30min annealing in cassettes",
          "30min annealing in cassettes",
          "30min annealing in cassettes",
          "30min annealing in cassettes",
          "15min annealing in cassettes",
          "15min annealing in cassettes",
          "15min annealing in cassettes",
          "15min annealing in cassettes",
          "15min annealing in cassettes",
          "15min annealing in cassettes",
          "15min annealing in cassettes",
          "15min annealing in cassettes",
          "15min annealing in cassettes",
          "15min annealing in cassettes",
          "15min annealing in cassettes",
          "15min annealing in cassettes",
          "15min annealing in coinstack",
          "15min annealing in coinstack",
          "15min annealing in coinstack",
          "15min annealing in coinstack",
          "15min annealing in coinstack",
          "15min annealing in coinstack",
          "15min annealing in coinstack",
          "15min annealing in coinstack",
          "15min annealing in coinstack",
          "15min annealing in coinstack",
          "15min annealing in coinstack",
          "15min annealing in coinstack",
          "15min annealing in coinstack",
          "15min annealing in coinstack"
         ],
         "xaxis": "x",
         "y": [
          6.4679999351501465,
          6.484000205993652,
          6.421000003814697,
          6.534999847412109,
          6.479000091552734,
          6.514999866485596,
          6.533999919891357,
          6.51200008392334,
          6.4710001945495605,
          6.502999782562256,
          6.488999843597412,
          6.544000148773193,
          6.479000091552734,
          6.5879998207092285,
          6.578000068664551,
          6.51800012588501,
          6.449999809265137,
          6.533999919891357,
          6.5279998779296875,
          6.514999866485596,
          6.494999885559082,
          6.545000076293945,
          6.504000186920166,
          6.4710001945495605,
          6.479000091552734,
          6.442999839782715,
          6.39900016784668,
          6.388999938964844,
          6.427999973297119,
          6.708000183105469,
          6.710999965667725,
          6.742000102996826,
          6.677000045776367,
          6.614999771118164,
          6.664999961853027,
          6.718999862670898,
          6.703000068664551,
          6.734000205993652,
          6.580999851226807,
          6.6570000648498535,
          6.624000072479248,
          6.630000114440918,
          6.620999813079834,
          6.660999774932861,
          6.671999931335449,
          6.644000053405762,
          6.624000072479248,
          6.671000003814697,
          6.697999954223633,
          6.501999855041504,
          6.659999847412109,
          6.627999782562256,
          6.5929999351501465,
          6.6020002365112305,
          6.611999988555908,
          6.573999881744385,
          6.605999946594238,
          6.5970001220703125,
          6.561999797821045,
          6.599999904632568,
          6.565999984741211,
          6.514999866485596
         ],
         "yaxis": "y"
        },
        {
         "name": "Remeasure before annealing",
         "offsetgroup": "B",
         "type": "box",
         "x": [
          "2h annealing in cassettes",
          "2h annealing in cassettes",
          "2h annealing in cassettes",
          "2h annealing in cassettes",
          "2h annealing in cassettes",
          "2h annealing in cassettes",
          "2h annealing in cassettes",
          "2h annealing in cassettes",
          "2h annealing in cassettes",
          "2h annealing in cassettes",
          "2h annealing in cassettes",
          "2h annealing in cassettes",
          "1h annealing in cassettes ",
          "1h annealing in cassettes ",
          "1h annealing in cassettes ",
          "1h annealing in cassettes ",
          "1h annealing in cassettes ",
          "1h annealing in cassettes ",
          "1h annealing in cassettes ",
          "1h annealing in cassettes ",
          "1h annealing in cassettes ",
          "1h annealing in cassettes ",
          "1h annealing in cassettes ",
          "1h annealing in cassettes ",
          "30min annealing in cassettes",
          "30min annealing in cassettes",
          "30min annealing in cassettes",
          "30min annealing in cassettes",
          "30min annealing in cassettes",
          "30min annealing in cassettes",
          "30min annealing in cassettes",
          "30min annealing in cassettes",
          "30min annealing in cassettes",
          "30min annealing in cassettes",
          "30min annealing in cassettes",
          "30min annealing in cassettes",
          "15min annealing in cassettes",
          "15min annealing in cassettes",
          "15min annealing in cassettes",
          "15min annealing in cassettes",
          "15min annealing in cassettes",
          "15min annealing in cassettes",
          "15min annealing in cassettes",
          "15min annealing in cassettes",
          "15min annealing in cassettes",
          "15min annealing in cassettes",
          "15min annealing in cassettes",
          "15min annealing in cassettes",
          "15min annealing in coinstack",
          "15min annealing in coinstack",
          "15min annealing in coinstack",
          "15min annealing in coinstack",
          "15min annealing in coinstack",
          "15min annealing in coinstack",
          "15min annealing in coinstack",
          "15min annealing in coinstack",
          "15min annealing in coinstack",
          "15min annealing in coinstack",
          "15min annealing in coinstack",
          "15min annealing in coinstack",
          "15min annealing in coinstack",
          "15min annealing in coinstack"
         ],
         "xaxis": "x",
         "y": [
          6.5279998779296875,
          6.5,
          6.498000144958496,
          6.572999954223633,
          6.539999961853027,
          6.546999931335449,
          6.554999828338623,
          6.541999816894531,
          6.525000095367432,
          6.531000137329102,
          6.526000022888184,
          6.559999942779541,
          6.511000156402588,
          6.590000152587891,
          6.599999904632568,
          6.565000057220459,
          6.510000228881836,
          6.585999965667725,
          6.564000129699707,
          6.552999973297119,
          6.551000118255615,
          6.584000110626221,
          6.5920000076293945,
          6.520999908447266,
          6.540999889373779,
          6.53000020980835,
          6.474999904632568,
          6.513000011444092,
          6.5320000648498535,
          6.728000164031982,
          6.708000183105469,
          6.716000080108643,
          6.703999996185303,
          6.64300012588501,
          6.664999961853027,
          6.734000205993652,
          6.7210001945495605,
          6.73799991607666,
          6.565999984741211,
          6.658999919891357,
          6.63100004196167,
          6.671000003814697,
          6.670000076293945,
          6.678999900817871,
          6.65500020980835,
          6.677999973297119,
          6.665999889373779,
          6.745999813079834,
          6.738999843597412,
          6.548999786376953,
          6.6570000648498535,
          6.611000061035156,
          6.611000061035156,
          6.632999897003174,
          6.6579999923706055,
          6.5879998207092285,
          6.627999782562256,
          6.640999794006348,
          6.620999813079834,
          6.644000053405762,
          6.571000099182129,
          6.517000198364258
         ],
         "yaxis": "y"
        },
        {
         "name": "Remeasure after annealing",
         "offsetgroup": "C",
         "type": "box",
         "x": [
          "2h annealing in cassettes",
          "2h annealing in cassettes",
          "2h annealing in cassettes",
          "2h annealing in cassettes",
          "2h annealing in cassettes",
          "2h annealing in cassettes",
          "2h annealing in cassettes",
          "2h annealing in cassettes",
          "2h annealing in cassettes",
          "2h annealing in cassettes",
          "2h annealing in cassettes",
          "2h annealing in cassettes",
          "1h annealing in cassettes ",
          "1h annealing in cassettes ",
          "1h annealing in cassettes ",
          "1h annealing in cassettes ",
          "1h annealing in cassettes ",
          "1h annealing in cassettes ",
          "1h annealing in cassettes ",
          "1h annealing in cassettes ",
          "1h annealing in cassettes ",
          "1h annealing in cassettes ",
          "1h annealing in cassettes ",
          "1h annealing in cassettes ",
          "30min annealing in cassettes",
          "30min annealing in cassettes",
          "30min annealing in cassettes",
          "30min annealing in cassettes",
          "30min annealing in cassettes",
          "30min annealing in cassettes",
          "30min annealing in cassettes",
          "30min annealing in cassettes",
          "30min annealing in cassettes",
          "30min annealing in cassettes",
          "30min annealing in cassettes",
          "30min annealing in cassettes",
          "15min annealing in cassettes",
          "15min annealing in cassettes",
          "15min annealing in cassettes",
          "15min annealing in cassettes",
          "15min annealing in cassettes",
          "15min annealing in cassettes",
          "15min annealing in cassettes",
          "15min annealing in cassettes",
          "15min annealing in cassettes",
          "15min annealing in cassettes",
          "15min annealing in cassettes",
          "15min annealing in cassettes",
          "15min annealing in coinstack",
          "15min annealing in coinstack",
          "15min annealing in coinstack",
          "15min annealing in coinstack",
          "15min annealing in coinstack",
          "15min annealing in coinstack",
          "15min annealing in coinstack",
          "15min annealing in coinstack",
          "15min annealing in coinstack",
          "15min annealing in coinstack",
          "15min annealing in coinstack",
          "15min annealing in coinstack",
          "15min annealing in coinstack",
          "15min annealing in coinstack"
         ],
         "xaxis": "x",
         "y": [
          6.36299991607666,
          6.468999862670898,
          6.419000148773193,
          6.495999813079834,
          6.445000171661377,
          6.452000141143799,
          6.514999866485596,
          6.501999855041504,
          6.501999855041504,
          6.4730000495910645,
          6.514999866485596,
          6.514999866485596,
          6.515999794006348,
          6.564000129699707,
          6.579999923706055,
          6.561999797821045,
          6.513999938964844,
          6.520999908447266,
          6.52400016784668,
          6.514999866485596,
          6.504000186920166,
          6.513999938964844,
          6.51800012588501,
          6.440000057220459,
          6.48199987411499,
          6.498000144958496,
          6.4710001945495605,
          6.50600004196167,
          6.550000190734863,
          6.684000015258789,
          6.669000148773193,
          6.695000171661377,
          6.626999855041504,
          6.5920000076293945,
          6.639999866485596,
          6.684000015258789,
          6.664999961853027,
          6.738999843597412,
          6.565000057220459,
          6.6539998054504395,
          6.633999824523926,
          6.663000106811523,
          6.664000034332275,
          6.686999797821045,
          6.677999973297119,
          6.664000034332275,
          6.6539998054504395,
          6.701000213623047,
          6.672999858856201,
          6.585999965667725,
          6.703999996185303,
          6.651000022888184,
          6.609000205993652,
          6.663000106811523,
          6.706999778747559,
          6.671000003814697,
          6.627999782562256,
          6.638000011444092,
          6.6539998054504395,
          6.675000190734863,
          6.635000228881836,
          6.51800012588501
         ],
         "yaxis": "y"
        },
        {
         "name": "Performance loss before annealing",
         "offsetgroup": "B",
         "type": "box",
         "x": [
          "2h annealing in cassettes",
          "2h annealing in cassettes",
          "2h annealing in cassettes",
          "2h annealing in cassettes",
          "2h annealing in cassettes",
          "2h annealing in cassettes",
          "2h annealing in cassettes",
          "2h annealing in cassettes",
          "2h annealing in cassettes",
          "2h annealing in cassettes",
          "2h annealing in cassettes",
          "2h annealing in cassettes",
          "1h annealing in cassettes ",
          "1h annealing in cassettes ",
          "1h annealing in cassettes ",
          "1h annealing in cassettes ",
          "1h annealing in cassettes ",
          "1h annealing in cassettes ",
          "1h annealing in cassettes ",
          "1h annealing in cassettes ",
          "1h annealing in cassettes ",
          "1h annealing in cassettes ",
          "1h annealing in cassettes ",
          "1h annealing in cassettes ",
          "30min annealing in cassettes",
          "30min annealing in cassettes",
          "30min annealing in cassettes",
          "30min annealing in cassettes",
          "30min annealing in cassettes",
          "30min annealing in cassettes",
          "30min annealing in cassettes",
          "30min annealing in cassettes",
          "30min annealing in cassettes",
          "30min annealing in cassettes",
          "30min annealing in cassettes",
          "30min annealing in cassettes",
          "15min annealing in cassettes",
          "15min annealing in cassettes",
          "15min annealing in cassettes",
          "15min annealing in cassettes",
          "15min annealing in cassettes",
          "15min annealing in cassettes",
          "15min annealing in cassettes",
          "15min annealing in cassettes",
          "15min annealing in cassettes",
          "15min annealing in cassettes",
          "15min annealing in cassettes",
          "15min annealing in cassettes",
          "15min annealing in coinstack",
          "15min annealing in coinstack",
          "15min annealing in coinstack",
          "15min annealing in coinstack",
          "15min annealing in coinstack",
          "15min annealing in coinstack",
          "15min annealing in coinstack",
          "15min annealing in coinstack",
          "15min annealing in coinstack",
          "15min annealing in coinstack",
          "15min annealing in coinstack",
          "15min annealing in coinstack",
          "15min annealing in coinstack",
          "15min annealing in coinstack"
         ],
         "xaxis": "x2",
         "y": [
          -0.009276429094173791,
          -0.0024675807368972373,
          -0.011991923547430816,
          -0.005814859632563214,
          -0.009415013032616574,
          -0.004911752188126352,
          -0.003213943787072283,
          -0.004606838541856592,
          -0.008344907926807745,
          -0.004305759757508902,
          -0.005701984925655214,
          -0.0024449562412291732,
          -0.004939043740958567,
          -0.00030363265529760814,
          -0.003344456633987833,
          -0.007210790185289786,
          -0.009302390913331703,
          -0.007958378698179079,
          -0.005514744553187212,
          -0.005832710297816466,
          -0.008622052915049862,
          -0.005958752311330583,
          -0.013530107346275922,
          -0.007726736577727071,
          -0.0095693466499375,
          -0.013503084306854303,
          -0.011876814313549746,
          -0.019408369645303007,
          -0.016179230240318362,
          -0.0029815116846426027,
          0.0004469948707498451,
          0.003856425762530997,
          -0.004043724760195974,
          -0.00423285800992744,
          0,
          -0.0022325262136247545,
          -0.002685383514936463,
          -0.0005939575231149886,
          0.0022792686255416767,
          -0.0003004138533907333,
          -0.001056758666338889,
          -0.00618399527391813,
          -0.007400734722467587,
          -0.0027023159425329955,
          0.0025479199193722104,
          -0.0051173870587085295,
          -0.006340551998033335,
          -0.011242663651963627,
          -0.0061212137435034675,
          -0.007228534663686056,
          0.00045041781246008455,
          0.0025648343519600793,
          -0.002730187480974067,
          -0.004695495210755227,
          -0.006957048380870291,
          -0.002129592214280497,
          -0.003330280978788037,
          -0.006669648495053673,
          -0.008991163833680763,
          -0.006666689304390666,
          -0.0007615160603925955,
          -0.0003070348303385544
         ],
         "yaxis": "y2"
        },
        {
         "name": "Performance loss after annealing",
         "offsetgroup": "C",
         "type": "box",
         "x": [
          "2h annealing in cassettes",
          "2h annealing in cassettes",
          "2h annealing in cassettes",
          "2h annealing in cassettes",
          "2h annealing in cassettes",
          "2h annealing in cassettes",
          "2h annealing in cassettes",
          "2h annealing in cassettes",
          "2h annealing in cassettes",
          "2h annealing in cassettes",
          "2h annealing in cassettes",
          "2h annealing in cassettes",
          "1h annealing in cassettes ",
          "1h annealing in cassettes ",
          "1h annealing in cassettes ",
          "1h annealing in cassettes ",
          "1h annealing in cassettes ",
          "1h annealing in cassettes ",
          "1h annealing in cassettes ",
          "1h annealing in cassettes ",
          "1h annealing in cassettes ",
          "1h annealing in cassettes ",
          "1h annealing in cassettes ",
          "1h annealing in cassettes ",
          "30min annealing in cassettes",
          "30min annealing in cassettes",
          "30min annealing in cassettes",
          "30min annealing in cassettes",
          "30min annealing in cassettes",
          "30min annealing in cassettes",
          "30min annealing in cassettes",
          "30min annealing in cassettes",
          "30min annealing in cassettes",
          "30min annealing in cassettes",
          "30min annealing in cassettes",
          "30min annealing in cassettes",
          "15min annealing in cassettes",
          "15min annealing in cassettes",
          "15min annealing in cassettes",
          "15min annealing in cassettes",
          "15min annealing in cassettes",
          "15min annealing in cassettes",
          "15min annealing in cassettes",
          "15min annealing in cassettes",
          "15min annealing in cassettes",
          "15min annealing in cassettes",
          "15min annealing in cassettes",
          "15min annealing in cassettes",
          "15min annealing in coinstack",
          "15min annealing in coinstack",
          "15min annealing in coinstack",
          "15min annealing in coinstack",
          "15min annealing in coinstack",
          "15min annealing in coinstack",
          "15min annealing in coinstack",
          "15min annealing in coinstack",
          "15min annealing in coinstack",
          "15min annealing in coinstack",
          "15min annealing in coinstack",
          "15min annealing in coinstack",
          "15min annealing in coinstack",
          "15min annealing in coinstack"
         ],
         "xaxis": "x2",
         "y": [
          0.01623376934543041,
          0.0023134396739975353,
          0.000311455387060551,
          0.0059678707334200765,
          0.005247710975600422,
          0.00966995036575204,
          0.0029078747533987782,
          0.001535661663537789,
          -0.004790551624160662,
          0.0046132145124217075,
          -0.004006784329612426,
          0.00443158337840722,
          -0.005710711827563204,
          0.0036429404466707784,
          -0.00030402174226640163,
          -0.006750486512158652,
          -0.00992250102205797,
          0.0019895946745447698,
          0.0006127006981924599,
          0,
          -0.0013857277166540317,
          0.004736460957637627,
          -0.0021525120791045255,
          0.004790625312484548,
          -0.00046300085196278215,
          -0.008536443666532218,
          -0.011251761965042972,
          -0.018312741291993614,
          -0.01897949874681883,
          0.0035778424555094166,
          0.00625835450892487,
          0.006971214864644944,
          0.007488421505477093,
          0.003476910700615455,
          0.0037509520645940143,
          0.00520908589484573,
          0.005669119263353112,
          -0.0007424469038937357,
          0.0024312102063586936,
          0.0004506924095218155,
          -0.0015096243863619103,
          -0.004977374328957795,
          -0.006494520837697979,
          -0.0039033213881839017,
          -0.0008992868740136467,
          -0.0030102319033338265,
          -0.004528945145370904,
          -0.004497108348252811,
          0.003732471713689256,
          -0.012919119117034264,
          -0.0066066290962890325,
          -0.003470163108097793,
          -0.0024268574246757483,
          -0.009239604379736862,
          -0.014367784385371542,
          -0.014755114666137461,
          -0.003330280978788037,
          -0.006214929303489607,
          -0.014020117412978851,
          -0.01136367987666968,
          -0.010508718291345616,
          -0.0004605156501764444
         ],
         "yaxis": "y2"
        }
       ],
       "layout": {
        "annotations": [
         {
          "font": {
           "size": 18
          },
          "showarrow": false,
          "text": "$ \\textrm{ Performance Loss (PL) } \\\\\\ = \\\\\\ \\frac{\\textrm{Original measurement } - \\textrm{ Re-measurement}}{\\textrm{Original measurement}}$",
          "x": 1.35,
          "xref": "paper",
          "y": 0.5,
          "yref": "paper"
         }
        ],
        "boxgap": 0.5,
        "boxmode": "group",
        "height": 600,
        "shapes": [
         {
          "line": {
           "color": "grey",
           "dash": "dash",
           "width": 1
          },
          "type": "line",
          "x0": 0.5,
          "x1": 0.5,
          "xref": "x",
          "y0": 0,
          "y1": 1,
          "yref": "y domain"
         },
         {
          "line": {
           "color": "grey",
           "dash": "dash",
           "width": 1
          },
          "type": "line",
          "x0": 0.5,
          "x1": 0.5,
          "xref": "x2",
          "y0": 0,
          "y1": 1,
          "yref": "y2 domain"
         },
         {
          "line": {
           "color": "grey",
           "dash": "dash",
           "width": 1
          },
          "type": "line",
          "x0": 1.5,
          "x1": 1.5,
          "xref": "x",
          "y0": 0,
          "y1": 1,
          "yref": "y domain"
         },
         {
          "line": {
           "color": "grey",
           "dash": "dash",
           "width": 1
          },
          "type": "line",
          "x0": 1.5,
          "x1": 1.5,
          "xref": "x2",
          "y0": 0,
          "y1": 1,
          "yref": "y2 domain"
         },
         {
          "line": {
           "color": "grey",
           "dash": "dash",
           "width": 1
          },
          "type": "line",
          "x0": 2.5,
          "x1": 2.5,
          "xref": "x",
          "y0": 0,
          "y1": 1,
          "yref": "y domain"
         },
         {
          "line": {
           "color": "grey",
           "dash": "dash",
           "width": 1
          },
          "type": "line",
          "x0": 2.5,
          "x1": 2.5,
          "xref": "x2",
          "y0": 0,
          "y1": 1,
          "yref": "y2 domain"
         },
         {
          "line": {
           "color": "grey",
           "dash": "dash",
           "width": 1
          },
          "type": "line",
          "x0": 3.5,
          "x1": 3.5,
          "xref": "x",
          "y0": 0,
          "y1": 1,
          "yref": "y domain"
         },
         {
          "line": {
           "color": "grey",
           "dash": "dash",
           "width": 1
          },
          "type": "line",
          "x0": 3.5,
          "x1": 3.5,
          "xref": "x2",
          "y0": 0,
          "y1": 1,
          "yref": "y2 domain"
         }
        ],
        "template": {
         "data": {
          "bar": [
           {
            "error_x": {
             "color": "#2a3f5f"
            },
            "error_y": {
             "color": "#2a3f5f"
            },
            "marker": {
             "line": {
              "color": "#E5ECF6",
              "width": 0.5
             },
             "pattern": {
              "fillmode": "overlay",
              "size": 10,
              "solidity": 0.2
             }
            },
            "type": "bar"
           }
          ],
          "barpolar": [
           {
            "marker": {
             "line": {
              "color": "#E5ECF6",
              "width": 0.5
             },
             "pattern": {
              "fillmode": "overlay",
              "size": 10,
              "solidity": 0.2
             }
            },
            "type": "barpolar"
           }
          ],
          "carpet": [
           {
            "aaxis": {
             "endlinecolor": "#2a3f5f",
             "gridcolor": "white",
             "linecolor": "white",
             "minorgridcolor": "white",
             "startlinecolor": "#2a3f5f"
            },
            "baxis": {
             "endlinecolor": "#2a3f5f",
             "gridcolor": "white",
             "linecolor": "white",
             "minorgridcolor": "white",
             "startlinecolor": "#2a3f5f"
            },
            "type": "carpet"
           }
          ],
          "choropleth": [
           {
            "colorbar": {
             "outlinewidth": 0,
             "ticks": ""
            },
            "type": "choropleth"
           }
          ],
          "contour": [
           {
            "colorbar": {
             "outlinewidth": 0,
             "ticks": ""
            },
            "colorscale": [
             [
              0,
              "#0d0887"
             ],
             [
              0.1111111111111111,
              "#46039f"
             ],
             [
              0.2222222222222222,
              "#7201a8"
             ],
             [
              0.3333333333333333,
              "#9c179e"
             ],
             [
              0.4444444444444444,
              "#bd3786"
             ],
             [
              0.5555555555555556,
              "#d8576b"
             ],
             [
              0.6666666666666666,
              "#ed7953"
             ],
             [
              0.7777777777777778,
              "#fb9f3a"
             ],
             [
              0.8888888888888888,
              "#fdca26"
             ],
             [
              1,
              "#f0f921"
             ]
            ],
            "type": "contour"
           }
          ],
          "contourcarpet": [
           {
            "colorbar": {
             "outlinewidth": 0,
             "ticks": ""
            },
            "type": "contourcarpet"
           }
          ],
          "heatmap": [
           {
            "colorbar": {
             "outlinewidth": 0,
             "ticks": ""
            },
            "colorscale": [
             [
              0,
              "#0d0887"
             ],
             [
              0.1111111111111111,
              "#46039f"
             ],
             [
              0.2222222222222222,
              "#7201a8"
             ],
             [
              0.3333333333333333,
              "#9c179e"
             ],
             [
              0.4444444444444444,
              "#bd3786"
             ],
             [
              0.5555555555555556,
              "#d8576b"
             ],
             [
              0.6666666666666666,
              "#ed7953"
             ],
             [
              0.7777777777777778,
              "#fb9f3a"
             ],
             [
              0.8888888888888888,
              "#fdca26"
             ],
             [
              1,
              "#f0f921"
             ]
            ],
            "type": "heatmap"
           }
          ],
          "heatmapgl": [
           {
            "colorbar": {
             "outlinewidth": 0,
             "ticks": ""
            },
            "colorscale": [
             [
              0,
              "#0d0887"
             ],
             [
              0.1111111111111111,
              "#46039f"
             ],
             [
              0.2222222222222222,
              "#7201a8"
             ],
             [
              0.3333333333333333,
              "#9c179e"
             ],
             [
              0.4444444444444444,
              "#bd3786"
             ],
             [
              0.5555555555555556,
              "#d8576b"
             ],
             [
              0.6666666666666666,
              "#ed7953"
             ],
             [
              0.7777777777777778,
              "#fb9f3a"
             ],
             [
              0.8888888888888888,
              "#fdca26"
             ],
             [
              1,
              "#f0f921"
             ]
            ],
            "type": "heatmapgl"
           }
          ],
          "histogram": [
           {
            "marker": {
             "pattern": {
              "fillmode": "overlay",
              "size": 10,
              "solidity": 0.2
             }
            },
            "type": "histogram"
           }
          ],
          "histogram2d": [
           {
            "colorbar": {
             "outlinewidth": 0,
             "ticks": ""
            },
            "colorscale": [
             [
              0,
              "#0d0887"
             ],
             [
              0.1111111111111111,
              "#46039f"
             ],
             [
              0.2222222222222222,
              "#7201a8"
             ],
             [
              0.3333333333333333,
              "#9c179e"
             ],
             [
              0.4444444444444444,
              "#bd3786"
             ],
             [
              0.5555555555555556,
              "#d8576b"
             ],
             [
              0.6666666666666666,
              "#ed7953"
             ],
             [
              0.7777777777777778,
              "#fb9f3a"
             ],
             [
              0.8888888888888888,
              "#fdca26"
             ],
             [
              1,
              "#f0f921"
             ]
            ],
            "type": "histogram2d"
           }
          ],
          "histogram2dcontour": [
           {
            "colorbar": {
             "outlinewidth": 0,
             "ticks": ""
            },
            "colorscale": [
             [
              0,
              "#0d0887"
             ],
             [
              0.1111111111111111,
              "#46039f"
             ],
             [
              0.2222222222222222,
              "#7201a8"
             ],
             [
              0.3333333333333333,
              "#9c179e"
             ],
             [
              0.4444444444444444,
              "#bd3786"
             ],
             [
              0.5555555555555556,
              "#d8576b"
             ],
             [
              0.6666666666666666,
              "#ed7953"
             ],
             [
              0.7777777777777778,
              "#fb9f3a"
             ],
             [
              0.8888888888888888,
              "#fdca26"
             ],
             [
              1,
              "#f0f921"
             ]
            ],
            "type": "histogram2dcontour"
           }
          ],
          "mesh3d": [
           {
            "colorbar": {
             "outlinewidth": 0,
             "ticks": ""
            },
            "type": "mesh3d"
           }
          ],
          "parcoords": [
           {
            "line": {
             "colorbar": {
              "outlinewidth": 0,
              "ticks": ""
             }
            },
            "type": "parcoords"
           }
          ],
          "pie": [
           {
            "automargin": true,
            "type": "pie"
           }
          ],
          "scatter": [
           {
            "fillpattern": {
             "fillmode": "overlay",
             "size": 10,
             "solidity": 0.2
            },
            "type": "scatter"
           }
          ],
          "scatter3d": [
           {
            "line": {
             "colorbar": {
              "outlinewidth": 0,
              "ticks": ""
             }
            },
            "marker": {
             "colorbar": {
              "outlinewidth": 0,
              "ticks": ""
             }
            },
            "type": "scatter3d"
           }
          ],
          "scattercarpet": [
           {
            "marker": {
             "colorbar": {
              "outlinewidth": 0,
              "ticks": ""
             }
            },
            "type": "scattercarpet"
           }
          ],
          "scattergeo": [
           {
            "marker": {
             "colorbar": {
              "outlinewidth": 0,
              "ticks": ""
             }
            },
            "type": "scattergeo"
           }
          ],
          "scattergl": [
           {
            "marker": {
             "colorbar": {
              "outlinewidth": 0,
              "ticks": ""
             }
            },
            "type": "scattergl"
           }
          ],
          "scattermapbox": [
           {
            "marker": {
             "colorbar": {
              "outlinewidth": 0,
              "ticks": ""
             }
            },
            "type": "scattermapbox"
           }
          ],
          "scatterpolar": [
           {
            "marker": {
             "colorbar": {
              "outlinewidth": 0,
              "ticks": ""
             }
            },
            "type": "scatterpolar"
           }
          ],
          "scatterpolargl": [
           {
            "marker": {
             "colorbar": {
              "outlinewidth": 0,
              "ticks": ""
             }
            },
            "type": "scatterpolargl"
           }
          ],
          "scatterternary": [
           {
            "marker": {
             "colorbar": {
              "outlinewidth": 0,
              "ticks": ""
             }
            },
            "type": "scatterternary"
           }
          ],
          "surface": [
           {
            "colorbar": {
             "outlinewidth": 0,
             "ticks": ""
            },
            "colorscale": [
             [
              0,
              "#0d0887"
             ],
             [
              0.1111111111111111,
              "#46039f"
             ],
             [
              0.2222222222222222,
              "#7201a8"
             ],
             [
              0.3333333333333333,
              "#9c179e"
             ],
             [
              0.4444444444444444,
              "#bd3786"
             ],
             [
              0.5555555555555556,
              "#d8576b"
             ],
             [
              0.6666666666666666,
              "#ed7953"
             ],
             [
              0.7777777777777778,
              "#fb9f3a"
             ],
             [
              0.8888888888888888,
              "#fdca26"
             ],
             [
              1,
              "#f0f921"
             ]
            ],
            "type": "surface"
           }
          ],
          "table": [
           {
            "cells": {
             "fill": {
              "color": "#EBF0F8"
             },
             "line": {
              "color": "white"
             }
            },
            "header": {
             "fill": {
              "color": "#C8D4E3"
             },
             "line": {
              "color": "white"
             }
            },
            "type": "table"
           }
          ]
         },
         "layout": {
          "annotationdefaults": {
           "arrowcolor": "#2a3f5f",
           "arrowhead": 0,
           "arrowwidth": 1
          },
          "autotypenumbers": "strict",
          "coloraxis": {
           "colorbar": {
            "outlinewidth": 0,
            "ticks": ""
           }
          },
          "colorscale": {
           "diverging": [
            [
             0,
             "#8e0152"
            ],
            [
             0.1,
             "#c51b7d"
            ],
            [
             0.2,
             "#de77ae"
            ],
            [
             0.3,
             "#f1b6da"
            ],
            [
             0.4,
             "#fde0ef"
            ],
            [
             0.5,
             "#f7f7f7"
            ],
            [
             0.6,
             "#e6f5d0"
            ],
            [
             0.7,
             "#b8e186"
            ],
            [
             0.8,
             "#7fbc41"
            ],
            [
             0.9,
             "#4d9221"
            ],
            [
             1,
             "#276419"
            ]
           ],
           "sequential": [
            [
             0,
             "#0d0887"
            ],
            [
             0.1111111111111111,
             "#46039f"
            ],
            [
             0.2222222222222222,
             "#7201a8"
            ],
            [
             0.3333333333333333,
             "#9c179e"
            ],
            [
             0.4444444444444444,
             "#bd3786"
            ],
            [
             0.5555555555555556,
             "#d8576b"
            ],
            [
             0.6666666666666666,
             "#ed7953"
            ],
            [
             0.7777777777777778,
             "#fb9f3a"
            ],
            [
             0.8888888888888888,
             "#fdca26"
            ],
            [
             1,
             "#f0f921"
            ]
           ],
           "sequentialminus": [
            [
             0,
             "#0d0887"
            ],
            [
             0.1111111111111111,
             "#46039f"
            ],
            [
             0.2222222222222222,
             "#7201a8"
            ],
            [
             0.3333333333333333,
             "#9c179e"
            ],
            [
             0.4444444444444444,
             "#bd3786"
            ],
            [
             0.5555555555555556,
             "#d8576b"
            ],
            [
             0.6666666666666666,
             "#ed7953"
            ],
            [
             0.7777777777777778,
             "#fb9f3a"
            ],
            [
             0.8888888888888888,
             "#fdca26"
            ],
            [
             1,
             "#f0f921"
            ]
           ]
          },
          "colorway": [
           "#636efa",
           "#EF553B",
           "#00cc96",
           "#ab63fa",
           "#FFA15A",
           "#19d3f3",
           "#FF6692",
           "#B6E880",
           "#FF97FF",
           "#FECB52"
          ],
          "font": {
           "color": "#2a3f5f"
          },
          "geo": {
           "bgcolor": "white",
           "lakecolor": "white",
           "landcolor": "#E5ECF6",
           "showlakes": true,
           "showland": true,
           "subunitcolor": "white"
          },
          "hoverlabel": {
           "align": "left"
          },
          "hovermode": "closest",
          "mapbox": {
           "style": "light"
          },
          "paper_bgcolor": "white",
          "plot_bgcolor": "#E5ECF6",
          "polar": {
           "angularaxis": {
            "gridcolor": "white",
            "linecolor": "white",
            "ticks": ""
           },
           "bgcolor": "#E5ECF6",
           "radialaxis": {
            "gridcolor": "white",
            "linecolor": "white",
            "ticks": ""
           }
          },
          "scene": {
           "xaxis": {
            "backgroundcolor": "#E5ECF6",
            "gridcolor": "white",
            "gridwidth": 2,
            "linecolor": "white",
            "showbackground": true,
            "ticks": "",
            "zerolinecolor": "white"
           },
           "yaxis": {
            "backgroundcolor": "#E5ECF6",
            "gridcolor": "white",
            "gridwidth": 2,
            "linecolor": "white",
            "showbackground": true,
            "ticks": "",
            "zerolinecolor": "white"
           },
           "zaxis": {
            "backgroundcolor": "#E5ECF6",
            "gridcolor": "white",
            "gridwidth": 2,
            "linecolor": "white",
            "showbackground": true,
            "ticks": "",
            "zerolinecolor": "white"
           }
          },
          "shapedefaults": {
           "line": {
            "color": "#2a3f5f"
           }
          },
          "ternary": {
           "aaxis": {
            "gridcolor": "white",
            "linecolor": "white",
            "ticks": ""
           },
           "baxis": {
            "gridcolor": "white",
            "linecolor": "white",
            "ticks": ""
           },
           "bgcolor": "#E5ECF6",
           "caxis": {
            "gridcolor": "white",
            "linecolor": "white",
            "ticks": ""
           }
          },
          "title": {
           "x": 0.05
          },
          "xaxis": {
           "automargin": true,
           "gridcolor": "white",
           "linecolor": "white",
           "ticks": "",
           "title": {
            "standoff": 15
           },
           "zerolinecolor": "white",
           "zerolinewidth": 2
          },
          "yaxis": {
           "automargin": true,
           "gridcolor": "white",
           "linecolor": "white",
           "ticks": "",
           "title": {
            "standoff": 15
           },
           "zerolinecolor": "white",
           "zerolinewidth": 2
          }
         }
        },
        "title": {
         "text": "Isc performance between 5 annealing tests"
        },
        "width": 900,
        "xaxis": {
         "anchor": "y",
         "domain": [
          0,
          1
         ],
         "matches": "x2",
         "showticklabels": false
        },
        "xaxis2": {
         "anchor": "y2",
         "domain": [
          0,
          1
         ]
        },
        "yaxis": {
         "anchor": "x",
         "domain": [
          0.515,
          1
         ],
         "tickformat": ".3f",
         "title": {
          "text": "Isc [A]"
         }
        },
        "yaxis2": {
         "anchor": "x2",
         "domain": [
          0,
          0.485
         ],
         "tickformat": ".1%",
         "title": {
          "text": "PL of Isc"
         }
        }
       }
      },
      "text/html": [
       "<div>                            <div id=\"47e096f4-c8b6-4d13-8e4b-8582d9c88909\" class=\"plotly-graph-div\" style=\"height:600px; width:900px;\"></div>            <script type=\"text/javascript\">                require([\"plotly\"], function(Plotly) {                    window.PLOTLYENV=window.PLOTLYENV || {};                                    if (document.getElementById(\"47e096f4-c8b6-4d13-8e4b-8582d9c88909\")) {                    Plotly.newPlot(                        \"47e096f4-c8b6-4d13-8e4b-8582d9c88909\",                        [{\"name\":\"Original measurments\",\"offsetgroup\":\"A\",\"x\":[\"2h annealing in cassettes\",\"2h annealing in cassettes\",\"2h annealing in cassettes\",\"2h annealing in cassettes\",\"2h annealing in cassettes\",\"2h annealing in cassettes\",\"2h annealing in cassettes\",\"2h annealing in cassettes\",\"2h annealing in cassettes\",\"2h annealing in cassettes\",\"2h annealing in cassettes\",\"2h annealing in cassettes\",\"1h annealing in cassettes \",\"1h annealing in cassettes \",\"1h annealing in cassettes \",\"1h annealing in cassettes \",\"1h annealing in cassettes \",\"1h annealing in cassettes \",\"1h annealing in cassettes \",\"1h annealing in cassettes \",\"1h annealing in cassettes \",\"1h annealing in cassettes \",\"1h annealing in cassettes \",\"1h annealing in cassettes \",\"30min annealing in cassettes\",\"30min annealing in cassettes\",\"30min annealing in cassettes\",\"30min annealing in cassettes\",\"30min annealing in cassettes\",\"30min annealing in cassettes\",\"30min annealing in cassettes\",\"30min annealing in cassettes\",\"30min annealing in cassettes\",\"30min annealing in cassettes\",\"30min annealing in cassettes\",\"30min annealing in cassettes\",\"15min annealing in cassettes\",\"15min annealing in cassettes\",\"15min annealing in cassettes\",\"15min annealing in cassettes\",\"15min annealing in cassettes\",\"15min annealing in cassettes\",\"15min annealing in cassettes\",\"15min annealing in cassettes\",\"15min annealing in cassettes\",\"15min annealing in cassettes\",\"15min annealing in cassettes\",\"15min annealing in cassettes\",\"15min annealing in coinstack\",\"15min annealing in coinstack\",\"15min annealing in coinstack\",\"15min annealing in coinstack\",\"15min annealing in coinstack\",\"15min annealing in coinstack\",\"15min annealing in coinstack\",\"15min annealing in coinstack\",\"15min annealing in coinstack\",\"15min annealing in coinstack\",\"15min annealing in coinstack\",\"15min annealing in coinstack\",\"15min annealing in coinstack\",\"15min annealing in coinstack\"],\"y\":[6.4679999351501465,6.484000205993652,6.421000003814697,6.534999847412109,6.479000091552734,6.514999866485596,6.533999919891357,6.51200008392334,6.4710001945495605,6.502999782562256,6.488999843597412,6.544000148773193,6.479000091552734,6.5879998207092285,6.578000068664551,6.51800012588501,6.449999809265137,6.533999919891357,6.5279998779296875,6.514999866485596,6.494999885559082,6.545000076293945,6.504000186920166,6.4710001945495605,6.479000091552734,6.442999839782715,6.39900016784668,6.388999938964844,6.427999973297119,6.708000183105469,6.710999965667725,6.742000102996826,6.677000045776367,6.614999771118164,6.664999961853027,6.718999862670898,6.703000068664551,6.734000205993652,6.580999851226807,6.6570000648498535,6.624000072479248,6.630000114440918,6.620999813079834,6.660999774932861,6.671999931335449,6.644000053405762,6.624000072479248,6.671000003814697,6.697999954223633,6.501999855041504,6.659999847412109,6.627999782562256,6.5929999351501465,6.6020002365112305,6.611999988555908,6.573999881744385,6.605999946594238,6.5970001220703125,6.561999797821045,6.599999904632568,6.565999984741211,6.514999866485596],\"type\":\"box\",\"xaxis\":\"x\",\"yaxis\":\"y\"},{\"name\":\"Remeasure before annealing\",\"offsetgroup\":\"B\",\"x\":[\"2h annealing in cassettes\",\"2h annealing in cassettes\",\"2h annealing in cassettes\",\"2h annealing in cassettes\",\"2h annealing in cassettes\",\"2h annealing in cassettes\",\"2h annealing in cassettes\",\"2h annealing in cassettes\",\"2h annealing in cassettes\",\"2h annealing in cassettes\",\"2h annealing in cassettes\",\"2h annealing in cassettes\",\"1h annealing in cassettes \",\"1h annealing in cassettes \",\"1h annealing in cassettes \",\"1h annealing in cassettes \",\"1h annealing in cassettes \",\"1h annealing in cassettes \",\"1h annealing in cassettes \",\"1h annealing in cassettes \",\"1h annealing in cassettes \",\"1h annealing in cassettes \",\"1h annealing in cassettes \",\"1h annealing in cassettes \",\"30min annealing in cassettes\",\"30min annealing in cassettes\",\"30min annealing in cassettes\",\"30min annealing in cassettes\",\"30min annealing in cassettes\",\"30min annealing in cassettes\",\"30min annealing in cassettes\",\"30min annealing in cassettes\",\"30min annealing in cassettes\",\"30min annealing in cassettes\",\"30min annealing in cassettes\",\"30min annealing in cassettes\",\"15min annealing in cassettes\",\"15min annealing in cassettes\",\"15min annealing in cassettes\",\"15min annealing in cassettes\",\"15min annealing in cassettes\",\"15min annealing in cassettes\",\"15min annealing in cassettes\",\"15min annealing in cassettes\",\"15min annealing in cassettes\",\"15min annealing in cassettes\",\"15min annealing in cassettes\",\"15min annealing in cassettes\",\"15min annealing in coinstack\",\"15min annealing in coinstack\",\"15min annealing in coinstack\",\"15min annealing in coinstack\",\"15min annealing in coinstack\",\"15min annealing in coinstack\",\"15min annealing in coinstack\",\"15min annealing in coinstack\",\"15min annealing in coinstack\",\"15min annealing in coinstack\",\"15min annealing in coinstack\",\"15min annealing in coinstack\",\"15min annealing in coinstack\",\"15min annealing in coinstack\"],\"y\":[6.5279998779296875,6.5,6.498000144958496,6.572999954223633,6.539999961853027,6.546999931335449,6.554999828338623,6.541999816894531,6.525000095367432,6.531000137329102,6.526000022888184,6.559999942779541,6.511000156402588,6.590000152587891,6.599999904632568,6.565000057220459,6.510000228881836,6.585999965667725,6.564000129699707,6.552999973297119,6.551000118255615,6.584000110626221,6.5920000076293945,6.520999908447266,6.540999889373779,6.53000020980835,6.474999904632568,6.513000011444092,6.5320000648498535,6.728000164031982,6.708000183105469,6.716000080108643,6.703999996185303,6.64300012588501,6.664999961853027,6.734000205993652,6.7210001945495605,6.73799991607666,6.565999984741211,6.658999919891357,6.63100004196167,6.671000003814697,6.670000076293945,6.678999900817871,6.65500020980835,6.677999973297119,6.665999889373779,6.745999813079834,6.738999843597412,6.548999786376953,6.6570000648498535,6.611000061035156,6.611000061035156,6.632999897003174,6.6579999923706055,6.5879998207092285,6.627999782562256,6.640999794006348,6.620999813079834,6.644000053405762,6.571000099182129,6.517000198364258],\"type\":\"box\",\"xaxis\":\"x\",\"yaxis\":\"y\"},{\"name\":\"Remeasure after annealing\",\"offsetgroup\":\"C\",\"x\":[\"2h annealing in cassettes\",\"2h annealing in cassettes\",\"2h annealing in cassettes\",\"2h annealing in cassettes\",\"2h annealing in cassettes\",\"2h annealing in cassettes\",\"2h annealing in cassettes\",\"2h annealing in cassettes\",\"2h annealing in cassettes\",\"2h annealing in cassettes\",\"2h annealing in cassettes\",\"2h annealing in cassettes\",\"1h annealing in cassettes \",\"1h annealing in cassettes \",\"1h annealing in cassettes \",\"1h annealing in cassettes \",\"1h annealing in cassettes \",\"1h annealing in cassettes \",\"1h annealing in cassettes \",\"1h annealing in cassettes \",\"1h annealing in cassettes \",\"1h annealing in cassettes \",\"1h annealing in cassettes \",\"1h annealing in cassettes \",\"30min annealing in cassettes\",\"30min annealing in cassettes\",\"30min annealing in cassettes\",\"30min annealing in cassettes\",\"30min annealing in cassettes\",\"30min annealing in cassettes\",\"30min annealing in cassettes\",\"30min annealing in cassettes\",\"30min annealing in cassettes\",\"30min annealing in cassettes\",\"30min annealing in cassettes\",\"30min annealing in cassettes\",\"15min annealing in cassettes\",\"15min annealing in cassettes\",\"15min annealing in cassettes\",\"15min annealing in cassettes\",\"15min annealing in cassettes\",\"15min annealing in cassettes\",\"15min annealing in cassettes\",\"15min annealing in cassettes\",\"15min annealing in cassettes\",\"15min annealing in cassettes\",\"15min annealing in cassettes\",\"15min annealing in cassettes\",\"15min annealing in coinstack\",\"15min annealing in coinstack\",\"15min annealing in coinstack\",\"15min annealing in coinstack\",\"15min annealing in coinstack\",\"15min annealing in coinstack\",\"15min annealing in coinstack\",\"15min annealing in coinstack\",\"15min annealing in coinstack\",\"15min annealing in coinstack\",\"15min annealing in coinstack\",\"15min annealing in coinstack\",\"15min annealing in coinstack\",\"15min annealing in coinstack\"],\"y\":[6.36299991607666,6.468999862670898,6.419000148773193,6.495999813079834,6.445000171661377,6.452000141143799,6.514999866485596,6.501999855041504,6.501999855041504,6.4730000495910645,6.514999866485596,6.514999866485596,6.515999794006348,6.564000129699707,6.579999923706055,6.561999797821045,6.513999938964844,6.520999908447266,6.52400016784668,6.514999866485596,6.504000186920166,6.513999938964844,6.51800012588501,6.440000057220459,6.48199987411499,6.498000144958496,6.4710001945495605,6.50600004196167,6.550000190734863,6.684000015258789,6.669000148773193,6.695000171661377,6.626999855041504,6.5920000076293945,6.639999866485596,6.684000015258789,6.664999961853027,6.738999843597412,6.565000057220459,6.6539998054504395,6.633999824523926,6.663000106811523,6.664000034332275,6.686999797821045,6.677999973297119,6.664000034332275,6.6539998054504395,6.701000213623047,6.672999858856201,6.585999965667725,6.703999996185303,6.651000022888184,6.609000205993652,6.663000106811523,6.706999778747559,6.671000003814697,6.627999782562256,6.638000011444092,6.6539998054504395,6.675000190734863,6.635000228881836,6.51800012588501],\"type\":\"box\",\"xaxis\":\"x\",\"yaxis\":\"y\"},{\"name\":\"Performance loss before annealing\",\"offsetgroup\":\"B\",\"x\":[\"2h annealing in cassettes\",\"2h annealing in cassettes\",\"2h annealing in cassettes\",\"2h annealing in cassettes\",\"2h annealing in cassettes\",\"2h annealing in cassettes\",\"2h annealing in cassettes\",\"2h annealing in cassettes\",\"2h annealing in cassettes\",\"2h annealing in cassettes\",\"2h annealing in cassettes\",\"2h annealing in cassettes\",\"1h annealing in cassettes \",\"1h annealing in cassettes \",\"1h annealing in cassettes \",\"1h annealing in cassettes \",\"1h annealing in cassettes \",\"1h annealing in cassettes \",\"1h annealing in cassettes \",\"1h annealing in cassettes \",\"1h annealing in cassettes \",\"1h annealing in cassettes \",\"1h annealing in cassettes \",\"1h annealing in cassettes \",\"30min annealing in cassettes\",\"30min annealing in cassettes\",\"30min annealing in cassettes\",\"30min annealing in cassettes\",\"30min annealing in cassettes\",\"30min annealing in cassettes\",\"30min annealing in cassettes\",\"30min annealing in cassettes\",\"30min annealing in cassettes\",\"30min annealing in cassettes\",\"30min annealing in cassettes\",\"30min annealing in cassettes\",\"15min annealing in cassettes\",\"15min annealing in cassettes\",\"15min annealing in cassettes\",\"15min annealing in cassettes\",\"15min annealing in cassettes\",\"15min annealing in cassettes\",\"15min annealing in cassettes\",\"15min annealing in cassettes\",\"15min annealing in cassettes\",\"15min annealing in cassettes\",\"15min annealing in cassettes\",\"15min annealing in cassettes\",\"15min annealing in coinstack\",\"15min annealing in coinstack\",\"15min annealing in coinstack\",\"15min annealing in coinstack\",\"15min annealing in coinstack\",\"15min annealing in coinstack\",\"15min annealing in coinstack\",\"15min annealing in coinstack\",\"15min annealing in coinstack\",\"15min annealing in coinstack\",\"15min annealing in coinstack\",\"15min annealing in coinstack\",\"15min annealing in coinstack\",\"15min annealing in coinstack\"],\"y\":[-0.009276429094173791,-0.0024675807368972373,-0.011991923547430816,-0.005814859632563214,-0.009415013032616574,-0.004911752188126352,-0.003213943787072283,-0.004606838541856592,-0.008344907926807745,-0.004305759757508902,-0.005701984925655214,-0.0024449562412291732,-0.004939043740958567,-0.00030363265529760814,-0.003344456633987833,-0.007210790185289786,-0.009302390913331703,-0.007958378698179079,-0.005514744553187212,-0.005832710297816466,-0.008622052915049862,-0.005958752311330583,-0.013530107346275922,-0.007726736577727071,-0.0095693466499375,-0.013503084306854303,-0.011876814313549746,-0.019408369645303007,-0.016179230240318362,-0.0029815116846426027,0.0004469948707498451,0.003856425762530997,-0.004043724760195974,-0.00423285800992744,0.0,-0.0022325262136247545,-0.002685383514936463,-0.0005939575231149886,0.0022792686255416767,-0.0003004138533907333,-0.001056758666338889,-0.00618399527391813,-0.007400734722467587,-0.0027023159425329955,0.0025479199193722104,-0.0051173870587085295,-0.006340551998033335,-0.011242663651963627,-0.0061212137435034675,-0.007228534663686056,0.00045041781246008455,0.0025648343519600793,-0.002730187480974067,-0.004695495210755227,-0.006957048380870291,-0.002129592214280497,-0.003330280978788037,-0.006669648495053673,-0.008991163833680763,-0.006666689304390666,-0.0007615160603925955,-0.0003070348303385544],\"type\":\"box\",\"xaxis\":\"x2\",\"yaxis\":\"y2\"},{\"name\":\"Performance loss after annealing\",\"offsetgroup\":\"C\",\"x\":[\"2h annealing in cassettes\",\"2h annealing in cassettes\",\"2h annealing in cassettes\",\"2h annealing in cassettes\",\"2h annealing in cassettes\",\"2h annealing in cassettes\",\"2h annealing in cassettes\",\"2h annealing in cassettes\",\"2h annealing in cassettes\",\"2h annealing in cassettes\",\"2h annealing in cassettes\",\"2h annealing in cassettes\",\"1h annealing in cassettes \",\"1h annealing in cassettes \",\"1h annealing in cassettes \",\"1h annealing in cassettes \",\"1h annealing in cassettes \",\"1h annealing in cassettes \",\"1h annealing in cassettes \",\"1h annealing in cassettes \",\"1h annealing in cassettes \",\"1h annealing in cassettes \",\"1h annealing in cassettes \",\"1h annealing in cassettes \",\"30min annealing in cassettes\",\"30min annealing in cassettes\",\"30min annealing in cassettes\",\"30min annealing in cassettes\",\"30min annealing in cassettes\",\"30min annealing in cassettes\",\"30min annealing in cassettes\",\"30min annealing in cassettes\",\"30min annealing in cassettes\",\"30min annealing in cassettes\",\"30min annealing in cassettes\",\"30min annealing in cassettes\",\"15min annealing in cassettes\",\"15min annealing in cassettes\",\"15min annealing in cassettes\",\"15min annealing in cassettes\",\"15min annealing in cassettes\",\"15min annealing in cassettes\",\"15min annealing in cassettes\",\"15min annealing in cassettes\",\"15min annealing in cassettes\",\"15min annealing in cassettes\",\"15min annealing in cassettes\",\"15min annealing in cassettes\",\"15min annealing in coinstack\",\"15min annealing in coinstack\",\"15min annealing in coinstack\",\"15min annealing in coinstack\",\"15min annealing in coinstack\",\"15min annealing in coinstack\",\"15min annealing in coinstack\",\"15min annealing in coinstack\",\"15min annealing in coinstack\",\"15min annealing in coinstack\",\"15min annealing in coinstack\",\"15min annealing in coinstack\",\"15min annealing in coinstack\",\"15min annealing in coinstack\"],\"y\":[0.01623376934543041,0.0023134396739975353,0.000311455387060551,0.0059678707334200765,0.005247710975600422,0.00966995036575204,0.0029078747533987782,0.001535661663537789,-0.004790551624160662,0.0046132145124217075,-0.004006784329612426,0.00443158337840722,-0.005710711827563204,0.0036429404466707784,-0.00030402174226640163,-0.006750486512158652,-0.00992250102205797,0.0019895946745447698,0.0006127006981924599,0.0,-0.0013857277166540317,0.004736460957637627,-0.0021525120791045255,0.004790625312484548,-0.00046300085196278215,-0.008536443666532218,-0.011251761965042972,-0.018312741291993614,-0.01897949874681883,0.0035778424555094166,0.00625835450892487,0.006971214864644944,0.007488421505477093,0.003476910700615455,0.0037509520645940143,0.00520908589484573,0.005669119263353112,-0.0007424469038937357,0.0024312102063586936,0.0004506924095218155,-0.0015096243863619103,-0.004977374328957795,-0.006494520837697979,-0.0039033213881839017,-0.0008992868740136467,-0.0030102319033338265,-0.004528945145370904,-0.004497108348252811,0.003732471713689256,-0.012919119117034264,-0.0066066290962890325,-0.003470163108097793,-0.0024268574246757483,-0.009239604379736862,-0.014367784385371542,-0.014755114666137461,-0.003330280978788037,-0.006214929303489607,-0.014020117412978851,-0.01136367987666968,-0.010508718291345616,-0.0004605156501764444],\"type\":\"box\",\"xaxis\":\"x2\",\"yaxis\":\"y2\"}],                        {\"template\":{\"data\":{\"histogram2dcontour\":[{\"type\":\"histogram2dcontour\",\"colorbar\":{\"outlinewidth\":0,\"ticks\":\"\"},\"colorscale\":[[0.0,\"#0d0887\"],[0.1111111111111111,\"#46039f\"],[0.2222222222222222,\"#7201a8\"],[0.3333333333333333,\"#9c179e\"],[0.4444444444444444,\"#bd3786\"],[0.5555555555555556,\"#d8576b\"],[0.6666666666666666,\"#ed7953\"],[0.7777777777777778,\"#fb9f3a\"],[0.8888888888888888,\"#fdca26\"],[1.0,\"#f0f921\"]]}],\"choropleth\":[{\"type\":\"choropleth\",\"colorbar\":{\"outlinewidth\":0,\"ticks\":\"\"}}],\"histogram2d\":[{\"type\":\"histogram2d\",\"colorbar\":{\"outlinewidth\":0,\"ticks\":\"\"},\"colorscale\":[[0.0,\"#0d0887\"],[0.1111111111111111,\"#46039f\"],[0.2222222222222222,\"#7201a8\"],[0.3333333333333333,\"#9c179e\"],[0.4444444444444444,\"#bd3786\"],[0.5555555555555556,\"#d8576b\"],[0.6666666666666666,\"#ed7953\"],[0.7777777777777778,\"#fb9f3a\"],[0.8888888888888888,\"#fdca26\"],[1.0,\"#f0f921\"]]}],\"heatmap\":[{\"type\":\"heatmap\",\"colorbar\":{\"outlinewidth\":0,\"ticks\":\"\"},\"colorscale\":[[0.0,\"#0d0887\"],[0.1111111111111111,\"#46039f\"],[0.2222222222222222,\"#7201a8\"],[0.3333333333333333,\"#9c179e\"],[0.4444444444444444,\"#bd3786\"],[0.5555555555555556,\"#d8576b\"],[0.6666666666666666,\"#ed7953\"],[0.7777777777777778,\"#fb9f3a\"],[0.8888888888888888,\"#fdca26\"],[1.0,\"#f0f921\"]]}],\"heatmapgl\":[{\"type\":\"heatmapgl\",\"colorbar\":{\"outlinewidth\":0,\"ticks\":\"\"},\"colorscale\":[[0.0,\"#0d0887\"],[0.1111111111111111,\"#46039f\"],[0.2222222222222222,\"#7201a8\"],[0.3333333333333333,\"#9c179e\"],[0.4444444444444444,\"#bd3786\"],[0.5555555555555556,\"#d8576b\"],[0.6666666666666666,\"#ed7953\"],[0.7777777777777778,\"#fb9f3a\"],[0.8888888888888888,\"#fdca26\"],[1.0,\"#f0f921\"]]}],\"contourcarpet\":[{\"type\":\"contourcarpet\",\"colorbar\":{\"outlinewidth\":0,\"ticks\":\"\"}}],\"contour\":[{\"type\":\"contour\",\"colorbar\":{\"outlinewidth\":0,\"ticks\":\"\"},\"colorscale\":[[0.0,\"#0d0887\"],[0.1111111111111111,\"#46039f\"],[0.2222222222222222,\"#7201a8\"],[0.3333333333333333,\"#9c179e\"],[0.4444444444444444,\"#bd3786\"],[0.5555555555555556,\"#d8576b\"],[0.6666666666666666,\"#ed7953\"],[0.7777777777777778,\"#fb9f3a\"],[0.8888888888888888,\"#fdca26\"],[1.0,\"#f0f921\"]]}],\"surface\":[{\"type\":\"surface\",\"colorbar\":{\"outlinewidth\":0,\"ticks\":\"\"},\"colorscale\":[[0.0,\"#0d0887\"],[0.1111111111111111,\"#46039f\"],[0.2222222222222222,\"#7201a8\"],[0.3333333333333333,\"#9c179e\"],[0.4444444444444444,\"#bd3786\"],[0.5555555555555556,\"#d8576b\"],[0.6666666666666666,\"#ed7953\"],[0.7777777777777778,\"#fb9f3a\"],[0.8888888888888888,\"#fdca26\"],[1.0,\"#f0f921\"]]}],\"mesh3d\":[{\"type\":\"mesh3d\",\"colorbar\":{\"outlinewidth\":0,\"ticks\":\"\"}}],\"scatter\":[{\"fillpattern\":{\"fillmode\":\"overlay\",\"size\":10,\"solidity\":0.2},\"type\":\"scatter\"}],\"parcoords\":[{\"type\":\"parcoords\",\"line\":{\"colorbar\":{\"outlinewidth\":0,\"ticks\":\"\"}}}],\"scatterpolargl\":[{\"type\":\"scatterpolargl\",\"marker\":{\"colorbar\":{\"outlinewidth\":0,\"ticks\":\"\"}}}],\"bar\":[{\"error_x\":{\"color\":\"#2a3f5f\"},\"error_y\":{\"color\":\"#2a3f5f\"},\"marker\":{\"line\":{\"color\":\"#E5ECF6\",\"width\":0.5},\"pattern\":{\"fillmode\":\"overlay\",\"size\":10,\"solidity\":0.2}},\"type\":\"bar\"}],\"scattergeo\":[{\"type\":\"scattergeo\",\"marker\":{\"colorbar\":{\"outlinewidth\":0,\"ticks\":\"\"}}}],\"scatterpolar\":[{\"type\":\"scatterpolar\",\"marker\":{\"colorbar\":{\"outlinewidth\":0,\"ticks\":\"\"}}}],\"histogram\":[{\"marker\":{\"pattern\":{\"fillmode\":\"overlay\",\"size\":10,\"solidity\":0.2}},\"type\":\"histogram\"}],\"scattergl\":[{\"type\":\"scattergl\",\"marker\":{\"colorbar\":{\"outlinewidth\":0,\"ticks\":\"\"}}}],\"scatter3d\":[{\"type\":\"scatter3d\",\"line\":{\"colorbar\":{\"outlinewidth\":0,\"ticks\":\"\"}},\"marker\":{\"colorbar\":{\"outlinewidth\":0,\"ticks\":\"\"}}}],\"scattermapbox\":[{\"type\":\"scattermapbox\",\"marker\":{\"colorbar\":{\"outlinewidth\":0,\"ticks\":\"\"}}}],\"scatterternary\":[{\"type\":\"scatterternary\",\"marker\":{\"colorbar\":{\"outlinewidth\":0,\"ticks\":\"\"}}}],\"scattercarpet\":[{\"type\":\"scattercarpet\",\"marker\":{\"colorbar\":{\"outlinewidth\":0,\"ticks\":\"\"}}}],\"carpet\":[{\"aaxis\":{\"endlinecolor\":\"#2a3f5f\",\"gridcolor\":\"white\",\"linecolor\":\"white\",\"minorgridcolor\":\"white\",\"startlinecolor\":\"#2a3f5f\"},\"baxis\":{\"endlinecolor\":\"#2a3f5f\",\"gridcolor\":\"white\",\"linecolor\":\"white\",\"minorgridcolor\":\"white\",\"startlinecolor\":\"#2a3f5f\"},\"type\":\"carpet\"}],\"table\":[{\"cells\":{\"fill\":{\"color\":\"#EBF0F8\"},\"line\":{\"color\":\"white\"}},\"header\":{\"fill\":{\"color\":\"#C8D4E3\"},\"line\":{\"color\":\"white\"}},\"type\":\"table\"}],\"barpolar\":[{\"marker\":{\"line\":{\"color\":\"#E5ECF6\",\"width\":0.5},\"pattern\":{\"fillmode\":\"overlay\",\"size\":10,\"solidity\":0.2}},\"type\":\"barpolar\"}],\"pie\":[{\"automargin\":true,\"type\":\"pie\"}]},\"layout\":{\"autotypenumbers\":\"strict\",\"colorway\":[\"#636efa\",\"#EF553B\",\"#00cc96\",\"#ab63fa\",\"#FFA15A\",\"#19d3f3\",\"#FF6692\",\"#B6E880\",\"#FF97FF\",\"#FECB52\"],\"font\":{\"color\":\"#2a3f5f\"},\"hovermode\":\"closest\",\"hoverlabel\":{\"align\":\"left\"},\"paper_bgcolor\":\"white\",\"plot_bgcolor\":\"#E5ECF6\",\"polar\":{\"bgcolor\":\"#E5ECF6\",\"angularaxis\":{\"gridcolor\":\"white\",\"linecolor\":\"white\",\"ticks\":\"\"},\"radialaxis\":{\"gridcolor\":\"white\",\"linecolor\":\"white\",\"ticks\":\"\"}},\"ternary\":{\"bgcolor\":\"#E5ECF6\",\"aaxis\":{\"gridcolor\":\"white\",\"linecolor\":\"white\",\"ticks\":\"\"},\"baxis\":{\"gridcolor\":\"white\",\"linecolor\":\"white\",\"ticks\":\"\"},\"caxis\":{\"gridcolor\":\"white\",\"linecolor\":\"white\",\"ticks\":\"\"}},\"coloraxis\":{\"colorbar\":{\"outlinewidth\":0,\"ticks\":\"\"}},\"colorscale\":{\"sequential\":[[0.0,\"#0d0887\"],[0.1111111111111111,\"#46039f\"],[0.2222222222222222,\"#7201a8\"],[0.3333333333333333,\"#9c179e\"],[0.4444444444444444,\"#bd3786\"],[0.5555555555555556,\"#d8576b\"],[0.6666666666666666,\"#ed7953\"],[0.7777777777777778,\"#fb9f3a\"],[0.8888888888888888,\"#fdca26\"],[1.0,\"#f0f921\"]],\"sequentialminus\":[[0.0,\"#0d0887\"],[0.1111111111111111,\"#46039f\"],[0.2222222222222222,\"#7201a8\"],[0.3333333333333333,\"#9c179e\"],[0.4444444444444444,\"#bd3786\"],[0.5555555555555556,\"#d8576b\"],[0.6666666666666666,\"#ed7953\"],[0.7777777777777778,\"#fb9f3a\"],[0.8888888888888888,\"#fdca26\"],[1.0,\"#f0f921\"]],\"diverging\":[[0,\"#8e0152\"],[0.1,\"#c51b7d\"],[0.2,\"#de77ae\"],[0.3,\"#f1b6da\"],[0.4,\"#fde0ef\"],[0.5,\"#f7f7f7\"],[0.6,\"#e6f5d0\"],[0.7,\"#b8e186\"],[0.8,\"#7fbc41\"],[0.9,\"#4d9221\"],[1,\"#276419\"]]},\"xaxis\":{\"gridcolor\":\"white\",\"linecolor\":\"white\",\"ticks\":\"\",\"title\":{\"standoff\":15},\"zerolinecolor\":\"white\",\"automargin\":true,\"zerolinewidth\":2},\"yaxis\":{\"gridcolor\":\"white\",\"linecolor\":\"white\",\"ticks\":\"\",\"title\":{\"standoff\":15},\"zerolinecolor\":\"white\",\"automargin\":true,\"zerolinewidth\":2},\"scene\":{\"xaxis\":{\"backgroundcolor\":\"#E5ECF6\",\"gridcolor\":\"white\",\"linecolor\":\"white\",\"showbackground\":true,\"ticks\":\"\",\"zerolinecolor\":\"white\",\"gridwidth\":2},\"yaxis\":{\"backgroundcolor\":\"#E5ECF6\",\"gridcolor\":\"white\",\"linecolor\":\"white\",\"showbackground\":true,\"ticks\":\"\",\"zerolinecolor\":\"white\",\"gridwidth\":2},\"zaxis\":{\"backgroundcolor\":\"#E5ECF6\",\"gridcolor\":\"white\",\"linecolor\":\"white\",\"showbackground\":true,\"ticks\":\"\",\"zerolinecolor\":\"white\",\"gridwidth\":2}},\"shapedefaults\":{\"line\":{\"color\":\"#2a3f5f\"}},\"annotationdefaults\":{\"arrowcolor\":\"#2a3f5f\",\"arrowhead\":0,\"arrowwidth\":1},\"geo\":{\"bgcolor\":\"white\",\"landcolor\":\"#E5ECF6\",\"subunitcolor\":\"white\",\"showland\":true,\"showlakes\":true,\"lakecolor\":\"white\"},\"title\":{\"x\":0.05},\"mapbox\":{\"style\":\"light\"}}},\"xaxis\":{\"anchor\":\"y\",\"domain\":[0.0,1.0],\"matches\":\"x2\",\"showticklabels\":false},\"yaxis\":{\"anchor\":\"x\",\"domain\":[0.515,1.0],\"title\":{\"text\":\"Isc [A]\"},\"tickformat\":\".3f\"},\"xaxis2\":{\"anchor\":\"y2\",\"domain\":[0.0,1.0]},\"yaxis2\":{\"anchor\":\"x2\",\"domain\":[0.0,0.485],\"title\":{\"text\":\"PL of Isc\"},\"tickformat\":\".1%\"},\"shapes\":[{\"line\":{\"color\":\"grey\",\"dash\":\"dash\",\"width\":1},\"type\":\"line\",\"x0\":0.5,\"x1\":0.5,\"xref\":\"x\",\"y0\":0,\"y1\":1,\"yref\":\"y domain\"},{\"line\":{\"color\":\"grey\",\"dash\":\"dash\",\"width\":1},\"type\":\"line\",\"x0\":0.5,\"x1\":0.5,\"xref\":\"x2\",\"y0\":0,\"y1\":1,\"yref\":\"y2 domain\"},{\"line\":{\"color\":\"grey\",\"dash\":\"dash\",\"width\":1},\"type\":\"line\",\"x0\":1.5,\"x1\":1.5,\"xref\":\"x\",\"y0\":0,\"y1\":1,\"yref\":\"y domain\"},{\"line\":{\"color\":\"grey\",\"dash\":\"dash\",\"width\":1},\"type\":\"line\",\"x0\":1.5,\"x1\":1.5,\"xref\":\"x2\",\"y0\":0,\"y1\":1,\"yref\":\"y2 domain\"},{\"line\":{\"color\":\"grey\",\"dash\":\"dash\",\"width\":1},\"type\":\"line\",\"x0\":2.5,\"x1\":2.5,\"xref\":\"x\",\"y0\":0,\"y1\":1,\"yref\":\"y domain\"},{\"line\":{\"color\":\"grey\",\"dash\":\"dash\",\"width\":1},\"type\":\"line\",\"x0\":2.5,\"x1\":2.5,\"xref\":\"x2\",\"y0\":0,\"y1\":1,\"yref\":\"y2 domain\"},{\"line\":{\"color\":\"grey\",\"dash\":\"dash\",\"width\":1},\"type\":\"line\",\"x0\":3.5,\"x1\":3.5,\"xref\":\"x\",\"y0\":0,\"y1\":1,\"yref\":\"y domain\"},{\"line\":{\"color\":\"grey\",\"dash\":\"dash\",\"width\":1},\"type\":\"line\",\"x0\":3.5,\"x1\":3.5,\"xref\":\"x2\",\"y0\":0,\"y1\":1,\"yref\":\"y2 domain\"}],\"annotations\":[{\"font\":{\"size\":18},\"showarrow\":false,\"text\":\"$ \\\\textrm{ Performance Loss (PL) } \\\\\\\\\\\\ = \\\\\\\\\\\\ \\\\frac{\\\\textrm{Original measurement } - \\\\textrm{ Re-measurement}}{\\\\textrm{Original measurement}}$\",\"x\":1.35,\"xref\":\"paper\",\"y\":0.5,\"yref\":\"paper\"}],\"title\":{\"text\":\"Isc performance between 5 annealing tests\"},\"boxmode\":\"group\",\"height\":600,\"width\":900,\"boxgap\":0.5},                        {\"responsive\": true}                    ).then(function(){\n",
       "                            \n",
       "var gd = document.getElementById('47e096f4-c8b6-4d13-8e4b-8582d9c88909');\n",
       "var x = new MutationObserver(function (mutations, observer) {{\n",
       "        var display = window.getComputedStyle(gd).display;\n",
       "        if (!display || display === 'none') {{\n",
       "            console.log([gd, 'removed!']);\n",
       "            Plotly.purge(gd);\n",
       "            observer.disconnect();\n",
       "        }}\n",
       "}});\n",
       "\n",
       "// Listen for the removal of the full notebook cells\n",
       "var notebookContainer = gd.closest('#notebook-container');\n",
       "if (notebookContainer) {{\n",
       "    x.observe(notebookContainer, {childList: true});\n",
       "}}\n",
       "\n",
       "// Listen for the clearing of the current output cell\n",
       "var outputEl = gd.closest('.output');\n",
       "if (outputEl) {{\n",
       "    x.observe(outputEl, {childList: true});\n",
       "}}\n",
       "\n",
       "                        })                };                });            </script>        </div>"
      ]
     },
     "metadata": {},
     "output_type": "display_data"
    }
   ],
   "source": [
    "Annealing_test_wide_I = Annealing_test_wide[Annealing_test_wide['Isc_PLaA'] < 0.1]\n",
    "Annealing_test_wide_I = Annealing_test_wide_I[Annealing_test_wide_I['Isc_PLbA'] < 0.1]\n",
    "\n",
    "fig_I = make_subplots(rows=2, cols=1,shared_xaxes = True,vertical_spacing=0.03)\n",
    "\n",
    "fig_I.add_trace(\n",
    "    go.Box(y=Annealing_test_wide_I['Isc [A]'], x = Annealing_test_wide_I[\"Notes\"], \n",
    "           name = \"Original measurments\", offsetgroup = \"A\"),\n",
    "    row=1, col=1\n",
    ")\n",
    "\n",
    "fig_I.add_trace(\n",
    "    go.Box(y=Annealing_test_wide_I['Isc [A].1'], x = Annealing_test_wide_I[\"Notes\"], \n",
    "           name = \"Remeasure before annealing\", offsetgroup = \"B\"),\n",
    "    row=1, col=1\n",
    ")\n",
    "\n",
    "fig_I.add_trace(\n",
    "    go.Box(y=Annealing_test_wide_I['Isc [A].2'], x = Annealing_test_wide_I[\"Notes\"], \n",
    "           name = \"Remeasure after annealing\", offsetgroup = \"C\"),\n",
    "    row=1, col=1,\n",
    ")\n",
    "\n",
    "fig_I.add_trace(\n",
    "    go.Box(y=Annealing_test_wide_I['Isc_PLbA'], x = Annealing_test_wide_I[\"Notes\"], \n",
    "           name = \"Performance loss before annealing\", offsetgroup = \"B\"),\n",
    "    row=2, col=1\n",
    ")\n",
    "\n",
    "fig_I.add_trace(\n",
    "    go.Box(y=Annealing_test_wide_I['Isc_PLaA'], x = Annealing_test_wide_I[\"Notes\"], \n",
    "           name = \"Performance loss after annealing\", offsetgroup = \"C\"),\n",
    "    row=2, col=1\n",
    ")\n",
    "vx = 0.5\n",
    "fig_I.add_vline(x=vx, line_width=1, line_dash=\"dash\", line_color=\"grey\")\n",
    "fig_I.add_vline(x=vx+1, line_width=1, line_dash=\"dash\", line_color=\"grey\")\n",
    "fig_I.add_vline(x=vx+2, line_width=1, line_dash=\"dash\", line_color=\"grey\")\n",
    "fig_I.add_vline(x=vx+3, line_width=1, line_dash=\"dash\", line_color=\"grey\")\n",
    "\n",
    "fig_I.add_annotation(yref='paper', xref='paper', y=0.5,x = 1.35,showarrow=False, font_size =18,\n",
    "            text=r'$ \\textrm{ Performance Loss (PL) } \\\\\\ = \\\\\\ \\frac{\\textrm{Original measurement } - \\textrm{ Re-measurement}}{\\textrm{Original measurement}}$')\n",
    "\n",
    "fig_I.update_layout(title=\"Isc performance between 5 annealing tests\",\n",
    "                     boxmode='group', height=600, width=900,\n",
    "                     boxgap=0.5,\n",
    "                     yaxis=dict(title=\"Isc [A]\", tickformat=\".3f\"),\n",
    "                     yaxis2=dict(title=\"PL of Isc\", tickformat=\".1%\")\n",
    "                    ) \n",
    "fig_I.show()\n",
    "fig_I.write_image(\"2.1.I Isc performance between 5 annealing tests.png\", scale=3, width=900, height=600) "
   ]
  },
  {
   "cell_type": "markdown",
   "id": "ed798ae5",
   "metadata": {},
   "source": [
    "# Section 3 : Check Fill Factor"
   ]
  },
  {
   "cell_type": "markdown",
   "id": "8dff966f",
   "metadata": {},
   "source": [
    "Fill factor : the higher the more efficient. < 22.6%\n",
    "\n",
    "Define functions :\n",
    "\n",
    "Performance Loss before Annealing : PLbA\n",
    "\n",
    "$PLbA =  \\frac{\\textrm{Original measurements } - \\textrm{ Measurements before annealing}}{\\textrm{Original measurements}} $\n",
    "\n",
    "Performance Loss after Annealing : PLaA\n",
    "\n",
    "$PLaA =  \\frac{\\textrm{Original measurements } - \\textrm{ Measurements after annealing}}{\\textrm{Original measurements}} $"
   ]
  },
  {
   "cell_type": "code",
   "execution_count": 147,
   "id": "32b64a28",
   "metadata": {},
   "outputs": [
    {
     "data": {
      "application/vnd.plotly.v1+json": {
       "config": {
        "plotlyServerURL": "https://plot.ly"
       },
       "data": [
        {
         "name": "Original measurments",
         "offsetgroup": "A",
         "type": "box",
         "x": [
          "2h annealing in cassettes",
          "2h annealing in cassettes",
          "2h annealing in cassettes",
          "2h annealing in cassettes",
          "2h annealing in cassettes",
          "2h annealing in cassettes",
          "2h annealing in cassettes",
          "2h annealing in cassettes",
          "2h annealing in cassettes",
          "2h annealing in cassettes",
          "2h annealing in cassettes",
          "2h annealing in cassettes",
          "1h annealing in cassettes ",
          "1h annealing in cassettes ",
          "1h annealing in cassettes ",
          "1h annealing in cassettes ",
          "1h annealing in cassettes ",
          "1h annealing in cassettes ",
          "1h annealing in cassettes ",
          "1h annealing in cassettes ",
          "1h annealing in cassettes ",
          "1h annealing in cassettes ",
          "1h annealing in cassettes ",
          "1h annealing in cassettes ",
          "30min annealing in cassettes",
          "30min annealing in cassettes",
          "30min annealing in cassettes",
          "30min annealing in cassettes",
          "30min annealing in cassettes",
          "30min annealing in cassettes",
          "30min annealing in cassettes",
          "30min annealing in cassettes",
          "30min annealing in cassettes",
          "30min annealing in cassettes",
          "30min annealing in cassettes",
          "15min annealing in cassettes",
          "15min annealing in cassettes",
          "15min annealing in cassettes",
          "15min annealing in cassettes",
          "15min annealing in cassettes",
          "15min annealing in cassettes",
          "15min annealing in cassettes",
          "15min annealing in cassettes",
          "15min annealing in cassettes",
          "15min annealing in cassettes",
          "15min annealing in cassettes",
          "15min annealing in cassettes",
          "15min annealing in coinstack",
          "15min annealing in coinstack",
          "15min annealing in coinstack",
          "15min annealing in coinstack",
          "15min annealing in coinstack",
          "15min annealing in coinstack",
          "15min annealing in coinstack",
          "15min annealing in coinstack",
          "15min annealing in coinstack",
          "15min annealing in coinstack",
          "15min annealing in coinstack",
          "15min annealing in coinstack",
          "15min annealing in coinstack"
         ],
         "xaxis": "x",
         "y": [
          71.69999694824219,
          72.4000015258789,
          72.30000305175781,
          71.19999694824219,
          71.5999984741211,
          71.69999694824219,
          71.0999984741211,
          71.69999694824219,
          71,
          71.5999984741211,
          71.5,
          72.19999694824219,
          71.30000305175781,
          70.4000015258789,
          71.0999984741211,
          72.0999984741211,
          72.19999694824219,
          71.69999694824219,
          70.80000305175781,
          72.5,
          71.80000305175781,
          71.69999694824219,
          72,
          71.4000015258789,
          72.5,
          71.69999694824219,
          72.0999984741211,
          71.80000305175781,
          69.69999694824219,
          70.69999694824219,
          70.4000015258789,
          70.5999984741211,
          71.0999984741211,
          70.80000305175781,
          70.5,
          70.5,
          70.69999694824219,
          70.9000015258789,
          71.19999694824219,
          70.19999694824219,
          69.80000305175781,
          71.30000305175781,
          71.0999984741211,
          71.0999984741211,
          71.5999984741211,
          71.30000305175781,
          70.9000015258789,
          70.4000015258789,
          71.30000305175781,
          70.5,
          71.30000305175781,
          71.19999694824219,
          71.0999984741211,
          71.80000305175781,
          71.5999984741211,
          70.30000305175781,
          71.4000015258789,
          71.19999694824219,
          70.5999984741211,
          71.4000015258789
         ],
         "yaxis": "y"
        },
        {
         "name": "Remeasure before annealing",
         "offsetgroup": "B",
         "type": "box",
         "x": [
          "2h annealing in cassettes",
          "2h annealing in cassettes",
          "2h annealing in cassettes",
          "2h annealing in cassettes",
          "2h annealing in cassettes",
          "2h annealing in cassettes",
          "2h annealing in cassettes",
          "2h annealing in cassettes",
          "2h annealing in cassettes",
          "2h annealing in cassettes",
          "2h annealing in cassettes",
          "2h annealing in cassettes",
          "1h annealing in cassettes ",
          "1h annealing in cassettes ",
          "1h annealing in cassettes ",
          "1h annealing in cassettes ",
          "1h annealing in cassettes ",
          "1h annealing in cassettes ",
          "1h annealing in cassettes ",
          "1h annealing in cassettes ",
          "1h annealing in cassettes ",
          "1h annealing in cassettes ",
          "1h annealing in cassettes ",
          "1h annealing in cassettes ",
          "30min annealing in cassettes",
          "30min annealing in cassettes",
          "30min annealing in cassettes",
          "30min annealing in cassettes",
          "30min annealing in cassettes",
          "30min annealing in cassettes",
          "30min annealing in cassettes",
          "30min annealing in cassettes",
          "30min annealing in cassettes",
          "30min annealing in cassettes",
          "30min annealing in cassettes",
          "15min annealing in cassettes",
          "15min annealing in cassettes",
          "15min annealing in cassettes",
          "15min annealing in cassettes",
          "15min annealing in cassettes",
          "15min annealing in cassettes",
          "15min annealing in cassettes",
          "15min annealing in cassettes",
          "15min annealing in cassettes",
          "15min annealing in cassettes",
          "15min annealing in cassettes",
          "15min annealing in cassettes",
          "15min annealing in coinstack",
          "15min annealing in coinstack",
          "15min annealing in coinstack",
          "15min annealing in coinstack",
          "15min annealing in coinstack",
          "15min annealing in coinstack",
          "15min annealing in coinstack",
          "15min annealing in coinstack",
          "15min annealing in coinstack",
          "15min annealing in coinstack",
          "15min annealing in coinstack",
          "15min annealing in coinstack",
          "15min annealing in coinstack"
         ],
         "xaxis": "x",
         "y": [
          68.5999984741211,
          69.30000305175781,
          68.9000015258789,
          67.9000015258789,
          68,
          68,
          67.9000015258789,
          67.9000015258789,
          67.80000305175781,
          68.30000305175781,
          68.0999984741211,
          68.69999694824219,
          67.5,
          67.4000015258789,
          68.5999984741211,
          68.80000305175781,
          68.80000305175781,
          68.69999694824219,
          67.19999694824219,
          69.19999694824219,
          67.80000305175781,
          68.4000015258789,
          68.5,
          68.4000015258789,
          69.9000015258789,
          68.9000015258789,
          68.5,
          68.0999984741211,
          66.0999984741211,
          67.69999694824219,
          66.9000015258789,
          67.4000015258789,
          68,
          67.19999694824219,
          68,
          68.0999984741211,
          68.30000305175781,
          68.0999984741211,
          68.30000305175781,
          65.69999694824219,
          67.0999984741211,
          68.5999984741211,
          68.69999694824219,
          67.69999694824219,
          68.0999984741211,
          67.9000015258789,
          68.69999694824219,
          67.4000015258789,
          68.30000305175781,
          66.4000015258789,
          68,
          67.5,
          67.4000015258789,
          67.9000015258789,
          68.30000305175781,
          67.5999984741211,
          68.9000015258789,
          67.4000015258789,
          67.4000015258789,
          68.0999984741211
         ],
         "yaxis": "y"
        },
        {
         "name": "Remeasure after annealing",
         "offsetgroup": "C",
         "type": "box",
         "x": [
          "2h annealing in cassettes",
          "2h annealing in cassettes",
          "2h annealing in cassettes",
          "2h annealing in cassettes",
          "2h annealing in cassettes",
          "2h annealing in cassettes",
          "2h annealing in cassettes",
          "2h annealing in cassettes",
          "2h annealing in cassettes",
          "2h annealing in cassettes",
          "2h annealing in cassettes",
          "2h annealing in cassettes",
          "1h annealing in cassettes ",
          "1h annealing in cassettes ",
          "1h annealing in cassettes ",
          "1h annealing in cassettes ",
          "1h annealing in cassettes ",
          "1h annealing in cassettes ",
          "1h annealing in cassettes ",
          "1h annealing in cassettes ",
          "1h annealing in cassettes ",
          "1h annealing in cassettes ",
          "1h annealing in cassettes ",
          "1h annealing in cassettes ",
          "30min annealing in cassettes",
          "30min annealing in cassettes",
          "30min annealing in cassettes",
          "30min annealing in cassettes",
          "30min annealing in cassettes",
          "30min annealing in cassettes",
          "30min annealing in cassettes",
          "30min annealing in cassettes",
          "30min annealing in cassettes",
          "30min annealing in cassettes",
          "30min annealing in cassettes",
          "15min annealing in cassettes",
          "15min annealing in cassettes",
          "15min annealing in cassettes",
          "15min annealing in cassettes",
          "15min annealing in cassettes",
          "15min annealing in cassettes",
          "15min annealing in cassettes",
          "15min annealing in cassettes",
          "15min annealing in cassettes",
          "15min annealing in cassettes",
          "15min annealing in cassettes",
          "15min annealing in cassettes",
          "15min annealing in coinstack",
          "15min annealing in coinstack",
          "15min annealing in coinstack",
          "15min annealing in coinstack",
          "15min annealing in coinstack",
          "15min annealing in coinstack",
          "15min annealing in coinstack",
          "15min annealing in coinstack",
          "15min annealing in coinstack",
          "15min annealing in coinstack",
          "15min annealing in coinstack",
          "15min annealing in coinstack",
          "15min annealing in coinstack"
         ],
         "xaxis": "x",
         "y": [
          65.19999694824219,
          70.80000305175781,
          70.30000305175781,
          69,
          70.0999984741211,
          70.5,
          70.69999694824219,
          70.5,
          69.69999694824219,
          70.19999694824219,
          70.19999694824219,
          70.5999984741211,
          69.4000015258789,
          68.9000015258789,
          70.5,
          70.69999694824219,
          69.69999694824219,
          70.30000305175781,
          69.0999984741211,
          70.69999694824219,
          70,
          70.80000305175781,
          70.5,
          70.4000015258789,
          71.4000015258789,
          70.9000015258789,
          70.4000015258789,
          70.4000015258789,
          68.0999984741211,
          69.80000305175781,
          69.5,
          69,
          70.0999984741211,
          69.9000015258789,
          70.30000305175781,
          69.5999984741211,
          70.30000305175781,
          70.0999984741211,
          70.30000305175781,
          69.5999984741211,
          69.9000015258789,
          71,
          70.9000015258789,
          70.5,
          70.4000015258789,
          70.5,
          70.9000015258789,
          68.0999984741211,
          69.30000305175781,
          69.69999694824219,
          68.80000305175781,
          68.4000015258789,
          68.5,
          69.19999694824219,
          69.9000015258789,
          68.5999984741211,
          69.69999694824219,
          69.9000015258789,
          68.30000305175781,
          68.80000305175781
         ],
         "yaxis": "y"
        },
        {
         "name": "Performance loss before annealing",
         "offsetgroup": "B",
         "type": "box",
         "x": [
          "2h annealing in cassettes",
          "2h annealing in cassettes",
          "2h annealing in cassettes",
          "2h annealing in cassettes",
          "2h annealing in cassettes",
          "2h annealing in cassettes",
          "2h annealing in cassettes",
          "2h annealing in cassettes",
          "2h annealing in cassettes",
          "2h annealing in cassettes",
          "2h annealing in cassettes",
          "2h annealing in cassettes",
          "1h annealing in cassettes ",
          "1h annealing in cassettes ",
          "1h annealing in cassettes ",
          "1h annealing in cassettes ",
          "1h annealing in cassettes ",
          "1h annealing in cassettes ",
          "1h annealing in cassettes ",
          "1h annealing in cassettes ",
          "1h annealing in cassettes ",
          "1h annealing in cassettes ",
          "1h annealing in cassettes ",
          "1h annealing in cassettes ",
          "30min annealing in cassettes",
          "30min annealing in cassettes",
          "30min annealing in cassettes",
          "30min annealing in cassettes",
          "30min annealing in cassettes",
          "30min annealing in cassettes",
          "30min annealing in cassettes",
          "30min annealing in cassettes",
          "30min annealing in cassettes",
          "30min annealing in cassettes",
          "30min annealing in cassettes",
          "15min annealing in cassettes",
          "15min annealing in cassettes",
          "15min annealing in cassettes",
          "15min annealing in cassettes",
          "15min annealing in cassettes",
          "15min annealing in cassettes",
          "15min annealing in cassettes",
          "15min annealing in cassettes",
          "15min annealing in cassettes",
          "15min annealing in cassettes",
          "15min annealing in cassettes",
          "15min annealing in cassettes",
          "15min annealing in coinstack",
          "15min annealing in coinstack",
          "15min annealing in coinstack",
          "15min annealing in coinstack",
          "15min annealing in coinstack",
          "15min annealing in coinstack",
          "15min annealing in coinstack",
          "15min annealing in coinstack",
          "15min annealing in coinstack",
          "15min annealing in coinstack",
          "15min annealing in coinstack",
          "15min annealing in coinstack",
          "15min annealing in coinstack"
         ],
         "xaxis": "x2",
         "y": [
          0.043235684882370055,
          0.04281765757992449,
          0.04702629851128676,
          0.04634825230065902,
          0.05027930936929094,
          0.05160386479392866,
          0.045006990392649854,
          0.05299854371132498,
          0.04507037955270687,
          0.04608932252360344,
          0.047552468893411276,
          0.04847645634263718,
          0.05329597319931851,
          0.04261363544001069,
          0.035161744777110614,
          0.04576970169490019,
          0.04709133019661648,
          0.04184100596497373,
          0.05084754164323789,
          0.04551728347252155,
          0.05571030403879727,
          0.04602504271716269,
          0.04861111111111111,
          0.042016805824754096,
          0.035862047918911635,
          0.039051541723000405,
          0.049930631765730815,
          0.05153209499127082,
          0.05164990863334442,
          0.04243281654165035,
          0.04971590801334581,
          0.04532573679042172,
          0.0436005420625913,
          0.05084754164323789,
          0.03546099290780142,
          0.03404257483516179,
          0.03394616690353402,
          0.039492284788397294,
          0.04073025310088824,
          0.06410256688925227,
          0.03868201231502271,
          0.03786822527450304,
          0.03375529644705205,
          0.0478199943578963,
          0.04888268260599238,
          0.047685853861896624,
          0.031029683078831874,
          0.04261363544001069,
          0.04207573452447473,
          0.058156006725121896,
          0.04628335077857272,
          0.0519662515004298,
          0.05203933934807198,
          0.054317567689621794,
          0.04608932252360344,
          0.03840689132899272,
          0.03501400485396174,
          0.05337072451176695,
          0.04532573679042172,
          0.046218529148934644
         ],
         "yaxis": "y2"
        },
        {
         "name": "Performance loss after annealing",
         "offsetgroup": "C",
         "type": "box",
         "x": [
          "2h annealing in cassettes",
          "2h annealing in cassettes",
          "2h annealing in cassettes",
          "2h annealing in cassettes",
          "2h annealing in cassettes",
          "2h annealing in cassettes",
          "2h annealing in cassettes",
          "2h annealing in cassettes",
          "2h annealing in cassettes",
          "2h annealing in cassettes",
          "2h annealing in cassettes",
          "2h annealing in cassettes",
          "1h annealing in cassettes ",
          "1h annealing in cassettes ",
          "1h annealing in cassettes ",
          "1h annealing in cassettes ",
          "1h annealing in cassettes ",
          "1h annealing in cassettes ",
          "1h annealing in cassettes ",
          "1h annealing in cassettes ",
          "1h annealing in cassettes ",
          "1h annealing in cassettes ",
          "1h annealing in cassettes ",
          "1h annealing in cassettes ",
          "30min annealing in cassettes",
          "30min annealing in cassettes",
          "30min annealing in cassettes",
          "30min annealing in cassettes",
          "30min annealing in cassettes",
          "30min annealing in cassettes",
          "30min annealing in cassettes",
          "30min annealing in cassettes",
          "30min annealing in cassettes",
          "30min annealing in cassettes",
          "30min annealing in cassettes",
          "15min annealing in cassettes",
          "15min annealing in cassettes",
          "15min annealing in cassettes",
          "15min annealing in cassettes",
          "15min annealing in cassettes",
          "15min annealing in cassettes",
          "15min annealing in cassettes",
          "15min annealing in cassettes",
          "15min annealing in cassettes",
          "15min annealing in cassettes",
          "15min annealing in cassettes",
          "15min annealing in cassettes",
          "15min annealing in coinstack",
          "15min annealing in coinstack",
          "15min annealing in coinstack",
          "15min annealing in coinstack",
          "15min annealing in coinstack",
          "15min annealing in coinstack",
          "15min annealing in coinstack",
          "15min annealing in coinstack",
          "15min annealing in coinstack",
          "15min annealing in coinstack",
          "15min annealing in coinstack",
          "15min annealing in coinstack",
          "15min annealing in coinstack"
         ],
         "xaxis": "x2",
         "y": [
          0.09065551292410975,
          0.022099425972376324,
          0.027662516121448138,
          0.030898834867106015,
          0.020949721116853875,
          0.016736359823117216,
          0.0056259006253635635,
          0.016736359823117216,
          0.01830990213743398,
          0.019553094353555314,
          0.018181860863745628,
          0.022160644622576373,
          0.026647986599659255,
          0.021306817720005346,
          0.008438797285480682,
          0.019417497302464018,
          0.03462604024474084,
          0.019525717657909853,
          0.02401136305593014,
          0.02482762830010776,
          0.025069679321047672,
          0.012552216663747564,
          0.020833333333333332,
          0.014005601941584699,
          0.015172392746497844,
          0.011157537746351245,
          0.023578321556447308,
          0.019498627665373493,
          0.022955502785878462,
          0.012729758632708844,
          0.012784112306419019,
          0.02266286839521086,
          0.014064697910844245,
          0.012711885410809472,
          0.0028368361452792553,
          0.012765979090480939,
          0.005657622542433788,
          0.011283540684633227,
          0.012640364256456536,
          0.008546987182399268,
          -0.001432642833080441,
          0.004207616254097991,
          0.0028128966601171194,
          0.008438797285480682,
          0.016759734271166376,
          0.011220238674843779,
          0,
          0.03267049718617315,
          0.028050489682983154,
          0.011347561017841313,
          0.03506311210372894,
          0.03932578008955109,
          0.036568193107169175,
          0.03621178263239602,
          0.023742974643451,
          0.02418214087963985,
          0.023809587413251704,
          0.018258363456227313,
          0.0325778395477779,
          0.036414543677267645
         ],
         "yaxis": "y2"
        }
       ],
       "layout": {
        "annotations": [
         {
          "font": {
           "size": 18
          },
          "showarrow": false,
          "text": "$ \\textrm{ Performance Loss (PL) } \\\\\\ = \\\\\\ \\frac{\\textrm{Original measurement } - \\textrm{ Re-measurement}}{\\textrm{Original measurement}}$",
          "x": 1.35,
          "xref": "paper",
          "y": 0.5,
          "yref": "paper"
         }
        ],
        "boxgap": 0.5,
        "boxmode": "group",
        "height": 600,
        "shapes": [
         {
          "line": {
           "color": "grey",
           "dash": "dash",
           "width": 1
          },
          "type": "line",
          "x0": 0.5,
          "x1": 0.5,
          "xref": "x",
          "y0": 0,
          "y1": 1,
          "yref": "y domain"
         },
         {
          "line": {
           "color": "grey",
           "dash": "dash",
           "width": 1
          },
          "type": "line",
          "x0": 0.5,
          "x1": 0.5,
          "xref": "x2",
          "y0": 0,
          "y1": 1,
          "yref": "y2 domain"
         },
         {
          "line": {
           "color": "grey",
           "dash": "dash",
           "width": 1
          },
          "type": "line",
          "x0": 1.5,
          "x1": 1.5,
          "xref": "x",
          "y0": 0,
          "y1": 1,
          "yref": "y domain"
         },
         {
          "line": {
           "color": "grey",
           "dash": "dash",
           "width": 1
          },
          "type": "line",
          "x0": 1.5,
          "x1": 1.5,
          "xref": "x2",
          "y0": 0,
          "y1": 1,
          "yref": "y2 domain"
         },
         {
          "line": {
           "color": "grey",
           "dash": "dash",
           "width": 1
          },
          "type": "line",
          "x0": 2.5,
          "x1": 2.5,
          "xref": "x",
          "y0": 0,
          "y1": 1,
          "yref": "y domain"
         },
         {
          "line": {
           "color": "grey",
           "dash": "dash",
           "width": 1
          },
          "type": "line",
          "x0": 2.5,
          "x1": 2.5,
          "xref": "x2",
          "y0": 0,
          "y1": 1,
          "yref": "y2 domain"
         },
         {
          "line": {
           "color": "grey",
           "dash": "dash",
           "width": 1
          },
          "type": "line",
          "x0": 3.5,
          "x1": 3.5,
          "xref": "x",
          "y0": 0,
          "y1": 1,
          "yref": "y domain"
         },
         {
          "line": {
           "color": "grey",
           "dash": "dash",
           "width": 1
          },
          "type": "line",
          "x0": 3.5,
          "x1": 3.5,
          "xref": "x2",
          "y0": 0,
          "y1": 1,
          "yref": "y2 domain"
         }
        ],
        "template": {
         "data": {
          "bar": [
           {
            "error_x": {
             "color": "#2a3f5f"
            },
            "error_y": {
             "color": "#2a3f5f"
            },
            "marker": {
             "line": {
              "color": "#E5ECF6",
              "width": 0.5
             },
             "pattern": {
              "fillmode": "overlay",
              "size": 10,
              "solidity": 0.2
             }
            },
            "type": "bar"
           }
          ],
          "barpolar": [
           {
            "marker": {
             "line": {
              "color": "#E5ECF6",
              "width": 0.5
             },
             "pattern": {
              "fillmode": "overlay",
              "size": 10,
              "solidity": 0.2
             }
            },
            "type": "barpolar"
           }
          ],
          "carpet": [
           {
            "aaxis": {
             "endlinecolor": "#2a3f5f",
             "gridcolor": "white",
             "linecolor": "white",
             "minorgridcolor": "white",
             "startlinecolor": "#2a3f5f"
            },
            "baxis": {
             "endlinecolor": "#2a3f5f",
             "gridcolor": "white",
             "linecolor": "white",
             "minorgridcolor": "white",
             "startlinecolor": "#2a3f5f"
            },
            "type": "carpet"
           }
          ],
          "choropleth": [
           {
            "colorbar": {
             "outlinewidth": 0,
             "ticks": ""
            },
            "type": "choropleth"
           }
          ],
          "contour": [
           {
            "colorbar": {
             "outlinewidth": 0,
             "ticks": ""
            },
            "colorscale": [
             [
              0,
              "#0d0887"
             ],
             [
              0.1111111111111111,
              "#46039f"
             ],
             [
              0.2222222222222222,
              "#7201a8"
             ],
             [
              0.3333333333333333,
              "#9c179e"
             ],
             [
              0.4444444444444444,
              "#bd3786"
             ],
             [
              0.5555555555555556,
              "#d8576b"
             ],
             [
              0.6666666666666666,
              "#ed7953"
             ],
             [
              0.7777777777777778,
              "#fb9f3a"
             ],
             [
              0.8888888888888888,
              "#fdca26"
             ],
             [
              1,
              "#f0f921"
             ]
            ],
            "type": "contour"
           }
          ],
          "contourcarpet": [
           {
            "colorbar": {
             "outlinewidth": 0,
             "ticks": ""
            },
            "type": "contourcarpet"
           }
          ],
          "heatmap": [
           {
            "colorbar": {
             "outlinewidth": 0,
             "ticks": ""
            },
            "colorscale": [
             [
              0,
              "#0d0887"
             ],
             [
              0.1111111111111111,
              "#46039f"
             ],
             [
              0.2222222222222222,
              "#7201a8"
             ],
             [
              0.3333333333333333,
              "#9c179e"
             ],
             [
              0.4444444444444444,
              "#bd3786"
             ],
             [
              0.5555555555555556,
              "#d8576b"
             ],
             [
              0.6666666666666666,
              "#ed7953"
             ],
             [
              0.7777777777777778,
              "#fb9f3a"
             ],
             [
              0.8888888888888888,
              "#fdca26"
             ],
             [
              1,
              "#f0f921"
             ]
            ],
            "type": "heatmap"
           }
          ],
          "heatmapgl": [
           {
            "colorbar": {
             "outlinewidth": 0,
             "ticks": ""
            },
            "colorscale": [
             [
              0,
              "#0d0887"
             ],
             [
              0.1111111111111111,
              "#46039f"
             ],
             [
              0.2222222222222222,
              "#7201a8"
             ],
             [
              0.3333333333333333,
              "#9c179e"
             ],
             [
              0.4444444444444444,
              "#bd3786"
             ],
             [
              0.5555555555555556,
              "#d8576b"
             ],
             [
              0.6666666666666666,
              "#ed7953"
             ],
             [
              0.7777777777777778,
              "#fb9f3a"
             ],
             [
              0.8888888888888888,
              "#fdca26"
             ],
             [
              1,
              "#f0f921"
             ]
            ],
            "type": "heatmapgl"
           }
          ],
          "histogram": [
           {
            "marker": {
             "pattern": {
              "fillmode": "overlay",
              "size": 10,
              "solidity": 0.2
             }
            },
            "type": "histogram"
           }
          ],
          "histogram2d": [
           {
            "colorbar": {
             "outlinewidth": 0,
             "ticks": ""
            },
            "colorscale": [
             [
              0,
              "#0d0887"
             ],
             [
              0.1111111111111111,
              "#46039f"
             ],
             [
              0.2222222222222222,
              "#7201a8"
             ],
             [
              0.3333333333333333,
              "#9c179e"
             ],
             [
              0.4444444444444444,
              "#bd3786"
             ],
             [
              0.5555555555555556,
              "#d8576b"
             ],
             [
              0.6666666666666666,
              "#ed7953"
             ],
             [
              0.7777777777777778,
              "#fb9f3a"
             ],
             [
              0.8888888888888888,
              "#fdca26"
             ],
             [
              1,
              "#f0f921"
             ]
            ],
            "type": "histogram2d"
           }
          ],
          "histogram2dcontour": [
           {
            "colorbar": {
             "outlinewidth": 0,
             "ticks": ""
            },
            "colorscale": [
             [
              0,
              "#0d0887"
             ],
             [
              0.1111111111111111,
              "#46039f"
             ],
             [
              0.2222222222222222,
              "#7201a8"
             ],
             [
              0.3333333333333333,
              "#9c179e"
             ],
             [
              0.4444444444444444,
              "#bd3786"
             ],
             [
              0.5555555555555556,
              "#d8576b"
             ],
             [
              0.6666666666666666,
              "#ed7953"
             ],
             [
              0.7777777777777778,
              "#fb9f3a"
             ],
             [
              0.8888888888888888,
              "#fdca26"
             ],
             [
              1,
              "#f0f921"
             ]
            ],
            "type": "histogram2dcontour"
           }
          ],
          "mesh3d": [
           {
            "colorbar": {
             "outlinewidth": 0,
             "ticks": ""
            },
            "type": "mesh3d"
           }
          ],
          "parcoords": [
           {
            "line": {
             "colorbar": {
              "outlinewidth": 0,
              "ticks": ""
             }
            },
            "type": "parcoords"
           }
          ],
          "pie": [
           {
            "automargin": true,
            "type": "pie"
           }
          ],
          "scatter": [
           {
            "fillpattern": {
             "fillmode": "overlay",
             "size": 10,
             "solidity": 0.2
            },
            "type": "scatter"
           }
          ],
          "scatter3d": [
           {
            "line": {
             "colorbar": {
              "outlinewidth": 0,
              "ticks": ""
             }
            },
            "marker": {
             "colorbar": {
              "outlinewidth": 0,
              "ticks": ""
             }
            },
            "type": "scatter3d"
           }
          ],
          "scattercarpet": [
           {
            "marker": {
             "colorbar": {
              "outlinewidth": 0,
              "ticks": ""
             }
            },
            "type": "scattercarpet"
           }
          ],
          "scattergeo": [
           {
            "marker": {
             "colorbar": {
              "outlinewidth": 0,
              "ticks": ""
             }
            },
            "type": "scattergeo"
           }
          ],
          "scattergl": [
           {
            "marker": {
             "colorbar": {
              "outlinewidth": 0,
              "ticks": ""
             }
            },
            "type": "scattergl"
           }
          ],
          "scattermapbox": [
           {
            "marker": {
             "colorbar": {
              "outlinewidth": 0,
              "ticks": ""
             }
            },
            "type": "scattermapbox"
           }
          ],
          "scatterpolar": [
           {
            "marker": {
             "colorbar": {
              "outlinewidth": 0,
              "ticks": ""
             }
            },
            "type": "scatterpolar"
           }
          ],
          "scatterpolargl": [
           {
            "marker": {
             "colorbar": {
              "outlinewidth": 0,
              "ticks": ""
             }
            },
            "type": "scatterpolargl"
           }
          ],
          "scatterternary": [
           {
            "marker": {
             "colorbar": {
              "outlinewidth": 0,
              "ticks": ""
             }
            },
            "type": "scatterternary"
           }
          ],
          "surface": [
           {
            "colorbar": {
             "outlinewidth": 0,
             "ticks": ""
            },
            "colorscale": [
             [
              0,
              "#0d0887"
             ],
             [
              0.1111111111111111,
              "#46039f"
             ],
             [
              0.2222222222222222,
              "#7201a8"
             ],
             [
              0.3333333333333333,
              "#9c179e"
             ],
             [
              0.4444444444444444,
              "#bd3786"
             ],
             [
              0.5555555555555556,
              "#d8576b"
             ],
             [
              0.6666666666666666,
              "#ed7953"
             ],
             [
              0.7777777777777778,
              "#fb9f3a"
             ],
             [
              0.8888888888888888,
              "#fdca26"
             ],
             [
              1,
              "#f0f921"
             ]
            ],
            "type": "surface"
           }
          ],
          "table": [
           {
            "cells": {
             "fill": {
              "color": "#EBF0F8"
             },
             "line": {
              "color": "white"
             }
            },
            "header": {
             "fill": {
              "color": "#C8D4E3"
             },
             "line": {
              "color": "white"
             }
            },
            "type": "table"
           }
          ]
         },
         "layout": {
          "annotationdefaults": {
           "arrowcolor": "#2a3f5f",
           "arrowhead": 0,
           "arrowwidth": 1
          },
          "autotypenumbers": "strict",
          "coloraxis": {
           "colorbar": {
            "outlinewidth": 0,
            "ticks": ""
           }
          },
          "colorscale": {
           "diverging": [
            [
             0,
             "#8e0152"
            ],
            [
             0.1,
             "#c51b7d"
            ],
            [
             0.2,
             "#de77ae"
            ],
            [
             0.3,
             "#f1b6da"
            ],
            [
             0.4,
             "#fde0ef"
            ],
            [
             0.5,
             "#f7f7f7"
            ],
            [
             0.6,
             "#e6f5d0"
            ],
            [
             0.7,
             "#b8e186"
            ],
            [
             0.8,
             "#7fbc41"
            ],
            [
             0.9,
             "#4d9221"
            ],
            [
             1,
             "#276419"
            ]
           ],
           "sequential": [
            [
             0,
             "#0d0887"
            ],
            [
             0.1111111111111111,
             "#46039f"
            ],
            [
             0.2222222222222222,
             "#7201a8"
            ],
            [
             0.3333333333333333,
             "#9c179e"
            ],
            [
             0.4444444444444444,
             "#bd3786"
            ],
            [
             0.5555555555555556,
             "#d8576b"
            ],
            [
             0.6666666666666666,
             "#ed7953"
            ],
            [
             0.7777777777777778,
             "#fb9f3a"
            ],
            [
             0.8888888888888888,
             "#fdca26"
            ],
            [
             1,
             "#f0f921"
            ]
           ],
           "sequentialminus": [
            [
             0,
             "#0d0887"
            ],
            [
             0.1111111111111111,
             "#46039f"
            ],
            [
             0.2222222222222222,
             "#7201a8"
            ],
            [
             0.3333333333333333,
             "#9c179e"
            ],
            [
             0.4444444444444444,
             "#bd3786"
            ],
            [
             0.5555555555555556,
             "#d8576b"
            ],
            [
             0.6666666666666666,
             "#ed7953"
            ],
            [
             0.7777777777777778,
             "#fb9f3a"
            ],
            [
             0.8888888888888888,
             "#fdca26"
            ],
            [
             1,
             "#f0f921"
            ]
           ]
          },
          "colorway": [
           "#636efa",
           "#EF553B",
           "#00cc96",
           "#ab63fa",
           "#FFA15A",
           "#19d3f3",
           "#FF6692",
           "#B6E880",
           "#FF97FF",
           "#FECB52"
          ],
          "font": {
           "color": "#2a3f5f"
          },
          "geo": {
           "bgcolor": "white",
           "lakecolor": "white",
           "landcolor": "#E5ECF6",
           "showlakes": true,
           "showland": true,
           "subunitcolor": "white"
          },
          "hoverlabel": {
           "align": "left"
          },
          "hovermode": "closest",
          "mapbox": {
           "style": "light"
          },
          "paper_bgcolor": "white",
          "plot_bgcolor": "#E5ECF6",
          "polar": {
           "angularaxis": {
            "gridcolor": "white",
            "linecolor": "white",
            "ticks": ""
           },
           "bgcolor": "#E5ECF6",
           "radialaxis": {
            "gridcolor": "white",
            "linecolor": "white",
            "ticks": ""
           }
          },
          "scene": {
           "xaxis": {
            "backgroundcolor": "#E5ECF6",
            "gridcolor": "white",
            "gridwidth": 2,
            "linecolor": "white",
            "showbackground": true,
            "ticks": "",
            "zerolinecolor": "white"
           },
           "yaxis": {
            "backgroundcolor": "#E5ECF6",
            "gridcolor": "white",
            "gridwidth": 2,
            "linecolor": "white",
            "showbackground": true,
            "ticks": "",
            "zerolinecolor": "white"
           },
           "zaxis": {
            "backgroundcolor": "#E5ECF6",
            "gridcolor": "white",
            "gridwidth": 2,
            "linecolor": "white",
            "showbackground": true,
            "ticks": "",
            "zerolinecolor": "white"
           }
          },
          "shapedefaults": {
           "line": {
            "color": "#2a3f5f"
           }
          },
          "ternary": {
           "aaxis": {
            "gridcolor": "white",
            "linecolor": "white",
            "ticks": ""
           },
           "baxis": {
            "gridcolor": "white",
            "linecolor": "white",
            "ticks": ""
           },
           "bgcolor": "#E5ECF6",
           "caxis": {
            "gridcolor": "white",
            "linecolor": "white",
            "ticks": ""
           }
          },
          "title": {
           "x": 0.05
          },
          "xaxis": {
           "automargin": true,
           "gridcolor": "white",
           "linecolor": "white",
           "ticks": "",
           "title": {
            "standoff": 15
           },
           "zerolinecolor": "white",
           "zerolinewidth": 2
          },
          "yaxis": {
           "automargin": true,
           "gridcolor": "white",
           "linecolor": "white",
           "ticks": "",
           "title": {
            "standoff": 15
           },
           "zerolinecolor": "white",
           "zerolinewidth": 2
          }
         }
        },
        "title": {
         "text": "FF performance between 5 annealing tests"
        },
        "width": 900,
        "xaxis": {
         "anchor": "y",
         "domain": [
          0,
          1
         ],
         "matches": "x2",
         "showticklabels": false
        },
        "xaxis2": {
         "anchor": "y2",
         "domain": [
          0,
          1
         ]
        },
        "yaxis": {
         "anchor": "x",
         "domain": [
          0.515,
          1
         ],
         "dtick": 2,
         "tick0": 62,
         "tickformat": ".1f",
         "title": {
          "text": "FF [%]"
         }
        },
        "yaxis2": {
         "anchor": "x2",
         "domain": [
          0,
          0.485
         ],
         "dtick": 0.02,
         "tickformat": ".1%",
         "title": {
          "text": "PL of FF"
         }
        }
       }
      },
      "text/html": [
       "<div>                            <div id=\"b63ad26f-bd6a-4c20-9b59-a373e1da88f8\" class=\"plotly-graph-div\" style=\"height:600px; width:900px;\"></div>            <script type=\"text/javascript\">                require([\"plotly\"], function(Plotly) {                    window.PLOTLYENV=window.PLOTLYENV || {};                                    if (document.getElementById(\"b63ad26f-bd6a-4c20-9b59-a373e1da88f8\")) {                    Plotly.newPlot(                        \"b63ad26f-bd6a-4c20-9b59-a373e1da88f8\",                        [{\"name\":\"Original measurments\",\"offsetgroup\":\"A\",\"x\":[\"2h annealing in cassettes\",\"2h annealing in cassettes\",\"2h annealing in cassettes\",\"2h annealing in cassettes\",\"2h annealing in cassettes\",\"2h annealing in cassettes\",\"2h annealing in cassettes\",\"2h annealing in cassettes\",\"2h annealing in cassettes\",\"2h annealing in cassettes\",\"2h annealing in cassettes\",\"2h annealing in cassettes\",\"1h annealing in cassettes \",\"1h annealing in cassettes \",\"1h annealing in cassettes \",\"1h annealing in cassettes \",\"1h annealing in cassettes \",\"1h annealing in cassettes \",\"1h annealing in cassettes \",\"1h annealing in cassettes \",\"1h annealing in cassettes \",\"1h annealing in cassettes \",\"1h annealing in cassettes \",\"1h annealing in cassettes \",\"30min annealing in cassettes\",\"30min annealing in cassettes\",\"30min annealing in cassettes\",\"30min annealing in cassettes\",\"30min annealing in cassettes\",\"30min annealing in cassettes\",\"30min annealing in cassettes\",\"30min annealing in cassettes\",\"30min annealing in cassettes\",\"30min annealing in cassettes\",\"30min annealing in cassettes\",\"15min annealing in cassettes\",\"15min annealing in cassettes\",\"15min annealing in cassettes\",\"15min annealing in cassettes\",\"15min annealing in cassettes\",\"15min annealing in cassettes\",\"15min annealing in cassettes\",\"15min annealing in cassettes\",\"15min annealing in cassettes\",\"15min annealing in cassettes\",\"15min annealing in cassettes\",\"15min annealing in cassettes\",\"15min annealing in coinstack\",\"15min annealing in coinstack\",\"15min annealing in coinstack\",\"15min annealing in coinstack\",\"15min annealing in coinstack\",\"15min annealing in coinstack\",\"15min annealing in coinstack\",\"15min annealing in coinstack\",\"15min annealing in coinstack\",\"15min annealing in coinstack\",\"15min annealing in coinstack\",\"15min annealing in coinstack\",\"15min annealing in coinstack\"],\"y\":[71.69999694824219,72.4000015258789,72.30000305175781,71.19999694824219,71.5999984741211,71.69999694824219,71.0999984741211,71.69999694824219,71.0,71.5999984741211,71.5,72.19999694824219,71.30000305175781,70.4000015258789,71.0999984741211,72.0999984741211,72.19999694824219,71.69999694824219,70.80000305175781,72.5,71.80000305175781,71.69999694824219,72.0,71.4000015258789,72.5,71.69999694824219,72.0999984741211,71.80000305175781,69.69999694824219,70.69999694824219,70.4000015258789,70.5999984741211,71.0999984741211,70.80000305175781,70.5,70.5,70.69999694824219,70.9000015258789,71.19999694824219,70.19999694824219,69.80000305175781,71.30000305175781,71.0999984741211,71.0999984741211,71.5999984741211,71.30000305175781,70.9000015258789,70.4000015258789,71.30000305175781,70.5,71.30000305175781,71.19999694824219,71.0999984741211,71.80000305175781,71.5999984741211,70.30000305175781,71.4000015258789,71.19999694824219,70.5999984741211,71.4000015258789],\"type\":\"box\",\"xaxis\":\"x\",\"yaxis\":\"y\"},{\"name\":\"Remeasure before annealing\",\"offsetgroup\":\"B\",\"x\":[\"2h annealing in cassettes\",\"2h annealing in cassettes\",\"2h annealing in cassettes\",\"2h annealing in cassettes\",\"2h annealing in cassettes\",\"2h annealing in cassettes\",\"2h annealing in cassettes\",\"2h annealing in cassettes\",\"2h annealing in cassettes\",\"2h annealing in cassettes\",\"2h annealing in cassettes\",\"2h annealing in cassettes\",\"1h annealing in cassettes \",\"1h annealing in cassettes \",\"1h annealing in cassettes \",\"1h annealing in cassettes \",\"1h annealing in cassettes \",\"1h annealing in cassettes \",\"1h annealing in cassettes \",\"1h annealing in cassettes \",\"1h annealing in cassettes \",\"1h annealing in cassettes \",\"1h annealing in cassettes \",\"1h annealing in cassettes \",\"30min annealing in cassettes\",\"30min annealing in cassettes\",\"30min annealing in cassettes\",\"30min annealing in cassettes\",\"30min annealing in cassettes\",\"30min annealing in cassettes\",\"30min annealing in cassettes\",\"30min annealing in cassettes\",\"30min annealing in cassettes\",\"30min annealing in cassettes\",\"30min annealing in cassettes\",\"15min annealing in cassettes\",\"15min annealing in cassettes\",\"15min annealing in cassettes\",\"15min annealing in cassettes\",\"15min annealing in cassettes\",\"15min annealing in cassettes\",\"15min annealing in cassettes\",\"15min annealing in cassettes\",\"15min annealing in cassettes\",\"15min annealing in cassettes\",\"15min annealing in cassettes\",\"15min annealing in cassettes\",\"15min annealing in coinstack\",\"15min annealing in coinstack\",\"15min annealing in coinstack\",\"15min annealing in coinstack\",\"15min annealing in coinstack\",\"15min annealing in coinstack\",\"15min annealing in coinstack\",\"15min annealing in coinstack\",\"15min annealing in coinstack\",\"15min annealing in coinstack\",\"15min annealing in coinstack\",\"15min annealing in coinstack\",\"15min annealing in coinstack\"],\"y\":[68.5999984741211,69.30000305175781,68.9000015258789,67.9000015258789,68.0,68.0,67.9000015258789,67.9000015258789,67.80000305175781,68.30000305175781,68.0999984741211,68.69999694824219,67.5,67.4000015258789,68.5999984741211,68.80000305175781,68.80000305175781,68.69999694824219,67.19999694824219,69.19999694824219,67.80000305175781,68.4000015258789,68.5,68.4000015258789,69.9000015258789,68.9000015258789,68.5,68.0999984741211,66.0999984741211,67.69999694824219,66.9000015258789,67.4000015258789,68.0,67.19999694824219,68.0,68.0999984741211,68.30000305175781,68.0999984741211,68.30000305175781,65.69999694824219,67.0999984741211,68.5999984741211,68.69999694824219,67.69999694824219,68.0999984741211,67.9000015258789,68.69999694824219,67.4000015258789,68.30000305175781,66.4000015258789,68.0,67.5,67.4000015258789,67.9000015258789,68.30000305175781,67.5999984741211,68.9000015258789,67.4000015258789,67.4000015258789,68.0999984741211],\"type\":\"box\",\"xaxis\":\"x\",\"yaxis\":\"y\"},{\"name\":\"Remeasure after annealing\",\"offsetgroup\":\"C\",\"x\":[\"2h annealing in cassettes\",\"2h annealing in cassettes\",\"2h annealing in cassettes\",\"2h annealing in cassettes\",\"2h annealing in cassettes\",\"2h annealing in cassettes\",\"2h annealing in cassettes\",\"2h annealing in cassettes\",\"2h annealing in cassettes\",\"2h annealing in cassettes\",\"2h annealing in cassettes\",\"2h annealing in cassettes\",\"1h annealing in cassettes \",\"1h annealing in cassettes \",\"1h annealing in cassettes \",\"1h annealing in cassettes \",\"1h annealing in cassettes \",\"1h annealing in cassettes \",\"1h annealing in cassettes \",\"1h annealing in cassettes \",\"1h annealing in cassettes \",\"1h annealing in cassettes \",\"1h annealing in cassettes \",\"1h annealing in cassettes \",\"30min annealing in cassettes\",\"30min annealing in cassettes\",\"30min annealing in cassettes\",\"30min annealing in cassettes\",\"30min annealing in cassettes\",\"30min annealing in cassettes\",\"30min annealing in cassettes\",\"30min annealing in cassettes\",\"30min annealing in cassettes\",\"30min annealing in cassettes\",\"30min annealing in cassettes\",\"15min annealing in cassettes\",\"15min annealing in cassettes\",\"15min annealing in cassettes\",\"15min annealing in cassettes\",\"15min annealing in cassettes\",\"15min annealing in cassettes\",\"15min annealing in cassettes\",\"15min annealing in cassettes\",\"15min annealing in cassettes\",\"15min annealing in cassettes\",\"15min annealing in cassettes\",\"15min annealing in cassettes\",\"15min annealing in coinstack\",\"15min annealing in coinstack\",\"15min annealing in coinstack\",\"15min annealing in coinstack\",\"15min annealing in coinstack\",\"15min annealing in coinstack\",\"15min annealing in coinstack\",\"15min annealing in coinstack\",\"15min annealing in coinstack\",\"15min annealing in coinstack\",\"15min annealing in coinstack\",\"15min annealing in coinstack\",\"15min annealing in coinstack\"],\"y\":[65.19999694824219,70.80000305175781,70.30000305175781,69.0,70.0999984741211,70.5,70.69999694824219,70.5,69.69999694824219,70.19999694824219,70.19999694824219,70.5999984741211,69.4000015258789,68.9000015258789,70.5,70.69999694824219,69.69999694824219,70.30000305175781,69.0999984741211,70.69999694824219,70.0,70.80000305175781,70.5,70.4000015258789,71.4000015258789,70.9000015258789,70.4000015258789,70.4000015258789,68.0999984741211,69.80000305175781,69.5,69.0,70.0999984741211,69.9000015258789,70.30000305175781,69.5999984741211,70.30000305175781,70.0999984741211,70.30000305175781,69.5999984741211,69.9000015258789,71.0,70.9000015258789,70.5,70.4000015258789,70.5,70.9000015258789,68.0999984741211,69.30000305175781,69.69999694824219,68.80000305175781,68.4000015258789,68.5,69.19999694824219,69.9000015258789,68.5999984741211,69.69999694824219,69.9000015258789,68.30000305175781,68.80000305175781],\"type\":\"box\",\"xaxis\":\"x\",\"yaxis\":\"y\"},{\"name\":\"Performance loss before annealing\",\"offsetgroup\":\"B\",\"x\":[\"2h annealing in cassettes\",\"2h annealing in cassettes\",\"2h annealing in cassettes\",\"2h annealing in cassettes\",\"2h annealing in cassettes\",\"2h annealing in cassettes\",\"2h annealing in cassettes\",\"2h annealing in cassettes\",\"2h annealing in cassettes\",\"2h annealing in cassettes\",\"2h annealing in cassettes\",\"2h annealing in cassettes\",\"1h annealing in cassettes \",\"1h annealing in cassettes \",\"1h annealing in cassettes \",\"1h annealing in cassettes \",\"1h annealing in cassettes \",\"1h annealing in cassettes \",\"1h annealing in cassettes \",\"1h annealing in cassettes \",\"1h annealing in cassettes \",\"1h annealing in cassettes \",\"1h annealing in cassettes \",\"1h annealing in cassettes \",\"30min annealing in cassettes\",\"30min annealing in cassettes\",\"30min annealing in cassettes\",\"30min annealing in cassettes\",\"30min annealing in cassettes\",\"30min annealing in cassettes\",\"30min annealing in cassettes\",\"30min annealing in cassettes\",\"30min annealing in cassettes\",\"30min annealing in cassettes\",\"30min annealing in cassettes\",\"15min annealing in cassettes\",\"15min annealing in cassettes\",\"15min annealing in cassettes\",\"15min annealing in cassettes\",\"15min annealing in cassettes\",\"15min annealing in cassettes\",\"15min annealing in cassettes\",\"15min annealing in cassettes\",\"15min annealing in cassettes\",\"15min annealing in cassettes\",\"15min annealing in cassettes\",\"15min annealing in cassettes\",\"15min annealing in coinstack\",\"15min annealing in coinstack\",\"15min annealing in coinstack\",\"15min annealing in coinstack\",\"15min annealing in coinstack\",\"15min annealing in coinstack\",\"15min annealing in coinstack\",\"15min annealing in coinstack\",\"15min annealing in coinstack\",\"15min annealing in coinstack\",\"15min annealing in coinstack\",\"15min annealing in coinstack\",\"15min annealing in coinstack\"],\"y\":[0.043235684882370055,0.04281765757992449,0.04702629851128676,0.04634825230065902,0.05027930936929094,0.05160386479392866,0.045006990392649854,0.05299854371132498,0.04507037955270687,0.04608932252360344,0.047552468893411276,0.04847645634263718,0.05329597319931851,0.04261363544001069,0.035161744777110614,0.04576970169490019,0.04709133019661648,0.04184100596497373,0.05084754164323789,0.04551728347252155,0.05571030403879727,0.04602504271716269,0.04861111111111111,0.042016805824754096,0.035862047918911635,0.039051541723000405,0.049930631765730815,0.05153209499127082,0.05164990863334442,0.04243281654165035,0.04971590801334581,0.04532573679042172,0.0436005420625913,0.05084754164323789,0.03546099290780142,0.03404257483516179,0.03394616690353402,0.039492284788397294,0.04073025310088824,0.06410256688925227,0.03868201231502271,0.03786822527450304,0.03375529644705205,0.0478199943578963,0.04888268260599238,0.047685853861896624,0.031029683078831874,0.04261363544001069,0.04207573452447473,0.058156006725121896,0.04628335077857272,0.0519662515004298,0.05203933934807198,0.054317567689621794,0.04608932252360344,0.03840689132899272,0.03501400485396174,0.05337072451176695,0.04532573679042172,0.046218529148934644],\"type\":\"box\",\"xaxis\":\"x2\",\"yaxis\":\"y2\"},{\"name\":\"Performance loss after annealing\",\"offsetgroup\":\"C\",\"x\":[\"2h annealing in cassettes\",\"2h annealing in cassettes\",\"2h annealing in cassettes\",\"2h annealing in cassettes\",\"2h annealing in cassettes\",\"2h annealing in cassettes\",\"2h annealing in cassettes\",\"2h annealing in cassettes\",\"2h annealing in cassettes\",\"2h annealing in cassettes\",\"2h annealing in cassettes\",\"2h annealing in cassettes\",\"1h annealing in cassettes \",\"1h annealing in cassettes \",\"1h annealing in cassettes \",\"1h annealing in cassettes \",\"1h annealing in cassettes \",\"1h annealing in cassettes \",\"1h annealing in cassettes \",\"1h annealing in cassettes \",\"1h annealing in cassettes \",\"1h annealing in cassettes \",\"1h annealing in cassettes \",\"1h annealing in cassettes \",\"30min annealing in cassettes\",\"30min annealing in cassettes\",\"30min annealing in cassettes\",\"30min annealing in cassettes\",\"30min annealing in cassettes\",\"30min annealing in cassettes\",\"30min annealing in cassettes\",\"30min annealing in cassettes\",\"30min annealing in cassettes\",\"30min annealing in cassettes\",\"30min annealing in cassettes\",\"15min annealing in cassettes\",\"15min annealing in cassettes\",\"15min annealing in cassettes\",\"15min annealing in cassettes\",\"15min annealing in cassettes\",\"15min annealing in cassettes\",\"15min annealing in cassettes\",\"15min annealing in cassettes\",\"15min annealing in cassettes\",\"15min annealing in cassettes\",\"15min annealing in cassettes\",\"15min annealing in cassettes\",\"15min annealing in coinstack\",\"15min annealing in coinstack\",\"15min annealing in coinstack\",\"15min annealing in coinstack\",\"15min annealing in coinstack\",\"15min annealing in coinstack\",\"15min annealing in coinstack\",\"15min annealing in coinstack\",\"15min annealing in coinstack\",\"15min annealing in coinstack\",\"15min annealing in coinstack\",\"15min annealing in coinstack\",\"15min annealing in coinstack\"],\"y\":[0.09065551292410975,0.022099425972376324,0.027662516121448138,0.030898834867106015,0.020949721116853875,0.016736359823117216,0.0056259006253635635,0.016736359823117216,0.01830990213743398,0.019553094353555314,0.018181860863745628,0.022160644622576373,0.026647986599659255,0.021306817720005346,0.008438797285480682,0.019417497302464018,0.03462604024474084,0.019525717657909853,0.02401136305593014,0.02482762830010776,0.025069679321047672,0.012552216663747564,0.020833333333333332,0.014005601941584699,0.015172392746497844,0.011157537746351245,0.023578321556447308,0.019498627665373493,0.022955502785878462,0.012729758632708844,0.012784112306419019,0.02266286839521086,0.014064697910844245,0.012711885410809472,0.0028368361452792553,0.012765979090480939,0.005657622542433788,0.011283540684633227,0.012640364256456536,0.008546987182399268,-0.001432642833080441,0.004207616254097991,0.0028128966601171194,0.008438797285480682,0.016759734271166376,0.011220238674843779,0.0,0.03267049718617315,0.028050489682983154,0.011347561017841313,0.03506311210372894,0.03932578008955109,0.036568193107169175,0.03621178263239602,0.023742974643451,0.02418214087963985,0.023809587413251704,0.018258363456227313,0.0325778395477779,0.036414543677267645],\"type\":\"box\",\"xaxis\":\"x2\",\"yaxis\":\"y2\"}],                        {\"template\":{\"data\":{\"histogram2dcontour\":[{\"type\":\"histogram2dcontour\",\"colorbar\":{\"outlinewidth\":0,\"ticks\":\"\"},\"colorscale\":[[0.0,\"#0d0887\"],[0.1111111111111111,\"#46039f\"],[0.2222222222222222,\"#7201a8\"],[0.3333333333333333,\"#9c179e\"],[0.4444444444444444,\"#bd3786\"],[0.5555555555555556,\"#d8576b\"],[0.6666666666666666,\"#ed7953\"],[0.7777777777777778,\"#fb9f3a\"],[0.8888888888888888,\"#fdca26\"],[1.0,\"#f0f921\"]]}],\"choropleth\":[{\"type\":\"choropleth\",\"colorbar\":{\"outlinewidth\":0,\"ticks\":\"\"}}],\"histogram2d\":[{\"type\":\"histogram2d\",\"colorbar\":{\"outlinewidth\":0,\"ticks\":\"\"},\"colorscale\":[[0.0,\"#0d0887\"],[0.1111111111111111,\"#46039f\"],[0.2222222222222222,\"#7201a8\"],[0.3333333333333333,\"#9c179e\"],[0.4444444444444444,\"#bd3786\"],[0.5555555555555556,\"#d8576b\"],[0.6666666666666666,\"#ed7953\"],[0.7777777777777778,\"#fb9f3a\"],[0.8888888888888888,\"#fdca26\"],[1.0,\"#f0f921\"]]}],\"heatmap\":[{\"type\":\"heatmap\",\"colorbar\":{\"outlinewidth\":0,\"ticks\":\"\"},\"colorscale\":[[0.0,\"#0d0887\"],[0.1111111111111111,\"#46039f\"],[0.2222222222222222,\"#7201a8\"],[0.3333333333333333,\"#9c179e\"],[0.4444444444444444,\"#bd3786\"],[0.5555555555555556,\"#d8576b\"],[0.6666666666666666,\"#ed7953\"],[0.7777777777777778,\"#fb9f3a\"],[0.8888888888888888,\"#fdca26\"],[1.0,\"#f0f921\"]]}],\"heatmapgl\":[{\"type\":\"heatmapgl\",\"colorbar\":{\"outlinewidth\":0,\"ticks\":\"\"},\"colorscale\":[[0.0,\"#0d0887\"],[0.1111111111111111,\"#46039f\"],[0.2222222222222222,\"#7201a8\"],[0.3333333333333333,\"#9c179e\"],[0.4444444444444444,\"#bd3786\"],[0.5555555555555556,\"#d8576b\"],[0.6666666666666666,\"#ed7953\"],[0.7777777777777778,\"#fb9f3a\"],[0.8888888888888888,\"#fdca26\"],[1.0,\"#f0f921\"]]}],\"contourcarpet\":[{\"type\":\"contourcarpet\",\"colorbar\":{\"outlinewidth\":0,\"ticks\":\"\"}}],\"contour\":[{\"type\":\"contour\",\"colorbar\":{\"outlinewidth\":0,\"ticks\":\"\"},\"colorscale\":[[0.0,\"#0d0887\"],[0.1111111111111111,\"#46039f\"],[0.2222222222222222,\"#7201a8\"],[0.3333333333333333,\"#9c179e\"],[0.4444444444444444,\"#bd3786\"],[0.5555555555555556,\"#d8576b\"],[0.6666666666666666,\"#ed7953\"],[0.7777777777777778,\"#fb9f3a\"],[0.8888888888888888,\"#fdca26\"],[1.0,\"#f0f921\"]]}],\"surface\":[{\"type\":\"surface\",\"colorbar\":{\"outlinewidth\":0,\"ticks\":\"\"},\"colorscale\":[[0.0,\"#0d0887\"],[0.1111111111111111,\"#46039f\"],[0.2222222222222222,\"#7201a8\"],[0.3333333333333333,\"#9c179e\"],[0.4444444444444444,\"#bd3786\"],[0.5555555555555556,\"#d8576b\"],[0.6666666666666666,\"#ed7953\"],[0.7777777777777778,\"#fb9f3a\"],[0.8888888888888888,\"#fdca26\"],[1.0,\"#f0f921\"]]}],\"mesh3d\":[{\"type\":\"mesh3d\",\"colorbar\":{\"outlinewidth\":0,\"ticks\":\"\"}}],\"scatter\":[{\"fillpattern\":{\"fillmode\":\"overlay\",\"size\":10,\"solidity\":0.2},\"type\":\"scatter\"}],\"parcoords\":[{\"type\":\"parcoords\",\"line\":{\"colorbar\":{\"outlinewidth\":0,\"ticks\":\"\"}}}],\"scatterpolargl\":[{\"type\":\"scatterpolargl\",\"marker\":{\"colorbar\":{\"outlinewidth\":0,\"ticks\":\"\"}}}],\"bar\":[{\"error_x\":{\"color\":\"#2a3f5f\"},\"error_y\":{\"color\":\"#2a3f5f\"},\"marker\":{\"line\":{\"color\":\"#E5ECF6\",\"width\":0.5},\"pattern\":{\"fillmode\":\"overlay\",\"size\":10,\"solidity\":0.2}},\"type\":\"bar\"}],\"scattergeo\":[{\"type\":\"scattergeo\",\"marker\":{\"colorbar\":{\"outlinewidth\":0,\"ticks\":\"\"}}}],\"scatterpolar\":[{\"type\":\"scatterpolar\",\"marker\":{\"colorbar\":{\"outlinewidth\":0,\"ticks\":\"\"}}}],\"histogram\":[{\"marker\":{\"pattern\":{\"fillmode\":\"overlay\",\"size\":10,\"solidity\":0.2}},\"type\":\"histogram\"}],\"scattergl\":[{\"type\":\"scattergl\",\"marker\":{\"colorbar\":{\"outlinewidth\":0,\"ticks\":\"\"}}}],\"scatter3d\":[{\"type\":\"scatter3d\",\"line\":{\"colorbar\":{\"outlinewidth\":0,\"ticks\":\"\"}},\"marker\":{\"colorbar\":{\"outlinewidth\":0,\"ticks\":\"\"}}}],\"scattermapbox\":[{\"type\":\"scattermapbox\",\"marker\":{\"colorbar\":{\"outlinewidth\":0,\"ticks\":\"\"}}}],\"scatterternary\":[{\"type\":\"scatterternary\",\"marker\":{\"colorbar\":{\"outlinewidth\":0,\"ticks\":\"\"}}}],\"scattercarpet\":[{\"type\":\"scattercarpet\",\"marker\":{\"colorbar\":{\"outlinewidth\":0,\"ticks\":\"\"}}}],\"carpet\":[{\"aaxis\":{\"endlinecolor\":\"#2a3f5f\",\"gridcolor\":\"white\",\"linecolor\":\"white\",\"minorgridcolor\":\"white\",\"startlinecolor\":\"#2a3f5f\"},\"baxis\":{\"endlinecolor\":\"#2a3f5f\",\"gridcolor\":\"white\",\"linecolor\":\"white\",\"minorgridcolor\":\"white\",\"startlinecolor\":\"#2a3f5f\"},\"type\":\"carpet\"}],\"table\":[{\"cells\":{\"fill\":{\"color\":\"#EBF0F8\"},\"line\":{\"color\":\"white\"}},\"header\":{\"fill\":{\"color\":\"#C8D4E3\"},\"line\":{\"color\":\"white\"}},\"type\":\"table\"}],\"barpolar\":[{\"marker\":{\"line\":{\"color\":\"#E5ECF6\",\"width\":0.5},\"pattern\":{\"fillmode\":\"overlay\",\"size\":10,\"solidity\":0.2}},\"type\":\"barpolar\"}],\"pie\":[{\"automargin\":true,\"type\":\"pie\"}]},\"layout\":{\"autotypenumbers\":\"strict\",\"colorway\":[\"#636efa\",\"#EF553B\",\"#00cc96\",\"#ab63fa\",\"#FFA15A\",\"#19d3f3\",\"#FF6692\",\"#B6E880\",\"#FF97FF\",\"#FECB52\"],\"font\":{\"color\":\"#2a3f5f\"},\"hovermode\":\"closest\",\"hoverlabel\":{\"align\":\"left\"},\"paper_bgcolor\":\"white\",\"plot_bgcolor\":\"#E5ECF6\",\"polar\":{\"bgcolor\":\"#E5ECF6\",\"angularaxis\":{\"gridcolor\":\"white\",\"linecolor\":\"white\",\"ticks\":\"\"},\"radialaxis\":{\"gridcolor\":\"white\",\"linecolor\":\"white\",\"ticks\":\"\"}},\"ternary\":{\"bgcolor\":\"#E5ECF6\",\"aaxis\":{\"gridcolor\":\"white\",\"linecolor\":\"white\",\"ticks\":\"\"},\"baxis\":{\"gridcolor\":\"white\",\"linecolor\":\"white\",\"ticks\":\"\"},\"caxis\":{\"gridcolor\":\"white\",\"linecolor\":\"white\",\"ticks\":\"\"}},\"coloraxis\":{\"colorbar\":{\"outlinewidth\":0,\"ticks\":\"\"}},\"colorscale\":{\"sequential\":[[0.0,\"#0d0887\"],[0.1111111111111111,\"#46039f\"],[0.2222222222222222,\"#7201a8\"],[0.3333333333333333,\"#9c179e\"],[0.4444444444444444,\"#bd3786\"],[0.5555555555555556,\"#d8576b\"],[0.6666666666666666,\"#ed7953\"],[0.7777777777777778,\"#fb9f3a\"],[0.8888888888888888,\"#fdca26\"],[1.0,\"#f0f921\"]],\"sequentialminus\":[[0.0,\"#0d0887\"],[0.1111111111111111,\"#46039f\"],[0.2222222222222222,\"#7201a8\"],[0.3333333333333333,\"#9c179e\"],[0.4444444444444444,\"#bd3786\"],[0.5555555555555556,\"#d8576b\"],[0.6666666666666666,\"#ed7953\"],[0.7777777777777778,\"#fb9f3a\"],[0.8888888888888888,\"#fdca26\"],[1.0,\"#f0f921\"]],\"diverging\":[[0,\"#8e0152\"],[0.1,\"#c51b7d\"],[0.2,\"#de77ae\"],[0.3,\"#f1b6da\"],[0.4,\"#fde0ef\"],[0.5,\"#f7f7f7\"],[0.6,\"#e6f5d0\"],[0.7,\"#b8e186\"],[0.8,\"#7fbc41\"],[0.9,\"#4d9221\"],[1,\"#276419\"]]},\"xaxis\":{\"gridcolor\":\"white\",\"linecolor\":\"white\",\"ticks\":\"\",\"title\":{\"standoff\":15},\"zerolinecolor\":\"white\",\"automargin\":true,\"zerolinewidth\":2},\"yaxis\":{\"gridcolor\":\"white\",\"linecolor\":\"white\",\"ticks\":\"\",\"title\":{\"standoff\":15},\"zerolinecolor\":\"white\",\"automargin\":true,\"zerolinewidth\":2},\"scene\":{\"xaxis\":{\"backgroundcolor\":\"#E5ECF6\",\"gridcolor\":\"white\",\"linecolor\":\"white\",\"showbackground\":true,\"ticks\":\"\",\"zerolinecolor\":\"white\",\"gridwidth\":2},\"yaxis\":{\"backgroundcolor\":\"#E5ECF6\",\"gridcolor\":\"white\",\"linecolor\":\"white\",\"showbackground\":true,\"ticks\":\"\",\"zerolinecolor\":\"white\",\"gridwidth\":2},\"zaxis\":{\"backgroundcolor\":\"#E5ECF6\",\"gridcolor\":\"white\",\"linecolor\":\"white\",\"showbackground\":true,\"ticks\":\"\",\"zerolinecolor\":\"white\",\"gridwidth\":2}},\"shapedefaults\":{\"line\":{\"color\":\"#2a3f5f\"}},\"annotationdefaults\":{\"arrowcolor\":\"#2a3f5f\",\"arrowhead\":0,\"arrowwidth\":1},\"geo\":{\"bgcolor\":\"white\",\"landcolor\":\"#E5ECF6\",\"subunitcolor\":\"white\",\"showland\":true,\"showlakes\":true,\"lakecolor\":\"white\"},\"title\":{\"x\":0.05},\"mapbox\":{\"style\":\"light\"}}},\"xaxis\":{\"anchor\":\"y\",\"domain\":[0.0,1.0],\"matches\":\"x2\",\"showticklabels\":false},\"yaxis\":{\"anchor\":\"x\",\"domain\":[0.515,1.0],\"title\":{\"text\":\"FF [%]\"},\"tick0\":62,\"dtick\":2.0,\"tickformat\":\".1f\"},\"xaxis2\":{\"anchor\":\"y2\",\"domain\":[0.0,1.0]},\"yaxis2\":{\"anchor\":\"x2\",\"domain\":[0.0,0.485],\"title\":{\"text\":\"PL of FF\"},\"dtick\":0.02,\"tickformat\":\".1%\"},\"shapes\":[{\"line\":{\"color\":\"grey\",\"dash\":\"dash\",\"width\":1},\"type\":\"line\",\"x0\":0.5,\"x1\":0.5,\"xref\":\"x\",\"y0\":0,\"y1\":1,\"yref\":\"y domain\"},{\"line\":{\"color\":\"grey\",\"dash\":\"dash\",\"width\":1},\"type\":\"line\",\"x0\":0.5,\"x1\":0.5,\"xref\":\"x2\",\"y0\":0,\"y1\":1,\"yref\":\"y2 domain\"},{\"line\":{\"color\":\"grey\",\"dash\":\"dash\",\"width\":1},\"type\":\"line\",\"x0\":1.5,\"x1\":1.5,\"xref\":\"x\",\"y0\":0,\"y1\":1,\"yref\":\"y domain\"},{\"line\":{\"color\":\"grey\",\"dash\":\"dash\",\"width\":1},\"type\":\"line\",\"x0\":1.5,\"x1\":1.5,\"xref\":\"x2\",\"y0\":0,\"y1\":1,\"yref\":\"y2 domain\"},{\"line\":{\"color\":\"grey\",\"dash\":\"dash\",\"width\":1},\"type\":\"line\",\"x0\":2.5,\"x1\":2.5,\"xref\":\"x\",\"y0\":0,\"y1\":1,\"yref\":\"y domain\"},{\"line\":{\"color\":\"grey\",\"dash\":\"dash\",\"width\":1},\"type\":\"line\",\"x0\":2.5,\"x1\":2.5,\"xref\":\"x2\",\"y0\":0,\"y1\":1,\"yref\":\"y2 domain\"},{\"line\":{\"color\":\"grey\",\"dash\":\"dash\",\"width\":1},\"type\":\"line\",\"x0\":3.5,\"x1\":3.5,\"xref\":\"x\",\"y0\":0,\"y1\":1,\"yref\":\"y domain\"},{\"line\":{\"color\":\"grey\",\"dash\":\"dash\",\"width\":1},\"type\":\"line\",\"x0\":3.5,\"x1\":3.5,\"xref\":\"x2\",\"y0\":0,\"y1\":1,\"yref\":\"y2 domain\"}],\"annotations\":[{\"font\":{\"size\":18},\"showarrow\":false,\"text\":\"$ \\\\textrm{ Performance Loss (PL) } \\\\\\\\\\\\ = \\\\\\\\\\\\ \\\\frac{\\\\textrm{Original measurement } - \\\\textrm{ Re-measurement}}{\\\\textrm{Original measurement}}$\",\"x\":1.35,\"xref\":\"paper\",\"y\":0.5,\"yref\":\"paper\"}],\"title\":{\"text\":\"FF performance between 5 annealing tests\"},\"boxmode\":\"group\",\"height\":600,\"width\":900,\"boxgap\":0.5},                        {\"responsive\": true}                    ).then(function(){\n",
       "                            \n",
       "var gd = document.getElementById('b63ad26f-bd6a-4c20-9b59-a373e1da88f8');\n",
       "var x = new MutationObserver(function (mutations, observer) {{\n",
       "        var display = window.getComputedStyle(gd).display;\n",
       "        if (!display || display === 'none') {{\n",
       "            console.log([gd, 'removed!']);\n",
       "            Plotly.purge(gd);\n",
       "            observer.disconnect();\n",
       "        }}\n",
       "}});\n",
       "\n",
       "// Listen for the removal of the full notebook cells\n",
       "var notebookContainer = gd.closest('#notebook-container');\n",
       "if (notebookContainer) {{\n",
       "    x.observe(notebookContainer, {childList: true});\n",
       "}}\n",
       "\n",
       "// Listen for the clearing of the current output cell\n",
       "var outputEl = gd.closest('.output');\n",
       "if (outputEl) {{\n",
       "    x.observe(outputEl, {childList: true});\n",
       "}}\n",
       "\n",
       "                        })                };                });            </script>        </div>"
      ]
     },
     "metadata": {},
     "output_type": "display_data"
    }
   ],
   "source": [
    "Annealing_test_wide_FF = Annealing_test_wide[Annealing_test_wide['FF_PLaA'] < 0.1]\n",
    "Annealing_test_wide_FF = Annealing_test_wide_FF[Annealing_test_wide_FF['FF_PLbA'] < 0.1]\n",
    "\n",
    "fig_FF = make_subplots(rows=2, cols=1,shared_xaxes = True,vertical_spacing=0.03)\n",
    "\n",
    "fig_FF.add_trace(\n",
    "    go.Box(y=Annealing_test_wide_FF['FF [%]'], x = Annealing_test_wide_FF[\"Notes\"], \n",
    "           name = \"Original measurments\", offsetgroup = \"A\"),\n",
    "    row=1, col=1\n",
    ")\n",
    "\n",
    "fig_FF.add_trace(\n",
    "    go.Box(y=Annealing_test_wide_FF['FF [%].1'], x = Annealing_test_wide_FF[\"Notes\"], \n",
    "           name = \"Remeasure before annealing\", offsetgroup = \"B\"),\n",
    "    row=1, col=1\n",
    ")\n",
    "\n",
    "fig_FF.add_trace(\n",
    "    go.Box(y=Annealing_test_wide_FF['FF [%].2'], x = Annealing_test_wide_FF[\"Notes\"], \n",
    "           name = \"Remeasure after annealing\", offsetgroup = \"C\"),\n",
    "    row=1, col=1,\n",
    ")\n",
    "\n",
    "fig_FF.add_trace(\n",
    "    go.Box(y=Annealing_test_wide_FF['FF_PLbA'], x = Annealing_test_wide_FF[\"Notes\"], \n",
    "           name = \"Performance loss before annealing\", offsetgroup = \"B\"),\n",
    "    row=2, col=1\n",
    ")\n",
    "\n",
    "fig_FF.add_trace(\n",
    "    go.Box(y=Annealing_test_wide_FF['FF_PLaA'], x = Annealing_test_wide_FF[\"Notes\"], \n",
    "           name = \"Performance loss after annealing\", offsetgroup = \"C\"),\n",
    "    row=2, col=1\n",
    ")\n",
    "vx = 0.5\n",
    "fig_FF.add_vline(x=vx, line_width=1, line_dash=\"dash\", line_color=\"grey\")\n",
    "fig_FF.add_vline(x=vx+1, line_width=1, line_dash=\"dash\", line_color=\"grey\")\n",
    "fig_FF.add_vline(x=vx+2, line_width=1, line_dash=\"dash\", line_color=\"grey\")\n",
    "fig_FF.add_vline(x=vx+3, line_width=1, line_dash=\"dash\", line_color=\"grey\")\n",
    "\n",
    "fig_FF.add_annotation(yref='paper', xref='paper', y=0.5,x = 1.35,showarrow=False, font_size =18,\n",
    "            text=r'$ \\textrm{ Performance Loss (PL) } \\\\\\ = \\\\\\ \\frac{\\textrm{Original measurement } - \\textrm{ Re-measurement}}{\\textrm{Original measurement}}$')\n",
    "\n",
    "fig_FF.update_layout(title=\"FF performance between 5 annealing tests\",\n",
    "                     boxmode='group', height=600, width=900,\n",
    "                     boxgap=0.5,\n",
    "                     yaxis=dict(title=\"FF [%]\", tick0 = 62, dtick=2.0, tickformat=\".1f\"),\n",
    "                     yaxis2=dict(title=\"PL of FF\", dtick=0.02,  tickformat=\".1%\")\n",
    "                    ) \n",
    "fig_FF.show()\n",
    "fig_FF.write_image(\"2.2 Fill factor performance between 5 annealing tests.png\", scale=3, width=900, height=600) "
   ]
  },
  {
   "cell_type": "markdown",
   "id": "c608cc40",
   "metadata": {},
   "source": [
    "# Section 4 : Efficiency η "
   ]
  },
  {
   "cell_type": "markdown",
   "id": "aba97efd",
   "metadata": {},
   "source": [
    "Efficiency η : the higher the better.\n",
    "\n",
    "In general, η < 20 %\n",
    "\n",
    "$ η =  \\frac{FF * Voc * Isc}{Pin}  $"
   ]
  },
  {
   "cell_type": "code",
   "execution_count": 148,
   "id": "4c6e20ca",
   "metadata": {},
   "outputs": [
    {
     "data": {
      "application/vnd.plotly.v1+json": {
       "config": {
        "plotlyServerURL": "https://plot.ly"
       },
       "data": [
        {
         "name": "Original measurments",
         "offsetgroup": "A",
         "type": "box",
         "x": [
          "2h annealing in cassettes",
          "2h annealing in cassettes",
          "2h annealing in cassettes",
          "2h annealing in cassettes",
          "2h annealing in cassettes",
          "2h annealing in cassettes",
          "2h annealing in cassettes",
          "2h annealing in cassettes",
          "2h annealing in cassettes",
          "2h annealing in cassettes",
          "2h annealing in cassettes",
          "1h annealing in cassettes ",
          "1h annealing in cassettes ",
          "1h annealing in cassettes ",
          "1h annealing in cassettes ",
          "1h annealing in cassettes ",
          "1h annealing in cassettes ",
          "1h annealing in cassettes ",
          "1h annealing in cassettes ",
          "1h annealing in cassettes ",
          "1h annealing in cassettes ",
          "1h annealing in cassettes ",
          "1h annealing in cassettes ",
          "30min annealing in cassettes",
          "30min annealing in cassettes",
          "30min annealing in cassettes",
          "30min annealing in cassettes",
          "30min annealing in cassettes",
          "30min annealing in cassettes",
          "30min annealing in cassettes",
          "30min annealing in cassettes",
          "30min annealing in cassettes",
          "30min annealing in cassettes",
          "30min annealing in cassettes",
          "15min annealing in cassettes",
          "15min annealing in cassettes",
          "15min annealing in cassettes",
          "15min annealing in cassettes",
          "15min annealing in cassettes",
          "15min annealing in cassettes",
          "15min annealing in cassettes",
          "15min annealing in cassettes",
          "15min annealing in cassettes",
          "15min annealing in cassettes",
          "15min annealing in cassettes",
          "15min annealing in cassettes",
          "15min annealing in coinstack",
          "15min annealing in coinstack",
          "15min annealing in coinstack",
          "15min annealing in coinstack",
          "15min annealing in coinstack",
          "15min annealing in coinstack",
          "15min annealing in coinstack",
          "15min annealing in coinstack",
          "15min annealing in coinstack",
          "15min annealing in coinstack",
          "15min annealing in coinstack",
          "15min annealing in coinstack",
          "15min annealing in coinstack"
         ],
         "xaxis": "x",
         "y": [
          13.366000175476074,
          13.170999526977539,
          13.166000366210938,
          13.104000091552734,
          13.229000091552734,
          13.189000129699707,
          13.220000267028809,
          13.020000457763672,
          13.206000328063965,
          13.21500015258789,
          13.454999923706055,
          13.069000244140625,
          13.12600040435791,
          13.263999938964844,
          13.366000175476074,
          13.20199966430664,
          13.157999992370605,
          13.086999893188477,
          13.423999786376953,
          13.232999801635742,
          13.263999938964844,
          13.277000427246094,
          13.02400016784668,
          13.343999862670898,
          13.072999954223633,
          13.0600004196167,
          13.041999816894531,
          13.21500015258789,
          13.446000099182129,
          13.41100025177002,
          13.269000053405762,
          13.307999610900879,
          13.402000427246094,
          13.34000015258789,
          13.454999923706055,
          13.418999671936035,
          13.140000343322754,
          13.46399974822998,
          13.064000129699707,
          13.090999603271484,
          13.375,
          13.34000015258789,
          13.49899959564209,
          13.489999771118164,
          13.418999671936035,
          13.263999938964844,
          13.291000366210938,
          13.055000305175781,
          13.20199966430664,
          13.343999862670898,
          13.303999900817871,
          13.321999549865723,
          13.486000061035156,
          13.366000175476074,
          13.07800006866455,
          13.277000427246094,
          13.12600040435791,
          13.241999626159668,
          13.255000114440918
         ],
         "yaxis": "y"
        },
        {
         "name": "Remeasure before annealing",
         "offsetgroup": "B",
         "type": "box",
         "x": [
          "2h annealing in cassettes",
          "2h annealing in cassettes",
          "2h annealing in cassettes",
          "2h annealing in cassettes",
          "2h annealing in cassettes",
          "2h annealing in cassettes",
          "2h annealing in cassettes",
          "2h annealing in cassettes",
          "2h annealing in cassettes",
          "2h annealing in cassettes",
          "2h annealing in cassettes",
          "1h annealing in cassettes ",
          "1h annealing in cassettes ",
          "1h annealing in cassettes ",
          "1h annealing in cassettes ",
          "1h annealing in cassettes ",
          "1h annealing in cassettes ",
          "1h annealing in cassettes ",
          "1h annealing in cassettes ",
          "1h annealing in cassettes ",
          "1h annealing in cassettes ",
          "1h annealing in cassettes ",
          "1h annealing in cassettes ",
          "30min annealing in cassettes",
          "30min annealing in cassettes",
          "30min annealing in cassettes",
          "30min annealing in cassettes",
          "30min annealing in cassettes",
          "30min annealing in cassettes",
          "30min annealing in cassettes",
          "30min annealing in cassettes",
          "30min annealing in cassettes",
          "30min annealing in cassettes",
          "30min annealing in cassettes",
          "15min annealing in cassettes",
          "15min annealing in cassettes",
          "15min annealing in cassettes",
          "15min annealing in cassettes",
          "15min annealing in cassettes",
          "15min annealing in cassettes",
          "15min annealing in cassettes",
          "15min annealing in cassettes",
          "15min annealing in cassettes",
          "15min annealing in cassettes",
          "15min annealing in cassettes",
          "15min annealing in cassettes",
          "15min annealing in coinstack",
          "15min annealing in coinstack",
          "15min annealing in coinstack",
          "15min annealing in coinstack",
          "15min annealing in coinstack",
          "15min annealing in coinstack",
          "15min annealing in coinstack",
          "15min annealing in coinstack",
          "15min annealing in coinstack",
          "15min annealing in coinstack",
          "15min annealing in coinstack",
          "15min annealing in coinstack",
          "15min annealing in coinstack"
         ],
         "xaxis": "x",
         "y": [
          12.751999855041504,
          12.62399959564209,
          12.557000160217285,
          12.47700023651123,
          12.503999710083008,
          12.494999885559082,
          12.460000038146973,
          12.406000137329102,
          12.526000022888184,
          12.454999923706055,
          12.663999557495117,
          12.312999725341797,
          12.428000450134277,
          12.699000358581543,
          12.711999893188477,
          12.562000274658203,
          12.685999870300293,
          12.281999588012695,
          12.743000030517578,
          12.451000213623047,
          12.63700008392334,
          12.67199993133545,
          12.491000175476074,
          12.925000190734863,
          12.63700008392334,
          12.508000373840332,
          12.472999572753906,
          12.49899959564209,
          12.751999855041504,
          12.593000411987305,
          12.685999870300293,
          12.677000045776367,
          12.557000160217285,
          12.850000381469727,
          12.868000030517578,
          12.920999526977539,
          12.472999572753906,
          12.779000282287598,
          12.180000305175781,
          12.557000160217285,
          12.854000091552734,
          12.86299991607666,
          12.654999732971191,
          12.791999816894531,
          12.717000007629395,
          13.031999588012695,
          12.770000457763672,
          12.47700023651123,
          12.414999961853027,
          12.597000122070312,
          12.512999534606934,
          12.562000274658203,
          12.694999694824219,
          12.619000434875488,
          12.565999984741211,
          12.859000205993652,
          12.517000198364258,
          12.574999809265137,
          12.526000022888184
         ],
         "yaxis": "y"
        },
        {
         "name": "Remeasure after annealing",
         "offsetgroup": "C",
         "type": "box",
         "x": [
          "2h annealing in cassettes",
          "2h annealing in cassettes",
          "2h annealing in cassettes",
          "2h annealing in cassettes",
          "2h annealing in cassettes",
          "2h annealing in cassettes",
          "2h annealing in cassettes",
          "2h annealing in cassettes",
          "2h annealing in cassettes",
          "2h annealing in cassettes",
          "2h annealing in cassettes",
          "1h annealing in cassettes ",
          "1h annealing in cassettes ",
          "1h annealing in cassettes ",
          "1h annealing in cassettes ",
          "1h annealing in cassettes ",
          "1h annealing in cassettes ",
          "1h annealing in cassettes ",
          "1h annealing in cassettes ",
          "1h annealing in cassettes ",
          "1h annealing in cassettes ",
          "1h annealing in cassettes ",
          "1h annealing in cassettes ",
          "30min annealing in cassettes",
          "30min annealing in cassettes",
          "30min annealing in cassettes",
          "30min annealing in cassettes",
          "30min annealing in cassettes",
          "30min annealing in cassettes",
          "30min annealing in cassettes",
          "30min annealing in cassettes",
          "30min annealing in cassettes",
          "30min annealing in cassettes",
          "30min annealing in cassettes",
          "15min annealing in cassettes",
          "15min annealing in cassettes",
          "15min annealing in cassettes",
          "15min annealing in cassettes",
          "15min annealing in cassettes",
          "15min annealing in cassettes",
          "15min annealing in cassettes",
          "15min annealing in cassettes",
          "15min annealing in cassettes",
          "15min annealing in cassettes",
          "15min annealing in cassettes",
          "15min annealing in cassettes",
          "15min annealing in coinstack",
          "15min annealing in coinstack",
          "15min annealing in coinstack",
          "15min annealing in coinstack",
          "15min annealing in coinstack",
          "15min annealing in coinstack",
          "15min annealing in coinstack",
          "15min annealing in coinstack",
          "15min annealing in coinstack",
          "15min annealing in coinstack",
          "15min annealing in coinstack",
          "15min annealing in coinstack",
          "15min annealing in coinstack"
         ],
         "xaxis": "x",
         "y": [
          12.788000106811523,
          12.565999984741211,
          12.517000198364258,
          12.593000411987305,
          12.704000473022461,
          12.868000030517578,
          12.82800006866455,
          12.677000045776367,
          12.720999717712402,
          12.845999717712402,
          12.939000129699707,
          12.609999656677246,
          12.659000396728516,
          13.027000427246094,
          13.005000114440918,
          12.73900032043457,
          12.871999740600586,
          12.614999771118164,
          12.96500015258789,
          12.788000106811523,
          12.979000091552734,
          12.956000328063965,
          12.76099967956543,
          13.081000328063965,
          12.982999801635742,
          12.930000305175781,
          13.013999938964844,
          12.876999855041504,
          13.218000411987305,
          13.218000411987305,
          12.96500015258789,
          13.107000350952148,
          13.178000450134277,
          13.390999794006348,
          13.130000114440918,
          13.444999694824219,
          12.973999977111816,
          13.236000061035156,
          13.041000366210938,
          13.173999786376953,
          13.38700008392334,
          13.430999755859375,
          13.378000259399414,
          13.262999534606934,
          13.29800033569336,
          13.51099967956543,
          12.659000396728516,
          12.708000183105469,
          13.102999687194824,
          12.73900032043457,
          12.531000137329102,
          12.717000007629395,
          12.970000267028809,
          13.053999900817871,
          12.63700008392334,
          12.885000228881836,
          12.996000289916992,
          12.680999755859375,
          12.699000358581543
         ],
         "yaxis": "y"
        },
        {
         "name": "Performance loss before annealing",
         "offsetgroup": "B",
         "type": "box",
         "x": [
          "2h annealing in cassettes",
          "2h annealing in cassettes",
          "2h annealing in cassettes",
          "2h annealing in cassettes",
          "2h annealing in cassettes",
          "2h annealing in cassettes",
          "2h annealing in cassettes",
          "2h annealing in cassettes",
          "2h annealing in cassettes",
          "2h annealing in cassettes",
          "2h annealing in cassettes",
          "1h annealing in cassettes ",
          "1h annealing in cassettes ",
          "1h annealing in cassettes ",
          "1h annealing in cassettes ",
          "1h annealing in cassettes ",
          "1h annealing in cassettes ",
          "1h annealing in cassettes ",
          "1h annealing in cassettes ",
          "1h annealing in cassettes ",
          "1h annealing in cassettes ",
          "1h annealing in cassettes ",
          "1h annealing in cassettes ",
          "30min annealing in cassettes",
          "30min annealing in cassettes",
          "30min annealing in cassettes",
          "30min annealing in cassettes",
          "30min annealing in cassettes",
          "30min annealing in cassettes",
          "30min annealing in cassettes",
          "30min annealing in cassettes",
          "30min annealing in cassettes",
          "30min annealing in cassettes",
          "30min annealing in cassettes",
          "15min annealing in cassettes",
          "15min annealing in cassettes",
          "15min annealing in cassettes",
          "15min annealing in cassettes",
          "15min annealing in cassettes",
          "15min annealing in cassettes",
          "15min annealing in cassettes",
          "15min annealing in cassettes",
          "15min annealing in cassettes",
          "15min annealing in cassettes",
          "15min annealing in cassettes",
          "15min annealing in cassettes",
          "15min annealing in coinstack",
          "15min annealing in coinstack",
          "15min annealing in coinstack",
          "15min annealing in coinstack",
          "15min annealing in coinstack",
          "15min annealing in coinstack",
          "15min annealing in coinstack",
          "15min annealing in coinstack",
          "15min annealing in coinstack",
          "15min annealing in coinstack",
          "15min annealing in coinstack",
          "15min annealing in coinstack",
          "15min annealing in coinstack"
         ],
         "xaxis": "x2",
         "y": [
          0.04593747661032787,
          0.04153063176526998,
          0.04625552096721667,
          0.0478479739515332,
          0.054803868504972604,
          0.052619625241934566,
          0.05748866970731505,
          0.047158241078897135,
          0.051491768005693446,
          0.05751042149878487,
          0.05878858199153849,
          0.05784685168536702,
          0.053176895681939236,
          0.042596470369660966,
          0.04893014168049742,
          0.04847745840948329,
          0.0358717223243648,
          0.06151144737112498,
          0.05073001837727027,
          0.059094657276125076,
          0.047270797491456906,
          0.04556755866853077,
          0.04092444606123872,
          0.03139985583394403,
          0.03335117202072887,
          0.04226646462792135,
          0.043628297203588774,
          0.05418089660828241,
          0.051613880635241,
          0.06099469274670642,
          0.04393700962838038,
          0.04741505737704155,
          0.06305030891589393,
          0.03673161660519971,
          0.04362689680542138,
          0.037111569948093365,
          0.05076109232430819,
          0.05087637245629294,
          0.06766685668612632,
          0.040791342085195005,
          0.03895326418297313,
          0.03575713875975443,
          0.06252314156253243,
          0.05174202861871337,
          0.05231385956248102,
          0.017490979494851712,
          0.039199450311639315,
          0.04427422865975706,
          0.05961215895053925,
          0.05598019696405097,
          0.05945583073571056,
          0.05704843873945183,
          0.05865344524922255,
          0.055888054077029,
          0.03914972329371018,
          0.03148303139274228,
          0.04639647929551036,
          0.05037002233234233,
          0.0549981203514673
         ],
         "yaxis": "y2"
        },
        {
         "name": "Performance loss after annealing",
         "offsetgroup": "C",
         "type": "box",
         "x": [
          "2h annealing in cassettes",
          "2h annealing in cassettes",
          "2h annealing in cassettes",
          "2h annealing in cassettes",
          "2h annealing in cassettes",
          "2h annealing in cassettes",
          "2h annealing in cassettes",
          "2h annealing in cassettes",
          "2h annealing in cassettes",
          "2h annealing in cassettes",
          "2h annealing in cassettes",
          "1h annealing in cassettes ",
          "1h annealing in cassettes ",
          "1h annealing in cassettes ",
          "1h annealing in cassettes ",
          "1h annealing in cassettes ",
          "1h annealing in cassettes ",
          "1h annealing in cassettes ",
          "1h annealing in cassettes ",
          "1h annealing in cassettes ",
          "1h annealing in cassettes ",
          "1h annealing in cassettes ",
          "1h annealing in cassettes ",
          "30min annealing in cassettes",
          "30min annealing in cassettes",
          "30min annealing in cassettes",
          "30min annealing in cassettes",
          "30min annealing in cassettes",
          "30min annealing in cassettes",
          "30min annealing in cassettes",
          "30min annealing in cassettes",
          "30min annealing in cassettes",
          "30min annealing in cassettes",
          "30min annealing in cassettes",
          "15min annealing in cassettes",
          "15min annealing in cassettes",
          "15min annealing in cassettes",
          "15min annealing in cassettes",
          "15min annealing in cassettes",
          "15min annealing in cassettes",
          "15min annealing in cassettes",
          "15min annealing in cassettes",
          "15min annealing in cassettes",
          "15min annealing in cassettes",
          "15min annealing in cassettes",
          "15min annealing in cassettes",
          "15min annealing in coinstack",
          "15min annealing in coinstack",
          "15min annealing in coinstack",
          "15min annealing in coinstack",
          "15min annealing in coinstack",
          "15min annealing in coinstack",
          "15min annealing in coinstack",
          "15min annealing in coinstack",
          "15min annealing in coinstack",
          "15min annealing in coinstack",
          "15min annealing in coinstack",
          "15min annealing in coinstack",
          "15min annealing in coinstack"
         ],
         "xaxis": "x2",
         "y": [
          0.04324405664194624,
          0.04593421638176632,
          0.04929364649816248,
          0.03899570177009055,
          0.03968551023485951,
          0.024338471152129528,
          0.029652056765983693,
          0.026344116737935873,
          0.03672577603386028,
          0.027922847568278463,
          0.03835004064899469,
          0.03512132365818632,
          0.03557824114300254,
          0.017867876418072876,
          0.027008832582354658,
          0.03507039506476057,
          0.021735845260362582,
          0.03606633498300701,
          0.03419246432459482,
          0.03362802852677531,
          0.021486719596166666,
          0.02417715514442523,
          0.02019352617412728,
          0.01970919794016637,
          0.006884429962750311,
          0.009954066635836553,
          0.0021469006534884797,
          0.02557701805854283,
          0.016956692363009323,
          0.014391159209563225,
          0.02291053580483205,
          0.01510364185644306,
          0.01671392105438434,
          -0.003823061531866877,
          0.024154575333183544,
          -0.001937552986349572,
          0.012633208666184894,
          0.01693402342976111,
          0.001760545258758981,
          -0.006340247927646926,
          -0.0008972025363244742,
          -0.006821559387600976,
          0.008963578032977959,
          0.01682729728411365,
          0.009017016111545855,
          -0.018621814063417615,
          0.04755097073724598,
          0.02657986319102122,
          0.007498862265500278,
          0.04533869517855593,
          0.05810280887338619,
          0.04541356873431407,
          0.03826188578311045,
          0.023342830357780554,
          0.033720751064825714,
          0.02952475602545162,
          0.00990401572727037,
          0.04236519303263184,
          0.041946416526517434
         ],
         "yaxis": "y2"
        }
       ],
       "layout": {
        "annotations": [
         {
          "font": {
           "size": 20
          },
          "showarrow": false,
          "text": "$ \\textrm{Efficiency (η) } \\\\\\ = \\\\\\ \\frac{V_{oc}I_{sc}FF}{P_{in}}$",
          "x": 1.25,
          "xref": "paper",
          "y": 0.6,
          "yref": "paper"
         }
        ],
        "boxgap": 0.5,
        "boxmode": "group",
        "height": 600,
        "shapes": [
         {
          "line": {
           "color": "grey",
           "dash": "dash",
           "width": 1
          },
          "type": "line",
          "x0": 0.5,
          "x1": 0.5,
          "xref": "x",
          "y0": 0,
          "y1": 1,
          "yref": "y domain"
         },
         {
          "line": {
           "color": "grey",
           "dash": "dash",
           "width": 1
          },
          "type": "line",
          "x0": 0.5,
          "x1": 0.5,
          "xref": "x2",
          "y0": 0,
          "y1": 1,
          "yref": "y2 domain"
         },
         {
          "line": {
           "color": "grey",
           "dash": "dash",
           "width": 1
          },
          "type": "line",
          "x0": 1.5,
          "x1": 1.5,
          "xref": "x",
          "y0": 0,
          "y1": 1,
          "yref": "y domain"
         },
         {
          "line": {
           "color": "grey",
           "dash": "dash",
           "width": 1
          },
          "type": "line",
          "x0": 1.5,
          "x1": 1.5,
          "xref": "x2",
          "y0": 0,
          "y1": 1,
          "yref": "y2 domain"
         },
         {
          "line": {
           "color": "grey",
           "dash": "dash",
           "width": 1
          },
          "type": "line",
          "x0": 2.5,
          "x1": 2.5,
          "xref": "x",
          "y0": 0,
          "y1": 1,
          "yref": "y domain"
         },
         {
          "line": {
           "color": "grey",
           "dash": "dash",
           "width": 1
          },
          "type": "line",
          "x0": 2.5,
          "x1": 2.5,
          "xref": "x2",
          "y0": 0,
          "y1": 1,
          "yref": "y2 domain"
         },
         {
          "line": {
           "color": "grey",
           "dash": "dash",
           "width": 1
          },
          "type": "line",
          "x0": 3.5,
          "x1": 3.5,
          "xref": "x",
          "y0": 0,
          "y1": 1,
          "yref": "y domain"
         },
         {
          "line": {
           "color": "grey",
           "dash": "dash",
           "width": 1
          },
          "type": "line",
          "x0": 3.5,
          "x1": 3.5,
          "xref": "x2",
          "y0": 0,
          "y1": 1,
          "yref": "y2 domain"
         }
        ],
        "template": {
         "data": {
          "bar": [
           {
            "error_x": {
             "color": "#2a3f5f"
            },
            "error_y": {
             "color": "#2a3f5f"
            },
            "marker": {
             "line": {
              "color": "#E5ECF6",
              "width": 0.5
             },
             "pattern": {
              "fillmode": "overlay",
              "size": 10,
              "solidity": 0.2
             }
            },
            "type": "bar"
           }
          ],
          "barpolar": [
           {
            "marker": {
             "line": {
              "color": "#E5ECF6",
              "width": 0.5
             },
             "pattern": {
              "fillmode": "overlay",
              "size": 10,
              "solidity": 0.2
             }
            },
            "type": "barpolar"
           }
          ],
          "carpet": [
           {
            "aaxis": {
             "endlinecolor": "#2a3f5f",
             "gridcolor": "white",
             "linecolor": "white",
             "minorgridcolor": "white",
             "startlinecolor": "#2a3f5f"
            },
            "baxis": {
             "endlinecolor": "#2a3f5f",
             "gridcolor": "white",
             "linecolor": "white",
             "minorgridcolor": "white",
             "startlinecolor": "#2a3f5f"
            },
            "type": "carpet"
           }
          ],
          "choropleth": [
           {
            "colorbar": {
             "outlinewidth": 0,
             "ticks": ""
            },
            "type": "choropleth"
           }
          ],
          "contour": [
           {
            "colorbar": {
             "outlinewidth": 0,
             "ticks": ""
            },
            "colorscale": [
             [
              0,
              "#0d0887"
             ],
             [
              0.1111111111111111,
              "#46039f"
             ],
             [
              0.2222222222222222,
              "#7201a8"
             ],
             [
              0.3333333333333333,
              "#9c179e"
             ],
             [
              0.4444444444444444,
              "#bd3786"
             ],
             [
              0.5555555555555556,
              "#d8576b"
             ],
             [
              0.6666666666666666,
              "#ed7953"
             ],
             [
              0.7777777777777778,
              "#fb9f3a"
             ],
             [
              0.8888888888888888,
              "#fdca26"
             ],
             [
              1,
              "#f0f921"
             ]
            ],
            "type": "contour"
           }
          ],
          "contourcarpet": [
           {
            "colorbar": {
             "outlinewidth": 0,
             "ticks": ""
            },
            "type": "contourcarpet"
           }
          ],
          "heatmap": [
           {
            "colorbar": {
             "outlinewidth": 0,
             "ticks": ""
            },
            "colorscale": [
             [
              0,
              "#0d0887"
             ],
             [
              0.1111111111111111,
              "#46039f"
             ],
             [
              0.2222222222222222,
              "#7201a8"
             ],
             [
              0.3333333333333333,
              "#9c179e"
             ],
             [
              0.4444444444444444,
              "#bd3786"
             ],
             [
              0.5555555555555556,
              "#d8576b"
             ],
             [
              0.6666666666666666,
              "#ed7953"
             ],
             [
              0.7777777777777778,
              "#fb9f3a"
             ],
             [
              0.8888888888888888,
              "#fdca26"
             ],
             [
              1,
              "#f0f921"
             ]
            ],
            "type": "heatmap"
           }
          ],
          "heatmapgl": [
           {
            "colorbar": {
             "outlinewidth": 0,
             "ticks": ""
            },
            "colorscale": [
             [
              0,
              "#0d0887"
             ],
             [
              0.1111111111111111,
              "#46039f"
             ],
             [
              0.2222222222222222,
              "#7201a8"
             ],
             [
              0.3333333333333333,
              "#9c179e"
             ],
             [
              0.4444444444444444,
              "#bd3786"
             ],
             [
              0.5555555555555556,
              "#d8576b"
             ],
             [
              0.6666666666666666,
              "#ed7953"
             ],
             [
              0.7777777777777778,
              "#fb9f3a"
             ],
             [
              0.8888888888888888,
              "#fdca26"
             ],
             [
              1,
              "#f0f921"
             ]
            ],
            "type": "heatmapgl"
           }
          ],
          "histogram": [
           {
            "marker": {
             "pattern": {
              "fillmode": "overlay",
              "size": 10,
              "solidity": 0.2
             }
            },
            "type": "histogram"
           }
          ],
          "histogram2d": [
           {
            "colorbar": {
             "outlinewidth": 0,
             "ticks": ""
            },
            "colorscale": [
             [
              0,
              "#0d0887"
             ],
             [
              0.1111111111111111,
              "#46039f"
             ],
             [
              0.2222222222222222,
              "#7201a8"
             ],
             [
              0.3333333333333333,
              "#9c179e"
             ],
             [
              0.4444444444444444,
              "#bd3786"
             ],
             [
              0.5555555555555556,
              "#d8576b"
             ],
             [
              0.6666666666666666,
              "#ed7953"
             ],
             [
              0.7777777777777778,
              "#fb9f3a"
             ],
             [
              0.8888888888888888,
              "#fdca26"
             ],
             [
              1,
              "#f0f921"
             ]
            ],
            "type": "histogram2d"
           }
          ],
          "histogram2dcontour": [
           {
            "colorbar": {
             "outlinewidth": 0,
             "ticks": ""
            },
            "colorscale": [
             [
              0,
              "#0d0887"
             ],
             [
              0.1111111111111111,
              "#46039f"
             ],
             [
              0.2222222222222222,
              "#7201a8"
             ],
             [
              0.3333333333333333,
              "#9c179e"
             ],
             [
              0.4444444444444444,
              "#bd3786"
             ],
             [
              0.5555555555555556,
              "#d8576b"
             ],
             [
              0.6666666666666666,
              "#ed7953"
             ],
             [
              0.7777777777777778,
              "#fb9f3a"
             ],
             [
              0.8888888888888888,
              "#fdca26"
             ],
             [
              1,
              "#f0f921"
             ]
            ],
            "type": "histogram2dcontour"
           }
          ],
          "mesh3d": [
           {
            "colorbar": {
             "outlinewidth": 0,
             "ticks": ""
            },
            "type": "mesh3d"
           }
          ],
          "parcoords": [
           {
            "line": {
             "colorbar": {
              "outlinewidth": 0,
              "ticks": ""
             }
            },
            "type": "parcoords"
           }
          ],
          "pie": [
           {
            "automargin": true,
            "type": "pie"
           }
          ],
          "scatter": [
           {
            "fillpattern": {
             "fillmode": "overlay",
             "size": 10,
             "solidity": 0.2
            },
            "type": "scatter"
           }
          ],
          "scatter3d": [
           {
            "line": {
             "colorbar": {
              "outlinewidth": 0,
              "ticks": ""
             }
            },
            "marker": {
             "colorbar": {
              "outlinewidth": 0,
              "ticks": ""
             }
            },
            "type": "scatter3d"
           }
          ],
          "scattercarpet": [
           {
            "marker": {
             "colorbar": {
              "outlinewidth": 0,
              "ticks": ""
             }
            },
            "type": "scattercarpet"
           }
          ],
          "scattergeo": [
           {
            "marker": {
             "colorbar": {
              "outlinewidth": 0,
              "ticks": ""
             }
            },
            "type": "scattergeo"
           }
          ],
          "scattergl": [
           {
            "marker": {
             "colorbar": {
              "outlinewidth": 0,
              "ticks": ""
             }
            },
            "type": "scattergl"
           }
          ],
          "scattermapbox": [
           {
            "marker": {
             "colorbar": {
              "outlinewidth": 0,
              "ticks": ""
             }
            },
            "type": "scattermapbox"
           }
          ],
          "scatterpolar": [
           {
            "marker": {
             "colorbar": {
              "outlinewidth": 0,
              "ticks": ""
             }
            },
            "type": "scatterpolar"
           }
          ],
          "scatterpolargl": [
           {
            "marker": {
             "colorbar": {
              "outlinewidth": 0,
              "ticks": ""
             }
            },
            "type": "scatterpolargl"
           }
          ],
          "scatterternary": [
           {
            "marker": {
             "colorbar": {
              "outlinewidth": 0,
              "ticks": ""
             }
            },
            "type": "scatterternary"
           }
          ],
          "surface": [
           {
            "colorbar": {
             "outlinewidth": 0,
             "ticks": ""
            },
            "colorscale": [
             [
              0,
              "#0d0887"
             ],
             [
              0.1111111111111111,
              "#46039f"
             ],
             [
              0.2222222222222222,
              "#7201a8"
             ],
             [
              0.3333333333333333,
              "#9c179e"
             ],
             [
              0.4444444444444444,
              "#bd3786"
             ],
             [
              0.5555555555555556,
              "#d8576b"
             ],
             [
              0.6666666666666666,
              "#ed7953"
             ],
             [
              0.7777777777777778,
              "#fb9f3a"
             ],
             [
              0.8888888888888888,
              "#fdca26"
             ],
             [
              1,
              "#f0f921"
             ]
            ],
            "type": "surface"
           }
          ],
          "table": [
           {
            "cells": {
             "fill": {
              "color": "#EBF0F8"
             },
             "line": {
              "color": "white"
             }
            },
            "header": {
             "fill": {
              "color": "#C8D4E3"
             },
             "line": {
              "color": "white"
             }
            },
            "type": "table"
           }
          ]
         },
         "layout": {
          "annotationdefaults": {
           "arrowcolor": "#2a3f5f",
           "arrowhead": 0,
           "arrowwidth": 1
          },
          "autotypenumbers": "strict",
          "coloraxis": {
           "colorbar": {
            "outlinewidth": 0,
            "ticks": ""
           }
          },
          "colorscale": {
           "diverging": [
            [
             0,
             "#8e0152"
            ],
            [
             0.1,
             "#c51b7d"
            ],
            [
             0.2,
             "#de77ae"
            ],
            [
             0.3,
             "#f1b6da"
            ],
            [
             0.4,
             "#fde0ef"
            ],
            [
             0.5,
             "#f7f7f7"
            ],
            [
             0.6,
             "#e6f5d0"
            ],
            [
             0.7,
             "#b8e186"
            ],
            [
             0.8,
             "#7fbc41"
            ],
            [
             0.9,
             "#4d9221"
            ],
            [
             1,
             "#276419"
            ]
           ],
           "sequential": [
            [
             0,
             "#0d0887"
            ],
            [
             0.1111111111111111,
             "#46039f"
            ],
            [
             0.2222222222222222,
             "#7201a8"
            ],
            [
             0.3333333333333333,
             "#9c179e"
            ],
            [
             0.4444444444444444,
             "#bd3786"
            ],
            [
             0.5555555555555556,
             "#d8576b"
            ],
            [
             0.6666666666666666,
             "#ed7953"
            ],
            [
             0.7777777777777778,
             "#fb9f3a"
            ],
            [
             0.8888888888888888,
             "#fdca26"
            ],
            [
             1,
             "#f0f921"
            ]
           ],
           "sequentialminus": [
            [
             0,
             "#0d0887"
            ],
            [
             0.1111111111111111,
             "#46039f"
            ],
            [
             0.2222222222222222,
             "#7201a8"
            ],
            [
             0.3333333333333333,
             "#9c179e"
            ],
            [
             0.4444444444444444,
             "#bd3786"
            ],
            [
             0.5555555555555556,
             "#d8576b"
            ],
            [
             0.6666666666666666,
             "#ed7953"
            ],
            [
             0.7777777777777778,
             "#fb9f3a"
            ],
            [
             0.8888888888888888,
             "#fdca26"
            ],
            [
             1,
             "#f0f921"
            ]
           ]
          },
          "colorway": [
           "#636efa",
           "#EF553B",
           "#00cc96",
           "#ab63fa",
           "#FFA15A",
           "#19d3f3",
           "#FF6692",
           "#B6E880",
           "#FF97FF",
           "#FECB52"
          ],
          "font": {
           "color": "#2a3f5f"
          },
          "geo": {
           "bgcolor": "white",
           "lakecolor": "white",
           "landcolor": "#E5ECF6",
           "showlakes": true,
           "showland": true,
           "subunitcolor": "white"
          },
          "hoverlabel": {
           "align": "left"
          },
          "hovermode": "closest",
          "mapbox": {
           "style": "light"
          },
          "paper_bgcolor": "white",
          "plot_bgcolor": "#E5ECF6",
          "polar": {
           "angularaxis": {
            "gridcolor": "white",
            "linecolor": "white",
            "ticks": ""
           },
           "bgcolor": "#E5ECF6",
           "radialaxis": {
            "gridcolor": "white",
            "linecolor": "white",
            "ticks": ""
           }
          },
          "scene": {
           "xaxis": {
            "backgroundcolor": "#E5ECF6",
            "gridcolor": "white",
            "gridwidth": 2,
            "linecolor": "white",
            "showbackground": true,
            "ticks": "",
            "zerolinecolor": "white"
           },
           "yaxis": {
            "backgroundcolor": "#E5ECF6",
            "gridcolor": "white",
            "gridwidth": 2,
            "linecolor": "white",
            "showbackground": true,
            "ticks": "",
            "zerolinecolor": "white"
           },
           "zaxis": {
            "backgroundcolor": "#E5ECF6",
            "gridcolor": "white",
            "gridwidth": 2,
            "linecolor": "white",
            "showbackground": true,
            "ticks": "",
            "zerolinecolor": "white"
           }
          },
          "shapedefaults": {
           "line": {
            "color": "#2a3f5f"
           }
          },
          "ternary": {
           "aaxis": {
            "gridcolor": "white",
            "linecolor": "white",
            "ticks": ""
           },
           "baxis": {
            "gridcolor": "white",
            "linecolor": "white",
            "ticks": ""
           },
           "bgcolor": "#E5ECF6",
           "caxis": {
            "gridcolor": "white",
            "linecolor": "white",
            "ticks": ""
           }
          },
          "title": {
           "x": 0.05
          },
          "xaxis": {
           "automargin": true,
           "gridcolor": "white",
           "linecolor": "white",
           "ticks": "",
           "title": {
            "standoff": 15
           },
           "zerolinecolor": "white",
           "zerolinewidth": 2
          },
          "yaxis": {
           "automargin": true,
           "gridcolor": "white",
           "linecolor": "white",
           "ticks": "",
           "title": {
            "standoff": 15
           },
           "zerolinecolor": "white",
           "zerolinewidth": 2
          }
         }
        },
        "title": {
         "text": "Efficiency (η) performance between 5 annealing tests"
        },
        "width": 900,
        "xaxis": {
         "anchor": "y",
         "domain": [
          0,
          1
         ],
         "matches": "x2",
         "showticklabels": false
        },
        "xaxis2": {
         "anchor": "y2",
         "domain": [
          0,
          1
         ]
        },
        "yaxis": {
         "anchor": "x",
         "domain": [
          0.515,
          1
         ],
         "dtick": 0.5,
         "tick0": 10,
         "tickformat": ".2f",
         "title": {
          "text": "η [%]"
         }
        },
        "yaxis2": {
         "anchor": "x2",
         "domain": [
          0,
          0.485
         ],
         "dtick": 0.02,
         "tickformat": ".1%",
         "title": {
          "text": "PL of η"
         }
        }
       }
      },
      "text/html": [
       "<div>                            <div id=\"aaeaa8d0-3ad9-47bf-a2fc-b5dbeb3c2739\" class=\"plotly-graph-div\" style=\"height:600px; width:900px;\"></div>            <script type=\"text/javascript\">                require([\"plotly\"], function(Plotly) {                    window.PLOTLYENV=window.PLOTLYENV || {};                                    if (document.getElementById(\"aaeaa8d0-3ad9-47bf-a2fc-b5dbeb3c2739\")) {                    Plotly.newPlot(                        \"aaeaa8d0-3ad9-47bf-a2fc-b5dbeb3c2739\",                        [{\"name\":\"Original measurments\",\"offsetgroup\":\"A\",\"x\":[\"2h annealing in cassettes\",\"2h annealing in cassettes\",\"2h annealing in cassettes\",\"2h annealing in cassettes\",\"2h annealing in cassettes\",\"2h annealing in cassettes\",\"2h annealing in cassettes\",\"2h annealing in cassettes\",\"2h annealing in cassettes\",\"2h annealing in cassettes\",\"2h annealing in cassettes\",\"1h annealing in cassettes \",\"1h annealing in cassettes \",\"1h annealing in cassettes \",\"1h annealing in cassettes \",\"1h annealing in cassettes \",\"1h annealing in cassettes \",\"1h annealing in cassettes \",\"1h annealing in cassettes \",\"1h annealing in cassettes \",\"1h annealing in cassettes \",\"1h annealing in cassettes \",\"1h annealing in cassettes \",\"30min annealing in cassettes\",\"30min annealing in cassettes\",\"30min annealing in cassettes\",\"30min annealing in cassettes\",\"30min annealing in cassettes\",\"30min annealing in cassettes\",\"30min annealing in cassettes\",\"30min annealing in cassettes\",\"30min annealing in cassettes\",\"30min annealing in cassettes\",\"30min annealing in cassettes\",\"15min annealing in cassettes\",\"15min annealing in cassettes\",\"15min annealing in cassettes\",\"15min annealing in cassettes\",\"15min annealing in cassettes\",\"15min annealing in cassettes\",\"15min annealing in cassettes\",\"15min annealing in cassettes\",\"15min annealing in cassettes\",\"15min annealing in cassettes\",\"15min annealing in cassettes\",\"15min annealing in cassettes\",\"15min annealing in coinstack\",\"15min annealing in coinstack\",\"15min annealing in coinstack\",\"15min annealing in coinstack\",\"15min annealing in coinstack\",\"15min annealing in coinstack\",\"15min annealing in coinstack\",\"15min annealing in coinstack\",\"15min annealing in coinstack\",\"15min annealing in coinstack\",\"15min annealing in coinstack\",\"15min annealing in coinstack\",\"15min annealing in coinstack\"],\"y\":[13.366000175476074,13.170999526977539,13.166000366210938,13.104000091552734,13.229000091552734,13.189000129699707,13.220000267028809,13.020000457763672,13.206000328063965,13.21500015258789,13.454999923706055,13.069000244140625,13.12600040435791,13.263999938964844,13.366000175476074,13.20199966430664,13.157999992370605,13.086999893188477,13.423999786376953,13.232999801635742,13.263999938964844,13.277000427246094,13.02400016784668,13.343999862670898,13.072999954223633,13.0600004196167,13.041999816894531,13.21500015258789,13.446000099182129,13.41100025177002,13.269000053405762,13.307999610900879,13.402000427246094,13.34000015258789,13.454999923706055,13.418999671936035,13.140000343322754,13.46399974822998,13.064000129699707,13.090999603271484,13.375,13.34000015258789,13.49899959564209,13.489999771118164,13.418999671936035,13.263999938964844,13.291000366210938,13.055000305175781,13.20199966430664,13.343999862670898,13.303999900817871,13.321999549865723,13.486000061035156,13.366000175476074,13.07800006866455,13.277000427246094,13.12600040435791,13.241999626159668,13.255000114440918],\"type\":\"box\",\"xaxis\":\"x\",\"yaxis\":\"y\"},{\"name\":\"Remeasure before annealing\",\"offsetgroup\":\"B\",\"x\":[\"2h annealing in cassettes\",\"2h annealing in cassettes\",\"2h annealing in cassettes\",\"2h annealing in cassettes\",\"2h annealing in cassettes\",\"2h annealing in cassettes\",\"2h annealing in cassettes\",\"2h annealing in cassettes\",\"2h annealing in cassettes\",\"2h annealing in cassettes\",\"2h annealing in cassettes\",\"1h annealing in cassettes \",\"1h annealing in cassettes \",\"1h annealing in cassettes \",\"1h annealing in cassettes \",\"1h annealing in cassettes \",\"1h annealing in cassettes \",\"1h annealing in cassettes \",\"1h annealing in cassettes \",\"1h annealing in cassettes \",\"1h annealing in cassettes \",\"1h annealing in cassettes \",\"1h annealing in cassettes \",\"30min annealing in cassettes\",\"30min annealing in cassettes\",\"30min annealing in cassettes\",\"30min annealing in cassettes\",\"30min annealing in cassettes\",\"30min annealing in cassettes\",\"30min annealing in cassettes\",\"30min annealing in cassettes\",\"30min annealing in cassettes\",\"30min annealing in cassettes\",\"30min annealing in cassettes\",\"15min annealing in cassettes\",\"15min annealing in cassettes\",\"15min annealing in cassettes\",\"15min annealing in cassettes\",\"15min annealing in cassettes\",\"15min annealing in cassettes\",\"15min annealing in cassettes\",\"15min annealing in cassettes\",\"15min annealing in cassettes\",\"15min annealing in cassettes\",\"15min annealing in cassettes\",\"15min annealing in cassettes\",\"15min annealing in coinstack\",\"15min annealing in coinstack\",\"15min annealing in coinstack\",\"15min annealing in coinstack\",\"15min annealing in coinstack\",\"15min annealing in coinstack\",\"15min annealing in coinstack\",\"15min annealing in coinstack\",\"15min annealing in coinstack\",\"15min annealing in coinstack\",\"15min annealing in coinstack\",\"15min annealing in coinstack\",\"15min annealing in coinstack\"],\"y\":[12.751999855041504,12.62399959564209,12.557000160217285,12.47700023651123,12.503999710083008,12.494999885559082,12.460000038146973,12.406000137329102,12.526000022888184,12.454999923706055,12.663999557495117,12.312999725341797,12.428000450134277,12.699000358581543,12.711999893188477,12.562000274658203,12.685999870300293,12.281999588012695,12.743000030517578,12.451000213623047,12.63700008392334,12.67199993133545,12.491000175476074,12.925000190734863,12.63700008392334,12.508000373840332,12.472999572753906,12.49899959564209,12.751999855041504,12.593000411987305,12.685999870300293,12.677000045776367,12.557000160217285,12.850000381469727,12.868000030517578,12.920999526977539,12.472999572753906,12.779000282287598,12.180000305175781,12.557000160217285,12.854000091552734,12.86299991607666,12.654999732971191,12.791999816894531,12.717000007629395,13.031999588012695,12.770000457763672,12.47700023651123,12.414999961853027,12.597000122070312,12.512999534606934,12.562000274658203,12.694999694824219,12.619000434875488,12.565999984741211,12.859000205993652,12.517000198364258,12.574999809265137,12.526000022888184],\"type\":\"box\",\"xaxis\":\"x\",\"yaxis\":\"y\"},{\"name\":\"Remeasure after annealing\",\"offsetgroup\":\"C\",\"x\":[\"2h annealing in cassettes\",\"2h annealing in cassettes\",\"2h annealing in cassettes\",\"2h annealing in cassettes\",\"2h annealing in cassettes\",\"2h annealing in cassettes\",\"2h annealing in cassettes\",\"2h annealing in cassettes\",\"2h annealing in cassettes\",\"2h annealing in cassettes\",\"2h annealing in cassettes\",\"1h annealing in cassettes \",\"1h annealing in cassettes \",\"1h annealing in cassettes \",\"1h annealing in cassettes \",\"1h annealing in cassettes \",\"1h annealing in cassettes \",\"1h annealing in cassettes \",\"1h annealing in cassettes \",\"1h annealing in cassettes \",\"1h annealing in cassettes \",\"1h annealing in cassettes \",\"1h annealing in cassettes \",\"30min annealing in cassettes\",\"30min annealing in cassettes\",\"30min annealing in cassettes\",\"30min annealing in cassettes\",\"30min annealing in cassettes\",\"30min annealing in cassettes\",\"30min annealing in cassettes\",\"30min annealing in cassettes\",\"30min annealing in cassettes\",\"30min annealing in cassettes\",\"30min annealing in cassettes\",\"15min annealing in cassettes\",\"15min annealing in cassettes\",\"15min annealing in cassettes\",\"15min annealing in cassettes\",\"15min annealing in cassettes\",\"15min annealing in cassettes\",\"15min annealing in cassettes\",\"15min annealing in cassettes\",\"15min annealing in cassettes\",\"15min annealing in cassettes\",\"15min annealing in cassettes\",\"15min annealing in cassettes\",\"15min annealing in coinstack\",\"15min annealing in coinstack\",\"15min annealing in coinstack\",\"15min annealing in coinstack\",\"15min annealing in coinstack\",\"15min annealing in coinstack\",\"15min annealing in coinstack\",\"15min annealing in coinstack\",\"15min annealing in coinstack\",\"15min annealing in coinstack\",\"15min annealing in coinstack\",\"15min annealing in coinstack\",\"15min annealing in coinstack\"],\"y\":[12.788000106811523,12.565999984741211,12.517000198364258,12.593000411987305,12.704000473022461,12.868000030517578,12.82800006866455,12.677000045776367,12.720999717712402,12.845999717712402,12.939000129699707,12.609999656677246,12.659000396728516,13.027000427246094,13.005000114440918,12.73900032043457,12.871999740600586,12.614999771118164,12.96500015258789,12.788000106811523,12.979000091552734,12.956000328063965,12.76099967956543,13.081000328063965,12.982999801635742,12.930000305175781,13.013999938964844,12.876999855041504,13.218000411987305,13.218000411987305,12.96500015258789,13.107000350952148,13.178000450134277,13.390999794006348,13.130000114440918,13.444999694824219,12.973999977111816,13.236000061035156,13.041000366210938,13.173999786376953,13.38700008392334,13.430999755859375,13.378000259399414,13.262999534606934,13.29800033569336,13.51099967956543,12.659000396728516,12.708000183105469,13.102999687194824,12.73900032043457,12.531000137329102,12.717000007629395,12.970000267028809,13.053999900817871,12.63700008392334,12.885000228881836,12.996000289916992,12.680999755859375,12.699000358581543],\"type\":\"box\",\"xaxis\":\"x\",\"yaxis\":\"y\"},{\"name\":\"Performance loss before annealing\",\"offsetgroup\":\"B\",\"x\":[\"2h annealing in cassettes\",\"2h annealing in cassettes\",\"2h annealing in cassettes\",\"2h annealing in cassettes\",\"2h annealing in cassettes\",\"2h annealing in cassettes\",\"2h annealing in cassettes\",\"2h annealing in cassettes\",\"2h annealing in cassettes\",\"2h annealing in cassettes\",\"2h annealing in cassettes\",\"1h annealing in cassettes \",\"1h annealing in cassettes \",\"1h annealing in cassettes \",\"1h annealing in cassettes \",\"1h annealing in cassettes \",\"1h annealing in cassettes \",\"1h annealing in cassettes \",\"1h annealing in cassettes \",\"1h annealing in cassettes \",\"1h annealing in cassettes \",\"1h annealing in cassettes \",\"1h annealing in cassettes \",\"30min annealing in cassettes\",\"30min annealing in cassettes\",\"30min annealing in cassettes\",\"30min annealing in cassettes\",\"30min annealing in cassettes\",\"30min annealing in cassettes\",\"30min annealing in cassettes\",\"30min annealing in cassettes\",\"30min annealing in cassettes\",\"30min annealing in cassettes\",\"30min annealing in cassettes\",\"15min annealing in cassettes\",\"15min annealing in cassettes\",\"15min annealing in cassettes\",\"15min annealing in cassettes\",\"15min annealing in cassettes\",\"15min annealing in cassettes\",\"15min annealing in cassettes\",\"15min annealing in cassettes\",\"15min annealing in cassettes\",\"15min annealing in cassettes\",\"15min annealing in cassettes\",\"15min annealing in cassettes\",\"15min annealing in coinstack\",\"15min annealing in coinstack\",\"15min annealing in coinstack\",\"15min annealing in coinstack\",\"15min annealing in coinstack\",\"15min annealing in coinstack\",\"15min annealing in coinstack\",\"15min annealing in coinstack\",\"15min annealing in coinstack\",\"15min annealing in coinstack\",\"15min annealing in coinstack\",\"15min annealing in coinstack\",\"15min annealing in coinstack\"],\"y\":[0.04593747661032787,0.04153063176526998,0.04625552096721667,0.0478479739515332,0.054803868504972604,0.052619625241934566,0.05748866970731505,0.047158241078897135,0.051491768005693446,0.05751042149878487,0.05878858199153849,0.05784685168536702,0.053176895681939236,0.042596470369660966,0.04893014168049742,0.04847745840948329,0.0358717223243648,0.06151144737112498,0.05073001837727027,0.059094657276125076,0.047270797491456906,0.04556755866853077,0.04092444606123872,0.03139985583394403,0.03335117202072887,0.04226646462792135,0.043628297203588774,0.05418089660828241,0.051613880635241,0.06099469274670642,0.04393700962838038,0.04741505737704155,0.06305030891589393,0.03673161660519971,0.04362689680542138,0.037111569948093365,0.05076109232430819,0.05087637245629294,0.06766685668612632,0.040791342085195005,0.03895326418297313,0.03575713875975443,0.06252314156253243,0.05174202861871337,0.05231385956248102,0.017490979494851712,0.039199450311639315,0.04427422865975706,0.05961215895053925,0.05598019696405097,0.05945583073571056,0.05704843873945183,0.05865344524922255,0.055888054077029,0.03914972329371018,0.03148303139274228,0.04639647929551036,0.05037002233234233,0.0549981203514673],\"type\":\"box\",\"xaxis\":\"x2\",\"yaxis\":\"y2\"},{\"name\":\"Performance loss after annealing\",\"offsetgroup\":\"C\",\"x\":[\"2h annealing in cassettes\",\"2h annealing in cassettes\",\"2h annealing in cassettes\",\"2h annealing in cassettes\",\"2h annealing in cassettes\",\"2h annealing in cassettes\",\"2h annealing in cassettes\",\"2h annealing in cassettes\",\"2h annealing in cassettes\",\"2h annealing in cassettes\",\"2h annealing in cassettes\",\"1h annealing in cassettes \",\"1h annealing in cassettes \",\"1h annealing in cassettes \",\"1h annealing in cassettes \",\"1h annealing in cassettes \",\"1h annealing in cassettes \",\"1h annealing in cassettes \",\"1h annealing in cassettes \",\"1h annealing in cassettes \",\"1h annealing in cassettes \",\"1h annealing in cassettes \",\"1h annealing in cassettes \",\"30min annealing in cassettes\",\"30min annealing in cassettes\",\"30min annealing in cassettes\",\"30min annealing in cassettes\",\"30min annealing in cassettes\",\"30min annealing in cassettes\",\"30min annealing in cassettes\",\"30min annealing in cassettes\",\"30min annealing in cassettes\",\"30min annealing in cassettes\",\"30min annealing in cassettes\",\"15min annealing in cassettes\",\"15min annealing in cassettes\",\"15min annealing in cassettes\",\"15min annealing in cassettes\",\"15min annealing in cassettes\",\"15min annealing in cassettes\",\"15min annealing in cassettes\",\"15min annealing in cassettes\",\"15min annealing in cassettes\",\"15min annealing in cassettes\",\"15min annealing in cassettes\",\"15min annealing in cassettes\",\"15min annealing in coinstack\",\"15min annealing in coinstack\",\"15min annealing in coinstack\",\"15min annealing in coinstack\",\"15min annealing in coinstack\",\"15min annealing in coinstack\",\"15min annealing in coinstack\",\"15min annealing in coinstack\",\"15min annealing in coinstack\",\"15min annealing in coinstack\",\"15min annealing in coinstack\",\"15min annealing in coinstack\",\"15min annealing in coinstack\"],\"y\":[0.04324405664194624,0.04593421638176632,0.04929364649816248,0.03899570177009055,0.03968551023485951,0.024338471152129528,0.029652056765983693,0.026344116737935873,0.03672577603386028,0.027922847568278463,0.03835004064899469,0.03512132365818632,0.03557824114300254,0.017867876418072876,0.027008832582354658,0.03507039506476057,0.021735845260362582,0.03606633498300701,0.03419246432459482,0.03362802852677531,0.021486719596166666,0.02417715514442523,0.02019352617412728,0.01970919794016637,0.006884429962750311,0.009954066635836553,0.0021469006534884797,0.02557701805854283,0.016956692363009323,0.014391159209563225,0.02291053580483205,0.01510364185644306,0.01671392105438434,-0.003823061531866877,0.024154575333183544,-0.001937552986349572,0.012633208666184894,0.01693402342976111,0.001760545258758981,-0.006340247927646926,-0.0008972025363244742,-0.006821559387600976,0.008963578032977959,0.01682729728411365,0.009017016111545855,-0.018621814063417615,0.04755097073724598,0.02657986319102122,0.007498862265500278,0.04533869517855593,0.05810280887338619,0.04541356873431407,0.03826188578311045,0.023342830357780554,0.033720751064825714,0.02952475602545162,0.00990401572727037,0.04236519303263184,0.041946416526517434],\"type\":\"box\",\"xaxis\":\"x2\",\"yaxis\":\"y2\"}],                        {\"template\":{\"data\":{\"histogram2dcontour\":[{\"type\":\"histogram2dcontour\",\"colorbar\":{\"outlinewidth\":0,\"ticks\":\"\"},\"colorscale\":[[0.0,\"#0d0887\"],[0.1111111111111111,\"#46039f\"],[0.2222222222222222,\"#7201a8\"],[0.3333333333333333,\"#9c179e\"],[0.4444444444444444,\"#bd3786\"],[0.5555555555555556,\"#d8576b\"],[0.6666666666666666,\"#ed7953\"],[0.7777777777777778,\"#fb9f3a\"],[0.8888888888888888,\"#fdca26\"],[1.0,\"#f0f921\"]]}],\"choropleth\":[{\"type\":\"choropleth\",\"colorbar\":{\"outlinewidth\":0,\"ticks\":\"\"}}],\"histogram2d\":[{\"type\":\"histogram2d\",\"colorbar\":{\"outlinewidth\":0,\"ticks\":\"\"},\"colorscale\":[[0.0,\"#0d0887\"],[0.1111111111111111,\"#46039f\"],[0.2222222222222222,\"#7201a8\"],[0.3333333333333333,\"#9c179e\"],[0.4444444444444444,\"#bd3786\"],[0.5555555555555556,\"#d8576b\"],[0.6666666666666666,\"#ed7953\"],[0.7777777777777778,\"#fb9f3a\"],[0.8888888888888888,\"#fdca26\"],[1.0,\"#f0f921\"]]}],\"heatmap\":[{\"type\":\"heatmap\",\"colorbar\":{\"outlinewidth\":0,\"ticks\":\"\"},\"colorscale\":[[0.0,\"#0d0887\"],[0.1111111111111111,\"#46039f\"],[0.2222222222222222,\"#7201a8\"],[0.3333333333333333,\"#9c179e\"],[0.4444444444444444,\"#bd3786\"],[0.5555555555555556,\"#d8576b\"],[0.6666666666666666,\"#ed7953\"],[0.7777777777777778,\"#fb9f3a\"],[0.8888888888888888,\"#fdca26\"],[1.0,\"#f0f921\"]]}],\"heatmapgl\":[{\"type\":\"heatmapgl\",\"colorbar\":{\"outlinewidth\":0,\"ticks\":\"\"},\"colorscale\":[[0.0,\"#0d0887\"],[0.1111111111111111,\"#46039f\"],[0.2222222222222222,\"#7201a8\"],[0.3333333333333333,\"#9c179e\"],[0.4444444444444444,\"#bd3786\"],[0.5555555555555556,\"#d8576b\"],[0.6666666666666666,\"#ed7953\"],[0.7777777777777778,\"#fb9f3a\"],[0.8888888888888888,\"#fdca26\"],[1.0,\"#f0f921\"]]}],\"contourcarpet\":[{\"type\":\"contourcarpet\",\"colorbar\":{\"outlinewidth\":0,\"ticks\":\"\"}}],\"contour\":[{\"type\":\"contour\",\"colorbar\":{\"outlinewidth\":0,\"ticks\":\"\"},\"colorscale\":[[0.0,\"#0d0887\"],[0.1111111111111111,\"#46039f\"],[0.2222222222222222,\"#7201a8\"],[0.3333333333333333,\"#9c179e\"],[0.4444444444444444,\"#bd3786\"],[0.5555555555555556,\"#d8576b\"],[0.6666666666666666,\"#ed7953\"],[0.7777777777777778,\"#fb9f3a\"],[0.8888888888888888,\"#fdca26\"],[1.0,\"#f0f921\"]]}],\"surface\":[{\"type\":\"surface\",\"colorbar\":{\"outlinewidth\":0,\"ticks\":\"\"},\"colorscale\":[[0.0,\"#0d0887\"],[0.1111111111111111,\"#46039f\"],[0.2222222222222222,\"#7201a8\"],[0.3333333333333333,\"#9c179e\"],[0.4444444444444444,\"#bd3786\"],[0.5555555555555556,\"#d8576b\"],[0.6666666666666666,\"#ed7953\"],[0.7777777777777778,\"#fb9f3a\"],[0.8888888888888888,\"#fdca26\"],[1.0,\"#f0f921\"]]}],\"mesh3d\":[{\"type\":\"mesh3d\",\"colorbar\":{\"outlinewidth\":0,\"ticks\":\"\"}}],\"scatter\":[{\"fillpattern\":{\"fillmode\":\"overlay\",\"size\":10,\"solidity\":0.2},\"type\":\"scatter\"}],\"parcoords\":[{\"type\":\"parcoords\",\"line\":{\"colorbar\":{\"outlinewidth\":0,\"ticks\":\"\"}}}],\"scatterpolargl\":[{\"type\":\"scatterpolargl\",\"marker\":{\"colorbar\":{\"outlinewidth\":0,\"ticks\":\"\"}}}],\"bar\":[{\"error_x\":{\"color\":\"#2a3f5f\"},\"error_y\":{\"color\":\"#2a3f5f\"},\"marker\":{\"line\":{\"color\":\"#E5ECF6\",\"width\":0.5},\"pattern\":{\"fillmode\":\"overlay\",\"size\":10,\"solidity\":0.2}},\"type\":\"bar\"}],\"scattergeo\":[{\"type\":\"scattergeo\",\"marker\":{\"colorbar\":{\"outlinewidth\":0,\"ticks\":\"\"}}}],\"scatterpolar\":[{\"type\":\"scatterpolar\",\"marker\":{\"colorbar\":{\"outlinewidth\":0,\"ticks\":\"\"}}}],\"histogram\":[{\"marker\":{\"pattern\":{\"fillmode\":\"overlay\",\"size\":10,\"solidity\":0.2}},\"type\":\"histogram\"}],\"scattergl\":[{\"type\":\"scattergl\",\"marker\":{\"colorbar\":{\"outlinewidth\":0,\"ticks\":\"\"}}}],\"scatter3d\":[{\"type\":\"scatter3d\",\"line\":{\"colorbar\":{\"outlinewidth\":0,\"ticks\":\"\"}},\"marker\":{\"colorbar\":{\"outlinewidth\":0,\"ticks\":\"\"}}}],\"scattermapbox\":[{\"type\":\"scattermapbox\",\"marker\":{\"colorbar\":{\"outlinewidth\":0,\"ticks\":\"\"}}}],\"scatterternary\":[{\"type\":\"scatterternary\",\"marker\":{\"colorbar\":{\"outlinewidth\":0,\"ticks\":\"\"}}}],\"scattercarpet\":[{\"type\":\"scattercarpet\",\"marker\":{\"colorbar\":{\"outlinewidth\":0,\"ticks\":\"\"}}}],\"carpet\":[{\"aaxis\":{\"endlinecolor\":\"#2a3f5f\",\"gridcolor\":\"white\",\"linecolor\":\"white\",\"minorgridcolor\":\"white\",\"startlinecolor\":\"#2a3f5f\"},\"baxis\":{\"endlinecolor\":\"#2a3f5f\",\"gridcolor\":\"white\",\"linecolor\":\"white\",\"minorgridcolor\":\"white\",\"startlinecolor\":\"#2a3f5f\"},\"type\":\"carpet\"}],\"table\":[{\"cells\":{\"fill\":{\"color\":\"#EBF0F8\"},\"line\":{\"color\":\"white\"}},\"header\":{\"fill\":{\"color\":\"#C8D4E3\"},\"line\":{\"color\":\"white\"}},\"type\":\"table\"}],\"barpolar\":[{\"marker\":{\"line\":{\"color\":\"#E5ECF6\",\"width\":0.5},\"pattern\":{\"fillmode\":\"overlay\",\"size\":10,\"solidity\":0.2}},\"type\":\"barpolar\"}],\"pie\":[{\"automargin\":true,\"type\":\"pie\"}]},\"layout\":{\"autotypenumbers\":\"strict\",\"colorway\":[\"#636efa\",\"#EF553B\",\"#00cc96\",\"#ab63fa\",\"#FFA15A\",\"#19d3f3\",\"#FF6692\",\"#B6E880\",\"#FF97FF\",\"#FECB52\"],\"font\":{\"color\":\"#2a3f5f\"},\"hovermode\":\"closest\",\"hoverlabel\":{\"align\":\"left\"},\"paper_bgcolor\":\"white\",\"plot_bgcolor\":\"#E5ECF6\",\"polar\":{\"bgcolor\":\"#E5ECF6\",\"angularaxis\":{\"gridcolor\":\"white\",\"linecolor\":\"white\",\"ticks\":\"\"},\"radialaxis\":{\"gridcolor\":\"white\",\"linecolor\":\"white\",\"ticks\":\"\"}},\"ternary\":{\"bgcolor\":\"#E5ECF6\",\"aaxis\":{\"gridcolor\":\"white\",\"linecolor\":\"white\",\"ticks\":\"\"},\"baxis\":{\"gridcolor\":\"white\",\"linecolor\":\"white\",\"ticks\":\"\"},\"caxis\":{\"gridcolor\":\"white\",\"linecolor\":\"white\",\"ticks\":\"\"}},\"coloraxis\":{\"colorbar\":{\"outlinewidth\":0,\"ticks\":\"\"}},\"colorscale\":{\"sequential\":[[0.0,\"#0d0887\"],[0.1111111111111111,\"#46039f\"],[0.2222222222222222,\"#7201a8\"],[0.3333333333333333,\"#9c179e\"],[0.4444444444444444,\"#bd3786\"],[0.5555555555555556,\"#d8576b\"],[0.6666666666666666,\"#ed7953\"],[0.7777777777777778,\"#fb9f3a\"],[0.8888888888888888,\"#fdca26\"],[1.0,\"#f0f921\"]],\"sequentialminus\":[[0.0,\"#0d0887\"],[0.1111111111111111,\"#46039f\"],[0.2222222222222222,\"#7201a8\"],[0.3333333333333333,\"#9c179e\"],[0.4444444444444444,\"#bd3786\"],[0.5555555555555556,\"#d8576b\"],[0.6666666666666666,\"#ed7953\"],[0.7777777777777778,\"#fb9f3a\"],[0.8888888888888888,\"#fdca26\"],[1.0,\"#f0f921\"]],\"diverging\":[[0,\"#8e0152\"],[0.1,\"#c51b7d\"],[0.2,\"#de77ae\"],[0.3,\"#f1b6da\"],[0.4,\"#fde0ef\"],[0.5,\"#f7f7f7\"],[0.6,\"#e6f5d0\"],[0.7,\"#b8e186\"],[0.8,\"#7fbc41\"],[0.9,\"#4d9221\"],[1,\"#276419\"]]},\"xaxis\":{\"gridcolor\":\"white\",\"linecolor\":\"white\",\"ticks\":\"\",\"title\":{\"standoff\":15},\"zerolinecolor\":\"white\",\"automargin\":true,\"zerolinewidth\":2},\"yaxis\":{\"gridcolor\":\"white\",\"linecolor\":\"white\",\"ticks\":\"\",\"title\":{\"standoff\":15},\"zerolinecolor\":\"white\",\"automargin\":true,\"zerolinewidth\":2},\"scene\":{\"xaxis\":{\"backgroundcolor\":\"#E5ECF6\",\"gridcolor\":\"white\",\"linecolor\":\"white\",\"showbackground\":true,\"ticks\":\"\",\"zerolinecolor\":\"white\",\"gridwidth\":2},\"yaxis\":{\"backgroundcolor\":\"#E5ECF6\",\"gridcolor\":\"white\",\"linecolor\":\"white\",\"showbackground\":true,\"ticks\":\"\",\"zerolinecolor\":\"white\",\"gridwidth\":2},\"zaxis\":{\"backgroundcolor\":\"#E5ECF6\",\"gridcolor\":\"white\",\"linecolor\":\"white\",\"showbackground\":true,\"ticks\":\"\",\"zerolinecolor\":\"white\",\"gridwidth\":2}},\"shapedefaults\":{\"line\":{\"color\":\"#2a3f5f\"}},\"annotationdefaults\":{\"arrowcolor\":\"#2a3f5f\",\"arrowhead\":0,\"arrowwidth\":1},\"geo\":{\"bgcolor\":\"white\",\"landcolor\":\"#E5ECF6\",\"subunitcolor\":\"white\",\"showland\":true,\"showlakes\":true,\"lakecolor\":\"white\"},\"title\":{\"x\":0.05},\"mapbox\":{\"style\":\"light\"}}},\"xaxis\":{\"anchor\":\"y\",\"domain\":[0.0,1.0],\"matches\":\"x2\",\"showticklabels\":false},\"yaxis\":{\"anchor\":\"x\",\"domain\":[0.515,1.0],\"title\":{\"text\":\"\\u03b7 [%]\"},\"tick0\":10,\"dtick\":0.5,\"tickformat\":\".2f\"},\"xaxis2\":{\"anchor\":\"y2\",\"domain\":[0.0,1.0]},\"yaxis2\":{\"anchor\":\"x2\",\"domain\":[0.0,0.485],\"title\":{\"text\":\"PL of \\u03b7\"},\"dtick\":0.02,\"tickformat\":\".1%\"},\"annotations\":[{\"font\":{\"size\":20},\"showarrow\":false,\"text\":\"$ \\\\textrm{Efficiency (\\u03b7) } \\\\\\\\\\\\ = \\\\\\\\\\\\ \\\\frac{V_{oc}I_{sc}FF}{P_{in}}$\",\"x\":1.25,\"xref\":\"paper\",\"y\":0.6,\"yref\":\"paper\"}],\"shapes\":[{\"line\":{\"color\":\"grey\",\"dash\":\"dash\",\"width\":1},\"type\":\"line\",\"x0\":0.5,\"x1\":0.5,\"xref\":\"x\",\"y0\":0,\"y1\":1,\"yref\":\"y domain\"},{\"line\":{\"color\":\"grey\",\"dash\":\"dash\",\"width\":1},\"type\":\"line\",\"x0\":0.5,\"x1\":0.5,\"xref\":\"x2\",\"y0\":0,\"y1\":1,\"yref\":\"y2 domain\"},{\"line\":{\"color\":\"grey\",\"dash\":\"dash\",\"width\":1},\"type\":\"line\",\"x0\":1.5,\"x1\":1.5,\"xref\":\"x\",\"y0\":0,\"y1\":1,\"yref\":\"y domain\"},{\"line\":{\"color\":\"grey\",\"dash\":\"dash\",\"width\":1},\"type\":\"line\",\"x0\":1.5,\"x1\":1.5,\"xref\":\"x2\",\"y0\":0,\"y1\":1,\"yref\":\"y2 domain\"},{\"line\":{\"color\":\"grey\",\"dash\":\"dash\",\"width\":1},\"type\":\"line\",\"x0\":2.5,\"x1\":2.5,\"xref\":\"x\",\"y0\":0,\"y1\":1,\"yref\":\"y domain\"},{\"line\":{\"color\":\"grey\",\"dash\":\"dash\",\"width\":1},\"type\":\"line\",\"x0\":2.5,\"x1\":2.5,\"xref\":\"x2\",\"y0\":0,\"y1\":1,\"yref\":\"y2 domain\"},{\"line\":{\"color\":\"grey\",\"dash\":\"dash\",\"width\":1},\"type\":\"line\",\"x0\":3.5,\"x1\":3.5,\"xref\":\"x\",\"y0\":0,\"y1\":1,\"yref\":\"y domain\"},{\"line\":{\"color\":\"grey\",\"dash\":\"dash\",\"width\":1},\"type\":\"line\",\"x0\":3.5,\"x1\":3.5,\"xref\":\"x2\",\"y0\":0,\"y1\":1,\"yref\":\"y2 domain\"}],\"title\":{\"text\":\"Efficiency (\\u03b7) performance between 5 annealing tests\"},\"boxmode\":\"group\",\"height\":600,\"width\":900,\"boxgap\":0.5},                        {\"responsive\": true}                    ).then(function(){\n",
       "                            \n",
       "var gd = document.getElementById('aaeaa8d0-3ad9-47bf-a2fc-b5dbeb3c2739');\n",
       "var x = new MutationObserver(function (mutations, observer) {{\n",
       "        var display = window.getComputedStyle(gd).display;\n",
       "        if (!display || display === 'none') {{\n",
       "            console.log([gd, 'removed!']);\n",
       "            Plotly.purge(gd);\n",
       "            observer.disconnect();\n",
       "        }}\n",
       "}});\n",
       "\n",
       "// Listen for the removal of the full notebook cells\n",
       "var notebookContainer = gd.closest('#notebook-container');\n",
       "if (notebookContainer) {{\n",
       "    x.observe(notebookContainer, {childList: true});\n",
       "}}\n",
       "\n",
       "// Listen for the clearing of the current output cell\n",
       "var outputEl = gd.closest('.output');\n",
       "if (outputEl) {{\n",
       "    x.observe(outputEl, {childList: true});\n",
       "}}\n",
       "\n",
       "                        })                };                });            </script>        </div>"
      ]
     },
     "metadata": {},
     "output_type": "display_data"
    }
   ],
   "source": [
    "Annealing_test_wide_η = Annealing_test_wide[Annealing_test_wide['η_PLaA'] < 0.1]\n",
    "Annealing_test_wide_η = Annealing_test_wide_η[Annealing_test_wide_η['η_PLbA'] < 0.1]\n",
    "\n",
    "fig_η = make_subplots(rows=2, cols=1,shared_xaxes = True,vertical_spacing=0.03)\n",
    "\n",
    "fig_η.add_trace(\n",
    "    go.Box(y=Annealing_test_wide_η['η [%]'], x = Annealing_test_wide_η[\"Notes\"], \n",
    "           name = \"Original measurments\", offsetgroup = \"A\"),\n",
    "    row=1, col=1\n",
    ")\n",
    "\n",
    "fig_η.add_trace(\n",
    "    go.Box(y=Annealing_test_wide_η['η [%].1'], x = Annealing_test_wide_η[\"Notes\"], \n",
    "           name = \"Remeasure before annealing\", offsetgroup = \"B\"),\n",
    "    row=1, col=1\n",
    ")\n",
    "\n",
    "fig_η.add_trace(\n",
    "    go.Box(y=Annealing_test_wide_η['η [%].2'], x = Annealing_test_wide_η[\"Notes\"], \n",
    "           name = \"Remeasure after annealing\", offsetgroup = \"C\"),\n",
    "    row=1, col=1,\n",
    ")\n",
    "\n",
    "fig_η.add_trace(\n",
    "    go.Box(y=Annealing_test_wide_η['η_PLbA'], x = Annealing_test_wide_η[\"Notes\"], \n",
    "           name = \"Performance loss before annealing\", offsetgroup = \"B\"),\n",
    "    row=2, col=1\n",
    ")\n",
    "\n",
    "fig_η.add_trace(\n",
    "    go.Box(y=Annealing_test_wide_η['η_PLaA'], x = Annealing_test_wide_η[\"Notes\"], \n",
    "           name = \"Performance loss after annealing\", offsetgroup = \"C\"),\n",
    "    row=2, col=1\n",
    ")\n",
    "\n",
    "fig_η.add_annotation(yref='paper', xref='paper', y=0.6,x = 1.25,showarrow=False, font_size =20,\n",
    "            text=r'$ \\textrm{Efficiency (η) } \\\\\\ = \\\\\\ \\frac{V_{oc}I_{sc}FF}{P_{in}}$')\n",
    "\n",
    "\n",
    "vx = 0.5\n",
    "fig_η.add_vline(x=vx, line_width=1, line_dash=\"dash\", line_color=\"grey\")\n",
    "fig_η.add_vline(x=vx+1, line_width=1, line_dash=\"dash\", line_color=\"grey\")\n",
    "fig_η.add_vline(x=vx+2, line_width=1, line_dash=\"dash\", line_color=\"grey\")\n",
    "fig_η.add_vline(x=vx+3, line_width=1, line_dash=\"dash\", line_color=\"grey\")\n",
    "\n",
    "fig_η.update_layout(title=\"Efficiency (η) performance between 5 annealing tests\",\n",
    "                    boxmode='group', height=600, width=900,\n",
    "                     boxgap=0.5,\n",
    "                     yaxis=dict(title=\"η [%]\", tick0 = 10, dtick=.5, tickformat=\".2f\"),\n",
    "                     yaxis2=dict(title=\"PL of η\", dtick=0.02,tickformat=\".1%\")\n",
    "                    ) \n",
    "fig_η.show()\n",
    "fig_η.write_image(\"2.3 Efficiency (η) performance between 5 annealing tests.png\", scale=3, width=900, height=600) "
   ]
  },
  {
   "cell_type": "markdown",
   "id": "0d5dcbaa",
   "metadata": {},
   "source": [
    "# Section 5: Series Resistance Rs"
   ]
  },
  {
   "cell_type": "markdown",
   "id": "79ad3fe9",
   "metadata": {},
   "source": [
    "The main impact of series resistance is to reduce the fill factor, although excessively high values may also reduce the short-circuit current.\n",
    "The lower the better."
   ]
  },
  {
   "cell_type": "code",
   "execution_count": 126,
   "id": "67978171",
   "metadata": {},
   "outputs": [
    {
     "data": {
      "application/vnd.plotly.v1+json": {
       "config": {
        "plotlyServerURL": "https://plot.ly"
       },
       "data": [
        {
         "name": "Original measurments",
         "offsetgroup": "A",
         "type": "box",
         "x": [
          "2h annealing in cassettes",
          "2h annealing in cassettes",
          "2h annealing in cassettes",
          "2h annealing in cassettes",
          "2h annealing in cassettes",
          "2h annealing in cassettes",
          "2h annealing in cassettes",
          "2h annealing in cassettes",
          "2h annealing in cassettes",
          "2h annealing in cassettes",
          "2h annealing in cassettes",
          "2h annealing in cassettes",
          "1h annealing in cassettes ",
          "1h annealing in cassettes ",
          "1h annealing in cassettes ",
          "1h annealing in cassettes ",
          "1h annealing in cassettes ",
          "1h annealing in cassettes ",
          "1h annealing in cassettes ",
          "1h annealing in cassettes ",
          "1h annealing in cassettes ",
          "1h annealing in cassettes ",
          "1h annealing in cassettes ",
          "1h annealing in cassettes ",
          "30min annealing in cassettes",
          "30min annealing in cassettes",
          "30min annealing in cassettes",
          "30min annealing in cassettes",
          "30min annealing in cassettes",
          "30min annealing in cassettes",
          "30min annealing in cassettes",
          "30min annealing in cassettes",
          "30min annealing in cassettes",
          "30min annealing in cassettes",
          "30min annealing in cassettes",
          "15min annealing in cassettes",
          "15min annealing in cassettes",
          "15min annealing in cassettes",
          "15min annealing in cassettes",
          "15min annealing in cassettes",
          "15min annealing in cassettes",
          "15min annealing in cassettes",
          "15min annealing in cassettes",
          "15min annealing in cassettes",
          "15min annealing in cassettes",
          "15min annealing in cassettes",
          "15min annealing in cassettes",
          "15min annealing in coinstack",
          "15min annealing in coinstack",
          "15min annealing in coinstack",
          "15min annealing in coinstack",
          "15min annealing in coinstack",
          "15min annealing in coinstack",
          "15min annealing in coinstack",
          "15min annealing in coinstack",
          "15min annealing in coinstack",
          "15min annealing in coinstack",
          "15min annealing in coinstack"
         ],
         "xaxis": "x",
         "y": [
          7.02443790435791,
          7.152323246002197,
          7.006228923797607,
          7.0422468185424805,
          7.064156532287598,
          7.117177963256836,
          7.173336982727051,
          6.916579246520996,
          7.224121570587158,
          7.093449592590332,
          7.242958068847656,
          6.974244594573975,
          6.996669769287109,
          7.080140590667725,
          6.950954437255859,
          7.085177898406982,
          6.8700127601623535,
          7.119457721710205,
          7.189582347869873,
          6.956051826477051,
          6.98298978805542,
          6.973007678985596,
          6.928560256958008,
          7.08842134475708,
          6.930480480194092,
          7.064884662628174,
          6.993000507354736,
          7.199956893920898,
          8.163949012756348,
          8.0596342086792,
          7.851443290710449,
          7.785426139831543,
          7.765776634216309,
          7.602531909942627,
          7.861936569213867,
          7.730679035186768,
          7.820740222930908,
          7.921412467956543,
          7.508064270019531,
          7.714256286621094,
          7.755561351776123,
          7.758546352386475,
          7.759148120880127,
          7.590147972106934,
          7.469647407531738,
          7.4663238525390625,
          7.532404899597168,
          7.601688385009766,
          7.719019889831543,
          7.485605239868164,
          7.441299915313721,
          7.408771991729736,
          7.328169345855713,
          7.32546329498291,
          7.466858863830566,
          7.499618053436279,
          7.51737642288208,
          7.331908702850342
         ],
         "yaxis": "y"
        },
        {
         "name": "Remeasure before annealing",
         "offsetgroup": "B",
         "type": "box",
         "x": [
          "2h annealing in cassettes",
          "2h annealing in cassettes",
          "2h annealing in cassettes",
          "2h annealing in cassettes",
          "2h annealing in cassettes",
          "2h annealing in cassettes",
          "2h annealing in cassettes",
          "2h annealing in cassettes",
          "2h annealing in cassettes",
          "2h annealing in cassettes",
          "2h annealing in cassettes",
          "2h annealing in cassettes",
          "1h annealing in cassettes ",
          "1h annealing in cassettes ",
          "1h annealing in cassettes ",
          "1h annealing in cassettes ",
          "1h annealing in cassettes ",
          "1h annealing in cassettes ",
          "1h annealing in cassettes ",
          "1h annealing in cassettes ",
          "1h annealing in cassettes ",
          "1h annealing in cassettes ",
          "1h annealing in cassettes ",
          "1h annealing in cassettes ",
          "30min annealing in cassettes",
          "30min annealing in cassettes",
          "30min annealing in cassettes",
          "30min annealing in cassettes",
          "30min annealing in cassettes",
          "30min annealing in cassettes",
          "30min annealing in cassettes",
          "30min annealing in cassettes",
          "30min annealing in cassettes",
          "30min annealing in cassettes",
          "30min annealing in cassettes",
          "15min annealing in cassettes",
          "15min annealing in cassettes",
          "15min annealing in cassettes",
          "15min annealing in cassettes",
          "15min annealing in cassettes",
          "15min annealing in cassettes",
          "15min annealing in cassettes",
          "15min annealing in cassettes",
          "15min annealing in cassettes",
          "15min annealing in cassettes",
          "15min annealing in cassettes",
          "15min annealing in cassettes",
          "15min annealing in coinstack",
          "15min annealing in coinstack",
          "15min annealing in coinstack",
          "15min annealing in coinstack",
          "15min annealing in coinstack",
          "15min annealing in coinstack",
          "15min annealing in coinstack",
          "15min annealing in coinstack",
          "15min annealing in coinstack",
          "15min annealing in coinstack",
          "15min annealing in coinstack"
         ],
         "xaxis": "x",
         "y": [
          7.349691867828369,
          7.528695583343506,
          7.603421688079834,
          7.727072238922119,
          7.600220680236816,
          7.803348064422607,
          7.705934047698975,
          7.619040489196777,
          7.7339677810668945,
          7.723789691925049,
          7.623419284820557,
          7.524164199829102,
          7.754034996032715,
          7.79969596862793,
          7.5429158210754395,
          7.513422966003418,
          7.466044902801514,
          7.593894958496094,
          6.976676940917969,
          7.666940212249756,
          7.746249198913574,
          7.5858073234558105,
          7.643207550048828,
          7.64028787612915,
          7.293406963348389,
          7.595602989196777,
          7.612393379211426,
          7.629526138305664,
          8.58478832244873,
          8.785407066345215,
          8.777337074279785,
          8.695643424987793,
          8.503057479858398,
          8.600318908691406,
          8.526958465576172,
          8.055413246154785,
          8.172263145446777,
          8.407238960266113,
          7.975746154785156,
          10.013508796691895,
          8.320152282714844,
          8.059309005737305,
          8.13770580291748,
          8.556507110595703,
          7.990084648132324,
          7.938075065612793,
          7.985619068145752,
          8.092244148254395,
          8.122149467468262,
          8.34549617767334,
          8.242680549621582,
          8.229090690612793,
          7.9472222328186035,
          7.971001625061035,
          7.956415176391602,
          7.864719390869141,
          7.910133361816406,
          8.005435943603516
         ],
         "yaxis": "y"
        },
        {
         "name": "Remeasure after annealing",
         "offsetgroup": "C",
         "type": "box",
         "x": [
          "2h annealing in cassettes",
          "2h annealing in cassettes",
          "2h annealing in cassettes",
          "2h annealing in cassettes",
          "2h annealing in cassettes",
          "2h annealing in cassettes",
          "2h annealing in cassettes",
          "2h annealing in cassettes",
          "2h annealing in cassettes",
          "2h annealing in cassettes",
          "2h annealing in cassettes",
          "2h annealing in cassettes",
          "1h annealing in cassettes ",
          "1h annealing in cassettes ",
          "1h annealing in cassettes ",
          "1h annealing in cassettes ",
          "1h annealing in cassettes ",
          "1h annealing in cassettes ",
          "1h annealing in cassettes ",
          "1h annealing in cassettes ",
          "1h annealing in cassettes ",
          "1h annealing in cassettes ",
          "1h annealing in cassettes ",
          "1h annealing in cassettes ",
          "30min annealing in cassettes",
          "30min annealing in cassettes",
          "30min annealing in cassettes",
          "30min annealing in cassettes",
          "30min annealing in cassettes",
          "30min annealing in cassettes",
          "30min annealing in cassettes",
          "30min annealing in cassettes",
          "30min annealing in cassettes",
          "30min annealing in cassettes",
          "30min annealing in cassettes",
          "15min annealing in cassettes",
          "15min annealing in cassettes",
          "15min annealing in cassettes",
          "15min annealing in cassettes",
          "15min annealing in cassettes",
          "15min annealing in cassettes",
          "15min annealing in cassettes",
          "15min annealing in cassettes",
          "15min annealing in cassettes",
          "15min annealing in cassettes",
          "15min annealing in cassettes",
          "15min annealing in cassettes",
          "15min annealing in coinstack",
          "15min annealing in coinstack",
          "15min annealing in coinstack",
          "15min annealing in coinstack",
          "15min annealing in coinstack",
          "15min annealing in coinstack",
          "15min annealing in coinstack",
          "15min annealing in coinstack",
          "15min annealing in coinstack",
          "15min annealing in coinstack",
          "15min annealing in coinstack"
         ],
         "xaxis": "x",
         "y": [
          8.154294967651367,
          7.4150896072387695,
          7.6675286293029785,
          7.646421909332275,
          7.478048324584961,
          7.283314228057861,
          7.412342071533203,
          7.361865997314453,
          7.562859058380127,
          7.842207431793213,
          7.43189811706543,
          7.659599781036377,
          7.299529552459717,
          7.544885158538818,
          7.317422866821289,
          7.25031042098999,
          8.457035064697266,
          7.823800563812256,
          7.558879852294922,
          7.4970879554748535,
          7.576037406921387,
          7.4526686668396,
          7.439107418060303,
          7.550581932067871,
          7.330586910247803,
          7.452946186065674,
          7.742351055145264,
          7.748349666595459,
          9.541975021362305,
          8.512079238891602,
          8.369943618774414,
          8.903918266296387,
          8.225367546081543,
          8.175938606262207,
          8.274027824401855,
          8.118851661682129,
          7.992000102996826,
          8.228752136230469,
          7.836369037628174,
          8.07104206085205,
          7.920470237731934,
          7.744726181030273,
          7.939650535583496,
          7.883940696716309,
          7.910133361816406,
          7.737834453582764,
          7.841001033782959,
          8.074299812316895,
          7.938098907470703,
          7.971319198608398,
          8.08995246887207,
          7.963702201843262,
          7.952910900115967,
          7.592741966247559,
          7.729783058166504,
          7.854241847991943,
          7.7534565925598145,
          7.668726921081543
         ],
         "yaxis": "y"
        },
        {
         "name": "Performance loss before annealing",
         "offsetgroup": "B",
         "type": "box",
         "x": [
          "2h annealing in cassettes",
          "2h annealing in cassettes",
          "2h annealing in cassettes",
          "2h annealing in cassettes",
          "2h annealing in cassettes",
          "2h annealing in cassettes",
          "2h annealing in cassettes",
          "2h annealing in cassettes",
          "2h annealing in cassettes",
          "2h annealing in cassettes",
          "2h annealing in cassettes",
          "2h annealing in cassettes",
          "1h annealing in cassettes ",
          "1h annealing in cassettes ",
          "1h annealing in cassettes ",
          "1h annealing in cassettes ",
          "1h annealing in cassettes ",
          "1h annealing in cassettes ",
          "1h annealing in cassettes ",
          "1h annealing in cassettes ",
          "1h annealing in cassettes ",
          "1h annealing in cassettes ",
          "1h annealing in cassettes ",
          "1h annealing in cassettes ",
          "30min annealing in cassettes",
          "30min annealing in cassettes",
          "30min annealing in cassettes",
          "30min annealing in cassettes",
          "30min annealing in cassettes",
          "30min annealing in cassettes",
          "30min annealing in cassettes",
          "30min annealing in cassettes",
          "30min annealing in cassettes",
          "30min annealing in cassettes",
          "30min annealing in cassettes",
          "15min annealing in cassettes",
          "15min annealing in cassettes",
          "15min annealing in cassettes",
          "15min annealing in cassettes",
          "15min annealing in cassettes",
          "15min annealing in cassettes",
          "15min annealing in cassettes",
          "15min annealing in cassettes",
          "15min annealing in cassettes",
          "15min annealing in cassettes",
          "15min annealing in cassettes",
          "15min annealing in cassettes",
          "15min annealing in coinstack",
          "15min annealing in coinstack",
          "15min annealing in coinstack",
          "15min annealing in coinstack",
          "15min annealing in coinstack",
          "15min annealing in coinstack",
          "15min annealing in coinstack",
          "15min annealing in coinstack",
          "15min annealing in coinstack",
          "15min annealing in coinstack",
          "15min annealing in coinstack"
         ],
         "xaxis": "x2",
         "y": [
          -0.04630320146593848,
          -0.05262238917287226,
          -0.08523740385555777,
          -0.09724530224877515,
          -0.07588508911135697,
          -0.09641041782405825,
          -0.07424676496509008,
          -0.10156194523891499,
          -0.07057553025624087,
          -0.08886227936167429,
          -0.05252843000835309,
          -0.07885006007431535,
          -0.10824653038080621,
          -0.10163009741764806,
          -0.08516260452618911,
          -0.06044238743712015,
          -0.08675852046380692,
          -0.06663951881322802,
          0.029613042406417923,
          -0.10219710886379929,
          -0.1093026674854557,
          -0.08788168214943977,
          -0.10314513644781188,
          -0.07785464555944548,
          -0.05236671312926531,
          -0.07512059317486063,
          -0.0885732628226262,
          -0.059662752251678275,
          -0.051548498041182306,
          -0.09005034705972768,
          -0.11792657085924836,
          -0.11691296902804409,
          -0.0949397440036586,
          -0.13124403956054018,
          -0.08458754284108931,
          -0.04200591041096977,
          -0.04494752574509272,
          -0.06133079097633419,
          -0.06229060753157463,
          -0.2980523882851048,
          -0.07279820316416195,
          -0.03876533562995568,
          -0.0487885623704801,
          -0.1273175624559688,
          -0.06967360200641098,
          -0.06318386697267393,
          -0.06016858819854756,
          -0.06453247468180698,
          -0.05222548761245859,
          -0.11487260017739329,
          -0.10769363463750078,
          -0.1107226271504592,
          -0.08447578893806303,
          -0.08812252605514298,
          -0.06556388991526864,
          -0.04868265754754992,
          -0.05224654411861252,
          -0.09186246965832164
         ],
         "yaxis": "y2"
        },
        {
         "name": "Performance loss after annealing",
         "offsetgroup": "C",
         "type": "box",
         "x": [
          "2h annealing in cassettes",
          "2h annealing in cassettes",
          "2h annealing in cassettes",
          "2h annealing in cassettes",
          "2h annealing in cassettes",
          "2h annealing in cassettes",
          "2h annealing in cassettes",
          "2h annealing in cassettes",
          "2h annealing in cassettes",
          "2h annealing in cassettes",
          "2h annealing in cassettes",
          "2h annealing in cassettes",
          "1h annealing in cassettes ",
          "1h annealing in cassettes ",
          "1h annealing in cassettes ",
          "1h annealing in cassettes ",
          "1h annealing in cassettes ",
          "1h annealing in cassettes ",
          "1h annealing in cassettes ",
          "1h annealing in cassettes ",
          "1h annealing in cassettes ",
          "1h annealing in cassettes ",
          "1h annealing in cassettes ",
          "1h annealing in cassettes ",
          "30min annealing in cassettes",
          "30min annealing in cassettes",
          "30min annealing in cassettes",
          "30min annealing in cassettes",
          "30min annealing in cassettes",
          "30min annealing in cassettes",
          "30min annealing in cassettes",
          "30min annealing in cassettes",
          "30min annealing in cassettes",
          "30min annealing in cassettes",
          "30min annealing in cassettes",
          "15min annealing in cassettes",
          "15min annealing in cassettes",
          "15min annealing in cassettes",
          "15min annealing in cassettes",
          "15min annealing in cassettes",
          "15min annealing in cassettes",
          "15min annealing in cassettes",
          "15min annealing in cassettes",
          "15min annealing in cassettes",
          "15min annealing in cassettes",
          "15min annealing in cassettes",
          "15min annealing in cassettes",
          "15min annealing in coinstack",
          "15min annealing in coinstack",
          "15min annealing in coinstack",
          "15min annealing in coinstack",
          "15min annealing in coinstack",
          "15min annealing in coinstack",
          "15min annealing in coinstack",
          "15min annealing in coinstack",
          "15min annealing in coinstack",
          "15min annealing in coinstack",
          "15min annealing in coinstack"
         ],
         "xaxis": "x2",
         "y": [
          -0.16084661558364718,
          -0.03673860257692435,
          -0.09438739622954324,
          -0.08579294454704156,
          -0.05859040501234929,
          -0.023342997134358726,
          -0.03331853632161179,
          -0.06437962104134555,
          -0.04688978230545434,
          -0.10555623599341814,
          -0.026086033692561957,
          -0.09826945085860839,
          -0.04328627663721591,
          -0.06564058466348391,
          -0.052722030172032947,
          -0.023306757423851826,
          -0.23100718440258142,
          -0.09893209140834067,
          -0.05136564080588967,
          -0.07777919752386533,
          -0.08492746472011024,
          -0.06878824890721805,
          -0.07368733794146884,
          -0.06519936736726663,
          -0.057731412879256205,
          -0.05492821779388244,
          -0.10715722771683116,
          -0.07616611887462578,
          -0.16879404886688557,
          -0.05613716683632822,
          -0.06603885538821075,
          -0.14366485615250407,
          -0.05918157751798568,
          -0.07542312260073201,
          -0.05241599847061527,
          -0.05021197034937867,
          -0.021898167588251187,
          -0.03879859425540166,
          -0.04372695222117332,
          -0.04625018420113082,
          -0.021263307512620514,
          0.0017812835972746601,
          -0.023263174241722633,
          -0.03870711423400902,
          -0.058970113347053106,
          -0.03636469652349314,
          -0.04096913778523705,
          -0.06217190226306833,
          -0.028381714358290278,
          -0.06488639771615698,
          -0.08716925281071712,
          -0.07490178004303316,
          -0.08525206293350233,
          -0.03648624810497696,
          -0.03521215535618883,
          -0.04728558068276258,
          -0.03140459601825071,
          -0.0459386814377899
         ],
         "yaxis": "y2"
        }
       ],
       "layout": {
        "boxmode": "group",
        "height": 700,
        "shapes": [
         {
          "line": {
           "color": "grey",
           "dash": "dash",
           "width": 1
          },
          "type": "line",
          "x0": 0.5,
          "x1": 0.5,
          "xref": "x",
          "y0": 0,
          "y1": 1,
          "yref": "y domain"
         },
         {
          "line": {
           "color": "grey",
           "dash": "dash",
           "width": 1
          },
          "type": "line",
          "x0": 0.5,
          "x1": 0.5,
          "xref": "x2",
          "y0": 0,
          "y1": 1,
          "yref": "y2 domain"
         },
         {
          "line": {
           "color": "grey",
           "dash": "dash",
           "width": 1
          },
          "type": "line",
          "x0": 1.5,
          "x1": 1.5,
          "xref": "x",
          "y0": 0,
          "y1": 1,
          "yref": "y domain"
         },
         {
          "line": {
           "color": "grey",
           "dash": "dash",
           "width": 1
          },
          "type": "line",
          "x0": 1.5,
          "x1": 1.5,
          "xref": "x2",
          "y0": 0,
          "y1": 1,
          "yref": "y2 domain"
         },
         {
          "line": {
           "color": "grey",
           "dash": "dash",
           "width": 1
          },
          "type": "line",
          "x0": 2.5,
          "x1": 2.5,
          "xref": "x",
          "y0": 0,
          "y1": 1,
          "yref": "y domain"
         },
         {
          "line": {
           "color": "grey",
           "dash": "dash",
           "width": 1
          },
          "type": "line",
          "x0": 2.5,
          "x1": 2.5,
          "xref": "x2",
          "y0": 0,
          "y1": 1,
          "yref": "y2 domain"
         },
         {
          "line": {
           "color": "grey",
           "dash": "dash",
           "width": 1
          },
          "type": "line",
          "x0": 3.5,
          "x1": 3.5,
          "xref": "x",
          "y0": 0,
          "y1": 1,
          "yref": "y domain"
         },
         {
          "line": {
           "color": "grey",
           "dash": "dash",
           "width": 1
          },
          "type": "line",
          "x0": 3.5,
          "x1": 3.5,
          "xref": "x2",
          "y0": 0,
          "y1": 1,
          "yref": "y2 domain"
         }
        ],
        "template": {
         "data": {
          "bar": [
           {
            "error_x": {
             "color": "#2a3f5f"
            },
            "error_y": {
             "color": "#2a3f5f"
            },
            "marker": {
             "line": {
              "color": "#E5ECF6",
              "width": 0.5
             },
             "pattern": {
              "fillmode": "overlay",
              "size": 10,
              "solidity": 0.2
             }
            },
            "type": "bar"
           }
          ],
          "barpolar": [
           {
            "marker": {
             "line": {
              "color": "#E5ECF6",
              "width": 0.5
             },
             "pattern": {
              "fillmode": "overlay",
              "size": 10,
              "solidity": 0.2
             }
            },
            "type": "barpolar"
           }
          ],
          "carpet": [
           {
            "aaxis": {
             "endlinecolor": "#2a3f5f",
             "gridcolor": "white",
             "linecolor": "white",
             "minorgridcolor": "white",
             "startlinecolor": "#2a3f5f"
            },
            "baxis": {
             "endlinecolor": "#2a3f5f",
             "gridcolor": "white",
             "linecolor": "white",
             "minorgridcolor": "white",
             "startlinecolor": "#2a3f5f"
            },
            "type": "carpet"
           }
          ],
          "choropleth": [
           {
            "colorbar": {
             "outlinewidth": 0,
             "ticks": ""
            },
            "type": "choropleth"
           }
          ],
          "contour": [
           {
            "colorbar": {
             "outlinewidth": 0,
             "ticks": ""
            },
            "colorscale": [
             [
              0,
              "#0d0887"
             ],
             [
              0.1111111111111111,
              "#46039f"
             ],
             [
              0.2222222222222222,
              "#7201a8"
             ],
             [
              0.3333333333333333,
              "#9c179e"
             ],
             [
              0.4444444444444444,
              "#bd3786"
             ],
             [
              0.5555555555555556,
              "#d8576b"
             ],
             [
              0.6666666666666666,
              "#ed7953"
             ],
             [
              0.7777777777777778,
              "#fb9f3a"
             ],
             [
              0.8888888888888888,
              "#fdca26"
             ],
             [
              1,
              "#f0f921"
             ]
            ],
            "type": "contour"
           }
          ],
          "contourcarpet": [
           {
            "colorbar": {
             "outlinewidth": 0,
             "ticks": ""
            },
            "type": "contourcarpet"
           }
          ],
          "heatmap": [
           {
            "colorbar": {
             "outlinewidth": 0,
             "ticks": ""
            },
            "colorscale": [
             [
              0,
              "#0d0887"
             ],
             [
              0.1111111111111111,
              "#46039f"
             ],
             [
              0.2222222222222222,
              "#7201a8"
             ],
             [
              0.3333333333333333,
              "#9c179e"
             ],
             [
              0.4444444444444444,
              "#bd3786"
             ],
             [
              0.5555555555555556,
              "#d8576b"
             ],
             [
              0.6666666666666666,
              "#ed7953"
             ],
             [
              0.7777777777777778,
              "#fb9f3a"
             ],
             [
              0.8888888888888888,
              "#fdca26"
             ],
             [
              1,
              "#f0f921"
             ]
            ],
            "type": "heatmap"
           }
          ],
          "heatmapgl": [
           {
            "colorbar": {
             "outlinewidth": 0,
             "ticks": ""
            },
            "colorscale": [
             [
              0,
              "#0d0887"
             ],
             [
              0.1111111111111111,
              "#46039f"
             ],
             [
              0.2222222222222222,
              "#7201a8"
             ],
             [
              0.3333333333333333,
              "#9c179e"
             ],
             [
              0.4444444444444444,
              "#bd3786"
             ],
             [
              0.5555555555555556,
              "#d8576b"
             ],
             [
              0.6666666666666666,
              "#ed7953"
             ],
             [
              0.7777777777777778,
              "#fb9f3a"
             ],
             [
              0.8888888888888888,
              "#fdca26"
             ],
             [
              1,
              "#f0f921"
             ]
            ],
            "type": "heatmapgl"
           }
          ],
          "histogram": [
           {
            "marker": {
             "pattern": {
              "fillmode": "overlay",
              "size": 10,
              "solidity": 0.2
             }
            },
            "type": "histogram"
           }
          ],
          "histogram2d": [
           {
            "colorbar": {
             "outlinewidth": 0,
             "ticks": ""
            },
            "colorscale": [
             [
              0,
              "#0d0887"
             ],
             [
              0.1111111111111111,
              "#46039f"
             ],
             [
              0.2222222222222222,
              "#7201a8"
             ],
             [
              0.3333333333333333,
              "#9c179e"
             ],
             [
              0.4444444444444444,
              "#bd3786"
             ],
             [
              0.5555555555555556,
              "#d8576b"
             ],
             [
              0.6666666666666666,
              "#ed7953"
             ],
             [
              0.7777777777777778,
              "#fb9f3a"
             ],
             [
              0.8888888888888888,
              "#fdca26"
             ],
             [
              1,
              "#f0f921"
             ]
            ],
            "type": "histogram2d"
           }
          ],
          "histogram2dcontour": [
           {
            "colorbar": {
             "outlinewidth": 0,
             "ticks": ""
            },
            "colorscale": [
             [
              0,
              "#0d0887"
             ],
             [
              0.1111111111111111,
              "#46039f"
             ],
             [
              0.2222222222222222,
              "#7201a8"
             ],
             [
              0.3333333333333333,
              "#9c179e"
             ],
             [
              0.4444444444444444,
              "#bd3786"
             ],
             [
              0.5555555555555556,
              "#d8576b"
             ],
             [
              0.6666666666666666,
              "#ed7953"
             ],
             [
              0.7777777777777778,
              "#fb9f3a"
             ],
             [
              0.8888888888888888,
              "#fdca26"
             ],
             [
              1,
              "#f0f921"
             ]
            ],
            "type": "histogram2dcontour"
           }
          ],
          "mesh3d": [
           {
            "colorbar": {
             "outlinewidth": 0,
             "ticks": ""
            },
            "type": "mesh3d"
           }
          ],
          "parcoords": [
           {
            "line": {
             "colorbar": {
              "outlinewidth": 0,
              "ticks": ""
             }
            },
            "type": "parcoords"
           }
          ],
          "pie": [
           {
            "automargin": true,
            "type": "pie"
           }
          ],
          "scatter": [
           {
            "fillpattern": {
             "fillmode": "overlay",
             "size": 10,
             "solidity": 0.2
            },
            "type": "scatter"
           }
          ],
          "scatter3d": [
           {
            "line": {
             "colorbar": {
              "outlinewidth": 0,
              "ticks": ""
             }
            },
            "marker": {
             "colorbar": {
              "outlinewidth": 0,
              "ticks": ""
             }
            },
            "type": "scatter3d"
           }
          ],
          "scattercarpet": [
           {
            "marker": {
             "colorbar": {
              "outlinewidth": 0,
              "ticks": ""
             }
            },
            "type": "scattercarpet"
           }
          ],
          "scattergeo": [
           {
            "marker": {
             "colorbar": {
              "outlinewidth": 0,
              "ticks": ""
             }
            },
            "type": "scattergeo"
           }
          ],
          "scattergl": [
           {
            "marker": {
             "colorbar": {
              "outlinewidth": 0,
              "ticks": ""
             }
            },
            "type": "scattergl"
           }
          ],
          "scattermapbox": [
           {
            "marker": {
             "colorbar": {
              "outlinewidth": 0,
              "ticks": ""
             }
            },
            "type": "scattermapbox"
           }
          ],
          "scatterpolar": [
           {
            "marker": {
             "colorbar": {
              "outlinewidth": 0,
              "ticks": ""
             }
            },
            "type": "scatterpolar"
           }
          ],
          "scatterpolargl": [
           {
            "marker": {
             "colorbar": {
              "outlinewidth": 0,
              "ticks": ""
             }
            },
            "type": "scatterpolargl"
           }
          ],
          "scatterternary": [
           {
            "marker": {
             "colorbar": {
              "outlinewidth": 0,
              "ticks": ""
             }
            },
            "type": "scatterternary"
           }
          ],
          "surface": [
           {
            "colorbar": {
             "outlinewidth": 0,
             "ticks": ""
            },
            "colorscale": [
             [
              0,
              "#0d0887"
             ],
             [
              0.1111111111111111,
              "#46039f"
             ],
             [
              0.2222222222222222,
              "#7201a8"
             ],
             [
              0.3333333333333333,
              "#9c179e"
             ],
             [
              0.4444444444444444,
              "#bd3786"
             ],
             [
              0.5555555555555556,
              "#d8576b"
             ],
             [
              0.6666666666666666,
              "#ed7953"
             ],
             [
              0.7777777777777778,
              "#fb9f3a"
             ],
             [
              0.8888888888888888,
              "#fdca26"
             ],
             [
              1,
              "#f0f921"
             ]
            ],
            "type": "surface"
           }
          ],
          "table": [
           {
            "cells": {
             "fill": {
              "color": "#EBF0F8"
             },
             "line": {
              "color": "white"
             }
            },
            "header": {
             "fill": {
              "color": "#C8D4E3"
             },
             "line": {
              "color": "white"
             }
            },
            "type": "table"
           }
          ]
         },
         "layout": {
          "annotationdefaults": {
           "arrowcolor": "#2a3f5f",
           "arrowhead": 0,
           "arrowwidth": 1
          },
          "autotypenumbers": "strict",
          "coloraxis": {
           "colorbar": {
            "outlinewidth": 0,
            "ticks": ""
           }
          },
          "colorscale": {
           "diverging": [
            [
             0,
             "#8e0152"
            ],
            [
             0.1,
             "#c51b7d"
            ],
            [
             0.2,
             "#de77ae"
            ],
            [
             0.3,
             "#f1b6da"
            ],
            [
             0.4,
             "#fde0ef"
            ],
            [
             0.5,
             "#f7f7f7"
            ],
            [
             0.6,
             "#e6f5d0"
            ],
            [
             0.7,
             "#b8e186"
            ],
            [
             0.8,
             "#7fbc41"
            ],
            [
             0.9,
             "#4d9221"
            ],
            [
             1,
             "#276419"
            ]
           ],
           "sequential": [
            [
             0,
             "#0d0887"
            ],
            [
             0.1111111111111111,
             "#46039f"
            ],
            [
             0.2222222222222222,
             "#7201a8"
            ],
            [
             0.3333333333333333,
             "#9c179e"
            ],
            [
             0.4444444444444444,
             "#bd3786"
            ],
            [
             0.5555555555555556,
             "#d8576b"
            ],
            [
             0.6666666666666666,
             "#ed7953"
            ],
            [
             0.7777777777777778,
             "#fb9f3a"
            ],
            [
             0.8888888888888888,
             "#fdca26"
            ],
            [
             1,
             "#f0f921"
            ]
           ],
           "sequentialminus": [
            [
             0,
             "#0d0887"
            ],
            [
             0.1111111111111111,
             "#46039f"
            ],
            [
             0.2222222222222222,
             "#7201a8"
            ],
            [
             0.3333333333333333,
             "#9c179e"
            ],
            [
             0.4444444444444444,
             "#bd3786"
            ],
            [
             0.5555555555555556,
             "#d8576b"
            ],
            [
             0.6666666666666666,
             "#ed7953"
            ],
            [
             0.7777777777777778,
             "#fb9f3a"
            ],
            [
             0.8888888888888888,
             "#fdca26"
            ],
            [
             1,
             "#f0f921"
            ]
           ]
          },
          "colorway": [
           "#636efa",
           "#EF553B",
           "#00cc96",
           "#ab63fa",
           "#FFA15A",
           "#19d3f3",
           "#FF6692",
           "#B6E880",
           "#FF97FF",
           "#FECB52"
          ],
          "font": {
           "color": "#2a3f5f"
          },
          "geo": {
           "bgcolor": "white",
           "lakecolor": "white",
           "landcolor": "#E5ECF6",
           "showlakes": true,
           "showland": true,
           "subunitcolor": "white"
          },
          "hoverlabel": {
           "align": "left"
          },
          "hovermode": "closest",
          "mapbox": {
           "style": "light"
          },
          "paper_bgcolor": "white",
          "plot_bgcolor": "#E5ECF6",
          "polar": {
           "angularaxis": {
            "gridcolor": "white",
            "linecolor": "white",
            "ticks": ""
           },
           "bgcolor": "#E5ECF6",
           "radialaxis": {
            "gridcolor": "white",
            "linecolor": "white",
            "ticks": ""
           }
          },
          "scene": {
           "xaxis": {
            "backgroundcolor": "#E5ECF6",
            "gridcolor": "white",
            "gridwidth": 2,
            "linecolor": "white",
            "showbackground": true,
            "ticks": "",
            "zerolinecolor": "white"
           },
           "yaxis": {
            "backgroundcolor": "#E5ECF6",
            "gridcolor": "white",
            "gridwidth": 2,
            "linecolor": "white",
            "showbackground": true,
            "ticks": "",
            "zerolinecolor": "white"
           },
           "zaxis": {
            "backgroundcolor": "#E5ECF6",
            "gridcolor": "white",
            "gridwidth": 2,
            "linecolor": "white",
            "showbackground": true,
            "ticks": "",
            "zerolinecolor": "white"
           }
          },
          "shapedefaults": {
           "line": {
            "color": "#2a3f5f"
           }
          },
          "ternary": {
           "aaxis": {
            "gridcolor": "white",
            "linecolor": "white",
            "ticks": ""
           },
           "baxis": {
            "gridcolor": "white",
            "linecolor": "white",
            "ticks": ""
           },
           "bgcolor": "#E5ECF6",
           "caxis": {
            "gridcolor": "white",
            "linecolor": "white",
            "ticks": ""
           }
          },
          "title": {
           "x": 0.05
          },
          "xaxis": {
           "automargin": true,
           "gridcolor": "white",
           "linecolor": "white",
           "ticks": "",
           "title": {
            "standoff": 15
           },
           "zerolinecolor": "white",
           "zerolinewidth": 2
          },
          "yaxis": {
           "automargin": true,
           "gridcolor": "white",
           "linecolor": "white",
           "ticks": "",
           "title": {
            "standoff": 15
           },
           "zerolinecolor": "white",
           "zerolinewidth": 2
          }
         }
        },
        "title": {
         "text": "Series resistance (Rserie) performance between 5 annealing tests"
        },
        "width": 900,
        "xaxis": {
         "anchor": "y",
         "domain": [
          0,
          1
         ],
         "matches": "x2",
         "showticklabels": false
        },
        "xaxis2": {
         "anchor": "y2",
         "domain": [
          0,
          1
         ]
        },
        "yaxis": {
         "anchor": "x",
         "domain": [
          0.525,
          1
         ],
         "dtick": 2,
         "tick0": 8,
         "tickformat": ".1f",
         "title": {
          "text": "Rserie [mΩ]"
         }
        },
        "yaxis2": {
         "anchor": "x2",
         "domain": [
          0,
          0.475
         ],
         "dtick": 0.1,
         "tickformat": ".0%",
         "title": {
          "text": "PL of Rserie"
         }
        }
       }
      },
      "text/html": [
       "<div>                            <div id=\"e67e9efc-1339-45f4-9ce9-0a86da662602\" class=\"plotly-graph-div\" style=\"height:700px; width:900px;\"></div>            <script type=\"text/javascript\">                require([\"plotly\"], function(Plotly) {                    window.PLOTLYENV=window.PLOTLYENV || {};                                    if (document.getElementById(\"e67e9efc-1339-45f4-9ce9-0a86da662602\")) {                    Plotly.newPlot(                        \"e67e9efc-1339-45f4-9ce9-0a86da662602\",                        [{\"name\":\"Original measurments\",\"offsetgroup\":\"A\",\"x\":[\"2h annealing in cassettes\",\"2h annealing in cassettes\",\"2h annealing in cassettes\",\"2h annealing in cassettes\",\"2h annealing in cassettes\",\"2h annealing in cassettes\",\"2h annealing in cassettes\",\"2h annealing in cassettes\",\"2h annealing in cassettes\",\"2h annealing in cassettes\",\"2h annealing in cassettes\",\"2h annealing in cassettes\",\"1h annealing in cassettes \",\"1h annealing in cassettes \",\"1h annealing in cassettes \",\"1h annealing in cassettes \",\"1h annealing in cassettes \",\"1h annealing in cassettes \",\"1h annealing in cassettes \",\"1h annealing in cassettes \",\"1h annealing in cassettes \",\"1h annealing in cassettes \",\"1h annealing in cassettes \",\"1h annealing in cassettes \",\"30min annealing in cassettes\",\"30min annealing in cassettes\",\"30min annealing in cassettes\",\"30min annealing in cassettes\",\"30min annealing in cassettes\",\"30min annealing in cassettes\",\"30min annealing in cassettes\",\"30min annealing in cassettes\",\"30min annealing in cassettes\",\"30min annealing in cassettes\",\"30min annealing in cassettes\",\"15min annealing in cassettes\",\"15min annealing in cassettes\",\"15min annealing in cassettes\",\"15min annealing in cassettes\",\"15min annealing in cassettes\",\"15min annealing in cassettes\",\"15min annealing in cassettes\",\"15min annealing in cassettes\",\"15min annealing in cassettes\",\"15min annealing in cassettes\",\"15min annealing in cassettes\",\"15min annealing in cassettes\",\"15min annealing in coinstack\",\"15min annealing in coinstack\",\"15min annealing in coinstack\",\"15min annealing in coinstack\",\"15min annealing in coinstack\",\"15min annealing in coinstack\",\"15min annealing in coinstack\",\"15min annealing in coinstack\",\"15min annealing in coinstack\",\"15min annealing in coinstack\",\"15min annealing in coinstack\"],\"y\":[7.02443790435791,7.152323246002197,7.006228923797607,7.0422468185424805,7.064156532287598,7.117177963256836,7.173336982727051,6.916579246520996,7.224121570587158,7.093449592590332,7.242958068847656,6.974244594573975,6.996669769287109,7.080140590667725,6.950954437255859,7.085177898406982,6.8700127601623535,7.119457721710205,7.189582347869873,6.956051826477051,6.98298978805542,6.973007678985596,6.928560256958008,7.08842134475708,6.930480480194092,7.064884662628174,6.993000507354736,7.199956893920898,8.163949012756348,8.0596342086792,7.851443290710449,7.785426139831543,7.765776634216309,7.602531909942627,7.861936569213867,7.730679035186768,7.820740222930908,7.921412467956543,7.508064270019531,7.714256286621094,7.755561351776123,7.758546352386475,7.759148120880127,7.590147972106934,7.469647407531738,7.4663238525390625,7.532404899597168,7.601688385009766,7.719019889831543,7.485605239868164,7.441299915313721,7.408771991729736,7.328169345855713,7.32546329498291,7.466858863830566,7.499618053436279,7.51737642288208,7.331908702850342],\"type\":\"box\",\"xaxis\":\"x\",\"yaxis\":\"y\"},{\"name\":\"Remeasure before annealing\",\"offsetgroup\":\"B\",\"x\":[\"2h annealing in cassettes\",\"2h annealing in cassettes\",\"2h annealing in cassettes\",\"2h annealing in cassettes\",\"2h annealing in cassettes\",\"2h annealing in cassettes\",\"2h annealing in cassettes\",\"2h annealing in cassettes\",\"2h annealing in cassettes\",\"2h annealing in cassettes\",\"2h annealing in cassettes\",\"2h annealing in cassettes\",\"1h annealing in cassettes \",\"1h annealing in cassettes \",\"1h annealing in cassettes \",\"1h annealing in cassettes \",\"1h annealing in cassettes \",\"1h annealing in cassettes \",\"1h annealing in cassettes \",\"1h annealing in cassettes \",\"1h annealing in cassettes \",\"1h annealing in cassettes \",\"1h annealing in cassettes \",\"1h annealing in cassettes \",\"30min annealing in cassettes\",\"30min annealing in cassettes\",\"30min annealing in cassettes\",\"30min annealing in cassettes\",\"30min annealing in cassettes\",\"30min annealing in cassettes\",\"30min annealing in cassettes\",\"30min annealing in cassettes\",\"30min annealing in cassettes\",\"30min annealing in cassettes\",\"30min annealing in cassettes\",\"15min annealing in cassettes\",\"15min annealing in cassettes\",\"15min annealing in cassettes\",\"15min annealing in cassettes\",\"15min annealing in cassettes\",\"15min annealing in cassettes\",\"15min annealing in cassettes\",\"15min annealing in cassettes\",\"15min annealing in cassettes\",\"15min annealing in cassettes\",\"15min annealing in cassettes\",\"15min annealing in cassettes\",\"15min annealing in coinstack\",\"15min annealing in coinstack\",\"15min annealing in coinstack\",\"15min annealing in coinstack\",\"15min annealing in coinstack\",\"15min annealing in coinstack\",\"15min annealing in coinstack\",\"15min annealing in coinstack\",\"15min annealing in coinstack\",\"15min annealing in coinstack\",\"15min annealing in coinstack\"],\"y\":[7.349691867828369,7.528695583343506,7.603421688079834,7.727072238922119,7.600220680236816,7.803348064422607,7.705934047698975,7.619040489196777,7.7339677810668945,7.723789691925049,7.623419284820557,7.524164199829102,7.754034996032715,7.79969596862793,7.5429158210754395,7.513422966003418,7.466044902801514,7.593894958496094,6.976676940917969,7.666940212249756,7.746249198913574,7.5858073234558105,7.643207550048828,7.64028787612915,7.293406963348389,7.595602989196777,7.612393379211426,7.629526138305664,8.58478832244873,8.785407066345215,8.777337074279785,8.695643424987793,8.503057479858398,8.600318908691406,8.526958465576172,8.055413246154785,8.172263145446777,8.407238960266113,7.975746154785156,10.013508796691895,8.320152282714844,8.059309005737305,8.13770580291748,8.556507110595703,7.990084648132324,7.938075065612793,7.985619068145752,8.092244148254395,8.122149467468262,8.34549617767334,8.242680549621582,8.229090690612793,7.9472222328186035,7.971001625061035,7.956415176391602,7.864719390869141,7.910133361816406,8.005435943603516],\"type\":\"box\",\"xaxis\":\"x\",\"yaxis\":\"y\"},{\"name\":\"Remeasure after annealing\",\"offsetgroup\":\"C\",\"x\":[\"2h annealing in cassettes\",\"2h annealing in cassettes\",\"2h annealing in cassettes\",\"2h annealing in cassettes\",\"2h annealing in cassettes\",\"2h annealing in cassettes\",\"2h annealing in cassettes\",\"2h annealing in cassettes\",\"2h annealing in cassettes\",\"2h annealing in cassettes\",\"2h annealing in cassettes\",\"2h annealing in cassettes\",\"1h annealing in cassettes \",\"1h annealing in cassettes \",\"1h annealing in cassettes \",\"1h annealing in cassettes \",\"1h annealing in cassettes \",\"1h annealing in cassettes \",\"1h annealing in cassettes \",\"1h annealing in cassettes \",\"1h annealing in cassettes \",\"1h annealing in cassettes \",\"1h annealing in cassettes \",\"1h annealing in cassettes \",\"30min annealing in cassettes\",\"30min annealing in cassettes\",\"30min annealing in cassettes\",\"30min annealing in cassettes\",\"30min annealing in cassettes\",\"30min annealing in cassettes\",\"30min annealing in cassettes\",\"30min annealing in cassettes\",\"30min annealing in cassettes\",\"30min annealing in cassettes\",\"30min annealing in cassettes\",\"15min annealing in cassettes\",\"15min annealing in cassettes\",\"15min annealing in cassettes\",\"15min annealing in cassettes\",\"15min annealing in cassettes\",\"15min annealing in cassettes\",\"15min annealing in cassettes\",\"15min annealing in cassettes\",\"15min annealing in cassettes\",\"15min annealing in cassettes\",\"15min annealing in cassettes\",\"15min annealing in cassettes\",\"15min annealing in coinstack\",\"15min annealing in coinstack\",\"15min annealing in coinstack\",\"15min annealing in coinstack\",\"15min annealing in coinstack\",\"15min annealing in coinstack\",\"15min annealing in coinstack\",\"15min annealing in coinstack\",\"15min annealing in coinstack\",\"15min annealing in coinstack\",\"15min annealing in coinstack\"],\"y\":[8.154294967651367,7.4150896072387695,7.6675286293029785,7.646421909332275,7.478048324584961,7.283314228057861,7.412342071533203,7.361865997314453,7.562859058380127,7.842207431793213,7.43189811706543,7.659599781036377,7.299529552459717,7.544885158538818,7.317422866821289,7.25031042098999,8.457035064697266,7.823800563812256,7.558879852294922,7.4970879554748535,7.576037406921387,7.4526686668396,7.439107418060303,7.550581932067871,7.330586910247803,7.452946186065674,7.742351055145264,7.748349666595459,9.541975021362305,8.512079238891602,8.369943618774414,8.903918266296387,8.225367546081543,8.175938606262207,8.274027824401855,8.118851661682129,7.992000102996826,8.228752136230469,7.836369037628174,8.07104206085205,7.920470237731934,7.744726181030273,7.939650535583496,7.883940696716309,7.910133361816406,7.737834453582764,7.841001033782959,8.074299812316895,7.938098907470703,7.971319198608398,8.08995246887207,7.963702201843262,7.952910900115967,7.592741966247559,7.729783058166504,7.854241847991943,7.7534565925598145,7.668726921081543],\"type\":\"box\",\"xaxis\":\"x\",\"yaxis\":\"y\"},{\"name\":\"Performance loss before annealing\",\"offsetgroup\":\"B\",\"x\":[\"2h annealing in cassettes\",\"2h annealing in cassettes\",\"2h annealing in cassettes\",\"2h annealing in cassettes\",\"2h annealing in cassettes\",\"2h annealing in cassettes\",\"2h annealing in cassettes\",\"2h annealing in cassettes\",\"2h annealing in cassettes\",\"2h annealing in cassettes\",\"2h annealing in cassettes\",\"2h annealing in cassettes\",\"1h annealing in cassettes \",\"1h annealing in cassettes \",\"1h annealing in cassettes \",\"1h annealing in cassettes \",\"1h annealing in cassettes \",\"1h annealing in cassettes \",\"1h annealing in cassettes \",\"1h annealing in cassettes \",\"1h annealing in cassettes \",\"1h annealing in cassettes \",\"1h annealing in cassettes \",\"1h annealing in cassettes \",\"30min annealing in cassettes\",\"30min annealing in cassettes\",\"30min annealing in cassettes\",\"30min annealing in cassettes\",\"30min annealing in cassettes\",\"30min annealing in cassettes\",\"30min annealing in cassettes\",\"30min annealing in cassettes\",\"30min annealing in cassettes\",\"30min annealing in cassettes\",\"30min annealing in cassettes\",\"15min annealing in cassettes\",\"15min annealing in cassettes\",\"15min annealing in cassettes\",\"15min annealing in cassettes\",\"15min annealing in cassettes\",\"15min annealing in cassettes\",\"15min annealing in cassettes\",\"15min annealing in cassettes\",\"15min annealing in cassettes\",\"15min annealing in cassettes\",\"15min annealing in cassettes\",\"15min annealing in cassettes\",\"15min annealing in coinstack\",\"15min annealing in coinstack\",\"15min annealing in coinstack\",\"15min annealing in coinstack\",\"15min annealing in coinstack\",\"15min annealing in coinstack\",\"15min annealing in coinstack\",\"15min annealing in coinstack\",\"15min annealing in coinstack\",\"15min annealing in coinstack\",\"15min annealing in coinstack\"],\"y\":[-0.04630320146593848,-0.05262238917287226,-0.08523740385555777,-0.09724530224877515,-0.07588508911135697,-0.09641041782405825,-0.07424676496509008,-0.10156194523891499,-0.07057553025624087,-0.08886227936167429,-0.05252843000835309,-0.07885006007431535,-0.10824653038080621,-0.10163009741764806,-0.08516260452618911,-0.06044238743712015,-0.08675852046380692,-0.06663951881322802,0.029613042406417923,-0.10219710886379929,-0.1093026674854557,-0.08788168214943977,-0.10314513644781188,-0.07785464555944548,-0.05236671312926531,-0.07512059317486063,-0.0885732628226262,-0.059662752251678275,-0.051548498041182306,-0.09005034705972768,-0.11792657085924836,-0.11691296902804409,-0.0949397440036586,-0.13124403956054018,-0.08458754284108931,-0.04200591041096977,-0.04494752574509272,-0.06133079097633419,-0.06229060753157463,-0.2980523882851048,-0.07279820316416195,-0.03876533562995568,-0.0487885623704801,-0.1273175624559688,-0.06967360200641098,-0.06318386697267393,-0.06016858819854756,-0.06453247468180698,-0.05222548761245859,-0.11487260017739329,-0.10769363463750078,-0.1107226271504592,-0.08447578893806303,-0.08812252605514298,-0.06556388991526864,-0.04868265754754992,-0.05224654411861252,-0.09186246965832164],\"type\":\"box\",\"xaxis\":\"x2\",\"yaxis\":\"y2\"},{\"name\":\"Performance loss after annealing\",\"offsetgroup\":\"C\",\"x\":[\"2h annealing in cassettes\",\"2h annealing in cassettes\",\"2h annealing in cassettes\",\"2h annealing in cassettes\",\"2h annealing in cassettes\",\"2h annealing in cassettes\",\"2h annealing in cassettes\",\"2h annealing in cassettes\",\"2h annealing in cassettes\",\"2h annealing in cassettes\",\"2h annealing in cassettes\",\"2h annealing in cassettes\",\"1h annealing in cassettes \",\"1h annealing in cassettes \",\"1h annealing in cassettes \",\"1h annealing in cassettes \",\"1h annealing in cassettes \",\"1h annealing in cassettes \",\"1h annealing in cassettes \",\"1h annealing in cassettes \",\"1h annealing in cassettes \",\"1h annealing in cassettes \",\"1h annealing in cassettes \",\"1h annealing in cassettes \",\"30min annealing in cassettes\",\"30min annealing in cassettes\",\"30min annealing in cassettes\",\"30min annealing in cassettes\",\"30min annealing in cassettes\",\"30min annealing in cassettes\",\"30min annealing in cassettes\",\"30min annealing in cassettes\",\"30min annealing in cassettes\",\"30min annealing in cassettes\",\"30min annealing in cassettes\",\"15min annealing in cassettes\",\"15min annealing in cassettes\",\"15min annealing in cassettes\",\"15min annealing in cassettes\",\"15min annealing in cassettes\",\"15min annealing in cassettes\",\"15min annealing in cassettes\",\"15min annealing in cassettes\",\"15min annealing in cassettes\",\"15min annealing in cassettes\",\"15min annealing in cassettes\",\"15min annealing in cassettes\",\"15min annealing in coinstack\",\"15min annealing in coinstack\",\"15min annealing in coinstack\",\"15min annealing in coinstack\",\"15min annealing in coinstack\",\"15min annealing in coinstack\",\"15min annealing in coinstack\",\"15min annealing in coinstack\",\"15min annealing in coinstack\",\"15min annealing in coinstack\",\"15min annealing in coinstack\"],\"y\":[-0.16084661558364718,-0.03673860257692435,-0.09438739622954324,-0.08579294454704156,-0.05859040501234929,-0.023342997134358726,-0.03331853632161179,-0.06437962104134555,-0.04688978230545434,-0.10555623599341814,-0.026086033692561957,-0.09826945085860839,-0.04328627663721591,-0.06564058466348391,-0.052722030172032947,-0.023306757423851826,-0.23100718440258142,-0.09893209140834067,-0.05136564080588967,-0.07777919752386533,-0.08492746472011024,-0.06878824890721805,-0.07368733794146884,-0.06519936736726663,-0.057731412879256205,-0.05492821779388244,-0.10715722771683116,-0.07616611887462578,-0.16879404886688557,-0.05613716683632822,-0.06603885538821075,-0.14366485615250407,-0.05918157751798568,-0.07542312260073201,-0.05241599847061527,-0.05021197034937867,-0.021898167588251187,-0.03879859425540166,-0.04372695222117332,-0.04625018420113082,-0.021263307512620514,0.0017812835972746601,-0.023263174241722633,-0.03870711423400902,-0.058970113347053106,-0.03636469652349314,-0.04096913778523705,-0.06217190226306833,-0.028381714358290278,-0.06488639771615698,-0.08716925281071712,-0.07490178004303316,-0.08525206293350233,-0.03648624810497696,-0.03521215535618883,-0.04728558068276258,-0.03140459601825071,-0.0459386814377899],\"type\":\"box\",\"xaxis\":\"x2\",\"yaxis\":\"y2\"}],                        {\"template\":{\"data\":{\"histogram2dcontour\":[{\"type\":\"histogram2dcontour\",\"colorbar\":{\"outlinewidth\":0,\"ticks\":\"\"},\"colorscale\":[[0.0,\"#0d0887\"],[0.1111111111111111,\"#46039f\"],[0.2222222222222222,\"#7201a8\"],[0.3333333333333333,\"#9c179e\"],[0.4444444444444444,\"#bd3786\"],[0.5555555555555556,\"#d8576b\"],[0.6666666666666666,\"#ed7953\"],[0.7777777777777778,\"#fb9f3a\"],[0.8888888888888888,\"#fdca26\"],[1.0,\"#f0f921\"]]}],\"choropleth\":[{\"type\":\"choropleth\",\"colorbar\":{\"outlinewidth\":0,\"ticks\":\"\"}}],\"histogram2d\":[{\"type\":\"histogram2d\",\"colorbar\":{\"outlinewidth\":0,\"ticks\":\"\"},\"colorscale\":[[0.0,\"#0d0887\"],[0.1111111111111111,\"#46039f\"],[0.2222222222222222,\"#7201a8\"],[0.3333333333333333,\"#9c179e\"],[0.4444444444444444,\"#bd3786\"],[0.5555555555555556,\"#d8576b\"],[0.6666666666666666,\"#ed7953\"],[0.7777777777777778,\"#fb9f3a\"],[0.8888888888888888,\"#fdca26\"],[1.0,\"#f0f921\"]]}],\"heatmap\":[{\"type\":\"heatmap\",\"colorbar\":{\"outlinewidth\":0,\"ticks\":\"\"},\"colorscale\":[[0.0,\"#0d0887\"],[0.1111111111111111,\"#46039f\"],[0.2222222222222222,\"#7201a8\"],[0.3333333333333333,\"#9c179e\"],[0.4444444444444444,\"#bd3786\"],[0.5555555555555556,\"#d8576b\"],[0.6666666666666666,\"#ed7953\"],[0.7777777777777778,\"#fb9f3a\"],[0.8888888888888888,\"#fdca26\"],[1.0,\"#f0f921\"]]}],\"heatmapgl\":[{\"type\":\"heatmapgl\",\"colorbar\":{\"outlinewidth\":0,\"ticks\":\"\"},\"colorscale\":[[0.0,\"#0d0887\"],[0.1111111111111111,\"#46039f\"],[0.2222222222222222,\"#7201a8\"],[0.3333333333333333,\"#9c179e\"],[0.4444444444444444,\"#bd3786\"],[0.5555555555555556,\"#d8576b\"],[0.6666666666666666,\"#ed7953\"],[0.7777777777777778,\"#fb9f3a\"],[0.8888888888888888,\"#fdca26\"],[1.0,\"#f0f921\"]]}],\"contourcarpet\":[{\"type\":\"contourcarpet\",\"colorbar\":{\"outlinewidth\":0,\"ticks\":\"\"}}],\"contour\":[{\"type\":\"contour\",\"colorbar\":{\"outlinewidth\":0,\"ticks\":\"\"},\"colorscale\":[[0.0,\"#0d0887\"],[0.1111111111111111,\"#46039f\"],[0.2222222222222222,\"#7201a8\"],[0.3333333333333333,\"#9c179e\"],[0.4444444444444444,\"#bd3786\"],[0.5555555555555556,\"#d8576b\"],[0.6666666666666666,\"#ed7953\"],[0.7777777777777778,\"#fb9f3a\"],[0.8888888888888888,\"#fdca26\"],[1.0,\"#f0f921\"]]}],\"surface\":[{\"type\":\"surface\",\"colorbar\":{\"outlinewidth\":0,\"ticks\":\"\"},\"colorscale\":[[0.0,\"#0d0887\"],[0.1111111111111111,\"#46039f\"],[0.2222222222222222,\"#7201a8\"],[0.3333333333333333,\"#9c179e\"],[0.4444444444444444,\"#bd3786\"],[0.5555555555555556,\"#d8576b\"],[0.6666666666666666,\"#ed7953\"],[0.7777777777777778,\"#fb9f3a\"],[0.8888888888888888,\"#fdca26\"],[1.0,\"#f0f921\"]]}],\"mesh3d\":[{\"type\":\"mesh3d\",\"colorbar\":{\"outlinewidth\":0,\"ticks\":\"\"}}],\"scatter\":[{\"fillpattern\":{\"fillmode\":\"overlay\",\"size\":10,\"solidity\":0.2},\"type\":\"scatter\"}],\"parcoords\":[{\"type\":\"parcoords\",\"line\":{\"colorbar\":{\"outlinewidth\":0,\"ticks\":\"\"}}}],\"scatterpolargl\":[{\"type\":\"scatterpolargl\",\"marker\":{\"colorbar\":{\"outlinewidth\":0,\"ticks\":\"\"}}}],\"bar\":[{\"error_x\":{\"color\":\"#2a3f5f\"},\"error_y\":{\"color\":\"#2a3f5f\"},\"marker\":{\"line\":{\"color\":\"#E5ECF6\",\"width\":0.5},\"pattern\":{\"fillmode\":\"overlay\",\"size\":10,\"solidity\":0.2}},\"type\":\"bar\"}],\"scattergeo\":[{\"type\":\"scattergeo\",\"marker\":{\"colorbar\":{\"outlinewidth\":0,\"ticks\":\"\"}}}],\"scatterpolar\":[{\"type\":\"scatterpolar\",\"marker\":{\"colorbar\":{\"outlinewidth\":0,\"ticks\":\"\"}}}],\"histogram\":[{\"marker\":{\"pattern\":{\"fillmode\":\"overlay\",\"size\":10,\"solidity\":0.2}},\"type\":\"histogram\"}],\"scattergl\":[{\"type\":\"scattergl\",\"marker\":{\"colorbar\":{\"outlinewidth\":0,\"ticks\":\"\"}}}],\"scatter3d\":[{\"type\":\"scatter3d\",\"line\":{\"colorbar\":{\"outlinewidth\":0,\"ticks\":\"\"}},\"marker\":{\"colorbar\":{\"outlinewidth\":0,\"ticks\":\"\"}}}],\"scattermapbox\":[{\"type\":\"scattermapbox\",\"marker\":{\"colorbar\":{\"outlinewidth\":0,\"ticks\":\"\"}}}],\"scatterternary\":[{\"type\":\"scatterternary\",\"marker\":{\"colorbar\":{\"outlinewidth\":0,\"ticks\":\"\"}}}],\"scattercarpet\":[{\"type\":\"scattercarpet\",\"marker\":{\"colorbar\":{\"outlinewidth\":0,\"ticks\":\"\"}}}],\"carpet\":[{\"aaxis\":{\"endlinecolor\":\"#2a3f5f\",\"gridcolor\":\"white\",\"linecolor\":\"white\",\"minorgridcolor\":\"white\",\"startlinecolor\":\"#2a3f5f\"},\"baxis\":{\"endlinecolor\":\"#2a3f5f\",\"gridcolor\":\"white\",\"linecolor\":\"white\",\"minorgridcolor\":\"white\",\"startlinecolor\":\"#2a3f5f\"},\"type\":\"carpet\"}],\"table\":[{\"cells\":{\"fill\":{\"color\":\"#EBF0F8\"},\"line\":{\"color\":\"white\"}},\"header\":{\"fill\":{\"color\":\"#C8D4E3\"},\"line\":{\"color\":\"white\"}},\"type\":\"table\"}],\"barpolar\":[{\"marker\":{\"line\":{\"color\":\"#E5ECF6\",\"width\":0.5},\"pattern\":{\"fillmode\":\"overlay\",\"size\":10,\"solidity\":0.2}},\"type\":\"barpolar\"}],\"pie\":[{\"automargin\":true,\"type\":\"pie\"}]},\"layout\":{\"autotypenumbers\":\"strict\",\"colorway\":[\"#636efa\",\"#EF553B\",\"#00cc96\",\"#ab63fa\",\"#FFA15A\",\"#19d3f3\",\"#FF6692\",\"#B6E880\",\"#FF97FF\",\"#FECB52\"],\"font\":{\"color\":\"#2a3f5f\"},\"hovermode\":\"closest\",\"hoverlabel\":{\"align\":\"left\"},\"paper_bgcolor\":\"white\",\"plot_bgcolor\":\"#E5ECF6\",\"polar\":{\"bgcolor\":\"#E5ECF6\",\"angularaxis\":{\"gridcolor\":\"white\",\"linecolor\":\"white\",\"ticks\":\"\"},\"radialaxis\":{\"gridcolor\":\"white\",\"linecolor\":\"white\",\"ticks\":\"\"}},\"ternary\":{\"bgcolor\":\"#E5ECF6\",\"aaxis\":{\"gridcolor\":\"white\",\"linecolor\":\"white\",\"ticks\":\"\"},\"baxis\":{\"gridcolor\":\"white\",\"linecolor\":\"white\",\"ticks\":\"\"},\"caxis\":{\"gridcolor\":\"white\",\"linecolor\":\"white\",\"ticks\":\"\"}},\"coloraxis\":{\"colorbar\":{\"outlinewidth\":0,\"ticks\":\"\"}},\"colorscale\":{\"sequential\":[[0.0,\"#0d0887\"],[0.1111111111111111,\"#46039f\"],[0.2222222222222222,\"#7201a8\"],[0.3333333333333333,\"#9c179e\"],[0.4444444444444444,\"#bd3786\"],[0.5555555555555556,\"#d8576b\"],[0.6666666666666666,\"#ed7953\"],[0.7777777777777778,\"#fb9f3a\"],[0.8888888888888888,\"#fdca26\"],[1.0,\"#f0f921\"]],\"sequentialminus\":[[0.0,\"#0d0887\"],[0.1111111111111111,\"#46039f\"],[0.2222222222222222,\"#7201a8\"],[0.3333333333333333,\"#9c179e\"],[0.4444444444444444,\"#bd3786\"],[0.5555555555555556,\"#d8576b\"],[0.6666666666666666,\"#ed7953\"],[0.7777777777777778,\"#fb9f3a\"],[0.8888888888888888,\"#fdca26\"],[1.0,\"#f0f921\"]],\"diverging\":[[0,\"#8e0152\"],[0.1,\"#c51b7d\"],[0.2,\"#de77ae\"],[0.3,\"#f1b6da\"],[0.4,\"#fde0ef\"],[0.5,\"#f7f7f7\"],[0.6,\"#e6f5d0\"],[0.7,\"#b8e186\"],[0.8,\"#7fbc41\"],[0.9,\"#4d9221\"],[1,\"#276419\"]]},\"xaxis\":{\"gridcolor\":\"white\",\"linecolor\":\"white\",\"ticks\":\"\",\"title\":{\"standoff\":15},\"zerolinecolor\":\"white\",\"automargin\":true,\"zerolinewidth\":2},\"yaxis\":{\"gridcolor\":\"white\",\"linecolor\":\"white\",\"ticks\":\"\",\"title\":{\"standoff\":15},\"zerolinecolor\":\"white\",\"automargin\":true,\"zerolinewidth\":2},\"scene\":{\"xaxis\":{\"backgroundcolor\":\"#E5ECF6\",\"gridcolor\":\"white\",\"linecolor\":\"white\",\"showbackground\":true,\"ticks\":\"\",\"zerolinecolor\":\"white\",\"gridwidth\":2},\"yaxis\":{\"backgroundcolor\":\"#E5ECF6\",\"gridcolor\":\"white\",\"linecolor\":\"white\",\"showbackground\":true,\"ticks\":\"\",\"zerolinecolor\":\"white\",\"gridwidth\":2},\"zaxis\":{\"backgroundcolor\":\"#E5ECF6\",\"gridcolor\":\"white\",\"linecolor\":\"white\",\"showbackground\":true,\"ticks\":\"\",\"zerolinecolor\":\"white\",\"gridwidth\":2}},\"shapedefaults\":{\"line\":{\"color\":\"#2a3f5f\"}},\"annotationdefaults\":{\"arrowcolor\":\"#2a3f5f\",\"arrowhead\":0,\"arrowwidth\":1},\"geo\":{\"bgcolor\":\"white\",\"landcolor\":\"#E5ECF6\",\"subunitcolor\":\"white\",\"showland\":true,\"showlakes\":true,\"lakecolor\":\"white\"},\"title\":{\"x\":0.05},\"mapbox\":{\"style\":\"light\"}}},\"xaxis\":{\"anchor\":\"y\",\"domain\":[0.0,1.0],\"matches\":\"x2\",\"showticklabels\":false},\"yaxis\":{\"anchor\":\"x\",\"domain\":[0.525,1.0],\"title\":{\"text\":\"Rserie [m\\u03a9]\"},\"tick0\":8,\"dtick\":2.0,\"tickformat\":\".1f\"},\"xaxis2\":{\"anchor\":\"y2\",\"domain\":[0.0,1.0]},\"yaxis2\":{\"anchor\":\"x2\",\"domain\":[0.0,0.475],\"title\":{\"text\":\"PL of Rserie\"},\"dtick\":0.1,\"tickformat\":\".0%\"},\"shapes\":[{\"line\":{\"color\":\"grey\",\"dash\":\"dash\",\"width\":1},\"type\":\"line\",\"x0\":0.5,\"x1\":0.5,\"xref\":\"x\",\"y0\":0,\"y1\":1,\"yref\":\"y domain\"},{\"line\":{\"color\":\"grey\",\"dash\":\"dash\",\"width\":1},\"type\":\"line\",\"x0\":0.5,\"x1\":0.5,\"xref\":\"x2\",\"y0\":0,\"y1\":1,\"yref\":\"y2 domain\"},{\"line\":{\"color\":\"grey\",\"dash\":\"dash\",\"width\":1},\"type\":\"line\",\"x0\":1.5,\"x1\":1.5,\"xref\":\"x\",\"y0\":0,\"y1\":1,\"yref\":\"y domain\"},{\"line\":{\"color\":\"grey\",\"dash\":\"dash\",\"width\":1},\"type\":\"line\",\"x0\":1.5,\"x1\":1.5,\"xref\":\"x2\",\"y0\":0,\"y1\":1,\"yref\":\"y2 domain\"},{\"line\":{\"color\":\"grey\",\"dash\":\"dash\",\"width\":1},\"type\":\"line\",\"x0\":2.5,\"x1\":2.5,\"xref\":\"x\",\"y0\":0,\"y1\":1,\"yref\":\"y domain\"},{\"line\":{\"color\":\"grey\",\"dash\":\"dash\",\"width\":1},\"type\":\"line\",\"x0\":2.5,\"x1\":2.5,\"xref\":\"x2\",\"y0\":0,\"y1\":1,\"yref\":\"y2 domain\"},{\"line\":{\"color\":\"grey\",\"dash\":\"dash\",\"width\":1},\"type\":\"line\",\"x0\":3.5,\"x1\":3.5,\"xref\":\"x\",\"y0\":0,\"y1\":1,\"yref\":\"y domain\"},{\"line\":{\"color\":\"grey\",\"dash\":\"dash\",\"width\":1},\"type\":\"line\",\"x0\":3.5,\"x1\":3.5,\"xref\":\"x2\",\"y0\":0,\"y1\":1,\"yref\":\"y2 domain\"}],\"title\":{\"text\":\"Series resistance (Rserie) performance between 5 annealing tests\"},\"boxmode\":\"group\",\"height\":700,\"width\":900},                        {\"responsive\": true}                    ).then(function(){\n",
       "                            \n",
       "var gd = document.getElementById('e67e9efc-1339-45f4-9ce9-0a86da662602');\n",
       "var x = new MutationObserver(function (mutations, observer) {{\n",
       "        var display = window.getComputedStyle(gd).display;\n",
       "        if (!display || display === 'none') {{\n",
       "            console.log([gd, 'removed!']);\n",
       "            Plotly.purge(gd);\n",
       "            observer.disconnect();\n",
       "        }}\n",
       "}});\n",
       "\n",
       "// Listen for the removal of the full notebook cells\n",
       "var notebookContainer = gd.closest('#notebook-container');\n",
       "if (notebookContainer) {{\n",
       "    x.observe(notebookContainer, {childList: true});\n",
       "}}\n",
       "\n",
       "// Listen for the clearing of the current output cell\n",
       "var outputEl = gd.closest('.output');\n",
       "if (outputEl) {{\n",
       "    x.observe(outputEl, {childList: true});\n",
       "}}\n",
       "\n",
       "                        })                };                });            </script>        </div>"
      ]
     },
     "metadata": {},
     "output_type": "display_data"
    }
   ],
   "source": [
    "Annealing_test_wide_Rserie = Annealing_test_wide[Annealing_test_wide['Rserie_PLaA'] > -0.3]\n",
    "Annealing_test_wide_Rserie = Annealing_test_wide_Rserie[Annealing_test_wide_Rserie['Rserie_PLbA'] > -0.3]\n",
    "\n",
    "fig_Rserie = make_subplots(rows=2, cols=1,shared_xaxes = True, vertical_spacing=0.05)\n",
    "\n",
    "fig_Rserie.add_trace(\n",
    "    go.Box(y=Annealing_test_wide_Rserie['Rserie [mΩ]'], x = Annealing_test_wide_Rserie[\"Notes\"], \n",
    "           name = \"Original measurments\", offsetgroup = \"A\"),\n",
    "    row=1, col=1\n",
    ")\n",
    "\n",
    "fig_Rserie.add_trace(\n",
    "    go.Box(y=Annealing_test_wide_Rserie['Rserie [mΩ].1'], x = Annealing_test_wide_Rserie[\"Notes\"], \n",
    "           name = \"Remeasure before annealing\", offsetgroup = \"B\"),\n",
    "    row=1, col=1\n",
    ")\n",
    "\n",
    "fig_Rserie.add_trace(\n",
    "    go.Box(y=Annealing_test_wide_Rserie['Rserie [mΩ].2'], x = Annealing_test_wide_Rserie[\"Notes\"], \n",
    "           name = \"Remeasure after annealing\", offsetgroup = \"C\"),\n",
    "    row=1, col=1\n",
    ")\n",
    "\n",
    "fig_Rserie.add_trace(\n",
    "    go.Box(y=Annealing_test_wide_Rserie['Rserie_PLbA'], x = Annealing_test_wide_Rserie[\"Notes\"], \n",
    "           name = \"Performance loss before annealing\", offsetgroup = \"B\"),\n",
    "    row=2, col=1\n",
    ")\n",
    "\n",
    "fig_Rserie.add_trace(\n",
    "    go.Box(y=Annealing_test_wide_Rserie['Rserie_PLaA'], x = Annealing_test_wide_Rserie[\"Notes\"], \n",
    "           name = \"Performance loss after annealing\", offsetgroup = \"C\"),\n",
    "    row=2, col=1\n",
    ")\n",
    "\n",
    "vx = 0.5\n",
    "fig_Rserie.add_vline(x=vx, line_width=1, line_dash=\"dash\", line_color=\"grey\")\n",
    "fig_Rserie.add_vline(x=vx+1, line_width=1, line_dash=\"dash\", line_color=\"grey\")\n",
    "fig_Rserie.add_vline(x=vx+2, line_width=1, line_dash=\"dash\", line_color=\"grey\")\n",
    "fig_Rserie.add_vline(x=vx+3, line_width=1, line_dash=\"dash\", line_color=\"grey\")\n",
    "\n",
    "fig_Rserie.update_layout(title=\"Series resistance (Rserie) performance between 5 annealing tests\",\n",
    "                         boxmode='group', height=700, width=900,\n",
    "                     yaxis=dict(title=\"Rserie [mΩ]\", tick0 = 8, dtick=2.0, tickformat=\".1f\"),\n",
    "                     yaxis2=dict(title=\"PL of Rserie\", dtick=0.1,tickformat=\".0%\")\n",
    "                    )\n",
    "fig_Rserie.show()\n",
    "fig_Rserie.write_image(\"2.4 Series resistance (Rserie) performance between 5 annealing tests.png\", scale=3, width=900, height=600) "
   ]
  },
  {
   "cell_type": "markdown",
   "id": "ac7a8d68",
   "metadata": {},
   "source": [
    "Conclusion : 15 min annealing in cassettes is good, increase in annealing time does not improve performance of solar cells."
   ]
  },
  {
   "cell_type": "markdown",
   "id": "59f4204d",
   "metadata": {},
   "source": [
    "# Section 6: Shunt Resistance Rshunt"
   ]
  },
  {
   "cell_type": "code",
   "execution_count": null,
   "id": "225786a2",
   "metadata": {},
   "outputs": [],
   "source": [
    "Significant power losses caused by the presence of a shunt resistance, RSH, are typically due to manufacturing defects, rather than poor solar cell design. \n",
    "The higher the better."
   ]
  },
  {
   "cell_type": "code",
   "execution_count": 129,
   "id": "a9940590",
   "metadata": {},
   "outputs": [
    {
     "data": {
      "application/vnd.plotly.v1+json": {
       "config": {
        "plotlyServerURL": "https://plot.ly"
       },
       "data": [
        {
         "name": "Original measurments",
         "offsetgroup": "A",
         "type": "box",
         "x": [
          "2h annealing in cassettes",
          "2h annealing in cassettes",
          "2h annealing in cassettes",
          "2h annealing in cassettes",
          "2h annealing in cassettes",
          "2h annealing in cassettes",
          "2h annealing in cassettes",
          "2h annealing in cassettes",
          "2h annealing in cassettes",
          "2h annealing in cassettes",
          "2h annealing in cassettes",
          "1h annealing in cassettes ",
          "1h annealing in cassettes ",
          "1h annealing in cassettes ",
          "1h annealing in cassettes ",
          "1h annealing in cassettes ",
          "1h annealing in cassettes ",
          "1h annealing in cassettes ",
          "1h annealing in cassettes ",
          "1h annealing in cassettes ",
          "1h annealing in cassettes ",
          "1h annealing in cassettes ",
          "1h annealing in cassettes ",
          "30min annealing in cassettes",
          "30min annealing in cassettes",
          "30min annealing in cassettes",
          "30min annealing in cassettes",
          "30min annealing in cassettes",
          "30min annealing in cassettes",
          "30min annealing in cassettes",
          "30min annealing in cassettes",
          "30min annealing in cassettes",
          "30min annealing in cassettes",
          "30min annealing in cassettes",
          "15min annealing in cassettes",
          "15min annealing in cassettes",
          "15min annealing in cassettes",
          "15min annealing in cassettes",
          "15min annealing in cassettes",
          "15min annealing in cassettes",
          "15min annealing in cassettes",
          "15min annealing in cassettes",
          "15min annealing in cassettes",
          "15min annealing in cassettes",
          "15min annealing in cassettes",
          "15min annealing in cassettes",
          "15min annealing in coinstack",
          "15min annealing in coinstack",
          "15min annealing in coinstack",
          "15min annealing in coinstack",
          "15min annealing in coinstack",
          "15min annealing in coinstack",
          "15min annealing in coinstack",
          "15min annealing in coinstack",
          "15min annealing in coinstack",
          "15min annealing in coinstack",
          "15min annealing in coinstack",
          "15min annealing in coinstack",
          "15min annealing in coinstack",
          "15min annealing in coinstack"
         ],
         "xaxis": "x",
         "y": [
          2307.690185546875,
          1470.584716796875,
          2000.017822265625,
          1910.8447265625,
          1875.024169921875,
          1818.1822509765625,
          1840.4681396484375,
          1886.7764892578125,
          2027.01708984375,
          2439.021484375,
          1923.1104736328125,
          2189.77978515625,
          1271.1810302734375,
          1621.6346435546875,
          2027.01708984375,
          2499.982421875,
          1851.8443603515625,
          1357.4677734375,
          1923.0517578125,
          1785.7220458984375,
          1807.214599609375,
          1948.0604248046875,
          1898.734375,
          1973.6661376953125,
          1898.734375,
          2173.96533203125,
          2325.60400390625,
          1807.2664794921875,
          2054.82275390625,
          1500.00146484375,
          2142.86669921875,
          1863.3621826171875,
          1840.468017578125,
          1923.0517578125,
          1775.141357421875,
          1807.214599609375,
          1485.1300048828125,
          1724.1116943359375,
          1829.2838134765625,
          1578.9429931640625,
          1923.0518798828125,
          1910.8447265625,
          1630.417724609375,
          2142.866455078125,
          2040.8250732421875,
          1775.141357421875,
          1522.8388671875,
          2586.203125,
          1840.52197265625,
          1923.110595703125,
          2000.017822265625,
          2362.189453125,
          2479.3916015625,
          2586.202880859375,
          1428.5452880859375,
          1485.1650390625,
          2040.8250732421875,
          2054.82275390625,
          2027.017333984375,
          1408.4298095703125
         ],
         "yaxis": "y"
        },
        {
         "name": "Remeasure before annealing",
         "offsetgroup": "B",
         "type": "box",
         "x": [
          "2h annealing in cassettes",
          "2h annealing in cassettes",
          "2h annealing in cassettes",
          "2h annealing in cassettes",
          "2h annealing in cassettes",
          "2h annealing in cassettes",
          "2h annealing in cassettes",
          "2h annealing in cassettes",
          "2h annealing in cassettes",
          "2h annealing in cassettes",
          "2h annealing in cassettes",
          "1h annealing in cassettes ",
          "1h annealing in cassettes ",
          "1h annealing in cassettes ",
          "1h annealing in cassettes ",
          "1h annealing in cassettes ",
          "1h annealing in cassettes ",
          "1h annealing in cassettes ",
          "1h annealing in cassettes ",
          "1h annealing in cassettes ",
          "1h annealing in cassettes ",
          "1h annealing in cassettes ",
          "1h annealing in cassettes ",
          "30min annealing in cassettes",
          "30min annealing in cassettes",
          "30min annealing in cassettes",
          "30min annealing in cassettes",
          "30min annealing in cassettes",
          "30min annealing in cassettes",
          "30min annealing in cassettes",
          "30min annealing in cassettes",
          "30min annealing in cassettes",
          "30min annealing in cassettes",
          "30min annealing in cassettes",
          "15min annealing in cassettes",
          "15min annealing in cassettes",
          "15min annealing in cassettes",
          "15min annealing in cassettes",
          "15min annealing in cassettes",
          "15min annealing in cassettes",
          "15min annealing in cassettes",
          "15min annealing in cassettes",
          "15min annealing in cassettes",
          "15min annealing in cassettes",
          "15min annealing in cassettes",
          "15min annealing in cassettes",
          "15min annealing in coinstack",
          "15min annealing in coinstack",
          "15min annealing in coinstack",
          "15min annealing in coinstack",
          "15min annealing in coinstack",
          "15min annealing in coinstack",
          "15min annealing in coinstack",
          "15min annealing in coinstack",
          "15min annealing in coinstack",
          "15min annealing in coinstack",
          "15min annealing in coinstack",
          "15min annealing in coinstack",
          "15min annealing in coinstack",
          "15min annealing in coinstack"
         ],
         "xaxis": "x",
         "y": [
          1463.4356689453125,
          1621.634765625,
          1369.8519287109375,
          1604.267578125,
          1785.72216796875,
          1724.1116943359375,
          1492.5286865234375,
          1271.1810302734375,
          1840.468017578125,
          1310.0377197265625,
          1874.96826171875,
          1562.5123291015625,
          1265.8355712890625,
          1395.3416748046875,
          1470.5848388671875,
          1538.44140625,
          1401.870849609375,
          1023.9000244140625,
          1639.3392333984375,
          1204.8212890625,
          1538.47900390625,
          1685.406982421875,
          1507.5494384765625,
          1685.4071044921875,
          1209.68603515625,
          1401.870849609375,
          1428.57763671875,
          1345.27685546875,
          1744.186767578125,
          1428.57763671875,
          1492.5286865234375,
          1408.4613037109375,
          1357.4385986328125,
          1785.72216796875,
          1554.4053955078125,
          1442.2998046875,
          1382.4945068359375,
          1449.2769775390625,
          1477.8388671875,
          1315.791259765625,
          1382.49462890625,
          1807.214599609375,
          1449.2769775390625,
          1369.8817138671875,
          1351.3448486328125,
          1260.509765625,
          1401.839599609375,
          1333.3309326171875,
          1408.4613037109375,
          1685.406982421875,
          1428.57763671875,
          1639.3818359375,
          1630.417724609375,
          2027.0823974609375,
          1327.4234619140625,
          1604.267578125,
          1562.512451171875,
          1714.293212890625,
          1492.528564453125,
          1369.8519287109375
         ],
         "yaxis": "y"
        },
        {
         "name": "Remeasure after annealing",
         "offsetgroup": "C",
         "type": "box",
         "x": [
          "2h annealing in cassettes",
          "2h annealing in cassettes",
          "2h annealing in cassettes",
          "2h annealing in cassettes",
          "2h annealing in cassettes",
          "2h annealing in cassettes",
          "2h annealing in cassettes",
          "2h annealing in cassettes",
          "2h annealing in cassettes",
          "2h annealing in cassettes",
          "2h annealing in cassettes",
          "1h annealing in cassettes ",
          "1h annealing in cassettes ",
          "1h annealing in cassettes ",
          "1h annealing in cassettes ",
          "1h annealing in cassettes ",
          "1h annealing in cassettes ",
          "1h annealing in cassettes ",
          "1h annealing in cassettes ",
          "1h annealing in cassettes ",
          "1h annealing in cassettes ",
          "1h annealing in cassettes ",
          "1h annealing in cassettes ",
          "30min annealing in cassettes",
          "30min annealing in cassettes",
          "30min annealing in cassettes",
          "30min annealing in cassettes",
          "30min annealing in cassettes",
          "30min annealing in cassettes",
          "30min annealing in cassettes",
          "30min annealing in cassettes",
          "30min annealing in cassettes",
          "30min annealing in cassettes",
          "30min annealing in cassettes",
          "15min annealing in cassettes",
          "15min annealing in cassettes",
          "15min annealing in cassettes",
          "15min annealing in cassettes",
          "15min annealing in cassettes",
          "15min annealing in cassettes",
          "15min annealing in cassettes",
          "15min annealing in cassettes",
          "15min annealing in cassettes",
          "15min annealing in cassettes",
          "15min annealing in cassettes",
          "15min annealing in cassettes",
          "15min annealing in coinstack",
          "15min annealing in coinstack",
          "15min annealing in coinstack",
          "15min annealing in coinstack",
          "15min annealing in coinstack",
          "15min annealing in coinstack",
          "15min annealing in coinstack",
          "15min annealing in coinstack",
          "15min annealing in coinstack",
          "15min annealing in coinstack",
          "15min annealing in coinstack",
          "15min annealing in coinstack",
          "15min annealing in coinstack",
          "15min annealing in coinstack"
         ],
         "xaxis": "x",
         "y": [
          1764.7347412109375,
          1734.091064453125,
          1140.6864013671875,
          1435.3896484375,
          1492.528564453125,
          1604.2674560546875,
          1796.4296875,
          1595.76318359375,
          1657.478271484375,
          1851.8443603515625,
          1630.417724609375,
          1515.13720703125,
          1038.0740966796875,
          1754.3516845703125,
          1562.512451171875,
          1351.373779296875,
          1630.417724609375,
          1132.06591796875,
          1477.8389892578125,
          1376.1441650390625,
          1829.2838134765625,
          2380.962890625,
          1554.4053955078125,
          2205.903076171875,
          1369.8817138671875,
          1796.37841796875,
          1675.9786376953125,
          1515.173828125,
          1714.2930908203125,
          1546.3822021484375,
          1923.0517578125,
          1840.5218505859375,
          1829.230712890625,
          2027.01708984375,
          1546.3822021484375,
          1973.6661376953125,
          1775.141357421875,
          1666.69921875,
          1807.214599609375,
          1714.293212890625,
          1948.0604248046875,
          1898.7342529296875,
          1818.1822509765625,
          2068.9453125,
          2040.8250732421875,
          2112.644775390625,
          1388.873046875,
          1477.8389892578125,
          1415.1141357421875,
          1382.464111328125,
          1293.1015625,
          1415.082275390625,
          1546.420166015625,
          1339.2630615234375,
          1442.3328857421875,
          1515.173828125,
          1570.6650390625,
          1310.0377197265625,
          1428.5452880859375,
          1149.4183349609375
         ],
         "yaxis": "y"
        },
        {
         "name": "Performance loss before annealing",
         "offsetgroup": "B",
         "type": "box",
         "x": [
          "2h annealing in cassettes",
          "2h annealing in cassettes",
          "2h annealing in cassettes",
          "2h annealing in cassettes",
          "2h annealing in cassettes",
          "2h annealing in cassettes",
          "2h annealing in cassettes",
          "2h annealing in cassettes",
          "2h annealing in cassettes",
          "2h annealing in cassettes",
          "2h annealing in cassettes",
          "1h annealing in cassettes ",
          "1h annealing in cassettes ",
          "1h annealing in cassettes ",
          "1h annealing in cassettes ",
          "1h annealing in cassettes ",
          "1h annealing in cassettes ",
          "1h annealing in cassettes ",
          "1h annealing in cassettes ",
          "1h annealing in cassettes ",
          "1h annealing in cassettes ",
          "1h annealing in cassettes ",
          "1h annealing in cassettes ",
          "30min annealing in cassettes",
          "30min annealing in cassettes",
          "30min annealing in cassettes",
          "30min annealing in cassettes",
          "30min annealing in cassettes",
          "30min annealing in cassettes",
          "30min annealing in cassettes",
          "30min annealing in cassettes",
          "30min annealing in cassettes",
          "30min annealing in cassettes",
          "30min annealing in cassettes",
          "15min annealing in cassettes",
          "15min annealing in cassettes",
          "15min annealing in cassettes",
          "15min annealing in cassettes",
          "15min annealing in cassettes",
          "15min annealing in cassettes",
          "15min annealing in cassettes",
          "15min annealing in cassettes",
          "15min annealing in cassettes",
          "15min annealing in cassettes",
          "15min annealing in cassettes",
          "15min annealing in cassettes",
          "15min annealing in coinstack",
          "15min annealing in coinstack",
          "15min annealing in coinstack",
          "15min annealing in coinstack",
          "15min annealing in coinstack",
          "15min annealing in coinstack",
          "15min annealing in coinstack",
          "15min annealing in coinstack",
          "15min annealing in coinstack",
          "15min annealing in coinstack",
          "15min annealing in coinstack",
          "15min annealing in coinstack",
          "15min annealing in coinstack",
          "15min annealing in coinstack"
         ],
         "xaxis": "x2",
         "y": [
          0.36584396028944915,
          -0.10271427895506195,
          0.31508013905637805,
          0.16044063872683925,
          0.04762712043165068,
          0.05173879383659082,
          0.1890494302126103,
          0.32626835371821244,
          0.09203132682024151,
          0.46288389498862487,
          0.025033513453400543,
          0.2864523000471161,
          0.004205112298777118,
          0.13954621014629834,
          0.2745079228806376,
          0.38461911060312143,
          0.24298667878155944,
          0.24572793222099684,
          0.1475324432956447,
          0.3253030101578172,
          0.14870154090234305,
          0.13482818039853467,
          0.20602404510817238,
          0.1460525808786133,
          0.36289875451575476,
          0.3551549194671226,
          0.38571758806778395,
          0.25562894529712576,
          0.1511741028454163,
          0.04761583891682397,
          0.3034897191376458,
          0.24412907117569513,
          0.2624492326581864,
          0.07141232121592216,
          0.1243483855475308,
          0.20192111938490892,
          0.0691087633469325,
          0.15940656147728927,
          0.19212160721038674,
          0.16666322630882616,
          0.28109343103603796,
          0.054232625766275445,
          0.11110082056652767,
          0.3607246449628873,
          0.33784386209741235,
          0.28991020328899314,
          0.07945638254006222,
          0.4844446208697596,
          0.2347489871700692,
          0.12360371463417638,
          0.28571754670643196,
          0.30599053612371335,
          0.3424121774140503,
          0.21619358927194687,
          0.07078657359709255,
          -0.08019481736365316,
          0.2343721803213805,
          0.165722099567115,
          0.2636823872051654,
          0.027390701756834047
         ],
         "yaxis": "y2"
        },
        {
         "name": "Performance loss after annealing",
         "offsetgroup": "C",
         "type": "box",
         "x": [
          "2h annealing in cassettes",
          "2h annealing in cassettes",
          "2h annealing in cassettes",
          "2h annealing in cassettes",
          "2h annealing in cassettes",
          "2h annealing in cassettes",
          "2h annealing in cassettes",
          "2h annealing in cassettes",
          "2h annealing in cassettes",
          "2h annealing in cassettes",
          "2h annealing in cassettes",
          "1h annealing in cassettes ",
          "1h annealing in cassettes ",
          "1h annealing in cassettes ",
          "1h annealing in cassettes ",
          "1h annealing in cassettes ",
          "1h annealing in cassettes ",
          "1h annealing in cassettes ",
          "1h annealing in cassettes ",
          "1h annealing in cassettes ",
          "1h annealing in cassettes ",
          "1h annealing in cassettes ",
          "1h annealing in cassettes ",
          "30min annealing in cassettes",
          "30min annealing in cassettes",
          "30min annealing in cassettes",
          "30min annealing in cassettes",
          "30min annealing in cassettes",
          "30min annealing in cassettes",
          "30min annealing in cassettes",
          "30min annealing in cassettes",
          "30min annealing in cassettes",
          "30min annealing in cassettes",
          "30min annealing in cassettes",
          "15min annealing in cassettes",
          "15min annealing in cassettes",
          "15min annealing in cassettes",
          "15min annealing in cassettes",
          "15min annealing in cassettes",
          "15min annealing in cassettes",
          "15min annealing in cassettes",
          "15min annealing in cassettes",
          "15min annealing in cassettes",
          "15min annealing in cassettes",
          "15min annealing in cassettes",
          "15min annealing in cassettes",
          "15min annealing in coinstack",
          "15min annealing in coinstack",
          "15min annealing in coinstack",
          "15min annealing in coinstack",
          "15min annealing in coinstack",
          "15min annealing in coinstack",
          "15min annealing in coinstack",
          "15min annealing in coinstack",
          "15min annealing in coinstack",
          "15min annealing in coinstack",
          "15min annealing in coinstack",
          "15min annealing in coinstack",
          "15min annealing in coinstack",
          "15min annealing in coinstack"
         ],
         "xaxis": "x2",
         "y": [
          0.23528090890903897,
          -0.17918474511975152,
          0.4296618816751267,
          0.24881931614627653,
          0.2039950266266099,
          0.11765310920122522,
          0.023927853571455812,
          0.15423835696539567,
          0.1823067107874559,
          0.2407429076722142,
          0.15219757420931324,
          0.30808695134468117,
          0.18337823491875702,
          -0.08184151808986023,
          0.22915674514992904,
          0.4594466875157716,
          0.11957086701398106,
          0.16604582434982415,
          0.23151366922184333,
          0.22936261653941054,
          -0.0122117284089879,
          -0.22222229880970726,
          0.18134657697561699,
          -0.11766779296712766,
          0.278529039183173,
          0.17368580285026933,
          0.27933619185372077,
          0.16162124107412248,
          0.1657221589738508,
          -0.030920461340695305,
          0.10257984852085783,
          0.012257591274697647,
          0.006105677784223161,
          -0.05406268011710309,
          0.12886813453869142,
          -0.09210391401326416,
          -0.19527674451769392,
          0.033299742571522094,
          0.012064401217897869,
          -0.08572204336227023,
          -0.013004612711436042,
          0.006337759141004904,
          -0.11516344770612282,
          0.03449638329208433,
          0,
          -0.19012762930548968,
          0.08797110659509154,
          0.42856809081544495,
          0.23113434299298904,
          0.28113124933271433,
          0.3534549801985407,
          0.4009446306186081,
          0.37629047180724545,
          0.4821508121287024,
          -0.009651494965709884,
          -0.020205693154104164,
          0.23037742937603206,
          0.3624570697223591,
          0.29524762115480296,
          0.1839008751798536
         ],
         "yaxis": "y2"
        }
       ],
       "layout": {
        "boxmode": "group",
        "height": 700,
        "shapes": [
         {
          "line": {
           "color": "grey",
           "dash": "dash",
           "width": 1
          },
          "type": "line",
          "x0": 0.5,
          "x1": 0.5,
          "xref": "x",
          "y0": 0,
          "y1": 1,
          "yref": "y domain"
         },
         {
          "line": {
           "color": "grey",
           "dash": "dash",
           "width": 1
          },
          "type": "line",
          "x0": 0.5,
          "x1": 0.5,
          "xref": "x2",
          "y0": 0,
          "y1": 1,
          "yref": "y2 domain"
         },
         {
          "line": {
           "color": "grey",
           "dash": "dash",
           "width": 1
          },
          "type": "line",
          "x0": 1.5,
          "x1": 1.5,
          "xref": "x",
          "y0": 0,
          "y1": 1,
          "yref": "y domain"
         },
         {
          "line": {
           "color": "grey",
           "dash": "dash",
           "width": 1
          },
          "type": "line",
          "x0": 1.5,
          "x1": 1.5,
          "xref": "x2",
          "y0": 0,
          "y1": 1,
          "yref": "y2 domain"
         },
         {
          "line": {
           "color": "grey",
           "dash": "dash",
           "width": 1
          },
          "type": "line",
          "x0": 2.5,
          "x1": 2.5,
          "xref": "x",
          "y0": 0,
          "y1": 1,
          "yref": "y domain"
         },
         {
          "line": {
           "color": "grey",
           "dash": "dash",
           "width": 1
          },
          "type": "line",
          "x0": 2.5,
          "x1": 2.5,
          "xref": "x2",
          "y0": 0,
          "y1": 1,
          "yref": "y2 domain"
         },
         {
          "line": {
           "color": "grey",
           "dash": "dash",
           "width": 1
          },
          "type": "line",
          "x0": 3.5,
          "x1": 3.5,
          "xref": "x",
          "y0": 0,
          "y1": 1,
          "yref": "y domain"
         },
         {
          "line": {
           "color": "grey",
           "dash": "dash",
           "width": 1
          },
          "type": "line",
          "x0": 3.5,
          "x1": 3.5,
          "xref": "x2",
          "y0": 0,
          "y1": 1,
          "yref": "y2 domain"
         }
        ],
        "template": {
         "data": {
          "bar": [
           {
            "error_x": {
             "color": "#2a3f5f"
            },
            "error_y": {
             "color": "#2a3f5f"
            },
            "marker": {
             "line": {
              "color": "#E5ECF6",
              "width": 0.5
             },
             "pattern": {
              "fillmode": "overlay",
              "size": 10,
              "solidity": 0.2
             }
            },
            "type": "bar"
           }
          ],
          "barpolar": [
           {
            "marker": {
             "line": {
              "color": "#E5ECF6",
              "width": 0.5
             },
             "pattern": {
              "fillmode": "overlay",
              "size": 10,
              "solidity": 0.2
             }
            },
            "type": "barpolar"
           }
          ],
          "carpet": [
           {
            "aaxis": {
             "endlinecolor": "#2a3f5f",
             "gridcolor": "white",
             "linecolor": "white",
             "minorgridcolor": "white",
             "startlinecolor": "#2a3f5f"
            },
            "baxis": {
             "endlinecolor": "#2a3f5f",
             "gridcolor": "white",
             "linecolor": "white",
             "minorgridcolor": "white",
             "startlinecolor": "#2a3f5f"
            },
            "type": "carpet"
           }
          ],
          "choropleth": [
           {
            "colorbar": {
             "outlinewidth": 0,
             "ticks": ""
            },
            "type": "choropleth"
           }
          ],
          "contour": [
           {
            "colorbar": {
             "outlinewidth": 0,
             "ticks": ""
            },
            "colorscale": [
             [
              0,
              "#0d0887"
             ],
             [
              0.1111111111111111,
              "#46039f"
             ],
             [
              0.2222222222222222,
              "#7201a8"
             ],
             [
              0.3333333333333333,
              "#9c179e"
             ],
             [
              0.4444444444444444,
              "#bd3786"
             ],
             [
              0.5555555555555556,
              "#d8576b"
             ],
             [
              0.6666666666666666,
              "#ed7953"
             ],
             [
              0.7777777777777778,
              "#fb9f3a"
             ],
             [
              0.8888888888888888,
              "#fdca26"
             ],
             [
              1,
              "#f0f921"
             ]
            ],
            "type": "contour"
           }
          ],
          "contourcarpet": [
           {
            "colorbar": {
             "outlinewidth": 0,
             "ticks": ""
            },
            "type": "contourcarpet"
           }
          ],
          "heatmap": [
           {
            "colorbar": {
             "outlinewidth": 0,
             "ticks": ""
            },
            "colorscale": [
             [
              0,
              "#0d0887"
             ],
             [
              0.1111111111111111,
              "#46039f"
             ],
             [
              0.2222222222222222,
              "#7201a8"
             ],
             [
              0.3333333333333333,
              "#9c179e"
             ],
             [
              0.4444444444444444,
              "#bd3786"
             ],
             [
              0.5555555555555556,
              "#d8576b"
             ],
             [
              0.6666666666666666,
              "#ed7953"
             ],
             [
              0.7777777777777778,
              "#fb9f3a"
             ],
             [
              0.8888888888888888,
              "#fdca26"
             ],
             [
              1,
              "#f0f921"
             ]
            ],
            "type": "heatmap"
           }
          ],
          "heatmapgl": [
           {
            "colorbar": {
             "outlinewidth": 0,
             "ticks": ""
            },
            "colorscale": [
             [
              0,
              "#0d0887"
             ],
             [
              0.1111111111111111,
              "#46039f"
             ],
             [
              0.2222222222222222,
              "#7201a8"
             ],
             [
              0.3333333333333333,
              "#9c179e"
             ],
             [
              0.4444444444444444,
              "#bd3786"
             ],
             [
              0.5555555555555556,
              "#d8576b"
             ],
             [
              0.6666666666666666,
              "#ed7953"
             ],
             [
              0.7777777777777778,
              "#fb9f3a"
             ],
             [
              0.8888888888888888,
              "#fdca26"
             ],
             [
              1,
              "#f0f921"
             ]
            ],
            "type": "heatmapgl"
           }
          ],
          "histogram": [
           {
            "marker": {
             "pattern": {
              "fillmode": "overlay",
              "size": 10,
              "solidity": 0.2
             }
            },
            "type": "histogram"
           }
          ],
          "histogram2d": [
           {
            "colorbar": {
             "outlinewidth": 0,
             "ticks": ""
            },
            "colorscale": [
             [
              0,
              "#0d0887"
             ],
             [
              0.1111111111111111,
              "#46039f"
             ],
             [
              0.2222222222222222,
              "#7201a8"
             ],
             [
              0.3333333333333333,
              "#9c179e"
             ],
             [
              0.4444444444444444,
              "#bd3786"
             ],
             [
              0.5555555555555556,
              "#d8576b"
             ],
             [
              0.6666666666666666,
              "#ed7953"
             ],
             [
              0.7777777777777778,
              "#fb9f3a"
             ],
             [
              0.8888888888888888,
              "#fdca26"
             ],
             [
              1,
              "#f0f921"
             ]
            ],
            "type": "histogram2d"
           }
          ],
          "histogram2dcontour": [
           {
            "colorbar": {
             "outlinewidth": 0,
             "ticks": ""
            },
            "colorscale": [
             [
              0,
              "#0d0887"
             ],
             [
              0.1111111111111111,
              "#46039f"
             ],
             [
              0.2222222222222222,
              "#7201a8"
             ],
             [
              0.3333333333333333,
              "#9c179e"
             ],
             [
              0.4444444444444444,
              "#bd3786"
             ],
             [
              0.5555555555555556,
              "#d8576b"
             ],
             [
              0.6666666666666666,
              "#ed7953"
             ],
             [
              0.7777777777777778,
              "#fb9f3a"
             ],
             [
              0.8888888888888888,
              "#fdca26"
             ],
             [
              1,
              "#f0f921"
             ]
            ],
            "type": "histogram2dcontour"
           }
          ],
          "mesh3d": [
           {
            "colorbar": {
             "outlinewidth": 0,
             "ticks": ""
            },
            "type": "mesh3d"
           }
          ],
          "parcoords": [
           {
            "line": {
             "colorbar": {
              "outlinewidth": 0,
              "ticks": ""
             }
            },
            "type": "parcoords"
           }
          ],
          "pie": [
           {
            "automargin": true,
            "type": "pie"
           }
          ],
          "scatter": [
           {
            "fillpattern": {
             "fillmode": "overlay",
             "size": 10,
             "solidity": 0.2
            },
            "type": "scatter"
           }
          ],
          "scatter3d": [
           {
            "line": {
             "colorbar": {
              "outlinewidth": 0,
              "ticks": ""
             }
            },
            "marker": {
             "colorbar": {
              "outlinewidth": 0,
              "ticks": ""
             }
            },
            "type": "scatter3d"
           }
          ],
          "scattercarpet": [
           {
            "marker": {
             "colorbar": {
              "outlinewidth": 0,
              "ticks": ""
             }
            },
            "type": "scattercarpet"
           }
          ],
          "scattergeo": [
           {
            "marker": {
             "colorbar": {
              "outlinewidth": 0,
              "ticks": ""
             }
            },
            "type": "scattergeo"
           }
          ],
          "scattergl": [
           {
            "marker": {
             "colorbar": {
              "outlinewidth": 0,
              "ticks": ""
             }
            },
            "type": "scattergl"
           }
          ],
          "scattermapbox": [
           {
            "marker": {
             "colorbar": {
              "outlinewidth": 0,
              "ticks": ""
             }
            },
            "type": "scattermapbox"
           }
          ],
          "scatterpolar": [
           {
            "marker": {
             "colorbar": {
              "outlinewidth": 0,
              "ticks": ""
             }
            },
            "type": "scatterpolar"
           }
          ],
          "scatterpolargl": [
           {
            "marker": {
             "colorbar": {
              "outlinewidth": 0,
              "ticks": ""
             }
            },
            "type": "scatterpolargl"
           }
          ],
          "scatterternary": [
           {
            "marker": {
             "colorbar": {
              "outlinewidth": 0,
              "ticks": ""
             }
            },
            "type": "scatterternary"
           }
          ],
          "surface": [
           {
            "colorbar": {
             "outlinewidth": 0,
             "ticks": ""
            },
            "colorscale": [
             [
              0,
              "#0d0887"
             ],
             [
              0.1111111111111111,
              "#46039f"
             ],
             [
              0.2222222222222222,
              "#7201a8"
             ],
             [
              0.3333333333333333,
              "#9c179e"
             ],
             [
              0.4444444444444444,
              "#bd3786"
             ],
             [
              0.5555555555555556,
              "#d8576b"
             ],
             [
              0.6666666666666666,
              "#ed7953"
             ],
             [
              0.7777777777777778,
              "#fb9f3a"
             ],
             [
              0.8888888888888888,
              "#fdca26"
             ],
             [
              1,
              "#f0f921"
             ]
            ],
            "type": "surface"
           }
          ],
          "table": [
           {
            "cells": {
             "fill": {
              "color": "#EBF0F8"
             },
             "line": {
              "color": "white"
             }
            },
            "header": {
             "fill": {
              "color": "#C8D4E3"
             },
             "line": {
              "color": "white"
             }
            },
            "type": "table"
           }
          ]
         },
         "layout": {
          "annotationdefaults": {
           "arrowcolor": "#2a3f5f",
           "arrowhead": 0,
           "arrowwidth": 1
          },
          "autotypenumbers": "strict",
          "coloraxis": {
           "colorbar": {
            "outlinewidth": 0,
            "ticks": ""
           }
          },
          "colorscale": {
           "diverging": [
            [
             0,
             "#8e0152"
            ],
            [
             0.1,
             "#c51b7d"
            ],
            [
             0.2,
             "#de77ae"
            ],
            [
             0.3,
             "#f1b6da"
            ],
            [
             0.4,
             "#fde0ef"
            ],
            [
             0.5,
             "#f7f7f7"
            ],
            [
             0.6,
             "#e6f5d0"
            ],
            [
             0.7,
             "#b8e186"
            ],
            [
             0.8,
             "#7fbc41"
            ],
            [
             0.9,
             "#4d9221"
            ],
            [
             1,
             "#276419"
            ]
           ],
           "sequential": [
            [
             0,
             "#0d0887"
            ],
            [
             0.1111111111111111,
             "#46039f"
            ],
            [
             0.2222222222222222,
             "#7201a8"
            ],
            [
             0.3333333333333333,
             "#9c179e"
            ],
            [
             0.4444444444444444,
             "#bd3786"
            ],
            [
             0.5555555555555556,
             "#d8576b"
            ],
            [
             0.6666666666666666,
             "#ed7953"
            ],
            [
             0.7777777777777778,
             "#fb9f3a"
            ],
            [
             0.8888888888888888,
             "#fdca26"
            ],
            [
             1,
             "#f0f921"
            ]
           ],
           "sequentialminus": [
            [
             0,
             "#0d0887"
            ],
            [
             0.1111111111111111,
             "#46039f"
            ],
            [
             0.2222222222222222,
             "#7201a8"
            ],
            [
             0.3333333333333333,
             "#9c179e"
            ],
            [
             0.4444444444444444,
             "#bd3786"
            ],
            [
             0.5555555555555556,
             "#d8576b"
            ],
            [
             0.6666666666666666,
             "#ed7953"
            ],
            [
             0.7777777777777778,
             "#fb9f3a"
            ],
            [
             0.8888888888888888,
             "#fdca26"
            ],
            [
             1,
             "#f0f921"
            ]
           ]
          },
          "colorway": [
           "#636efa",
           "#EF553B",
           "#00cc96",
           "#ab63fa",
           "#FFA15A",
           "#19d3f3",
           "#FF6692",
           "#B6E880",
           "#FF97FF",
           "#FECB52"
          ],
          "font": {
           "color": "#2a3f5f"
          },
          "geo": {
           "bgcolor": "white",
           "lakecolor": "white",
           "landcolor": "#E5ECF6",
           "showlakes": true,
           "showland": true,
           "subunitcolor": "white"
          },
          "hoverlabel": {
           "align": "left"
          },
          "hovermode": "closest",
          "mapbox": {
           "style": "light"
          },
          "paper_bgcolor": "white",
          "plot_bgcolor": "#E5ECF6",
          "polar": {
           "angularaxis": {
            "gridcolor": "white",
            "linecolor": "white",
            "ticks": ""
           },
           "bgcolor": "#E5ECF6",
           "radialaxis": {
            "gridcolor": "white",
            "linecolor": "white",
            "ticks": ""
           }
          },
          "scene": {
           "xaxis": {
            "backgroundcolor": "#E5ECF6",
            "gridcolor": "white",
            "gridwidth": 2,
            "linecolor": "white",
            "showbackground": true,
            "ticks": "",
            "zerolinecolor": "white"
           },
           "yaxis": {
            "backgroundcolor": "#E5ECF6",
            "gridcolor": "white",
            "gridwidth": 2,
            "linecolor": "white",
            "showbackground": true,
            "ticks": "",
            "zerolinecolor": "white"
           },
           "zaxis": {
            "backgroundcolor": "#E5ECF6",
            "gridcolor": "white",
            "gridwidth": 2,
            "linecolor": "white",
            "showbackground": true,
            "ticks": "",
            "zerolinecolor": "white"
           }
          },
          "shapedefaults": {
           "line": {
            "color": "#2a3f5f"
           }
          },
          "ternary": {
           "aaxis": {
            "gridcolor": "white",
            "linecolor": "white",
            "ticks": ""
           },
           "baxis": {
            "gridcolor": "white",
            "linecolor": "white",
            "ticks": ""
           },
           "bgcolor": "#E5ECF6",
           "caxis": {
            "gridcolor": "white",
            "linecolor": "white",
            "ticks": ""
           }
          },
          "title": {
           "x": 0.05
          },
          "xaxis": {
           "automargin": true,
           "gridcolor": "white",
           "linecolor": "white",
           "ticks": "",
           "title": {
            "standoff": 15
           },
           "zerolinecolor": "white",
           "zerolinewidth": 2
          },
          "yaxis": {
           "automargin": true,
           "gridcolor": "white",
           "linecolor": "white",
           "ticks": "",
           "title": {
            "standoff": 15
           },
           "zerolinecolor": "white",
           "zerolinewidth": 2
          }
         }
        },
        "title": {
         "text": "Shunt resistance (Rshunt) performance between 5 annealing tests"
        },
        "width": 900,
        "xaxis": {
         "anchor": "y",
         "domain": [
          0,
          1
         ],
         "matches": "x2",
         "showticklabels": false
        },
        "xaxis2": {
         "anchor": "y2",
         "domain": [
          0,
          1
         ]
        },
        "yaxis": {
         "anchor": "x",
         "domain": [
          0.525,
          1
         ],
         "tickformat": ".1f",
         "title": {
          "text": "Rshunt [mΩ]"
         }
        },
        "yaxis2": {
         "anchor": "x2",
         "domain": [
          0,
          0.475
         ],
         "dtick": 0.1,
         "tickformat": ".0%",
         "title": {
          "text": "PL of Rshunt"
         }
        }
       }
      },
      "text/html": [
       "<div>                            <div id=\"db76df7a-f7a4-478d-a03c-740ce1bd59b8\" class=\"plotly-graph-div\" style=\"height:700px; width:900px;\"></div>            <script type=\"text/javascript\">                require([\"plotly\"], function(Plotly) {                    window.PLOTLYENV=window.PLOTLYENV || {};                                    if (document.getElementById(\"db76df7a-f7a4-478d-a03c-740ce1bd59b8\")) {                    Plotly.newPlot(                        \"db76df7a-f7a4-478d-a03c-740ce1bd59b8\",                        [{\"name\":\"Original measurments\",\"offsetgroup\":\"A\",\"x\":[\"2h annealing in cassettes\",\"2h annealing in cassettes\",\"2h annealing in cassettes\",\"2h annealing in cassettes\",\"2h annealing in cassettes\",\"2h annealing in cassettes\",\"2h annealing in cassettes\",\"2h annealing in cassettes\",\"2h annealing in cassettes\",\"2h annealing in cassettes\",\"2h annealing in cassettes\",\"1h annealing in cassettes \",\"1h annealing in cassettes \",\"1h annealing in cassettes \",\"1h annealing in cassettes \",\"1h annealing in cassettes \",\"1h annealing in cassettes \",\"1h annealing in cassettes \",\"1h annealing in cassettes \",\"1h annealing in cassettes \",\"1h annealing in cassettes \",\"1h annealing in cassettes \",\"1h annealing in cassettes \",\"30min annealing in cassettes\",\"30min annealing in cassettes\",\"30min annealing in cassettes\",\"30min annealing in cassettes\",\"30min annealing in cassettes\",\"30min annealing in cassettes\",\"30min annealing in cassettes\",\"30min annealing in cassettes\",\"30min annealing in cassettes\",\"30min annealing in cassettes\",\"30min annealing in cassettes\",\"15min annealing in cassettes\",\"15min annealing in cassettes\",\"15min annealing in cassettes\",\"15min annealing in cassettes\",\"15min annealing in cassettes\",\"15min annealing in cassettes\",\"15min annealing in cassettes\",\"15min annealing in cassettes\",\"15min annealing in cassettes\",\"15min annealing in cassettes\",\"15min annealing in cassettes\",\"15min annealing in cassettes\",\"15min annealing in coinstack\",\"15min annealing in coinstack\",\"15min annealing in coinstack\",\"15min annealing in coinstack\",\"15min annealing in coinstack\",\"15min annealing in coinstack\",\"15min annealing in coinstack\",\"15min annealing in coinstack\",\"15min annealing in coinstack\",\"15min annealing in coinstack\",\"15min annealing in coinstack\",\"15min annealing in coinstack\",\"15min annealing in coinstack\",\"15min annealing in coinstack\"],\"y\":[2307.690185546875,1470.584716796875,2000.017822265625,1910.8447265625,1875.024169921875,1818.1822509765625,1840.4681396484375,1886.7764892578125,2027.01708984375,2439.021484375,1923.1104736328125,2189.77978515625,1271.1810302734375,1621.6346435546875,2027.01708984375,2499.982421875,1851.8443603515625,1357.4677734375,1923.0517578125,1785.7220458984375,1807.214599609375,1948.0604248046875,1898.734375,1973.6661376953125,1898.734375,2173.96533203125,2325.60400390625,1807.2664794921875,2054.82275390625,1500.00146484375,2142.86669921875,1863.3621826171875,1840.468017578125,1923.0517578125,1775.141357421875,1807.214599609375,1485.1300048828125,1724.1116943359375,1829.2838134765625,1578.9429931640625,1923.0518798828125,1910.8447265625,1630.417724609375,2142.866455078125,2040.8250732421875,1775.141357421875,1522.8388671875,2586.203125,1840.52197265625,1923.110595703125,2000.017822265625,2362.189453125,2479.3916015625,2586.202880859375,1428.5452880859375,1485.1650390625,2040.8250732421875,2054.82275390625,2027.017333984375,1408.4298095703125],\"type\":\"box\",\"xaxis\":\"x\",\"yaxis\":\"y\"},{\"name\":\"Remeasure before annealing\",\"offsetgroup\":\"B\",\"x\":[\"2h annealing in cassettes\",\"2h annealing in cassettes\",\"2h annealing in cassettes\",\"2h annealing in cassettes\",\"2h annealing in cassettes\",\"2h annealing in cassettes\",\"2h annealing in cassettes\",\"2h annealing in cassettes\",\"2h annealing in cassettes\",\"2h annealing in cassettes\",\"2h annealing in cassettes\",\"1h annealing in cassettes \",\"1h annealing in cassettes \",\"1h annealing in cassettes \",\"1h annealing in cassettes \",\"1h annealing in cassettes \",\"1h annealing in cassettes \",\"1h annealing in cassettes \",\"1h annealing in cassettes \",\"1h annealing in cassettes \",\"1h annealing in cassettes \",\"1h annealing in cassettes \",\"1h annealing in cassettes \",\"30min annealing in cassettes\",\"30min annealing in cassettes\",\"30min annealing in cassettes\",\"30min annealing in cassettes\",\"30min annealing in cassettes\",\"30min annealing in cassettes\",\"30min annealing in cassettes\",\"30min annealing in cassettes\",\"30min annealing in cassettes\",\"30min annealing in cassettes\",\"30min annealing in cassettes\",\"15min annealing in cassettes\",\"15min annealing in cassettes\",\"15min annealing in cassettes\",\"15min annealing in cassettes\",\"15min annealing in cassettes\",\"15min annealing in cassettes\",\"15min annealing in cassettes\",\"15min annealing in cassettes\",\"15min annealing in cassettes\",\"15min annealing in cassettes\",\"15min annealing in cassettes\",\"15min annealing in cassettes\",\"15min annealing in coinstack\",\"15min annealing in coinstack\",\"15min annealing in coinstack\",\"15min annealing in coinstack\",\"15min annealing in coinstack\",\"15min annealing in coinstack\",\"15min annealing in coinstack\",\"15min annealing in coinstack\",\"15min annealing in coinstack\",\"15min annealing in coinstack\",\"15min annealing in coinstack\",\"15min annealing in coinstack\",\"15min annealing in coinstack\",\"15min annealing in coinstack\"],\"y\":[1463.4356689453125,1621.634765625,1369.8519287109375,1604.267578125,1785.72216796875,1724.1116943359375,1492.5286865234375,1271.1810302734375,1840.468017578125,1310.0377197265625,1874.96826171875,1562.5123291015625,1265.8355712890625,1395.3416748046875,1470.5848388671875,1538.44140625,1401.870849609375,1023.9000244140625,1639.3392333984375,1204.8212890625,1538.47900390625,1685.406982421875,1507.5494384765625,1685.4071044921875,1209.68603515625,1401.870849609375,1428.57763671875,1345.27685546875,1744.186767578125,1428.57763671875,1492.5286865234375,1408.4613037109375,1357.4385986328125,1785.72216796875,1554.4053955078125,1442.2998046875,1382.4945068359375,1449.2769775390625,1477.8388671875,1315.791259765625,1382.49462890625,1807.214599609375,1449.2769775390625,1369.8817138671875,1351.3448486328125,1260.509765625,1401.839599609375,1333.3309326171875,1408.4613037109375,1685.406982421875,1428.57763671875,1639.3818359375,1630.417724609375,2027.0823974609375,1327.4234619140625,1604.267578125,1562.512451171875,1714.293212890625,1492.528564453125,1369.8519287109375],\"type\":\"box\",\"xaxis\":\"x\",\"yaxis\":\"y\"},{\"name\":\"Remeasure after annealing\",\"offsetgroup\":\"C\",\"x\":[\"2h annealing in cassettes\",\"2h annealing in cassettes\",\"2h annealing in cassettes\",\"2h annealing in cassettes\",\"2h annealing in cassettes\",\"2h annealing in cassettes\",\"2h annealing in cassettes\",\"2h annealing in cassettes\",\"2h annealing in cassettes\",\"2h annealing in cassettes\",\"2h annealing in cassettes\",\"1h annealing in cassettes \",\"1h annealing in cassettes \",\"1h annealing in cassettes \",\"1h annealing in cassettes \",\"1h annealing in cassettes \",\"1h annealing in cassettes \",\"1h annealing in cassettes \",\"1h annealing in cassettes \",\"1h annealing in cassettes \",\"1h annealing in cassettes \",\"1h annealing in cassettes \",\"1h annealing in cassettes \",\"30min annealing in cassettes\",\"30min annealing in cassettes\",\"30min annealing in cassettes\",\"30min annealing in cassettes\",\"30min annealing in cassettes\",\"30min annealing in cassettes\",\"30min annealing in cassettes\",\"30min annealing in cassettes\",\"30min annealing in cassettes\",\"30min annealing in cassettes\",\"30min annealing in cassettes\",\"15min annealing in cassettes\",\"15min annealing in cassettes\",\"15min annealing in cassettes\",\"15min annealing in cassettes\",\"15min annealing in cassettes\",\"15min annealing in cassettes\",\"15min annealing in cassettes\",\"15min annealing in cassettes\",\"15min annealing in cassettes\",\"15min annealing in cassettes\",\"15min annealing in cassettes\",\"15min annealing in cassettes\",\"15min annealing in coinstack\",\"15min annealing in coinstack\",\"15min annealing in coinstack\",\"15min annealing in coinstack\",\"15min annealing in coinstack\",\"15min annealing in coinstack\",\"15min annealing in coinstack\",\"15min annealing in coinstack\",\"15min annealing in coinstack\",\"15min annealing in coinstack\",\"15min annealing in coinstack\",\"15min annealing in coinstack\",\"15min annealing in coinstack\",\"15min annealing in coinstack\"],\"y\":[1764.7347412109375,1734.091064453125,1140.6864013671875,1435.3896484375,1492.528564453125,1604.2674560546875,1796.4296875,1595.76318359375,1657.478271484375,1851.8443603515625,1630.417724609375,1515.13720703125,1038.0740966796875,1754.3516845703125,1562.512451171875,1351.373779296875,1630.417724609375,1132.06591796875,1477.8389892578125,1376.1441650390625,1829.2838134765625,2380.962890625,1554.4053955078125,2205.903076171875,1369.8817138671875,1796.37841796875,1675.9786376953125,1515.173828125,1714.2930908203125,1546.3822021484375,1923.0517578125,1840.5218505859375,1829.230712890625,2027.01708984375,1546.3822021484375,1973.6661376953125,1775.141357421875,1666.69921875,1807.214599609375,1714.293212890625,1948.0604248046875,1898.7342529296875,1818.1822509765625,2068.9453125,2040.8250732421875,2112.644775390625,1388.873046875,1477.8389892578125,1415.1141357421875,1382.464111328125,1293.1015625,1415.082275390625,1546.420166015625,1339.2630615234375,1442.3328857421875,1515.173828125,1570.6650390625,1310.0377197265625,1428.5452880859375,1149.4183349609375],\"type\":\"box\",\"xaxis\":\"x\",\"yaxis\":\"y\"},{\"name\":\"Performance loss before annealing\",\"offsetgroup\":\"B\",\"x\":[\"2h annealing in cassettes\",\"2h annealing in cassettes\",\"2h annealing in cassettes\",\"2h annealing in cassettes\",\"2h annealing in cassettes\",\"2h annealing in cassettes\",\"2h annealing in cassettes\",\"2h annealing in cassettes\",\"2h annealing in cassettes\",\"2h annealing in cassettes\",\"2h annealing in cassettes\",\"1h annealing in cassettes \",\"1h annealing in cassettes \",\"1h annealing in cassettes \",\"1h annealing in cassettes \",\"1h annealing in cassettes \",\"1h annealing in cassettes \",\"1h annealing in cassettes \",\"1h annealing in cassettes \",\"1h annealing in cassettes \",\"1h annealing in cassettes \",\"1h annealing in cassettes \",\"1h annealing in cassettes \",\"30min annealing in cassettes\",\"30min annealing in cassettes\",\"30min annealing in cassettes\",\"30min annealing in cassettes\",\"30min annealing in cassettes\",\"30min annealing in cassettes\",\"30min annealing in cassettes\",\"30min annealing in cassettes\",\"30min annealing in cassettes\",\"30min annealing in cassettes\",\"30min annealing in cassettes\",\"15min annealing in cassettes\",\"15min annealing in cassettes\",\"15min annealing in cassettes\",\"15min annealing in cassettes\",\"15min annealing in cassettes\",\"15min annealing in cassettes\",\"15min annealing in cassettes\",\"15min annealing in cassettes\",\"15min annealing in cassettes\",\"15min annealing in cassettes\",\"15min annealing in cassettes\",\"15min annealing in cassettes\",\"15min annealing in coinstack\",\"15min annealing in coinstack\",\"15min annealing in coinstack\",\"15min annealing in coinstack\",\"15min annealing in coinstack\",\"15min annealing in coinstack\",\"15min annealing in coinstack\",\"15min annealing in coinstack\",\"15min annealing in coinstack\",\"15min annealing in coinstack\",\"15min annealing in coinstack\",\"15min annealing in coinstack\",\"15min annealing in coinstack\",\"15min annealing in coinstack\"],\"y\":[0.36584396028944915,-0.10271427895506195,0.31508013905637805,0.16044063872683925,0.04762712043165068,0.05173879383659082,0.1890494302126103,0.32626835371821244,0.09203132682024151,0.46288389498862487,0.025033513453400543,0.2864523000471161,0.004205112298777118,0.13954621014629834,0.2745079228806376,0.38461911060312143,0.24298667878155944,0.24572793222099684,0.1475324432956447,0.3253030101578172,0.14870154090234305,0.13482818039853467,0.20602404510817238,0.1460525808786133,0.36289875451575476,0.3551549194671226,0.38571758806778395,0.25562894529712576,0.1511741028454163,0.04761583891682397,0.3034897191376458,0.24412907117569513,0.2624492326581864,0.07141232121592216,0.1243483855475308,0.20192111938490892,0.0691087633469325,0.15940656147728927,0.19212160721038674,0.16666322630882616,0.28109343103603796,0.054232625766275445,0.11110082056652767,0.3607246449628873,0.33784386209741235,0.28991020328899314,0.07945638254006222,0.4844446208697596,0.2347489871700692,0.12360371463417638,0.28571754670643196,0.30599053612371335,0.3424121774140503,0.21619358927194687,0.07078657359709255,-0.08019481736365316,0.2343721803213805,0.165722099567115,0.2636823872051654,0.027390701756834047],\"type\":\"box\",\"xaxis\":\"x2\",\"yaxis\":\"y2\"},{\"name\":\"Performance loss after annealing\",\"offsetgroup\":\"C\",\"x\":[\"2h annealing in cassettes\",\"2h annealing in cassettes\",\"2h annealing in cassettes\",\"2h annealing in cassettes\",\"2h annealing in cassettes\",\"2h annealing in cassettes\",\"2h annealing in cassettes\",\"2h annealing in cassettes\",\"2h annealing in cassettes\",\"2h annealing in cassettes\",\"2h annealing in cassettes\",\"1h annealing in cassettes \",\"1h annealing in cassettes \",\"1h annealing in cassettes \",\"1h annealing in cassettes \",\"1h annealing in cassettes \",\"1h annealing in cassettes \",\"1h annealing in cassettes \",\"1h annealing in cassettes \",\"1h annealing in cassettes \",\"1h annealing in cassettes \",\"1h annealing in cassettes \",\"1h annealing in cassettes \",\"30min annealing in cassettes\",\"30min annealing in cassettes\",\"30min annealing in cassettes\",\"30min annealing in cassettes\",\"30min annealing in cassettes\",\"30min annealing in cassettes\",\"30min annealing in cassettes\",\"30min annealing in cassettes\",\"30min annealing in cassettes\",\"30min annealing in cassettes\",\"30min annealing in cassettes\",\"15min annealing in cassettes\",\"15min annealing in cassettes\",\"15min annealing in cassettes\",\"15min annealing in cassettes\",\"15min annealing in cassettes\",\"15min annealing in cassettes\",\"15min annealing in cassettes\",\"15min annealing in cassettes\",\"15min annealing in cassettes\",\"15min annealing in cassettes\",\"15min annealing in cassettes\",\"15min annealing in cassettes\",\"15min annealing in coinstack\",\"15min annealing in coinstack\",\"15min annealing in coinstack\",\"15min annealing in coinstack\",\"15min annealing in coinstack\",\"15min annealing in coinstack\",\"15min annealing in coinstack\",\"15min annealing in coinstack\",\"15min annealing in coinstack\",\"15min annealing in coinstack\",\"15min annealing in coinstack\",\"15min annealing in coinstack\",\"15min annealing in coinstack\",\"15min annealing in coinstack\"],\"y\":[0.23528090890903897,-0.17918474511975152,0.4296618816751267,0.24881931614627653,0.2039950266266099,0.11765310920122522,0.023927853571455812,0.15423835696539567,0.1823067107874559,0.2407429076722142,0.15219757420931324,0.30808695134468117,0.18337823491875702,-0.08184151808986023,0.22915674514992904,0.4594466875157716,0.11957086701398106,0.16604582434982415,0.23151366922184333,0.22936261653941054,-0.0122117284089879,-0.22222229880970726,0.18134657697561699,-0.11766779296712766,0.278529039183173,0.17368580285026933,0.27933619185372077,0.16162124107412248,0.1657221589738508,-0.030920461340695305,0.10257984852085783,0.012257591274697647,0.006105677784223161,-0.05406268011710309,0.12886813453869142,-0.09210391401326416,-0.19527674451769392,0.033299742571522094,0.012064401217897869,-0.08572204336227023,-0.013004612711436042,0.006337759141004904,-0.11516344770612282,0.03449638329208433,0.0,-0.19012762930548968,0.08797110659509154,0.42856809081544495,0.23113434299298904,0.28113124933271433,0.3534549801985407,0.4009446306186081,0.37629047180724545,0.4821508121287024,-0.009651494965709884,-0.020205693154104164,0.23037742937603206,0.3624570697223591,0.29524762115480296,0.1839008751798536],\"type\":\"box\",\"xaxis\":\"x2\",\"yaxis\":\"y2\"}],                        {\"template\":{\"data\":{\"histogram2dcontour\":[{\"type\":\"histogram2dcontour\",\"colorbar\":{\"outlinewidth\":0,\"ticks\":\"\"},\"colorscale\":[[0.0,\"#0d0887\"],[0.1111111111111111,\"#46039f\"],[0.2222222222222222,\"#7201a8\"],[0.3333333333333333,\"#9c179e\"],[0.4444444444444444,\"#bd3786\"],[0.5555555555555556,\"#d8576b\"],[0.6666666666666666,\"#ed7953\"],[0.7777777777777778,\"#fb9f3a\"],[0.8888888888888888,\"#fdca26\"],[1.0,\"#f0f921\"]]}],\"choropleth\":[{\"type\":\"choropleth\",\"colorbar\":{\"outlinewidth\":0,\"ticks\":\"\"}}],\"histogram2d\":[{\"type\":\"histogram2d\",\"colorbar\":{\"outlinewidth\":0,\"ticks\":\"\"},\"colorscale\":[[0.0,\"#0d0887\"],[0.1111111111111111,\"#46039f\"],[0.2222222222222222,\"#7201a8\"],[0.3333333333333333,\"#9c179e\"],[0.4444444444444444,\"#bd3786\"],[0.5555555555555556,\"#d8576b\"],[0.6666666666666666,\"#ed7953\"],[0.7777777777777778,\"#fb9f3a\"],[0.8888888888888888,\"#fdca26\"],[1.0,\"#f0f921\"]]}],\"heatmap\":[{\"type\":\"heatmap\",\"colorbar\":{\"outlinewidth\":0,\"ticks\":\"\"},\"colorscale\":[[0.0,\"#0d0887\"],[0.1111111111111111,\"#46039f\"],[0.2222222222222222,\"#7201a8\"],[0.3333333333333333,\"#9c179e\"],[0.4444444444444444,\"#bd3786\"],[0.5555555555555556,\"#d8576b\"],[0.6666666666666666,\"#ed7953\"],[0.7777777777777778,\"#fb9f3a\"],[0.8888888888888888,\"#fdca26\"],[1.0,\"#f0f921\"]]}],\"heatmapgl\":[{\"type\":\"heatmapgl\",\"colorbar\":{\"outlinewidth\":0,\"ticks\":\"\"},\"colorscale\":[[0.0,\"#0d0887\"],[0.1111111111111111,\"#46039f\"],[0.2222222222222222,\"#7201a8\"],[0.3333333333333333,\"#9c179e\"],[0.4444444444444444,\"#bd3786\"],[0.5555555555555556,\"#d8576b\"],[0.6666666666666666,\"#ed7953\"],[0.7777777777777778,\"#fb9f3a\"],[0.8888888888888888,\"#fdca26\"],[1.0,\"#f0f921\"]]}],\"contourcarpet\":[{\"type\":\"contourcarpet\",\"colorbar\":{\"outlinewidth\":0,\"ticks\":\"\"}}],\"contour\":[{\"type\":\"contour\",\"colorbar\":{\"outlinewidth\":0,\"ticks\":\"\"},\"colorscale\":[[0.0,\"#0d0887\"],[0.1111111111111111,\"#46039f\"],[0.2222222222222222,\"#7201a8\"],[0.3333333333333333,\"#9c179e\"],[0.4444444444444444,\"#bd3786\"],[0.5555555555555556,\"#d8576b\"],[0.6666666666666666,\"#ed7953\"],[0.7777777777777778,\"#fb9f3a\"],[0.8888888888888888,\"#fdca26\"],[1.0,\"#f0f921\"]]}],\"surface\":[{\"type\":\"surface\",\"colorbar\":{\"outlinewidth\":0,\"ticks\":\"\"},\"colorscale\":[[0.0,\"#0d0887\"],[0.1111111111111111,\"#46039f\"],[0.2222222222222222,\"#7201a8\"],[0.3333333333333333,\"#9c179e\"],[0.4444444444444444,\"#bd3786\"],[0.5555555555555556,\"#d8576b\"],[0.6666666666666666,\"#ed7953\"],[0.7777777777777778,\"#fb9f3a\"],[0.8888888888888888,\"#fdca26\"],[1.0,\"#f0f921\"]]}],\"mesh3d\":[{\"type\":\"mesh3d\",\"colorbar\":{\"outlinewidth\":0,\"ticks\":\"\"}}],\"scatter\":[{\"fillpattern\":{\"fillmode\":\"overlay\",\"size\":10,\"solidity\":0.2},\"type\":\"scatter\"}],\"parcoords\":[{\"type\":\"parcoords\",\"line\":{\"colorbar\":{\"outlinewidth\":0,\"ticks\":\"\"}}}],\"scatterpolargl\":[{\"type\":\"scatterpolargl\",\"marker\":{\"colorbar\":{\"outlinewidth\":0,\"ticks\":\"\"}}}],\"bar\":[{\"error_x\":{\"color\":\"#2a3f5f\"},\"error_y\":{\"color\":\"#2a3f5f\"},\"marker\":{\"line\":{\"color\":\"#E5ECF6\",\"width\":0.5},\"pattern\":{\"fillmode\":\"overlay\",\"size\":10,\"solidity\":0.2}},\"type\":\"bar\"}],\"scattergeo\":[{\"type\":\"scattergeo\",\"marker\":{\"colorbar\":{\"outlinewidth\":0,\"ticks\":\"\"}}}],\"scatterpolar\":[{\"type\":\"scatterpolar\",\"marker\":{\"colorbar\":{\"outlinewidth\":0,\"ticks\":\"\"}}}],\"histogram\":[{\"marker\":{\"pattern\":{\"fillmode\":\"overlay\",\"size\":10,\"solidity\":0.2}},\"type\":\"histogram\"}],\"scattergl\":[{\"type\":\"scattergl\",\"marker\":{\"colorbar\":{\"outlinewidth\":0,\"ticks\":\"\"}}}],\"scatter3d\":[{\"type\":\"scatter3d\",\"line\":{\"colorbar\":{\"outlinewidth\":0,\"ticks\":\"\"}},\"marker\":{\"colorbar\":{\"outlinewidth\":0,\"ticks\":\"\"}}}],\"scattermapbox\":[{\"type\":\"scattermapbox\",\"marker\":{\"colorbar\":{\"outlinewidth\":0,\"ticks\":\"\"}}}],\"scatterternary\":[{\"type\":\"scatterternary\",\"marker\":{\"colorbar\":{\"outlinewidth\":0,\"ticks\":\"\"}}}],\"scattercarpet\":[{\"type\":\"scattercarpet\",\"marker\":{\"colorbar\":{\"outlinewidth\":0,\"ticks\":\"\"}}}],\"carpet\":[{\"aaxis\":{\"endlinecolor\":\"#2a3f5f\",\"gridcolor\":\"white\",\"linecolor\":\"white\",\"minorgridcolor\":\"white\",\"startlinecolor\":\"#2a3f5f\"},\"baxis\":{\"endlinecolor\":\"#2a3f5f\",\"gridcolor\":\"white\",\"linecolor\":\"white\",\"minorgridcolor\":\"white\",\"startlinecolor\":\"#2a3f5f\"},\"type\":\"carpet\"}],\"table\":[{\"cells\":{\"fill\":{\"color\":\"#EBF0F8\"},\"line\":{\"color\":\"white\"}},\"header\":{\"fill\":{\"color\":\"#C8D4E3\"},\"line\":{\"color\":\"white\"}},\"type\":\"table\"}],\"barpolar\":[{\"marker\":{\"line\":{\"color\":\"#E5ECF6\",\"width\":0.5},\"pattern\":{\"fillmode\":\"overlay\",\"size\":10,\"solidity\":0.2}},\"type\":\"barpolar\"}],\"pie\":[{\"automargin\":true,\"type\":\"pie\"}]},\"layout\":{\"autotypenumbers\":\"strict\",\"colorway\":[\"#636efa\",\"#EF553B\",\"#00cc96\",\"#ab63fa\",\"#FFA15A\",\"#19d3f3\",\"#FF6692\",\"#B6E880\",\"#FF97FF\",\"#FECB52\"],\"font\":{\"color\":\"#2a3f5f\"},\"hovermode\":\"closest\",\"hoverlabel\":{\"align\":\"left\"},\"paper_bgcolor\":\"white\",\"plot_bgcolor\":\"#E5ECF6\",\"polar\":{\"bgcolor\":\"#E5ECF6\",\"angularaxis\":{\"gridcolor\":\"white\",\"linecolor\":\"white\",\"ticks\":\"\"},\"radialaxis\":{\"gridcolor\":\"white\",\"linecolor\":\"white\",\"ticks\":\"\"}},\"ternary\":{\"bgcolor\":\"#E5ECF6\",\"aaxis\":{\"gridcolor\":\"white\",\"linecolor\":\"white\",\"ticks\":\"\"},\"baxis\":{\"gridcolor\":\"white\",\"linecolor\":\"white\",\"ticks\":\"\"},\"caxis\":{\"gridcolor\":\"white\",\"linecolor\":\"white\",\"ticks\":\"\"}},\"coloraxis\":{\"colorbar\":{\"outlinewidth\":0,\"ticks\":\"\"}},\"colorscale\":{\"sequential\":[[0.0,\"#0d0887\"],[0.1111111111111111,\"#46039f\"],[0.2222222222222222,\"#7201a8\"],[0.3333333333333333,\"#9c179e\"],[0.4444444444444444,\"#bd3786\"],[0.5555555555555556,\"#d8576b\"],[0.6666666666666666,\"#ed7953\"],[0.7777777777777778,\"#fb9f3a\"],[0.8888888888888888,\"#fdca26\"],[1.0,\"#f0f921\"]],\"sequentialminus\":[[0.0,\"#0d0887\"],[0.1111111111111111,\"#46039f\"],[0.2222222222222222,\"#7201a8\"],[0.3333333333333333,\"#9c179e\"],[0.4444444444444444,\"#bd3786\"],[0.5555555555555556,\"#d8576b\"],[0.6666666666666666,\"#ed7953\"],[0.7777777777777778,\"#fb9f3a\"],[0.8888888888888888,\"#fdca26\"],[1.0,\"#f0f921\"]],\"diverging\":[[0,\"#8e0152\"],[0.1,\"#c51b7d\"],[0.2,\"#de77ae\"],[0.3,\"#f1b6da\"],[0.4,\"#fde0ef\"],[0.5,\"#f7f7f7\"],[0.6,\"#e6f5d0\"],[0.7,\"#b8e186\"],[0.8,\"#7fbc41\"],[0.9,\"#4d9221\"],[1,\"#276419\"]]},\"xaxis\":{\"gridcolor\":\"white\",\"linecolor\":\"white\",\"ticks\":\"\",\"title\":{\"standoff\":15},\"zerolinecolor\":\"white\",\"automargin\":true,\"zerolinewidth\":2},\"yaxis\":{\"gridcolor\":\"white\",\"linecolor\":\"white\",\"ticks\":\"\",\"title\":{\"standoff\":15},\"zerolinecolor\":\"white\",\"automargin\":true,\"zerolinewidth\":2},\"scene\":{\"xaxis\":{\"backgroundcolor\":\"#E5ECF6\",\"gridcolor\":\"white\",\"linecolor\":\"white\",\"showbackground\":true,\"ticks\":\"\",\"zerolinecolor\":\"white\",\"gridwidth\":2},\"yaxis\":{\"backgroundcolor\":\"#E5ECF6\",\"gridcolor\":\"white\",\"linecolor\":\"white\",\"showbackground\":true,\"ticks\":\"\",\"zerolinecolor\":\"white\",\"gridwidth\":2},\"zaxis\":{\"backgroundcolor\":\"#E5ECF6\",\"gridcolor\":\"white\",\"linecolor\":\"white\",\"showbackground\":true,\"ticks\":\"\",\"zerolinecolor\":\"white\",\"gridwidth\":2}},\"shapedefaults\":{\"line\":{\"color\":\"#2a3f5f\"}},\"annotationdefaults\":{\"arrowcolor\":\"#2a3f5f\",\"arrowhead\":0,\"arrowwidth\":1},\"geo\":{\"bgcolor\":\"white\",\"landcolor\":\"#E5ECF6\",\"subunitcolor\":\"white\",\"showland\":true,\"showlakes\":true,\"lakecolor\":\"white\"},\"title\":{\"x\":0.05},\"mapbox\":{\"style\":\"light\"}}},\"xaxis\":{\"anchor\":\"y\",\"domain\":[0.0,1.0],\"matches\":\"x2\",\"showticklabels\":false},\"yaxis\":{\"anchor\":\"x\",\"domain\":[0.525,1.0],\"title\":{\"text\":\"Rshunt [m\\u03a9]\"},\"tickformat\":\".1f\"},\"xaxis2\":{\"anchor\":\"y2\",\"domain\":[0.0,1.0]},\"yaxis2\":{\"anchor\":\"x2\",\"domain\":[0.0,0.475],\"title\":{\"text\":\"PL of Rshunt\"},\"dtick\":0.1,\"tickformat\":\".0%\"},\"shapes\":[{\"line\":{\"color\":\"grey\",\"dash\":\"dash\",\"width\":1},\"type\":\"line\",\"x0\":0.5,\"x1\":0.5,\"xref\":\"x\",\"y0\":0,\"y1\":1,\"yref\":\"y domain\"},{\"line\":{\"color\":\"grey\",\"dash\":\"dash\",\"width\":1},\"type\":\"line\",\"x0\":0.5,\"x1\":0.5,\"xref\":\"x2\",\"y0\":0,\"y1\":1,\"yref\":\"y2 domain\"},{\"line\":{\"color\":\"grey\",\"dash\":\"dash\",\"width\":1},\"type\":\"line\",\"x0\":1.5,\"x1\":1.5,\"xref\":\"x\",\"y0\":0,\"y1\":1,\"yref\":\"y domain\"},{\"line\":{\"color\":\"grey\",\"dash\":\"dash\",\"width\":1},\"type\":\"line\",\"x0\":1.5,\"x1\":1.5,\"xref\":\"x2\",\"y0\":0,\"y1\":1,\"yref\":\"y2 domain\"},{\"line\":{\"color\":\"grey\",\"dash\":\"dash\",\"width\":1},\"type\":\"line\",\"x0\":2.5,\"x1\":2.5,\"xref\":\"x\",\"y0\":0,\"y1\":1,\"yref\":\"y domain\"},{\"line\":{\"color\":\"grey\",\"dash\":\"dash\",\"width\":1},\"type\":\"line\",\"x0\":2.5,\"x1\":2.5,\"xref\":\"x2\",\"y0\":0,\"y1\":1,\"yref\":\"y2 domain\"},{\"line\":{\"color\":\"grey\",\"dash\":\"dash\",\"width\":1},\"type\":\"line\",\"x0\":3.5,\"x1\":3.5,\"xref\":\"x\",\"y0\":0,\"y1\":1,\"yref\":\"y domain\"},{\"line\":{\"color\":\"grey\",\"dash\":\"dash\",\"width\":1},\"type\":\"line\",\"x0\":3.5,\"x1\":3.5,\"xref\":\"x2\",\"y0\":0,\"y1\":1,\"yref\":\"y2 domain\"}],\"title\":{\"text\":\"Shunt resistance (Rshunt) performance between 5 annealing tests\"},\"boxmode\":\"group\",\"height\":700,\"width\":900},                        {\"responsive\": true}                    ).then(function(){\n",
       "                            \n",
       "var gd = document.getElementById('db76df7a-f7a4-478d-a03c-740ce1bd59b8');\n",
       "var x = new MutationObserver(function (mutations, observer) {{\n",
       "        var display = window.getComputedStyle(gd).display;\n",
       "        if (!display || display === 'none') {{\n",
       "            console.log([gd, 'removed!']);\n",
       "            Plotly.purge(gd);\n",
       "            observer.disconnect();\n",
       "        }}\n",
       "}});\n",
       "\n",
       "// Listen for the removal of the full notebook cells\n",
       "var notebookContainer = gd.closest('#notebook-container');\n",
       "if (notebookContainer) {{\n",
       "    x.observe(notebookContainer, {childList: true});\n",
       "}}\n",
       "\n",
       "// Listen for the clearing of the current output cell\n",
       "var outputEl = gd.closest('.output');\n",
       "if (outputEl) {{\n",
       "    x.observe(outputEl, {childList: true});\n",
       "}}\n",
       "\n",
       "                        })                };                });            </script>        </div>"
      ]
     },
     "metadata": {},
     "output_type": "display_data"
    }
   ],
   "source": [
    "Annealing_test_wide_Rshunt = Annealing_test_wide[Annealing_test_wide['Rshunt_PLaA'] < 0.6]\n",
    "Annealing_test_wide_Rshunt = Annealing_test_wide_Rshunt[Annealing_test_wide_Rshunt['Rshunt_PLbA'] < 0.6]\n",
    "\n",
    "fig_Rshunt = make_subplots(rows=2, cols=1,shared_xaxes = True, vertical_spacing=0.05)\n",
    "\n",
    "fig_Rshunt.add_trace(\n",
    "    go.Box(y=Annealing_test_wide_Rshunt['Rshunt [mΩ]'], x = Annealing_test_wide_Rshunt[\"Notes\"], \n",
    "           name = \"Original measurments\", offsetgroup = \"A\"),\n",
    "    row=1, col=1\n",
    ")\n",
    "\n",
    "fig_Rshunt.add_trace(\n",
    "    go.Box(y=Annealing_test_wide_Rshunt['Rshunt [mΩ].1'], x = Annealing_test_wide_Rshunt[\"Notes\"], \n",
    "           name = \"Remeasure before annealing\", offsetgroup = \"B\"),\n",
    "    row=1, col=1\n",
    ")\n",
    "\n",
    "fig_Rshunt.add_trace(\n",
    "    go.Box(y=Annealing_test_wide_Rshunt['Rshunt [mΩ].2'], x = Annealing_test_wide_Rshunt[\"Notes\"], \n",
    "           name = \"Remeasure after annealing\", offsetgroup = \"C\"),\n",
    "    row=1, col=1\n",
    ")\n",
    "\n",
    "fig_Rshunt.add_trace(\n",
    "    go.Box(y=Annealing_test_wide_Rshunt['Rshunt_PLbA'], x = Annealing_test_wide_Rshunt[\"Notes\"], \n",
    "           name = \"Performance loss before annealing\", offsetgroup = \"B\"),\n",
    "    row=2, col=1\n",
    ")\n",
    "\n",
    "fig_Rshunt.add_trace(\n",
    "    go.Box(y=Annealing_test_wide_Rshunt['Rshunt_PLaA'], x = Annealing_test_wide_Rshunt[\"Notes\"], \n",
    "           name = \"Performance loss after annealing\", offsetgroup = \"C\"),\n",
    "    row=2, col=1\n",
    ")\n",
    "\n",
    "vx = 0.5\n",
    "fig_Rshunt.add_vline(x=vx, line_width=1, line_dash=\"dash\", line_color=\"grey\")\n",
    "fig_Rshunt.add_vline(x=vx+1, line_width=1, line_dash=\"dash\", line_color=\"grey\")\n",
    "fig_Rshunt.add_vline(x=vx+2, line_width=1, line_dash=\"dash\", line_color=\"grey\")\n",
    "fig_Rshunt.add_vline(x=vx+3, line_width=1, line_dash=\"dash\", line_color=\"grey\")\n",
    "\n",
    "fig_Rshunt.update_layout(title=\"Shunt resistance (Rshunt) performance between 5 annealing tests\",\n",
    "                         boxmode='group', height=700, width=900,\n",
    "                         yaxis=dict(title=\"Rshunt [mΩ]\", tickformat=\".1f\"),\n",
    "                         yaxis2=dict(title=\"PL of Rshunt\", dtick=0.1,tickformat=\".0%\")\n",
    "                    )\n",
    "fig_Rshunt.write_image(\"2.5 Shunt resistance (Rshunt) performance between 5 annealing tests.png\", scale=3, width=900, height=600) \n",
    "fig_Rshunt.show()"
   ]
  },
  {
   "cell_type": "markdown",
   "id": "0c43f21e",
   "metadata": {},
   "source": [
    "# Conclusion: \n",
    "### Six indicatiors have been examined individually, which all point to the same conclusion:  \n",
    "### 15 min annealing in cassettes provides the best performance recovery."
   ]
  },
  {
   "cell_type": "code",
   "execution_count": 18,
   "id": "53c05719",
   "metadata": {},
   "outputs": [],
   "source": [
    "def confidence_ellipse(x, y, n_std=1.96, size=100):\n",
    "    \"\"\"\n",
    "    Get the covariance confidence ellipse of *x* and *y*.\n",
    "\n",
    "    Parameters\n",
    "    ----------\n",
    "    x, y : array-like, shape (n, )\n",
    "        Input data.\n",
    "\n",
    "    n_std : float\n",
    "        The number of standard deviations to determine the ellipse's radiuses.\n",
    "\n",
    "    size : int\n",
    "        Number of points defining the ellipse\n",
    "\n",
    "    Returns\n",
    "    -------\n",
    "    String containing an SVG path for the ellipse\n",
    "    \n",
    "    References (H/T)\n",
    "    ----------------\n",
    "    https://matplotlib.org/3.1.1/gallery/statistics/confidence_ellipse.html\n",
    "    https://community.plotly.com/t/arc-shape-with-path/7205/5\n",
    "    \"\"\"\n",
    "    if x.size != y.size:\n",
    "        raise ValueError(\"x and y must be the same size\")\n",
    "\n",
    "    cov = np.cov(x, y)\n",
    "    pearson = cov[0, 1]/np.sqrt(cov[0, 0] * cov[1, 1])\n",
    "    # Using a special case to obtain the eigenvalues of this\n",
    "    # two-dimensionl dataset.\n",
    "    ell_radius_x = np.sqrt(1 + pearson)\n",
    "    ell_radius_y = np.sqrt(1 - pearson)\n",
    "    theta = np.linspace(0, 2 * np.pi, size)\n",
    "    ellipse_coords = np.column_stack([ell_radius_x * np.cos(theta), ell_radius_y * np.sin(theta)])\n",
    "    \n",
    "    # Calculating the stdandard deviation of x from\n",
    "    # the squareroot of the variance and multiplying\n",
    "    # with the given number of standard deviations.\n",
    "    x_scale = np.sqrt(cov[0, 0]) * n_std\n",
    "    x_mean = np.mean(x)\n",
    "\n",
    "    # calculating the stdandard deviation of y ...\n",
    "    y_scale = np.sqrt(cov[1, 1]) * n_std\n",
    "    y_mean = np.mean(y)\n",
    "  \n",
    "    translation_matrix = np.tile([x_mean, y_mean], (ellipse_coords.shape[0], 1))\n",
    "    rotation_matrix = np.array([[np.cos(np.pi / 4), np.sin(np.pi / 4)],\n",
    "                                [-np.sin(np.pi / 4), np.cos(np.pi / 4)]])\n",
    "    scale_matrix = np.array([[x_scale, 0],\n",
    "                            [0, y_scale]])\n",
    "    ellipse_coords = ellipse_coords.dot(rotation_matrix).dot(scale_matrix) + translation_matrix\n",
    "        \n",
    "    path = f'M {ellipse_coords[0, 0]}, {ellipse_coords[0, 1]}'\n",
    "    for k in range(1, len(ellipse_coords)):\n",
    "        path += f'L{ellipse_coords[k, 0]}, {ellipse_coords[k, 1]}'\n",
    "    path += ' Z'\n",
    "    return path"
   ]
  },
  {
   "cell_type": "code",
   "execution_count": 21,
   "id": "91dc174d",
   "metadata": {},
   "outputs": [
    {
     "data": {
      "application/vnd.plotly.v1+json": {
       "config": {
        "plotlyServerURL": "https://plot.ly"
       },
       "data": [
        {
         "marker": {
          "color": "rgb(31, 119, 180)"
         },
         "mode": "markers",
         "name": "setosa",
         "type": "scatter",
         "x": [
          -2.684125625969542,
          -2.7141416872943274,
          -2.888990569059299,
          -2.745342855641412,
          -2.7287165365545323,
          -2.2808596328444932,
          -2.820537750740611,
          -2.6261449731466344,
          -2.886382731780555,
          -2.6727557978209555,
          -2.5069470906518574,
          -2.6127552309087245,
          -2.7861092661880194,
          -3.2238037438656546,
          -2.6447503899420304,
          -2.386039033531135,
          -2.6235278752244278,
          -2.648296706254383,
          -2.1998203236175806,
          -2.5879863998787704,
          -2.3102562152425192,
          -2.543705228757158,
          -3.2159394156486125,
          -2.3027331822262083,
          -2.355754049123774,
          -2.5066689069258237,
          -2.4688200731213406,
          -2.562319906196018,
          -2.6395347153845443,
          -2.6319893872743476,
          -2.587398476689354,
          -2.409932497002176,
          -2.6488623343499134,
          -2.598736749100589,
          -2.6369268781058004,
          -2.866241652118671,
          -2.625238049850374,
          -2.8006841154482234,
          -2.9805020437819953,
          -2.5900063139680976,
          -2.7701024260279037,
          -2.849368705043106,
          -2.9974065465949096,
          -2.4056144850974874,
          -2.2094892377836812,
          -2.714451426757709,
          -2.538148258998942,
          -2.8394621676428518,
          -2.5430857498303947,
          -2.703359782335162
         ],
         "y": [
          0.31939724658510316,
          -0.17700122506478053,
          -0.14494942608555736,
          -0.3182989792519161,
          0.32675451293492,
          0.7413304490629151,
          -0.08946138452856864,
          0.16338495969832872,
          -0.578311754186704,
          -0.1137742458741169,
          0.6450688986485741,
          0.014729939161374626,
          -0.2351120002017185,
          -0.5113945870063823,
          1.1787646364375755,
          1.3380623304006531,
          0.8106795141812579,
          0.3118491445933549,
          0.872839038962211,
          0.5135603087492774,
          0.3913459356538942,
          0.43299606327902845,
          0.13346806953852605,
          0.09870885481409937,
          -0.037281859677382415,
          -0.14601688049526793,
          0.1309514894352503,
          0.36771885743420013,
          0.31203998023528295,
          -0.1969612249243145,
          -0.20431849127413346,
          0.4109242642295729,
          0.8133638202969626,
          1.0931457594493574,
          -0.12132234786586325,
          0.06936447158008048,
          0.5993700213794239,
          0.26864373779798256,
          -0.4879583444286156,
          0.2290438368270127,
          0.26352753374425664,
          -0.9409605736411972,
          -0.3419260574716099,
          0.1888714289302605,
          0.43666314163918823,
          -0.2502082041852112,
          0.503771144461438,
          -0.22794556949382755,
          0.5794100215198895,
          0.10770608249941163
         ]
        },
        {
         "marker": {
          "color": "rgb(255, 127, 14)"
         },
         "mode": "markers",
         "name": "versicolor",
         "type": "scatter",
         "x": [
          1.284825688858352,
          0.9324885323123182,
          1.4643023219913942,
          0.18331771995836996,
          1.0881032577116663,
          0.6416690842580773,
          1.0950606626324466,
          -0.7491226698296581,
          1.044131826053436,
          -0.008745404082897335,
          -0.5078408838353269,
          0.5116985574475971,
          0.2649765081120463,
          0.9849345104708902,
          -0.1739253716817685,
          0.9278607809442474,
          0.6602837616969364,
          0.23610499331767118,
          0.9447337280198134,
          0.04522697629869933,
          1.1162831773500494,
          0.357888417997307,
          1.2981838753589134,
          0.9217289224470366,
          0.7148533259114116,
          0.9001743731721678,
          1.332024436722089,
          1.5578021550660706,
          0.8132906498175411,
          -0.30558377802430947,
          -0.06812649206836427,
          -0.18962247237850258,
          0.1364287115580145,
          1.380026435915511,
          0.5880064433398626,
          0.8068583125004118,
          1.220690882444353,
          0.8150952357665999,
          0.24595767988669182,
          0.1664132171454563,
          0.46480028840377857,
          0.8908151984694491,
          0.23054802355945495,
          -0.7045317592446648,
          0.3569814947010465,
          0.33193447994505776,
          0.37621565106666977,
          0.6425760075543377,
          -0.9064698649488373,
          0.29900084187814274
         ],
         "y": [
          0.6851604704673083,
          0.3183336382626287,
          0.5042628153092038,
          -0.8279590118206327,
          0.07459067519771573,
          -0.4182468715686791,
          0.28346827006152886,
          -1.0048909611818957,
          0.22836189978839516,
          -0.7230819050048344,
          -1.2659711905263944,
          -0.10398123549904068,
          -0.5500364636804754,
          -0.1248178541263577,
          -0.25485420870258957,
          0.46717949444151025,
          -0.3529696657238506,
          -0.33361076682491575,
          -0.5431455507797672,
          -0.5838343774718648,
          -0.08461685219478818,
          -0.06892503165601435,
          -0.3277873083339179,
          -0.1827377936213678,
          0.14905594436978437,
          0.3285044738343229,
          0.244440876016343,
          0.2674954473102543,
          -0.16335030068761658,
          -0.36826218975458846,
          -0.7051721317994658,
          -0.6802867635281337,
          -0.31403243824923716,
          -0.4209542873138823,
          -0.4842874199812183,
          0.19418231471315084,
          0.40761959361100686,
          -0.3720370599095024,
          -0.2685243966220151,
          -0.6819267248636273,
          -0.6707115445117209,
          -0.03446444436826913,
          -0.4043858480073256,
          -1.0122482275317148,
          -0.504910093337109,
          -0.21265468378117003,
          -0.2932189292514192,
          0.01773819011241593,
          -0.7560933665990145,
          -0.34889780645033625
         ]
        },
        {
         "marker": {
          "color": "rgb(44, 160, 44)"
         },
         "mode": "markers",
         "name": "virginica",
         "type": "scatter",
         "x": [
          2.531192727803628,
          1.4152358767039022,
          2.6166760159956906,
          1.9715310530434356,
          2.3500059200446404,
          3.3970387360532595,
          0.521232243909773,
          2.9325870689936897,
          2.3212288165733783,
          2.9167509667860734,
          1.6617741536365316,
          1.803401952965091,
          2.1655917960801454,
          1.346163579458451,
          1.5859282238732204,
          1.904456374793427,
          1.9496890593990694,
          3.48705536429028,
          3.7956454220728846,
          1.300791712637657,
          2.427817913066046,
          1.19900110546556,
          3.4999200389245386,
          1.3887661316914652,
          2.275430503872205,
          2.614090473810832,
          1.2585081605114878,
          1.2911320591150206,
          2.123608722773895,
          2.3880030160034686,
          2.8416727781038715,
          3.230673661432094,
          2.15943764248905,
          1.4441612423295096,
          1.7812948100451123,
          3.0764999316871884,
          2.144243314302082,
          1.9050981488140755,
          1.1693263393414997,
          2.107611143257242,
          2.3141547052356,
          1.9222678009026013,
          1.4152358767039022,
          2.5630133750774764,
          2.4187461827328254,
          1.9441097945469679,
          1.527166614814517,
          1.7643457170444292,
          1.9009416142184232,
          1.3901888619479132
         ],
         "y": [
          -0.009849109498802145,
          -0.5749163475464898,
          0.3439031513417338,
          -0.17972790435224584,
          -0.0402609471425314,
          0.5508366730280551,
          -1.1927587270006457,
          0.3555000029774958,
          -0.24383150231069126,
          0.7827919488152782,
          0.24222840775506682,
          -0.21563761733355588,
          0.21627558507402425,
          -0.7768183473443401,
          -0.5396407140267191,
          0.11925069209197245,
          0.04194325966321105,
          1.1757393297134293,
          0.2573229734204787,
          -0.761149636435064,
          0.3781960126170504,
          -0.6060915277579308,
          0.4606740989118944,
          -0.20439932735215138,
          0.33499060582167717,
          0.5609013551230774,
          -0.1797047947227471,
          -0.11666865117401172,
          -0.20972947667730316,
          0.46463980470873595,
          0.37526916719510267,
          1.3741650867930473,
          -0.2172775786690495,
          -0.14341341045758113,
          -0.499901681078137,
          0.6880856775711751,
          0.14006420108978976,
          0.049300526013029984,
          -0.16499026202310987,
          0.3722878719607972,
          0.18365127916901858,
          0.40920346681606173,
          -0.5749163475464898,
          0.2778626029291944,
          0.30479819785469187,
          0.1875323028006048,
          -0.375316982580489,
          0.07885885451847537,
          0.11662795851202347,
          -0.28266093799055075
         ]
        }
       ],
       "layout": {
        "shapes": [
         {
          "line": {
           "color": "rgb(31, 119, 180)",
           "dash": "dot"
          },
          "path": "M -2.2613070921280185, 0.9940037687404677L-2.2752383427793497, 1.0201275484205394L-2.2906480861047456, 1.0429122612224386L-2.3074742725066075, 1.0622661611494344L-2.325649148870993, 1.0781113168773588L-2.345099531385492, 1.0903839255565448L-2.3657471002246098, 1.0990345697233819L-2.387508714916062, 1.1040284162870015L-2.410296749118112, 1.1053453567898386L-2.434019443459924, 1.102980088377294L-2.4585812750241596, 1.0969421351504591L-2.483883341984056, 1.0872558098159195L-2.5098237618461714, 1.0739601157870695L-2.5362980816952314, 1.0571085901311315L-2.5631996987891497, 1.0367690879942801L-2.5904202898106474, 1.0130235093729205L-2.617850247047019, 0.9859674693313065L-2.645379119741706, 0.9557099129934252L-2.672896058840511, 0.9223726768594334L-2.700290263341615, 0.8860899982130723L-2.7274514264521064, 0.8470079745955061L-2.754270179754502, 0.805283975522086L-2.7806385335947654, 0.7610860088108546L-2.8064503119185273, 0.7145920440743618L-2.8316015798045853, 0.6659892960988456L-2.855991061974145, 0.615473470996367L-2.879520550590625, 0.5632479781653676L-2.9020953007079533, 0.5095231112328158L-2.923624411775025, 0.45451520127599204L-2.9440211936601384, 0.39844574573359304L-2.9632035157215597, 0.3415405165137233L-2.981094137518628, 0.28402865089010515L-2.99762101983175, 0.22614172884715028L-3.0127176147389116, 0.16811284058909723L-3.0263231335806697, 0.11017564796802687L-3.038382791734633, 0.05256344361005255L-3.0488480292137954, -0.004491788471743724L-3.057676706200469, -0.060760306995058355L-3.064833272728455, -0.11601553849541996L-3.0702889118302115, -0.17003498965756692L-3.0740216555726088, -0.2226011432174974L-3.076016473514045, -0.27350233382772254L-3.0762653332267287, -0.32253360035891226L-3.07476723264043, -0.3694975112060264L-3.071528204077465, -0.41420495927570206L-3.066561289962662, -0.456475923453779L-3.05988649030612, -0.496140193486785L-3.0515306821702257, -0.5330380553585543L-3.0415275114452136, -0.5670209344021997L-3.0299172573690356, -0.5979519935578574L-3.0167466703370898, -0.6257066843672328L-3.0020687836548774, -0.6501732484862812L-2.9859426999915986, -0.6712531676966169L-2.9684333533945653, -0.6888615606036061L-2.9496112478227086, -0.7029275244237843L-2.9295521732520213, -0.7133944204853426L-2.9083369004960744, -0.7202201022920665L-2.886050855970458, -0.723377085232402L-2.862783777710756, -0.7228526572502862L-2.8386293540291505, -0.7186489300321097L-2.8136848462646524, -0.7107828305037001L-2.788050697146023, -0.6992860326715677L-2.7618301263443477, -0.6842048300828598L-2.7351287148438588, -0.6655999494175842L-2.7080539798045717, -0.6435463059637034L-2.680714941628631, -0.61813270195971L-2.653221684973628, -0.5894614690193549L-2.625684915480538, -0.5576480560783563L-2.5982155140011796, -0.5228205645222816L-2.570924090120155, -0.4851192323674807L-2.543920536769096, -0.44469586957209045L-2.5173135877266106, -0.40171324675091485L-2.491210379785737, -0.3563444397556053L-2.465716021351888, -0.3087721327592943L-2.440933169208401, -0.25918788265190584L-2.4169616151539053, -0.20779134770817176L-2.3938978841759684, -0.154789483634223L-2.3718348457790372, -0.10039571023000776L-2.3508613400317246, -0.04482905202308052L-2.3310618198392072, 0.011686743665863586L-2.3125160108811826, 0.06892410767448391L-2.295298590584697, 0.12665256533948932L-2.2794788874245038, 0.18463966453676098L-2.2651206017617627, 0.24265191168401734L-2.25228154934517, 0.30045571193705767L-2.2410134285073444, 0.35781830979375473L-2.2313616119938864, 0.4145087263183098L-2.2233649642633475, 0.47029868921190826L-2.2170556849937713, 0.5249635519846976L-2.212459179425956, 0.5782831985279149L-2.2095939560655142, 0.6300429294437664L-2.208471552155657, 0.6800343265641291L-2.209096487220783, 0.7280560921769514L-2.2114662448679523, 0.7739148595810943L-2.2155712829195107, 0.8174259717057857L-2.221395071836072, 0.8584142246594764L-2.2289141612751395, 0.8967145732140709L-2.238098274517358, 0.9321727953838082L-2.248910430380177, 0.9646461134227695L-2.2613070921280185, 0.9940037687404675 Z",
          "type": "path"
         },
         {
          "line": {
           "color": "rgb(255, 127, 14)",
           "dash": "dot"
          },
          "path": "M 1.63398091501741, 0.5489323381026345L1.6068856126864328, 0.5652892310769313L1.5754669837950173, 0.5783811613246694L1.5398515400726989, 0.5881554122634567L1.5001826923410992, 0.5945726264345235L1.4566201730491608, 0.5976069639813186L1.4093393930869527, 0.597246206697492L1.3585307354679252, 0.5934918072252979L1.3043987887237118, 0.5863588832063196L1.2471615230983182, 0.5758761564080603L1.1870494128588809, 0.5620858370715232L1.12430450825714, 0.5450434539454696L1.0591794608785032, 0.5248176306917449L0.991936506303285, 0.5014898095620137L0.9228464081765779, 0.4751539234585565L0.8521873679386185, 0.4459160176996248L0.7802439046057768, 0.41389382301237315L0.7073057091128973, 0.37921628147277303L0.6336664778301484, 0.3420230273013823L0.5596227299513976, 0.302463824605622L0.48547261351607346, 0.2606979643325735L0.4115147048722393, 0.21689362286055647L0.33804680641502094, 0.17122718481220933L0.26536474744146854, 0.12388253281586803L0.19376119295038857, 0.07505030707512178L0.12352446518368881, 0.024927137727998927L0.054937382654469846, -0.026285146913199886L-0.011723878663306153, -0.07838033305328149L-0.07619089739798979, -0.13114865176433094L-0.13820408761836855, -0.1843776236511482L-0.19751374409459443, -0.23785291443077908L-0.2538810477730111, -0.29135919798102455L-0.3070790274161944, -0.34468102338273715L-0.3568934735360165, -0.3976036824646304L-0.40312380093965106, -0.4499140743573039L-0.44558385641535025, -0.5014015635752331L-0.48410266830572457, -0.5518588281715254L-0.5185251349502669, -0.6010826945502294L-0.5487126492249941, -0.6488749555746942L-0.5745436566644173, -0.6950431686777556L-0.5959141449184711, -0.7394014307600302L-0.6127380625735372, -0.7817711267560852L-0.6249476656511148, -0.8219816488542644L-0.632493790388915, -0.8598710834741325L-0.6353460512059752, -0.8952868632353137L-0.6334929630546735, -0.9280863812924898L-0.6269419876669595, -0.9581375655628295L-0.6157195035085927, -0.9853194105336545L-0.5998706995623735, -1.0095224645089298L-0.5794593933680567, -1.0306492703326142L-0.5545677740516437, -1.0486147578142306L-0.5252960713787795, -1.0633465862764968L-0.49176215216486274, -1.0747854358457027L-0.45410104566697984, -1.0828852463119036L-0.41246439986874517, -1.08761340259713L-0.3670198708473934, -1.0889508660847942L-0.31795044768193004, -1.0868922512814811L-0.26545371562069586, -1.0814458475024282L-0.20974106047530605, -1.0726335854933795L-0.15103681744459752, -1.0604909491232126L-0.08957736779595737, -1.045066832502922L-0.02561018704139184, -1.0264233431062921L0.04060715155901934, -1.0046355516850196L0.10880801415372843, -0.9797911899852929L0.17871777994013693, -0.9519902974830139L0.2500549469656382, -0.9213448185601376L0.3225322656366307, -0.8879781517441552L0.3958578953712423, -0.8520246528257782L0.4697365797383568, -0.8136290938555875L0.5438708353510491, -0.7729460801980823L0.6179621497271914, -0.7301394279904448L0.6917121832938571, -0.6853815045127752L0.7648239706954885, -0.6388525341258874L0.8370031165685692, -0.5907398725714189L0.9079589809678492, -0.5412372525563851L0.9774058496708209, -0.4905440036599465L1.0450640846480574, -0.438864249703542L1.1106612500668587, -0.386406086816307L1.1739332092941943, -0.33338074550540586L1.234625188481698, -0.28000174010533524L1.2924928024500384, -0.2264840090310533L1.3473030387417795, -0.17304304929684566L1.3988351958803042, -0.11989404878590959L1.4468817720567704, -0.06725101976469355L1.491249300666655, -0.015325937131036832L1.5317591293314892, 0.035672115133930093L1.5682481392689303, 0.0855377858731794L1.6005694021145296, 0.13407028363042245L1.6285927715503963, 0.18107418516643375L1.6522054073584858, 0.2263602223594624L1.671312229788331, 0.2697460443211555L1.685836302409641, 0.31105695165922936L1.6957191419081512, 0.35012659993026113L1.7009209535772876, 0.3867976694500525L1.7014207915574053, 0.42092249876447213L1.697216643177373, 0.4523636792300168L1.6883254370588894, 0.4809946083099212L1.674782974950898, 0.5066999993578876L1.6566437875685796, 0.5293763458367235L1.63398091501741, 0.5489323381026345 Z",
          "type": "path"
         },
         {
          "line": {
           "color": "rgb(44, 160, 44)",
           "dash": "dot"
          },
          "path": "M 3.425073703872986, 0.9550318605364502L3.3953119925065307, 0.9717705475715517L3.3603715978881183, 0.9848163733886097L3.320393212654883, 0.9941168070515026L3.2755378156540362, 0.9996343989963996L3.2259860237378684, 1.0013469318279382L3.1719373644834294, 0.999247509780834L3.1136094727653996, 0.9933445864866924L3.0512372144172613, 0.9836619309342192L2.985071740509482, 0.9702385317598907L2.9153794760527982, 0.9531284402544775L2.842441047198725, 0.9324005527175714L2.766550151257094, 0.9081383330365046L2.688012374080644, 0.880439476606734L2.6071439595786448, 0.8494155169469633L2.5242705363142934, 0.8151913765930289L2.4397258063134166, 0.7779048640789391L2.353850201364193, 0.7377061190305461L2.2669895122184927, 0.6947570076062629L2.179493496214567, 0.6492304707191742L2.0917144689276896, 0.6013098276650165L2.0040058855196845, 0.5511880379600766L1.9167209174997373, 0.4990669243613231L1.8302110306273789, 0.4451563601973958L1.7448245696839189, 0.3896734242827849L1.6609053558109572, 0.33284152681806245L1.5787913020639968, 0.27488950979585464L1.4988130527558328, 0.2160507255349065L1.4212926520686047, 0.15656209705265486L1.3465422472955377, 0.09666316405985666L1.2748628319339628, 0.036595118418719L1.2065430336907386, -0.023400167051603783L1.1418579522803434, -0.08308111251148476L1.0810680516954199, -0.142207403857575L1.0244181114102078, -0.20054096038287958L0.9721362407399916, -0.2578468934437369L0.9244329603254002, -0.31389445227348217L0.8815003544400872, -0.3684579531343454L0.8435112975351577, -0.42131768806620684L0.8106187581347659, -0.47226080957301053L0.7829551828858614, -0.5210821876845052L0.7606319632422842, -0.567585235942238L0.7437389869306985, -0.6115827029838352L0.7323442760044392, -0.652897426538153L0.7264937129427156, -0.6913630467952114L0.7262108558980562, -0.7268246762784372L0.7314968438359479, -0.7591395235218619L0.7423303919486213, -0.7881774680409604L0.7586678773614597, -0.8138215842819161L0.7804435147869191, -0.8359686124395574L0.8075696214186634, -0.8545293742481493L0.839936969999276, -0.8694291320707935L0.8774152286398778, -0.8806078898415153L0.9198534856206402, -0.8880206346482447L0.9670808570590201, -0.891637517983927L1.0189071749988414, -0.891443975935926L1.0751237531495372, -0.8874407878297595L1.1355042271921851, -0.8796440730910305L1.1998054662687276, -0.8680852263381904L1.2677685519841249, -0.8528107909674897L1.3391198209793487, -0.8338822717391493L1.413571966877141, -0.8113758871193992L1.4908251971633926, -0.7853822623756148L1.5705684403457867, -0.7560060646603513L1.6524805985289093, -0.723365581553662L1.7362318403621415, -0.6875922447607627L1.821484929154102, -0.6488301008829416L1.9078965808057693, -0.6072352313927383L1.9951188460943974, -0.5629751241489396L2.082800511742224, -0.5162279989820872L2.1705885146283843, -0.46718209006612055L2.2581293634494815, -0.4160348879657979L2.3450705621043118, -0.3629923444118902L2.431062029071246, -0.3082680430062538L2.5157575070629625, -0.25208233919604733L2.598815957282327, -0.19466147298012187L2.6799029326652697, -0.13623665792039127L2.7586919245810666, -0.07704315012642676L2.8348656775673575, -0.01731930096213396L2.908117466805916, 0.0426944027110613L2.9781523331952413, 0.10275630688993052L3.044688271046755, 0.16262456348482113L3.107457363622172, 0.22205810415655203L3.166206861939651, 0.28081761101353664L3.220700202504738, 0.3386664802604638L3.270717959868063, 0.39537177491827485L3.316058730174178, 0.4507051627791618L3.356539942143803, 0.5044438358197836L3.3919985922239286, 0.5563714073705361L3.422291900945592, 0.6062787834282974L3.4472978878464033, 0.653965004604179L3.4669158626428223, 0.6992380553160611L3.481066830674386, 0.7419156369675681L3.489693810987326, 0.7818259020001764L3.4927620657767617, 0.818808145862678L3.490259240263577, 0.8527134541116914L3.4821954124427577, 0.8834053020375658L3.4686030525028597, 0.910760104401199L3.4495368920800225, 0.9346677130681809L3.4250737038729864, 0.9550318605364502 Z",
          "type": "path"
         }
        ],
        "template": {
         "data": {
          "bar": [
           {
            "error_x": {
             "color": "#2a3f5f"
            },
            "error_y": {
             "color": "#2a3f5f"
            },
            "marker": {
             "line": {
              "color": "#E5ECF6",
              "width": 0.5
             },
             "pattern": {
              "fillmode": "overlay",
              "size": 10,
              "solidity": 0.2
             }
            },
            "type": "bar"
           }
          ],
          "barpolar": [
           {
            "marker": {
             "line": {
              "color": "#E5ECF6",
              "width": 0.5
             },
             "pattern": {
              "fillmode": "overlay",
              "size": 10,
              "solidity": 0.2
             }
            },
            "type": "barpolar"
           }
          ],
          "carpet": [
           {
            "aaxis": {
             "endlinecolor": "#2a3f5f",
             "gridcolor": "white",
             "linecolor": "white",
             "minorgridcolor": "white",
             "startlinecolor": "#2a3f5f"
            },
            "baxis": {
             "endlinecolor": "#2a3f5f",
             "gridcolor": "white",
             "linecolor": "white",
             "minorgridcolor": "white",
             "startlinecolor": "#2a3f5f"
            },
            "type": "carpet"
           }
          ],
          "choropleth": [
           {
            "colorbar": {
             "outlinewidth": 0,
             "ticks": ""
            },
            "type": "choropleth"
           }
          ],
          "contour": [
           {
            "colorbar": {
             "outlinewidth": 0,
             "ticks": ""
            },
            "colorscale": [
             [
              0,
              "#0d0887"
             ],
             [
              0.1111111111111111,
              "#46039f"
             ],
             [
              0.2222222222222222,
              "#7201a8"
             ],
             [
              0.3333333333333333,
              "#9c179e"
             ],
             [
              0.4444444444444444,
              "#bd3786"
             ],
             [
              0.5555555555555556,
              "#d8576b"
             ],
             [
              0.6666666666666666,
              "#ed7953"
             ],
             [
              0.7777777777777778,
              "#fb9f3a"
             ],
             [
              0.8888888888888888,
              "#fdca26"
             ],
             [
              1,
              "#f0f921"
             ]
            ],
            "type": "contour"
           }
          ],
          "contourcarpet": [
           {
            "colorbar": {
             "outlinewidth": 0,
             "ticks": ""
            },
            "type": "contourcarpet"
           }
          ],
          "heatmap": [
           {
            "colorbar": {
             "outlinewidth": 0,
             "ticks": ""
            },
            "colorscale": [
             [
              0,
              "#0d0887"
             ],
             [
              0.1111111111111111,
              "#46039f"
             ],
             [
              0.2222222222222222,
              "#7201a8"
             ],
             [
              0.3333333333333333,
              "#9c179e"
             ],
             [
              0.4444444444444444,
              "#bd3786"
             ],
             [
              0.5555555555555556,
              "#d8576b"
             ],
             [
              0.6666666666666666,
              "#ed7953"
             ],
             [
              0.7777777777777778,
              "#fb9f3a"
             ],
             [
              0.8888888888888888,
              "#fdca26"
             ],
             [
              1,
              "#f0f921"
             ]
            ],
            "type": "heatmap"
           }
          ],
          "heatmapgl": [
           {
            "colorbar": {
             "outlinewidth": 0,
             "ticks": ""
            },
            "colorscale": [
             [
              0,
              "#0d0887"
             ],
             [
              0.1111111111111111,
              "#46039f"
             ],
             [
              0.2222222222222222,
              "#7201a8"
             ],
             [
              0.3333333333333333,
              "#9c179e"
             ],
             [
              0.4444444444444444,
              "#bd3786"
             ],
             [
              0.5555555555555556,
              "#d8576b"
             ],
             [
              0.6666666666666666,
              "#ed7953"
             ],
             [
              0.7777777777777778,
              "#fb9f3a"
             ],
             [
              0.8888888888888888,
              "#fdca26"
             ],
             [
              1,
              "#f0f921"
             ]
            ],
            "type": "heatmapgl"
           }
          ],
          "histogram": [
           {
            "marker": {
             "pattern": {
              "fillmode": "overlay",
              "size": 10,
              "solidity": 0.2
             }
            },
            "type": "histogram"
           }
          ],
          "histogram2d": [
           {
            "colorbar": {
             "outlinewidth": 0,
             "ticks": ""
            },
            "colorscale": [
             [
              0,
              "#0d0887"
             ],
             [
              0.1111111111111111,
              "#46039f"
             ],
             [
              0.2222222222222222,
              "#7201a8"
             ],
             [
              0.3333333333333333,
              "#9c179e"
             ],
             [
              0.4444444444444444,
              "#bd3786"
             ],
             [
              0.5555555555555556,
              "#d8576b"
             ],
             [
              0.6666666666666666,
              "#ed7953"
             ],
             [
              0.7777777777777778,
              "#fb9f3a"
             ],
             [
              0.8888888888888888,
              "#fdca26"
             ],
             [
              1,
              "#f0f921"
             ]
            ],
            "type": "histogram2d"
           }
          ],
          "histogram2dcontour": [
           {
            "colorbar": {
             "outlinewidth": 0,
             "ticks": ""
            },
            "colorscale": [
             [
              0,
              "#0d0887"
             ],
             [
              0.1111111111111111,
              "#46039f"
             ],
             [
              0.2222222222222222,
              "#7201a8"
             ],
             [
              0.3333333333333333,
              "#9c179e"
             ],
             [
              0.4444444444444444,
              "#bd3786"
             ],
             [
              0.5555555555555556,
              "#d8576b"
             ],
             [
              0.6666666666666666,
              "#ed7953"
             ],
             [
              0.7777777777777778,
              "#fb9f3a"
             ],
             [
              0.8888888888888888,
              "#fdca26"
             ],
             [
              1,
              "#f0f921"
             ]
            ],
            "type": "histogram2dcontour"
           }
          ],
          "mesh3d": [
           {
            "colorbar": {
             "outlinewidth": 0,
             "ticks": ""
            },
            "type": "mesh3d"
           }
          ],
          "parcoords": [
           {
            "line": {
             "colorbar": {
              "outlinewidth": 0,
              "ticks": ""
             }
            },
            "type": "parcoords"
           }
          ],
          "pie": [
           {
            "automargin": true,
            "type": "pie"
           }
          ],
          "scatter": [
           {
            "fillpattern": {
             "fillmode": "overlay",
             "size": 10,
             "solidity": 0.2
            },
            "type": "scatter"
           }
          ],
          "scatter3d": [
           {
            "line": {
             "colorbar": {
              "outlinewidth": 0,
              "ticks": ""
             }
            },
            "marker": {
             "colorbar": {
              "outlinewidth": 0,
              "ticks": ""
             }
            },
            "type": "scatter3d"
           }
          ],
          "scattercarpet": [
           {
            "marker": {
             "colorbar": {
              "outlinewidth": 0,
              "ticks": ""
             }
            },
            "type": "scattercarpet"
           }
          ],
          "scattergeo": [
           {
            "marker": {
             "colorbar": {
              "outlinewidth": 0,
              "ticks": ""
             }
            },
            "type": "scattergeo"
           }
          ],
          "scattergl": [
           {
            "marker": {
             "colorbar": {
              "outlinewidth": 0,
              "ticks": ""
             }
            },
            "type": "scattergl"
           }
          ],
          "scattermapbox": [
           {
            "marker": {
             "colorbar": {
              "outlinewidth": 0,
              "ticks": ""
             }
            },
            "type": "scattermapbox"
           }
          ],
          "scatterpolar": [
           {
            "marker": {
             "colorbar": {
              "outlinewidth": 0,
              "ticks": ""
             }
            },
            "type": "scatterpolar"
           }
          ],
          "scatterpolargl": [
           {
            "marker": {
             "colorbar": {
              "outlinewidth": 0,
              "ticks": ""
             }
            },
            "type": "scatterpolargl"
           }
          ],
          "scatterternary": [
           {
            "marker": {
             "colorbar": {
              "outlinewidth": 0,
              "ticks": ""
             }
            },
            "type": "scatterternary"
           }
          ],
          "surface": [
           {
            "colorbar": {
             "outlinewidth": 0,
             "ticks": ""
            },
            "colorscale": [
             [
              0,
              "#0d0887"
             ],
             [
              0.1111111111111111,
              "#46039f"
             ],
             [
              0.2222222222222222,
              "#7201a8"
             ],
             [
              0.3333333333333333,
              "#9c179e"
             ],
             [
              0.4444444444444444,
              "#bd3786"
             ],
             [
              0.5555555555555556,
              "#d8576b"
             ],
             [
              0.6666666666666666,
              "#ed7953"
             ],
             [
              0.7777777777777778,
              "#fb9f3a"
             ],
             [
              0.8888888888888888,
              "#fdca26"
             ],
             [
              1,
              "#f0f921"
             ]
            ],
            "type": "surface"
           }
          ],
          "table": [
           {
            "cells": {
             "fill": {
              "color": "#EBF0F8"
             },
             "line": {
              "color": "white"
             }
            },
            "header": {
             "fill": {
              "color": "#C8D4E3"
             },
             "line": {
              "color": "white"
             }
            },
            "type": "table"
           }
          ]
         },
         "layout": {
          "annotationdefaults": {
           "arrowcolor": "#2a3f5f",
           "arrowhead": 0,
           "arrowwidth": 1
          },
          "autotypenumbers": "strict",
          "coloraxis": {
           "colorbar": {
            "outlinewidth": 0,
            "ticks": ""
           }
          },
          "colorscale": {
           "diverging": [
            [
             0,
             "#8e0152"
            ],
            [
             0.1,
             "#c51b7d"
            ],
            [
             0.2,
             "#de77ae"
            ],
            [
             0.3,
             "#f1b6da"
            ],
            [
             0.4,
             "#fde0ef"
            ],
            [
             0.5,
             "#f7f7f7"
            ],
            [
             0.6,
             "#e6f5d0"
            ],
            [
             0.7,
             "#b8e186"
            ],
            [
             0.8,
             "#7fbc41"
            ],
            [
             0.9,
             "#4d9221"
            ],
            [
             1,
             "#276419"
            ]
           ],
           "sequential": [
            [
             0,
             "#0d0887"
            ],
            [
             0.1111111111111111,
             "#46039f"
            ],
            [
             0.2222222222222222,
             "#7201a8"
            ],
            [
             0.3333333333333333,
             "#9c179e"
            ],
            [
             0.4444444444444444,
             "#bd3786"
            ],
            [
             0.5555555555555556,
             "#d8576b"
            ],
            [
             0.6666666666666666,
             "#ed7953"
            ],
            [
             0.7777777777777778,
             "#fb9f3a"
            ],
            [
             0.8888888888888888,
             "#fdca26"
            ],
            [
             1,
             "#f0f921"
            ]
           ],
           "sequentialminus": [
            [
             0,
             "#0d0887"
            ],
            [
             0.1111111111111111,
             "#46039f"
            ],
            [
             0.2222222222222222,
             "#7201a8"
            ],
            [
             0.3333333333333333,
             "#9c179e"
            ],
            [
             0.4444444444444444,
             "#bd3786"
            ],
            [
             0.5555555555555556,
             "#d8576b"
            ],
            [
             0.6666666666666666,
             "#ed7953"
            ],
            [
             0.7777777777777778,
             "#fb9f3a"
            ],
            [
             0.8888888888888888,
             "#fdca26"
            ],
            [
             1,
             "#f0f921"
            ]
           ]
          },
          "colorway": [
           "#636efa",
           "#EF553B",
           "#00cc96",
           "#ab63fa",
           "#FFA15A",
           "#19d3f3",
           "#FF6692",
           "#B6E880",
           "#FF97FF",
           "#FECB52"
          ],
          "font": {
           "color": "#2a3f5f"
          },
          "geo": {
           "bgcolor": "white",
           "lakecolor": "white",
           "landcolor": "#E5ECF6",
           "showlakes": true,
           "showland": true,
           "subunitcolor": "white"
          },
          "hoverlabel": {
           "align": "left"
          },
          "hovermode": "closest",
          "mapbox": {
           "style": "light"
          },
          "paper_bgcolor": "white",
          "plot_bgcolor": "#E5ECF6",
          "polar": {
           "angularaxis": {
            "gridcolor": "white",
            "linecolor": "white",
            "ticks": ""
           },
           "bgcolor": "#E5ECF6",
           "radialaxis": {
            "gridcolor": "white",
            "linecolor": "white",
            "ticks": ""
           }
          },
          "scene": {
           "xaxis": {
            "backgroundcolor": "#E5ECF6",
            "gridcolor": "white",
            "gridwidth": 2,
            "linecolor": "white",
            "showbackground": true,
            "ticks": "",
            "zerolinecolor": "white"
           },
           "yaxis": {
            "backgroundcolor": "#E5ECF6",
            "gridcolor": "white",
            "gridwidth": 2,
            "linecolor": "white",
            "showbackground": true,
            "ticks": "",
            "zerolinecolor": "white"
           },
           "zaxis": {
            "backgroundcolor": "#E5ECF6",
            "gridcolor": "white",
            "gridwidth": 2,
            "linecolor": "white",
            "showbackground": true,
            "ticks": "",
            "zerolinecolor": "white"
           }
          },
          "shapedefaults": {
           "line": {
            "color": "#2a3f5f"
           }
          },
          "ternary": {
           "aaxis": {
            "gridcolor": "white",
            "linecolor": "white",
            "ticks": ""
           },
           "baxis": {
            "gridcolor": "white",
            "linecolor": "white",
            "ticks": ""
           },
           "bgcolor": "#E5ECF6",
           "caxis": {
            "gridcolor": "white",
            "linecolor": "white",
            "ticks": ""
           }
          },
          "title": {
           "x": 0.05
          },
          "xaxis": {
           "automargin": true,
           "gridcolor": "white",
           "linecolor": "white",
           "ticks": "",
           "title": {
            "standoff": 15
           },
           "zerolinecolor": "white",
           "zerolinewidth": 2
          },
          "yaxis": {
           "automargin": true,
           "gridcolor": "white",
           "linecolor": "white",
           "ticks": "",
           "title": {
            "standoff": 15
           },
           "zerolinecolor": "white",
           "zerolinewidth": 2
          }
         }
        }
       }
      },
      "text/html": [
       "<div>                            <div id=\"5db0279f-7190-4cbd-835e-30453efe0867\" class=\"plotly-graph-div\" style=\"height:525px; width:100%;\"></div>            <script type=\"text/javascript\">                require([\"plotly\"], function(Plotly) {                    window.PLOTLYENV=window.PLOTLYENV || {};                                    if (document.getElementById(\"5db0279f-7190-4cbd-835e-30453efe0867\")) {                    Plotly.newPlot(                        \"5db0279f-7190-4cbd-835e-30453efe0867\",                        [{\"marker\":{\"color\":\"rgb(31, 119, 180)\"},\"mode\":\"markers\",\"name\":\"setosa\",\"x\":[-2.684125625969542,-2.7141416872943274,-2.888990569059299,-2.745342855641412,-2.7287165365545323,-2.2808596328444932,-2.820537750740611,-2.6261449731466344,-2.886382731780555,-2.6727557978209555,-2.5069470906518574,-2.6127552309087245,-2.7861092661880194,-3.2238037438656546,-2.6447503899420304,-2.386039033531135,-2.6235278752244278,-2.648296706254383,-2.1998203236175806,-2.5879863998787704,-2.3102562152425192,-2.543705228757158,-3.2159394156486125,-2.3027331822262083,-2.355754049123774,-2.5066689069258237,-2.4688200731213406,-2.562319906196018,-2.6395347153845443,-2.6319893872743476,-2.587398476689354,-2.409932497002176,-2.6488623343499134,-2.598736749100589,-2.6369268781058004,-2.866241652118671,-2.625238049850374,-2.8006841154482234,-2.9805020437819953,-2.5900063139680976,-2.7701024260279037,-2.849368705043106,-2.9974065465949096,-2.4056144850974874,-2.2094892377836812,-2.714451426757709,-2.538148258998942,-2.8394621676428518,-2.5430857498303947,-2.703359782335162],\"y\":[0.31939724658510316,-0.17700122506478053,-0.14494942608555736,-0.3182989792519161,0.32675451293492,0.7413304490629151,-0.08946138452856864,0.16338495969832872,-0.578311754186704,-0.1137742458741169,0.6450688986485741,0.014729939161374626,-0.2351120002017185,-0.5113945870063823,1.1787646364375755,1.3380623304006531,0.8106795141812579,0.3118491445933549,0.872839038962211,0.5135603087492774,0.3913459356538942,0.43299606327902845,0.13346806953852605,0.09870885481409937,-0.037281859677382415,-0.14601688049526793,0.1309514894352503,0.36771885743420013,0.31203998023528295,-0.1969612249243145,-0.20431849127413346,0.4109242642295729,0.8133638202969626,1.0931457594493574,-0.12132234786586325,0.06936447158008048,0.5993700213794239,0.26864373779798256,-0.4879583444286156,0.2290438368270127,0.26352753374425664,-0.9409605736411972,-0.3419260574716099,0.1888714289302605,0.43666314163918823,-0.2502082041852112,0.503771144461438,-0.22794556949382755,0.5794100215198895,0.10770608249941163],\"type\":\"scatter\"},{\"marker\":{\"color\":\"rgb(255, 127, 14)\"},\"mode\":\"markers\",\"name\":\"versicolor\",\"x\":[1.284825688858352,0.9324885323123182,1.4643023219913942,0.18331771995836996,1.0881032577116663,0.6416690842580773,1.0950606626324466,-0.7491226698296581,1.044131826053436,-0.008745404082897335,-0.5078408838353269,0.5116985574475971,0.2649765081120463,0.9849345104708902,-0.1739253716817685,0.9278607809442474,0.6602837616969364,0.23610499331767118,0.9447337280198134,0.04522697629869933,1.1162831773500494,0.357888417997307,1.2981838753589134,0.9217289224470366,0.7148533259114116,0.9001743731721678,1.332024436722089,1.5578021550660706,0.8132906498175411,-0.30558377802430947,-0.06812649206836427,-0.18962247237850258,0.1364287115580145,1.380026435915511,0.5880064433398626,0.8068583125004118,1.220690882444353,0.8150952357665999,0.24595767988669182,0.1664132171454563,0.46480028840377857,0.8908151984694491,0.23054802355945495,-0.7045317592446648,0.3569814947010465,0.33193447994505776,0.37621565106666977,0.6425760075543377,-0.9064698649488373,0.29900084187814274],\"y\":[0.6851604704673083,0.3183336382626287,0.5042628153092038,-0.8279590118206327,0.07459067519771573,-0.4182468715686791,0.28346827006152886,-1.0048909611818957,0.22836189978839516,-0.7230819050048344,-1.2659711905263944,-0.10398123549904068,-0.5500364636804754,-0.1248178541263577,-0.25485420870258957,0.46717949444151025,-0.3529696657238506,-0.33361076682491575,-0.5431455507797672,-0.5838343774718648,-0.08461685219478818,-0.06892503165601435,-0.3277873083339179,-0.1827377936213678,0.14905594436978437,0.3285044738343229,0.244440876016343,0.2674954473102543,-0.16335030068761658,-0.36826218975458846,-0.7051721317994658,-0.6802867635281337,-0.31403243824923716,-0.4209542873138823,-0.4842874199812183,0.19418231471315084,0.40761959361100686,-0.3720370599095024,-0.2685243966220151,-0.6819267248636273,-0.6707115445117209,-0.03446444436826913,-0.4043858480073256,-1.0122482275317148,-0.504910093337109,-0.21265468378117003,-0.2932189292514192,0.01773819011241593,-0.7560933665990145,-0.34889780645033625],\"type\":\"scatter\"},{\"marker\":{\"color\":\"rgb(44, 160, 44)\"},\"mode\":\"markers\",\"name\":\"virginica\",\"x\":[2.531192727803628,1.4152358767039022,2.6166760159956906,1.9715310530434356,2.3500059200446404,3.3970387360532595,0.521232243909773,2.9325870689936897,2.3212288165733783,2.9167509667860734,1.6617741536365316,1.803401952965091,2.1655917960801454,1.346163579458451,1.5859282238732204,1.904456374793427,1.9496890593990694,3.48705536429028,3.7956454220728846,1.300791712637657,2.427817913066046,1.19900110546556,3.4999200389245386,1.3887661316914652,2.275430503872205,2.614090473810832,1.2585081605114878,1.2911320591150206,2.123608722773895,2.3880030160034686,2.8416727781038715,3.230673661432094,2.15943764248905,1.4441612423295096,1.7812948100451123,3.0764999316871884,2.144243314302082,1.9050981488140755,1.1693263393414997,2.107611143257242,2.3141547052356,1.9222678009026013,1.4152358767039022,2.5630133750774764,2.4187461827328254,1.9441097945469679,1.527166614814517,1.7643457170444292,1.9009416142184232,1.3901888619479132],\"y\":[-0.009849109498802145,-0.5749163475464898,0.3439031513417338,-0.17972790435224584,-0.0402609471425314,0.5508366730280551,-1.1927587270006457,0.3555000029774958,-0.24383150231069126,0.7827919488152782,0.24222840775506682,-0.21563761733355588,0.21627558507402425,-0.7768183473443401,-0.5396407140267191,0.11925069209197245,0.04194325966321105,1.1757393297134293,0.2573229734204787,-0.761149636435064,0.3781960126170504,-0.6060915277579308,0.4606740989118944,-0.20439932735215138,0.33499060582167717,0.5609013551230774,-0.1797047947227471,-0.11666865117401172,-0.20972947667730316,0.46463980470873595,0.37526916719510267,1.3741650867930473,-0.2172775786690495,-0.14341341045758113,-0.499901681078137,0.6880856775711751,0.14006420108978976,0.049300526013029984,-0.16499026202310987,0.3722878719607972,0.18365127916901858,0.40920346681606173,-0.5749163475464898,0.2778626029291944,0.30479819785469187,0.1875323028006048,-0.375316982580489,0.07885885451847537,0.11662795851202347,-0.28266093799055075],\"type\":\"scatter\"}],                        {\"template\":{\"data\":{\"histogram2dcontour\":[{\"type\":\"histogram2dcontour\",\"colorbar\":{\"outlinewidth\":0,\"ticks\":\"\"},\"colorscale\":[[0.0,\"#0d0887\"],[0.1111111111111111,\"#46039f\"],[0.2222222222222222,\"#7201a8\"],[0.3333333333333333,\"#9c179e\"],[0.4444444444444444,\"#bd3786\"],[0.5555555555555556,\"#d8576b\"],[0.6666666666666666,\"#ed7953\"],[0.7777777777777778,\"#fb9f3a\"],[0.8888888888888888,\"#fdca26\"],[1.0,\"#f0f921\"]]}],\"choropleth\":[{\"type\":\"choropleth\",\"colorbar\":{\"outlinewidth\":0,\"ticks\":\"\"}}],\"histogram2d\":[{\"type\":\"histogram2d\",\"colorbar\":{\"outlinewidth\":0,\"ticks\":\"\"},\"colorscale\":[[0.0,\"#0d0887\"],[0.1111111111111111,\"#46039f\"],[0.2222222222222222,\"#7201a8\"],[0.3333333333333333,\"#9c179e\"],[0.4444444444444444,\"#bd3786\"],[0.5555555555555556,\"#d8576b\"],[0.6666666666666666,\"#ed7953\"],[0.7777777777777778,\"#fb9f3a\"],[0.8888888888888888,\"#fdca26\"],[1.0,\"#f0f921\"]]}],\"heatmap\":[{\"type\":\"heatmap\",\"colorbar\":{\"outlinewidth\":0,\"ticks\":\"\"},\"colorscale\":[[0.0,\"#0d0887\"],[0.1111111111111111,\"#46039f\"],[0.2222222222222222,\"#7201a8\"],[0.3333333333333333,\"#9c179e\"],[0.4444444444444444,\"#bd3786\"],[0.5555555555555556,\"#d8576b\"],[0.6666666666666666,\"#ed7953\"],[0.7777777777777778,\"#fb9f3a\"],[0.8888888888888888,\"#fdca26\"],[1.0,\"#f0f921\"]]}],\"heatmapgl\":[{\"type\":\"heatmapgl\",\"colorbar\":{\"outlinewidth\":0,\"ticks\":\"\"},\"colorscale\":[[0.0,\"#0d0887\"],[0.1111111111111111,\"#46039f\"],[0.2222222222222222,\"#7201a8\"],[0.3333333333333333,\"#9c179e\"],[0.4444444444444444,\"#bd3786\"],[0.5555555555555556,\"#d8576b\"],[0.6666666666666666,\"#ed7953\"],[0.7777777777777778,\"#fb9f3a\"],[0.8888888888888888,\"#fdca26\"],[1.0,\"#f0f921\"]]}],\"contourcarpet\":[{\"type\":\"contourcarpet\",\"colorbar\":{\"outlinewidth\":0,\"ticks\":\"\"}}],\"contour\":[{\"type\":\"contour\",\"colorbar\":{\"outlinewidth\":0,\"ticks\":\"\"},\"colorscale\":[[0.0,\"#0d0887\"],[0.1111111111111111,\"#46039f\"],[0.2222222222222222,\"#7201a8\"],[0.3333333333333333,\"#9c179e\"],[0.4444444444444444,\"#bd3786\"],[0.5555555555555556,\"#d8576b\"],[0.6666666666666666,\"#ed7953\"],[0.7777777777777778,\"#fb9f3a\"],[0.8888888888888888,\"#fdca26\"],[1.0,\"#f0f921\"]]}],\"surface\":[{\"type\":\"surface\",\"colorbar\":{\"outlinewidth\":0,\"ticks\":\"\"},\"colorscale\":[[0.0,\"#0d0887\"],[0.1111111111111111,\"#46039f\"],[0.2222222222222222,\"#7201a8\"],[0.3333333333333333,\"#9c179e\"],[0.4444444444444444,\"#bd3786\"],[0.5555555555555556,\"#d8576b\"],[0.6666666666666666,\"#ed7953\"],[0.7777777777777778,\"#fb9f3a\"],[0.8888888888888888,\"#fdca26\"],[1.0,\"#f0f921\"]]}],\"mesh3d\":[{\"type\":\"mesh3d\",\"colorbar\":{\"outlinewidth\":0,\"ticks\":\"\"}}],\"scatter\":[{\"fillpattern\":{\"fillmode\":\"overlay\",\"size\":10,\"solidity\":0.2},\"type\":\"scatter\"}],\"parcoords\":[{\"type\":\"parcoords\",\"line\":{\"colorbar\":{\"outlinewidth\":0,\"ticks\":\"\"}}}],\"scatterpolargl\":[{\"type\":\"scatterpolargl\",\"marker\":{\"colorbar\":{\"outlinewidth\":0,\"ticks\":\"\"}}}],\"bar\":[{\"error_x\":{\"color\":\"#2a3f5f\"},\"error_y\":{\"color\":\"#2a3f5f\"},\"marker\":{\"line\":{\"color\":\"#E5ECF6\",\"width\":0.5},\"pattern\":{\"fillmode\":\"overlay\",\"size\":10,\"solidity\":0.2}},\"type\":\"bar\"}],\"scattergeo\":[{\"type\":\"scattergeo\",\"marker\":{\"colorbar\":{\"outlinewidth\":0,\"ticks\":\"\"}}}],\"scatterpolar\":[{\"type\":\"scatterpolar\",\"marker\":{\"colorbar\":{\"outlinewidth\":0,\"ticks\":\"\"}}}],\"histogram\":[{\"marker\":{\"pattern\":{\"fillmode\":\"overlay\",\"size\":10,\"solidity\":0.2}},\"type\":\"histogram\"}],\"scattergl\":[{\"type\":\"scattergl\",\"marker\":{\"colorbar\":{\"outlinewidth\":0,\"ticks\":\"\"}}}],\"scatter3d\":[{\"type\":\"scatter3d\",\"line\":{\"colorbar\":{\"outlinewidth\":0,\"ticks\":\"\"}},\"marker\":{\"colorbar\":{\"outlinewidth\":0,\"ticks\":\"\"}}}],\"scattermapbox\":[{\"type\":\"scattermapbox\",\"marker\":{\"colorbar\":{\"outlinewidth\":0,\"ticks\":\"\"}}}],\"scatterternary\":[{\"type\":\"scatterternary\",\"marker\":{\"colorbar\":{\"outlinewidth\":0,\"ticks\":\"\"}}}],\"scattercarpet\":[{\"type\":\"scattercarpet\",\"marker\":{\"colorbar\":{\"outlinewidth\":0,\"ticks\":\"\"}}}],\"carpet\":[{\"aaxis\":{\"endlinecolor\":\"#2a3f5f\",\"gridcolor\":\"white\",\"linecolor\":\"white\",\"minorgridcolor\":\"white\",\"startlinecolor\":\"#2a3f5f\"},\"baxis\":{\"endlinecolor\":\"#2a3f5f\",\"gridcolor\":\"white\",\"linecolor\":\"white\",\"minorgridcolor\":\"white\",\"startlinecolor\":\"#2a3f5f\"},\"type\":\"carpet\"}],\"table\":[{\"cells\":{\"fill\":{\"color\":\"#EBF0F8\"},\"line\":{\"color\":\"white\"}},\"header\":{\"fill\":{\"color\":\"#C8D4E3\"},\"line\":{\"color\":\"white\"}},\"type\":\"table\"}],\"barpolar\":[{\"marker\":{\"line\":{\"color\":\"#E5ECF6\",\"width\":0.5},\"pattern\":{\"fillmode\":\"overlay\",\"size\":10,\"solidity\":0.2}},\"type\":\"barpolar\"}],\"pie\":[{\"automargin\":true,\"type\":\"pie\"}]},\"layout\":{\"autotypenumbers\":\"strict\",\"colorway\":[\"#636efa\",\"#EF553B\",\"#00cc96\",\"#ab63fa\",\"#FFA15A\",\"#19d3f3\",\"#FF6692\",\"#B6E880\",\"#FF97FF\",\"#FECB52\"],\"font\":{\"color\":\"#2a3f5f\"},\"hovermode\":\"closest\",\"hoverlabel\":{\"align\":\"left\"},\"paper_bgcolor\":\"white\",\"plot_bgcolor\":\"#E5ECF6\",\"polar\":{\"bgcolor\":\"#E5ECF6\",\"angularaxis\":{\"gridcolor\":\"white\",\"linecolor\":\"white\",\"ticks\":\"\"},\"radialaxis\":{\"gridcolor\":\"white\",\"linecolor\":\"white\",\"ticks\":\"\"}},\"ternary\":{\"bgcolor\":\"#E5ECF6\",\"aaxis\":{\"gridcolor\":\"white\",\"linecolor\":\"white\",\"ticks\":\"\"},\"baxis\":{\"gridcolor\":\"white\",\"linecolor\":\"white\",\"ticks\":\"\"},\"caxis\":{\"gridcolor\":\"white\",\"linecolor\":\"white\",\"ticks\":\"\"}},\"coloraxis\":{\"colorbar\":{\"outlinewidth\":0,\"ticks\":\"\"}},\"colorscale\":{\"sequential\":[[0.0,\"#0d0887\"],[0.1111111111111111,\"#46039f\"],[0.2222222222222222,\"#7201a8\"],[0.3333333333333333,\"#9c179e\"],[0.4444444444444444,\"#bd3786\"],[0.5555555555555556,\"#d8576b\"],[0.6666666666666666,\"#ed7953\"],[0.7777777777777778,\"#fb9f3a\"],[0.8888888888888888,\"#fdca26\"],[1.0,\"#f0f921\"]],\"sequentialminus\":[[0.0,\"#0d0887\"],[0.1111111111111111,\"#46039f\"],[0.2222222222222222,\"#7201a8\"],[0.3333333333333333,\"#9c179e\"],[0.4444444444444444,\"#bd3786\"],[0.5555555555555556,\"#d8576b\"],[0.6666666666666666,\"#ed7953\"],[0.7777777777777778,\"#fb9f3a\"],[0.8888888888888888,\"#fdca26\"],[1.0,\"#f0f921\"]],\"diverging\":[[0,\"#8e0152\"],[0.1,\"#c51b7d\"],[0.2,\"#de77ae\"],[0.3,\"#f1b6da\"],[0.4,\"#fde0ef\"],[0.5,\"#f7f7f7\"],[0.6,\"#e6f5d0\"],[0.7,\"#b8e186\"],[0.8,\"#7fbc41\"],[0.9,\"#4d9221\"],[1,\"#276419\"]]},\"xaxis\":{\"gridcolor\":\"white\",\"linecolor\":\"white\",\"ticks\":\"\",\"title\":{\"standoff\":15},\"zerolinecolor\":\"white\",\"automargin\":true,\"zerolinewidth\":2},\"yaxis\":{\"gridcolor\":\"white\",\"linecolor\":\"white\",\"ticks\":\"\",\"title\":{\"standoff\":15},\"zerolinecolor\":\"white\",\"automargin\":true,\"zerolinewidth\":2},\"scene\":{\"xaxis\":{\"backgroundcolor\":\"#E5ECF6\",\"gridcolor\":\"white\",\"linecolor\":\"white\",\"showbackground\":true,\"ticks\":\"\",\"zerolinecolor\":\"white\",\"gridwidth\":2},\"yaxis\":{\"backgroundcolor\":\"#E5ECF6\",\"gridcolor\":\"white\",\"linecolor\":\"white\",\"showbackground\":true,\"ticks\":\"\",\"zerolinecolor\":\"white\",\"gridwidth\":2},\"zaxis\":{\"backgroundcolor\":\"#E5ECF6\",\"gridcolor\":\"white\",\"linecolor\":\"white\",\"showbackground\":true,\"ticks\":\"\",\"zerolinecolor\":\"white\",\"gridwidth\":2}},\"shapedefaults\":{\"line\":{\"color\":\"#2a3f5f\"}},\"annotationdefaults\":{\"arrowcolor\":\"#2a3f5f\",\"arrowhead\":0,\"arrowwidth\":1},\"geo\":{\"bgcolor\":\"white\",\"landcolor\":\"#E5ECF6\",\"subunitcolor\":\"white\",\"showland\":true,\"showlakes\":true,\"lakecolor\":\"white\"},\"title\":{\"x\":0.05},\"mapbox\":{\"style\":\"light\"}}},\"shapes\":[{\"line\":{\"color\":\"rgb(31, 119, 180)\",\"dash\":\"dot\"},\"path\":\"M -2.2613070921280185, 0.9940037687404677L-2.2752383427793497, 1.0201275484205394L-2.2906480861047456, 1.0429122612224386L-2.3074742725066075, 1.0622661611494344L-2.325649148870993, 1.0781113168773588L-2.345099531385492, 1.0903839255565448L-2.3657471002246098, 1.0990345697233819L-2.387508714916062, 1.1040284162870015L-2.410296749118112, 1.1053453567898386L-2.434019443459924, 1.102980088377294L-2.4585812750241596, 1.0969421351504591L-2.483883341984056, 1.0872558098159195L-2.5098237618461714, 1.0739601157870695L-2.5362980816952314, 1.0571085901311315L-2.5631996987891497, 1.0367690879942801L-2.5904202898106474, 1.0130235093729205L-2.617850247047019, 0.9859674693313065L-2.645379119741706, 0.9557099129934252L-2.672896058840511, 0.9223726768594334L-2.700290263341615, 0.8860899982130723L-2.7274514264521064, 0.8470079745955061L-2.754270179754502, 0.805283975522086L-2.7806385335947654, 0.7610860088108546L-2.8064503119185273, 0.7145920440743618L-2.8316015798045853, 0.6659892960988456L-2.855991061974145, 0.615473470996367L-2.879520550590625, 0.5632479781653676L-2.9020953007079533, 0.5095231112328158L-2.923624411775025, 0.45451520127599204L-2.9440211936601384, 0.39844574573359304L-2.9632035157215597, 0.3415405165137233L-2.981094137518628, 0.28402865089010515L-2.99762101983175, 0.22614172884715028L-3.0127176147389116, 0.16811284058909723L-3.0263231335806697, 0.11017564796802687L-3.038382791734633, 0.05256344361005255L-3.0488480292137954, -0.004491788471743724L-3.057676706200469, -0.060760306995058355L-3.064833272728455, -0.11601553849541996L-3.0702889118302115, -0.17003498965756692L-3.0740216555726088, -0.2226011432174974L-3.076016473514045, -0.27350233382772254L-3.0762653332267287, -0.32253360035891226L-3.07476723264043, -0.3694975112060264L-3.071528204077465, -0.41420495927570206L-3.066561289962662, -0.456475923453779L-3.05988649030612, -0.496140193486785L-3.0515306821702257, -0.5330380553585543L-3.0415275114452136, -0.5670209344021997L-3.0299172573690356, -0.5979519935578574L-3.0167466703370898, -0.6257066843672328L-3.0020687836548774, -0.6501732484862812L-2.9859426999915986, -0.6712531676966169L-2.9684333533945653, -0.6888615606036061L-2.9496112478227086, -0.7029275244237843L-2.9295521732520213, -0.7133944204853426L-2.9083369004960744, -0.7202201022920665L-2.886050855970458, -0.723377085232402L-2.862783777710756, -0.7228526572502862L-2.8386293540291505, -0.7186489300321097L-2.8136848462646524, -0.7107828305037001L-2.788050697146023, -0.6992860326715677L-2.7618301263443477, -0.6842048300828598L-2.7351287148438588, -0.6655999494175842L-2.7080539798045717, -0.6435463059637034L-2.680714941628631, -0.61813270195971L-2.653221684973628, -0.5894614690193549L-2.625684915480538, -0.5576480560783563L-2.5982155140011796, -0.5228205645222816L-2.570924090120155, -0.4851192323674807L-2.543920536769096, -0.44469586957209045L-2.5173135877266106, -0.40171324675091485L-2.491210379785737, -0.3563444397556053L-2.465716021351888, -0.3087721327592943L-2.440933169208401, -0.25918788265190584L-2.4169616151539053, -0.20779134770817176L-2.3938978841759684, -0.154789483634223L-2.3718348457790372, -0.10039571023000776L-2.3508613400317246, -0.04482905202308052L-2.3310618198392072, 0.011686743665863586L-2.3125160108811826, 0.06892410767448391L-2.295298590584697, 0.12665256533948932L-2.2794788874245038, 0.18463966453676098L-2.2651206017617627, 0.24265191168401734L-2.25228154934517, 0.30045571193705767L-2.2410134285073444, 0.35781830979375473L-2.2313616119938864, 0.4145087263183098L-2.2233649642633475, 0.47029868921190826L-2.2170556849937713, 0.5249635519846976L-2.212459179425956, 0.5782831985279149L-2.2095939560655142, 0.6300429294437664L-2.208471552155657, 0.6800343265641291L-2.209096487220783, 0.7280560921769514L-2.2114662448679523, 0.7739148595810943L-2.2155712829195107, 0.8174259717057857L-2.221395071836072, 0.8584142246594764L-2.2289141612751395, 0.8967145732140709L-2.238098274517358, 0.9321727953838082L-2.248910430380177, 0.9646461134227695L-2.2613070921280185, 0.9940037687404675 Z\",\"type\":\"path\"},{\"line\":{\"color\":\"rgb(255, 127, 14)\",\"dash\":\"dot\"},\"path\":\"M 1.63398091501741, 0.5489323381026345L1.6068856126864328, 0.5652892310769313L1.5754669837950173, 0.5783811613246694L1.5398515400726989, 0.5881554122634567L1.5001826923410992, 0.5945726264345235L1.4566201730491608, 0.5976069639813186L1.4093393930869527, 0.597246206697492L1.3585307354679252, 0.5934918072252979L1.3043987887237118, 0.5863588832063196L1.2471615230983182, 0.5758761564080603L1.1870494128588809, 0.5620858370715232L1.12430450825714, 0.5450434539454696L1.0591794608785032, 0.5248176306917449L0.991936506303285, 0.5014898095620137L0.9228464081765779, 0.4751539234585565L0.8521873679386185, 0.4459160176996248L0.7802439046057768, 0.41389382301237315L0.7073057091128973, 0.37921628147277303L0.6336664778301484, 0.3420230273013823L0.5596227299513976, 0.302463824605622L0.48547261351607346, 0.2606979643325735L0.4115147048722393, 0.21689362286055647L0.33804680641502094, 0.17122718481220933L0.26536474744146854, 0.12388253281586803L0.19376119295038857, 0.07505030707512178L0.12352446518368881, 0.024927137727998927L0.054937382654469846, -0.026285146913199886L-0.011723878663306153, -0.07838033305328149L-0.07619089739798979, -0.13114865176433094L-0.13820408761836855, -0.1843776236511482L-0.19751374409459443, -0.23785291443077908L-0.2538810477730111, -0.29135919798102455L-0.3070790274161944, -0.34468102338273715L-0.3568934735360165, -0.3976036824646304L-0.40312380093965106, -0.4499140743573039L-0.44558385641535025, -0.5014015635752331L-0.48410266830572457, -0.5518588281715254L-0.5185251349502669, -0.6010826945502294L-0.5487126492249941, -0.6488749555746942L-0.5745436566644173, -0.6950431686777556L-0.5959141449184711, -0.7394014307600302L-0.6127380625735372, -0.7817711267560852L-0.6249476656511148, -0.8219816488542644L-0.632493790388915, -0.8598710834741325L-0.6353460512059752, -0.8952868632353137L-0.6334929630546735, -0.9280863812924898L-0.6269419876669595, -0.9581375655628295L-0.6157195035085927, -0.9853194105336545L-0.5998706995623735, -1.0095224645089298L-0.5794593933680567, -1.0306492703326142L-0.5545677740516437, -1.0486147578142306L-0.5252960713787795, -1.0633465862764968L-0.49176215216486274, -1.0747854358457027L-0.45410104566697984, -1.0828852463119036L-0.41246439986874517, -1.08761340259713L-0.3670198708473934, -1.0889508660847942L-0.31795044768193004, -1.0868922512814811L-0.26545371562069586, -1.0814458475024282L-0.20974106047530605, -1.0726335854933795L-0.15103681744459752, -1.0604909491232126L-0.08957736779595737, -1.045066832502922L-0.02561018704139184, -1.0264233431062921L0.04060715155901934, -1.0046355516850196L0.10880801415372843, -0.9797911899852929L0.17871777994013693, -0.9519902974830139L0.2500549469656382, -0.9213448185601376L0.3225322656366307, -0.8879781517441552L0.3958578953712423, -0.8520246528257782L0.4697365797383568, -0.8136290938555875L0.5438708353510491, -0.7729460801980823L0.6179621497271914, -0.7301394279904448L0.6917121832938571, -0.6853815045127752L0.7648239706954885, -0.6388525341258874L0.8370031165685692, -0.5907398725714189L0.9079589809678492, -0.5412372525563851L0.9774058496708209, -0.4905440036599465L1.0450640846480574, -0.438864249703542L1.1106612500668587, -0.386406086816307L1.1739332092941943, -0.33338074550540586L1.234625188481698, -0.28000174010533524L1.2924928024500384, -0.2264840090310533L1.3473030387417795, -0.17304304929684566L1.3988351958803042, -0.11989404878590959L1.4468817720567704, -0.06725101976469355L1.491249300666655, -0.015325937131036832L1.5317591293314892, 0.035672115133930093L1.5682481392689303, 0.0855377858731794L1.6005694021145296, 0.13407028363042245L1.6285927715503963, 0.18107418516643375L1.6522054073584858, 0.2263602223594624L1.671312229788331, 0.2697460443211555L1.685836302409641, 0.31105695165922936L1.6957191419081512, 0.35012659993026113L1.7009209535772876, 0.3867976694500525L1.7014207915574053, 0.42092249876447213L1.697216643177373, 0.4523636792300168L1.6883254370588894, 0.4809946083099212L1.674782974950898, 0.5066999993578876L1.6566437875685796, 0.5293763458367235L1.63398091501741, 0.5489323381026345 Z\",\"type\":\"path\"},{\"line\":{\"color\":\"rgb(44, 160, 44)\",\"dash\":\"dot\"},\"path\":\"M 3.425073703872986, 0.9550318605364502L3.3953119925065307, 0.9717705475715517L3.3603715978881183, 0.9848163733886097L3.320393212654883, 0.9941168070515026L3.2755378156540362, 0.9996343989963996L3.2259860237378684, 1.0013469318279382L3.1719373644834294, 0.999247509780834L3.1136094727653996, 0.9933445864866924L3.0512372144172613, 0.9836619309342192L2.985071740509482, 0.9702385317598907L2.9153794760527982, 0.9531284402544775L2.842441047198725, 0.9324005527175714L2.766550151257094, 0.9081383330365046L2.688012374080644, 0.880439476606734L2.6071439595786448, 0.8494155169469633L2.5242705363142934, 0.8151913765930289L2.4397258063134166, 0.7779048640789391L2.353850201364193, 0.7377061190305461L2.2669895122184927, 0.6947570076062629L2.179493496214567, 0.6492304707191742L2.0917144689276896, 0.6013098276650165L2.0040058855196845, 0.5511880379600766L1.9167209174997373, 0.4990669243613231L1.8302110306273789, 0.4451563601973958L1.7448245696839189, 0.3896734242827849L1.6609053558109572, 0.33284152681806245L1.5787913020639968, 0.27488950979585464L1.4988130527558328, 0.2160507255349065L1.4212926520686047, 0.15656209705265486L1.3465422472955377, 0.09666316405985666L1.2748628319339628, 0.036595118418719L1.2065430336907386, -0.023400167051603783L1.1418579522803434, -0.08308111251148476L1.0810680516954199, -0.142207403857575L1.0244181114102078, -0.20054096038287958L0.9721362407399916, -0.2578468934437369L0.9244329603254002, -0.31389445227348217L0.8815003544400872, -0.3684579531343454L0.8435112975351577, -0.42131768806620684L0.8106187581347659, -0.47226080957301053L0.7829551828858614, -0.5210821876845052L0.7606319632422842, -0.567585235942238L0.7437389869306985, -0.6115827029838352L0.7323442760044392, -0.652897426538153L0.7264937129427156, -0.6913630467952114L0.7262108558980562, -0.7268246762784372L0.7314968438359479, -0.7591395235218619L0.7423303919486213, -0.7881774680409604L0.7586678773614597, -0.8138215842819161L0.7804435147869191, -0.8359686124395574L0.8075696214186634, -0.8545293742481493L0.839936969999276, -0.8694291320707935L0.8774152286398778, -0.8806078898415153L0.9198534856206402, -0.8880206346482447L0.9670808570590201, -0.891637517983927L1.0189071749988414, -0.891443975935926L1.0751237531495372, -0.8874407878297595L1.1355042271921851, -0.8796440730910305L1.1998054662687276, -0.8680852263381904L1.2677685519841249, -0.8528107909674897L1.3391198209793487, -0.8338822717391493L1.413571966877141, -0.8113758871193992L1.4908251971633926, -0.7853822623756148L1.5705684403457867, -0.7560060646603513L1.6524805985289093, -0.723365581553662L1.7362318403621415, -0.6875922447607627L1.821484929154102, -0.6488301008829416L1.9078965808057693, -0.6072352313927383L1.9951188460943974, -0.5629751241489396L2.082800511742224, -0.5162279989820872L2.1705885146283843, -0.46718209006612055L2.2581293634494815, -0.4160348879657979L2.3450705621043118, -0.3629923444118902L2.431062029071246, -0.3082680430062538L2.5157575070629625, -0.25208233919604733L2.598815957282327, -0.19466147298012187L2.6799029326652697, -0.13623665792039127L2.7586919245810666, -0.07704315012642676L2.8348656775673575, -0.01731930096213396L2.908117466805916, 0.0426944027110613L2.9781523331952413, 0.10275630688993052L3.044688271046755, 0.16262456348482113L3.107457363622172, 0.22205810415655203L3.166206861939651, 0.28081761101353664L3.220700202504738, 0.3386664802604638L3.270717959868063, 0.39537177491827485L3.316058730174178, 0.4507051627791618L3.356539942143803, 0.5044438358197836L3.3919985922239286, 0.5563714073705361L3.422291900945592, 0.6062787834282974L3.4472978878464033, 0.653965004604179L3.4669158626428223, 0.6992380553160611L3.481066830674386, 0.7419156369675681L3.489693810987326, 0.7818259020001764L3.4927620657767617, 0.818808145862678L3.490259240263577, 0.8527134541116914L3.4821954124427577, 0.8834053020375658L3.4686030525028597, 0.910760104401199L3.4495368920800225, 0.9346677130681809L3.4250737038729864, 0.9550318605364502 Z\",\"type\":\"path\"}]},                        {\"responsive\": true}                    ).then(function(){\n",
       "                            \n",
       "var gd = document.getElementById('5db0279f-7190-4cbd-835e-30453efe0867');\n",
       "var x = new MutationObserver(function (mutations, observer) {{\n",
       "        var display = window.getComputedStyle(gd).display;\n",
       "        if (!display || display === 'none') {{\n",
       "            console.log([gd, 'removed!']);\n",
       "            Plotly.purge(gd);\n",
       "            observer.disconnect();\n",
       "        }}\n",
       "}});\n",
       "\n",
       "// Listen for the removal of the full notebook cells\n",
       "var notebookContainer = gd.closest('#notebook-container');\n",
       "if (notebookContainer) {{\n",
       "    x.observe(notebookContainer, {childList: true});\n",
       "}}\n",
       "\n",
       "// Listen for the clearing of the current output cell\n",
       "var outputEl = gd.closest('.output');\n",
       "if (outputEl) {{\n",
       "    x.observe(outputEl, {childList: true});\n",
       "}}\n",
       "\n",
       "                        })                };                });            </script>        </div>"
      ]
     },
     "metadata": {},
     "output_type": "display_data"
    }
   ],
   "source": [
    "\"\"\" EXAMPLE \"\"\"\n",
    "from plotly import graph_objects as go\n",
    "from plotly.colors import DEFAULT_PLOTLY_COLORS\n",
    "from sklearn.datasets import load_iris\n",
    "from sklearn.decomposition import PCA\n",
    "import numpy as np\n",
    "\n",
    "iris = load_iris()\n",
    "\n",
    "pca = PCA(n_components=2)\n",
    "scores = pca.fit_transform(iris.data)\n",
    "\n",
    "fig = go.Figure()\n",
    "\n",
    "for target_value, target_name in enumerate(iris.target_names):\n",
    "    color = DEFAULT_PLOTLY_COLORS[target_value]\n",
    "    fig.add_trace(\n",
    "        go.Scatter(\n",
    "            x=scores[iris.target==target_value, 0],\n",
    "            y=scores[iris.target==target_value, 1],\n",
    "            name=target_name,\n",
    "            mode='markers',\n",
    "            marker={'color': color}\n",
    "        )\n",
    "    )\n",
    "    \n",
    "    fig.add_shape(type='path',\n",
    "                  path=confidence_ellipse(scores[iris.target==target_value, 0], scores[iris.target==target_value, 1]),\n",
    "                  line={'dash': 'dot'},\n",
    "                  line_color=color)\n",
    "        \n",
    "fig.show()"
   ]
  }
 ],
 "metadata": {
  "kernelspec": {
   "display_name": "Python 3 (ipykernel)",
   "language": "python",
   "name": "python3"
  },
  "language_info": {
   "codemirror_mode": {
    "name": "ipython",
    "version": 3
   },
   "file_extension": ".py",
   "mimetype": "text/x-python",
   "name": "python",
   "nbconvert_exporter": "python",
   "pygments_lexer": "ipython3",
   "version": "3.7.9"
  }
 },
 "nbformat": 4,
 "nbformat_minor": 5
}
