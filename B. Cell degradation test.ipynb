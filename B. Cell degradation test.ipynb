{
 "cells": [
  {
   "cell_type": "code",
   "execution_count": 234,
   "id": "e49aa4be",
   "metadata": {},
   "outputs": [],
   "source": [
    "import pandas as pd\n",
    "import seaborn as sns\n",
    "import matplotlib.pyplot as plt\n",
    "import plotly.express as px\n",
    "from plotly.subplots import make_subplots\n",
    "import plotly.graph_objects as go\n",
    "import math\n",
    "import tabulate"
   ]
  },
  {
   "cell_type": "code",
   "execution_count": 233,
   "id": "a893ed4e",
   "metadata": {},
   "outputs": [
    {
     "name": "stdout",
     "output_type": "stream",
     "text": [
      "Collecting tabulate\n",
      "  Downloading tabulate-0.9.0-py3-none-any.whl (35 kB)\n",
      "Installing collected packages: tabulate\n",
      "Successfully installed tabulate-0.9.0\n"
     ]
    }
   ],
   "source": [
    "!pip install tabulate"
   ]
  },
  {
   "cell_type": "markdown",
   "id": "607e177e",
   "metadata": {},
   "source": [
    "# Method (i)\n",
    "Taken directly from measurement and made into modules. Module performance measured directly and after 24 hours. To verify if the cells degrade after being put into a module."
   ]
  },
  {
   "cell_type": "code",
   "execution_count": 310,
   "id": "0c02737a",
   "metadata": {},
   "outputs": [
    {
     "data": {
      "text/html": [
       "<div>\n",
       "<style scoped>\n",
       "    .dataframe tbody tr th:only-of-type {\n",
       "        vertical-align: middle;\n",
       "    }\n",
       "\n",
       "    .dataframe tbody tr th {\n",
       "        vertical-align: top;\n",
       "    }\n",
       "\n",
       "    .dataframe thead th {\n",
       "        text-align: right;\n",
       "    }\n",
       "</style>\n",
       "<table border=\"1\" class=\"dataframe\">\n",
       "  <thead>\n",
       "    <tr style=\"text-align: right;\">\n",
       "      <th></th>\n",
       "      <th>Group</th>\n",
       "      <th>Voc</th>\n",
       "      <th>Isc</th>\n",
       "      <th>FF</th>\n",
       "      <th>Power</th>\n",
       "      <th>Type</th>\n",
       "      <th>Voc.1</th>\n",
       "      <th>Isc.1</th>\n",
       "      <th>FF.1</th>\n",
       "      <th>Power.1</th>\n",
       "      <th>Type.1</th>\n",
       "      <th>Symbol</th>\n",
       "    </tr>\n",
       "  </thead>\n",
       "  <tbody>\n",
       "    <tr>\n",
       "      <th>0</th>\n",
       "      <td>Module 1</td>\n",
       "      <td>2.38</td>\n",
       "      <td>6.58</td>\n",
       "      <td>60.1</td>\n",
       "      <td>9.399</td>\n",
       "      <td>Original</td>\n",
       "      <td>2.41</td>\n",
       "      <td>6.58</td>\n",
       "      <td>60.1</td>\n",
       "      <td>9.525</td>\n",
       "      <td>After 24h</td>\n",
       "      <td>circle</td>\n",
       "    </tr>\n",
       "    <tr>\n",
       "      <th>1</th>\n",
       "      <td>Module 2</td>\n",
       "      <td>2.39</td>\n",
       "      <td>6.59</td>\n",
       "      <td>59.6</td>\n",
       "      <td>9.388</td>\n",
       "      <td>Original</td>\n",
       "      <td>2.41</td>\n",
       "      <td>6.61</td>\n",
       "      <td>59.6</td>\n",
       "      <td>9.486</td>\n",
       "      <td>After 24h</td>\n",
       "      <td>cross</td>\n",
       "    </tr>\n",
       "    <tr>\n",
       "      <th>2</th>\n",
       "      <td>Module 3</td>\n",
       "      <td>2.39</td>\n",
       "      <td>6.57</td>\n",
       "      <td>59.4</td>\n",
       "      <td>9.314</td>\n",
       "      <td>Original</td>\n",
       "      <td>2.40</td>\n",
       "      <td>6.60</td>\n",
       "      <td>59.3</td>\n",
       "      <td>9.377</td>\n",
       "      <td>After 24h</td>\n",
       "      <td>diamond</td>\n",
       "    </tr>\n",
       "  </tbody>\n",
       "</table>\n",
       "</div>"
      ],
      "text/plain": [
       "      Group   Voc   Isc    FF  Power      Type  Voc.1  Isc.1  FF.1  Power.1  \\\n",
       "0  Module 1  2.38  6.58  60.1  9.399  Original   2.41   6.58  60.1    9.525   \n",
       "1  Module 2  2.39  6.59  59.6  9.388  Original   2.41   6.61  59.6    9.486   \n",
       "2  Module 3  2.39  6.57  59.4  9.314  Original   2.40   6.60  59.3    9.377   \n",
       "\n",
       "      Type.1   Symbol  \n",
       "0  After 24h   circle  \n",
       "1  After 24h    cross  \n",
       "2  After 24h  diamond  "
      ]
     },
     "execution_count": 310,
     "metadata": {},
     "output_type": "execute_result"
    }
   ],
   "source": [
    "Cell_degradation_test_1 = pd.read_excel('B. Cell degradation test.xlsx', \n",
    "                                        usecols='B:K', skiprows = 6, nrows = 3)\n",
    "Cell_degradation_test_1.columns = Cell_degradation_test_1.columns.str.replace('Unnamed: 6', 'Type')\n",
    "Cell_degradation_test_1.iloc[:,5] = \"Original\"\n",
    "Cell_degradation_test_1[\"Type.1\"] = \"After 24h\"\n",
    "Cell_degradation_test_1[\"Symbol\"] = [\"circle\",\"cross\",\"diamond\"]\n",
    "Cell_degradation_test_1"
   ]
  },
  {
   "cell_type": "code",
   "execution_count": 346,
   "id": "f7c45801",
   "metadata": {},
   "outputs": [
    {
     "data": {
      "text/plain": [
       "27.038132807363578"
      ]
     },
     "execution_count": 346,
     "metadata": {},
     "output_type": "execute_result"
    }
   ],
   "source": [
    "6.58 * 1000 / 15.6 /15.6"
   ]
  },
  {
   "cell_type": "code",
   "execution_count": 349,
   "id": "4d4811e3",
   "metadata": {},
   "outputs": [
    {
     "data": {
      "application/vnd.plotly.v1+json": {
       "config": {
        "plotlyServerURL": "https://plot.ly"
       },
       "data": [
        {
         "marker": {
          "color": "rgba(31, 119, 180,0.6)",
          "line": {
           "color": "rgb(31, 119, 180)",
           "width": 2
          },
          "size": 10,
          "symbol": [
           "circle",
           "cross",
           "diamond"
          ]
         },
         "mode": "markers",
         "name": "I-V Original",
         "type": "scatter",
         "x": [
          2.38,
          2.39,
          2.39
         ],
         "xaxis": "x",
         "y": [
          6.58,
          6.59,
          6.57
         ],
         "yaxis": "y"
        },
        {
         "marker": {
          "color": "rgba(255, 127, 14,0.6)",
          "line": {
           "color": "rgb(255, 127, 14)",
           "width": 2
          },
          "size": 10,
          "symbol": [
           "circle",
           "cross",
           "diamond"
          ]
         },
         "mode": "markers",
         "name": "I-V after 24 hours",
         "type": "scatter",
         "x": [
          2.41,
          2.41,
          2.4
         ],
         "xaxis": "x",
         "y": [
          6.58,
          6.61,
          6.6
         ],
         "yaxis": "y"
        },
        {
         "line": {
          "color": "rgba(44, 160, 44, 0.6)"
         },
         "marker": {
          "color": "rgb(44, 160, 44)"
         },
         "name": "FF Original ",
         "offsetgroup": "A",
         "type": "box",
         "x": [
          "Original",
          "Original",
          "Original"
         ],
         "xaxis": "x2",
         "y": [
          60.1,
          59.6,
          59.4
         ],
         "yaxis": "y2"
        },
        {
         "marker": {
          "color": "rgba(44, 160, 44,0.6)",
          "line": {
           "color": "rgb(44, 160, 44)",
           "width": 1
          },
          "size": 8,
          "symbol": [
           "circle",
           "cross",
           "diamond"
          ]
         },
         "mode": "markers",
         "showlegend": false,
         "type": "scatter",
         "x": [
          "Original",
          "Original",
          "Original"
         ],
         "xaxis": "x2",
         "y": [
          60.1,
          59.6,
          59.4
         ],
         "yaxis": "y2"
        },
        {
         "line": {
          "color": "rgba(214, 39, 40, 0.6)"
         },
         "marker": {
          "color": "rgb(214, 39, 40)"
         },
         "name": "FF after 24h",
         "offsetgroup": "B",
         "type": "box",
         "x": [
          "After 24h",
          "After 24h",
          "After 24h"
         ],
         "xaxis": "x2",
         "y": [
          60.1,
          59.6,
          59.3
         ],
         "yaxis": "y2"
        },
        {
         "marker": {
          "color": "rgba(214, 39, 40,0.6)",
          "line": {
           "color": "rgb(214, 39, 40)",
           "width": 1
          },
          "size": 8,
          "symbol": [
           "circle",
           "cross",
           "diamond"
          ]
         },
         "mode": "markers",
         "showlegend": false,
         "type": "scatter",
         "x": [
          "After 24h",
          "After 24h",
          "After 24h"
         ],
         "xaxis": "x2",
         "y": [
          60.1,
          59.6,
          59.3
         ],
         "yaxis": "y2"
        },
        {
         "line": {
          "color": "rgba(148, 103, 189, 0.6)"
         },
         "marker": {
          "color": "rgb(148, 103, 189)"
         },
         "name": "Power Original ",
         "offsetgroup": "A",
         "type": "box",
         "x": [
          "Original",
          "Original",
          "Original"
         ],
         "xaxis": "x3",
         "y": [
          9.399,
          9.388,
          9.314
         ],
         "yaxis": "y3"
        },
        {
         "marker": {
          "color": "rgba(148, 103, 189,0.6)",
          "line": {
           "color": "rgb(148, 103, 189)",
           "width": 1
          },
          "size": 8,
          "symbol": [
           "circle",
           "cross",
           "diamond"
          ]
         },
         "mode": "markers",
         "showlegend": false,
         "type": "scatter",
         "x": [
          "Original",
          "Original",
          "Original"
         ],
         "xaxis": "x3",
         "y": [
          9.399,
          9.388,
          9.314
         ],
         "yaxis": "y3"
        },
        {
         "line": {
          "color": "rgba(140, 86, 75, 0.6)"
         },
         "marker": {
          "color": "rgb(140, 86, 75)"
         },
         "name": "Power after 24h",
         "offsetgroup": "B",
         "type": "box",
         "x": [
          "After 24h",
          "After 24h",
          "After 24h"
         ],
         "xaxis": "x3",
         "y": [
          9.525,
          9.486,
          9.377
         ],
         "yaxis": "y3"
        },
        {
         "marker": {
          "color": "rgba(140, 86, 75,0.6)",
          "line": {
           "color": "rgb(140, 86, 75)",
           "width": 1
          },
          "size": 8,
          "symbol": [
           "circle",
           "cross",
           "diamond"
          ]
         },
         "mode": "markers",
         "showlegend": false,
         "type": "scatter",
         "x": [
          "After 24h",
          "After 24h",
          "After 24h"
         ],
         "xaxis": "x3",
         "y": [
          9.525,
          9.486,
          9.377
         ],
         "yaxis": "y3"
        }
       ],
       "layout": {
        "boxmode": "group",
        "height": 700,
        "template": {
         "data": {
          "bar": [
           {
            "error_x": {
             "color": "#2a3f5f"
            },
            "error_y": {
             "color": "#2a3f5f"
            },
            "marker": {
             "line": {
              "color": "#E5ECF6",
              "width": 0.5
             },
             "pattern": {
              "fillmode": "overlay",
              "size": 10,
              "solidity": 0.2
             }
            },
            "type": "bar"
           }
          ],
          "barpolar": [
           {
            "marker": {
             "line": {
              "color": "#E5ECF6",
              "width": 0.5
             },
             "pattern": {
              "fillmode": "overlay",
              "size": 10,
              "solidity": 0.2
             }
            },
            "type": "barpolar"
           }
          ],
          "carpet": [
           {
            "aaxis": {
             "endlinecolor": "#2a3f5f",
             "gridcolor": "white",
             "linecolor": "white",
             "minorgridcolor": "white",
             "startlinecolor": "#2a3f5f"
            },
            "baxis": {
             "endlinecolor": "#2a3f5f",
             "gridcolor": "white",
             "linecolor": "white",
             "minorgridcolor": "white",
             "startlinecolor": "#2a3f5f"
            },
            "type": "carpet"
           }
          ],
          "choropleth": [
           {
            "colorbar": {
             "outlinewidth": 0,
             "ticks": ""
            },
            "type": "choropleth"
           }
          ],
          "contour": [
           {
            "colorbar": {
             "outlinewidth": 0,
             "ticks": ""
            },
            "colorscale": [
             [
              0,
              "#0d0887"
             ],
             [
              0.1111111111111111,
              "#46039f"
             ],
             [
              0.2222222222222222,
              "#7201a8"
             ],
             [
              0.3333333333333333,
              "#9c179e"
             ],
             [
              0.4444444444444444,
              "#bd3786"
             ],
             [
              0.5555555555555556,
              "#d8576b"
             ],
             [
              0.6666666666666666,
              "#ed7953"
             ],
             [
              0.7777777777777778,
              "#fb9f3a"
             ],
             [
              0.8888888888888888,
              "#fdca26"
             ],
             [
              1,
              "#f0f921"
             ]
            ],
            "type": "contour"
           }
          ],
          "contourcarpet": [
           {
            "colorbar": {
             "outlinewidth": 0,
             "ticks": ""
            },
            "type": "contourcarpet"
           }
          ],
          "heatmap": [
           {
            "colorbar": {
             "outlinewidth": 0,
             "ticks": ""
            },
            "colorscale": [
             [
              0,
              "#0d0887"
             ],
             [
              0.1111111111111111,
              "#46039f"
             ],
             [
              0.2222222222222222,
              "#7201a8"
             ],
             [
              0.3333333333333333,
              "#9c179e"
             ],
             [
              0.4444444444444444,
              "#bd3786"
             ],
             [
              0.5555555555555556,
              "#d8576b"
             ],
             [
              0.6666666666666666,
              "#ed7953"
             ],
             [
              0.7777777777777778,
              "#fb9f3a"
             ],
             [
              0.8888888888888888,
              "#fdca26"
             ],
             [
              1,
              "#f0f921"
             ]
            ],
            "type": "heatmap"
           }
          ],
          "heatmapgl": [
           {
            "colorbar": {
             "outlinewidth": 0,
             "ticks": ""
            },
            "colorscale": [
             [
              0,
              "#0d0887"
             ],
             [
              0.1111111111111111,
              "#46039f"
             ],
             [
              0.2222222222222222,
              "#7201a8"
             ],
             [
              0.3333333333333333,
              "#9c179e"
             ],
             [
              0.4444444444444444,
              "#bd3786"
             ],
             [
              0.5555555555555556,
              "#d8576b"
             ],
             [
              0.6666666666666666,
              "#ed7953"
             ],
             [
              0.7777777777777778,
              "#fb9f3a"
             ],
             [
              0.8888888888888888,
              "#fdca26"
             ],
             [
              1,
              "#f0f921"
             ]
            ],
            "type": "heatmapgl"
           }
          ],
          "histogram": [
           {
            "marker": {
             "pattern": {
              "fillmode": "overlay",
              "size": 10,
              "solidity": 0.2
             }
            },
            "type": "histogram"
           }
          ],
          "histogram2d": [
           {
            "colorbar": {
             "outlinewidth": 0,
             "ticks": ""
            },
            "colorscale": [
             [
              0,
              "#0d0887"
             ],
             [
              0.1111111111111111,
              "#46039f"
             ],
             [
              0.2222222222222222,
              "#7201a8"
             ],
             [
              0.3333333333333333,
              "#9c179e"
             ],
             [
              0.4444444444444444,
              "#bd3786"
             ],
             [
              0.5555555555555556,
              "#d8576b"
             ],
             [
              0.6666666666666666,
              "#ed7953"
             ],
             [
              0.7777777777777778,
              "#fb9f3a"
             ],
             [
              0.8888888888888888,
              "#fdca26"
             ],
             [
              1,
              "#f0f921"
             ]
            ],
            "type": "histogram2d"
           }
          ],
          "histogram2dcontour": [
           {
            "colorbar": {
             "outlinewidth": 0,
             "ticks": ""
            },
            "colorscale": [
             [
              0,
              "#0d0887"
             ],
             [
              0.1111111111111111,
              "#46039f"
             ],
             [
              0.2222222222222222,
              "#7201a8"
             ],
             [
              0.3333333333333333,
              "#9c179e"
             ],
             [
              0.4444444444444444,
              "#bd3786"
             ],
             [
              0.5555555555555556,
              "#d8576b"
             ],
             [
              0.6666666666666666,
              "#ed7953"
             ],
             [
              0.7777777777777778,
              "#fb9f3a"
             ],
             [
              0.8888888888888888,
              "#fdca26"
             ],
             [
              1,
              "#f0f921"
             ]
            ],
            "type": "histogram2dcontour"
           }
          ],
          "mesh3d": [
           {
            "colorbar": {
             "outlinewidth": 0,
             "ticks": ""
            },
            "type": "mesh3d"
           }
          ],
          "parcoords": [
           {
            "line": {
             "colorbar": {
              "outlinewidth": 0,
              "ticks": ""
             }
            },
            "type": "parcoords"
           }
          ],
          "pie": [
           {
            "automargin": true,
            "type": "pie"
           }
          ],
          "scatter": [
           {
            "fillpattern": {
             "fillmode": "overlay",
             "size": 10,
             "solidity": 0.2
            },
            "type": "scatter"
           }
          ],
          "scatter3d": [
           {
            "line": {
             "colorbar": {
              "outlinewidth": 0,
              "ticks": ""
             }
            },
            "marker": {
             "colorbar": {
              "outlinewidth": 0,
              "ticks": ""
             }
            },
            "type": "scatter3d"
           }
          ],
          "scattercarpet": [
           {
            "marker": {
             "colorbar": {
              "outlinewidth": 0,
              "ticks": ""
             }
            },
            "type": "scattercarpet"
           }
          ],
          "scattergeo": [
           {
            "marker": {
             "colorbar": {
              "outlinewidth": 0,
              "ticks": ""
             }
            },
            "type": "scattergeo"
           }
          ],
          "scattergl": [
           {
            "marker": {
             "colorbar": {
              "outlinewidth": 0,
              "ticks": ""
             }
            },
            "type": "scattergl"
           }
          ],
          "scattermapbox": [
           {
            "marker": {
             "colorbar": {
              "outlinewidth": 0,
              "ticks": ""
             }
            },
            "type": "scattermapbox"
           }
          ],
          "scatterpolar": [
           {
            "marker": {
             "colorbar": {
              "outlinewidth": 0,
              "ticks": ""
             }
            },
            "type": "scatterpolar"
           }
          ],
          "scatterpolargl": [
           {
            "marker": {
             "colorbar": {
              "outlinewidth": 0,
              "ticks": ""
             }
            },
            "type": "scatterpolargl"
           }
          ],
          "scatterternary": [
           {
            "marker": {
             "colorbar": {
              "outlinewidth": 0,
              "ticks": ""
             }
            },
            "type": "scatterternary"
           }
          ],
          "surface": [
           {
            "colorbar": {
             "outlinewidth": 0,
             "ticks": ""
            },
            "colorscale": [
             [
              0,
              "#0d0887"
             ],
             [
              0.1111111111111111,
              "#46039f"
             ],
             [
              0.2222222222222222,
              "#7201a8"
             ],
             [
              0.3333333333333333,
              "#9c179e"
             ],
             [
              0.4444444444444444,
              "#bd3786"
             ],
             [
              0.5555555555555556,
              "#d8576b"
             ],
             [
              0.6666666666666666,
              "#ed7953"
             ],
             [
              0.7777777777777778,
              "#fb9f3a"
             ],
             [
              0.8888888888888888,
              "#fdca26"
             ],
             [
              1,
              "#f0f921"
             ]
            ],
            "type": "surface"
           }
          ],
          "table": [
           {
            "cells": {
             "fill": {
              "color": "#EBF0F8"
             },
             "line": {
              "color": "white"
             }
            },
            "header": {
             "fill": {
              "color": "#C8D4E3"
             },
             "line": {
              "color": "white"
             }
            },
            "type": "table"
           }
          ]
         },
         "layout": {
          "annotationdefaults": {
           "arrowcolor": "#2a3f5f",
           "arrowhead": 0,
           "arrowwidth": 1
          },
          "autotypenumbers": "strict",
          "coloraxis": {
           "colorbar": {
            "outlinewidth": 0,
            "ticks": ""
           }
          },
          "colorscale": {
           "diverging": [
            [
             0,
             "#8e0152"
            ],
            [
             0.1,
             "#c51b7d"
            ],
            [
             0.2,
             "#de77ae"
            ],
            [
             0.3,
             "#f1b6da"
            ],
            [
             0.4,
             "#fde0ef"
            ],
            [
             0.5,
             "#f7f7f7"
            ],
            [
             0.6,
             "#e6f5d0"
            ],
            [
             0.7,
             "#b8e186"
            ],
            [
             0.8,
             "#7fbc41"
            ],
            [
             0.9,
             "#4d9221"
            ],
            [
             1,
             "#276419"
            ]
           ],
           "sequential": [
            [
             0,
             "#0d0887"
            ],
            [
             0.1111111111111111,
             "#46039f"
            ],
            [
             0.2222222222222222,
             "#7201a8"
            ],
            [
             0.3333333333333333,
             "#9c179e"
            ],
            [
             0.4444444444444444,
             "#bd3786"
            ],
            [
             0.5555555555555556,
             "#d8576b"
            ],
            [
             0.6666666666666666,
             "#ed7953"
            ],
            [
             0.7777777777777778,
             "#fb9f3a"
            ],
            [
             0.8888888888888888,
             "#fdca26"
            ],
            [
             1,
             "#f0f921"
            ]
           ],
           "sequentialminus": [
            [
             0,
             "#0d0887"
            ],
            [
             0.1111111111111111,
             "#46039f"
            ],
            [
             0.2222222222222222,
             "#7201a8"
            ],
            [
             0.3333333333333333,
             "#9c179e"
            ],
            [
             0.4444444444444444,
             "#bd3786"
            ],
            [
             0.5555555555555556,
             "#d8576b"
            ],
            [
             0.6666666666666666,
             "#ed7953"
            ],
            [
             0.7777777777777778,
             "#fb9f3a"
            ],
            [
             0.8888888888888888,
             "#fdca26"
            ],
            [
             1,
             "#f0f921"
            ]
           ]
          },
          "colorway": [
           "#636efa",
           "#EF553B",
           "#00cc96",
           "#ab63fa",
           "#FFA15A",
           "#19d3f3",
           "#FF6692",
           "#B6E880",
           "#FF97FF",
           "#FECB52"
          ],
          "font": {
           "color": "#2a3f5f"
          },
          "geo": {
           "bgcolor": "white",
           "lakecolor": "white",
           "landcolor": "#E5ECF6",
           "showlakes": true,
           "showland": true,
           "subunitcolor": "white"
          },
          "hoverlabel": {
           "align": "left"
          },
          "hovermode": "closest",
          "mapbox": {
           "style": "light"
          },
          "paper_bgcolor": "white",
          "plot_bgcolor": "#E5ECF6",
          "polar": {
           "angularaxis": {
            "gridcolor": "white",
            "linecolor": "white",
            "ticks": ""
           },
           "bgcolor": "#E5ECF6",
           "radialaxis": {
            "gridcolor": "white",
            "linecolor": "white",
            "ticks": ""
           }
          },
          "scene": {
           "xaxis": {
            "backgroundcolor": "#E5ECF6",
            "gridcolor": "white",
            "gridwidth": 2,
            "linecolor": "white",
            "showbackground": true,
            "ticks": "",
            "zerolinecolor": "white"
           },
           "yaxis": {
            "backgroundcolor": "#E5ECF6",
            "gridcolor": "white",
            "gridwidth": 2,
            "linecolor": "white",
            "showbackground": true,
            "ticks": "",
            "zerolinecolor": "white"
           },
           "zaxis": {
            "backgroundcolor": "#E5ECF6",
            "gridcolor": "white",
            "gridwidth": 2,
            "linecolor": "white",
            "showbackground": true,
            "ticks": "",
            "zerolinecolor": "white"
           }
          },
          "shapedefaults": {
           "line": {
            "color": "#2a3f5f"
           }
          },
          "ternary": {
           "aaxis": {
            "gridcolor": "white",
            "linecolor": "white",
            "ticks": ""
           },
           "baxis": {
            "gridcolor": "white",
            "linecolor": "white",
            "ticks": ""
           },
           "bgcolor": "#E5ECF6",
           "caxis": {
            "gridcolor": "white",
            "linecolor": "white",
            "ticks": ""
           }
          },
          "title": {
           "x": 0.05
          },
          "xaxis": {
           "automargin": true,
           "gridcolor": "white",
           "linecolor": "white",
           "ticks": "",
           "title": {
            "standoff": 15
           },
           "zerolinecolor": "white",
           "zerolinewidth": 2
          },
          "yaxis": {
           "automargin": true,
           "gridcolor": "white",
           "linecolor": "white",
           "ticks": "",
           "title": {
            "standoff": 15
           },
           "zerolinecolor": "white",
           "zerolinewidth": 2
          }
         }
        },
        "width": 900,
        "xaxis": {
         "anchor": "y",
         "domain": [
          0,
          1
         ],
         "title": {
          "text": "Voc [V]"
         }
        },
        "xaxis2": {
         "anchor": "y2",
         "domain": [
          0,
          1
         ]
        },
        "xaxis3": {
         "anchor": "y3",
         "domain": [
          0,
          1
         ]
        },
        "yaxis": {
         "anchor": "x",
         "domain": [
          0.7333333333333334,
          1
         ],
         "title": {
          "text": "Isc [A]"
         }
        },
        "yaxis2": {
         "anchor": "x2",
         "domain": [
          0.3666666666666667,
          0.6333333333333333
         ],
         "title": {
          "text": "FF [%]"
         }
        },
        "yaxis3": {
         "anchor": "x3",
         "domain": [
          0,
          0.26666666666666666
         ],
         "title": {
          "text": "Power"
         }
        }
       }
      },
      "text/html": [
       "<div>                            <div id=\"9ba14ae5-8e60-48da-9ba0-a875b10655af\" class=\"plotly-graph-div\" style=\"height:700px; width:900px;\"></div>            <script type=\"text/javascript\">                require([\"plotly\"], function(Plotly) {                    window.PLOTLYENV=window.PLOTLYENV || {};                                    if (document.getElementById(\"9ba14ae5-8e60-48da-9ba0-a875b10655af\")) {                    Plotly.newPlot(                        \"9ba14ae5-8e60-48da-9ba0-a875b10655af\",                        [{\"marker\":{\"color\":\"rgba(31, 119, 180,0.6)\",\"line\":{\"color\":\"rgb(31, 119, 180)\",\"width\":2},\"size\":10,\"symbol\":[\"circle\",\"cross\",\"diamond\"]},\"mode\":\"markers\",\"name\":\"I-V Original\",\"x\":[2.38,2.39,2.39],\"y\":[6.58,6.59,6.57],\"type\":\"scatter\",\"xaxis\":\"x\",\"yaxis\":\"y\"},{\"marker\":{\"color\":\"rgba(255, 127, 14,0.6)\",\"line\":{\"color\":\"rgb(255, 127, 14)\",\"width\":2},\"size\":10,\"symbol\":[\"circle\",\"cross\",\"diamond\"]},\"mode\":\"markers\",\"name\":\"I-V after 24 hours\",\"x\":[2.41,2.41,2.4],\"y\":[6.58,6.61,6.6],\"type\":\"scatter\",\"xaxis\":\"x\",\"yaxis\":\"y\"},{\"line\":{\"color\":\"rgba(44, 160, 44, 0.6)\"},\"marker\":{\"color\":\"rgb(44, 160, 44)\"},\"name\":\"FF Original \",\"offsetgroup\":\"A\",\"x\":[\"Original\",\"Original\",\"Original\"],\"y\":[60.1,59.6,59.4],\"type\":\"box\",\"xaxis\":\"x2\",\"yaxis\":\"y2\"},{\"marker\":{\"color\":\"rgba(44, 160, 44,0.6)\",\"line\":{\"color\":\"rgb(44, 160, 44)\",\"width\":1},\"size\":8,\"symbol\":[\"circle\",\"cross\",\"diamond\"]},\"mode\":\"markers\",\"showlegend\":false,\"x\":[\"Original\",\"Original\",\"Original\"],\"y\":[60.1,59.6,59.4],\"type\":\"scatter\",\"xaxis\":\"x2\",\"yaxis\":\"y2\"},{\"line\":{\"color\":\"rgba(214, 39, 40, 0.6)\"},\"marker\":{\"color\":\"rgb(214, 39, 40)\"},\"name\":\"FF after 24h\",\"offsetgroup\":\"B\",\"x\":[\"After 24h\",\"After 24h\",\"After 24h\"],\"y\":[60.1,59.6,59.3],\"type\":\"box\",\"xaxis\":\"x2\",\"yaxis\":\"y2\"},{\"marker\":{\"color\":\"rgba(214, 39, 40,0.6)\",\"line\":{\"color\":\"rgb(214, 39, 40)\",\"width\":1},\"size\":8,\"symbol\":[\"circle\",\"cross\",\"diamond\"]},\"mode\":\"markers\",\"showlegend\":false,\"x\":[\"After 24h\",\"After 24h\",\"After 24h\"],\"y\":[60.1,59.6,59.3],\"type\":\"scatter\",\"xaxis\":\"x2\",\"yaxis\":\"y2\"},{\"line\":{\"color\":\"rgba(148, 103, 189, 0.6)\"},\"marker\":{\"color\":\"rgb(148, 103, 189)\"},\"name\":\"Power Original \",\"offsetgroup\":\"A\",\"x\":[\"Original\",\"Original\",\"Original\"],\"y\":[9.399,9.388,9.314],\"type\":\"box\",\"xaxis\":\"x3\",\"yaxis\":\"y3\"},{\"marker\":{\"color\":\"rgba(148, 103, 189,0.6)\",\"line\":{\"color\":\"rgb(148, 103, 189)\",\"width\":1},\"size\":8,\"symbol\":[\"circle\",\"cross\",\"diamond\"]},\"mode\":\"markers\",\"showlegend\":false,\"x\":[\"Original\",\"Original\",\"Original\"],\"y\":[9.399,9.388,9.314],\"type\":\"scatter\",\"xaxis\":\"x3\",\"yaxis\":\"y3\"},{\"line\":{\"color\":\"rgba(140, 86, 75, 0.6)\"},\"marker\":{\"color\":\"rgb(140, 86, 75)\"},\"name\":\"Power after 24h\",\"offsetgroup\":\"B\",\"x\":[\"After 24h\",\"After 24h\",\"After 24h\"],\"y\":[9.525,9.486,9.377],\"type\":\"box\",\"xaxis\":\"x3\",\"yaxis\":\"y3\"},{\"marker\":{\"color\":\"rgba(140, 86, 75,0.6)\",\"line\":{\"color\":\"rgb(140, 86, 75)\",\"width\":1},\"size\":8,\"symbol\":[\"circle\",\"cross\",\"diamond\"]},\"mode\":\"markers\",\"showlegend\":false,\"x\":[\"After 24h\",\"After 24h\",\"After 24h\"],\"y\":[9.525,9.486,9.377],\"type\":\"scatter\",\"xaxis\":\"x3\",\"yaxis\":\"y3\"}],                        {\"template\":{\"data\":{\"histogram2dcontour\":[{\"type\":\"histogram2dcontour\",\"colorbar\":{\"outlinewidth\":0,\"ticks\":\"\"},\"colorscale\":[[0.0,\"#0d0887\"],[0.1111111111111111,\"#46039f\"],[0.2222222222222222,\"#7201a8\"],[0.3333333333333333,\"#9c179e\"],[0.4444444444444444,\"#bd3786\"],[0.5555555555555556,\"#d8576b\"],[0.6666666666666666,\"#ed7953\"],[0.7777777777777778,\"#fb9f3a\"],[0.8888888888888888,\"#fdca26\"],[1.0,\"#f0f921\"]]}],\"choropleth\":[{\"type\":\"choropleth\",\"colorbar\":{\"outlinewidth\":0,\"ticks\":\"\"}}],\"histogram2d\":[{\"type\":\"histogram2d\",\"colorbar\":{\"outlinewidth\":0,\"ticks\":\"\"},\"colorscale\":[[0.0,\"#0d0887\"],[0.1111111111111111,\"#46039f\"],[0.2222222222222222,\"#7201a8\"],[0.3333333333333333,\"#9c179e\"],[0.4444444444444444,\"#bd3786\"],[0.5555555555555556,\"#d8576b\"],[0.6666666666666666,\"#ed7953\"],[0.7777777777777778,\"#fb9f3a\"],[0.8888888888888888,\"#fdca26\"],[1.0,\"#f0f921\"]]}],\"heatmap\":[{\"type\":\"heatmap\",\"colorbar\":{\"outlinewidth\":0,\"ticks\":\"\"},\"colorscale\":[[0.0,\"#0d0887\"],[0.1111111111111111,\"#46039f\"],[0.2222222222222222,\"#7201a8\"],[0.3333333333333333,\"#9c179e\"],[0.4444444444444444,\"#bd3786\"],[0.5555555555555556,\"#d8576b\"],[0.6666666666666666,\"#ed7953\"],[0.7777777777777778,\"#fb9f3a\"],[0.8888888888888888,\"#fdca26\"],[1.0,\"#f0f921\"]]}],\"heatmapgl\":[{\"type\":\"heatmapgl\",\"colorbar\":{\"outlinewidth\":0,\"ticks\":\"\"},\"colorscale\":[[0.0,\"#0d0887\"],[0.1111111111111111,\"#46039f\"],[0.2222222222222222,\"#7201a8\"],[0.3333333333333333,\"#9c179e\"],[0.4444444444444444,\"#bd3786\"],[0.5555555555555556,\"#d8576b\"],[0.6666666666666666,\"#ed7953\"],[0.7777777777777778,\"#fb9f3a\"],[0.8888888888888888,\"#fdca26\"],[1.0,\"#f0f921\"]]}],\"contourcarpet\":[{\"type\":\"contourcarpet\",\"colorbar\":{\"outlinewidth\":0,\"ticks\":\"\"}}],\"contour\":[{\"type\":\"contour\",\"colorbar\":{\"outlinewidth\":0,\"ticks\":\"\"},\"colorscale\":[[0.0,\"#0d0887\"],[0.1111111111111111,\"#46039f\"],[0.2222222222222222,\"#7201a8\"],[0.3333333333333333,\"#9c179e\"],[0.4444444444444444,\"#bd3786\"],[0.5555555555555556,\"#d8576b\"],[0.6666666666666666,\"#ed7953\"],[0.7777777777777778,\"#fb9f3a\"],[0.8888888888888888,\"#fdca26\"],[1.0,\"#f0f921\"]]}],\"surface\":[{\"type\":\"surface\",\"colorbar\":{\"outlinewidth\":0,\"ticks\":\"\"},\"colorscale\":[[0.0,\"#0d0887\"],[0.1111111111111111,\"#46039f\"],[0.2222222222222222,\"#7201a8\"],[0.3333333333333333,\"#9c179e\"],[0.4444444444444444,\"#bd3786\"],[0.5555555555555556,\"#d8576b\"],[0.6666666666666666,\"#ed7953\"],[0.7777777777777778,\"#fb9f3a\"],[0.8888888888888888,\"#fdca26\"],[1.0,\"#f0f921\"]]}],\"mesh3d\":[{\"type\":\"mesh3d\",\"colorbar\":{\"outlinewidth\":0,\"ticks\":\"\"}}],\"scatter\":[{\"fillpattern\":{\"fillmode\":\"overlay\",\"size\":10,\"solidity\":0.2},\"type\":\"scatter\"}],\"parcoords\":[{\"type\":\"parcoords\",\"line\":{\"colorbar\":{\"outlinewidth\":0,\"ticks\":\"\"}}}],\"scatterpolargl\":[{\"type\":\"scatterpolargl\",\"marker\":{\"colorbar\":{\"outlinewidth\":0,\"ticks\":\"\"}}}],\"bar\":[{\"error_x\":{\"color\":\"#2a3f5f\"},\"error_y\":{\"color\":\"#2a3f5f\"},\"marker\":{\"line\":{\"color\":\"#E5ECF6\",\"width\":0.5},\"pattern\":{\"fillmode\":\"overlay\",\"size\":10,\"solidity\":0.2}},\"type\":\"bar\"}],\"scattergeo\":[{\"type\":\"scattergeo\",\"marker\":{\"colorbar\":{\"outlinewidth\":0,\"ticks\":\"\"}}}],\"scatterpolar\":[{\"type\":\"scatterpolar\",\"marker\":{\"colorbar\":{\"outlinewidth\":0,\"ticks\":\"\"}}}],\"histogram\":[{\"marker\":{\"pattern\":{\"fillmode\":\"overlay\",\"size\":10,\"solidity\":0.2}},\"type\":\"histogram\"}],\"scattergl\":[{\"type\":\"scattergl\",\"marker\":{\"colorbar\":{\"outlinewidth\":0,\"ticks\":\"\"}}}],\"scatter3d\":[{\"type\":\"scatter3d\",\"line\":{\"colorbar\":{\"outlinewidth\":0,\"ticks\":\"\"}},\"marker\":{\"colorbar\":{\"outlinewidth\":0,\"ticks\":\"\"}}}],\"scattermapbox\":[{\"type\":\"scattermapbox\",\"marker\":{\"colorbar\":{\"outlinewidth\":0,\"ticks\":\"\"}}}],\"scatterternary\":[{\"type\":\"scatterternary\",\"marker\":{\"colorbar\":{\"outlinewidth\":0,\"ticks\":\"\"}}}],\"scattercarpet\":[{\"type\":\"scattercarpet\",\"marker\":{\"colorbar\":{\"outlinewidth\":0,\"ticks\":\"\"}}}],\"carpet\":[{\"aaxis\":{\"endlinecolor\":\"#2a3f5f\",\"gridcolor\":\"white\",\"linecolor\":\"white\",\"minorgridcolor\":\"white\",\"startlinecolor\":\"#2a3f5f\"},\"baxis\":{\"endlinecolor\":\"#2a3f5f\",\"gridcolor\":\"white\",\"linecolor\":\"white\",\"minorgridcolor\":\"white\",\"startlinecolor\":\"#2a3f5f\"},\"type\":\"carpet\"}],\"table\":[{\"cells\":{\"fill\":{\"color\":\"#EBF0F8\"},\"line\":{\"color\":\"white\"}},\"header\":{\"fill\":{\"color\":\"#C8D4E3\"},\"line\":{\"color\":\"white\"}},\"type\":\"table\"}],\"barpolar\":[{\"marker\":{\"line\":{\"color\":\"#E5ECF6\",\"width\":0.5},\"pattern\":{\"fillmode\":\"overlay\",\"size\":10,\"solidity\":0.2}},\"type\":\"barpolar\"}],\"pie\":[{\"automargin\":true,\"type\":\"pie\"}]},\"layout\":{\"autotypenumbers\":\"strict\",\"colorway\":[\"#636efa\",\"#EF553B\",\"#00cc96\",\"#ab63fa\",\"#FFA15A\",\"#19d3f3\",\"#FF6692\",\"#B6E880\",\"#FF97FF\",\"#FECB52\"],\"font\":{\"color\":\"#2a3f5f\"},\"hovermode\":\"closest\",\"hoverlabel\":{\"align\":\"left\"},\"paper_bgcolor\":\"white\",\"plot_bgcolor\":\"#E5ECF6\",\"polar\":{\"bgcolor\":\"#E5ECF6\",\"angularaxis\":{\"gridcolor\":\"white\",\"linecolor\":\"white\",\"ticks\":\"\"},\"radialaxis\":{\"gridcolor\":\"white\",\"linecolor\":\"white\",\"ticks\":\"\"}},\"ternary\":{\"bgcolor\":\"#E5ECF6\",\"aaxis\":{\"gridcolor\":\"white\",\"linecolor\":\"white\",\"ticks\":\"\"},\"baxis\":{\"gridcolor\":\"white\",\"linecolor\":\"white\",\"ticks\":\"\"},\"caxis\":{\"gridcolor\":\"white\",\"linecolor\":\"white\",\"ticks\":\"\"}},\"coloraxis\":{\"colorbar\":{\"outlinewidth\":0,\"ticks\":\"\"}},\"colorscale\":{\"sequential\":[[0.0,\"#0d0887\"],[0.1111111111111111,\"#46039f\"],[0.2222222222222222,\"#7201a8\"],[0.3333333333333333,\"#9c179e\"],[0.4444444444444444,\"#bd3786\"],[0.5555555555555556,\"#d8576b\"],[0.6666666666666666,\"#ed7953\"],[0.7777777777777778,\"#fb9f3a\"],[0.8888888888888888,\"#fdca26\"],[1.0,\"#f0f921\"]],\"sequentialminus\":[[0.0,\"#0d0887\"],[0.1111111111111111,\"#46039f\"],[0.2222222222222222,\"#7201a8\"],[0.3333333333333333,\"#9c179e\"],[0.4444444444444444,\"#bd3786\"],[0.5555555555555556,\"#d8576b\"],[0.6666666666666666,\"#ed7953\"],[0.7777777777777778,\"#fb9f3a\"],[0.8888888888888888,\"#fdca26\"],[1.0,\"#f0f921\"]],\"diverging\":[[0,\"#8e0152\"],[0.1,\"#c51b7d\"],[0.2,\"#de77ae\"],[0.3,\"#f1b6da\"],[0.4,\"#fde0ef\"],[0.5,\"#f7f7f7\"],[0.6,\"#e6f5d0\"],[0.7,\"#b8e186\"],[0.8,\"#7fbc41\"],[0.9,\"#4d9221\"],[1,\"#276419\"]]},\"xaxis\":{\"gridcolor\":\"white\",\"linecolor\":\"white\",\"ticks\":\"\",\"title\":{\"standoff\":15},\"zerolinecolor\":\"white\",\"automargin\":true,\"zerolinewidth\":2},\"yaxis\":{\"gridcolor\":\"white\",\"linecolor\":\"white\",\"ticks\":\"\",\"title\":{\"standoff\":15},\"zerolinecolor\":\"white\",\"automargin\":true,\"zerolinewidth\":2},\"scene\":{\"xaxis\":{\"backgroundcolor\":\"#E5ECF6\",\"gridcolor\":\"white\",\"linecolor\":\"white\",\"showbackground\":true,\"ticks\":\"\",\"zerolinecolor\":\"white\",\"gridwidth\":2},\"yaxis\":{\"backgroundcolor\":\"#E5ECF6\",\"gridcolor\":\"white\",\"linecolor\":\"white\",\"showbackground\":true,\"ticks\":\"\",\"zerolinecolor\":\"white\",\"gridwidth\":2},\"zaxis\":{\"backgroundcolor\":\"#E5ECF6\",\"gridcolor\":\"white\",\"linecolor\":\"white\",\"showbackground\":true,\"ticks\":\"\",\"zerolinecolor\":\"white\",\"gridwidth\":2}},\"shapedefaults\":{\"line\":{\"color\":\"#2a3f5f\"}},\"annotationdefaults\":{\"arrowcolor\":\"#2a3f5f\",\"arrowhead\":0,\"arrowwidth\":1},\"geo\":{\"bgcolor\":\"white\",\"landcolor\":\"#E5ECF6\",\"subunitcolor\":\"white\",\"showland\":true,\"showlakes\":true,\"lakecolor\":\"white\"},\"title\":{\"x\":0.05},\"mapbox\":{\"style\":\"light\"}}},\"xaxis\":{\"anchor\":\"y\",\"domain\":[0.0,1.0],\"title\":{\"text\":\"Voc [V]\"}},\"yaxis\":{\"anchor\":\"x\",\"domain\":[0.7333333333333334,1.0],\"title\":{\"text\":\"Isc [A]\"}},\"xaxis2\":{\"anchor\":\"y2\",\"domain\":[0.0,1.0]},\"yaxis2\":{\"anchor\":\"x2\",\"domain\":[0.3666666666666667,0.6333333333333333],\"title\":{\"text\":\"FF [%]\"}},\"xaxis3\":{\"anchor\":\"y3\",\"domain\":[0.0,1.0]},\"yaxis3\":{\"anchor\":\"x3\",\"domain\":[0.0,0.26666666666666666],\"title\":{\"text\":\"Power\"}},\"boxmode\":\"group\",\"height\":700,\"width\":900},                        {\"responsive\": true}                    ).then(function(){\n",
       "                            \n",
       "var gd = document.getElementById('9ba14ae5-8e60-48da-9ba0-a875b10655af');\n",
       "var x = new MutationObserver(function (mutations, observer) {{\n",
       "        var display = window.getComputedStyle(gd).display;\n",
       "        if (!display || display === 'none') {{\n",
       "            console.log([gd, 'removed!']);\n",
       "            Plotly.purge(gd);\n",
       "            observer.disconnect();\n",
       "        }}\n",
       "}});\n",
       "\n",
       "// Listen for the removal of the full notebook cells\n",
       "var notebookContainer = gd.closest('#notebook-container');\n",
       "if (notebookContainer) {{\n",
       "    x.observe(notebookContainer, {childList: true});\n",
       "}}\n",
       "\n",
       "// Listen for the clearing of the current output cell\n",
       "var outputEl = gd.closest('.output');\n",
       "if (outputEl) {{\n",
       "    x.observe(outputEl, {childList: true});\n",
       "}}\n",
       "\n",
       "                        })                };                });            </script>        </div>"
      ]
     },
     "metadata": {},
     "output_type": "display_data"
    }
   ],
   "source": [
    "fig_Cd_1 = make_subplots(rows=3, cols=1,vertical_spacing=0.1)\n",
    "\n",
    "fig_Cd_1.add_trace(\n",
    "    go.Scatter(x = Cell_degradation_test_1['Voc'], y = Cell_degradation_test_1['Isc'], \n",
    "               mode = \"markers\", marker_symbol = Cell_degradation_test_1['Symbol'],\n",
    "               marker_line_width=2, marker_size=10, \n",
    "               marker_line_color='rgb(31, 119, 180)', marker_color='rgba(31, 119, 180,0.6)',\n",
    "              name = \"I-V Original\"),\n",
    "    row=1, col=1\n",
    ")\n",
    "\n",
    "fig_Cd_1.add_trace(\n",
    "    go.Scatter(x = Cell_degradation_test_1['Voc.1'], y = Cell_degradation_test_1['Isc.1'],\n",
    "               mode = \"markers\", marker_symbol = Cell_degradation_test_1['Symbol'],\n",
    "               marker_line_width=2, marker_size=10,\n",
    "               marker_line_color='rgb(255, 127, 14)', marker_color='rgba(255, 127, 14,0.6)',\n",
    "              name = \"I-V after 24 hours\"),\n",
    "    row=1, col=1\n",
    ")\n",
    "\n",
    "#######Row 2\n",
    "fig_Cd_1.add_trace(\n",
    "    go.Box(y = Cell_degradation_test_1['FF'], x = Cell_degradation_test_1['Type'],offsetgroup = \"A\",\n",
    "           name = \"FF Original \",marker_color='rgb(44, 160, 44)', line_color='rgba(44, 160, 44, 0.6)'),\n",
    "    row=2, col=1\n",
    ")\n",
    "\n",
    "fig_Cd_1.add_trace(\n",
    "    go.Scatter(y = Cell_degradation_test_1['FF'], x = Cell_degradation_test_1['Type'], \n",
    "               mode = \"markers\", marker_symbol = Cell_degradation_test_1['Symbol'],\n",
    "               marker_line_width=1, marker_size=8, showlegend = False,\n",
    "               marker_line_color='rgb(44, 160, 44)', marker_color='rgba(44, 160, 44,0.6)'),\n",
    "    row=2, col=1\n",
    ")\n",
    "##\n",
    "fig_Cd_1.add_trace(\n",
    "    go.Box(y = Cell_degradation_test_1['FF.1'],  x = Cell_degradation_test_1['Type.1'], offsetgroup = \"B\",\n",
    "           name = \"FF after 24h\",marker_color='rgb(214, 39, 40)', line_color='rgba(214, 39, 40, 0.6)'),\n",
    "    row=2, col=1\n",
    ")\n",
    "\n",
    "fig_Cd_1.add_trace(\n",
    "    go.Scatter(y = Cell_degradation_test_1['FF.1'], x = Cell_degradation_test_1['Type.1'],\n",
    "               mode = \"markers\", marker_symbol = Cell_degradation_test_1['Symbol'],\n",
    "               marker_line_width=1, marker_size=8, showlegend = False,\n",
    "               marker_line_color='rgb(214, 39, 40)', marker_color='rgba(214, 39, 40,0.6)'),\n",
    "    row=2, col=1\n",
    ")\n",
    "#######Row 3\n",
    "fig_Cd_1.add_trace(\n",
    "    go.Box(y = Cell_degradation_test_1['Power'], x = Cell_degradation_test_1['Type'], offsetgroup = \"A\",\n",
    "           name = \"Power Original \", marker_color='rgb(148, 103, 189)', line_color='rgba(148, 103, 189, 0.6)'),\n",
    "    row=3, col=1\n",
    ")\n",
    "\n",
    "fig_Cd_1.add_trace(\n",
    "    go.Scatter(y = Cell_degradation_test_1['Power'], x = Cell_degradation_test_1['Type'], \n",
    "               mode = \"markers\", marker_symbol = Cell_degradation_test_1['Symbol'],\n",
    "               marker_line_width=1, marker_size=8, \n",
    "               marker_line_color='rgb(148, 103, 189)', marker_color='rgba(148, 103, 189,0.6)',\n",
    "              showlegend = False,),\n",
    "    row=3, col=1\n",
    ")\n",
    "\n",
    "###\n",
    "fig_Cd_1.add_trace(\n",
    "    go.Box(y = Cell_degradation_test_1['Power.1'],  x = Cell_degradation_test_1['Type.1'], offsetgroup = \"B\", \n",
    "           name = \"Power after 24h\", marker_color='rgb(140, 86, 75)', line_color='rgba(140, 86, 75, 0.6)'),\n",
    "    row=3, col=1\n",
    ")\n",
    "\n",
    "fig_Cd_1.add_trace(\n",
    "    go.Scatter(y = Cell_degradation_test_1['Power.1'], x = Cell_degradation_test_1['Type.1'],\n",
    "               mode = \"markers\", marker_symbol = Cell_degradation_test_1['Symbol'],\n",
    "               marker_line_width=1, marker_size=8,\n",
    "               marker_line_color='rgb(140, 86, 75)', marker_color='rgba(140, 86, 75,0.6)',\n",
    "              showlegend = False,),\n",
    "    row=3, col=1\n",
    ")\n",
    "\n",
    "fig_Cd_1.update_layout(#title=\"Measurement directly to module. Origianl VS After 24h.\",\n",
    "    boxmode='group', height=700, width=900,\n",
    "                       xaxis=dict(title=\"Voc [V]\"),\n",
    "                       yaxis=dict(title=\"Isc [A]\"),\n",
    "                       yaxis2=dict(title=\"FF [%]\"),\n",
    "                       yaxis3=dict(title=\"Power\")\n",
    "                    ) \n",
    "fig_Cd_1.show()\n",
    "#1f77b4 or rgb(31, 119, 180)  // muted blue\n",
    "#ff7f0e or rgb(255, 127, 14)  // safety orange\n",
    "#2ca02c or rgb(44, 160, 44)   // cooked asparagus green\n",
    "#d62728 or rgb(214, 39, 40)   // brick red\n",
    "#9467bd or rgb(148, 103, 189) // muted purple\n",
    "#8c564b or rgb(140, 86, 75)   // chestnut brown\n",
    "#e377c2 or rgb(227, 119, 194)\n",
    "#7f7f7f or rgb(127, 127, 127)\n",
    "#bcbd22 or rgb(188, 189, 34)\n",
    "#17becf or rgb(23, 190, 207)\n",
    "fig_Cd_1.write_image(\"1. To module directly.png\", scale=3, width=900, height=700) "
   ]
  },
  {
   "cell_type": "code",
   "execution_count": 194,
   "id": "6f48ef6b",
   "metadata": {},
   "outputs": [
    {
     "data": {
      "text/html": [
       "<div>\n",
       "<style scoped>\n",
       "    .dataframe tbody tr th:only-of-type {\n",
       "        vertical-align: middle;\n",
       "    }\n",
       "\n",
       "    .dataframe tbody tr th {\n",
       "        vertical-align: top;\n",
       "    }\n",
       "\n",
       "    .dataframe thead th {\n",
       "        text-align: right;\n",
       "    }\n",
       "</style>\n",
       "<table border=\"1\" class=\"dataframe\">\n",
       "  <thead>\n",
       "    <tr style=\"text-align: right;\">\n",
       "      <th></th>\n",
       "      <th>Symbol</th>\n",
       "      <th>Type</th>\n",
       "      <th>Group</th>\n",
       "      <th>Voc</th>\n",
       "      <th>Isc</th>\n",
       "      <th>FF</th>\n",
       "      <th>Power</th>\n",
       "    </tr>\n",
       "  </thead>\n",
       "  <tbody>\n",
       "    <tr>\n",
       "      <th>0</th>\n",
       "      <td>circle</td>\n",
       "      <td>Original</td>\n",
       "      <td>Module 1</td>\n",
       "      <td>2.38</td>\n",
       "      <td>6.58</td>\n",
       "      <td>60.1</td>\n",
       "      <td>9.399</td>\n",
       "    </tr>\n",
       "    <tr>\n",
       "      <th>1</th>\n",
       "      <td>cross</td>\n",
       "      <td>Original</td>\n",
       "      <td>Module 2</td>\n",
       "      <td>2.39</td>\n",
       "      <td>6.59</td>\n",
       "      <td>59.6</td>\n",
       "      <td>9.388</td>\n",
       "    </tr>\n",
       "    <tr>\n",
       "      <th>2</th>\n",
       "      <td>diamond</td>\n",
       "      <td>Original</td>\n",
       "      <td>Module 3</td>\n",
       "      <td>2.39</td>\n",
       "      <td>6.57</td>\n",
       "      <td>59.4</td>\n",
       "      <td>9.314</td>\n",
       "    </tr>\n",
       "    <tr>\n",
       "      <th>3</th>\n",
       "      <td>circle</td>\n",
       "      <td>after24h</td>\n",
       "      <td>Module 1</td>\n",
       "      <td>2.41</td>\n",
       "      <td>6.58</td>\n",
       "      <td>60.1</td>\n",
       "      <td>9.525</td>\n",
       "    </tr>\n",
       "    <tr>\n",
       "      <th>4</th>\n",
       "      <td>cross</td>\n",
       "      <td>after24h</td>\n",
       "      <td>Module 2</td>\n",
       "      <td>2.41</td>\n",
       "      <td>6.61</td>\n",
       "      <td>59.6</td>\n",
       "      <td>9.486</td>\n",
       "    </tr>\n",
       "    <tr>\n",
       "      <th>5</th>\n",
       "      <td>diamond</td>\n",
       "      <td>after24h</td>\n",
       "      <td>Module 3</td>\n",
       "      <td>2.40</td>\n",
       "      <td>6.60</td>\n",
       "      <td>59.3</td>\n",
       "      <td>9.377</td>\n",
       "    </tr>\n",
       "  </tbody>\n",
       "</table>\n",
       "</div>"
      ],
      "text/plain": [
       "    Symbol      Type     Group   Voc   Isc    FF  Power\n",
       "0   circle  Original  Module 1  2.38  6.58  60.1  9.399\n",
       "1    cross  Original  Module 2  2.39  6.59  59.6  9.388\n",
       "2  diamond  Original  Module 3  2.39  6.57  59.4  9.314\n",
       "3   circle  after24h  Module 1  2.41  6.58  60.1  9.525\n",
       "4    cross  after24h  Module 2  2.41  6.61  59.6  9.486\n",
       "5  diamond  after24h  Module 3  2.40  6.60  59.3  9.377"
      ]
     },
     "execution_count": 194,
     "metadata": {},
     "output_type": "execute_result"
    }
   ],
   "source": [
    "Cell_degradation_test_1_ = pd.read_excel('B. Cell degradation test.xlsx', \n",
    "                                        usecols='B:K', skiprows = 6, nrows = 3)\n",
    "Cell_degradation_test_1_ = Cell_degradation_test_1_.drop(columns=['Unnamed: 6'])\n",
    "Cell_degradation_test_1_[\"Symbol\"] = [\"circle\",\"cross\",\"diamond\"]\n",
    "Cell_degradation_test_1_.columns = ['Group', 'Voc-Original', 'Isc-Original', 'FF-Original', 'Power-Original', \n",
    "                                     'Voc-after24h', 'Isc-after24h', 'FF-after24h', 'Power-after24h', 'Symbol']\n",
    "Cell_degradation_test_1_l = pd.wide_to_long(Cell_degradation_test_1_, ['Voc', 'Isc', 'FF', \"Power\"], \n",
    "                                            i=['Symbol'], j='Type', sep='-', suffix=r'\\w+')\n",
    "Cell_degradation_test_1_l.reset_index(inplace=True)\n",
    "Cell_degradation_test_1_l"
   ]
  },
  {
   "cell_type": "markdown",
   "id": "a6623b86",
   "metadata": {},
   "source": [
    "# Method (ii)\n",
    "Cells taken directly after measurement and stored in the N2-storage"
   ]
  },
  {
   "cell_type": "code",
   "execution_count": 350,
   "id": "180d8f85",
   "metadata": {},
   "outputs": [
    {
     "data": {
      "text/html": [
       "<div>\n",
       "<style scoped>\n",
       "    .dataframe tbody tr th:only-of-type {\n",
       "        vertical-align: middle;\n",
       "    }\n",
       "\n",
       "    .dataframe tbody tr th {\n",
       "        vertical-align: top;\n",
       "    }\n",
       "\n",
       "    .dataframe thead th {\n",
       "        text-align: right;\n",
       "    }\n",
       "</style>\n",
       "<table border=\"1\" class=\"dataframe\">\n",
       "  <thead>\n",
       "    <tr style=\"text-align: right;\">\n",
       "      <th></th>\n",
       "      <th>Id</th>\n",
       "      <th>Type</th>\n",
       "      <th>Storage</th>\n",
       "      <th>Voc [V]</th>\n",
       "      <th>Isc [A]</th>\n",
       "      <th>FF [%]</th>\n",
       "      <th>η [%]</th>\n",
       "    </tr>\n",
       "  </thead>\n",
       "  <tbody>\n",
       "    <tr>\n",
       "      <th>0</th>\n",
       "      <td>1511091097</td>\n",
       "      <td>Original</td>\n",
       "      <td>N2-storage</td>\n",
       "      <td>0.617</td>\n",
       "      <td>6.548</td>\n",
       "      <td>68.199997</td>\n",
       "      <td>12.225</td>\n",
       "    </tr>\n",
       "    <tr>\n",
       "      <th>1</th>\n",
       "      <td>1511091098</td>\n",
       "      <td>Original</td>\n",
       "      <td>N2-storage</td>\n",
       "      <td>0.619</td>\n",
       "      <td>6.445</td>\n",
       "      <td>67.000000</td>\n",
       "      <td>11.857</td>\n",
       "    </tr>\n",
       "    <tr>\n",
       "      <th>2</th>\n",
       "      <td>1511091099</td>\n",
       "      <td>Original</td>\n",
       "      <td>N2-storage</td>\n",
       "      <td>0.618</td>\n",
       "      <td>6.513</td>\n",
       "      <td>67.199997</td>\n",
       "      <td>12.012</td>\n",
       "    </tr>\n",
       "    <tr>\n",
       "      <th>3</th>\n",
       "      <td>1511091100</td>\n",
       "      <td>Original</td>\n",
       "      <td>N2-storage</td>\n",
       "      <td>0.625</td>\n",
       "      <td>6.614</td>\n",
       "      <td>68.500000</td>\n",
       "      <td>12.572</td>\n",
       "    </tr>\n",
       "    <tr>\n",
       "      <th>4</th>\n",
       "      <td>1511091101</td>\n",
       "      <td>Original</td>\n",
       "      <td>N2-storage</td>\n",
       "      <td>0.624</td>\n",
       "      <td>6.655</td>\n",
       "      <td>67.400002</td>\n",
       "      <td>12.416</td>\n",
       "    </tr>\n",
       "  </tbody>\n",
       "</table>\n",
       "</div>"
      ],
      "text/plain": [
       "           Id      Type     Storage  Voc [V]  Isc [A]     FF [%]   η [%]\n",
       "0  1511091097  Original  N2-storage    0.617    6.548  68.199997  12.225\n",
       "1  1511091098  Original  N2-storage    0.619    6.445  67.000000  11.857\n",
       "2  1511091099  Original  N2-storage    0.618    6.513  67.199997  12.012\n",
       "3  1511091100  Original  N2-storage    0.625    6.614  68.500000  12.572\n",
       "4  1511091101  Original  N2-storage    0.624    6.655  67.400002  12.416"
      ]
     },
     "execution_count": 350,
     "metadata": {},
     "output_type": "execute_result"
    }
   ],
   "source": [
    "Cell_degradation_test_23_ = pd.read_excel('C. Alkali test.xlsx', \n",
    "                                        usecols='B,E,G:J,L:O', skiprows = 1)\n",
    "Cell_degradation_test_23_.columns = ['Id', 'Storage', \n",
    "                                    'Voc [V]-Original', 'Isc [A]-Original', 'FF [%]-Original', 'η [%]-Original', \n",
    "                                    'Voc [V]-after24h', 'Isc [A]-after24h', 'FF [%]-after24h', 'η [%]-after24h']\n",
    "Cell_degradation_test_23_l = pd.wide_to_long(Cell_degradation_test_23_, ['Voc [V]', 'Isc [A]', 'FF [%]', \"η [%]\"], \n",
    "                                            i=['Id'], j='Type', sep='-', suffix=r'\\w+')\n",
    "Cell_degradation_test_23_l.reset_index(inplace=True)\n",
    "Cell_degradation_test_23_l.head()"
   ]
  },
  {
   "cell_type": "code",
   "execution_count": 351,
   "id": "87671eb7",
   "metadata": {},
   "outputs": [
    {
     "data": {
      "text/html": [
       "<div>\n",
       "<style scoped>\n",
       "    .dataframe tbody tr th:only-of-type {\n",
       "        vertical-align: middle;\n",
       "    }\n",
       "\n",
       "    .dataframe tbody tr th {\n",
       "        vertical-align: top;\n",
       "    }\n",
       "\n",
       "    .dataframe thead th {\n",
       "        text-align: right;\n",
       "    }\n",
       "</style>\n",
       "<table border=\"1\" class=\"dataframe\">\n",
       "  <thead>\n",
       "    <tr style=\"text-align: right;\">\n",
       "      <th></th>\n",
       "      <th>Id</th>\n",
       "      <th>Storage</th>\n",
       "      <th>Voc [V]</th>\n",
       "      <th>Isc [A]</th>\n",
       "      <th>FF [%]</th>\n",
       "      <th>η [%]</th>\n",
       "      <th>Voc [V].1</th>\n",
       "      <th>Isc [A].1</th>\n",
       "      <th>FF [%].1</th>\n",
       "      <th>η [%].1</th>\n",
       "      <th>PL-Voc</th>\n",
       "      <th>PL-Isc</th>\n",
       "      <th>PL-FF</th>\n",
       "      <th>PL-η</th>\n",
       "    </tr>\n",
       "  </thead>\n",
       "  <tbody>\n",
       "    <tr>\n",
       "      <th>0</th>\n",
       "      <td>1511091097</td>\n",
       "      <td>N2-storage</td>\n",
       "      <td>0.617</td>\n",
       "      <td>6.548</td>\n",
       "      <td>68.199997</td>\n",
       "      <td>12.225</td>\n",
       "      <td>0.618</td>\n",
       "      <td>6.555</td>\n",
       "      <td>66.800003</td>\n",
       "      <td>12.021</td>\n",
       "      <td>-0.001621</td>\n",
       "      <td>-0.001069</td>\n",
       "      <td>0.020528</td>\n",
       "      <td>0.016687</td>\n",
       "    </tr>\n",
       "    <tr>\n",
       "      <th>1</th>\n",
       "      <td>1511091098</td>\n",
       "      <td>N2-storage</td>\n",
       "      <td>0.619</td>\n",
       "      <td>6.445</td>\n",
       "      <td>67.000000</td>\n",
       "      <td>11.857</td>\n",
       "      <td>0.620</td>\n",
       "      <td>6.453</td>\n",
       "      <td>66.099998</td>\n",
       "      <td>11.741</td>\n",
       "      <td>-0.001615</td>\n",
       "      <td>-0.001241</td>\n",
       "      <td>0.013433</td>\n",
       "      <td>0.009783</td>\n",
       "    </tr>\n",
       "    <tr>\n",
       "      <th>2</th>\n",
       "      <td>1511091099</td>\n",
       "      <td>N2-storage</td>\n",
       "      <td>0.618</td>\n",
       "      <td>6.513</td>\n",
       "      <td>67.199997</td>\n",
       "      <td>12.012</td>\n",
       "      <td>0.521</td>\n",
       "      <td>6.526</td>\n",
       "      <td>66.699997</td>\n",
       "      <td>10.068</td>\n",
       "      <td>0.156958</td>\n",
       "      <td>-0.001996</td>\n",
       "      <td>0.007440</td>\n",
       "      <td>0.161838</td>\n",
       "    </tr>\n",
       "    <tr>\n",
       "      <th>3</th>\n",
       "      <td>1511091100</td>\n",
       "      <td>N2-storage</td>\n",
       "      <td>0.625</td>\n",
       "      <td>6.614</td>\n",
       "      <td>68.500000</td>\n",
       "      <td>12.572</td>\n",
       "      <td>0.627</td>\n",
       "      <td>6.640</td>\n",
       "      <td>68.099998</td>\n",
       "      <td>12.589</td>\n",
       "      <td>-0.003200</td>\n",
       "      <td>-0.003931</td>\n",
       "      <td>0.005839</td>\n",
       "      <td>-0.001352</td>\n",
       "    </tr>\n",
       "    <tr>\n",
       "      <th>4</th>\n",
       "      <td>1511091101</td>\n",
       "      <td>N2-storage</td>\n",
       "      <td>0.624</td>\n",
       "      <td>6.655</td>\n",
       "      <td>67.400002</td>\n",
       "      <td>12.416</td>\n",
       "      <td>0.626</td>\n",
       "      <td>6.650</td>\n",
       "      <td>67.099998</td>\n",
       "      <td>12.407</td>\n",
       "      <td>-0.003205</td>\n",
       "      <td>0.000751</td>\n",
       "      <td>0.004451</td>\n",
       "      <td>0.000725</td>\n",
       "    </tr>\n",
       "  </tbody>\n",
       "</table>\n",
       "</div>"
      ],
      "text/plain": [
       "           Id     Storage  Voc [V]  Isc [A]     FF [%]   η [%]  Voc [V].1  \\\n",
       "0  1511091097  N2-storage    0.617    6.548  68.199997  12.225      0.618   \n",
       "1  1511091098  N2-storage    0.619    6.445  67.000000  11.857      0.620   \n",
       "2  1511091099  N2-storage    0.618    6.513  67.199997  12.012      0.521   \n",
       "3  1511091100  N2-storage    0.625    6.614  68.500000  12.572      0.627   \n",
       "4  1511091101  N2-storage    0.624    6.655  67.400002  12.416      0.626   \n",
       "\n",
       "   Isc [A].1   FF [%].1  η [%].1    PL-Voc    PL-Isc     PL-FF      PL-η  \n",
       "0      6.555  66.800003   12.021 -0.001621 -0.001069  0.020528  0.016687  \n",
       "1      6.453  66.099998   11.741 -0.001615 -0.001241  0.013433  0.009783  \n",
       "2      6.526  66.699997   10.068  0.156958 -0.001996  0.007440  0.161838  \n",
       "3      6.640  68.099998   12.589 -0.003200 -0.003931  0.005839 -0.001352  \n",
       "4      6.650  67.099998   12.407 -0.003205  0.000751  0.004451  0.000725  "
      ]
     },
     "execution_count": 351,
     "metadata": {},
     "output_type": "execute_result"
    }
   ],
   "source": [
    "Cell_degradation_test_23 = pd.read_excel('C. Alkali test.xlsx', \n",
    "                                        usecols='B,E,G:J,L:O', skiprows = 1)\n",
    "Cell_degradation_test_23['PL-Voc'] = (Cell_degradation_test_23['Voc [V]'] - Cell_degradation_test_23['Voc [V].1'])/ Cell_degradation_test_23['Voc [V]']\n",
    "Cell_degradation_test_23['PL-Isc'] = (Cell_degradation_test_23['Isc [A]'] - Cell_degradation_test_23['Isc [A].1'])/ Cell_degradation_test_23['Isc [A]']\n",
    "Cell_degradation_test_23['PL-FF']  = (Cell_degradation_test_23['FF [%]'] -  Cell_degradation_test_23['FF [%].1']) / Cell_degradation_test_23['FF [%]']\n",
    "Cell_degradation_test_23['PL-η']   = (Cell_degradation_test_23['η [%]'] -   Cell_degradation_test_23['η [%].1'])  / Cell_degradation_test_23['η [%]']\n",
    "Cell_degradation_test_23.head()"
   ]
  },
  {
   "cell_type": "markdown",
   "id": "6a41d9fa",
   "metadata": {},
   "source": [
    "$Relative Error = \\frac{\\lVert \\textrm{Original measurements - Storage measurement} \\rVert_2}{\\lVert \\textrm{Original measurements} \\rVert_2} $"
   ]
  },
  {
   "cell_type": "code",
   "execution_count": 352,
   "id": "59b307a3",
   "metadata": {},
   "outputs": [
    {
     "name": "stdout",
     "output_type": "stream",
     "text": [
      "   En_N2_storage  En_IV_room\n",
      "0       0.039369    0.024171\n",
      "1       0.006816    0.006036\n",
      "2       0.086903    0.058416\n",
      "3       0.102914    0.075015\n"
     ]
    }
   ],
   "source": [
    "Err = {'En_N2_storage': [1,2,3,4], 'En_IV_room': [1,2,3,4]}\n",
    "Error = pd.DataFrame(Err)\n",
    "from numpy import linalg as LA\n",
    "for i in range(2,6):\n",
    " Error.iloc[i-2,0] = LA.norm(Cell_degradation_test_23.iloc[0:72,i]-Cell_degradation_test_23.iloc[0:72,i+4]) / LA.norm(Cell_degradation_test_23.iloc[0:72,i])\n",
    " Error.iloc[i-2,1] = LA.norm(Cell_degradation_test_23.iloc[72:144,i]-Cell_degradation_test_23.iloc[72:144,i+4]) / LA.norm(Cell_degradation_test_23.iloc[72:144,i])\n",
    "print(Error)"
   ]
  },
  {
   "cell_type": "markdown",
   "id": "3f0cb688",
   "metadata": {},
   "source": [
    "# Check Voc values\n",
    "Remove outliers PL-Voc >= 0.1"
   ]
  },
  {
   "cell_type": "code",
   "execution_count": 361,
   "id": "80dd0bc3",
   "metadata": {},
   "outputs": [
    {
     "data": {
      "application/vnd.plotly.v1+json": {
       "config": {
        "plotlyServerURL": "https://plot.ly"
       },
       "data": [
        {
         "name": "Original measurments",
         "offsetgroup": "A",
         "type": "box",
         "x": [
          "N2-storage",
          "N2-storage",
          "N2-storage",
          "N2-storage",
          "N2-storage",
          "N2-storage",
          "N2-storage",
          "N2-storage",
          "N2-storage",
          "N2-storage",
          "N2-storage",
          "N2-storage",
          "N2-storage",
          "N2-storage",
          "N2-storage",
          "N2-storage",
          "N2-storage",
          "N2-storage",
          "N2-storage",
          "N2-storage",
          "N2-storage",
          "N2-storage",
          "N2-storage",
          "N2-storage",
          "N2-storage",
          "N2-storage",
          "N2-storage",
          "N2-storage",
          "N2-storage",
          "N2-storage",
          "N2-storage",
          "N2-storage",
          "N2-storage",
          "N2-storage",
          "N2-storage",
          "N2-storage",
          "N2-storage",
          "N2-storage",
          "N2-storage",
          "N2-storage",
          "N2-storage",
          "N2-storage",
          "N2-storage",
          "N2-storage",
          "N2-storage",
          "N2-storage",
          "N2-storage",
          "N2-storage",
          "N2-storage",
          "N2-storage",
          "N2-storage",
          "N2-storage",
          "N2-storage",
          "N2-storage",
          "N2-storage",
          "N2-storage",
          "N2-storage",
          "N2-storage",
          "N2-storage",
          "N2-storage",
          "N2-storage",
          "N2-storage",
          "N2-storage",
          "N2-storage",
          "N2-storage",
          "N2-storage",
          "N2-storage",
          "N2-storage",
          "N2-storage",
          "IV-room",
          "IV-room",
          "IV-room",
          "IV-room",
          "IV-room",
          "IV-room",
          "IV-room",
          "IV-room",
          "IV-room",
          "IV-room",
          "IV-room",
          "IV-room",
          "IV-room",
          "IV-room",
          "IV-room",
          "IV-room",
          "IV-room",
          "IV-room",
          "IV-room",
          "IV-room",
          "IV-room",
          "IV-room",
          "IV-room",
          "IV-room",
          "IV-room",
          "IV-room",
          "IV-room",
          "IV-room",
          "IV-room",
          "IV-room",
          "IV-room",
          "IV-room",
          "IV-room",
          "IV-room",
          "IV-room",
          "IV-room",
          "IV-room",
          "IV-room",
          "IV-room",
          "IV-room",
          "IV-room",
          "IV-room",
          "IV-room",
          "IV-room",
          "IV-room",
          "IV-room",
          "IV-room",
          "IV-room",
          "IV-room",
          "IV-room",
          "IV-room",
          "IV-room",
          "IV-room",
          "IV-room",
          "IV-room",
          "IV-room",
          "IV-room",
          "IV-room",
          "IV-room",
          "IV-room",
          "IV-room",
          "IV-room",
          "IV-room",
          "IV-room",
          "IV-room",
          "IV-room",
          "IV-room",
          "IV-room",
          "IV-room",
          "IV-room"
         ],
         "xaxis": "x",
         "y": [
          0.6169999837875366,
          0.6190000176429749,
          0.625,
          0.6240000128746033,
          0.6240000128746033,
          0.6140000224113464,
          0.628000020980835,
          0.625,
          0.6290000081062317,
          0.6190000176429749,
          0.6200000047683716,
          0.6200000047683716,
          0.6200000047683716,
          0.6150000095367432,
          0.628000020980835,
          0.6290000081062317,
          0.6259999871253967,
          0.6299999952316284,
          0.625,
          0.621999979019165,
          0.628000020980835,
          0.6269999742507935,
          0.6150000095367432,
          0.6190000176429749,
          0.6179999709129333,
          0.6039999723434448,
          0.6340000033378601,
          0.6320000290870667,
          0.6290000081062317,
          0.628000020980835,
          0.6259999871253967,
          0.6299999952316284,
          0.6290000081062317,
          0.6259999871253967,
          0.6169999837875366,
          0.6190000176429749,
          0.6190000176429749,
          0.6179999709129333,
          0.6290000081062317,
          0.6309999823570251,
          0.628000020980835,
          0.5730000138282776,
          0.6290000081062317,
          0.6290000081062317,
          0.6190000176429749,
          0.6240000128746033,
          0.621999979019165,
          0.621999979019165,
          0.625,
          0.6259999871253967,
          0.625,
          0.6269999742507935,
          0.628000020980835,
          0.6290000081062317,
          0.6309999823570251,
          0.6290000081062317,
          0.6190000176429749,
          0.6230000257492065,
          0.621999979019165,
          0.621999979019165,
          0.621999979019165,
          0.6330000162124634,
          0.6320000290870667,
          0.6309999823570251,
          0.6290000081062317,
          0.6320000290870667,
          0.6309999823570251,
          0.6259999871253967,
          0.6159999966621399,
          0.6179999709129333,
          0.6169999837875366,
          0.6179999709129333,
          0.625,
          0.6259999871253967,
          0.6269999742507935,
          0.628000020980835,
          0.6269999742507935,
          0.628000020980835,
          0.628000020980835,
          0.6230000257492065,
          0.6240000128746033,
          0.621999979019165,
          0.6209999918937683,
          0.6269999742507935,
          0.6290000081062317,
          0.628000020980835,
          0.6290000081062317,
          0.6290000081062317,
          0.6290000081062317,
          0.6320000290870667,
          0.6150000095367432,
          0.6200000047683716,
          0.6259999871253967,
          0.6150000095367432,
          0.6209999918937683,
          0.6290000081062317,
          0.6309999823570251,
          0.628000020980835,
          0.625,
          0.6290000081062317,
          0.6290000081062317,
          0.6290000081062317,
          0.6290000081062317,
          0.6169999837875366,
          0.6169999837875366,
          0.6119999885559082,
          0.6169999837875366,
          0.6290000081062317,
          0.6269999742507935,
          0.6209999918937683,
          0.625,
          0.6269999742507935,
          0.6299999952316284,
          0.6230000257492065,
          0.6259999871253967,
          0.6069999933242798,
          0.6169999837875366,
          0.6169999837875366,
          0.6259999871253967,
          0.628000020980835,
          0.6240000128746033,
          0.6209999918937683,
          0.6299999952316284,
          0.628000020980835,
          0.621999979019165,
          0.6290000081062317,
          0.6169999837875366,
          0.6179999709129333,
          0.6159999966621399,
          0.6179999709129333,
          0.6309999823570251,
          0.6179999709129333,
          0.6309999823570251,
          0.6330000162124634,
          0.6269999742507935,
          0.6259999871253967,
          0.6230000257492065,
          0.625,
          0.628000020980835
         ],
         "yaxis": "y"
        },
        {
         "name": "After 24h",
         "offsetgroup": "B",
         "type": "box",
         "x": [
          "N2-storage",
          "N2-storage",
          "N2-storage",
          "N2-storage",
          "N2-storage",
          "N2-storage",
          "N2-storage",
          "N2-storage",
          "N2-storage",
          "N2-storage",
          "N2-storage",
          "N2-storage",
          "N2-storage",
          "N2-storage",
          "N2-storage",
          "N2-storage",
          "N2-storage",
          "N2-storage",
          "N2-storage",
          "N2-storage",
          "N2-storage",
          "N2-storage",
          "N2-storage",
          "N2-storage",
          "N2-storage",
          "N2-storage",
          "N2-storage",
          "N2-storage",
          "N2-storage",
          "N2-storage",
          "N2-storage",
          "N2-storage",
          "N2-storage",
          "N2-storage",
          "N2-storage",
          "N2-storage",
          "N2-storage",
          "N2-storage",
          "N2-storage",
          "N2-storage",
          "N2-storage",
          "N2-storage",
          "N2-storage",
          "N2-storage",
          "N2-storage",
          "N2-storage",
          "N2-storage",
          "N2-storage",
          "N2-storage",
          "N2-storage",
          "N2-storage",
          "N2-storage",
          "N2-storage",
          "N2-storage",
          "N2-storage",
          "N2-storage",
          "N2-storage",
          "N2-storage",
          "N2-storage",
          "N2-storage",
          "N2-storage",
          "N2-storage",
          "N2-storage",
          "N2-storage",
          "N2-storage",
          "N2-storage",
          "N2-storage",
          "N2-storage",
          "N2-storage",
          "IV-room",
          "IV-room",
          "IV-room",
          "IV-room",
          "IV-room",
          "IV-room",
          "IV-room",
          "IV-room",
          "IV-room",
          "IV-room",
          "IV-room",
          "IV-room",
          "IV-room",
          "IV-room",
          "IV-room",
          "IV-room",
          "IV-room",
          "IV-room",
          "IV-room",
          "IV-room",
          "IV-room",
          "IV-room",
          "IV-room",
          "IV-room",
          "IV-room",
          "IV-room",
          "IV-room",
          "IV-room",
          "IV-room",
          "IV-room",
          "IV-room",
          "IV-room",
          "IV-room",
          "IV-room",
          "IV-room",
          "IV-room",
          "IV-room",
          "IV-room",
          "IV-room",
          "IV-room",
          "IV-room",
          "IV-room",
          "IV-room",
          "IV-room",
          "IV-room",
          "IV-room",
          "IV-room",
          "IV-room",
          "IV-room",
          "IV-room",
          "IV-room",
          "IV-room",
          "IV-room",
          "IV-room",
          "IV-room",
          "IV-room",
          "IV-room",
          "IV-room",
          "IV-room",
          "IV-room",
          "IV-room",
          "IV-room",
          "IV-room",
          "IV-room",
          "IV-room",
          "IV-room",
          "IV-room",
          "IV-room",
          "IV-room",
          "IV-room"
         ],
         "xaxis": "x",
         "y": [
          0.6179999709129333,
          0.6200000047683716,
          0.6269999742507935,
          0.6259999871253967,
          0.6259999871253967,
          0.6159999966621399,
          0.625,
          0.6290000081062317,
          0.627,
          0.6190000176429749,
          0.6209999918937683,
          0.6200000047683716,
          0.6200000047683716,
          0.6169999837875366,
          0.6269999742507935,
          0.6290000081062317,
          0.625,
          0.6299999952316284,
          0.628000020980835,
          0.6209999918937683,
          0.6290000081062317,
          0.628000020980835,
          0.6169999837875366,
          0.6190000176429749,
          0.6190000176429749,
          0.6069999933242798,
          0.6349999904632568,
          0.6330000162124634,
          0.6299999952316284,
          0.6290000081062317,
          0.6269999742507935,
          0.6290000081062317,
          0.628000020980835,
          0.6269999742507935,
          0.6179999709129333,
          0.6190000176429749,
          0.6190000176429749,
          0.6179999709129333,
          0.6299999952316284,
          0.628000020980835,
          0.628000020980835,
          0.578000009059906,
          0.628000020980835,
          0.6290000081062317,
          0.6200000047683716,
          0.6230000257492065,
          0.6209999918937683,
          0.621999979019165,
          0.6259999871253967,
          0.6269999742507935,
          0.6269999742507935,
          0.6269999742507935,
          0.6290000081062317,
          0.6269999742507935,
          0.6309999823570251,
          0.628000020980835,
          0.6200000047683716,
          0.6240000128746033,
          0.6209999918937683,
          0.621999979019165,
          0.621999979019165,
          0.6309999823570251,
          0.6309999823570251,
          0.6299999952316284,
          0.6299999952316284,
          0.6330000162124634,
          0.6309999823570251,
          0.6259999871253967,
          0.6179999709129333,
          0.6230000257492065,
          0.6179999709129333,
          0.6179999709129333,
          0.625,
          0.6259999871253967,
          0.625,
          0.6259999871253967,
          0.625,
          0.6259999871253967,
          0.6259999871253967,
          0.621999979019165,
          0.6230000257492065,
          0.6200000047683716,
          0.6200000047683716,
          0.6240000128746033,
          0.625,
          0.625,
          0.6259999871253967,
          0.6240000128746033,
          0.625,
          0.6269999742507935,
          0.6110000014305115,
          0.6179999709129333,
          0.6259999871253967,
          0.6140000224113464,
          0.6209999918937683,
          0.6240000128746033,
          0.6269999742507935,
          0.625,
          0.6209999918937683,
          0.625,
          0.6230000257492065,
          0.6240000128746033,
          0.6240000128746033,
          0.6169999837875366,
          0.6159999966621399,
          0.6119999885559082,
          0.6169999837875366,
          0.6259999871253967,
          0.625,
          0.6179999709129333,
          0.6240000128746033,
          0.6240000128746033,
          0.6259999871253967,
          0.6209999918937683,
          0.621999979019165,
          0.609000027179718,
          0.6179999709129333,
          0.6169999837875366,
          0.625,
          0.625,
          0.621999979019165,
          0.6209999918937683,
          0.6269999742507935,
          0.6240000128746033,
          0.6190000176429749,
          0.625,
          0.6179999709129333,
          0.6190000176429749,
          0.6159999966621399,
          0.6190000176429749,
          0.6290000081062317,
          0.6169999837875366,
          0.628000020980835,
          0.6299999952316284,
          0.625,
          0.6230000257492065,
          0.6200000047683716,
          0.621999979019165,
          0.6230000257492065
         ],
         "yaxis": "y"
        },
        {
         "name": "Performance loss",
         "offsetgroup": "A",
         "type": "box",
         "x": [
          "N2-storage",
          "N2-storage",
          "N2-storage",
          "N2-storage",
          "N2-storage",
          "N2-storage",
          "N2-storage",
          "N2-storage",
          "N2-storage",
          "N2-storage",
          "N2-storage",
          "N2-storage",
          "N2-storage",
          "N2-storage",
          "N2-storage",
          "N2-storage",
          "N2-storage",
          "N2-storage",
          "N2-storage",
          "N2-storage",
          "N2-storage",
          "N2-storage",
          "N2-storage",
          "N2-storage",
          "N2-storage",
          "N2-storage",
          "N2-storage",
          "N2-storage",
          "N2-storage",
          "N2-storage",
          "N2-storage",
          "N2-storage",
          "N2-storage",
          "N2-storage",
          "N2-storage",
          "N2-storage",
          "N2-storage",
          "N2-storage",
          "N2-storage",
          "N2-storage",
          "N2-storage",
          "N2-storage",
          "N2-storage",
          "N2-storage",
          "N2-storage",
          "N2-storage",
          "N2-storage",
          "N2-storage",
          "N2-storage",
          "N2-storage",
          "N2-storage",
          "N2-storage",
          "N2-storage",
          "N2-storage",
          "N2-storage",
          "N2-storage",
          "N2-storage",
          "N2-storage",
          "N2-storage",
          "N2-storage",
          "N2-storage",
          "N2-storage",
          "N2-storage",
          "N2-storage",
          "N2-storage",
          "N2-storage",
          "N2-storage",
          "N2-storage",
          "N2-storage",
          "IV-room",
          "IV-room",
          "IV-room",
          "IV-room",
          "IV-room",
          "IV-room",
          "IV-room",
          "IV-room",
          "IV-room",
          "IV-room",
          "IV-room",
          "IV-room",
          "IV-room",
          "IV-room",
          "IV-room",
          "IV-room",
          "IV-room",
          "IV-room",
          "IV-room",
          "IV-room",
          "IV-room",
          "IV-room",
          "IV-room",
          "IV-room",
          "IV-room",
          "IV-room",
          "IV-room",
          "IV-room",
          "IV-room",
          "IV-room",
          "IV-room",
          "IV-room",
          "IV-room",
          "IV-room",
          "IV-room",
          "IV-room",
          "IV-room",
          "IV-room",
          "IV-room",
          "IV-room",
          "IV-room",
          "IV-room",
          "IV-room",
          "IV-room",
          "IV-room",
          "IV-room",
          "IV-room",
          "IV-room",
          "IV-room",
          "IV-room",
          "IV-room",
          "IV-room",
          "IV-room",
          "IV-room",
          "IV-room",
          "IV-room",
          "IV-room",
          "IV-room",
          "IV-room",
          "IV-room",
          "IV-room",
          "IV-room",
          "IV-room",
          "IV-room",
          "IV-room",
          "IV-room",
          "IV-room",
          "IV-room",
          "IV-room",
          "IV-room"
         ],
         "xaxis": "x2",
         "y": [
          -0.0016207247190805003,
          -0.001615488040217631,
          -0.0031999588012695313,
          -0.003205086874245569,
          -0.003205086874245569,
          -0.003257286934516728,
          0.00477710331306902,
          -0.006400012969970703,
          0.0031796630849866485,
          0,
          -0.001612882447912751,
          0,
          0,
          -0.003251990601268387,
          0.001592431045590718,
          0,
          0.0015974235558513148,
          0,
          -0.004800033569335937,
          0.0016076963973111597,
          -0.001592336133739151,
          -0.0015949709268113872,
          -0.003251990601268387,
          0,
          -0.0016181986684630364,
          -0.004966922381130668,
          -0.0015772667509968972,
          -0.00158225803698336,
          -0.0015898046303806103,
          -0.001592336133739151,
          -0.0015974235558513148,
          0.0015872811634372618,
          0.0015898046303806103,
          -0.0015974235558513148,
          -0.0016207247190805003,
          0,
          0,
          0,
          -0.0015898046303806103,
          0.0047542970841048015,
          0,
          -0.0087259949580505,
          0.0015898046303806103,
          0,
          -0.001615488040217631,
          0.0016025434371227845,
          0.0016076963973111597,
          0,
          -0.0015999794006347657,
          -0.0015974235558513148,
          -0.0031999588012695313,
          0,
          -0.001592336133739151,
          0.0031797040217214864,
          0,
          0.0015898046303806103,
          -0.001615488040217631,
          -0.0016051157047612724,
          0.0016076963973111597,
          0,
          0,
          0.0031596110651076676,
          0.001582352348125816,
          0.0015847656947016004,
          -0.0015898046303806103,
          -0.00158225803698336,
          0,
          0,
          -0.0032467114636859184,
          -0.00809070399936576,
          -0.0016207247190805003,
          0,
          0,
          0,
          0.0031897517271563527,
          0.0031847671793298693,
          0.0031897517271563527,
          0.0031847671793298693,
          0.0031847671793298693,
          0.0016052113783444374,
          0.0016025434371227845,
          0.0032153927946223194,
          0.001610285247101568,
          0.004784627590734529,
          0.006359313282482707,
          0.00477710331306902,
          0.004769508652102097,
          0.007949117912863317,
          0.006359313282482707,
          0.007911478807201711,
          0.006504078120656857,
          0.0032258610323485943,
          0,
          0.0016259953006341934,
          0,
          0.007949117912863317,
          0.006339157239418829,
          0.00477710331306902,
          0.006400012969970703,
          0.006359313282482707,
          0.009538922543243927,
          0.007949117912863317,
          0.007949117912863317,
          0,
          0.0016207247190805003,
          0,
          0,
          0.004769508652102097,
          0.0031897517271563527,
          0.004830951723020571,
          0.0015999794006347657,
          0.004784627590734529,
          0.006349219264297026,
          0.00321032708310571,
          0.006389789438494718,
          -0.0032949487272395193,
          -0.0016207247190805003,
          0,
          0.0015974235558513148,
          0.00477710331306902,
          0.0032051823945076613,
          0,
          0.0047619381008597635,
          0.006369439446808171,
          0.004823089191933479,
          0.006359313282482707,
          -0.0016207247190805003,
          -0.0016181986684630364,
          0,
          -0.0016181986684630364,
          0.003169531389403201,
          0.0016181022208132292,
          0.0047542970841048015,
          0.004739369516584686,
          0.0031897517271563527,
          0.004792270667553944,
          0.004815442787866982,
          0.004800033569335937,
          0.007961775580547323
         ],
         "yaxis": "y2"
        }
       ],
       "layout": {
        "boxgap": 0.5,
        "boxmode": "group",
        "height": 600,
        "template": {
         "data": {
          "bar": [
           {
            "error_x": {
             "color": "#2a3f5f"
            },
            "error_y": {
             "color": "#2a3f5f"
            },
            "marker": {
             "line": {
              "color": "#E5ECF6",
              "width": 0.5
             },
             "pattern": {
              "fillmode": "overlay",
              "size": 10,
              "solidity": 0.2
             }
            },
            "type": "bar"
           }
          ],
          "barpolar": [
           {
            "marker": {
             "line": {
              "color": "#E5ECF6",
              "width": 0.5
             },
             "pattern": {
              "fillmode": "overlay",
              "size": 10,
              "solidity": 0.2
             }
            },
            "type": "barpolar"
           }
          ],
          "carpet": [
           {
            "aaxis": {
             "endlinecolor": "#2a3f5f",
             "gridcolor": "white",
             "linecolor": "white",
             "minorgridcolor": "white",
             "startlinecolor": "#2a3f5f"
            },
            "baxis": {
             "endlinecolor": "#2a3f5f",
             "gridcolor": "white",
             "linecolor": "white",
             "minorgridcolor": "white",
             "startlinecolor": "#2a3f5f"
            },
            "type": "carpet"
           }
          ],
          "choropleth": [
           {
            "colorbar": {
             "outlinewidth": 0,
             "ticks": ""
            },
            "type": "choropleth"
           }
          ],
          "contour": [
           {
            "colorbar": {
             "outlinewidth": 0,
             "ticks": ""
            },
            "colorscale": [
             [
              0,
              "#0d0887"
             ],
             [
              0.1111111111111111,
              "#46039f"
             ],
             [
              0.2222222222222222,
              "#7201a8"
             ],
             [
              0.3333333333333333,
              "#9c179e"
             ],
             [
              0.4444444444444444,
              "#bd3786"
             ],
             [
              0.5555555555555556,
              "#d8576b"
             ],
             [
              0.6666666666666666,
              "#ed7953"
             ],
             [
              0.7777777777777778,
              "#fb9f3a"
             ],
             [
              0.8888888888888888,
              "#fdca26"
             ],
             [
              1,
              "#f0f921"
             ]
            ],
            "type": "contour"
           }
          ],
          "contourcarpet": [
           {
            "colorbar": {
             "outlinewidth": 0,
             "ticks": ""
            },
            "type": "contourcarpet"
           }
          ],
          "heatmap": [
           {
            "colorbar": {
             "outlinewidth": 0,
             "ticks": ""
            },
            "colorscale": [
             [
              0,
              "#0d0887"
             ],
             [
              0.1111111111111111,
              "#46039f"
             ],
             [
              0.2222222222222222,
              "#7201a8"
             ],
             [
              0.3333333333333333,
              "#9c179e"
             ],
             [
              0.4444444444444444,
              "#bd3786"
             ],
             [
              0.5555555555555556,
              "#d8576b"
             ],
             [
              0.6666666666666666,
              "#ed7953"
             ],
             [
              0.7777777777777778,
              "#fb9f3a"
             ],
             [
              0.8888888888888888,
              "#fdca26"
             ],
             [
              1,
              "#f0f921"
             ]
            ],
            "type": "heatmap"
           }
          ],
          "heatmapgl": [
           {
            "colorbar": {
             "outlinewidth": 0,
             "ticks": ""
            },
            "colorscale": [
             [
              0,
              "#0d0887"
             ],
             [
              0.1111111111111111,
              "#46039f"
             ],
             [
              0.2222222222222222,
              "#7201a8"
             ],
             [
              0.3333333333333333,
              "#9c179e"
             ],
             [
              0.4444444444444444,
              "#bd3786"
             ],
             [
              0.5555555555555556,
              "#d8576b"
             ],
             [
              0.6666666666666666,
              "#ed7953"
             ],
             [
              0.7777777777777778,
              "#fb9f3a"
             ],
             [
              0.8888888888888888,
              "#fdca26"
             ],
             [
              1,
              "#f0f921"
             ]
            ],
            "type": "heatmapgl"
           }
          ],
          "histogram": [
           {
            "marker": {
             "pattern": {
              "fillmode": "overlay",
              "size": 10,
              "solidity": 0.2
             }
            },
            "type": "histogram"
           }
          ],
          "histogram2d": [
           {
            "colorbar": {
             "outlinewidth": 0,
             "ticks": ""
            },
            "colorscale": [
             [
              0,
              "#0d0887"
             ],
             [
              0.1111111111111111,
              "#46039f"
             ],
             [
              0.2222222222222222,
              "#7201a8"
             ],
             [
              0.3333333333333333,
              "#9c179e"
             ],
             [
              0.4444444444444444,
              "#bd3786"
             ],
             [
              0.5555555555555556,
              "#d8576b"
             ],
             [
              0.6666666666666666,
              "#ed7953"
             ],
             [
              0.7777777777777778,
              "#fb9f3a"
             ],
             [
              0.8888888888888888,
              "#fdca26"
             ],
             [
              1,
              "#f0f921"
             ]
            ],
            "type": "histogram2d"
           }
          ],
          "histogram2dcontour": [
           {
            "colorbar": {
             "outlinewidth": 0,
             "ticks": ""
            },
            "colorscale": [
             [
              0,
              "#0d0887"
             ],
             [
              0.1111111111111111,
              "#46039f"
             ],
             [
              0.2222222222222222,
              "#7201a8"
             ],
             [
              0.3333333333333333,
              "#9c179e"
             ],
             [
              0.4444444444444444,
              "#bd3786"
             ],
             [
              0.5555555555555556,
              "#d8576b"
             ],
             [
              0.6666666666666666,
              "#ed7953"
             ],
             [
              0.7777777777777778,
              "#fb9f3a"
             ],
             [
              0.8888888888888888,
              "#fdca26"
             ],
             [
              1,
              "#f0f921"
             ]
            ],
            "type": "histogram2dcontour"
           }
          ],
          "mesh3d": [
           {
            "colorbar": {
             "outlinewidth": 0,
             "ticks": ""
            },
            "type": "mesh3d"
           }
          ],
          "parcoords": [
           {
            "line": {
             "colorbar": {
              "outlinewidth": 0,
              "ticks": ""
             }
            },
            "type": "parcoords"
           }
          ],
          "pie": [
           {
            "automargin": true,
            "type": "pie"
           }
          ],
          "scatter": [
           {
            "fillpattern": {
             "fillmode": "overlay",
             "size": 10,
             "solidity": 0.2
            },
            "type": "scatter"
           }
          ],
          "scatter3d": [
           {
            "line": {
             "colorbar": {
              "outlinewidth": 0,
              "ticks": ""
             }
            },
            "marker": {
             "colorbar": {
              "outlinewidth": 0,
              "ticks": ""
             }
            },
            "type": "scatter3d"
           }
          ],
          "scattercarpet": [
           {
            "marker": {
             "colorbar": {
              "outlinewidth": 0,
              "ticks": ""
             }
            },
            "type": "scattercarpet"
           }
          ],
          "scattergeo": [
           {
            "marker": {
             "colorbar": {
              "outlinewidth": 0,
              "ticks": ""
             }
            },
            "type": "scattergeo"
           }
          ],
          "scattergl": [
           {
            "marker": {
             "colorbar": {
              "outlinewidth": 0,
              "ticks": ""
             }
            },
            "type": "scattergl"
           }
          ],
          "scattermapbox": [
           {
            "marker": {
             "colorbar": {
              "outlinewidth": 0,
              "ticks": ""
             }
            },
            "type": "scattermapbox"
           }
          ],
          "scatterpolar": [
           {
            "marker": {
             "colorbar": {
              "outlinewidth": 0,
              "ticks": ""
             }
            },
            "type": "scatterpolar"
           }
          ],
          "scatterpolargl": [
           {
            "marker": {
             "colorbar": {
              "outlinewidth": 0,
              "ticks": ""
             }
            },
            "type": "scatterpolargl"
           }
          ],
          "scatterternary": [
           {
            "marker": {
             "colorbar": {
              "outlinewidth": 0,
              "ticks": ""
             }
            },
            "type": "scatterternary"
           }
          ],
          "surface": [
           {
            "colorbar": {
             "outlinewidth": 0,
             "ticks": ""
            },
            "colorscale": [
             [
              0,
              "#0d0887"
             ],
             [
              0.1111111111111111,
              "#46039f"
             ],
             [
              0.2222222222222222,
              "#7201a8"
             ],
             [
              0.3333333333333333,
              "#9c179e"
             ],
             [
              0.4444444444444444,
              "#bd3786"
             ],
             [
              0.5555555555555556,
              "#d8576b"
             ],
             [
              0.6666666666666666,
              "#ed7953"
             ],
             [
              0.7777777777777778,
              "#fb9f3a"
             ],
             [
              0.8888888888888888,
              "#fdca26"
             ],
             [
              1,
              "#f0f921"
             ]
            ],
            "type": "surface"
           }
          ],
          "table": [
           {
            "cells": {
             "fill": {
              "color": "#EBF0F8"
             },
             "line": {
              "color": "white"
             }
            },
            "header": {
             "fill": {
              "color": "#C8D4E3"
             },
             "line": {
              "color": "white"
             }
            },
            "type": "table"
           }
          ]
         },
         "layout": {
          "annotationdefaults": {
           "arrowcolor": "#2a3f5f",
           "arrowhead": 0,
           "arrowwidth": 1
          },
          "autotypenumbers": "strict",
          "coloraxis": {
           "colorbar": {
            "outlinewidth": 0,
            "ticks": ""
           }
          },
          "colorscale": {
           "diverging": [
            [
             0,
             "#8e0152"
            ],
            [
             0.1,
             "#c51b7d"
            ],
            [
             0.2,
             "#de77ae"
            ],
            [
             0.3,
             "#f1b6da"
            ],
            [
             0.4,
             "#fde0ef"
            ],
            [
             0.5,
             "#f7f7f7"
            ],
            [
             0.6,
             "#e6f5d0"
            ],
            [
             0.7,
             "#b8e186"
            ],
            [
             0.8,
             "#7fbc41"
            ],
            [
             0.9,
             "#4d9221"
            ],
            [
             1,
             "#276419"
            ]
           ],
           "sequential": [
            [
             0,
             "#0d0887"
            ],
            [
             0.1111111111111111,
             "#46039f"
            ],
            [
             0.2222222222222222,
             "#7201a8"
            ],
            [
             0.3333333333333333,
             "#9c179e"
            ],
            [
             0.4444444444444444,
             "#bd3786"
            ],
            [
             0.5555555555555556,
             "#d8576b"
            ],
            [
             0.6666666666666666,
             "#ed7953"
            ],
            [
             0.7777777777777778,
             "#fb9f3a"
            ],
            [
             0.8888888888888888,
             "#fdca26"
            ],
            [
             1,
             "#f0f921"
            ]
           ],
           "sequentialminus": [
            [
             0,
             "#0d0887"
            ],
            [
             0.1111111111111111,
             "#46039f"
            ],
            [
             0.2222222222222222,
             "#7201a8"
            ],
            [
             0.3333333333333333,
             "#9c179e"
            ],
            [
             0.4444444444444444,
             "#bd3786"
            ],
            [
             0.5555555555555556,
             "#d8576b"
            ],
            [
             0.6666666666666666,
             "#ed7953"
            ],
            [
             0.7777777777777778,
             "#fb9f3a"
            ],
            [
             0.8888888888888888,
             "#fdca26"
            ],
            [
             1,
             "#f0f921"
            ]
           ]
          },
          "colorway": [
           "#636efa",
           "#EF553B",
           "#00cc96",
           "#ab63fa",
           "#FFA15A",
           "#19d3f3",
           "#FF6692",
           "#B6E880",
           "#FF97FF",
           "#FECB52"
          ],
          "font": {
           "color": "#2a3f5f"
          },
          "geo": {
           "bgcolor": "white",
           "lakecolor": "white",
           "landcolor": "#E5ECF6",
           "showlakes": true,
           "showland": true,
           "subunitcolor": "white"
          },
          "hoverlabel": {
           "align": "left"
          },
          "hovermode": "closest",
          "mapbox": {
           "style": "light"
          },
          "paper_bgcolor": "white",
          "plot_bgcolor": "#E5ECF6",
          "polar": {
           "angularaxis": {
            "gridcolor": "white",
            "linecolor": "white",
            "ticks": ""
           },
           "bgcolor": "#E5ECF6",
           "radialaxis": {
            "gridcolor": "white",
            "linecolor": "white",
            "ticks": ""
           }
          },
          "scene": {
           "xaxis": {
            "backgroundcolor": "#E5ECF6",
            "gridcolor": "white",
            "gridwidth": 2,
            "linecolor": "white",
            "showbackground": true,
            "ticks": "",
            "zerolinecolor": "white"
           },
           "yaxis": {
            "backgroundcolor": "#E5ECF6",
            "gridcolor": "white",
            "gridwidth": 2,
            "linecolor": "white",
            "showbackground": true,
            "ticks": "",
            "zerolinecolor": "white"
           },
           "zaxis": {
            "backgroundcolor": "#E5ECF6",
            "gridcolor": "white",
            "gridwidth": 2,
            "linecolor": "white",
            "showbackground": true,
            "ticks": "",
            "zerolinecolor": "white"
           }
          },
          "shapedefaults": {
           "line": {
            "color": "#2a3f5f"
           }
          },
          "ternary": {
           "aaxis": {
            "gridcolor": "white",
            "linecolor": "white",
            "ticks": ""
           },
           "baxis": {
            "gridcolor": "white",
            "linecolor": "white",
            "ticks": ""
           },
           "bgcolor": "#E5ECF6",
           "caxis": {
            "gridcolor": "white",
            "linecolor": "white",
            "ticks": ""
           }
          },
          "title": {
           "x": 0.05
          },
          "xaxis": {
           "automargin": true,
           "gridcolor": "white",
           "linecolor": "white",
           "ticks": "",
           "title": {
            "standoff": 15
           },
           "zerolinecolor": "white",
           "zerolinewidth": 2
          },
          "yaxis": {
           "automargin": true,
           "gridcolor": "white",
           "linecolor": "white",
           "ticks": "",
           "title": {
            "standoff": 15
           },
           "zerolinecolor": "white",
           "zerolinewidth": 2
          }
         }
        },
        "title": {
         "text": "Voc performance in N2-storage Vs IV-room between 24h"
        },
        "width": 900,
        "xaxis": {
         "anchor": "y",
         "domain": [
          0,
          1
         ],
         "matches": "x2",
         "showticklabels": false
        },
        "xaxis2": {
         "anchor": "y2",
         "domain": [
          0,
          1
         ]
        },
        "yaxis": {
         "anchor": "x",
         "domain": [
          0.515,
          1
         ],
         "tickformat": ".3f",
         "title": {
          "text": "Voc [V]"
         }
        },
        "yaxis2": {
         "anchor": "x2",
         "domain": [
          0,
          0.485
         ],
         "tickformat": ".1%",
         "title": {
          "text": "PL<sub>24h</sub> of Voc"
         }
        }
       }
      },
      "text/html": [
       "<div>                            <div id=\"1388366c-534a-4385-b681-8fc316b67e69\" class=\"plotly-graph-div\" style=\"height:600px; width:900px;\"></div>            <script type=\"text/javascript\">                require([\"plotly\"], function(Plotly) {                    window.PLOTLYENV=window.PLOTLYENV || {};                                    if (document.getElementById(\"1388366c-534a-4385-b681-8fc316b67e69\")) {                    Plotly.newPlot(                        \"1388366c-534a-4385-b681-8fc316b67e69\",                        [{\"name\":\"Original measurments\",\"offsetgroup\":\"A\",\"x\":[\"N2-storage\",\"N2-storage\",\"N2-storage\",\"N2-storage\",\"N2-storage\",\"N2-storage\",\"N2-storage\",\"N2-storage\",\"N2-storage\",\"N2-storage\",\"N2-storage\",\"N2-storage\",\"N2-storage\",\"N2-storage\",\"N2-storage\",\"N2-storage\",\"N2-storage\",\"N2-storage\",\"N2-storage\",\"N2-storage\",\"N2-storage\",\"N2-storage\",\"N2-storage\",\"N2-storage\",\"N2-storage\",\"N2-storage\",\"N2-storage\",\"N2-storage\",\"N2-storage\",\"N2-storage\",\"N2-storage\",\"N2-storage\",\"N2-storage\",\"N2-storage\",\"N2-storage\",\"N2-storage\",\"N2-storage\",\"N2-storage\",\"N2-storage\",\"N2-storage\",\"N2-storage\",\"N2-storage\",\"N2-storage\",\"N2-storage\",\"N2-storage\",\"N2-storage\",\"N2-storage\",\"N2-storage\",\"N2-storage\",\"N2-storage\",\"N2-storage\",\"N2-storage\",\"N2-storage\",\"N2-storage\",\"N2-storage\",\"N2-storage\",\"N2-storage\",\"N2-storage\",\"N2-storage\",\"N2-storage\",\"N2-storage\",\"N2-storage\",\"N2-storage\",\"N2-storage\",\"N2-storage\",\"N2-storage\",\"N2-storage\",\"N2-storage\",\"N2-storage\",\"IV-room\",\"IV-room\",\"IV-room\",\"IV-room\",\"IV-room\",\"IV-room\",\"IV-room\",\"IV-room\",\"IV-room\",\"IV-room\",\"IV-room\",\"IV-room\",\"IV-room\",\"IV-room\",\"IV-room\",\"IV-room\",\"IV-room\",\"IV-room\",\"IV-room\",\"IV-room\",\"IV-room\",\"IV-room\",\"IV-room\",\"IV-room\",\"IV-room\",\"IV-room\",\"IV-room\",\"IV-room\",\"IV-room\",\"IV-room\",\"IV-room\",\"IV-room\",\"IV-room\",\"IV-room\",\"IV-room\",\"IV-room\",\"IV-room\",\"IV-room\",\"IV-room\",\"IV-room\",\"IV-room\",\"IV-room\",\"IV-room\",\"IV-room\",\"IV-room\",\"IV-room\",\"IV-room\",\"IV-room\",\"IV-room\",\"IV-room\",\"IV-room\",\"IV-room\",\"IV-room\",\"IV-room\",\"IV-room\",\"IV-room\",\"IV-room\",\"IV-room\",\"IV-room\",\"IV-room\",\"IV-room\",\"IV-room\",\"IV-room\",\"IV-room\",\"IV-room\",\"IV-room\",\"IV-room\",\"IV-room\",\"IV-room\",\"IV-room\"],\"y\":[0.6169999837875366,0.6190000176429749,0.625,0.6240000128746033,0.6240000128746033,0.6140000224113464,0.628000020980835,0.625,0.6290000081062317,0.6190000176429749,0.6200000047683716,0.6200000047683716,0.6200000047683716,0.6150000095367432,0.628000020980835,0.6290000081062317,0.6259999871253967,0.6299999952316284,0.625,0.621999979019165,0.628000020980835,0.6269999742507935,0.6150000095367432,0.6190000176429749,0.6179999709129333,0.6039999723434448,0.6340000033378601,0.6320000290870667,0.6290000081062317,0.628000020980835,0.6259999871253967,0.6299999952316284,0.6290000081062317,0.6259999871253967,0.6169999837875366,0.6190000176429749,0.6190000176429749,0.6179999709129333,0.6290000081062317,0.6309999823570251,0.628000020980835,0.5730000138282776,0.6290000081062317,0.6290000081062317,0.6190000176429749,0.6240000128746033,0.621999979019165,0.621999979019165,0.625,0.6259999871253967,0.625,0.6269999742507935,0.628000020980835,0.6290000081062317,0.6309999823570251,0.6290000081062317,0.6190000176429749,0.6230000257492065,0.621999979019165,0.621999979019165,0.621999979019165,0.6330000162124634,0.6320000290870667,0.6309999823570251,0.6290000081062317,0.6320000290870667,0.6309999823570251,0.6259999871253967,0.6159999966621399,0.6179999709129333,0.6169999837875366,0.6179999709129333,0.625,0.6259999871253967,0.6269999742507935,0.628000020980835,0.6269999742507935,0.628000020980835,0.628000020980835,0.6230000257492065,0.6240000128746033,0.621999979019165,0.6209999918937683,0.6269999742507935,0.6290000081062317,0.628000020980835,0.6290000081062317,0.6290000081062317,0.6290000081062317,0.6320000290870667,0.6150000095367432,0.6200000047683716,0.6259999871253967,0.6150000095367432,0.6209999918937683,0.6290000081062317,0.6309999823570251,0.628000020980835,0.625,0.6290000081062317,0.6290000081062317,0.6290000081062317,0.6290000081062317,0.6169999837875366,0.6169999837875366,0.6119999885559082,0.6169999837875366,0.6290000081062317,0.6269999742507935,0.6209999918937683,0.625,0.6269999742507935,0.6299999952316284,0.6230000257492065,0.6259999871253967,0.6069999933242798,0.6169999837875366,0.6169999837875366,0.6259999871253967,0.628000020980835,0.6240000128746033,0.6209999918937683,0.6299999952316284,0.628000020980835,0.621999979019165,0.6290000081062317,0.6169999837875366,0.6179999709129333,0.6159999966621399,0.6179999709129333,0.6309999823570251,0.6179999709129333,0.6309999823570251,0.6330000162124634,0.6269999742507935,0.6259999871253967,0.6230000257492065,0.625,0.628000020980835],\"type\":\"box\",\"xaxis\":\"x\",\"yaxis\":\"y\"},{\"name\":\"After 24h\",\"offsetgroup\":\"B\",\"x\":[\"N2-storage\",\"N2-storage\",\"N2-storage\",\"N2-storage\",\"N2-storage\",\"N2-storage\",\"N2-storage\",\"N2-storage\",\"N2-storage\",\"N2-storage\",\"N2-storage\",\"N2-storage\",\"N2-storage\",\"N2-storage\",\"N2-storage\",\"N2-storage\",\"N2-storage\",\"N2-storage\",\"N2-storage\",\"N2-storage\",\"N2-storage\",\"N2-storage\",\"N2-storage\",\"N2-storage\",\"N2-storage\",\"N2-storage\",\"N2-storage\",\"N2-storage\",\"N2-storage\",\"N2-storage\",\"N2-storage\",\"N2-storage\",\"N2-storage\",\"N2-storage\",\"N2-storage\",\"N2-storage\",\"N2-storage\",\"N2-storage\",\"N2-storage\",\"N2-storage\",\"N2-storage\",\"N2-storage\",\"N2-storage\",\"N2-storage\",\"N2-storage\",\"N2-storage\",\"N2-storage\",\"N2-storage\",\"N2-storage\",\"N2-storage\",\"N2-storage\",\"N2-storage\",\"N2-storage\",\"N2-storage\",\"N2-storage\",\"N2-storage\",\"N2-storage\",\"N2-storage\",\"N2-storage\",\"N2-storage\",\"N2-storage\",\"N2-storage\",\"N2-storage\",\"N2-storage\",\"N2-storage\",\"N2-storage\",\"N2-storage\",\"N2-storage\",\"N2-storage\",\"IV-room\",\"IV-room\",\"IV-room\",\"IV-room\",\"IV-room\",\"IV-room\",\"IV-room\",\"IV-room\",\"IV-room\",\"IV-room\",\"IV-room\",\"IV-room\",\"IV-room\",\"IV-room\",\"IV-room\",\"IV-room\",\"IV-room\",\"IV-room\",\"IV-room\",\"IV-room\",\"IV-room\",\"IV-room\",\"IV-room\",\"IV-room\",\"IV-room\",\"IV-room\",\"IV-room\",\"IV-room\",\"IV-room\",\"IV-room\",\"IV-room\",\"IV-room\",\"IV-room\",\"IV-room\",\"IV-room\",\"IV-room\",\"IV-room\",\"IV-room\",\"IV-room\",\"IV-room\",\"IV-room\",\"IV-room\",\"IV-room\",\"IV-room\",\"IV-room\",\"IV-room\",\"IV-room\",\"IV-room\",\"IV-room\",\"IV-room\",\"IV-room\",\"IV-room\",\"IV-room\",\"IV-room\",\"IV-room\",\"IV-room\",\"IV-room\",\"IV-room\",\"IV-room\",\"IV-room\",\"IV-room\",\"IV-room\",\"IV-room\",\"IV-room\",\"IV-room\",\"IV-room\",\"IV-room\",\"IV-room\",\"IV-room\",\"IV-room\"],\"y\":[0.6179999709129333,0.6200000047683716,0.6269999742507935,0.6259999871253967,0.6259999871253967,0.6159999966621399,0.625,0.6290000081062317,0.627,0.6190000176429749,0.6209999918937683,0.6200000047683716,0.6200000047683716,0.6169999837875366,0.6269999742507935,0.6290000081062317,0.625,0.6299999952316284,0.628000020980835,0.6209999918937683,0.6290000081062317,0.628000020980835,0.6169999837875366,0.6190000176429749,0.6190000176429749,0.6069999933242798,0.6349999904632568,0.6330000162124634,0.6299999952316284,0.6290000081062317,0.6269999742507935,0.6290000081062317,0.628000020980835,0.6269999742507935,0.6179999709129333,0.6190000176429749,0.6190000176429749,0.6179999709129333,0.6299999952316284,0.628000020980835,0.628000020980835,0.578000009059906,0.628000020980835,0.6290000081062317,0.6200000047683716,0.6230000257492065,0.6209999918937683,0.621999979019165,0.6259999871253967,0.6269999742507935,0.6269999742507935,0.6269999742507935,0.6290000081062317,0.6269999742507935,0.6309999823570251,0.628000020980835,0.6200000047683716,0.6240000128746033,0.6209999918937683,0.621999979019165,0.621999979019165,0.6309999823570251,0.6309999823570251,0.6299999952316284,0.6299999952316284,0.6330000162124634,0.6309999823570251,0.6259999871253967,0.6179999709129333,0.6230000257492065,0.6179999709129333,0.6179999709129333,0.625,0.6259999871253967,0.625,0.6259999871253967,0.625,0.6259999871253967,0.6259999871253967,0.621999979019165,0.6230000257492065,0.6200000047683716,0.6200000047683716,0.6240000128746033,0.625,0.625,0.6259999871253967,0.6240000128746033,0.625,0.6269999742507935,0.6110000014305115,0.6179999709129333,0.6259999871253967,0.6140000224113464,0.6209999918937683,0.6240000128746033,0.6269999742507935,0.625,0.6209999918937683,0.625,0.6230000257492065,0.6240000128746033,0.6240000128746033,0.6169999837875366,0.6159999966621399,0.6119999885559082,0.6169999837875366,0.6259999871253967,0.625,0.6179999709129333,0.6240000128746033,0.6240000128746033,0.6259999871253967,0.6209999918937683,0.621999979019165,0.609000027179718,0.6179999709129333,0.6169999837875366,0.625,0.625,0.621999979019165,0.6209999918937683,0.6269999742507935,0.6240000128746033,0.6190000176429749,0.625,0.6179999709129333,0.6190000176429749,0.6159999966621399,0.6190000176429749,0.6290000081062317,0.6169999837875366,0.628000020980835,0.6299999952316284,0.625,0.6230000257492065,0.6200000047683716,0.621999979019165,0.6230000257492065],\"type\":\"box\",\"xaxis\":\"x\",\"yaxis\":\"y\"},{\"name\":\"Performance loss\",\"offsetgroup\":\"A\",\"x\":[\"N2-storage\",\"N2-storage\",\"N2-storage\",\"N2-storage\",\"N2-storage\",\"N2-storage\",\"N2-storage\",\"N2-storage\",\"N2-storage\",\"N2-storage\",\"N2-storage\",\"N2-storage\",\"N2-storage\",\"N2-storage\",\"N2-storage\",\"N2-storage\",\"N2-storage\",\"N2-storage\",\"N2-storage\",\"N2-storage\",\"N2-storage\",\"N2-storage\",\"N2-storage\",\"N2-storage\",\"N2-storage\",\"N2-storage\",\"N2-storage\",\"N2-storage\",\"N2-storage\",\"N2-storage\",\"N2-storage\",\"N2-storage\",\"N2-storage\",\"N2-storage\",\"N2-storage\",\"N2-storage\",\"N2-storage\",\"N2-storage\",\"N2-storage\",\"N2-storage\",\"N2-storage\",\"N2-storage\",\"N2-storage\",\"N2-storage\",\"N2-storage\",\"N2-storage\",\"N2-storage\",\"N2-storage\",\"N2-storage\",\"N2-storage\",\"N2-storage\",\"N2-storage\",\"N2-storage\",\"N2-storage\",\"N2-storage\",\"N2-storage\",\"N2-storage\",\"N2-storage\",\"N2-storage\",\"N2-storage\",\"N2-storage\",\"N2-storage\",\"N2-storage\",\"N2-storage\",\"N2-storage\",\"N2-storage\",\"N2-storage\",\"N2-storage\",\"N2-storage\",\"IV-room\",\"IV-room\",\"IV-room\",\"IV-room\",\"IV-room\",\"IV-room\",\"IV-room\",\"IV-room\",\"IV-room\",\"IV-room\",\"IV-room\",\"IV-room\",\"IV-room\",\"IV-room\",\"IV-room\",\"IV-room\",\"IV-room\",\"IV-room\",\"IV-room\",\"IV-room\",\"IV-room\",\"IV-room\",\"IV-room\",\"IV-room\",\"IV-room\",\"IV-room\",\"IV-room\",\"IV-room\",\"IV-room\",\"IV-room\",\"IV-room\",\"IV-room\",\"IV-room\",\"IV-room\",\"IV-room\",\"IV-room\",\"IV-room\",\"IV-room\",\"IV-room\",\"IV-room\",\"IV-room\",\"IV-room\",\"IV-room\",\"IV-room\",\"IV-room\",\"IV-room\",\"IV-room\",\"IV-room\",\"IV-room\",\"IV-room\",\"IV-room\",\"IV-room\",\"IV-room\",\"IV-room\",\"IV-room\",\"IV-room\",\"IV-room\",\"IV-room\",\"IV-room\",\"IV-room\",\"IV-room\",\"IV-room\",\"IV-room\",\"IV-room\",\"IV-room\",\"IV-room\",\"IV-room\",\"IV-room\",\"IV-room\",\"IV-room\"],\"y\":[-0.0016207247190805003,-0.001615488040217631,-0.0031999588012695313,-0.003205086874245569,-0.003205086874245569,-0.003257286934516728,0.00477710331306902,-0.006400012969970703,0.0031796630849866485,0.0,-0.001612882447912751,0.0,0.0,-0.003251990601268387,0.001592431045590718,0.0,0.0015974235558513148,0.0,-0.004800033569335937,0.0016076963973111597,-0.001592336133739151,-0.0015949709268113872,-0.003251990601268387,0.0,-0.0016181986684630364,-0.004966922381130668,-0.0015772667509968972,-0.00158225803698336,-0.0015898046303806103,-0.001592336133739151,-0.0015974235558513148,0.0015872811634372618,0.0015898046303806103,-0.0015974235558513148,-0.0016207247190805003,0.0,0.0,0.0,-0.0015898046303806103,0.0047542970841048015,0.0,-0.0087259949580505,0.0015898046303806103,0.0,-0.001615488040217631,0.0016025434371227845,0.0016076963973111597,0.0,-0.0015999794006347657,-0.0015974235558513148,-0.0031999588012695313,0.0,-0.001592336133739151,0.0031797040217214864,0.0,0.0015898046303806103,-0.001615488040217631,-0.0016051157047612724,0.0016076963973111597,0.0,0.0,0.0031596110651076676,0.001582352348125816,0.0015847656947016004,-0.0015898046303806103,-0.00158225803698336,0.0,0.0,-0.0032467114636859184,-0.00809070399936576,-0.0016207247190805003,0.0,0.0,0.0,0.0031897517271563527,0.0031847671793298693,0.0031897517271563527,0.0031847671793298693,0.0031847671793298693,0.0016052113783444374,0.0016025434371227845,0.0032153927946223194,0.001610285247101568,0.004784627590734529,0.006359313282482707,0.00477710331306902,0.004769508652102097,0.007949117912863317,0.006359313282482707,0.007911478807201711,0.006504078120656857,0.0032258610323485943,0.0,0.0016259953006341934,0.0,0.007949117912863317,0.006339157239418829,0.00477710331306902,0.006400012969970703,0.006359313282482707,0.009538922543243927,0.007949117912863317,0.007949117912863317,0.0,0.0016207247190805003,0.0,0.0,0.004769508652102097,0.0031897517271563527,0.004830951723020571,0.0015999794006347657,0.004784627590734529,0.006349219264297026,0.00321032708310571,0.006389789438494718,-0.0032949487272395193,-0.0016207247190805003,0.0,0.0015974235558513148,0.00477710331306902,0.0032051823945076613,0.0,0.0047619381008597635,0.006369439446808171,0.004823089191933479,0.006359313282482707,-0.0016207247190805003,-0.0016181986684630364,0.0,-0.0016181986684630364,0.003169531389403201,0.0016181022208132292,0.0047542970841048015,0.004739369516584686,0.0031897517271563527,0.004792270667553944,0.004815442787866982,0.004800033569335937,0.007961775580547323],\"type\":\"box\",\"xaxis\":\"x2\",\"yaxis\":\"y2\"}],                        {\"template\":{\"data\":{\"histogram2dcontour\":[{\"type\":\"histogram2dcontour\",\"colorbar\":{\"outlinewidth\":0,\"ticks\":\"\"},\"colorscale\":[[0.0,\"#0d0887\"],[0.1111111111111111,\"#46039f\"],[0.2222222222222222,\"#7201a8\"],[0.3333333333333333,\"#9c179e\"],[0.4444444444444444,\"#bd3786\"],[0.5555555555555556,\"#d8576b\"],[0.6666666666666666,\"#ed7953\"],[0.7777777777777778,\"#fb9f3a\"],[0.8888888888888888,\"#fdca26\"],[1.0,\"#f0f921\"]]}],\"choropleth\":[{\"type\":\"choropleth\",\"colorbar\":{\"outlinewidth\":0,\"ticks\":\"\"}}],\"histogram2d\":[{\"type\":\"histogram2d\",\"colorbar\":{\"outlinewidth\":0,\"ticks\":\"\"},\"colorscale\":[[0.0,\"#0d0887\"],[0.1111111111111111,\"#46039f\"],[0.2222222222222222,\"#7201a8\"],[0.3333333333333333,\"#9c179e\"],[0.4444444444444444,\"#bd3786\"],[0.5555555555555556,\"#d8576b\"],[0.6666666666666666,\"#ed7953\"],[0.7777777777777778,\"#fb9f3a\"],[0.8888888888888888,\"#fdca26\"],[1.0,\"#f0f921\"]]}],\"heatmap\":[{\"type\":\"heatmap\",\"colorbar\":{\"outlinewidth\":0,\"ticks\":\"\"},\"colorscale\":[[0.0,\"#0d0887\"],[0.1111111111111111,\"#46039f\"],[0.2222222222222222,\"#7201a8\"],[0.3333333333333333,\"#9c179e\"],[0.4444444444444444,\"#bd3786\"],[0.5555555555555556,\"#d8576b\"],[0.6666666666666666,\"#ed7953\"],[0.7777777777777778,\"#fb9f3a\"],[0.8888888888888888,\"#fdca26\"],[1.0,\"#f0f921\"]]}],\"heatmapgl\":[{\"type\":\"heatmapgl\",\"colorbar\":{\"outlinewidth\":0,\"ticks\":\"\"},\"colorscale\":[[0.0,\"#0d0887\"],[0.1111111111111111,\"#46039f\"],[0.2222222222222222,\"#7201a8\"],[0.3333333333333333,\"#9c179e\"],[0.4444444444444444,\"#bd3786\"],[0.5555555555555556,\"#d8576b\"],[0.6666666666666666,\"#ed7953\"],[0.7777777777777778,\"#fb9f3a\"],[0.8888888888888888,\"#fdca26\"],[1.0,\"#f0f921\"]]}],\"contourcarpet\":[{\"type\":\"contourcarpet\",\"colorbar\":{\"outlinewidth\":0,\"ticks\":\"\"}}],\"contour\":[{\"type\":\"contour\",\"colorbar\":{\"outlinewidth\":0,\"ticks\":\"\"},\"colorscale\":[[0.0,\"#0d0887\"],[0.1111111111111111,\"#46039f\"],[0.2222222222222222,\"#7201a8\"],[0.3333333333333333,\"#9c179e\"],[0.4444444444444444,\"#bd3786\"],[0.5555555555555556,\"#d8576b\"],[0.6666666666666666,\"#ed7953\"],[0.7777777777777778,\"#fb9f3a\"],[0.8888888888888888,\"#fdca26\"],[1.0,\"#f0f921\"]]}],\"surface\":[{\"type\":\"surface\",\"colorbar\":{\"outlinewidth\":0,\"ticks\":\"\"},\"colorscale\":[[0.0,\"#0d0887\"],[0.1111111111111111,\"#46039f\"],[0.2222222222222222,\"#7201a8\"],[0.3333333333333333,\"#9c179e\"],[0.4444444444444444,\"#bd3786\"],[0.5555555555555556,\"#d8576b\"],[0.6666666666666666,\"#ed7953\"],[0.7777777777777778,\"#fb9f3a\"],[0.8888888888888888,\"#fdca26\"],[1.0,\"#f0f921\"]]}],\"mesh3d\":[{\"type\":\"mesh3d\",\"colorbar\":{\"outlinewidth\":0,\"ticks\":\"\"}}],\"scatter\":[{\"fillpattern\":{\"fillmode\":\"overlay\",\"size\":10,\"solidity\":0.2},\"type\":\"scatter\"}],\"parcoords\":[{\"type\":\"parcoords\",\"line\":{\"colorbar\":{\"outlinewidth\":0,\"ticks\":\"\"}}}],\"scatterpolargl\":[{\"type\":\"scatterpolargl\",\"marker\":{\"colorbar\":{\"outlinewidth\":0,\"ticks\":\"\"}}}],\"bar\":[{\"error_x\":{\"color\":\"#2a3f5f\"},\"error_y\":{\"color\":\"#2a3f5f\"},\"marker\":{\"line\":{\"color\":\"#E5ECF6\",\"width\":0.5},\"pattern\":{\"fillmode\":\"overlay\",\"size\":10,\"solidity\":0.2}},\"type\":\"bar\"}],\"scattergeo\":[{\"type\":\"scattergeo\",\"marker\":{\"colorbar\":{\"outlinewidth\":0,\"ticks\":\"\"}}}],\"scatterpolar\":[{\"type\":\"scatterpolar\",\"marker\":{\"colorbar\":{\"outlinewidth\":0,\"ticks\":\"\"}}}],\"histogram\":[{\"marker\":{\"pattern\":{\"fillmode\":\"overlay\",\"size\":10,\"solidity\":0.2}},\"type\":\"histogram\"}],\"scattergl\":[{\"type\":\"scattergl\",\"marker\":{\"colorbar\":{\"outlinewidth\":0,\"ticks\":\"\"}}}],\"scatter3d\":[{\"type\":\"scatter3d\",\"line\":{\"colorbar\":{\"outlinewidth\":0,\"ticks\":\"\"}},\"marker\":{\"colorbar\":{\"outlinewidth\":0,\"ticks\":\"\"}}}],\"scattermapbox\":[{\"type\":\"scattermapbox\",\"marker\":{\"colorbar\":{\"outlinewidth\":0,\"ticks\":\"\"}}}],\"scatterternary\":[{\"type\":\"scatterternary\",\"marker\":{\"colorbar\":{\"outlinewidth\":0,\"ticks\":\"\"}}}],\"scattercarpet\":[{\"type\":\"scattercarpet\",\"marker\":{\"colorbar\":{\"outlinewidth\":0,\"ticks\":\"\"}}}],\"carpet\":[{\"aaxis\":{\"endlinecolor\":\"#2a3f5f\",\"gridcolor\":\"white\",\"linecolor\":\"white\",\"minorgridcolor\":\"white\",\"startlinecolor\":\"#2a3f5f\"},\"baxis\":{\"endlinecolor\":\"#2a3f5f\",\"gridcolor\":\"white\",\"linecolor\":\"white\",\"minorgridcolor\":\"white\",\"startlinecolor\":\"#2a3f5f\"},\"type\":\"carpet\"}],\"table\":[{\"cells\":{\"fill\":{\"color\":\"#EBF0F8\"},\"line\":{\"color\":\"white\"}},\"header\":{\"fill\":{\"color\":\"#C8D4E3\"},\"line\":{\"color\":\"white\"}},\"type\":\"table\"}],\"barpolar\":[{\"marker\":{\"line\":{\"color\":\"#E5ECF6\",\"width\":0.5},\"pattern\":{\"fillmode\":\"overlay\",\"size\":10,\"solidity\":0.2}},\"type\":\"barpolar\"}],\"pie\":[{\"automargin\":true,\"type\":\"pie\"}]},\"layout\":{\"autotypenumbers\":\"strict\",\"colorway\":[\"#636efa\",\"#EF553B\",\"#00cc96\",\"#ab63fa\",\"#FFA15A\",\"#19d3f3\",\"#FF6692\",\"#B6E880\",\"#FF97FF\",\"#FECB52\"],\"font\":{\"color\":\"#2a3f5f\"},\"hovermode\":\"closest\",\"hoverlabel\":{\"align\":\"left\"},\"paper_bgcolor\":\"white\",\"plot_bgcolor\":\"#E5ECF6\",\"polar\":{\"bgcolor\":\"#E5ECF6\",\"angularaxis\":{\"gridcolor\":\"white\",\"linecolor\":\"white\",\"ticks\":\"\"},\"radialaxis\":{\"gridcolor\":\"white\",\"linecolor\":\"white\",\"ticks\":\"\"}},\"ternary\":{\"bgcolor\":\"#E5ECF6\",\"aaxis\":{\"gridcolor\":\"white\",\"linecolor\":\"white\",\"ticks\":\"\"},\"baxis\":{\"gridcolor\":\"white\",\"linecolor\":\"white\",\"ticks\":\"\"},\"caxis\":{\"gridcolor\":\"white\",\"linecolor\":\"white\",\"ticks\":\"\"}},\"coloraxis\":{\"colorbar\":{\"outlinewidth\":0,\"ticks\":\"\"}},\"colorscale\":{\"sequential\":[[0.0,\"#0d0887\"],[0.1111111111111111,\"#46039f\"],[0.2222222222222222,\"#7201a8\"],[0.3333333333333333,\"#9c179e\"],[0.4444444444444444,\"#bd3786\"],[0.5555555555555556,\"#d8576b\"],[0.6666666666666666,\"#ed7953\"],[0.7777777777777778,\"#fb9f3a\"],[0.8888888888888888,\"#fdca26\"],[1.0,\"#f0f921\"]],\"sequentialminus\":[[0.0,\"#0d0887\"],[0.1111111111111111,\"#46039f\"],[0.2222222222222222,\"#7201a8\"],[0.3333333333333333,\"#9c179e\"],[0.4444444444444444,\"#bd3786\"],[0.5555555555555556,\"#d8576b\"],[0.6666666666666666,\"#ed7953\"],[0.7777777777777778,\"#fb9f3a\"],[0.8888888888888888,\"#fdca26\"],[1.0,\"#f0f921\"]],\"diverging\":[[0,\"#8e0152\"],[0.1,\"#c51b7d\"],[0.2,\"#de77ae\"],[0.3,\"#f1b6da\"],[0.4,\"#fde0ef\"],[0.5,\"#f7f7f7\"],[0.6,\"#e6f5d0\"],[0.7,\"#b8e186\"],[0.8,\"#7fbc41\"],[0.9,\"#4d9221\"],[1,\"#276419\"]]},\"xaxis\":{\"gridcolor\":\"white\",\"linecolor\":\"white\",\"ticks\":\"\",\"title\":{\"standoff\":15},\"zerolinecolor\":\"white\",\"automargin\":true,\"zerolinewidth\":2},\"yaxis\":{\"gridcolor\":\"white\",\"linecolor\":\"white\",\"ticks\":\"\",\"title\":{\"standoff\":15},\"zerolinecolor\":\"white\",\"automargin\":true,\"zerolinewidth\":2},\"scene\":{\"xaxis\":{\"backgroundcolor\":\"#E5ECF6\",\"gridcolor\":\"white\",\"linecolor\":\"white\",\"showbackground\":true,\"ticks\":\"\",\"zerolinecolor\":\"white\",\"gridwidth\":2},\"yaxis\":{\"backgroundcolor\":\"#E5ECF6\",\"gridcolor\":\"white\",\"linecolor\":\"white\",\"showbackground\":true,\"ticks\":\"\",\"zerolinecolor\":\"white\",\"gridwidth\":2},\"zaxis\":{\"backgroundcolor\":\"#E5ECF6\",\"gridcolor\":\"white\",\"linecolor\":\"white\",\"showbackground\":true,\"ticks\":\"\",\"zerolinecolor\":\"white\",\"gridwidth\":2}},\"shapedefaults\":{\"line\":{\"color\":\"#2a3f5f\"}},\"annotationdefaults\":{\"arrowcolor\":\"#2a3f5f\",\"arrowhead\":0,\"arrowwidth\":1},\"geo\":{\"bgcolor\":\"white\",\"landcolor\":\"#E5ECF6\",\"subunitcolor\":\"white\",\"showland\":true,\"showlakes\":true,\"lakecolor\":\"white\"},\"title\":{\"x\":0.05},\"mapbox\":{\"style\":\"light\"}}},\"xaxis\":{\"anchor\":\"y\",\"domain\":[0.0,1.0],\"matches\":\"x2\",\"showticklabels\":false},\"yaxis\":{\"anchor\":\"x\",\"domain\":[0.515,1.0],\"title\":{\"text\":\"Voc [V]\"},\"tickformat\":\".3f\"},\"xaxis2\":{\"anchor\":\"y2\",\"domain\":[0.0,1.0]},\"yaxis2\":{\"anchor\":\"x2\",\"domain\":[0.0,0.485],\"title\":{\"text\":\"PL<sub>24h</sub> of Voc\"},\"tickformat\":\".1%\"},\"title\":{\"text\":\"Voc performance in N2-storage Vs IV-room between 24h\"},\"boxmode\":\"group\",\"height\":600,\"width\":900,\"boxgap\":0.5},                        {\"responsive\": true}                    ).then(function(){\n",
       "                            \n",
       "var gd = document.getElementById('1388366c-534a-4385-b681-8fc316b67e69');\n",
       "var x = new MutationObserver(function (mutations, observer) {{\n",
       "        var display = window.getComputedStyle(gd).display;\n",
       "        if (!display || display === 'none') {{\n",
       "            console.log([gd, 'removed!']);\n",
       "            Plotly.purge(gd);\n",
       "            observer.disconnect();\n",
       "        }}\n",
       "}});\n",
       "\n",
       "// Listen for the removal of the full notebook cells\n",
       "var notebookContainer = gd.closest('#notebook-container');\n",
       "if (notebookContainer) {{\n",
       "    x.observe(notebookContainer, {childList: true});\n",
       "}}\n",
       "\n",
       "// Listen for the clearing of the current output cell\n",
       "var outputEl = gd.closest('.output');\n",
       "if (outputEl) {{\n",
       "    x.observe(outputEl, {childList: true});\n",
       "}}\n",
       "\n",
       "                        })                };                });            </script>        </div>"
      ]
     },
     "metadata": {},
     "output_type": "display_data"
    }
   ],
   "source": [
    "Cell_degradation_test_23_V = Cell_degradation_test_23[(Cell_degradation_test_23['PL-Voc'] < 0.1) \n",
    "                                                      & (Cell_degradation_test_23['PL-Voc'] > -0.1)]\n",
    "\n",
    "fig_Cd_23_V = make_subplots(rows=2, cols=1,shared_xaxes = True,vertical_spacing=0.03)\n",
    "\n",
    "fig_Cd_23_V.add_trace(\n",
    "    go.Box(y=Cell_degradation_test_23_V['Voc [V]'], x = Cell_degradation_test_23_V[\"Storage\"], \n",
    "           name = \"Original measurments\", offsetgroup = \"A\"),\n",
    "    row=1, col=1\n",
    ")\n",
    "\n",
    "fig_Cd_23_V.add_trace(\n",
    "    go.Box(y=Cell_degradation_test_23_V['Voc [V].1'], x = Cell_degradation_test_23_V[\"Storage\"], \n",
    "           name = \"After 24h\", offsetgroup = \"B\"),\n",
    "    row=1, col=1\n",
    ")\n",
    "\n",
    "\n",
    "fig_Cd_23_V.add_trace(\n",
    "    go.Box(y=Cell_degradation_test_23_V['PL-Voc'], x = Cell_degradation_test_23_V[\"Storage\"], \n",
    "           name = \"Performance loss\", offsetgroup = \"A\"),\n",
    "    row=2, col=1\n",
    ")\n",
    "\n",
    "fig_Cd_23_V.update_layout(title=\"Voc performance in N2-storage Vs IV-room between 24h\",\n",
    "                          boxmode='group', height=600, width=900,\n",
    "                     boxgap=0.5,\n",
    "                     yaxis=dict(title=\"Voc [V]\", tickformat=\".3f\"),\n",
    "                     yaxis2=dict(title=\"PL<sub>24h</sub> of Voc\", tickformat=\".1%\")\n",
    "                    ) \n",
    "fig_Cd_23_V.show()\n",
    "fig_Cd_23_V.write_image(\"3.1.1 Voc performance in N2-storage Vs IV-room between 24h.png\", scale=3, width=900, height=600) "
   ]
  },
  {
   "cell_type": "markdown",
   "id": "efd29ad6",
   "metadata": {},
   "source": [
    "# Check Isc values"
   ]
  },
  {
   "cell_type": "code",
   "execution_count": 360,
   "id": "352a7557",
   "metadata": {},
   "outputs": [
    {
     "data": {
      "application/vnd.plotly.v1+json": {
       "config": {
        "plotlyServerURL": "https://plot.ly"
       },
       "data": [
        {
         "name": "Original measurments",
         "offsetgroup": "A",
         "type": "box",
         "x": [
          "N2-storage",
          "N2-storage",
          "N2-storage",
          "N2-storage",
          "N2-storage",
          "N2-storage",
          "N2-storage",
          "N2-storage",
          "N2-storage",
          "N2-storage",
          "N2-storage",
          "N2-storage",
          "N2-storage",
          "N2-storage",
          "N2-storage",
          "N2-storage",
          "N2-storage",
          "N2-storage",
          "N2-storage",
          "N2-storage",
          "N2-storage",
          "N2-storage",
          "N2-storage",
          "N2-storage",
          "N2-storage",
          "N2-storage",
          "N2-storage",
          "N2-storage",
          "N2-storage",
          "N2-storage",
          "N2-storage",
          "N2-storage",
          "N2-storage",
          "N2-storage",
          "N2-storage",
          "N2-storage",
          "N2-storage",
          "N2-storage",
          "N2-storage",
          "N2-storage",
          "N2-storage",
          "N2-storage",
          "N2-storage",
          "N2-storage",
          "N2-storage",
          "N2-storage",
          "N2-storage",
          "N2-storage",
          "N2-storage",
          "N2-storage",
          "N2-storage",
          "N2-storage",
          "N2-storage",
          "N2-storage",
          "N2-storage",
          "N2-storage",
          "N2-storage",
          "N2-storage",
          "N2-storage",
          "N2-storage",
          "N2-storage",
          "N2-storage",
          "N2-storage",
          "N2-storage",
          "N2-storage",
          "N2-storage",
          "N2-storage",
          "N2-storage",
          "N2-storage",
          "N2-storage",
          "N2-storage",
          "N2-storage",
          "IV-room",
          "IV-room",
          "IV-room",
          "IV-room",
          "IV-room",
          "IV-room",
          "IV-room",
          "IV-room",
          "IV-room",
          "IV-room",
          "IV-room",
          "IV-room",
          "IV-room",
          "IV-room",
          "IV-room",
          "IV-room",
          "IV-room",
          "IV-room",
          "IV-room",
          "IV-room",
          "IV-room",
          "IV-room",
          "IV-room",
          "IV-room",
          "IV-room",
          "IV-room",
          "IV-room",
          "IV-room",
          "IV-room",
          "IV-room",
          "IV-room",
          "IV-room",
          "IV-room",
          "IV-room",
          "IV-room",
          "IV-room",
          "IV-room",
          "IV-room",
          "IV-room",
          "IV-room",
          "IV-room",
          "IV-room",
          "IV-room",
          "IV-room",
          "IV-room",
          "IV-room",
          "IV-room",
          "IV-room",
          "IV-room",
          "IV-room",
          "IV-room",
          "IV-room",
          "IV-room",
          "IV-room",
          "IV-room",
          "IV-room",
          "IV-room",
          "IV-room",
          "IV-room",
          "IV-room",
          "IV-room",
          "IV-room",
          "IV-room",
          "IV-room",
          "IV-room",
          "IV-room",
          "IV-room",
          "IV-room",
          "IV-room",
          "IV-room",
          "IV-room",
          "IV-room"
         ],
         "xaxis": "x",
         "y": [
          6.547999858856201,
          6.445000171661377,
          6.513000011444092,
          6.613999843597412,
          6.65500020980835,
          6.64300012588501,
          6.639999866485596,
          6.614999771118164,
          6.65500020980835,
          6.51200008392334,
          6.565999984741211,
          6.486000061035156,
          6.546000003814697,
          6.433000087738037,
          6.445000171661377,
          6.59499979019165,
          6.563000202178955,
          6.479000091552734,
          6.576000213623047,
          6.547999858856201,
          6.539000034332275,
          6.585999965667725,
          6.551000118255615,
          6.409999847412109,
          6.354000091552734,
          6.375999927520752,
          6.364999771118164,
          6.494999885559082,
          6.5229997634887695,
          6.456999778747559,
          6.334000110626221,
          6.410999774932861,
          6.507999897003174,
          6.335000038146973,
          6.438000202178955,
          6.448999881744385,
          6.302999973297119,
          6.39900016784668,
          6.376999855041504,
          6.547999858856201,
          6.563000202178955,
          6.673999786376953,
          6.534999847412109,
          6.800000190734863,
          6.60699987411499,
          6.409999847412109,
          6.501999855041504,
          6.415999889373779,
          6.4670000076293945,
          6.382999897003174,
          6.456999778747559,
          6.586999893188477,
          6.559999942779541,
          6.611000061035156,
          6.664000034332275,
          6.576000213623047,
          6.5370001792907715,
          6.583000183105469,
          6.517000198364258,
          6.458000183105469,
          6.465000152587891,
          6.415999889373779,
          6.423999786376953,
          6.513000011444092,
          6.547999858856201,
          6.50600004196167,
          6.486000061035156,
          6.572000026702881,
          6.5929999351501465,
          6.548999786376953,
          6.466000080108643,
          6.474999904632568,
          6.492000102996826,
          6.434000015258789,
          6.460000038146973,
          6.61899995803833,
          6.580999851226807,
          6.559000015258789,
          6.552000045776367,
          6.533999919891357,
          6.484000205993652,
          6.534999847412109,
          6.548999786376953,
          6.4679999351501465,
          6.458000183105469,
          6.4670000076293945,
          6.418000221252441,
          6.513000011444092,
          6.535999774932861,
          6.525000095367432,
          6.5289998054504395,
          6.565000057220459,
          6.508999824523926,
          6.578000068664551,
          6.4730000495910645,
          6.408999919891357,
          6.460999965667725,
          6.419000148773193,
          6.392000198364258,
          6.504000186920166,
          6.455999851226807,
          6.385000228881836,
          6.460000038146973,
          6.486000061035156,
          6.488999843597412,
          6.48799991607666,
          6.479000091552734,
          6.5279998779296875,
          6.510000228881836,
          6.473999977111816,
          6.48199987411499,
          6.589000225067139,
          6.506999969482422,
          6.5279998779296875,
          6.51800012588501,
          6.484000205993652,
          6.506999969482422,
          6.489999771118164,
          6.517000198364258,
          6.294000148773193,
          6.415999889373779,
          6.377999782562256,
          6.334000110626221,
          6.486999988555908,
          6.507999897003174,
          6.5279998779296875,
          6.465000152587891,
          6.534999847412109,
          6.5370001792907715,
          6.480999946594238,
          6.480000019073486,
          6.360000133514404,
          6.401000022888184,
          6.408999919891357,
          6.414000034332275,
          6.535999774932861,
          6.48199987411499,
          6.434999942779541,
          6.485000133514404,
          6.566999912261963,
          6.558000087738037,
          6.507999897003174,
          6.423999786376953,
          6.4070000648498535
         ],
         "yaxis": "y"
        },
        {
         "name": "After 24h",
         "offsetgroup": "B",
         "type": "box",
         "x": [
          "N2-storage",
          "N2-storage",
          "N2-storage",
          "N2-storage",
          "N2-storage",
          "N2-storage",
          "N2-storage",
          "N2-storage",
          "N2-storage",
          "N2-storage",
          "N2-storage",
          "N2-storage",
          "N2-storage",
          "N2-storage",
          "N2-storage",
          "N2-storage",
          "N2-storage",
          "N2-storage",
          "N2-storage",
          "N2-storage",
          "N2-storage",
          "N2-storage",
          "N2-storage",
          "N2-storage",
          "N2-storage",
          "N2-storage",
          "N2-storage",
          "N2-storage",
          "N2-storage",
          "N2-storage",
          "N2-storage",
          "N2-storage",
          "N2-storage",
          "N2-storage",
          "N2-storage",
          "N2-storage",
          "N2-storage",
          "N2-storage",
          "N2-storage",
          "N2-storage",
          "N2-storage",
          "N2-storage",
          "N2-storage",
          "N2-storage",
          "N2-storage",
          "N2-storage",
          "N2-storage",
          "N2-storage",
          "N2-storage",
          "N2-storage",
          "N2-storage",
          "N2-storage",
          "N2-storage",
          "N2-storage",
          "N2-storage",
          "N2-storage",
          "N2-storage",
          "N2-storage",
          "N2-storage",
          "N2-storage",
          "N2-storage",
          "N2-storage",
          "N2-storage",
          "N2-storage",
          "N2-storage",
          "N2-storage",
          "N2-storage",
          "N2-storage",
          "N2-storage",
          "N2-storage",
          "N2-storage",
          "N2-storage",
          "IV-room",
          "IV-room",
          "IV-room",
          "IV-room",
          "IV-room",
          "IV-room",
          "IV-room",
          "IV-room",
          "IV-room",
          "IV-room",
          "IV-room",
          "IV-room",
          "IV-room",
          "IV-room",
          "IV-room",
          "IV-room",
          "IV-room",
          "IV-room",
          "IV-room",
          "IV-room",
          "IV-room",
          "IV-room",
          "IV-room",
          "IV-room",
          "IV-room",
          "IV-room",
          "IV-room",
          "IV-room",
          "IV-room",
          "IV-room",
          "IV-room",
          "IV-room",
          "IV-room",
          "IV-room",
          "IV-room",
          "IV-room",
          "IV-room",
          "IV-room",
          "IV-room",
          "IV-room",
          "IV-room",
          "IV-room",
          "IV-room",
          "IV-room",
          "IV-room",
          "IV-room",
          "IV-room",
          "IV-room",
          "IV-room",
          "IV-room",
          "IV-room",
          "IV-room",
          "IV-room",
          "IV-room",
          "IV-room",
          "IV-room",
          "IV-room",
          "IV-room",
          "IV-room",
          "IV-room",
          "IV-room",
          "IV-room",
          "IV-room",
          "IV-room",
          "IV-room",
          "IV-room",
          "IV-room",
          "IV-room",
          "IV-room",
          "IV-room",
          "IV-room",
          "IV-room"
         ],
         "xaxis": "x",
         "y": [
          6.554999828338623,
          6.453000068664551,
          6.526000022888184,
          6.639999866485596,
          6.650000095367432,
          6.645999908447266,
          6.618000030517578,
          6.639999866485596,
          6.505000114440918,
          6.395,
          6.583000183105469,
          6.5,
          6.539999961853027,
          6.4629998207092285,
          6.4670000076293945,
          6.593999862670898,
          6.578999996185303,
          6.497000217437744,
          6.572999954223633,
          6.543000221252441,
          6.556000232696533,
          6.593999862670898,
          6.556000232696533,
          6.438000202178955,
          6.381999969482422,
          6.416999816894531,
          6.400000095367432,
          6.5279998779296875,
          6.539999961853027,
          6.482999801635742,
          6.380000114440918,
          6.48799991607666,
          6.540999889373779,
          6.377999782562256,
          6.451000213623047,
          6.453000068664551,
          6.328000068664551,
          6.426000118255615,
          6.361000061035156,
          6.580999851226807,
          6.558000087738037,
          6.583000183105469,
          6.580999851226807,
          6.645999908447266,
          6.635000228881836,
          6.465000152587891,
          6.552000045776367,
          6.491000175476074,
          6.505000114440918,
          6.414000034332275,
          6.514999866485596,
          6.640999794006348,
          6.5960001945495605,
          6.669000148773193,
          6.698999881744385,
          6.605999946594238,
          6.5879998207092285,
          6.632999897003174,
          6.544000148773193,
          6.452000141143799,
          6.495999813079834,
          6.460000038146973,
          6.4679999351501465,
          6.554999828338623,
          6.551000118255615,
          6.539000034332275,
          6.5229997634887695,
          6.603000164031982,
          6.620999813079834,
          6.574999809265137,
          6.480999946594238,
          6.507999897003174,
          6.423999786376953,
          6.386000156402588,
          6.442999839782715,
          6.553999900817871,
          6.517000198364258,
          6.506999969482422,
          6.47599983215332,
          6.46999979019165,
          6.420000076293945,
          6.51200008392334,
          6.52400016784668,
          6.432000160217285,
          6.440000057220459,
          6.426000118255615,
          6.368000030517578,
          6.465000152587891,
          6.449999809265137,
          6.493000030517578,
          6.497000217437744,
          6.50600004196167,
          6.458000183105469,
          6.514999866485596,
          6.466000080108643,
          6.423999786376953,
          6.455999851226807,
          6.40500020980835,
          6.406000137329102,
          6.453999996185303,
          6.418000221252441,
          6.383999824523926,
          6.447000026702881,
          6.453999996185303,
          6.449999809265137,
          6.442999839782715,
          6.458000183105469,
          6.519999980926514,
          6.446000099182129,
          6.449999809265137,
          6.473999977111816,
          6.573999881744385,
          6.5279998779296875,
          6.5279998779296875,
          6.447999954223633,
          6.447999954223633,
          6.497000217437744,
          6.480000019073486,
          6.500999927520752,
          6.322999954223633,
          6.419000148773193,
          6.381999969482422,
          6.361999988555908,
          6.4730000495910645,
          6.499000072479248,
          6.51200008392334,
          6.4629998207092285,
          6.49399995803833,
          6.491000175476074,
          6.4679999351501465,
          6.394000053405762,
          6.401000022888184,
          6.431000232696533,
          6.392000198364258,
          6.4039998054504395,
          6.488999843597412,
          6.447999954223633,
          6.401000022888184,
          6.445000171661377,
          6.5370001792907715,
          6.50600004196167,
          6.486000061035156,
          6.406000137329102,
          6.388999938964844
         ],
         "yaxis": "y"
        },
        {
         "name": "Performance loss",
         "offsetgroup": "A",
         "type": "box",
         "x": [
          "N2-storage",
          "N2-storage",
          "N2-storage",
          "N2-storage",
          "N2-storage",
          "N2-storage",
          "N2-storage",
          "N2-storage",
          "N2-storage",
          "N2-storage",
          "N2-storage",
          "N2-storage",
          "N2-storage",
          "N2-storage",
          "N2-storage",
          "N2-storage",
          "N2-storage",
          "N2-storage",
          "N2-storage",
          "N2-storage",
          "N2-storage",
          "N2-storage",
          "N2-storage",
          "N2-storage",
          "N2-storage",
          "N2-storage",
          "N2-storage",
          "N2-storage",
          "N2-storage",
          "N2-storage",
          "N2-storage",
          "N2-storage",
          "N2-storage",
          "N2-storage",
          "N2-storage",
          "N2-storage",
          "N2-storage",
          "N2-storage",
          "N2-storage",
          "N2-storage",
          "N2-storage",
          "N2-storage",
          "N2-storage",
          "N2-storage",
          "N2-storage",
          "N2-storage",
          "N2-storage",
          "N2-storage",
          "N2-storage",
          "N2-storage",
          "N2-storage",
          "N2-storage",
          "N2-storage",
          "N2-storage",
          "N2-storage",
          "N2-storage",
          "N2-storage",
          "N2-storage",
          "N2-storage",
          "N2-storage",
          "N2-storage",
          "N2-storage",
          "N2-storage",
          "N2-storage",
          "N2-storage",
          "N2-storage",
          "N2-storage",
          "N2-storage",
          "N2-storage",
          "N2-storage",
          "N2-storage",
          "N2-storage",
          "IV-room",
          "IV-room",
          "IV-room",
          "IV-room",
          "IV-room",
          "IV-room",
          "IV-room",
          "IV-room",
          "IV-room",
          "IV-room",
          "IV-room",
          "IV-room",
          "IV-room",
          "IV-room",
          "IV-room",
          "IV-room",
          "IV-room",
          "IV-room",
          "IV-room",
          "IV-room",
          "IV-room",
          "IV-room",
          "IV-room",
          "IV-room",
          "IV-room",
          "IV-room",
          "IV-room",
          "IV-room",
          "IV-room",
          "IV-room",
          "IV-room",
          "IV-room",
          "IV-room",
          "IV-room",
          "IV-room",
          "IV-room",
          "IV-room",
          "IV-room",
          "IV-room",
          "IV-room",
          "IV-room",
          "IV-room",
          "IV-room",
          "IV-room",
          "IV-room",
          "IV-room",
          "IV-room",
          "IV-room",
          "IV-room",
          "IV-room",
          "IV-room",
          "IV-room",
          "IV-room",
          "IV-room",
          "IV-room",
          "IV-room",
          "IV-room",
          "IV-room",
          "IV-room",
          "IV-room",
          "IV-room",
          "IV-room",
          "IV-room",
          "IV-room",
          "IV-room",
          "IV-room",
          "IV-room",
          "IV-room",
          "IV-room",
          "IV-room",
          "IV-room",
          "IV-room"
         ],
         "xaxis": "x2",
         "y": [
          -0.0010690240735045807,
          -0.0012412562901626166,
          -0.0019960097376399938,
          -0.003931058890688143,
          0.0007513319734458674,
          -0.0004515704509122247,
          0.003313228375057423,
          -0.0037793040411860453,
          0.022539457646651426,
          0.01796684312277377,
          -0.0025891255564673673,
          -0.002158485789870526,
          0.000916596693885332,
          -0.004663412492154943,
          -0.003413473294345392,
          0.00015161903753796712,
          -0.002437878030391593,
          -0.0027782259037900272,
          0.0004562438111237636,
          0.000763536608358006,
          -0.0025998162218994047,
          -0.0012146822114905303,
          -0.0007632597085419359,
          -0.004368230176815091,
          -0.004406653686850222,
          -0.0064303465871778515,
          -0.005498872821344805,
          -0.005080830323642857,
          -0.0026061933129927642,
          -0.004026641440156085,
          -0.007262393907686466,
          -0.01201062920714347,
          -0.005070681145185853,
          -0.006787647064933704,
          -0.0020192623541223117,
          -0.0006202801974752104,
          -0.003966380370196005,
          -0.004219401422210193,
          0.00250898453348695,
          -0.005039705724179701,
          0.0007618641302582775,
          0.013634942490893368,
          -0.007039021406085187,
          0.02264709970117738,
          -0.004237983245095243,
          -0.008580391027308116,
          -0.007689971062686853,
          -0.011689570978096631,
          -0.005876002283391541,
          -0.004856672071020425,
          -0.008982513508663489,
          -0.008197950765675832,
          -0.005487843305493361,
          -0.008773269883914568,
          -0.0052520779159354125,
          -0.004562003040851949,
          -0.007801688851106963,
          -0.007595277610051377,
          -0.004143002852096342,
          0.0009290866818750495,
          -0.004794997642735465,
          -0.006857878667683067,
          -0.006849338455225702,
          -0.006448613054004718,
          -0.0004581947868181758,
          -0.005072239802915127,
          -0.0057045485823982835,
          -0.004717002008999395,
          -0.004246910087228727,
          -0.0039700753910953115,
          -0.0023198061088399607,
          -0.005096523993304691,
          0.010474478672371378,
          0.007460344846497566,
          0.002631609638369949,
          0.009820223241053324,
          0.009724913282077988,
          0.007928044771366797,
          0.011599544122720068,
          0.009794938855887097,
          0.009870470028755839,
          0.0035194742197090555,
          0.003817318574704636,
          0.005565827967502235,
          0.0027872600456251484,
          0.00633986227391526,
          0.007790618418692729,
          0.007369853949310592,
          0.01315788993713789,
          0.004904224426383177,
          0.004901147031124416,
          0.008987054797341304,
          0.00783525008347764,
          0.009577409778249701,
          0.001081410386033305,
          -0.0023404379268349208,
          0.0007738917299934117,
          0.0021810155227242724,
          -0.0021902281805977414,
          0.007687605980611116,
          0.005885940342322703,
          0.000156680394995906,
          0.0020123856605766834,
          0.004933713313093363,
          0.006010176494418639,
          0.00693589347657655,
          0.0032412267557528096,
          0.0012254744412940988,
          0.009831048763373047,
          0.0037071621766342133,
          0.0012341711136281196,
          0.002276573502864171,
          -0.0032272796289771603,
          0,
          0.01073951677039472,
          0.005552166968893951,
          0.0015367684173315176,
          0.0015407938978948337,
          0.0024551588701074256,
          -0.004607531738951739,
          -0.00046762148552762786,
          -0.0006271851766289974,
          -0.004420567957160842,
          0.002158153073769362,
          0.001382886396182958,
          0.0024509488825881975,
          0.000309409409350345,
          0.006273892935133801,
          0.007036867454956688,
          0.0020058650750218406,
          0.013271599601016811,
          -0.0064465233511125115,
          -0.004686800453222506,
          0.0026524764767648463,
          0.0015591251681178083,
          0.007190932214487723,
          0.005245282405377946,
          0.005283592881691846,
          0.006168074175713276,
          0.004568255424394879,
          0.00792925359571059,
          0.003380429673661817,
          0.002801937989789865,
          0.002809446808618316
         ],
         "yaxis": "y2"
        }
       ],
       "layout": {
        "boxgap": 0.5,
        "boxmode": "group",
        "height": 600,
        "template": {
         "data": {
          "bar": [
           {
            "error_x": {
             "color": "#2a3f5f"
            },
            "error_y": {
             "color": "#2a3f5f"
            },
            "marker": {
             "line": {
              "color": "#E5ECF6",
              "width": 0.5
             },
             "pattern": {
              "fillmode": "overlay",
              "size": 10,
              "solidity": 0.2
             }
            },
            "type": "bar"
           }
          ],
          "barpolar": [
           {
            "marker": {
             "line": {
              "color": "#E5ECF6",
              "width": 0.5
             },
             "pattern": {
              "fillmode": "overlay",
              "size": 10,
              "solidity": 0.2
             }
            },
            "type": "barpolar"
           }
          ],
          "carpet": [
           {
            "aaxis": {
             "endlinecolor": "#2a3f5f",
             "gridcolor": "white",
             "linecolor": "white",
             "minorgridcolor": "white",
             "startlinecolor": "#2a3f5f"
            },
            "baxis": {
             "endlinecolor": "#2a3f5f",
             "gridcolor": "white",
             "linecolor": "white",
             "minorgridcolor": "white",
             "startlinecolor": "#2a3f5f"
            },
            "type": "carpet"
           }
          ],
          "choropleth": [
           {
            "colorbar": {
             "outlinewidth": 0,
             "ticks": ""
            },
            "type": "choropleth"
           }
          ],
          "contour": [
           {
            "colorbar": {
             "outlinewidth": 0,
             "ticks": ""
            },
            "colorscale": [
             [
              0,
              "#0d0887"
             ],
             [
              0.1111111111111111,
              "#46039f"
             ],
             [
              0.2222222222222222,
              "#7201a8"
             ],
             [
              0.3333333333333333,
              "#9c179e"
             ],
             [
              0.4444444444444444,
              "#bd3786"
             ],
             [
              0.5555555555555556,
              "#d8576b"
             ],
             [
              0.6666666666666666,
              "#ed7953"
             ],
             [
              0.7777777777777778,
              "#fb9f3a"
             ],
             [
              0.8888888888888888,
              "#fdca26"
             ],
             [
              1,
              "#f0f921"
             ]
            ],
            "type": "contour"
           }
          ],
          "contourcarpet": [
           {
            "colorbar": {
             "outlinewidth": 0,
             "ticks": ""
            },
            "type": "contourcarpet"
           }
          ],
          "heatmap": [
           {
            "colorbar": {
             "outlinewidth": 0,
             "ticks": ""
            },
            "colorscale": [
             [
              0,
              "#0d0887"
             ],
             [
              0.1111111111111111,
              "#46039f"
             ],
             [
              0.2222222222222222,
              "#7201a8"
             ],
             [
              0.3333333333333333,
              "#9c179e"
             ],
             [
              0.4444444444444444,
              "#bd3786"
             ],
             [
              0.5555555555555556,
              "#d8576b"
             ],
             [
              0.6666666666666666,
              "#ed7953"
             ],
             [
              0.7777777777777778,
              "#fb9f3a"
             ],
             [
              0.8888888888888888,
              "#fdca26"
             ],
             [
              1,
              "#f0f921"
             ]
            ],
            "type": "heatmap"
           }
          ],
          "heatmapgl": [
           {
            "colorbar": {
             "outlinewidth": 0,
             "ticks": ""
            },
            "colorscale": [
             [
              0,
              "#0d0887"
             ],
             [
              0.1111111111111111,
              "#46039f"
             ],
             [
              0.2222222222222222,
              "#7201a8"
             ],
             [
              0.3333333333333333,
              "#9c179e"
             ],
             [
              0.4444444444444444,
              "#bd3786"
             ],
             [
              0.5555555555555556,
              "#d8576b"
             ],
             [
              0.6666666666666666,
              "#ed7953"
             ],
             [
              0.7777777777777778,
              "#fb9f3a"
             ],
             [
              0.8888888888888888,
              "#fdca26"
             ],
             [
              1,
              "#f0f921"
             ]
            ],
            "type": "heatmapgl"
           }
          ],
          "histogram": [
           {
            "marker": {
             "pattern": {
              "fillmode": "overlay",
              "size": 10,
              "solidity": 0.2
             }
            },
            "type": "histogram"
           }
          ],
          "histogram2d": [
           {
            "colorbar": {
             "outlinewidth": 0,
             "ticks": ""
            },
            "colorscale": [
             [
              0,
              "#0d0887"
             ],
             [
              0.1111111111111111,
              "#46039f"
             ],
             [
              0.2222222222222222,
              "#7201a8"
             ],
             [
              0.3333333333333333,
              "#9c179e"
             ],
             [
              0.4444444444444444,
              "#bd3786"
             ],
             [
              0.5555555555555556,
              "#d8576b"
             ],
             [
              0.6666666666666666,
              "#ed7953"
             ],
             [
              0.7777777777777778,
              "#fb9f3a"
             ],
             [
              0.8888888888888888,
              "#fdca26"
             ],
             [
              1,
              "#f0f921"
             ]
            ],
            "type": "histogram2d"
           }
          ],
          "histogram2dcontour": [
           {
            "colorbar": {
             "outlinewidth": 0,
             "ticks": ""
            },
            "colorscale": [
             [
              0,
              "#0d0887"
             ],
             [
              0.1111111111111111,
              "#46039f"
             ],
             [
              0.2222222222222222,
              "#7201a8"
             ],
             [
              0.3333333333333333,
              "#9c179e"
             ],
             [
              0.4444444444444444,
              "#bd3786"
             ],
             [
              0.5555555555555556,
              "#d8576b"
             ],
             [
              0.6666666666666666,
              "#ed7953"
             ],
             [
              0.7777777777777778,
              "#fb9f3a"
             ],
             [
              0.8888888888888888,
              "#fdca26"
             ],
             [
              1,
              "#f0f921"
             ]
            ],
            "type": "histogram2dcontour"
           }
          ],
          "mesh3d": [
           {
            "colorbar": {
             "outlinewidth": 0,
             "ticks": ""
            },
            "type": "mesh3d"
           }
          ],
          "parcoords": [
           {
            "line": {
             "colorbar": {
              "outlinewidth": 0,
              "ticks": ""
             }
            },
            "type": "parcoords"
           }
          ],
          "pie": [
           {
            "automargin": true,
            "type": "pie"
           }
          ],
          "scatter": [
           {
            "fillpattern": {
             "fillmode": "overlay",
             "size": 10,
             "solidity": 0.2
            },
            "type": "scatter"
           }
          ],
          "scatter3d": [
           {
            "line": {
             "colorbar": {
              "outlinewidth": 0,
              "ticks": ""
             }
            },
            "marker": {
             "colorbar": {
              "outlinewidth": 0,
              "ticks": ""
             }
            },
            "type": "scatter3d"
           }
          ],
          "scattercarpet": [
           {
            "marker": {
             "colorbar": {
              "outlinewidth": 0,
              "ticks": ""
             }
            },
            "type": "scattercarpet"
           }
          ],
          "scattergeo": [
           {
            "marker": {
             "colorbar": {
              "outlinewidth": 0,
              "ticks": ""
             }
            },
            "type": "scattergeo"
           }
          ],
          "scattergl": [
           {
            "marker": {
             "colorbar": {
              "outlinewidth": 0,
              "ticks": ""
             }
            },
            "type": "scattergl"
           }
          ],
          "scattermapbox": [
           {
            "marker": {
             "colorbar": {
              "outlinewidth": 0,
              "ticks": ""
             }
            },
            "type": "scattermapbox"
           }
          ],
          "scatterpolar": [
           {
            "marker": {
             "colorbar": {
              "outlinewidth": 0,
              "ticks": ""
             }
            },
            "type": "scatterpolar"
           }
          ],
          "scatterpolargl": [
           {
            "marker": {
             "colorbar": {
              "outlinewidth": 0,
              "ticks": ""
             }
            },
            "type": "scatterpolargl"
           }
          ],
          "scatterternary": [
           {
            "marker": {
             "colorbar": {
              "outlinewidth": 0,
              "ticks": ""
             }
            },
            "type": "scatterternary"
           }
          ],
          "surface": [
           {
            "colorbar": {
             "outlinewidth": 0,
             "ticks": ""
            },
            "colorscale": [
             [
              0,
              "#0d0887"
             ],
             [
              0.1111111111111111,
              "#46039f"
             ],
             [
              0.2222222222222222,
              "#7201a8"
             ],
             [
              0.3333333333333333,
              "#9c179e"
             ],
             [
              0.4444444444444444,
              "#bd3786"
             ],
             [
              0.5555555555555556,
              "#d8576b"
             ],
             [
              0.6666666666666666,
              "#ed7953"
             ],
             [
              0.7777777777777778,
              "#fb9f3a"
             ],
             [
              0.8888888888888888,
              "#fdca26"
             ],
             [
              1,
              "#f0f921"
             ]
            ],
            "type": "surface"
           }
          ],
          "table": [
           {
            "cells": {
             "fill": {
              "color": "#EBF0F8"
             },
             "line": {
              "color": "white"
             }
            },
            "header": {
             "fill": {
              "color": "#C8D4E3"
             },
             "line": {
              "color": "white"
             }
            },
            "type": "table"
           }
          ]
         },
         "layout": {
          "annotationdefaults": {
           "arrowcolor": "#2a3f5f",
           "arrowhead": 0,
           "arrowwidth": 1
          },
          "autotypenumbers": "strict",
          "coloraxis": {
           "colorbar": {
            "outlinewidth": 0,
            "ticks": ""
           }
          },
          "colorscale": {
           "diverging": [
            [
             0,
             "#8e0152"
            ],
            [
             0.1,
             "#c51b7d"
            ],
            [
             0.2,
             "#de77ae"
            ],
            [
             0.3,
             "#f1b6da"
            ],
            [
             0.4,
             "#fde0ef"
            ],
            [
             0.5,
             "#f7f7f7"
            ],
            [
             0.6,
             "#e6f5d0"
            ],
            [
             0.7,
             "#b8e186"
            ],
            [
             0.8,
             "#7fbc41"
            ],
            [
             0.9,
             "#4d9221"
            ],
            [
             1,
             "#276419"
            ]
           ],
           "sequential": [
            [
             0,
             "#0d0887"
            ],
            [
             0.1111111111111111,
             "#46039f"
            ],
            [
             0.2222222222222222,
             "#7201a8"
            ],
            [
             0.3333333333333333,
             "#9c179e"
            ],
            [
             0.4444444444444444,
             "#bd3786"
            ],
            [
             0.5555555555555556,
             "#d8576b"
            ],
            [
             0.6666666666666666,
             "#ed7953"
            ],
            [
             0.7777777777777778,
             "#fb9f3a"
            ],
            [
             0.8888888888888888,
             "#fdca26"
            ],
            [
             1,
             "#f0f921"
            ]
           ],
           "sequentialminus": [
            [
             0,
             "#0d0887"
            ],
            [
             0.1111111111111111,
             "#46039f"
            ],
            [
             0.2222222222222222,
             "#7201a8"
            ],
            [
             0.3333333333333333,
             "#9c179e"
            ],
            [
             0.4444444444444444,
             "#bd3786"
            ],
            [
             0.5555555555555556,
             "#d8576b"
            ],
            [
             0.6666666666666666,
             "#ed7953"
            ],
            [
             0.7777777777777778,
             "#fb9f3a"
            ],
            [
             0.8888888888888888,
             "#fdca26"
            ],
            [
             1,
             "#f0f921"
            ]
           ]
          },
          "colorway": [
           "#636efa",
           "#EF553B",
           "#00cc96",
           "#ab63fa",
           "#FFA15A",
           "#19d3f3",
           "#FF6692",
           "#B6E880",
           "#FF97FF",
           "#FECB52"
          ],
          "font": {
           "color": "#2a3f5f"
          },
          "geo": {
           "bgcolor": "white",
           "lakecolor": "white",
           "landcolor": "#E5ECF6",
           "showlakes": true,
           "showland": true,
           "subunitcolor": "white"
          },
          "hoverlabel": {
           "align": "left"
          },
          "hovermode": "closest",
          "mapbox": {
           "style": "light"
          },
          "paper_bgcolor": "white",
          "plot_bgcolor": "#E5ECF6",
          "polar": {
           "angularaxis": {
            "gridcolor": "white",
            "linecolor": "white",
            "ticks": ""
           },
           "bgcolor": "#E5ECF6",
           "radialaxis": {
            "gridcolor": "white",
            "linecolor": "white",
            "ticks": ""
           }
          },
          "scene": {
           "xaxis": {
            "backgroundcolor": "#E5ECF6",
            "gridcolor": "white",
            "gridwidth": 2,
            "linecolor": "white",
            "showbackground": true,
            "ticks": "",
            "zerolinecolor": "white"
           },
           "yaxis": {
            "backgroundcolor": "#E5ECF6",
            "gridcolor": "white",
            "gridwidth": 2,
            "linecolor": "white",
            "showbackground": true,
            "ticks": "",
            "zerolinecolor": "white"
           },
           "zaxis": {
            "backgroundcolor": "#E5ECF6",
            "gridcolor": "white",
            "gridwidth": 2,
            "linecolor": "white",
            "showbackground": true,
            "ticks": "",
            "zerolinecolor": "white"
           }
          },
          "shapedefaults": {
           "line": {
            "color": "#2a3f5f"
           }
          },
          "ternary": {
           "aaxis": {
            "gridcolor": "white",
            "linecolor": "white",
            "ticks": ""
           },
           "baxis": {
            "gridcolor": "white",
            "linecolor": "white",
            "ticks": ""
           },
           "bgcolor": "#E5ECF6",
           "caxis": {
            "gridcolor": "white",
            "linecolor": "white",
            "ticks": ""
           }
          },
          "title": {
           "x": 0.05
          },
          "xaxis": {
           "automargin": true,
           "gridcolor": "white",
           "linecolor": "white",
           "ticks": "",
           "title": {
            "standoff": 15
           },
           "zerolinecolor": "white",
           "zerolinewidth": 2
          },
          "yaxis": {
           "automargin": true,
           "gridcolor": "white",
           "linecolor": "white",
           "ticks": "",
           "title": {
            "standoff": 15
           },
           "zerolinecolor": "white",
           "zerolinewidth": 2
          }
         }
        },
        "title": {
         "text": "Isc performance in N2-storage Vs IV-room between 24h"
        },
        "width": 900,
        "xaxis": {
         "anchor": "y",
         "domain": [
          0,
          1
         ],
         "matches": "x2",
         "showticklabels": false
        },
        "xaxis2": {
         "anchor": "y2",
         "domain": [
          0,
          1
         ]
        },
        "yaxis": {
         "anchor": "x",
         "domain": [
          0.515,
          1
         ],
         "tickformat": ".2f",
         "title": {
          "text": "Isc [A]"
         }
        },
        "yaxis2": {
         "anchor": "x2",
         "domain": [
          0,
          0.485
         ],
         "dtick": 0.005,
         "tickformat": ",.1%",
         "title": {
          "text": "PL<sub>24h</sub> of Isc"
         }
        }
       }
      },
      "text/html": [
       "<div>                            <div id=\"3bfd652f-e8f6-4373-b91f-5068c554fa86\" class=\"plotly-graph-div\" style=\"height:600px; width:900px;\"></div>            <script type=\"text/javascript\">                require([\"plotly\"], function(Plotly) {                    window.PLOTLYENV=window.PLOTLYENV || {};                                    if (document.getElementById(\"3bfd652f-e8f6-4373-b91f-5068c554fa86\")) {                    Plotly.newPlot(                        \"3bfd652f-e8f6-4373-b91f-5068c554fa86\",                        [{\"name\":\"Original measurments\",\"offsetgroup\":\"A\",\"x\":[\"N2-storage\",\"N2-storage\",\"N2-storage\",\"N2-storage\",\"N2-storage\",\"N2-storage\",\"N2-storage\",\"N2-storage\",\"N2-storage\",\"N2-storage\",\"N2-storage\",\"N2-storage\",\"N2-storage\",\"N2-storage\",\"N2-storage\",\"N2-storage\",\"N2-storage\",\"N2-storage\",\"N2-storage\",\"N2-storage\",\"N2-storage\",\"N2-storage\",\"N2-storage\",\"N2-storage\",\"N2-storage\",\"N2-storage\",\"N2-storage\",\"N2-storage\",\"N2-storage\",\"N2-storage\",\"N2-storage\",\"N2-storage\",\"N2-storage\",\"N2-storage\",\"N2-storage\",\"N2-storage\",\"N2-storage\",\"N2-storage\",\"N2-storage\",\"N2-storage\",\"N2-storage\",\"N2-storage\",\"N2-storage\",\"N2-storage\",\"N2-storage\",\"N2-storage\",\"N2-storage\",\"N2-storage\",\"N2-storage\",\"N2-storage\",\"N2-storage\",\"N2-storage\",\"N2-storage\",\"N2-storage\",\"N2-storage\",\"N2-storage\",\"N2-storage\",\"N2-storage\",\"N2-storage\",\"N2-storage\",\"N2-storage\",\"N2-storage\",\"N2-storage\",\"N2-storage\",\"N2-storage\",\"N2-storage\",\"N2-storage\",\"N2-storage\",\"N2-storage\",\"N2-storage\",\"N2-storage\",\"N2-storage\",\"IV-room\",\"IV-room\",\"IV-room\",\"IV-room\",\"IV-room\",\"IV-room\",\"IV-room\",\"IV-room\",\"IV-room\",\"IV-room\",\"IV-room\",\"IV-room\",\"IV-room\",\"IV-room\",\"IV-room\",\"IV-room\",\"IV-room\",\"IV-room\",\"IV-room\",\"IV-room\",\"IV-room\",\"IV-room\",\"IV-room\",\"IV-room\",\"IV-room\",\"IV-room\",\"IV-room\",\"IV-room\",\"IV-room\",\"IV-room\",\"IV-room\",\"IV-room\",\"IV-room\",\"IV-room\",\"IV-room\",\"IV-room\",\"IV-room\",\"IV-room\",\"IV-room\",\"IV-room\",\"IV-room\",\"IV-room\",\"IV-room\",\"IV-room\",\"IV-room\",\"IV-room\",\"IV-room\",\"IV-room\",\"IV-room\",\"IV-room\",\"IV-room\",\"IV-room\",\"IV-room\",\"IV-room\",\"IV-room\",\"IV-room\",\"IV-room\",\"IV-room\",\"IV-room\",\"IV-room\",\"IV-room\",\"IV-room\",\"IV-room\",\"IV-room\",\"IV-room\",\"IV-room\",\"IV-room\",\"IV-room\",\"IV-room\",\"IV-room\",\"IV-room\",\"IV-room\"],\"y\":[6.547999858856201,6.445000171661377,6.513000011444092,6.613999843597412,6.65500020980835,6.64300012588501,6.639999866485596,6.614999771118164,6.65500020980835,6.51200008392334,6.565999984741211,6.486000061035156,6.546000003814697,6.433000087738037,6.445000171661377,6.59499979019165,6.563000202178955,6.479000091552734,6.576000213623047,6.547999858856201,6.539000034332275,6.585999965667725,6.551000118255615,6.409999847412109,6.354000091552734,6.375999927520752,6.364999771118164,6.494999885559082,6.5229997634887695,6.456999778747559,6.334000110626221,6.410999774932861,6.507999897003174,6.335000038146973,6.438000202178955,6.448999881744385,6.302999973297119,6.39900016784668,6.376999855041504,6.547999858856201,6.563000202178955,6.673999786376953,6.534999847412109,6.800000190734863,6.60699987411499,6.409999847412109,6.501999855041504,6.415999889373779,6.4670000076293945,6.382999897003174,6.456999778747559,6.586999893188477,6.559999942779541,6.611000061035156,6.664000034332275,6.576000213623047,6.5370001792907715,6.583000183105469,6.517000198364258,6.458000183105469,6.465000152587891,6.415999889373779,6.423999786376953,6.513000011444092,6.547999858856201,6.50600004196167,6.486000061035156,6.572000026702881,6.5929999351501465,6.548999786376953,6.466000080108643,6.474999904632568,6.492000102996826,6.434000015258789,6.460000038146973,6.61899995803833,6.580999851226807,6.559000015258789,6.552000045776367,6.533999919891357,6.484000205993652,6.534999847412109,6.548999786376953,6.4679999351501465,6.458000183105469,6.4670000076293945,6.418000221252441,6.513000011444092,6.535999774932861,6.525000095367432,6.5289998054504395,6.565000057220459,6.508999824523926,6.578000068664551,6.4730000495910645,6.408999919891357,6.460999965667725,6.419000148773193,6.392000198364258,6.504000186920166,6.455999851226807,6.385000228881836,6.460000038146973,6.486000061035156,6.488999843597412,6.48799991607666,6.479000091552734,6.5279998779296875,6.510000228881836,6.473999977111816,6.48199987411499,6.589000225067139,6.506999969482422,6.5279998779296875,6.51800012588501,6.484000205993652,6.506999969482422,6.489999771118164,6.517000198364258,6.294000148773193,6.415999889373779,6.377999782562256,6.334000110626221,6.486999988555908,6.507999897003174,6.5279998779296875,6.465000152587891,6.534999847412109,6.5370001792907715,6.480999946594238,6.480000019073486,6.360000133514404,6.401000022888184,6.408999919891357,6.414000034332275,6.535999774932861,6.48199987411499,6.434999942779541,6.485000133514404,6.566999912261963,6.558000087738037,6.507999897003174,6.423999786376953,6.4070000648498535],\"type\":\"box\",\"xaxis\":\"x\",\"yaxis\":\"y\"},{\"name\":\"After 24h\",\"offsetgroup\":\"B\",\"x\":[\"N2-storage\",\"N2-storage\",\"N2-storage\",\"N2-storage\",\"N2-storage\",\"N2-storage\",\"N2-storage\",\"N2-storage\",\"N2-storage\",\"N2-storage\",\"N2-storage\",\"N2-storage\",\"N2-storage\",\"N2-storage\",\"N2-storage\",\"N2-storage\",\"N2-storage\",\"N2-storage\",\"N2-storage\",\"N2-storage\",\"N2-storage\",\"N2-storage\",\"N2-storage\",\"N2-storage\",\"N2-storage\",\"N2-storage\",\"N2-storage\",\"N2-storage\",\"N2-storage\",\"N2-storage\",\"N2-storage\",\"N2-storage\",\"N2-storage\",\"N2-storage\",\"N2-storage\",\"N2-storage\",\"N2-storage\",\"N2-storage\",\"N2-storage\",\"N2-storage\",\"N2-storage\",\"N2-storage\",\"N2-storage\",\"N2-storage\",\"N2-storage\",\"N2-storage\",\"N2-storage\",\"N2-storage\",\"N2-storage\",\"N2-storage\",\"N2-storage\",\"N2-storage\",\"N2-storage\",\"N2-storage\",\"N2-storage\",\"N2-storage\",\"N2-storage\",\"N2-storage\",\"N2-storage\",\"N2-storage\",\"N2-storage\",\"N2-storage\",\"N2-storage\",\"N2-storage\",\"N2-storage\",\"N2-storage\",\"N2-storage\",\"N2-storage\",\"N2-storage\",\"N2-storage\",\"N2-storage\",\"N2-storage\",\"IV-room\",\"IV-room\",\"IV-room\",\"IV-room\",\"IV-room\",\"IV-room\",\"IV-room\",\"IV-room\",\"IV-room\",\"IV-room\",\"IV-room\",\"IV-room\",\"IV-room\",\"IV-room\",\"IV-room\",\"IV-room\",\"IV-room\",\"IV-room\",\"IV-room\",\"IV-room\",\"IV-room\",\"IV-room\",\"IV-room\",\"IV-room\",\"IV-room\",\"IV-room\",\"IV-room\",\"IV-room\",\"IV-room\",\"IV-room\",\"IV-room\",\"IV-room\",\"IV-room\",\"IV-room\",\"IV-room\",\"IV-room\",\"IV-room\",\"IV-room\",\"IV-room\",\"IV-room\",\"IV-room\",\"IV-room\",\"IV-room\",\"IV-room\",\"IV-room\",\"IV-room\",\"IV-room\",\"IV-room\",\"IV-room\",\"IV-room\",\"IV-room\",\"IV-room\",\"IV-room\",\"IV-room\",\"IV-room\",\"IV-room\",\"IV-room\",\"IV-room\",\"IV-room\",\"IV-room\",\"IV-room\",\"IV-room\",\"IV-room\",\"IV-room\",\"IV-room\",\"IV-room\",\"IV-room\",\"IV-room\",\"IV-room\",\"IV-room\",\"IV-room\",\"IV-room\"],\"y\":[6.554999828338623,6.453000068664551,6.526000022888184,6.639999866485596,6.650000095367432,6.645999908447266,6.618000030517578,6.639999866485596,6.505000114440918,6.395,6.583000183105469,6.5,6.539999961853027,6.4629998207092285,6.4670000076293945,6.593999862670898,6.578999996185303,6.497000217437744,6.572999954223633,6.543000221252441,6.556000232696533,6.593999862670898,6.556000232696533,6.438000202178955,6.381999969482422,6.416999816894531,6.400000095367432,6.5279998779296875,6.539999961853027,6.482999801635742,6.380000114440918,6.48799991607666,6.540999889373779,6.377999782562256,6.451000213623047,6.453000068664551,6.328000068664551,6.426000118255615,6.361000061035156,6.580999851226807,6.558000087738037,6.583000183105469,6.580999851226807,6.645999908447266,6.635000228881836,6.465000152587891,6.552000045776367,6.491000175476074,6.505000114440918,6.414000034332275,6.514999866485596,6.640999794006348,6.5960001945495605,6.669000148773193,6.698999881744385,6.605999946594238,6.5879998207092285,6.632999897003174,6.544000148773193,6.452000141143799,6.495999813079834,6.460000038146973,6.4679999351501465,6.554999828338623,6.551000118255615,6.539000034332275,6.5229997634887695,6.603000164031982,6.620999813079834,6.574999809265137,6.480999946594238,6.507999897003174,6.423999786376953,6.386000156402588,6.442999839782715,6.553999900817871,6.517000198364258,6.506999969482422,6.47599983215332,6.46999979019165,6.420000076293945,6.51200008392334,6.52400016784668,6.432000160217285,6.440000057220459,6.426000118255615,6.368000030517578,6.465000152587891,6.449999809265137,6.493000030517578,6.497000217437744,6.50600004196167,6.458000183105469,6.514999866485596,6.466000080108643,6.423999786376953,6.455999851226807,6.40500020980835,6.406000137329102,6.453999996185303,6.418000221252441,6.383999824523926,6.447000026702881,6.453999996185303,6.449999809265137,6.442999839782715,6.458000183105469,6.519999980926514,6.446000099182129,6.449999809265137,6.473999977111816,6.573999881744385,6.5279998779296875,6.5279998779296875,6.447999954223633,6.447999954223633,6.497000217437744,6.480000019073486,6.500999927520752,6.322999954223633,6.419000148773193,6.381999969482422,6.361999988555908,6.4730000495910645,6.499000072479248,6.51200008392334,6.4629998207092285,6.49399995803833,6.491000175476074,6.4679999351501465,6.394000053405762,6.401000022888184,6.431000232696533,6.392000198364258,6.4039998054504395,6.488999843597412,6.447999954223633,6.401000022888184,6.445000171661377,6.5370001792907715,6.50600004196167,6.486000061035156,6.406000137329102,6.388999938964844],\"type\":\"box\",\"xaxis\":\"x\",\"yaxis\":\"y\"},{\"name\":\"Performance loss\",\"offsetgroup\":\"A\",\"x\":[\"N2-storage\",\"N2-storage\",\"N2-storage\",\"N2-storage\",\"N2-storage\",\"N2-storage\",\"N2-storage\",\"N2-storage\",\"N2-storage\",\"N2-storage\",\"N2-storage\",\"N2-storage\",\"N2-storage\",\"N2-storage\",\"N2-storage\",\"N2-storage\",\"N2-storage\",\"N2-storage\",\"N2-storage\",\"N2-storage\",\"N2-storage\",\"N2-storage\",\"N2-storage\",\"N2-storage\",\"N2-storage\",\"N2-storage\",\"N2-storage\",\"N2-storage\",\"N2-storage\",\"N2-storage\",\"N2-storage\",\"N2-storage\",\"N2-storage\",\"N2-storage\",\"N2-storage\",\"N2-storage\",\"N2-storage\",\"N2-storage\",\"N2-storage\",\"N2-storage\",\"N2-storage\",\"N2-storage\",\"N2-storage\",\"N2-storage\",\"N2-storage\",\"N2-storage\",\"N2-storage\",\"N2-storage\",\"N2-storage\",\"N2-storage\",\"N2-storage\",\"N2-storage\",\"N2-storage\",\"N2-storage\",\"N2-storage\",\"N2-storage\",\"N2-storage\",\"N2-storage\",\"N2-storage\",\"N2-storage\",\"N2-storage\",\"N2-storage\",\"N2-storage\",\"N2-storage\",\"N2-storage\",\"N2-storage\",\"N2-storage\",\"N2-storage\",\"N2-storage\",\"N2-storage\",\"N2-storage\",\"N2-storage\",\"IV-room\",\"IV-room\",\"IV-room\",\"IV-room\",\"IV-room\",\"IV-room\",\"IV-room\",\"IV-room\",\"IV-room\",\"IV-room\",\"IV-room\",\"IV-room\",\"IV-room\",\"IV-room\",\"IV-room\",\"IV-room\",\"IV-room\",\"IV-room\",\"IV-room\",\"IV-room\",\"IV-room\",\"IV-room\",\"IV-room\",\"IV-room\",\"IV-room\",\"IV-room\",\"IV-room\",\"IV-room\",\"IV-room\",\"IV-room\",\"IV-room\",\"IV-room\",\"IV-room\",\"IV-room\",\"IV-room\",\"IV-room\",\"IV-room\",\"IV-room\",\"IV-room\",\"IV-room\",\"IV-room\",\"IV-room\",\"IV-room\",\"IV-room\",\"IV-room\",\"IV-room\",\"IV-room\",\"IV-room\",\"IV-room\",\"IV-room\",\"IV-room\",\"IV-room\",\"IV-room\",\"IV-room\",\"IV-room\",\"IV-room\",\"IV-room\",\"IV-room\",\"IV-room\",\"IV-room\",\"IV-room\",\"IV-room\",\"IV-room\",\"IV-room\",\"IV-room\",\"IV-room\",\"IV-room\",\"IV-room\",\"IV-room\",\"IV-room\",\"IV-room\",\"IV-room\"],\"y\":[-0.0010690240735045807,-0.0012412562901626166,-0.0019960097376399938,-0.003931058890688143,0.0007513319734458674,-0.0004515704509122247,0.003313228375057423,-0.0037793040411860453,0.022539457646651426,0.01796684312277377,-0.0025891255564673673,-0.002158485789870526,0.000916596693885332,-0.004663412492154943,-0.003413473294345392,0.00015161903753796712,-0.002437878030391593,-0.0027782259037900272,0.0004562438111237636,0.000763536608358006,-0.0025998162218994047,-0.0012146822114905303,-0.0007632597085419359,-0.004368230176815091,-0.004406653686850222,-0.0064303465871778515,-0.005498872821344805,-0.005080830323642857,-0.0026061933129927642,-0.004026641440156085,-0.007262393907686466,-0.01201062920714347,-0.005070681145185853,-0.006787647064933704,-0.0020192623541223117,-0.0006202801974752104,-0.003966380370196005,-0.004219401422210193,0.00250898453348695,-0.005039705724179701,0.0007618641302582775,0.013634942490893368,-0.007039021406085187,0.02264709970117738,-0.004237983245095243,-0.008580391027308116,-0.007689971062686853,-0.011689570978096631,-0.005876002283391541,-0.004856672071020425,-0.008982513508663489,-0.008197950765675832,-0.005487843305493361,-0.008773269883914568,-0.0052520779159354125,-0.004562003040851949,-0.007801688851106963,-0.007595277610051377,-0.004143002852096342,0.0009290866818750495,-0.004794997642735465,-0.006857878667683067,-0.006849338455225702,-0.006448613054004718,-0.0004581947868181758,-0.005072239802915127,-0.0057045485823982835,-0.004717002008999395,-0.004246910087228727,-0.0039700753910953115,-0.0023198061088399607,-0.005096523993304691,0.010474478672371378,0.007460344846497566,0.002631609638369949,0.009820223241053324,0.009724913282077988,0.007928044771366797,0.011599544122720068,0.009794938855887097,0.009870470028755839,0.0035194742197090555,0.003817318574704636,0.005565827967502235,0.0027872600456251484,0.00633986227391526,0.007790618418692729,0.007369853949310592,0.01315788993713789,0.004904224426383177,0.004901147031124416,0.008987054797341304,0.00783525008347764,0.009577409778249701,0.001081410386033305,-0.0023404379268349208,0.0007738917299934117,0.0021810155227242724,-0.0021902281805977414,0.007687605980611116,0.005885940342322703,0.000156680394995906,0.0020123856605766834,0.004933713313093363,0.006010176494418639,0.00693589347657655,0.0032412267557528096,0.0012254744412940988,0.009831048763373047,0.0037071621766342133,0.0012341711136281196,0.002276573502864171,-0.0032272796289771603,0.0,0.01073951677039472,0.005552166968893951,0.0015367684173315176,0.0015407938978948337,0.0024551588701074256,-0.004607531738951739,-0.00046762148552762786,-0.0006271851766289974,-0.004420567957160842,0.002158153073769362,0.001382886396182958,0.0024509488825881975,0.000309409409350345,0.006273892935133801,0.007036867454956688,0.0020058650750218406,0.013271599601016811,-0.0064465233511125115,-0.004686800453222506,0.0026524764767648463,0.0015591251681178083,0.007190932214487723,0.005245282405377946,0.005283592881691846,0.006168074175713276,0.004568255424394879,0.00792925359571059,0.003380429673661817,0.002801937989789865,0.002809446808618316],\"type\":\"box\",\"xaxis\":\"x2\",\"yaxis\":\"y2\"}],                        {\"template\":{\"data\":{\"histogram2dcontour\":[{\"type\":\"histogram2dcontour\",\"colorbar\":{\"outlinewidth\":0,\"ticks\":\"\"},\"colorscale\":[[0.0,\"#0d0887\"],[0.1111111111111111,\"#46039f\"],[0.2222222222222222,\"#7201a8\"],[0.3333333333333333,\"#9c179e\"],[0.4444444444444444,\"#bd3786\"],[0.5555555555555556,\"#d8576b\"],[0.6666666666666666,\"#ed7953\"],[0.7777777777777778,\"#fb9f3a\"],[0.8888888888888888,\"#fdca26\"],[1.0,\"#f0f921\"]]}],\"choropleth\":[{\"type\":\"choropleth\",\"colorbar\":{\"outlinewidth\":0,\"ticks\":\"\"}}],\"histogram2d\":[{\"type\":\"histogram2d\",\"colorbar\":{\"outlinewidth\":0,\"ticks\":\"\"},\"colorscale\":[[0.0,\"#0d0887\"],[0.1111111111111111,\"#46039f\"],[0.2222222222222222,\"#7201a8\"],[0.3333333333333333,\"#9c179e\"],[0.4444444444444444,\"#bd3786\"],[0.5555555555555556,\"#d8576b\"],[0.6666666666666666,\"#ed7953\"],[0.7777777777777778,\"#fb9f3a\"],[0.8888888888888888,\"#fdca26\"],[1.0,\"#f0f921\"]]}],\"heatmap\":[{\"type\":\"heatmap\",\"colorbar\":{\"outlinewidth\":0,\"ticks\":\"\"},\"colorscale\":[[0.0,\"#0d0887\"],[0.1111111111111111,\"#46039f\"],[0.2222222222222222,\"#7201a8\"],[0.3333333333333333,\"#9c179e\"],[0.4444444444444444,\"#bd3786\"],[0.5555555555555556,\"#d8576b\"],[0.6666666666666666,\"#ed7953\"],[0.7777777777777778,\"#fb9f3a\"],[0.8888888888888888,\"#fdca26\"],[1.0,\"#f0f921\"]]}],\"heatmapgl\":[{\"type\":\"heatmapgl\",\"colorbar\":{\"outlinewidth\":0,\"ticks\":\"\"},\"colorscale\":[[0.0,\"#0d0887\"],[0.1111111111111111,\"#46039f\"],[0.2222222222222222,\"#7201a8\"],[0.3333333333333333,\"#9c179e\"],[0.4444444444444444,\"#bd3786\"],[0.5555555555555556,\"#d8576b\"],[0.6666666666666666,\"#ed7953\"],[0.7777777777777778,\"#fb9f3a\"],[0.8888888888888888,\"#fdca26\"],[1.0,\"#f0f921\"]]}],\"contourcarpet\":[{\"type\":\"contourcarpet\",\"colorbar\":{\"outlinewidth\":0,\"ticks\":\"\"}}],\"contour\":[{\"type\":\"contour\",\"colorbar\":{\"outlinewidth\":0,\"ticks\":\"\"},\"colorscale\":[[0.0,\"#0d0887\"],[0.1111111111111111,\"#46039f\"],[0.2222222222222222,\"#7201a8\"],[0.3333333333333333,\"#9c179e\"],[0.4444444444444444,\"#bd3786\"],[0.5555555555555556,\"#d8576b\"],[0.6666666666666666,\"#ed7953\"],[0.7777777777777778,\"#fb9f3a\"],[0.8888888888888888,\"#fdca26\"],[1.0,\"#f0f921\"]]}],\"surface\":[{\"type\":\"surface\",\"colorbar\":{\"outlinewidth\":0,\"ticks\":\"\"},\"colorscale\":[[0.0,\"#0d0887\"],[0.1111111111111111,\"#46039f\"],[0.2222222222222222,\"#7201a8\"],[0.3333333333333333,\"#9c179e\"],[0.4444444444444444,\"#bd3786\"],[0.5555555555555556,\"#d8576b\"],[0.6666666666666666,\"#ed7953\"],[0.7777777777777778,\"#fb9f3a\"],[0.8888888888888888,\"#fdca26\"],[1.0,\"#f0f921\"]]}],\"mesh3d\":[{\"type\":\"mesh3d\",\"colorbar\":{\"outlinewidth\":0,\"ticks\":\"\"}}],\"scatter\":[{\"fillpattern\":{\"fillmode\":\"overlay\",\"size\":10,\"solidity\":0.2},\"type\":\"scatter\"}],\"parcoords\":[{\"type\":\"parcoords\",\"line\":{\"colorbar\":{\"outlinewidth\":0,\"ticks\":\"\"}}}],\"scatterpolargl\":[{\"type\":\"scatterpolargl\",\"marker\":{\"colorbar\":{\"outlinewidth\":0,\"ticks\":\"\"}}}],\"bar\":[{\"error_x\":{\"color\":\"#2a3f5f\"},\"error_y\":{\"color\":\"#2a3f5f\"},\"marker\":{\"line\":{\"color\":\"#E5ECF6\",\"width\":0.5},\"pattern\":{\"fillmode\":\"overlay\",\"size\":10,\"solidity\":0.2}},\"type\":\"bar\"}],\"scattergeo\":[{\"type\":\"scattergeo\",\"marker\":{\"colorbar\":{\"outlinewidth\":0,\"ticks\":\"\"}}}],\"scatterpolar\":[{\"type\":\"scatterpolar\",\"marker\":{\"colorbar\":{\"outlinewidth\":0,\"ticks\":\"\"}}}],\"histogram\":[{\"marker\":{\"pattern\":{\"fillmode\":\"overlay\",\"size\":10,\"solidity\":0.2}},\"type\":\"histogram\"}],\"scattergl\":[{\"type\":\"scattergl\",\"marker\":{\"colorbar\":{\"outlinewidth\":0,\"ticks\":\"\"}}}],\"scatter3d\":[{\"type\":\"scatter3d\",\"line\":{\"colorbar\":{\"outlinewidth\":0,\"ticks\":\"\"}},\"marker\":{\"colorbar\":{\"outlinewidth\":0,\"ticks\":\"\"}}}],\"scattermapbox\":[{\"type\":\"scattermapbox\",\"marker\":{\"colorbar\":{\"outlinewidth\":0,\"ticks\":\"\"}}}],\"scatterternary\":[{\"type\":\"scatterternary\",\"marker\":{\"colorbar\":{\"outlinewidth\":0,\"ticks\":\"\"}}}],\"scattercarpet\":[{\"type\":\"scattercarpet\",\"marker\":{\"colorbar\":{\"outlinewidth\":0,\"ticks\":\"\"}}}],\"carpet\":[{\"aaxis\":{\"endlinecolor\":\"#2a3f5f\",\"gridcolor\":\"white\",\"linecolor\":\"white\",\"minorgridcolor\":\"white\",\"startlinecolor\":\"#2a3f5f\"},\"baxis\":{\"endlinecolor\":\"#2a3f5f\",\"gridcolor\":\"white\",\"linecolor\":\"white\",\"minorgridcolor\":\"white\",\"startlinecolor\":\"#2a3f5f\"},\"type\":\"carpet\"}],\"table\":[{\"cells\":{\"fill\":{\"color\":\"#EBF0F8\"},\"line\":{\"color\":\"white\"}},\"header\":{\"fill\":{\"color\":\"#C8D4E3\"},\"line\":{\"color\":\"white\"}},\"type\":\"table\"}],\"barpolar\":[{\"marker\":{\"line\":{\"color\":\"#E5ECF6\",\"width\":0.5},\"pattern\":{\"fillmode\":\"overlay\",\"size\":10,\"solidity\":0.2}},\"type\":\"barpolar\"}],\"pie\":[{\"automargin\":true,\"type\":\"pie\"}]},\"layout\":{\"autotypenumbers\":\"strict\",\"colorway\":[\"#636efa\",\"#EF553B\",\"#00cc96\",\"#ab63fa\",\"#FFA15A\",\"#19d3f3\",\"#FF6692\",\"#B6E880\",\"#FF97FF\",\"#FECB52\"],\"font\":{\"color\":\"#2a3f5f\"},\"hovermode\":\"closest\",\"hoverlabel\":{\"align\":\"left\"},\"paper_bgcolor\":\"white\",\"plot_bgcolor\":\"#E5ECF6\",\"polar\":{\"bgcolor\":\"#E5ECF6\",\"angularaxis\":{\"gridcolor\":\"white\",\"linecolor\":\"white\",\"ticks\":\"\"},\"radialaxis\":{\"gridcolor\":\"white\",\"linecolor\":\"white\",\"ticks\":\"\"}},\"ternary\":{\"bgcolor\":\"#E5ECF6\",\"aaxis\":{\"gridcolor\":\"white\",\"linecolor\":\"white\",\"ticks\":\"\"},\"baxis\":{\"gridcolor\":\"white\",\"linecolor\":\"white\",\"ticks\":\"\"},\"caxis\":{\"gridcolor\":\"white\",\"linecolor\":\"white\",\"ticks\":\"\"}},\"coloraxis\":{\"colorbar\":{\"outlinewidth\":0,\"ticks\":\"\"}},\"colorscale\":{\"sequential\":[[0.0,\"#0d0887\"],[0.1111111111111111,\"#46039f\"],[0.2222222222222222,\"#7201a8\"],[0.3333333333333333,\"#9c179e\"],[0.4444444444444444,\"#bd3786\"],[0.5555555555555556,\"#d8576b\"],[0.6666666666666666,\"#ed7953\"],[0.7777777777777778,\"#fb9f3a\"],[0.8888888888888888,\"#fdca26\"],[1.0,\"#f0f921\"]],\"sequentialminus\":[[0.0,\"#0d0887\"],[0.1111111111111111,\"#46039f\"],[0.2222222222222222,\"#7201a8\"],[0.3333333333333333,\"#9c179e\"],[0.4444444444444444,\"#bd3786\"],[0.5555555555555556,\"#d8576b\"],[0.6666666666666666,\"#ed7953\"],[0.7777777777777778,\"#fb9f3a\"],[0.8888888888888888,\"#fdca26\"],[1.0,\"#f0f921\"]],\"diverging\":[[0,\"#8e0152\"],[0.1,\"#c51b7d\"],[0.2,\"#de77ae\"],[0.3,\"#f1b6da\"],[0.4,\"#fde0ef\"],[0.5,\"#f7f7f7\"],[0.6,\"#e6f5d0\"],[0.7,\"#b8e186\"],[0.8,\"#7fbc41\"],[0.9,\"#4d9221\"],[1,\"#276419\"]]},\"xaxis\":{\"gridcolor\":\"white\",\"linecolor\":\"white\",\"ticks\":\"\",\"title\":{\"standoff\":15},\"zerolinecolor\":\"white\",\"automargin\":true,\"zerolinewidth\":2},\"yaxis\":{\"gridcolor\":\"white\",\"linecolor\":\"white\",\"ticks\":\"\",\"title\":{\"standoff\":15},\"zerolinecolor\":\"white\",\"automargin\":true,\"zerolinewidth\":2},\"scene\":{\"xaxis\":{\"backgroundcolor\":\"#E5ECF6\",\"gridcolor\":\"white\",\"linecolor\":\"white\",\"showbackground\":true,\"ticks\":\"\",\"zerolinecolor\":\"white\",\"gridwidth\":2},\"yaxis\":{\"backgroundcolor\":\"#E5ECF6\",\"gridcolor\":\"white\",\"linecolor\":\"white\",\"showbackground\":true,\"ticks\":\"\",\"zerolinecolor\":\"white\",\"gridwidth\":2},\"zaxis\":{\"backgroundcolor\":\"#E5ECF6\",\"gridcolor\":\"white\",\"linecolor\":\"white\",\"showbackground\":true,\"ticks\":\"\",\"zerolinecolor\":\"white\",\"gridwidth\":2}},\"shapedefaults\":{\"line\":{\"color\":\"#2a3f5f\"}},\"annotationdefaults\":{\"arrowcolor\":\"#2a3f5f\",\"arrowhead\":0,\"arrowwidth\":1},\"geo\":{\"bgcolor\":\"white\",\"landcolor\":\"#E5ECF6\",\"subunitcolor\":\"white\",\"showland\":true,\"showlakes\":true,\"lakecolor\":\"white\"},\"title\":{\"x\":0.05},\"mapbox\":{\"style\":\"light\"}}},\"xaxis\":{\"anchor\":\"y\",\"domain\":[0.0,1.0],\"matches\":\"x2\",\"showticklabels\":false},\"yaxis\":{\"anchor\":\"x\",\"domain\":[0.515,1.0],\"title\":{\"text\":\"Isc [A]\"},\"tickformat\":\".2f\"},\"xaxis2\":{\"anchor\":\"y2\",\"domain\":[0.0,1.0]},\"yaxis2\":{\"anchor\":\"x2\",\"domain\":[0.0,0.485],\"title\":{\"text\":\"PL<sub>24h</sub> of Isc\"},\"dtick\":0.005,\"tickformat\":\",.1%\"},\"title\":{\"text\":\"Isc performance in N2-storage Vs IV-room between 24h\"},\"boxmode\":\"group\",\"height\":600,\"width\":900,\"boxgap\":0.5},                        {\"responsive\": true}                    ).then(function(){\n",
       "                            \n",
       "var gd = document.getElementById('3bfd652f-e8f6-4373-b91f-5068c554fa86');\n",
       "var x = new MutationObserver(function (mutations, observer) {{\n",
       "        var display = window.getComputedStyle(gd).display;\n",
       "        if (!display || display === 'none') {{\n",
       "            console.log([gd, 'removed!']);\n",
       "            Plotly.purge(gd);\n",
       "            observer.disconnect();\n",
       "        }}\n",
       "}});\n",
       "\n",
       "// Listen for the removal of the full notebook cells\n",
       "var notebookContainer = gd.closest('#notebook-container');\n",
       "if (notebookContainer) {{\n",
       "    x.observe(notebookContainer, {childList: true});\n",
       "}}\n",
       "\n",
       "// Listen for the clearing of the current output cell\n",
       "var outputEl = gd.closest('.output');\n",
       "if (outputEl) {{\n",
       "    x.observe(outputEl, {childList: true});\n",
       "}}\n",
       "\n",
       "                        })                };                });            </script>        </div>"
      ]
     },
     "metadata": {},
     "output_type": "display_data"
    }
   ],
   "source": [
    "Cell_degradation_test_23_I = Cell_degradation_test_23[Cell_degradation_test_23['PL-Isc'] < 0.1]\n",
    "Cell_degradation_test_23_I = Cell_degradation_test_23_I[Cell_degradation_test_23_I['PL-Isc'] > -0.1]\n",
    "\n",
    "fig_Cd_23_I = make_subplots(rows=2, cols=1,shared_xaxes = True,vertical_spacing=0.03)\n",
    "\n",
    "fig_Cd_23_I.add_trace(\n",
    "    go.Box(y=Cell_degradation_test_23_I['Isc [A]'], x = Cell_degradation_test_23_I[\"Storage\"], \n",
    "           name = \"Original measurments\", offsetgroup = \"A\"),\n",
    "    row=1, col=1\n",
    ")\n",
    "\n",
    "fig_Cd_23_I.add_trace(\n",
    "    go.Box(y=Cell_degradation_test_23_I['Isc [A].1'], x = Cell_degradation_test_23_I[\"Storage\"], \n",
    "           name = \"After 24h\", offsetgroup = \"B\"),\n",
    "    row=1, col=1\n",
    ")\n",
    "\n",
    "\n",
    "fig_Cd_23_I.add_trace(\n",
    "    go.Box(y=Cell_degradation_test_23_I['PL-Isc'], x = Cell_degradation_test_23_I[\"Storage\"], \n",
    "           name = \"Performance loss\", offsetgroup = \"A\"),\n",
    "    row=2, col=1\n",
    ")\n",
    "\n",
    "fig_Cd_23_I.update_layout(title = \"Isc performance in N2-storage Vs IV-room between 24h\",\n",
    "    boxmode='group', height=600, width=900, boxgap=0.5,\n",
    "                     yaxis=dict(title=\"Isc [A]\", tickformat=\".2f\"),\n",
    "                     yaxis2=dict(title=\"PL<sub>24h</sub> of Isc\" ,dtick=0.005,tickformat = ',.1%')\n",
    "                    ) \n",
    "fig_Cd_23_I.show()\n",
    "fig_Cd_23_I.write_image(\"3.2.1 Isc performance in N2-storage Vs IV-room between 24h.png\", scale=3, width=900, height=600) "
   ]
  },
  {
   "cell_type": "markdown",
   "id": "cff09f58",
   "metadata": {},
   "source": [
    "# Check FF"
   ]
  },
  {
   "cell_type": "code",
   "execution_count": 363,
   "id": "32ba1955",
   "metadata": {},
   "outputs": [
    {
     "data": {
      "application/vnd.plotly.v1+json": {
       "config": {
        "plotlyServerURL": "https://plot.ly"
       },
       "data": [
        {
         "name": "Original measurments",
         "offsetgroup": "A",
         "type": "box",
         "x": [
          "N2-storage",
          "N2-storage",
          "N2-storage",
          "N2-storage",
          "N2-storage",
          "N2-storage",
          "N2-storage",
          "N2-storage",
          "N2-storage",
          "N2-storage",
          "N2-storage",
          "N2-storage",
          "N2-storage",
          "N2-storage",
          "N2-storage",
          "N2-storage",
          "N2-storage",
          "N2-storage",
          "N2-storage",
          "N2-storage",
          "N2-storage",
          "N2-storage",
          "N2-storage",
          "N2-storage",
          "N2-storage",
          "N2-storage",
          "N2-storage",
          "N2-storage",
          "N2-storage",
          "N2-storage",
          "N2-storage",
          "N2-storage",
          "N2-storage",
          "N2-storage",
          "N2-storage",
          "N2-storage",
          "N2-storage",
          "N2-storage",
          "N2-storage",
          "N2-storage",
          "N2-storage",
          "N2-storage",
          "N2-storage",
          "N2-storage",
          "N2-storage",
          "N2-storage",
          "N2-storage",
          "N2-storage",
          "N2-storage",
          "N2-storage",
          "N2-storage",
          "N2-storage",
          "N2-storage",
          "N2-storage",
          "N2-storage",
          "N2-storage",
          "N2-storage",
          "N2-storage",
          "N2-storage",
          "N2-storage",
          "N2-storage",
          "N2-storage",
          "N2-storage",
          "N2-storage",
          "N2-storage",
          "N2-storage",
          "N2-storage",
          "N2-storage",
          "N2-storage",
          "N2-storage",
          "IV-room",
          "IV-room",
          "IV-room",
          "IV-room",
          "IV-room",
          "IV-room",
          "IV-room",
          "IV-room",
          "IV-room",
          "IV-room",
          "IV-room",
          "IV-room",
          "IV-room",
          "IV-room",
          "IV-room",
          "IV-room",
          "IV-room",
          "IV-room",
          "IV-room",
          "IV-room",
          "IV-room",
          "IV-room",
          "IV-room",
          "IV-room",
          "IV-room",
          "IV-room",
          "IV-room",
          "IV-room",
          "IV-room",
          "IV-room",
          "IV-room",
          "IV-room",
          "IV-room",
          "IV-room",
          "IV-room",
          "IV-room",
          "IV-room",
          "IV-room",
          "IV-room",
          "IV-room",
          "IV-room",
          "IV-room",
          "IV-room",
          "IV-room",
          "IV-room",
          "IV-room",
          "IV-room",
          "IV-room",
          "IV-room",
          "IV-room",
          "IV-room",
          "IV-room",
          "IV-room",
          "IV-room",
          "IV-room",
          "IV-room",
          "IV-room",
          "IV-room",
          "IV-room",
          "IV-room",
          "IV-room",
          "IV-room",
          "IV-room",
          "IV-room",
          "IV-room",
          "IV-room",
          "IV-room",
          "IV-room",
          "IV-room",
          "IV-room"
         ],
         "xaxis": "x",
         "y": [
          68.19999694824219,
          67,
          67.19999694824219,
          68.5,
          67.4000015258789,
          67.5999984741211,
          59.5,
          66.4000015258789,
          66.9000015258789,
          66.5,
          60,
          65.9000015258789,
          68.0999984741211,
          66.4000015258789,
          65.5999984741211,
          68.0999984741211,
          68.5999984741211,
          67.4000015258789,
          68.9000015258789,
          67.5999984741211,
          67,
          68.30000305175781,
          67.0999984741211,
          68.4000015258789,
          68,
          67.5,
          57.099998474121094,
          65.30000305175781,
          68.30000305175781,
          68.80000305175781,
          69,
          67.9000015258789,
          68.5,
          68.4000015258789,
          65.5999984741211,
          62.900001525878906,
          63.099998474121094,
          64.80000305175781,
          64.69999694824219,
          66.19999694824219,
          66.19999694824219,
          67.5,
          43.5,
          67.5,
          67.0999984741211,
          66.5999984741211,
          68.5999984741211,
          68.5,
          68.69999694824219,
          67.30000305175781,
          68.4000015258789,
          68,
          68,
          68.4000015258789,
          68.4000015258789,
          68.30000305175781,
          68.5999984741211,
          66.69999694824219,
          69.4000015258789,
          68.30000305175781,
          68.9000015258789,
          60.70000076293945,
          70,
          69.0999984741211,
          69,
          68.30000305175781,
          69.19999694824219,
          69.4000015258789,
          68.69999694824219,
          67.80000305175781,
          68.80000305175781,
          68,
          67.0999984741211,
          68.5999984741211,
          68.69999694824219,
          68.4000015258789,
          68.4000015258789,
          68.5,
          68.4000015258789,
          68.5,
          69.0999984741211,
          69.4000015258789,
          69,
          69.0999984741211,
          68.0999984741211,
          69.4000015258789,
          69.69999694824219,
          69.19999694824219,
          68.30000305175781,
          68.80000305175781,
          69.5999984741211,
          57.29999923706055,
          68.5,
          68.5999984741211,
          62.79999923706055,
          68.0999984741211,
          67.5999984741211,
          69.5999984741211,
          68.69999694824219,
          65.0999984741211,
          69.4000015258789,
          68.0999984741211,
          69,
          69.80000305175781,
          62.900001525878906,
          65.5999984741211,
          62.5,
          67.80000305175781,
          69.19999694824219,
          68.5,
          60.599998474121094,
          68.4000015258789,
          67.5,
          69,
          61.70000076293945,
          64.4000015258789,
          67.30000305175781,
          68.0999984741211,
          67.5,
          68.19999694824219,
          68.4000015258789,
          65.5999984741211,
          66,
          68.69999694824219,
          67,
          63.099998474121094,
          69,
          67.4000015258789,
          66.30000305175781,
          68.30000305175781,
          68.9000015258789,
          67.5999984741211,
          59.20000076293945,
          69.80000305175781,
          69.0999984741211,
          65.0999984741211,
          67.30000305175781,
          64.5999984741211,
          67.69999694824219,
          69.30000305175781
         ],
         "yaxis": "y"
        },
        {
         "name": "After 24h",
         "offsetgroup": "B",
         "type": "box",
         "x": [
          "N2-storage",
          "N2-storage",
          "N2-storage",
          "N2-storage",
          "N2-storage",
          "N2-storage",
          "N2-storage",
          "N2-storage",
          "N2-storage",
          "N2-storage",
          "N2-storage",
          "N2-storage",
          "N2-storage",
          "N2-storage",
          "N2-storage",
          "N2-storage",
          "N2-storage",
          "N2-storage",
          "N2-storage",
          "N2-storage",
          "N2-storage",
          "N2-storage",
          "N2-storage",
          "N2-storage",
          "N2-storage",
          "N2-storage",
          "N2-storage",
          "N2-storage",
          "N2-storage",
          "N2-storage",
          "N2-storage",
          "N2-storage",
          "N2-storage",
          "N2-storage",
          "N2-storage",
          "N2-storage",
          "N2-storage",
          "N2-storage",
          "N2-storage",
          "N2-storage",
          "N2-storage",
          "N2-storage",
          "N2-storage",
          "N2-storage",
          "N2-storage",
          "N2-storage",
          "N2-storage",
          "N2-storage",
          "N2-storage",
          "N2-storage",
          "N2-storage",
          "N2-storage",
          "N2-storage",
          "N2-storage",
          "N2-storage",
          "N2-storage",
          "N2-storage",
          "N2-storage",
          "N2-storage",
          "N2-storage",
          "N2-storage",
          "N2-storage",
          "N2-storage",
          "N2-storage",
          "N2-storage",
          "N2-storage",
          "N2-storage",
          "N2-storage",
          "N2-storage",
          "N2-storage",
          "IV-room",
          "IV-room",
          "IV-room",
          "IV-room",
          "IV-room",
          "IV-room",
          "IV-room",
          "IV-room",
          "IV-room",
          "IV-room",
          "IV-room",
          "IV-room",
          "IV-room",
          "IV-room",
          "IV-room",
          "IV-room",
          "IV-room",
          "IV-room",
          "IV-room",
          "IV-room",
          "IV-room",
          "IV-room",
          "IV-room",
          "IV-room",
          "IV-room",
          "IV-room",
          "IV-room",
          "IV-room",
          "IV-room",
          "IV-room",
          "IV-room",
          "IV-room",
          "IV-room",
          "IV-room",
          "IV-room",
          "IV-room",
          "IV-room",
          "IV-room",
          "IV-room",
          "IV-room",
          "IV-room",
          "IV-room",
          "IV-room",
          "IV-room",
          "IV-room",
          "IV-room",
          "IV-room",
          "IV-room",
          "IV-room",
          "IV-room",
          "IV-room",
          "IV-room",
          "IV-room",
          "IV-room",
          "IV-room",
          "IV-room",
          "IV-room",
          "IV-room",
          "IV-room",
          "IV-room",
          "IV-room",
          "IV-room",
          "IV-room",
          "IV-room",
          "IV-room",
          "IV-room",
          "IV-room",
          "IV-room",
          "IV-room",
          "IV-room"
         ],
         "xaxis": "x",
         "y": [
          66.80000305175781,
          66.0999984741211,
          66.69999694824219,
          68.0999984741211,
          67.0999984741211,
          67.80000305175781,
          59.5,
          66.19999694824219,
          66,
          66.4,
          59.5,
          65.5,
          67.4000015258789,
          66.9000015258789,
          66.0999984741211,
          66.9000015258789,
          68.19999694824219,
          66.69999694824219,
          67.69999694824219,
          66.5,
          65.80000305175781,
          67.5999984741211,
          67,
          67.80000305175781,
          67.5,
          67,
          57.599998474121094,
          64.80000305175781,
          67.69999694824219,
          68.19999694824219,
          68.30000305175781,
          67.5999984741211,
          67.5999984741211,
          67.5999984741211,
          64.80000305175781,
          62.5,
          62.5,
          64.5,
          62.599998474121094,
          65.9000015258789,
          65.0999984741211,
          66.9000015258789,
          44.70000076293945,
          66.30000305175781,
          66.69999694824219,
          66.80000305175781,
          68,
          67,
          68.30000305175781,
          66.69999694824219,
          68,
          67.69999694824219,
          66.5,
          68,
          67.4000015258789,
          67.80000305175781,
          67.9000015258789,
          64.30000305175781,
          68.9000015258789,
          68,
          68.80000305175781,
          60,
          68.9000015258789,
          68.5999984741211,
          67.4000015258789,
          68.30000305175781,
          68.80000305175781,
          69.0999984741211,
          68.30000305175781,
          67.4000015258789,
          68.5999984741211,
          67.19999694824219,
          66.9000015258789,
          68,
          68.5,
          67.9000015258789,
          67.80000305175781,
          67.5,
          67.80000305175781,
          67.69999694824219,
          68.5,
          68.69999694824219,
          68.30000305175781,
          67.80000305175781,
          67.19999694824219,
          68.4000015258789,
          68.69999694824219,
          67.9000015258789,
          67.4000015258789,
          68.0999984741211,
          67.5999984741211,
          57.900001525878906,
          67.80000305175781,
          68.0999984741211,
          62.900001525878906,
          67.9000015258789,
          64.5999984741211,
          69.0999984741211,
          67.9000015258789,
          64.80000305175781,
          68.69999694824219,
          67.30000305175781,
          68.5999984741211,
          68.69999694824219,
          62.79999923706055,
          65.30000305175781,
          62.900001525878906,
          67.30000305175781,
          68.5,
          68,
          60.70000076293945,
          66.4000015258789,
          66.4000015258789,
          68.0999984741211,
          61.79999923706055,
          63.20000076293945,
          66.9000015258789,
          67.80000305175781,
          66.80000305175781,
          67.4000015258789,
          66.9000015258789,
          65.5,
          66,
          67.19999694824219,
          65.5,
          63,
          64.69999694824219,
          67.30000305175781,
          66.80000305175781,
          67.30000305175781,
          68.5,
          67.5999984741211,
          59.79999923706055,
          67.5999984741211,
          68,
          65.69999694824219,
          66.0999984741211,
          64.19999694824219,
          67.0999984741211,
          67.80000305175781
         ],
         "yaxis": "y"
        },
        {
         "name": "Performance loss",
         "offsetgroup": "A",
         "type": "box",
         "x": [
          "N2-storage",
          "N2-storage",
          "N2-storage",
          "N2-storage",
          "N2-storage",
          "N2-storage",
          "N2-storage",
          "N2-storage",
          "N2-storage",
          "N2-storage",
          "N2-storage",
          "N2-storage",
          "N2-storage",
          "N2-storage",
          "N2-storage",
          "N2-storage",
          "N2-storage",
          "N2-storage",
          "N2-storage",
          "N2-storage",
          "N2-storage",
          "N2-storage",
          "N2-storage",
          "N2-storage",
          "N2-storage",
          "N2-storage",
          "N2-storage",
          "N2-storage",
          "N2-storage",
          "N2-storage",
          "N2-storage",
          "N2-storage",
          "N2-storage",
          "N2-storage",
          "N2-storage",
          "N2-storage",
          "N2-storage",
          "N2-storage",
          "N2-storage",
          "N2-storage",
          "N2-storage",
          "N2-storage",
          "N2-storage",
          "N2-storage",
          "N2-storage",
          "N2-storage",
          "N2-storage",
          "N2-storage",
          "N2-storage",
          "N2-storage",
          "N2-storage",
          "N2-storage",
          "N2-storage",
          "N2-storage",
          "N2-storage",
          "N2-storage",
          "N2-storage",
          "N2-storage",
          "N2-storage",
          "N2-storage",
          "N2-storage",
          "N2-storage",
          "N2-storage",
          "N2-storage",
          "N2-storage",
          "N2-storage",
          "N2-storage",
          "N2-storage",
          "N2-storage",
          "N2-storage",
          "IV-room",
          "IV-room",
          "IV-room",
          "IV-room",
          "IV-room",
          "IV-room",
          "IV-room",
          "IV-room",
          "IV-room",
          "IV-room",
          "IV-room",
          "IV-room",
          "IV-room",
          "IV-room",
          "IV-room",
          "IV-room",
          "IV-room",
          "IV-room",
          "IV-room",
          "IV-room",
          "IV-room",
          "IV-room",
          "IV-room",
          "IV-room",
          "IV-room",
          "IV-room",
          "IV-room",
          "IV-room",
          "IV-room",
          "IV-room",
          "IV-room",
          "IV-room",
          "IV-room",
          "IV-room",
          "IV-room",
          "IV-room",
          "IV-room",
          "IV-room",
          "IV-room",
          "IV-room",
          "IV-room",
          "IV-room",
          "IV-room",
          "IV-room",
          "IV-room",
          "IV-room",
          "IV-room",
          "IV-room",
          "IV-room",
          "IV-room",
          "IV-room",
          "IV-room",
          "IV-room",
          "IV-room",
          "IV-room",
          "IV-room",
          "IV-room",
          "IV-room",
          "IV-room",
          "IV-room",
          "IV-room",
          "IV-room",
          "IV-room",
          "IV-room",
          "IV-room",
          "IV-room",
          "IV-room",
          "IV-room",
          "IV-room",
          "IV-room"
         ],
         "xaxis": "x2",
         "y": [
          0.020527770661732544,
          0.013432858595207556,
          0.007440476528371018,
          0.0058394383339986315,
          0.004451083753204714,
          -0.0029586476649594204,
          0,
          0.0030121170638643504,
          0.01345293729972127,
          0.001503759398496155,
          0.008333333333333333,
          0.006069825745327575,
          0.010278956885853612,
          -0.007530120308884763,
          -0.007621951396801446,
          0.017621100956385517,
          0.005830926162918273,
          0.010385824358890332,
          0.017416611771568623,
          0.01627216714423743,
          0.017910402212569964,
          0.01024896846792605,
          0.0014902902592413745,
          0.00877190732070505,
          0.007352941176470588,
          0.007407407407407408,
          -0.008756567659570261,
          0.007656967482891113,
          0.008784862030839731,
          0.008721018559610298,
          0.01014488330785779,
          0.004418306995817542,
          0.013138708406991332,
          0.011695950788175554,
          0.012195052453833148,
          0.006359324581484054,
          0.00950869237131865,
          0.004629676506622856,
          0.032457474083051684,
          0.004531653114694698,
          0.016616291915860913,
          0.008888866283275463,
          -0.027586224435389727,
          0.017777732566550925,
          0.005961274738823989,
          -0.003003071805090731,
          0.00874633363654431,
          0.021897810218978103,
          0.005822327718380045,
          0.0089153948931352,
          0.005847975394087777,
          0.004411809584673713,
          0.022058823529411766,
          0.005847975394087777,
          0.014619882714792826,
          0.007320643889592501,
          0.01020403737335733,
          0.03598191913481976,
          0.007204610792602829,
          0.0043924310154198655,
          0.0014513566314441114,
          0.011532137630002147,
          0.015714263916015624,
          0.007235890174256038,
          0.023188383682914402,
          0,
          0.005780258874628977,
          0.0043228104490162424,
          0.005822327718380045,
          0.005899727254784181,
          0.002907043150655917,
          0.011764750761144301,
          0.002980580518482749,
          0.00874633363654431,
          0.0029111638591900225,
          0.007309941357396413,
          0.00877190732070505,
          0.014598540145985401,
          0.00877190732070505,
          0.011678876667997263,
          0.008683046126922875,
          0.010086521069825778,
          0.01014488330785779,
          0.01881324820651259,
          0.013215881733402957,
          0.014409221585205658,
          0.014347202923732979,
          0.018786061845286015,
          0.013177181342098684,
          0.01017448468875953,
          0.028735632813895056,
          -0.010471244272378442,
          0.010218933550980839,
          0.007288629899731292,
          -0.001592393153395843,
          0.002936812815321707,
          0.04437869922657575,
          0.007183908203473764,
          0.01164476649054277,
          0.0046082247218874675,
          0.010086521069825778,
          0.011747363293514465,
          0.005797123563462409,
          0.015759399074810256,
          0.0015898614688779537,
          0.004573101057031703,
          -0.0064000244140625,
          0.007374630936495759,
          0.01011556328197163,
          0.0072992700729927005,
          -0.0016502028273328228,
          0.029239765429585653,
          0.016296273690682872,
          0.013043500375056612,
          -0.0016207207922946825,
          0.018633551778057603,
          0.005943558807438399,
          0.00440521922298256,
          0.01037032515914352,
          0.011730138682710023,
          0.02192982407218924,
          0.0015243670190105674,
          0,
          0.02183406210527321,
          0.022388059701492536,
          0.0015847619102892,
          0.062318884808084236,
          0.0014836568524809058,
          -0.007541477782582749,
          0.014641287779185002,
          0.005805537257189542,
          0,
          -0.010135109229537484,
          0.03151868884597871,
          0.015918936301178913,
          -0.009216566638778163,
          0.017830676422315197,
          0.006191974231069801,
          0.008862607107350432,
          0.02164502069184183
         ],
         "yaxis": "y2"
        }
       ],
       "layout": {
        "boxgap": 0.5,
        "boxmode": "group",
        "height": 600,
        "template": {
         "data": {
          "bar": [
           {
            "error_x": {
             "color": "#2a3f5f"
            },
            "error_y": {
             "color": "#2a3f5f"
            },
            "marker": {
             "line": {
              "color": "#E5ECF6",
              "width": 0.5
             },
             "pattern": {
              "fillmode": "overlay",
              "size": 10,
              "solidity": 0.2
             }
            },
            "type": "bar"
           }
          ],
          "barpolar": [
           {
            "marker": {
             "line": {
              "color": "#E5ECF6",
              "width": 0.5
             },
             "pattern": {
              "fillmode": "overlay",
              "size": 10,
              "solidity": 0.2
             }
            },
            "type": "barpolar"
           }
          ],
          "carpet": [
           {
            "aaxis": {
             "endlinecolor": "#2a3f5f",
             "gridcolor": "white",
             "linecolor": "white",
             "minorgridcolor": "white",
             "startlinecolor": "#2a3f5f"
            },
            "baxis": {
             "endlinecolor": "#2a3f5f",
             "gridcolor": "white",
             "linecolor": "white",
             "minorgridcolor": "white",
             "startlinecolor": "#2a3f5f"
            },
            "type": "carpet"
           }
          ],
          "choropleth": [
           {
            "colorbar": {
             "outlinewidth": 0,
             "ticks": ""
            },
            "type": "choropleth"
           }
          ],
          "contour": [
           {
            "colorbar": {
             "outlinewidth": 0,
             "ticks": ""
            },
            "colorscale": [
             [
              0,
              "#0d0887"
             ],
             [
              0.1111111111111111,
              "#46039f"
             ],
             [
              0.2222222222222222,
              "#7201a8"
             ],
             [
              0.3333333333333333,
              "#9c179e"
             ],
             [
              0.4444444444444444,
              "#bd3786"
             ],
             [
              0.5555555555555556,
              "#d8576b"
             ],
             [
              0.6666666666666666,
              "#ed7953"
             ],
             [
              0.7777777777777778,
              "#fb9f3a"
             ],
             [
              0.8888888888888888,
              "#fdca26"
             ],
             [
              1,
              "#f0f921"
             ]
            ],
            "type": "contour"
           }
          ],
          "contourcarpet": [
           {
            "colorbar": {
             "outlinewidth": 0,
             "ticks": ""
            },
            "type": "contourcarpet"
           }
          ],
          "heatmap": [
           {
            "colorbar": {
             "outlinewidth": 0,
             "ticks": ""
            },
            "colorscale": [
             [
              0,
              "#0d0887"
             ],
             [
              0.1111111111111111,
              "#46039f"
             ],
             [
              0.2222222222222222,
              "#7201a8"
             ],
             [
              0.3333333333333333,
              "#9c179e"
             ],
             [
              0.4444444444444444,
              "#bd3786"
             ],
             [
              0.5555555555555556,
              "#d8576b"
             ],
             [
              0.6666666666666666,
              "#ed7953"
             ],
             [
              0.7777777777777778,
              "#fb9f3a"
             ],
             [
              0.8888888888888888,
              "#fdca26"
             ],
             [
              1,
              "#f0f921"
             ]
            ],
            "type": "heatmap"
           }
          ],
          "heatmapgl": [
           {
            "colorbar": {
             "outlinewidth": 0,
             "ticks": ""
            },
            "colorscale": [
             [
              0,
              "#0d0887"
             ],
             [
              0.1111111111111111,
              "#46039f"
             ],
             [
              0.2222222222222222,
              "#7201a8"
             ],
             [
              0.3333333333333333,
              "#9c179e"
             ],
             [
              0.4444444444444444,
              "#bd3786"
             ],
             [
              0.5555555555555556,
              "#d8576b"
             ],
             [
              0.6666666666666666,
              "#ed7953"
             ],
             [
              0.7777777777777778,
              "#fb9f3a"
             ],
             [
              0.8888888888888888,
              "#fdca26"
             ],
             [
              1,
              "#f0f921"
             ]
            ],
            "type": "heatmapgl"
           }
          ],
          "histogram": [
           {
            "marker": {
             "pattern": {
              "fillmode": "overlay",
              "size": 10,
              "solidity": 0.2
             }
            },
            "type": "histogram"
           }
          ],
          "histogram2d": [
           {
            "colorbar": {
             "outlinewidth": 0,
             "ticks": ""
            },
            "colorscale": [
             [
              0,
              "#0d0887"
             ],
             [
              0.1111111111111111,
              "#46039f"
             ],
             [
              0.2222222222222222,
              "#7201a8"
             ],
             [
              0.3333333333333333,
              "#9c179e"
             ],
             [
              0.4444444444444444,
              "#bd3786"
             ],
             [
              0.5555555555555556,
              "#d8576b"
             ],
             [
              0.6666666666666666,
              "#ed7953"
             ],
             [
              0.7777777777777778,
              "#fb9f3a"
             ],
             [
              0.8888888888888888,
              "#fdca26"
             ],
             [
              1,
              "#f0f921"
             ]
            ],
            "type": "histogram2d"
           }
          ],
          "histogram2dcontour": [
           {
            "colorbar": {
             "outlinewidth": 0,
             "ticks": ""
            },
            "colorscale": [
             [
              0,
              "#0d0887"
             ],
             [
              0.1111111111111111,
              "#46039f"
             ],
             [
              0.2222222222222222,
              "#7201a8"
             ],
             [
              0.3333333333333333,
              "#9c179e"
             ],
             [
              0.4444444444444444,
              "#bd3786"
             ],
             [
              0.5555555555555556,
              "#d8576b"
             ],
             [
              0.6666666666666666,
              "#ed7953"
             ],
             [
              0.7777777777777778,
              "#fb9f3a"
             ],
             [
              0.8888888888888888,
              "#fdca26"
             ],
             [
              1,
              "#f0f921"
             ]
            ],
            "type": "histogram2dcontour"
           }
          ],
          "mesh3d": [
           {
            "colorbar": {
             "outlinewidth": 0,
             "ticks": ""
            },
            "type": "mesh3d"
           }
          ],
          "parcoords": [
           {
            "line": {
             "colorbar": {
              "outlinewidth": 0,
              "ticks": ""
             }
            },
            "type": "parcoords"
           }
          ],
          "pie": [
           {
            "automargin": true,
            "type": "pie"
           }
          ],
          "scatter": [
           {
            "fillpattern": {
             "fillmode": "overlay",
             "size": 10,
             "solidity": 0.2
            },
            "type": "scatter"
           }
          ],
          "scatter3d": [
           {
            "line": {
             "colorbar": {
              "outlinewidth": 0,
              "ticks": ""
             }
            },
            "marker": {
             "colorbar": {
              "outlinewidth": 0,
              "ticks": ""
             }
            },
            "type": "scatter3d"
           }
          ],
          "scattercarpet": [
           {
            "marker": {
             "colorbar": {
              "outlinewidth": 0,
              "ticks": ""
             }
            },
            "type": "scattercarpet"
           }
          ],
          "scattergeo": [
           {
            "marker": {
             "colorbar": {
              "outlinewidth": 0,
              "ticks": ""
             }
            },
            "type": "scattergeo"
           }
          ],
          "scattergl": [
           {
            "marker": {
             "colorbar": {
              "outlinewidth": 0,
              "ticks": ""
             }
            },
            "type": "scattergl"
           }
          ],
          "scattermapbox": [
           {
            "marker": {
             "colorbar": {
              "outlinewidth": 0,
              "ticks": ""
             }
            },
            "type": "scattermapbox"
           }
          ],
          "scatterpolar": [
           {
            "marker": {
             "colorbar": {
              "outlinewidth": 0,
              "ticks": ""
             }
            },
            "type": "scatterpolar"
           }
          ],
          "scatterpolargl": [
           {
            "marker": {
             "colorbar": {
              "outlinewidth": 0,
              "ticks": ""
             }
            },
            "type": "scatterpolargl"
           }
          ],
          "scatterternary": [
           {
            "marker": {
             "colorbar": {
              "outlinewidth": 0,
              "ticks": ""
             }
            },
            "type": "scatterternary"
           }
          ],
          "surface": [
           {
            "colorbar": {
             "outlinewidth": 0,
             "ticks": ""
            },
            "colorscale": [
             [
              0,
              "#0d0887"
             ],
             [
              0.1111111111111111,
              "#46039f"
             ],
             [
              0.2222222222222222,
              "#7201a8"
             ],
             [
              0.3333333333333333,
              "#9c179e"
             ],
             [
              0.4444444444444444,
              "#bd3786"
             ],
             [
              0.5555555555555556,
              "#d8576b"
             ],
             [
              0.6666666666666666,
              "#ed7953"
             ],
             [
              0.7777777777777778,
              "#fb9f3a"
             ],
             [
              0.8888888888888888,
              "#fdca26"
             ],
             [
              1,
              "#f0f921"
             ]
            ],
            "type": "surface"
           }
          ],
          "table": [
           {
            "cells": {
             "fill": {
              "color": "#EBF0F8"
             },
             "line": {
              "color": "white"
             }
            },
            "header": {
             "fill": {
              "color": "#C8D4E3"
             },
             "line": {
              "color": "white"
             }
            },
            "type": "table"
           }
          ]
         },
         "layout": {
          "annotationdefaults": {
           "arrowcolor": "#2a3f5f",
           "arrowhead": 0,
           "arrowwidth": 1
          },
          "autotypenumbers": "strict",
          "coloraxis": {
           "colorbar": {
            "outlinewidth": 0,
            "ticks": ""
           }
          },
          "colorscale": {
           "diverging": [
            [
             0,
             "#8e0152"
            ],
            [
             0.1,
             "#c51b7d"
            ],
            [
             0.2,
             "#de77ae"
            ],
            [
             0.3,
             "#f1b6da"
            ],
            [
             0.4,
             "#fde0ef"
            ],
            [
             0.5,
             "#f7f7f7"
            ],
            [
             0.6,
             "#e6f5d0"
            ],
            [
             0.7,
             "#b8e186"
            ],
            [
             0.8,
             "#7fbc41"
            ],
            [
             0.9,
             "#4d9221"
            ],
            [
             1,
             "#276419"
            ]
           ],
           "sequential": [
            [
             0,
             "#0d0887"
            ],
            [
             0.1111111111111111,
             "#46039f"
            ],
            [
             0.2222222222222222,
             "#7201a8"
            ],
            [
             0.3333333333333333,
             "#9c179e"
            ],
            [
             0.4444444444444444,
             "#bd3786"
            ],
            [
             0.5555555555555556,
             "#d8576b"
            ],
            [
             0.6666666666666666,
             "#ed7953"
            ],
            [
             0.7777777777777778,
             "#fb9f3a"
            ],
            [
             0.8888888888888888,
             "#fdca26"
            ],
            [
             1,
             "#f0f921"
            ]
           ],
           "sequentialminus": [
            [
             0,
             "#0d0887"
            ],
            [
             0.1111111111111111,
             "#46039f"
            ],
            [
             0.2222222222222222,
             "#7201a8"
            ],
            [
             0.3333333333333333,
             "#9c179e"
            ],
            [
             0.4444444444444444,
             "#bd3786"
            ],
            [
             0.5555555555555556,
             "#d8576b"
            ],
            [
             0.6666666666666666,
             "#ed7953"
            ],
            [
             0.7777777777777778,
             "#fb9f3a"
            ],
            [
             0.8888888888888888,
             "#fdca26"
            ],
            [
             1,
             "#f0f921"
            ]
           ]
          },
          "colorway": [
           "#636efa",
           "#EF553B",
           "#00cc96",
           "#ab63fa",
           "#FFA15A",
           "#19d3f3",
           "#FF6692",
           "#B6E880",
           "#FF97FF",
           "#FECB52"
          ],
          "font": {
           "color": "#2a3f5f"
          },
          "geo": {
           "bgcolor": "white",
           "lakecolor": "white",
           "landcolor": "#E5ECF6",
           "showlakes": true,
           "showland": true,
           "subunitcolor": "white"
          },
          "hoverlabel": {
           "align": "left"
          },
          "hovermode": "closest",
          "mapbox": {
           "style": "light"
          },
          "paper_bgcolor": "white",
          "plot_bgcolor": "#E5ECF6",
          "polar": {
           "angularaxis": {
            "gridcolor": "white",
            "linecolor": "white",
            "ticks": ""
           },
           "bgcolor": "#E5ECF6",
           "radialaxis": {
            "gridcolor": "white",
            "linecolor": "white",
            "ticks": ""
           }
          },
          "scene": {
           "xaxis": {
            "backgroundcolor": "#E5ECF6",
            "gridcolor": "white",
            "gridwidth": 2,
            "linecolor": "white",
            "showbackground": true,
            "ticks": "",
            "zerolinecolor": "white"
           },
           "yaxis": {
            "backgroundcolor": "#E5ECF6",
            "gridcolor": "white",
            "gridwidth": 2,
            "linecolor": "white",
            "showbackground": true,
            "ticks": "",
            "zerolinecolor": "white"
           },
           "zaxis": {
            "backgroundcolor": "#E5ECF6",
            "gridcolor": "white",
            "gridwidth": 2,
            "linecolor": "white",
            "showbackground": true,
            "ticks": "",
            "zerolinecolor": "white"
           }
          },
          "shapedefaults": {
           "line": {
            "color": "#2a3f5f"
           }
          },
          "ternary": {
           "aaxis": {
            "gridcolor": "white",
            "linecolor": "white",
            "ticks": ""
           },
           "baxis": {
            "gridcolor": "white",
            "linecolor": "white",
            "ticks": ""
           },
           "bgcolor": "#E5ECF6",
           "caxis": {
            "gridcolor": "white",
            "linecolor": "white",
            "ticks": ""
           }
          },
          "title": {
           "x": 0.05
          },
          "xaxis": {
           "automargin": true,
           "gridcolor": "white",
           "linecolor": "white",
           "ticks": "",
           "title": {
            "standoff": 15
           },
           "zerolinecolor": "white",
           "zerolinewidth": 2
          },
          "yaxis": {
           "automargin": true,
           "gridcolor": "white",
           "linecolor": "white",
           "ticks": "",
           "title": {
            "standoff": 15
           },
           "zerolinecolor": "white",
           "zerolinewidth": 2
          }
         }
        },
        "title": {
         "text": "FF performance in N2-storage Vs IV-room between 24h"
        },
        "width": 900,
        "xaxis": {
         "anchor": "y",
         "domain": [
          0,
          1
         ],
         "matches": "x2",
         "showticklabels": false
        },
        "xaxis2": {
         "anchor": "y2",
         "domain": [
          0,
          1
         ]
        },
        "yaxis": {
         "anchor": "x",
         "domain": [
          0.515,
          1
         ],
         "tickformat": ".2f",
         "title": {
          "text": "FF [%]"
         }
        },
        "yaxis2": {
         "anchor": "x2",
         "domain": [
          0,
          0.485
         ],
         "dtick": 0.01,
         "tickformat": ",.1%",
         "title": {
          "text": "PL<sub>24h</sub> of FF"
         }
        }
       }
      },
      "text/html": [
       "<div>                            <div id=\"71c84275-16e2-4425-a669-f0eaca8a9121\" class=\"plotly-graph-div\" style=\"height:600px; width:900px;\"></div>            <script type=\"text/javascript\">                require([\"plotly\"], function(Plotly) {                    window.PLOTLYENV=window.PLOTLYENV || {};                                    if (document.getElementById(\"71c84275-16e2-4425-a669-f0eaca8a9121\")) {                    Plotly.newPlot(                        \"71c84275-16e2-4425-a669-f0eaca8a9121\",                        [{\"name\":\"Original measurments\",\"offsetgroup\":\"A\",\"x\":[\"N2-storage\",\"N2-storage\",\"N2-storage\",\"N2-storage\",\"N2-storage\",\"N2-storage\",\"N2-storage\",\"N2-storage\",\"N2-storage\",\"N2-storage\",\"N2-storage\",\"N2-storage\",\"N2-storage\",\"N2-storage\",\"N2-storage\",\"N2-storage\",\"N2-storage\",\"N2-storage\",\"N2-storage\",\"N2-storage\",\"N2-storage\",\"N2-storage\",\"N2-storage\",\"N2-storage\",\"N2-storage\",\"N2-storage\",\"N2-storage\",\"N2-storage\",\"N2-storage\",\"N2-storage\",\"N2-storage\",\"N2-storage\",\"N2-storage\",\"N2-storage\",\"N2-storage\",\"N2-storage\",\"N2-storage\",\"N2-storage\",\"N2-storage\",\"N2-storage\",\"N2-storage\",\"N2-storage\",\"N2-storage\",\"N2-storage\",\"N2-storage\",\"N2-storage\",\"N2-storage\",\"N2-storage\",\"N2-storage\",\"N2-storage\",\"N2-storage\",\"N2-storage\",\"N2-storage\",\"N2-storage\",\"N2-storage\",\"N2-storage\",\"N2-storage\",\"N2-storage\",\"N2-storage\",\"N2-storage\",\"N2-storage\",\"N2-storage\",\"N2-storage\",\"N2-storage\",\"N2-storage\",\"N2-storage\",\"N2-storage\",\"N2-storage\",\"N2-storage\",\"N2-storage\",\"IV-room\",\"IV-room\",\"IV-room\",\"IV-room\",\"IV-room\",\"IV-room\",\"IV-room\",\"IV-room\",\"IV-room\",\"IV-room\",\"IV-room\",\"IV-room\",\"IV-room\",\"IV-room\",\"IV-room\",\"IV-room\",\"IV-room\",\"IV-room\",\"IV-room\",\"IV-room\",\"IV-room\",\"IV-room\",\"IV-room\",\"IV-room\",\"IV-room\",\"IV-room\",\"IV-room\",\"IV-room\",\"IV-room\",\"IV-room\",\"IV-room\",\"IV-room\",\"IV-room\",\"IV-room\",\"IV-room\",\"IV-room\",\"IV-room\",\"IV-room\",\"IV-room\",\"IV-room\",\"IV-room\",\"IV-room\",\"IV-room\",\"IV-room\",\"IV-room\",\"IV-room\",\"IV-room\",\"IV-room\",\"IV-room\",\"IV-room\",\"IV-room\",\"IV-room\",\"IV-room\",\"IV-room\",\"IV-room\",\"IV-room\",\"IV-room\",\"IV-room\",\"IV-room\",\"IV-room\",\"IV-room\",\"IV-room\",\"IV-room\",\"IV-room\",\"IV-room\",\"IV-room\",\"IV-room\",\"IV-room\",\"IV-room\",\"IV-room\"],\"y\":[68.19999694824219,67.0,67.19999694824219,68.5,67.4000015258789,67.5999984741211,59.5,66.4000015258789,66.9000015258789,66.5,60.0,65.9000015258789,68.0999984741211,66.4000015258789,65.5999984741211,68.0999984741211,68.5999984741211,67.4000015258789,68.9000015258789,67.5999984741211,67.0,68.30000305175781,67.0999984741211,68.4000015258789,68.0,67.5,57.099998474121094,65.30000305175781,68.30000305175781,68.80000305175781,69.0,67.9000015258789,68.5,68.4000015258789,65.5999984741211,62.900001525878906,63.099998474121094,64.80000305175781,64.69999694824219,66.19999694824219,66.19999694824219,67.5,43.5,67.5,67.0999984741211,66.5999984741211,68.5999984741211,68.5,68.69999694824219,67.30000305175781,68.4000015258789,68.0,68.0,68.4000015258789,68.4000015258789,68.30000305175781,68.5999984741211,66.69999694824219,69.4000015258789,68.30000305175781,68.9000015258789,60.70000076293945,70.0,69.0999984741211,69.0,68.30000305175781,69.19999694824219,69.4000015258789,68.69999694824219,67.80000305175781,68.80000305175781,68.0,67.0999984741211,68.5999984741211,68.69999694824219,68.4000015258789,68.4000015258789,68.5,68.4000015258789,68.5,69.0999984741211,69.4000015258789,69.0,69.0999984741211,68.0999984741211,69.4000015258789,69.69999694824219,69.19999694824219,68.30000305175781,68.80000305175781,69.5999984741211,57.29999923706055,68.5,68.5999984741211,62.79999923706055,68.0999984741211,67.5999984741211,69.5999984741211,68.69999694824219,65.0999984741211,69.4000015258789,68.0999984741211,69.0,69.80000305175781,62.900001525878906,65.5999984741211,62.5,67.80000305175781,69.19999694824219,68.5,60.599998474121094,68.4000015258789,67.5,69.0,61.70000076293945,64.4000015258789,67.30000305175781,68.0999984741211,67.5,68.19999694824219,68.4000015258789,65.5999984741211,66.0,68.69999694824219,67.0,63.099998474121094,69.0,67.4000015258789,66.30000305175781,68.30000305175781,68.9000015258789,67.5999984741211,59.20000076293945,69.80000305175781,69.0999984741211,65.0999984741211,67.30000305175781,64.5999984741211,67.69999694824219,69.30000305175781],\"type\":\"box\",\"xaxis\":\"x\",\"yaxis\":\"y\"},{\"name\":\"After 24h\",\"offsetgroup\":\"B\",\"x\":[\"N2-storage\",\"N2-storage\",\"N2-storage\",\"N2-storage\",\"N2-storage\",\"N2-storage\",\"N2-storage\",\"N2-storage\",\"N2-storage\",\"N2-storage\",\"N2-storage\",\"N2-storage\",\"N2-storage\",\"N2-storage\",\"N2-storage\",\"N2-storage\",\"N2-storage\",\"N2-storage\",\"N2-storage\",\"N2-storage\",\"N2-storage\",\"N2-storage\",\"N2-storage\",\"N2-storage\",\"N2-storage\",\"N2-storage\",\"N2-storage\",\"N2-storage\",\"N2-storage\",\"N2-storage\",\"N2-storage\",\"N2-storage\",\"N2-storage\",\"N2-storage\",\"N2-storage\",\"N2-storage\",\"N2-storage\",\"N2-storage\",\"N2-storage\",\"N2-storage\",\"N2-storage\",\"N2-storage\",\"N2-storage\",\"N2-storage\",\"N2-storage\",\"N2-storage\",\"N2-storage\",\"N2-storage\",\"N2-storage\",\"N2-storage\",\"N2-storage\",\"N2-storage\",\"N2-storage\",\"N2-storage\",\"N2-storage\",\"N2-storage\",\"N2-storage\",\"N2-storage\",\"N2-storage\",\"N2-storage\",\"N2-storage\",\"N2-storage\",\"N2-storage\",\"N2-storage\",\"N2-storage\",\"N2-storage\",\"N2-storage\",\"N2-storage\",\"N2-storage\",\"N2-storage\",\"IV-room\",\"IV-room\",\"IV-room\",\"IV-room\",\"IV-room\",\"IV-room\",\"IV-room\",\"IV-room\",\"IV-room\",\"IV-room\",\"IV-room\",\"IV-room\",\"IV-room\",\"IV-room\",\"IV-room\",\"IV-room\",\"IV-room\",\"IV-room\",\"IV-room\",\"IV-room\",\"IV-room\",\"IV-room\",\"IV-room\",\"IV-room\",\"IV-room\",\"IV-room\",\"IV-room\",\"IV-room\",\"IV-room\",\"IV-room\",\"IV-room\",\"IV-room\",\"IV-room\",\"IV-room\",\"IV-room\",\"IV-room\",\"IV-room\",\"IV-room\",\"IV-room\",\"IV-room\",\"IV-room\",\"IV-room\",\"IV-room\",\"IV-room\",\"IV-room\",\"IV-room\",\"IV-room\",\"IV-room\",\"IV-room\",\"IV-room\",\"IV-room\",\"IV-room\",\"IV-room\",\"IV-room\",\"IV-room\",\"IV-room\",\"IV-room\",\"IV-room\",\"IV-room\",\"IV-room\",\"IV-room\",\"IV-room\",\"IV-room\",\"IV-room\",\"IV-room\",\"IV-room\",\"IV-room\",\"IV-room\",\"IV-room\",\"IV-room\"],\"y\":[66.80000305175781,66.0999984741211,66.69999694824219,68.0999984741211,67.0999984741211,67.80000305175781,59.5,66.19999694824219,66.0,66.4,59.5,65.5,67.4000015258789,66.9000015258789,66.0999984741211,66.9000015258789,68.19999694824219,66.69999694824219,67.69999694824219,66.5,65.80000305175781,67.5999984741211,67.0,67.80000305175781,67.5,67.0,57.599998474121094,64.80000305175781,67.69999694824219,68.19999694824219,68.30000305175781,67.5999984741211,67.5999984741211,67.5999984741211,64.80000305175781,62.5,62.5,64.5,62.599998474121094,65.9000015258789,65.0999984741211,66.9000015258789,44.70000076293945,66.30000305175781,66.69999694824219,66.80000305175781,68.0,67.0,68.30000305175781,66.69999694824219,68.0,67.69999694824219,66.5,68.0,67.4000015258789,67.80000305175781,67.9000015258789,64.30000305175781,68.9000015258789,68.0,68.80000305175781,60.0,68.9000015258789,68.5999984741211,67.4000015258789,68.30000305175781,68.80000305175781,69.0999984741211,68.30000305175781,67.4000015258789,68.5999984741211,67.19999694824219,66.9000015258789,68.0,68.5,67.9000015258789,67.80000305175781,67.5,67.80000305175781,67.69999694824219,68.5,68.69999694824219,68.30000305175781,67.80000305175781,67.19999694824219,68.4000015258789,68.69999694824219,67.9000015258789,67.4000015258789,68.0999984741211,67.5999984741211,57.900001525878906,67.80000305175781,68.0999984741211,62.900001525878906,67.9000015258789,64.5999984741211,69.0999984741211,67.9000015258789,64.80000305175781,68.69999694824219,67.30000305175781,68.5999984741211,68.69999694824219,62.79999923706055,65.30000305175781,62.900001525878906,67.30000305175781,68.5,68.0,60.70000076293945,66.4000015258789,66.4000015258789,68.0999984741211,61.79999923706055,63.20000076293945,66.9000015258789,67.80000305175781,66.80000305175781,67.4000015258789,66.9000015258789,65.5,66.0,67.19999694824219,65.5,63.0,64.69999694824219,67.30000305175781,66.80000305175781,67.30000305175781,68.5,67.5999984741211,59.79999923706055,67.5999984741211,68.0,65.69999694824219,66.0999984741211,64.19999694824219,67.0999984741211,67.80000305175781],\"type\":\"box\",\"xaxis\":\"x\",\"yaxis\":\"y\"},{\"name\":\"Performance loss\",\"offsetgroup\":\"A\",\"x\":[\"N2-storage\",\"N2-storage\",\"N2-storage\",\"N2-storage\",\"N2-storage\",\"N2-storage\",\"N2-storage\",\"N2-storage\",\"N2-storage\",\"N2-storage\",\"N2-storage\",\"N2-storage\",\"N2-storage\",\"N2-storage\",\"N2-storage\",\"N2-storage\",\"N2-storage\",\"N2-storage\",\"N2-storage\",\"N2-storage\",\"N2-storage\",\"N2-storage\",\"N2-storage\",\"N2-storage\",\"N2-storage\",\"N2-storage\",\"N2-storage\",\"N2-storage\",\"N2-storage\",\"N2-storage\",\"N2-storage\",\"N2-storage\",\"N2-storage\",\"N2-storage\",\"N2-storage\",\"N2-storage\",\"N2-storage\",\"N2-storage\",\"N2-storage\",\"N2-storage\",\"N2-storage\",\"N2-storage\",\"N2-storage\",\"N2-storage\",\"N2-storage\",\"N2-storage\",\"N2-storage\",\"N2-storage\",\"N2-storage\",\"N2-storage\",\"N2-storage\",\"N2-storage\",\"N2-storage\",\"N2-storage\",\"N2-storage\",\"N2-storage\",\"N2-storage\",\"N2-storage\",\"N2-storage\",\"N2-storage\",\"N2-storage\",\"N2-storage\",\"N2-storage\",\"N2-storage\",\"N2-storage\",\"N2-storage\",\"N2-storage\",\"N2-storage\",\"N2-storage\",\"N2-storage\",\"IV-room\",\"IV-room\",\"IV-room\",\"IV-room\",\"IV-room\",\"IV-room\",\"IV-room\",\"IV-room\",\"IV-room\",\"IV-room\",\"IV-room\",\"IV-room\",\"IV-room\",\"IV-room\",\"IV-room\",\"IV-room\",\"IV-room\",\"IV-room\",\"IV-room\",\"IV-room\",\"IV-room\",\"IV-room\",\"IV-room\",\"IV-room\",\"IV-room\",\"IV-room\",\"IV-room\",\"IV-room\",\"IV-room\",\"IV-room\",\"IV-room\",\"IV-room\",\"IV-room\",\"IV-room\",\"IV-room\",\"IV-room\",\"IV-room\",\"IV-room\",\"IV-room\",\"IV-room\",\"IV-room\",\"IV-room\",\"IV-room\",\"IV-room\",\"IV-room\",\"IV-room\",\"IV-room\",\"IV-room\",\"IV-room\",\"IV-room\",\"IV-room\",\"IV-room\",\"IV-room\",\"IV-room\",\"IV-room\",\"IV-room\",\"IV-room\",\"IV-room\",\"IV-room\",\"IV-room\",\"IV-room\",\"IV-room\",\"IV-room\",\"IV-room\",\"IV-room\",\"IV-room\",\"IV-room\",\"IV-room\",\"IV-room\",\"IV-room\"],\"y\":[0.020527770661732544,0.013432858595207556,0.007440476528371018,0.0058394383339986315,0.004451083753204714,-0.0029586476649594204,0.0,0.0030121170638643504,0.01345293729972127,0.001503759398496155,0.008333333333333333,0.006069825745327575,0.010278956885853612,-0.007530120308884763,-0.007621951396801446,0.017621100956385517,0.005830926162918273,0.010385824358890332,0.017416611771568623,0.01627216714423743,0.017910402212569964,0.01024896846792605,0.0014902902592413745,0.00877190732070505,0.007352941176470588,0.007407407407407408,-0.008756567659570261,0.007656967482891113,0.008784862030839731,0.008721018559610298,0.01014488330785779,0.004418306995817542,0.013138708406991332,0.011695950788175554,0.012195052453833148,0.006359324581484054,0.00950869237131865,0.004629676506622856,0.032457474083051684,0.004531653114694698,0.016616291915860913,0.008888866283275463,-0.027586224435389727,0.017777732566550925,0.005961274738823989,-0.003003071805090731,0.00874633363654431,0.021897810218978103,0.005822327718380045,0.0089153948931352,0.005847975394087777,0.004411809584673713,0.022058823529411766,0.005847975394087777,0.014619882714792826,0.007320643889592501,0.01020403737335733,0.03598191913481976,0.007204610792602829,0.0043924310154198655,0.0014513566314441114,0.011532137630002147,0.015714263916015624,0.007235890174256038,0.023188383682914402,0.0,0.005780258874628977,0.0043228104490162424,0.005822327718380045,0.005899727254784181,0.002907043150655917,0.011764750761144301,0.002980580518482749,0.00874633363654431,0.0029111638591900225,0.007309941357396413,0.00877190732070505,0.014598540145985401,0.00877190732070505,0.011678876667997263,0.008683046126922875,0.010086521069825778,0.01014488330785779,0.01881324820651259,0.013215881733402957,0.014409221585205658,0.014347202923732979,0.018786061845286015,0.013177181342098684,0.01017448468875953,0.028735632813895056,-0.010471244272378442,0.010218933550980839,0.007288629899731292,-0.001592393153395843,0.002936812815321707,0.04437869922657575,0.007183908203473764,0.01164476649054277,0.0046082247218874675,0.010086521069825778,0.011747363293514465,0.005797123563462409,0.015759399074810256,0.0015898614688779537,0.004573101057031703,-0.0064000244140625,0.007374630936495759,0.01011556328197163,0.0072992700729927005,-0.0016502028273328228,0.029239765429585653,0.016296273690682872,0.013043500375056612,-0.0016207207922946825,0.018633551778057603,0.005943558807438399,0.00440521922298256,0.01037032515914352,0.011730138682710023,0.02192982407218924,0.0015243670190105674,0.0,0.02183406210527321,0.022388059701492536,0.0015847619102892,0.062318884808084236,0.0014836568524809058,-0.007541477782582749,0.014641287779185002,0.005805537257189542,0.0,-0.010135109229537484,0.03151868884597871,0.015918936301178913,-0.009216566638778163,0.017830676422315197,0.006191974231069801,0.008862607107350432,0.02164502069184183],\"type\":\"box\",\"xaxis\":\"x2\",\"yaxis\":\"y2\"}],                        {\"template\":{\"data\":{\"histogram2dcontour\":[{\"type\":\"histogram2dcontour\",\"colorbar\":{\"outlinewidth\":0,\"ticks\":\"\"},\"colorscale\":[[0.0,\"#0d0887\"],[0.1111111111111111,\"#46039f\"],[0.2222222222222222,\"#7201a8\"],[0.3333333333333333,\"#9c179e\"],[0.4444444444444444,\"#bd3786\"],[0.5555555555555556,\"#d8576b\"],[0.6666666666666666,\"#ed7953\"],[0.7777777777777778,\"#fb9f3a\"],[0.8888888888888888,\"#fdca26\"],[1.0,\"#f0f921\"]]}],\"choropleth\":[{\"type\":\"choropleth\",\"colorbar\":{\"outlinewidth\":0,\"ticks\":\"\"}}],\"histogram2d\":[{\"type\":\"histogram2d\",\"colorbar\":{\"outlinewidth\":0,\"ticks\":\"\"},\"colorscale\":[[0.0,\"#0d0887\"],[0.1111111111111111,\"#46039f\"],[0.2222222222222222,\"#7201a8\"],[0.3333333333333333,\"#9c179e\"],[0.4444444444444444,\"#bd3786\"],[0.5555555555555556,\"#d8576b\"],[0.6666666666666666,\"#ed7953\"],[0.7777777777777778,\"#fb9f3a\"],[0.8888888888888888,\"#fdca26\"],[1.0,\"#f0f921\"]]}],\"heatmap\":[{\"type\":\"heatmap\",\"colorbar\":{\"outlinewidth\":0,\"ticks\":\"\"},\"colorscale\":[[0.0,\"#0d0887\"],[0.1111111111111111,\"#46039f\"],[0.2222222222222222,\"#7201a8\"],[0.3333333333333333,\"#9c179e\"],[0.4444444444444444,\"#bd3786\"],[0.5555555555555556,\"#d8576b\"],[0.6666666666666666,\"#ed7953\"],[0.7777777777777778,\"#fb9f3a\"],[0.8888888888888888,\"#fdca26\"],[1.0,\"#f0f921\"]]}],\"heatmapgl\":[{\"type\":\"heatmapgl\",\"colorbar\":{\"outlinewidth\":0,\"ticks\":\"\"},\"colorscale\":[[0.0,\"#0d0887\"],[0.1111111111111111,\"#46039f\"],[0.2222222222222222,\"#7201a8\"],[0.3333333333333333,\"#9c179e\"],[0.4444444444444444,\"#bd3786\"],[0.5555555555555556,\"#d8576b\"],[0.6666666666666666,\"#ed7953\"],[0.7777777777777778,\"#fb9f3a\"],[0.8888888888888888,\"#fdca26\"],[1.0,\"#f0f921\"]]}],\"contourcarpet\":[{\"type\":\"contourcarpet\",\"colorbar\":{\"outlinewidth\":0,\"ticks\":\"\"}}],\"contour\":[{\"type\":\"contour\",\"colorbar\":{\"outlinewidth\":0,\"ticks\":\"\"},\"colorscale\":[[0.0,\"#0d0887\"],[0.1111111111111111,\"#46039f\"],[0.2222222222222222,\"#7201a8\"],[0.3333333333333333,\"#9c179e\"],[0.4444444444444444,\"#bd3786\"],[0.5555555555555556,\"#d8576b\"],[0.6666666666666666,\"#ed7953\"],[0.7777777777777778,\"#fb9f3a\"],[0.8888888888888888,\"#fdca26\"],[1.0,\"#f0f921\"]]}],\"surface\":[{\"type\":\"surface\",\"colorbar\":{\"outlinewidth\":0,\"ticks\":\"\"},\"colorscale\":[[0.0,\"#0d0887\"],[0.1111111111111111,\"#46039f\"],[0.2222222222222222,\"#7201a8\"],[0.3333333333333333,\"#9c179e\"],[0.4444444444444444,\"#bd3786\"],[0.5555555555555556,\"#d8576b\"],[0.6666666666666666,\"#ed7953\"],[0.7777777777777778,\"#fb9f3a\"],[0.8888888888888888,\"#fdca26\"],[1.0,\"#f0f921\"]]}],\"mesh3d\":[{\"type\":\"mesh3d\",\"colorbar\":{\"outlinewidth\":0,\"ticks\":\"\"}}],\"scatter\":[{\"fillpattern\":{\"fillmode\":\"overlay\",\"size\":10,\"solidity\":0.2},\"type\":\"scatter\"}],\"parcoords\":[{\"type\":\"parcoords\",\"line\":{\"colorbar\":{\"outlinewidth\":0,\"ticks\":\"\"}}}],\"scatterpolargl\":[{\"type\":\"scatterpolargl\",\"marker\":{\"colorbar\":{\"outlinewidth\":0,\"ticks\":\"\"}}}],\"bar\":[{\"error_x\":{\"color\":\"#2a3f5f\"},\"error_y\":{\"color\":\"#2a3f5f\"},\"marker\":{\"line\":{\"color\":\"#E5ECF6\",\"width\":0.5},\"pattern\":{\"fillmode\":\"overlay\",\"size\":10,\"solidity\":0.2}},\"type\":\"bar\"}],\"scattergeo\":[{\"type\":\"scattergeo\",\"marker\":{\"colorbar\":{\"outlinewidth\":0,\"ticks\":\"\"}}}],\"scatterpolar\":[{\"type\":\"scatterpolar\",\"marker\":{\"colorbar\":{\"outlinewidth\":0,\"ticks\":\"\"}}}],\"histogram\":[{\"marker\":{\"pattern\":{\"fillmode\":\"overlay\",\"size\":10,\"solidity\":0.2}},\"type\":\"histogram\"}],\"scattergl\":[{\"type\":\"scattergl\",\"marker\":{\"colorbar\":{\"outlinewidth\":0,\"ticks\":\"\"}}}],\"scatter3d\":[{\"type\":\"scatter3d\",\"line\":{\"colorbar\":{\"outlinewidth\":0,\"ticks\":\"\"}},\"marker\":{\"colorbar\":{\"outlinewidth\":0,\"ticks\":\"\"}}}],\"scattermapbox\":[{\"type\":\"scattermapbox\",\"marker\":{\"colorbar\":{\"outlinewidth\":0,\"ticks\":\"\"}}}],\"scatterternary\":[{\"type\":\"scatterternary\",\"marker\":{\"colorbar\":{\"outlinewidth\":0,\"ticks\":\"\"}}}],\"scattercarpet\":[{\"type\":\"scattercarpet\",\"marker\":{\"colorbar\":{\"outlinewidth\":0,\"ticks\":\"\"}}}],\"carpet\":[{\"aaxis\":{\"endlinecolor\":\"#2a3f5f\",\"gridcolor\":\"white\",\"linecolor\":\"white\",\"minorgridcolor\":\"white\",\"startlinecolor\":\"#2a3f5f\"},\"baxis\":{\"endlinecolor\":\"#2a3f5f\",\"gridcolor\":\"white\",\"linecolor\":\"white\",\"minorgridcolor\":\"white\",\"startlinecolor\":\"#2a3f5f\"},\"type\":\"carpet\"}],\"table\":[{\"cells\":{\"fill\":{\"color\":\"#EBF0F8\"},\"line\":{\"color\":\"white\"}},\"header\":{\"fill\":{\"color\":\"#C8D4E3\"},\"line\":{\"color\":\"white\"}},\"type\":\"table\"}],\"barpolar\":[{\"marker\":{\"line\":{\"color\":\"#E5ECF6\",\"width\":0.5},\"pattern\":{\"fillmode\":\"overlay\",\"size\":10,\"solidity\":0.2}},\"type\":\"barpolar\"}],\"pie\":[{\"automargin\":true,\"type\":\"pie\"}]},\"layout\":{\"autotypenumbers\":\"strict\",\"colorway\":[\"#636efa\",\"#EF553B\",\"#00cc96\",\"#ab63fa\",\"#FFA15A\",\"#19d3f3\",\"#FF6692\",\"#B6E880\",\"#FF97FF\",\"#FECB52\"],\"font\":{\"color\":\"#2a3f5f\"},\"hovermode\":\"closest\",\"hoverlabel\":{\"align\":\"left\"},\"paper_bgcolor\":\"white\",\"plot_bgcolor\":\"#E5ECF6\",\"polar\":{\"bgcolor\":\"#E5ECF6\",\"angularaxis\":{\"gridcolor\":\"white\",\"linecolor\":\"white\",\"ticks\":\"\"},\"radialaxis\":{\"gridcolor\":\"white\",\"linecolor\":\"white\",\"ticks\":\"\"}},\"ternary\":{\"bgcolor\":\"#E5ECF6\",\"aaxis\":{\"gridcolor\":\"white\",\"linecolor\":\"white\",\"ticks\":\"\"},\"baxis\":{\"gridcolor\":\"white\",\"linecolor\":\"white\",\"ticks\":\"\"},\"caxis\":{\"gridcolor\":\"white\",\"linecolor\":\"white\",\"ticks\":\"\"}},\"coloraxis\":{\"colorbar\":{\"outlinewidth\":0,\"ticks\":\"\"}},\"colorscale\":{\"sequential\":[[0.0,\"#0d0887\"],[0.1111111111111111,\"#46039f\"],[0.2222222222222222,\"#7201a8\"],[0.3333333333333333,\"#9c179e\"],[0.4444444444444444,\"#bd3786\"],[0.5555555555555556,\"#d8576b\"],[0.6666666666666666,\"#ed7953\"],[0.7777777777777778,\"#fb9f3a\"],[0.8888888888888888,\"#fdca26\"],[1.0,\"#f0f921\"]],\"sequentialminus\":[[0.0,\"#0d0887\"],[0.1111111111111111,\"#46039f\"],[0.2222222222222222,\"#7201a8\"],[0.3333333333333333,\"#9c179e\"],[0.4444444444444444,\"#bd3786\"],[0.5555555555555556,\"#d8576b\"],[0.6666666666666666,\"#ed7953\"],[0.7777777777777778,\"#fb9f3a\"],[0.8888888888888888,\"#fdca26\"],[1.0,\"#f0f921\"]],\"diverging\":[[0,\"#8e0152\"],[0.1,\"#c51b7d\"],[0.2,\"#de77ae\"],[0.3,\"#f1b6da\"],[0.4,\"#fde0ef\"],[0.5,\"#f7f7f7\"],[0.6,\"#e6f5d0\"],[0.7,\"#b8e186\"],[0.8,\"#7fbc41\"],[0.9,\"#4d9221\"],[1,\"#276419\"]]},\"xaxis\":{\"gridcolor\":\"white\",\"linecolor\":\"white\",\"ticks\":\"\",\"title\":{\"standoff\":15},\"zerolinecolor\":\"white\",\"automargin\":true,\"zerolinewidth\":2},\"yaxis\":{\"gridcolor\":\"white\",\"linecolor\":\"white\",\"ticks\":\"\",\"title\":{\"standoff\":15},\"zerolinecolor\":\"white\",\"automargin\":true,\"zerolinewidth\":2},\"scene\":{\"xaxis\":{\"backgroundcolor\":\"#E5ECF6\",\"gridcolor\":\"white\",\"linecolor\":\"white\",\"showbackground\":true,\"ticks\":\"\",\"zerolinecolor\":\"white\",\"gridwidth\":2},\"yaxis\":{\"backgroundcolor\":\"#E5ECF6\",\"gridcolor\":\"white\",\"linecolor\":\"white\",\"showbackground\":true,\"ticks\":\"\",\"zerolinecolor\":\"white\",\"gridwidth\":2},\"zaxis\":{\"backgroundcolor\":\"#E5ECF6\",\"gridcolor\":\"white\",\"linecolor\":\"white\",\"showbackground\":true,\"ticks\":\"\",\"zerolinecolor\":\"white\",\"gridwidth\":2}},\"shapedefaults\":{\"line\":{\"color\":\"#2a3f5f\"}},\"annotationdefaults\":{\"arrowcolor\":\"#2a3f5f\",\"arrowhead\":0,\"arrowwidth\":1},\"geo\":{\"bgcolor\":\"white\",\"landcolor\":\"#E5ECF6\",\"subunitcolor\":\"white\",\"showland\":true,\"showlakes\":true,\"lakecolor\":\"white\"},\"title\":{\"x\":0.05},\"mapbox\":{\"style\":\"light\"}}},\"xaxis\":{\"anchor\":\"y\",\"domain\":[0.0,1.0],\"matches\":\"x2\",\"showticklabels\":false},\"yaxis\":{\"anchor\":\"x\",\"domain\":[0.515,1.0],\"title\":{\"text\":\"FF [%]\"},\"tickformat\":\".2f\"},\"xaxis2\":{\"anchor\":\"y2\",\"domain\":[0.0,1.0]},\"yaxis2\":{\"anchor\":\"x2\",\"domain\":[0.0,0.485],\"title\":{\"text\":\"PL<sub>24h</sub> of FF\"},\"dtick\":0.01,\"tickformat\":\",.1%\"},\"title\":{\"text\":\"FF performance in N2-storage Vs IV-room between 24h\"},\"boxmode\":\"group\",\"height\":600,\"width\":900,\"boxgap\":0.5},                        {\"responsive\": true}                    ).then(function(){\n",
       "                            \n",
       "var gd = document.getElementById('71c84275-16e2-4425-a669-f0eaca8a9121');\n",
       "var x = new MutationObserver(function (mutations, observer) {{\n",
       "        var display = window.getComputedStyle(gd).display;\n",
       "        if (!display || display === 'none') {{\n",
       "            console.log([gd, 'removed!']);\n",
       "            Plotly.purge(gd);\n",
       "            observer.disconnect();\n",
       "        }}\n",
       "}});\n",
       "\n",
       "// Listen for the removal of the full notebook cells\n",
       "var notebookContainer = gd.closest('#notebook-container');\n",
       "if (notebookContainer) {{\n",
       "    x.observe(notebookContainer, {childList: true});\n",
       "}}\n",
       "\n",
       "// Listen for the clearing of the current output cell\n",
       "var outputEl = gd.closest('.output');\n",
       "if (outputEl) {{\n",
       "    x.observe(outputEl, {childList: true});\n",
       "}}\n",
       "\n",
       "                        })                };                });            </script>        </div>"
      ]
     },
     "metadata": {},
     "output_type": "display_data"
    }
   ],
   "source": [
    "Cell_degradation_test_23_FF = Cell_degradation_test_23[(Cell_degradation_test_23['PL-FF'] < 0.1)&(Cell_degradation_test_23['PL-FF'] > -0.1)]\n",
    "\n",
    "fig_Cd_23_FF = make_subplots(rows=2, cols=1,shared_xaxes = True,vertical_spacing=0.03)\n",
    "\n",
    "fig_Cd_23_FF.add_trace(\n",
    "    go.Box(y=Cell_degradation_test_23_FF['FF [%]'], x = Cell_degradation_test_23_FF[\"Storage\"], \n",
    "           name = \"Original measurments\", offsetgroup = \"A\"),\n",
    "    row=1, col=1\n",
    ")\n",
    "\n",
    "fig_Cd_23_FF.add_trace(\n",
    "    go.Box(y=Cell_degradation_test_23_FF['FF [%].1'], x = Cell_degradation_test_23_FF[\"Storage\"], \n",
    "           name = \"After 24h\", offsetgroup = \"B\"),\n",
    "    row=1, col=1\n",
    ")\n",
    "\n",
    "\n",
    "fig_Cd_23_FF.add_trace(\n",
    "    go.Box(y=Cell_degradation_test_23_FF['PL-FF'], x = Cell_degradation_test_23_FF[\"Storage\"], \n",
    "           name = \"Performance loss\", offsetgroup = \"A\"),\n",
    "    row=2, col=1\n",
    ")\n",
    "\n",
    "fig_Cd_23_FF.update_layout(title = \"FF performance in N2-storage Vs IV-room between 24h\",\n",
    "                     boxmode='group', height=600, width=900,\n",
    "                     boxgap=0.5,\n",
    "                     yaxis=dict(title=\"FF [%]\", tickformat=\".2f\"),\n",
    "                     yaxis2=dict(title=\"PL<sub>24h</sub> of FF\" ,dtick=0.01,tickformat = ',.1%')\n",
    "                    ) \n",
    "fig_Cd_23_FF.show()\n",
    "fig_Cd_23_FF.write_image(\"3.3.1 FF performance in N2-storage Vs IV-room between 24h.png\", scale=3, width=900, height=600) "
   ]
  },
  {
   "cell_type": "markdown",
   "id": "b6f11fbd",
   "metadata": {},
   "source": [
    "# Check η [%]"
   ]
  },
  {
   "cell_type": "code",
   "execution_count": 365,
   "id": "2bfb1491",
   "metadata": {},
   "outputs": [
    {
     "data": {
      "application/vnd.plotly.v1+json": {
       "config": {
        "plotlyServerURL": "https://plot.ly"
       },
       "data": [
        {
         "name": "Original measurments",
         "offsetgroup": "A",
         "type": "box",
         "x": [
          "N2-storage",
          "N2-storage",
          "N2-storage",
          "N2-storage",
          "N2-storage",
          "N2-storage",
          "N2-storage",
          "N2-storage",
          "N2-storage",
          "N2-storage",
          "N2-storage",
          "N2-storage",
          "N2-storage",
          "N2-storage",
          "N2-storage",
          "N2-storage",
          "N2-storage",
          "N2-storage",
          "N2-storage",
          "N2-storage",
          "N2-storage",
          "N2-storage",
          "N2-storage",
          "N2-storage",
          "N2-storage",
          "N2-storage",
          "N2-storage",
          "N2-storage",
          "N2-storage",
          "N2-storage",
          "N2-storage",
          "N2-storage",
          "N2-storage",
          "N2-storage",
          "N2-storage",
          "N2-storage",
          "N2-storage",
          "N2-storage",
          "N2-storage",
          "N2-storage",
          "N2-storage",
          "N2-storage",
          "N2-storage",
          "N2-storage",
          "N2-storage",
          "N2-storage",
          "N2-storage",
          "N2-storage",
          "N2-storage",
          "N2-storage",
          "N2-storage",
          "N2-storage",
          "N2-storage",
          "N2-storage",
          "N2-storage",
          "N2-storage",
          "N2-storage",
          "N2-storage",
          "N2-storage",
          "N2-storage",
          "N2-storage",
          "N2-storage",
          "N2-storage",
          "N2-storage",
          "N2-storage",
          "N2-storage",
          "N2-storage",
          "N2-storage",
          "N2-storage",
          "IV-room",
          "IV-room",
          "IV-room",
          "IV-room",
          "IV-room",
          "IV-room",
          "IV-room",
          "IV-room",
          "IV-room",
          "IV-room",
          "IV-room",
          "IV-room",
          "IV-room",
          "IV-room",
          "IV-room",
          "IV-room",
          "IV-room",
          "IV-room",
          "IV-room",
          "IV-room",
          "IV-room",
          "IV-room",
          "IV-room",
          "IV-room",
          "IV-room",
          "IV-room",
          "IV-room",
          "IV-room",
          "IV-room",
          "IV-room",
          "IV-room",
          "IV-room",
          "IV-room",
          "IV-room",
          "IV-room",
          "IV-room",
          "IV-room",
          "IV-room",
          "IV-room",
          "IV-room",
          "IV-room",
          "IV-room",
          "IV-room",
          "IV-room",
          "IV-room",
          "IV-room",
          "IV-room",
          "IV-room",
          "IV-room",
          "IV-room",
          "IV-room",
          "IV-room",
          "IV-room",
          "IV-room",
          "IV-room",
          "IV-room",
          "IV-room",
          "IV-room",
          "IV-room",
          "IV-room",
          "IV-room",
          "IV-room",
          "IV-room",
          "IV-room",
          "IV-room",
          "IV-room",
          "IV-room",
          "IV-room",
          "IV-room",
          "IV-room"
         ],
         "xaxis": "x",
         "y": [
          12.225000381469727,
          11.857000350952148,
          12.571999549865723,
          12.416000366210938,
          12.437999725341797,
          10.77400016784668,
          12.251999855041504,
          12.354000091552734,
          12.088000297546387,
          10.82699966430664,
          11.758999824523926,
          12.26099967956543,
          11.758999824523926,
          11.536999702453613,
          12.513999938964844,
          12.579999923706055,
          12.128000259399414,
          12.668999671936035,
          12.27400016784668,
          12.092000007629395,
          12.545000076293945,
          12.234000205993652,
          11.963000297546387,
          11.878999710083008,
          11.807999610900879,
          9.748000144958496,
          11.932000160217285,
          12.505000114440918,
          12.402999877929688,
          12.1899995803833,
          12.097000122070312,
          12.461000442504883,
          12.104999542236328,
          11.741000175476074,
          11.116000175476074,
          10.937999725341797,
          11.395000457763672,
          11.319999694824219,
          12.10099983215332,
          12.163000106811523,
          12.295999526977539,
          7.315999984741211,
          12.079000473022461,
          12.180999755859375,
          11.746000289916992,
          12.295999526977539,
          12.074000358581543,
          12.255999565124512,
          12.295999526977539,
          12.468999862670898,
          12.473999977111816,
          12.607000350952148,
          12.545000076293945,
          12.477999687194824,
          12.593999862670898,
          12.473999977111816,
          11.83899974822998,
          12.402999877929688,
          12.104999542236328,
          12.215999603271484,
          10.925000190734863,
          12.878000259399414,
          12.607000350952148,
          12.545000076293945,
          12.53600025177002,
          12.802000045776367,
          12.736000061035156,
          12.350000381469727,
          11.99899959564209,
          12.26099967956543,
          11.986000061035156,
          11.892000198364258,
          12.597999572753906,
          12.52299976348877,
          12.473999977111816,
          12.46500015258789,
          12.359000205993652,
          12.456000328063965,
          12.505000114440918,
          12.359000205993652,
          12.420999526977539,
          12.322999954223633,
          12.229999542236328,
          12.340999603271484,
          12.656000137329102,
          12.673999786376953,
          12.616000175476074,
          12.517999649047852,
          12.505000114440918,
          12.847000122070312,
          10.12600040435791,
          12.088000297546387,
          12.314000129699707,
          11.005000114440918,
          11.994000434875488,
          12.270000457763672,
          12.585000038146973,
          12.225000381469727,
          11.666000366210938,
          12.562999725341797,
          12.336000442504883,
          12.505000114440918,
          12.619999885559082,
          11.24899959564209,
          11.706000328063965,
          10.991000175476074,
          12.038999557495117,
          12.739999771118164,
          12.416000366210938,
          10.906999588012695,
          12.36299991607666,
          12.180999755859375,
          12.553999900817871,
          11.067000389099121,
          11.661999702453613,
          11.413000106811523,
          11.963000297546387,
          11.795000076293945,
          12.295999526977539,
          12.406999588012695,
          11.857000350952148,
          11.763999938964844,
          12.548999786376953,
          12.211999893188477,
          11.293000221252441,
          12.491999626159668,
          11.737000465393066,
          11.644000053405762,
          11.968000411987305,
          12.123000144958496,
          12.366999626159668,
          10.524999618530273,
          12.576000213623047,
          12.593999862670898,
          11.901000022888184,
          12.270000457763672,
          11.62600040435791,
          12.060999870300293,
          12.380999565124512
         ],
         "yaxis": "y"
        },
        {
         "name": "After 24h",
         "offsetgroup": "B",
         "type": "box",
         "x": [
          "N2-storage",
          "N2-storage",
          "N2-storage",
          "N2-storage",
          "N2-storage",
          "N2-storage",
          "N2-storage",
          "N2-storage",
          "N2-storage",
          "N2-storage",
          "N2-storage",
          "N2-storage",
          "N2-storage",
          "N2-storage",
          "N2-storage",
          "N2-storage",
          "N2-storage",
          "N2-storage",
          "N2-storage",
          "N2-storage",
          "N2-storage",
          "N2-storage",
          "N2-storage",
          "N2-storage",
          "N2-storage",
          "N2-storage",
          "N2-storage",
          "N2-storage",
          "N2-storage",
          "N2-storage",
          "N2-storage",
          "N2-storage",
          "N2-storage",
          "N2-storage",
          "N2-storage",
          "N2-storage",
          "N2-storage",
          "N2-storage",
          "N2-storage",
          "N2-storage",
          "N2-storage",
          "N2-storage",
          "N2-storage",
          "N2-storage",
          "N2-storage",
          "N2-storage",
          "N2-storage",
          "N2-storage",
          "N2-storage",
          "N2-storage",
          "N2-storage",
          "N2-storage",
          "N2-storage",
          "N2-storage",
          "N2-storage",
          "N2-storage",
          "N2-storage",
          "N2-storage",
          "N2-storage",
          "N2-storage",
          "N2-storage",
          "N2-storage",
          "N2-storage",
          "N2-storage",
          "N2-storage",
          "N2-storage",
          "N2-storage",
          "N2-storage",
          "N2-storage",
          "IV-room",
          "IV-room",
          "IV-room",
          "IV-room",
          "IV-room",
          "IV-room",
          "IV-room",
          "IV-room",
          "IV-room",
          "IV-room",
          "IV-room",
          "IV-room",
          "IV-room",
          "IV-room",
          "IV-room",
          "IV-room",
          "IV-room",
          "IV-room",
          "IV-room",
          "IV-room",
          "IV-room",
          "IV-room",
          "IV-room",
          "IV-room",
          "IV-room",
          "IV-room",
          "IV-room",
          "IV-room",
          "IV-room",
          "IV-room",
          "IV-room",
          "IV-room",
          "IV-room",
          "IV-room",
          "IV-room",
          "IV-room",
          "IV-room",
          "IV-room",
          "IV-room",
          "IV-room",
          "IV-room",
          "IV-room",
          "IV-room",
          "IV-room",
          "IV-room",
          "IV-room",
          "IV-room",
          "IV-room",
          "IV-room",
          "IV-room",
          "IV-room",
          "IV-room",
          "IV-room",
          "IV-room",
          "IV-room",
          "IV-room",
          "IV-room",
          "IV-room",
          "IV-room",
          "IV-room",
          "IV-room",
          "IV-room",
          "IV-room",
          "IV-room",
          "IV-room",
          "IV-room",
          "IV-room",
          "IV-room",
          "IV-room",
          "IV-room"
         ],
         "xaxis": "x",
         "y": [
          12.020999908447266,
          11.741000175476074,
          12.58899974822998,
          12.406999588012695,
          12.52299976348877,
          10.77400016784668,
          12.199000358581543,
          11.989999771118164,
          11.817,
          10.760000228881836,
          11.741000175476074,
          12.128000259399414,
          11.892000198364258,
          11.706000328063965,
          12.282999992370605,
          12.52299976348877,
          12.026000022888184,
          12.446999549865723,
          12.131999969482422,
          11.892000198364258,
          12.442999839782715,
          12.243000030517578,
          11.954999923706055,
          11.835000038146973,
          11.807999610900879,
          9.9350004196167,
          11.928000450134277,
          12.437999725341797,
          12.371999740600586,
          12.168000221252441,
          12.215999603271484,
          12.354000091552734,
          12.01200008392334,
          11.630000114440918,
          11.057999610900879,
          10.87600040435791,
          11.395000457763672,
          10.925000190734863,
          12.123000144958496,
          11.90999984741211,
          12.279000282287598,
          7.609000205993652,
          11.949999809265137,
          12.208000183105469,
          11.937000274658203,
          12.234000205993652,
          11.843999862670898,
          12.282999992370605,
          12.300999641418457,
          12.491999626159668,
          12.571999549865723,
          12.402999877929688,
          12.541000366210938,
          12.354000091552734,
          12.58899974822998,
          12.380999565124512,
          11.416999816894531,
          12.402999877929688,
          12.10099983215332,
          12.295999526977539,
          10.854000091552734,
          12.637999534606934,
          12.557999610900879,
          12.291999816894531,
          12.607000350952148,
          12.802000045776367,
          12.72700023651123,
          12.3100004196167,
          12.034000396728516,
          12.194000244140625,
          11.767999649047852,
          11.829999923706055,
          12.371999740600586,
          12.385000228881836,
          12.199000358581543,
          12.1850004196167,
          12.020999908447266,
          12.27400016784668,
          12.27400016784668,
          12.159000396728516,
          12.243000030517578,
          12.088000297546387,
          11.883999824523926,
          12.038999557495117,
          12.23900032043457,
          12.371999740600586,
          12.255999565124512,
          12.149999618530273,
          12.199000358581543,
          12.26099967956543,
          10.152000427246094,
          11.946000099182129,
          12.215999603271484,
          10.977999687194824,
          11.989999771118164,
          11.541999816894531,
          12.336000442504883,
          12.017000198364258,
          11.51099967956543,
          12.291999816894531,
          12.003000259399414,
          12.234000205993652,
          12.282999992370605,
          11.218000411987305,
          11.501999855041504,
          11.012999534606934,
          11.92300033569336,
          12.505000114440918,
          12.314000129699707,
          10.871000289916992,
          11.85200023651123,
          11.857000350952148,
          12.286999702453613,
          11.03600025177002,
          11.35099983215332,
          11.430999755859375,
          11.937000274658203,
          11.684000015258789,
          12.109999656677246,
          12.060999870300293,
          11.781000137329102,
          11.763999938964844,
          12.145000457763672,
          11.777000427246094,
          11.194999694824219,
          11.470999717712402,
          11.826000213623047,
          11.803999900817871,
          11.767999649047852,
          12.04800033569336,
          12.251999855041504,
          10.5649995803833,
          12.069999694824219,
          12.251999855041504,
          11.914999961853027,
          11.892000198364258,
          11.465999603271484,
          11.875,
          11.972000122070312
         ],
         "yaxis": "y"
        },
        {
         "name": "Performance loss",
         "offsetgroup": "A",
         "type": "box",
         "x": [
          "N2-storage",
          "N2-storage",
          "N2-storage",
          "N2-storage",
          "N2-storage",
          "N2-storage",
          "N2-storage",
          "N2-storage",
          "N2-storage",
          "N2-storage",
          "N2-storage",
          "N2-storage",
          "N2-storage",
          "N2-storage",
          "N2-storage",
          "N2-storage",
          "N2-storage",
          "N2-storage",
          "N2-storage",
          "N2-storage",
          "N2-storage",
          "N2-storage",
          "N2-storage",
          "N2-storage",
          "N2-storage",
          "N2-storage",
          "N2-storage",
          "N2-storage",
          "N2-storage",
          "N2-storage",
          "N2-storage",
          "N2-storage",
          "N2-storage",
          "N2-storage",
          "N2-storage",
          "N2-storage",
          "N2-storage",
          "N2-storage",
          "N2-storage",
          "N2-storage",
          "N2-storage",
          "N2-storage",
          "N2-storage",
          "N2-storage",
          "N2-storage",
          "N2-storage",
          "N2-storage",
          "N2-storage",
          "N2-storage",
          "N2-storage",
          "N2-storage",
          "N2-storage",
          "N2-storage",
          "N2-storage",
          "N2-storage",
          "N2-storage",
          "N2-storage",
          "N2-storage",
          "N2-storage",
          "N2-storage",
          "N2-storage",
          "N2-storage",
          "N2-storage",
          "N2-storage",
          "N2-storage",
          "N2-storage",
          "N2-storage",
          "N2-storage",
          "N2-storage",
          "IV-room",
          "IV-room",
          "IV-room",
          "IV-room",
          "IV-room",
          "IV-room",
          "IV-room",
          "IV-room",
          "IV-room",
          "IV-room",
          "IV-room",
          "IV-room",
          "IV-room",
          "IV-room",
          "IV-room",
          "IV-room",
          "IV-room",
          "IV-room",
          "IV-room",
          "IV-room",
          "IV-room",
          "IV-room",
          "IV-room",
          "IV-room",
          "IV-room",
          "IV-room",
          "IV-room",
          "IV-room",
          "IV-room",
          "IV-room",
          "IV-room",
          "IV-room",
          "IV-room",
          "IV-room",
          "IV-room",
          "IV-room",
          "IV-room",
          "IV-room",
          "IV-room",
          "IV-room",
          "IV-room",
          "IV-room",
          "IV-room",
          "IV-room",
          "IV-room",
          "IV-room",
          "IV-room",
          "IV-room",
          "IV-room",
          "IV-room",
          "IV-room",
          "IV-room",
          "IV-room",
          "IV-room",
          "IV-room",
          "IV-room",
          "IV-room",
          "IV-room",
          "IV-room",
          "IV-room",
          "IV-room",
          "IV-room",
          "IV-room",
          "IV-room",
          "IV-room",
          "IV-room",
          "IV-room",
          "IV-room",
          "IV-room",
          "IV-room"
         ],
         "xaxis": "x2",
         "y": [
          0.016687154736753914,
          0.009783264910400302,
          -0.0013522270897980892,
          0.0007249337896877823,
          -0.006833899342656309,
          0,
          0.004325783307788115,
          0.029464166888218006,
          0.022418951925521874,
          0.006188181167649027,
          0.0015307125875036142,
          0.010847355325167871,
          -0.011310517546139744,
          -0.014648576750366876,
          0.01845932137772941,
          0.004531014353177593,
          0.008410309558839141,
          0.017523097941353656,
          0.011569186607659137,
          0.016539845281090614,
          0.008130748177832093,
          -0.0007356403770139392,
          0.0006687598128684248,
          0.003703987962781733,
          0,
          -0.019183450131042168,
          0.00033520868499007603,
          0.005357887923707276,
          0.0024994064044348047,
          0.0018047054871323982,
          -0.009837106720703743,
          0.00858681864637182,
          0.00768273125401599,
          0.009454054967736632,
          0.005217754917200806,
          0.005668250369420203,
          0,
          0.03489395006520706,
          -0.0018180574423874627,
          0.020800810423221888,
          0.0013825020611496366,
          -0.04004923754285734,
          0.01067974656060636,
          -0.00221660190355934,
          -0.01626085305865089,
          0.0050422351471191606,
          0.019049237127707445,
          -0.002203037549293471,
          -0.00040664562729916104,
          -0.0018445555972476297,
          -0.007856306953160402,
          0.01618152354592849,
          0.0003188290202218484,
          0.009937457825819689,
          0.00039702354259495436,
          0.007455540496869366,
          0.0356448973992538,
          0,
          0.0003304180284395855,
          -0.0065487824414000835,
          0.006498864800235132,
          0.018636490134973274,
          0.0038867881880854183,
          0.020167417924333374,
          -0.005663696374934585,
          0,
          0.0007066445101127217,
          0.0032388632078946627,
          -0.0029169766035443243,
          0.00546443497070374,
          0.01818792014660455,
          0.005213611976455504,
          0.017939342738358028,
          0.011019686753430749,
          0.02204582483845297,
          0.022462874411843463,
          0.02734851459768317,
          0.014611444719315725,
          0.018472606515810973,
          0.016182523337781345,
          0.014330529203656963,
          0.019070003858654677,
          0.028291065467132,
          0.024471279109052866,
          0.03294878416321937,
          0.02382831393929653,
          0.028535241387469115,
          0.02939767062108594,
          0.024470192167851557,
          0.04561379597857807,
          -0.00256764979754435,
          0.01174720341404036,
          0.007958463975638477,
          0.0024534690563667878,
          0.0003335554120617931,
          0.059331753358534585,
          0.01978542668949827,
          0.017014329375461528,
          0.013286531954383207,
          0.02157127392915649,
          0.026994177298995906,
          0.021671323947795234,
          0.02670363678640771,
          0.0027557280441893135,
          0.01742700045321118,
          -0.00200157936308162,
          0.009635287487783003,
          0.018445813257390715,
          0.008215224992165369,
          0.0033005683923622814,
          0.04133298414901171,
          0.026598753090966487,
          0.021268137683103153,
          0.002801132758578049,
          0.02666779953997602,
          -0.001577118100358992,
          0.0021733697435012355,
          0.009410772388060306,
          0.015126860560803333,
          0.027887461046319194,
          0.006409733606606823,
          0,
          0.03219374734963803,
          0.035620657529240055,
          0.008677988533445188,
          0.08173230379459633,
          -0.007582835878076274,
          -0.013740969312801653,
          0.016711293119536473,
          0.006186571671066616,
          0.00929892250298992,
          -0.0038004715727118477,
          0.040235409526369066,
          0.027155789372611934,
          -0.0011763666026316155,
          0.030806865957387936,
          0.013762325436222314,
          0.015421596244131456,
          0.03303444450529597
         ],
         "yaxis": "y2"
        }
       ],
       "layout": {
        "boxgap": 0.5,
        "boxmode": "group",
        "height": 700,
        "template": {
         "data": {
          "bar": [
           {
            "error_x": {
             "color": "#2a3f5f"
            },
            "error_y": {
             "color": "#2a3f5f"
            },
            "marker": {
             "line": {
              "color": "#E5ECF6",
              "width": 0.5
             },
             "pattern": {
              "fillmode": "overlay",
              "size": 10,
              "solidity": 0.2
             }
            },
            "type": "bar"
           }
          ],
          "barpolar": [
           {
            "marker": {
             "line": {
              "color": "#E5ECF6",
              "width": 0.5
             },
             "pattern": {
              "fillmode": "overlay",
              "size": 10,
              "solidity": 0.2
             }
            },
            "type": "barpolar"
           }
          ],
          "carpet": [
           {
            "aaxis": {
             "endlinecolor": "#2a3f5f",
             "gridcolor": "white",
             "linecolor": "white",
             "minorgridcolor": "white",
             "startlinecolor": "#2a3f5f"
            },
            "baxis": {
             "endlinecolor": "#2a3f5f",
             "gridcolor": "white",
             "linecolor": "white",
             "minorgridcolor": "white",
             "startlinecolor": "#2a3f5f"
            },
            "type": "carpet"
           }
          ],
          "choropleth": [
           {
            "colorbar": {
             "outlinewidth": 0,
             "ticks": ""
            },
            "type": "choropleth"
           }
          ],
          "contour": [
           {
            "colorbar": {
             "outlinewidth": 0,
             "ticks": ""
            },
            "colorscale": [
             [
              0,
              "#0d0887"
             ],
             [
              0.1111111111111111,
              "#46039f"
             ],
             [
              0.2222222222222222,
              "#7201a8"
             ],
             [
              0.3333333333333333,
              "#9c179e"
             ],
             [
              0.4444444444444444,
              "#bd3786"
             ],
             [
              0.5555555555555556,
              "#d8576b"
             ],
             [
              0.6666666666666666,
              "#ed7953"
             ],
             [
              0.7777777777777778,
              "#fb9f3a"
             ],
             [
              0.8888888888888888,
              "#fdca26"
             ],
             [
              1,
              "#f0f921"
             ]
            ],
            "type": "contour"
           }
          ],
          "contourcarpet": [
           {
            "colorbar": {
             "outlinewidth": 0,
             "ticks": ""
            },
            "type": "contourcarpet"
           }
          ],
          "heatmap": [
           {
            "colorbar": {
             "outlinewidth": 0,
             "ticks": ""
            },
            "colorscale": [
             [
              0,
              "#0d0887"
             ],
             [
              0.1111111111111111,
              "#46039f"
             ],
             [
              0.2222222222222222,
              "#7201a8"
             ],
             [
              0.3333333333333333,
              "#9c179e"
             ],
             [
              0.4444444444444444,
              "#bd3786"
             ],
             [
              0.5555555555555556,
              "#d8576b"
             ],
             [
              0.6666666666666666,
              "#ed7953"
             ],
             [
              0.7777777777777778,
              "#fb9f3a"
             ],
             [
              0.8888888888888888,
              "#fdca26"
             ],
             [
              1,
              "#f0f921"
             ]
            ],
            "type": "heatmap"
           }
          ],
          "heatmapgl": [
           {
            "colorbar": {
             "outlinewidth": 0,
             "ticks": ""
            },
            "colorscale": [
             [
              0,
              "#0d0887"
             ],
             [
              0.1111111111111111,
              "#46039f"
             ],
             [
              0.2222222222222222,
              "#7201a8"
             ],
             [
              0.3333333333333333,
              "#9c179e"
             ],
             [
              0.4444444444444444,
              "#bd3786"
             ],
             [
              0.5555555555555556,
              "#d8576b"
             ],
             [
              0.6666666666666666,
              "#ed7953"
             ],
             [
              0.7777777777777778,
              "#fb9f3a"
             ],
             [
              0.8888888888888888,
              "#fdca26"
             ],
             [
              1,
              "#f0f921"
             ]
            ],
            "type": "heatmapgl"
           }
          ],
          "histogram": [
           {
            "marker": {
             "pattern": {
              "fillmode": "overlay",
              "size": 10,
              "solidity": 0.2
             }
            },
            "type": "histogram"
           }
          ],
          "histogram2d": [
           {
            "colorbar": {
             "outlinewidth": 0,
             "ticks": ""
            },
            "colorscale": [
             [
              0,
              "#0d0887"
             ],
             [
              0.1111111111111111,
              "#46039f"
             ],
             [
              0.2222222222222222,
              "#7201a8"
             ],
             [
              0.3333333333333333,
              "#9c179e"
             ],
             [
              0.4444444444444444,
              "#bd3786"
             ],
             [
              0.5555555555555556,
              "#d8576b"
             ],
             [
              0.6666666666666666,
              "#ed7953"
             ],
             [
              0.7777777777777778,
              "#fb9f3a"
             ],
             [
              0.8888888888888888,
              "#fdca26"
             ],
             [
              1,
              "#f0f921"
             ]
            ],
            "type": "histogram2d"
           }
          ],
          "histogram2dcontour": [
           {
            "colorbar": {
             "outlinewidth": 0,
             "ticks": ""
            },
            "colorscale": [
             [
              0,
              "#0d0887"
             ],
             [
              0.1111111111111111,
              "#46039f"
             ],
             [
              0.2222222222222222,
              "#7201a8"
             ],
             [
              0.3333333333333333,
              "#9c179e"
             ],
             [
              0.4444444444444444,
              "#bd3786"
             ],
             [
              0.5555555555555556,
              "#d8576b"
             ],
             [
              0.6666666666666666,
              "#ed7953"
             ],
             [
              0.7777777777777778,
              "#fb9f3a"
             ],
             [
              0.8888888888888888,
              "#fdca26"
             ],
             [
              1,
              "#f0f921"
             ]
            ],
            "type": "histogram2dcontour"
           }
          ],
          "mesh3d": [
           {
            "colorbar": {
             "outlinewidth": 0,
             "ticks": ""
            },
            "type": "mesh3d"
           }
          ],
          "parcoords": [
           {
            "line": {
             "colorbar": {
              "outlinewidth": 0,
              "ticks": ""
             }
            },
            "type": "parcoords"
           }
          ],
          "pie": [
           {
            "automargin": true,
            "type": "pie"
           }
          ],
          "scatter": [
           {
            "fillpattern": {
             "fillmode": "overlay",
             "size": 10,
             "solidity": 0.2
            },
            "type": "scatter"
           }
          ],
          "scatter3d": [
           {
            "line": {
             "colorbar": {
              "outlinewidth": 0,
              "ticks": ""
             }
            },
            "marker": {
             "colorbar": {
              "outlinewidth": 0,
              "ticks": ""
             }
            },
            "type": "scatter3d"
           }
          ],
          "scattercarpet": [
           {
            "marker": {
             "colorbar": {
              "outlinewidth": 0,
              "ticks": ""
             }
            },
            "type": "scattercarpet"
           }
          ],
          "scattergeo": [
           {
            "marker": {
             "colorbar": {
              "outlinewidth": 0,
              "ticks": ""
             }
            },
            "type": "scattergeo"
           }
          ],
          "scattergl": [
           {
            "marker": {
             "colorbar": {
              "outlinewidth": 0,
              "ticks": ""
             }
            },
            "type": "scattergl"
           }
          ],
          "scattermapbox": [
           {
            "marker": {
             "colorbar": {
              "outlinewidth": 0,
              "ticks": ""
             }
            },
            "type": "scattermapbox"
           }
          ],
          "scatterpolar": [
           {
            "marker": {
             "colorbar": {
              "outlinewidth": 0,
              "ticks": ""
             }
            },
            "type": "scatterpolar"
           }
          ],
          "scatterpolargl": [
           {
            "marker": {
             "colorbar": {
              "outlinewidth": 0,
              "ticks": ""
             }
            },
            "type": "scatterpolargl"
           }
          ],
          "scatterternary": [
           {
            "marker": {
             "colorbar": {
              "outlinewidth": 0,
              "ticks": ""
             }
            },
            "type": "scatterternary"
           }
          ],
          "surface": [
           {
            "colorbar": {
             "outlinewidth": 0,
             "ticks": ""
            },
            "colorscale": [
             [
              0,
              "#0d0887"
             ],
             [
              0.1111111111111111,
              "#46039f"
             ],
             [
              0.2222222222222222,
              "#7201a8"
             ],
             [
              0.3333333333333333,
              "#9c179e"
             ],
             [
              0.4444444444444444,
              "#bd3786"
             ],
             [
              0.5555555555555556,
              "#d8576b"
             ],
             [
              0.6666666666666666,
              "#ed7953"
             ],
             [
              0.7777777777777778,
              "#fb9f3a"
             ],
             [
              0.8888888888888888,
              "#fdca26"
             ],
             [
              1,
              "#f0f921"
             ]
            ],
            "type": "surface"
           }
          ],
          "table": [
           {
            "cells": {
             "fill": {
              "color": "#EBF0F8"
             },
             "line": {
              "color": "white"
             }
            },
            "header": {
             "fill": {
              "color": "#C8D4E3"
             },
             "line": {
              "color": "white"
             }
            },
            "type": "table"
           }
          ]
         },
         "layout": {
          "annotationdefaults": {
           "arrowcolor": "#2a3f5f",
           "arrowhead": 0,
           "arrowwidth": 1
          },
          "autotypenumbers": "strict",
          "coloraxis": {
           "colorbar": {
            "outlinewidth": 0,
            "ticks": ""
           }
          },
          "colorscale": {
           "diverging": [
            [
             0,
             "#8e0152"
            ],
            [
             0.1,
             "#c51b7d"
            ],
            [
             0.2,
             "#de77ae"
            ],
            [
             0.3,
             "#f1b6da"
            ],
            [
             0.4,
             "#fde0ef"
            ],
            [
             0.5,
             "#f7f7f7"
            ],
            [
             0.6,
             "#e6f5d0"
            ],
            [
             0.7,
             "#b8e186"
            ],
            [
             0.8,
             "#7fbc41"
            ],
            [
             0.9,
             "#4d9221"
            ],
            [
             1,
             "#276419"
            ]
           ],
           "sequential": [
            [
             0,
             "#0d0887"
            ],
            [
             0.1111111111111111,
             "#46039f"
            ],
            [
             0.2222222222222222,
             "#7201a8"
            ],
            [
             0.3333333333333333,
             "#9c179e"
            ],
            [
             0.4444444444444444,
             "#bd3786"
            ],
            [
             0.5555555555555556,
             "#d8576b"
            ],
            [
             0.6666666666666666,
             "#ed7953"
            ],
            [
             0.7777777777777778,
             "#fb9f3a"
            ],
            [
             0.8888888888888888,
             "#fdca26"
            ],
            [
             1,
             "#f0f921"
            ]
           ],
           "sequentialminus": [
            [
             0,
             "#0d0887"
            ],
            [
             0.1111111111111111,
             "#46039f"
            ],
            [
             0.2222222222222222,
             "#7201a8"
            ],
            [
             0.3333333333333333,
             "#9c179e"
            ],
            [
             0.4444444444444444,
             "#bd3786"
            ],
            [
             0.5555555555555556,
             "#d8576b"
            ],
            [
             0.6666666666666666,
             "#ed7953"
            ],
            [
             0.7777777777777778,
             "#fb9f3a"
            ],
            [
             0.8888888888888888,
             "#fdca26"
            ],
            [
             1,
             "#f0f921"
            ]
           ]
          },
          "colorway": [
           "#636efa",
           "#EF553B",
           "#00cc96",
           "#ab63fa",
           "#FFA15A",
           "#19d3f3",
           "#FF6692",
           "#B6E880",
           "#FF97FF",
           "#FECB52"
          ],
          "font": {
           "color": "#2a3f5f"
          },
          "geo": {
           "bgcolor": "white",
           "lakecolor": "white",
           "landcolor": "#E5ECF6",
           "showlakes": true,
           "showland": true,
           "subunitcolor": "white"
          },
          "hoverlabel": {
           "align": "left"
          },
          "hovermode": "closest",
          "mapbox": {
           "style": "light"
          },
          "paper_bgcolor": "white",
          "plot_bgcolor": "#E5ECF6",
          "polar": {
           "angularaxis": {
            "gridcolor": "white",
            "linecolor": "white",
            "ticks": ""
           },
           "bgcolor": "#E5ECF6",
           "radialaxis": {
            "gridcolor": "white",
            "linecolor": "white",
            "ticks": ""
           }
          },
          "scene": {
           "xaxis": {
            "backgroundcolor": "#E5ECF6",
            "gridcolor": "white",
            "gridwidth": 2,
            "linecolor": "white",
            "showbackground": true,
            "ticks": "",
            "zerolinecolor": "white"
           },
           "yaxis": {
            "backgroundcolor": "#E5ECF6",
            "gridcolor": "white",
            "gridwidth": 2,
            "linecolor": "white",
            "showbackground": true,
            "ticks": "",
            "zerolinecolor": "white"
           },
           "zaxis": {
            "backgroundcolor": "#E5ECF6",
            "gridcolor": "white",
            "gridwidth": 2,
            "linecolor": "white",
            "showbackground": true,
            "ticks": "",
            "zerolinecolor": "white"
           }
          },
          "shapedefaults": {
           "line": {
            "color": "#2a3f5f"
           }
          },
          "ternary": {
           "aaxis": {
            "gridcolor": "white",
            "linecolor": "white",
            "ticks": ""
           },
           "baxis": {
            "gridcolor": "white",
            "linecolor": "white",
            "ticks": ""
           },
           "bgcolor": "#E5ECF6",
           "caxis": {
            "gridcolor": "white",
            "linecolor": "white",
            "ticks": ""
           }
          },
          "title": {
           "x": 0.05
          },
          "xaxis": {
           "automargin": true,
           "gridcolor": "white",
           "linecolor": "white",
           "ticks": "",
           "title": {
            "standoff": 15
           },
           "zerolinecolor": "white",
           "zerolinewidth": 2
          },
          "yaxis": {
           "automargin": true,
           "gridcolor": "white",
           "linecolor": "white",
           "ticks": "",
           "title": {
            "standoff": 15
           },
           "zerolinecolor": "white",
           "zerolinewidth": 2
          }
         }
        },
        "title": {
         "text": "η performance in N2-storage Vs IV-room between 24h"
        },
        "width": 900,
        "xaxis": {
         "anchor": "y",
         "domain": [
          0,
          1
         ],
         "matches": "x2",
         "showticklabels": false
        },
        "xaxis2": {
         "anchor": "y2",
         "domain": [
          0,
          1
         ]
        },
        "yaxis": {
         "anchor": "x",
         "domain": [
          0.515,
          1
         ],
         "tickformat": ".2f",
         "title": {
          "text": "η [%]"
         }
        },
        "yaxis2": {
         "anchor": "x2",
         "domain": [
          0,
          0.485
         ],
         "dtick": 0.01,
         "tickformat": ",.1%",
         "title": {
          "text": "PL<sub>24h</sub> of η"
         }
        }
       }
      },
      "text/html": [
       "<div>                            <div id=\"e9199079-0a7b-46b7-83d3-7d27be2fb1d3\" class=\"plotly-graph-div\" style=\"height:700px; width:900px;\"></div>            <script type=\"text/javascript\">                require([\"plotly\"], function(Plotly) {                    window.PLOTLYENV=window.PLOTLYENV || {};                                    if (document.getElementById(\"e9199079-0a7b-46b7-83d3-7d27be2fb1d3\")) {                    Plotly.newPlot(                        \"e9199079-0a7b-46b7-83d3-7d27be2fb1d3\",                        [{\"name\":\"Original measurments\",\"offsetgroup\":\"A\",\"x\":[\"N2-storage\",\"N2-storage\",\"N2-storage\",\"N2-storage\",\"N2-storage\",\"N2-storage\",\"N2-storage\",\"N2-storage\",\"N2-storage\",\"N2-storage\",\"N2-storage\",\"N2-storage\",\"N2-storage\",\"N2-storage\",\"N2-storage\",\"N2-storage\",\"N2-storage\",\"N2-storage\",\"N2-storage\",\"N2-storage\",\"N2-storage\",\"N2-storage\",\"N2-storage\",\"N2-storage\",\"N2-storage\",\"N2-storage\",\"N2-storage\",\"N2-storage\",\"N2-storage\",\"N2-storage\",\"N2-storage\",\"N2-storage\",\"N2-storage\",\"N2-storage\",\"N2-storage\",\"N2-storage\",\"N2-storage\",\"N2-storage\",\"N2-storage\",\"N2-storage\",\"N2-storage\",\"N2-storage\",\"N2-storage\",\"N2-storage\",\"N2-storage\",\"N2-storage\",\"N2-storage\",\"N2-storage\",\"N2-storage\",\"N2-storage\",\"N2-storage\",\"N2-storage\",\"N2-storage\",\"N2-storage\",\"N2-storage\",\"N2-storage\",\"N2-storage\",\"N2-storage\",\"N2-storage\",\"N2-storage\",\"N2-storage\",\"N2-storage\",\"N2-storage\",\"N2-storage\",\"N2-storage\",\"N2-storage\",\"N2-storage\",\"N2-storage\",\"N2-storage\",\"IV-room\",\"IV-room\",\"IV-room\",\"IV-room\",\"IV-room\",\"IV-room\",\"IV-room\",\"IV-room\",\"IV-room\",\"IV-room\",\"IV-room\",\"IV-room\",\"IV-room\",\"IV-room\",\"IV-room\",\"IV-room\",\"IV-room\",\"IV-room\",\"IV-room\",\"IV-room\",\"IV-room\",\"IV-room\",\"IV-room\",\"IV-room\",\"IV-room\",\"IV-room\",\"IV-room\",\"IV-room\",\"IV-room\",\"IV-room\",\"IV-room\",\"IV-room\",\"IV-room\",\"IV-room\",\"IV-room\",\"IV-room\",\"IV-room\",\"IV-room\",\"IV-room\",\"IV-room\",\"IV-room\",\"IV-room\",\"IV-room\",\"IV-room\",\"IV-room\",\"IV-room\",\"IV-room\",\"IV-room\",\"IV-room\",\"IV-room\",\"IV-room\",\"IV-room\",\"IV-room\",\"IV-room\",\"IV-room\",\"IV-room\",\"IV-room\",\"IV-room\",\"IV-room\",\"IV-room\",\"IV-room\",\"IV-room\",\"IV-room\",\"IV-room\",\"IV-room\",\"IV-room\",\"IV-room\",\"IV-room\",\"IV-room\",\"IV-room\"],\"y\":[12.225000381469727,11.857000350952148,12.571999549865723,12.416000366210938,12.437999725341797,10.77400016784668,12.251999855041504,12.354000091552734,12.088000297546387,10.82699966430664,11.758999824523926,12.26099967956543,11.758999824523926,11.536999702453613,12.513999938964844,12.579999923706055,12.128000259399414,12.668999671936035,12.27400016784668,12.092000007629395,12.545000076293945,12.234000205993652,11.963000297546387,11.878999710083008,11.807999610900879,9.748000144958496,11.932000160217285,12.505000114440918,12.402999877929688,12.1899995803833,12.097000122070312,12.461000442504883,12.104999542236328,11.741000175476074,11.116000175476074,10.937999725341797,11.395000457763672,11.319999694824219,12.10099983215332,12.163000106811523,12.295999526977539,7.315999984741211,12.079000473022461,12.180999755859375,11.746000289916992,12.295999526977539,12.074000358581543,12.255999565124512,12.295999526977539,12.468999862670898,12.473999977111816,12.607000350952148,12.545000076293945,12.477999687194824,12.593999862670898,12.473999977111816,11.83899974822998,12.402999877929688,12.104999542236328,12.215999603271484,10.925000190734863,12.878000259399414,12.607000350952148,12.545000076293945,12.53600025177002,12.802000045776367,12.736000061035156,12.350000381469727,11.99899959564209,12.26099967956543,11.986000061035156,11.892000198364258,12.597999572753906,12.52299976348877,12.473999977111816,12.46500015258789,12.359000205993652,12.456000328063965,12.505000114440918,12.359000205993652,12.420999526977539,12.322999954223633,12.229999542236328,12.340999603271484,12.656000137329102,12.673999786376953,12.616000175476074,12.517999649047852,12.505000114440918,12.847000122070312,10.12600040435791,12.088000297546387,12.314000129699707,11.005000114440918,11.994000434875488,12.270000457763672,12.585000038146973,12.225000381469727,11.666000366210938,12.562999725341797,12.336000442504883,12.505000114440918,12.619999885559082,11.24899959564209,11.706000328063965,10.991000175476074,12.038999557495117,12.739999771118164,12.416000366210938,10.906999588012695,12.36299991607666,12.180999755859375,12.553999900817871,11.067000389099121,11.661999702453613,11.413000106811523,11.963000297546387,11.795000076293945,12.295999526977539,12.406999588012695,11.857000350952148,11.763999938964844,12.548999786376953,12.211999893188477,11.293000221252441,12.491999626159668,11.737000465393066,11.644000053405762,11.968000411987305,12.123000144958496,12.366999626159668,10.524999618530273,12.576000213623047,12.593999862670898,11.901000022888184,12.270000457763672,11.62600040435791,12.060999870300293,12.380999565124512],\"type\":\"box\",\"xaxis\":\"x\",\"yaxis\":\"y\"},{\"name\":\"After 24h\",\"offsetgroup\":\"B\",\"x\":[\"N2-storage\",\"N2-storage\",\"N2-storage\",\"N2-storage\",\"N2-storage\",\"N2-storage\",\"N2-storage\",\"N2-storage\",\"N2-storage\",\"N2-storage\",\"N2-storage\",\"N2-storage\",\"N2-storage\",\"N2-storage\",\"N2-storage\",\"N2-storage\",\"N2-storage\",\"N2-storage\",\"N2-storage\",\"N2-storage\",\"N2-storage\",\"N2-storage\",\"N2-storage\",\"N2-storage\",\"N2-storage\",\"N2-storage\",\"N2-storage\",\"N2-storage\",\"N2-storage\",\"N2-storage\",\"N2-storage\",\"N2-storage\",\"N2-storage\",\"N2-storage\",\"N2-storage\",\"N2-storage\",\"N2-storage\",\"N2-storage\",\"N2-storage\",\"N2-storage\",\"N2-storage\",\"N2-storage\",\"N2-storage\",\"N2-storage\",\"N2-storage\",\"N2-storage\",\"N2-storage\",\"N2-storage\",\"N2-storage\",\"N2-storage\",\"N2-storage\",\"N2-storage\",\"N2-storage\",\"N2-storage\",\"N2-storage\",\"N2-storage\",\"N2-storage\",\"N2-storage\",\"N2-storage\",\"N2-storage\",\"N2-storage\",\"N2-storage\",\"N2-storage\",\"N2-storage\",\"N2-storage\",\"N2-storage\",\"N2-storage\",\"N2-storage\",\"N2-storage\",\"IV-room\",\"IV-room\",\"IV-room\",\"IV-room\",\"IV-room\",\"IV-room\",\"IV-room\",\"IV-room\",\"IV-room\",\"IV-room\",\"IV-room\",\"IV-room\",\"IV-room\",\"IV-room\",\"IV-room\",\"IV-room\",\"IV-room\",\"IV-room\",\"IV-room\",\"IV-room\",\"IV-room\",\"IV-room\",\"IV-room\",\"IV-room\",\"IV-room\",\"IV-room\",\"IV-room\",\"IV-room\",\"IV-room\",\"IV-room\",\"IV-room\",\"IV-room\",\"IV-room\",\"IV-room\",\"IV-room\",\"IV-room\",\"IV-room\",\"IV-room\",\"IV-room\",\"IV-room\",\"IV-room\",\"IV-room\",\"IV-room\",\"IV-room\",\"IV-room\",\"IV-room\",\"IV-room\",\"IV-room\",\"IV-room\",\"IV-room\",\"IV-room\",\"IV-room\",\"IV-room\",\"IV-room\",\"IV-room\",\"IV-room\",\"IV-room\",\"IV-room\",\"IV-room\",\"IV-room\",\"IV-room\",\"IV-room\",\"IV-room\",\"IV-room\",\"IV-room\",\"IV-room\",\"IV-room\",\"IV-room\",\"IV-room\",\"IV-room\"],\"y\":[12.020999908447266,11.741000175476074,12.58899974822998,12.406999588012695,12.52299976348877,10.77400016784668,12.199000358581543,11.989999771118164,11.817,10.760000228881836,11.741000175476074,12.128000259399414,11.892000198364258,11.706000328063965,12.282999992370605,12.52299976348877,12.026000022888184,12.446999549865723,12.131999969482422,11.892000198364258,12.442999839782715,12.243000030517578,11.954999923706055,11.835000038146973,11.807999610900879,9.9350004196167,11.928000450134277,12.437999725341797,12.371999740600586,12.168000221252441,12.215999603271484,12.354000091552734,12.01200008392334,11.630000114440918,11.057999610900879,10.87600040435791,11.395000457763672,10.925000190734863,12.123000144958496,11.90999984741211,12.279000282287598,7.609000205993652,11.949999809265137,12.208000183105469,11.937000274658203,12.234000205993652,11.843999862670898,12.282999992370605,12.300999641418457,12.491999626159668,12.571999549865723,12.402999877929688,12.541000366210938,12.354000091552734,12.58899974822998,12.380999565124512,11.416999816894531,12.402999877929688,12.10099983215332,12.295999526977539,10.854000091552734,12.637999534606934,12.557999610900879,12.291999816894531,12.607000350952148,12.802000045776367,12.72700023651123,12.3100004196167,12.034000396728516,12.194000244140625,11.767999649047852,11.829999923706055,12.371999740600586,12.385000228881836,12.199000358581543,12.1850004196167,12.020999908447266,12.27400016784668,12.27400016784668,12.159000396728516,12.243000030517578,12.088000297546387,11.883999824523926,12.038999557495117,12.23900032043457,12.371999740600586,12.255999565124512,12.149999618530273,12.199000358581543,12.26099967956543,10.152000427246094,11.946000099182129,12.215999603271484,10.977999687194824,11.989999771118164,11.541999816894531,12.336000442504883,12.017000198364258,11.51099967956543,12.291999816894531,12.003000259399414,12.234000205993652,12.282999992370605,11.218000411987305,11.501999855041504,11.012999534606934,11.92300033569336,12.505000114440918,12.314000129699707,10.871000289916992,11.85200023651123,11.857000350952148,12.286999702453613,11.03600025177002,11.35099983215332,11.430999755859375,11.937000274658203,11.684000015258789,12.109999656677246,12.060999870300293,11.781000137329102,11.763999938964844,12.145000457763672,11.777000427246094,11.194999694824219,11.470999717712402,11.826000213623047,11.803999900817871,11.767999649047852,12.04800033569336,12.251999855041504,10.5649995803833,12.069999694824219,12.251999855041504,11.914999961853027,11.892000198364258,11.465999603271484,11.875,11.972000122070312],\"type\":\"box\",\"xaxis\":\"x\",\"yaxis\":\"y\"},{\"name\":\"Performance loss\",\"offsetgroup\":\"A\",\"x\":[\"N2-storage\",\"N2-storage\",\"N2-storage\",\"N2-storage\",\"N2-storage\",\"N2-storage\",\"N2-storage\",\"N2-storage\",\"N2-storage\",\"N2-storage\",\"N2-storage\",\"N2-storage\",\"N2-storage\",\"N2-storage\",\"N2-storage\",\"N2-storage\",\"N2-storage\",\"N2-storage\",\"N2-storage\",\"N2-storage\",\"N2-storage\",\"N2-storage\",\"N2-storage\",\"N2-storage\",\"N2-storage\",\"N2-storage\",\"N2-storage\",\"N2-storage\",\"N2-storage\",\"N2-storage\",\"N2-storage\",\"N2-storage\",\"N2-storage\",\"N2-storage\",\"N2-storage\",\"N2-storage\",\"N2-storage\",\"N2-storage\",\"N2-storage\",\"N2-storage\",\"N2-storage\",\"N2-storage\",\"N2-storage\",\"N2-storage\",\"N2-storage\",\"N2-storage\",\"N2-storage\",\"N2-storage\",\"N2-storage\",\"N2-storage\",\"N2-storage\",\"N2-storage\",\"N2-storage\",\"N2-storage\",\"N2-storage\",\"N2-storage\",\"N2-storage\",\"N2-storage\",\"N2-storage\",\"N2-storage\",\"N2-storage\",\"N2-storage\",\"N2-storage\",\"N2-storage\",\"N2-storage\",\"N2-storage\",\"N2-storage\",\"N2-storage\",\"N2-storage\",\"IV-room\",\"IV-room\",\"IV-room\",\"IV-room\",\"IV-room\",\"IV-room\",\"IV-room\",\"IV-room\",\"IV-room\",\"IV-room\",\"IV-room\",\"IV-room\",\"IV-room\",\"IV-room\",\"IV-room\",\"IV-room\",\"IV-room\",\"IV-room\",\"IV-room\",\"IV-room\",\"IV-room\",\"IV-room\",\"IV-room\",\"IV-room\",\"IV-room\",\"IV-room\",\"IV-room\",\"IV-room\",\"IV-room\",\"IV-room\",\"IV-room\",\"IV-room\",\"IV-room\",\"IV-room\",\"IV-room\",\"IV-room\",\"IV-room\",\"IV-room\",\"IV-room\",\"IV-room\",\"IV-room\",\"IV-room\",\"IV-room\",\"IV-room\",\"IV-room\",\"IV-room\",\"IV-room\",\"IV-room\",\"IV-room\",\"IV-room\",\"IV-room\",\"IV-room\",\"IV-room\",\"IV-room\",\"IV-room\",\"IV-room\",\"IV-room\",\"IV-room\",\"IV-room\",\"IV-room\",\"IV-room\",\"IV-room\",\"IV-room\",\"IV-room\",\"IV-room\",\"IV-room\",\"IV-room\",\"IV-room\",\"IV-room\",\"IV-room\"],\"y\":[0.016687154736753914,0.009783264910400302,-0.0013522270897980892,0.0007249337896877823,-0.006833899342656309,0.0,0.004325783307788115,0.029464166888218006,0.022418951925521874,0.006188181167649027,0.0015307125875036142,0.010847355325167871,-0.011310517546139744,-0.014648576750366876,0.01845932137772941,0.004531014353177593,0.008410309558839141,0.017523097941353656,0.011569186607659137,0.016539845281090614,0.008130748177832093,-0.0007356403770139392,0.0006687598128684248,0.003703987962781733,0.0,-0.019183450131042168,0.00033520868499007603,0.005357887923707276,0.0024994064044348047,0.0018047054871323982,-0.009837106720703743,0.00858681864637182,0.00768273125401599,0.009454054967736632,0.005217754917200806,0.005668250369420203,0.0,0.03489395006520706,-0.0018180574423874627,0.020800810423221888,0.0013825020611496366,-0.04004923754285734,0.01067974656060636,-0.00221660190355934,-0.01626085305865089,0.0050422351471191606,0.019049237127707445,-0.002203037549293471,-0.00040664562729916104,-0.0018445555972476297,-0.007856306953160402,0.01618152354592849,0.0003188290202218484,0.009937457825819689,0.00039702354259495436,0.007455540496869366,0.0356448973992538,0.0,0.0003304180284395855,-0.0065487824414000835,0.006498864800235132,0.018636490134973274,0.0038867881880854183,0.020167417924333374,-0.005663696374934585,0.0,0.0007066445101127217,0.0032388632078946627,-0.0029169766035443243,0.00546443497070374,0.01818792014660455,0.005213611976455504,0.017939342738358028,0.011019686753430749,0.02204582483845297,0.022462874411843463,0.02734851459768317,0.014611444719315725,0.018472606515810973,0.016182523337781345,0.014330529203656963,0.019070003858654677,0.028291065467132,0.024471279109052866,0.03294878416321937,0.02382831393929653,0.028535241387469115,0.02939767062108594,0.024470192167851557,0.04561379597857807,-0.00256764979754435,0.01174720341404036,0.007958463975638477,0.0024534690563667878,0.0003335554120617931,0.059331753358534585,0.01978542668949827,0.017014329375461528,0.013286531954383207,0.02157127392915649,0.026994177298995906,0.021671323947795234,0.02670363678640771,0.0027557280441893135,0.01742700045321118,-0.00200157936308162,0.009635287487783003,0.018445813257390715,0.008215224992165369,0.0033005683923622814,0.04133298414901171,0.026598753090966487,0.021268137683103153,0.002801132758578049,0.02666779953997602,-0.001577118100358992,0.0021733697435012355,0.009410772388060306,0.015126860560803333,0.027887461046319194,0.006409733606606823,0.0,0.03219374734963803,0.035620657529240055,0.008677988533445188,0.08173230379459633,-0.007582835878076274,-0.013740969312801653,0.016711293119536473,0.006186571671066616,0.00929892250298992,-0.0038004715727118477,0.040235409526369066,0.027155789372611934,-0.0011763666026316155,0.030806865957387936,0.013762325436222314,0.015421596244131456,0.03303444450529597],\"type\":\"box\",\"xaxis\":\"x2\",\"yaxis\":\"y2\"}],                        {\"template\":{\"data\":{\"histogram2dcontour\":[{\"type\":\"histogram2dcontour\",\"colorbar\":{\"outlinewidth\":0,\"ticks\":\"\"},\"colorscale\":[[0.0,\"#0d0887\"],[0.1111111111111111,\"#46039f\"],[0.2222222222222222,\"#7201a8\"],[0.3333333333333333,\"#9c179e\"],[0.4444444444444444,\"#bd3786\"],[0.5555555555555556,\"#d8576b\"],[0.6666666666666666,\"#ed7953\"],[0.7777777777777778,\"#fb9f3a\"],[0.8888888888888888,\"#fdca26\"],[1.0,\"#f0f921\"]]}],\"choropleth\":[{\"type\":\"choropleth\",\"colorbar\":{\"outlinewidth\":0,\"ticks\":\"\"}}],\"histogram2d\":[{\"type\":\"histogram2d\",\"colorbar\":{\"outlinewidth\":0,\"ticks\":\"\"},\"colorscale\":[[0.0,\"#0d0887\"],[0.1111111111111111,\"#46039f\"],[0.2222222222222222,\"#7201a8\"],[0.3333333333333333,\"#9c179e\"],[0.4444444444444444,\"#bd3786\"],[0.5555555555555556,\"#d8576b\"],[0.6666666666666666,\"#ed7953\"],[0.7777777777777778,\"#fb9f3a\"],[0.8888888888888888,\"#fdca26\"],[1.0,\"#f0f921\"]]}],\"heatmap\":[{\"type\":\"heatmap\",\"colorbar\":{\"outlinewidth\":0,\"ticks\":\"\"},\"colorscale\":[[0.0,\"#0d0887\"],[0.1111111111111111,\"#46039f\"],[0.2222222222222222,\"#7201a8\"],[0.3333333333333333,\"#9c179e\"],[0.4444444444444444,\"#bd3786\"],[0.5555555555555556,\"#d8576b\"],[0.6666666666666666,\"#ed7953\"],[0.7777777777777778,\"#fb9f3a\"],[0.8888888888888888,\"#fdca26\"],[1.0,\"#f0f921\"]]}],\"heatmapgl\":[{\"type\":\"heatmapgl\",\"colorbar\":{\"outlinewidth\":0,\"ticks\":\"\"},\"colorscale\":[[0.0,\"#0d0887\"],[0.1111111111111111,\"#46039f\"],[0.2222222222222222,\"#7201a8\"],[0.3333333333333333,\"#9c179e\"],[0.4444444444444444,\"#bd3786\"],[0.5555555555555556,\"#d8576b\"],[0.6666666666666666,\"#ed7953\"],[0.7777777777777778,\"#fb9f3a\"],[0.8888888888888888,\"#fdca26\"],[1.0,\"#f0f921\"]]}],\"contourcarpet\":[{\"type\":\"contourcarpet\",\"colorbar\":{\"outlinewidth\":0,\"ticks\":\"\"}}],\"contour\":[{\"type\":\"contour\",\"colorbar\":{\"outlinewidth\":0,\"ticks\":\"\"},\"colorscale\":[[0.0,\"#0d0887\"],[0.1111111111111111,\"#46039f\"],[0.2222222222222222,\"#7201a8\"],[0.3333333333333333,\"#9c179e\"],[0.4444444444444444,\"#bd3786\"],[0.5555555555555556,\"#d8576b\"],[0.6666666666666666,\"#ed7953\"],[0.7777777777777778,\"#fb9f3a\"],[0.8888888888888888,\"#fdca26\"],[1.0,\"#f0f921\"]]}],\"surface\":[{\"type\":\"surface\",\"colorbar\":{\"outlinewidth\":0,\"ticks\":\"\"},\"colorscale\":[[0.0,\"#0d0887\"],[0.1111111111111111,\"#46039f\"],[0.2222222222222222,\"#7201a8\"],[0.3333333333333333,\"#9c179e\"],[0.4444444444444444,\"#bd3786\"],[0.5555555555555556,\"#d8576b\"],[0.6666666666666666,\"#ed7953\"],[0.7777777777777778,\"#fb9f3a\"],[0.8888888888888888,\"#fdca26\"],[1.0,\"#f0f921\"]]}],\"mesh3d\":[{\"type\":\"mesh3d\",\"colorbar\":{\"outlinewidth\":0,\"ticks\":\"\"}}],\"scatter\":[{\"fillpattern\":{\"fillmode\":\"overlay\",\"size\":10,\"solidity\":0.2},\"type\":\"scatter\"}],\"parcoords\":[{\"type\":\"parcoords\",\"line\":{\"colorbar\":{\"outlinewidth\":0,\"ticks\":\"\"}}}],\"scatterpolargl\":[{\"type\":\"scatterpolargl\",\"marker\":{\"colorbar\":{\"outlinewidth\":0,\"ticks\":\"\"}}}],\"bar\":[{\"error_x\":{\"color\":\"#2a3f5f\"},\"error_y\":{\"color\":\"#2a3f5f\"},\"marker\":{\"line\":{\"color\":\"#E5ECF6\",\"width\":0.5},\"pattern\":{\"fillmode\":\"overlay\",\"size\":10,\"solidity\":0.2}},\"type\":\"bar\"}],\"scattergeo\":[{\"type\":\"scattergeo\",\"marker\":{\"colorbar\":{\"outlinewidth\":0,\"ticks\":\"\"}}}],\"scatterpolar\":[{\"type\":\"scatterpolar\",\"marker\":{\"colorbar\":{\"outlinewidth\":0,\"ticks\":\"\"}}}],\"histogram\":[{\"marker\":{\"pattern\":{\"fillmode\":\"overlay\",\"size\":10,\"solidity\":0.2}},\"type\":\"histogram\"}],\"scattergl\":[{\"type\":\"scattergl\",\"marker\":{\"colorbar\":{\"outlinewidth\":0,\"ticks\":\"\"}}}],\"scatter3d\":[{\"type\":\"scatter3d\",\"line\":{\"colorbar\":{\"outlinewidth\":0,\"ticks\":\"\"}},\"marker\":{\"colorbar\":{\"outlinewidth\":0,\"ticks\":\"\"}}}],\"scattermapbox\":[{\"type\":\"scattermapbox\",\"marker\":{\"colorbar\":{\"outlinewidth\":0,\"ticks\":\"\"}}}],\"scatterternary\":[{\"type\":\"scatterternary\",\"marker\":{\"colorbar\":{\"outlinewidth\":0,\"ticks\":\"\"}}}],\"scattercarpet\":[{\"type\":\"scattercarpet\",\"marker\":{\"colorbar\":{\"outlinewidth\":0,\"ticks\":\"\"}}}],\"carpet\":[{\"aaxis\":{\"endlinecolor\":\"#2a3f5f\",\"gridcolor\":\"white\",\"linecolor\":\"white\",\"minorgridcolor\":\"white\",\"startlinecolor\":\"#2a3f5f\"},\"baxis\":{\"endlinecolor\":\"#2a3f5f\",\"gridcolor\":\"white\",\"linecolor\":\"white\",\"minorgridcolor\":\"white\",\"startlinecolor\":\"#2a3f5f\"},\"type\":\"carpet\"}],\"table\":[{\"cells\":{\"fill\":{\"color\":\"#EBF0F8\"},\"line\":{\"color\":\"white\"}},\"header\":{\"fill\":{\"color\":\"#C8D4E3\"},\"line\":{\"color\":\"white\"}},\"type\":\"table\"}],\"barpolar\":[{\"marker\":{\"line\":{\"color\":\"#E5ECF6\",\"width\":0.5},\"pattern\":{\"fillmode\":\"overlay\",\"size\":10,\"solidity\":0.2}},\"type\":\"barpolar\"}],\"pie\":[{\"automargin\":true,\"type\":\"pie\"}]},\"layout\":{\"autotypenumbers\":\"strict\",\"colorway\":[\"#636efa\",\"#EF553B\",\"#00cc96\",\"#ab63fa\",\"#FFA15A\",\"#19d3f3\",\"#FF6692\",\"#B6E880\",\"#FF97FF\",\"#FECB52\"],\"font\":{\"color\":\"#2a3f5f\"},\"hovermode\":\"closest\",\"hoverlabel\":{\"align\":\"left\"},\"paper_bgcolor\":\"white\",\"plot_bgcolor\":\"#E5ECF6\",\"polar\":{\"bgcolor\":\"#E5ECF6\",\"angularaxis\":{\"gridcolor\":\"white\",\"linecolor\":\"white\",\"ticks\":\"\"},\"radialaxis\":{\"gridcolor\":\"white\",\"linecolor\":\"white\",\"ticks\":\"\"}},\"ternary\":{\"bgcolor\":\"#E5ECF6\",\"aaxis\":{\"gridcolor\":\"white\",\"linecolor\":\"white\",\"ticks\":\"\"},\"baxis\":{\"gridcolor\":\"white\",\"linecolor\":\"white\",\"ticks\":\"\"},\"caxis\":{\"gridcolor\":\"white\",\"linecolor\":\"white\",\"ticks\":\"\"}},\"coloraxis\":{\"colorbar\":{\"outlinewidth\":0,\"ticks\":\"\"}},\"colorscale\":{\"sequential\":[[0.0,\"#0d0887\"],[0.1111111111111111,\"#46039f\"],[0.2222222222222222,\"#7201a8\"],[0.3333333333333333,\"#9c179e\"],[0.4444444444444444,\"#bd3786\"],[0.5555555555555556,\"#d8576b\"],[0.6666666666666666,\"#ed7953\"],[0.7777777777777778,\"#fb9f3a\"],[0.8888888888888888,\"#fdca26\"],[1.0,\"#f0f921\"]],\"sequentialminus\":[[0.0,\"#0d0887\"],[0.1111111111111111,\"#46039f\"],[0.2222222222222222,\"#7201a8\"],[0.3333333333333333,\"#9c179e\"],[0.4444444444444444,\"#bd3786\"],[0.5555555555555556,\"#d8576b\"],[0.6666666666666666,\"#ed7953\"],[0.7777777777777778,\"#fb9f3a\"],[0.8888888888888888,\"#fdca26\"],[1.0,\"#f0f921\"]],\"diverging\":[[0,\"#8e0152\"],[0.1,\"#c51b7d\"],[0.2,\"#de77ae\"],[0.3,\"#f1b6da\"],[0.4,\"#fde0ef\"],[0.5,\"#f7f7f7\"],[0.6,\"#e6f5d0\"],[0.7,\"#b8e186\"],[0.8,\"#7fbc41\"],[0.9,\"#4d9221\"],[1,\"#276419\"]]},\"xaxis\":{\"gridcolor\":\"white\",\"linecolor\":\"white\",\"ticks\":\"\",\"title\":{\"standoff\":15},\"zerolinecolor\":\"white\",\"automargin\":true,\"zerolinewidth\":2},\"yaxis\":{\"gridcolor\":\"white\",\"linecolor\":\"white\",\"ticks\":\"\",\"title\":{\"standoff\":15},\"zerolinecolor\":\"white\",\"automargin\":true,\"zerolinewidth\":2},\"scene\":{\"xaxis\":{\"backgroundcolor\":\"#E5ECF6\",\"gridcolor\":\"white\",\"linecolor\":\"white\",\"showbackground\":true,\"ticks\":\"\",\"zerolinecolor\":\"white\",\"gridwidth\":2},\"yaxis\":{\"backgroundcolor\":\"#E5ECF6\",\"gridcolor\":\"white\",\"linecolor\":\"white\",\"showbackground\":true,\"ticks\":\"\",\"zerolinecolor\":\"white\",\"gridwidth\":2},\"zaxis\":{\"backgroundcolor\":\"#E5ECF6\",\"gridcolor\":\"white\",\"linecolor\":\"white\",\"showbackground\":true,\"ticks\":\"\",\"zerolinecolor\":\"white\",\"gridwidth\":2}},\"shapedefaults\":{\"line\":{\"color\":\"#2a3f5f\"}},\"annotationdefaults\":{\"arrowcolor\":\"#2a3f5f\",\"arrowhead\":0,\"arrowwidth\":1},\"geo\":{\"bgcolor\":\"white\",\"landcolor\":\"#E5ECF6\",\"subunitcolor\":\"white\",\"showland\":true,\"showlakes\":true,\"lakecolor\":\"white\"},\"title\":{\"x\":0.05},\"mapbox\":{\"style\":\"light\"}}},\"xaxis\":{\"anchor\":\"y\",\"domain\":[0.0,1.0],\"matches\":\"x2\",\"showticklabels\":false},\"yaxis\":{\"anchor\":\"x\",\"domain\":[0.515,1.0],\"title\":{\"text\":\"\\u03b7 [%]\"},\"tickformat\":\".2f\"},\"xaxis2\":{\"anchor\":\"y2\",\"domain\":[0.0,1.0]},\"yaxis2\":{\"anchor\":\"x2\",\"domain\":[0.0,0.485],\"title\":{\"text\":\"PL<sub>24h</sub> of \\u03b7\"},\"dtick\":0.01,\"tickformat\":\",.1%\"},\"title\":{\"text\":\"\\u03b7 performance in N2-storage Vs IV-room between 24h\"},\"boxmode\":\"group\",\"height\":700,\"width\":900,\"boxgap\":0.5},                        {\"responsive\": true}                    ).then(function(){\n",
       "                            \n",
       "var gd = document.getElementById('e9199079-0a7b-46b7-83d3-7d27be2fb1d3');\n",
       "var x = new MutationObserver(function (mutations, observer) {{\n",
       "        var display = window.getComputedStyle(gd).display;\n",
       "        if (!display || display === 'none') {{\n",
       "            console.log([gd, 'removed!']);\n",
       "            Plotly.purge(gd);\n",
       "            observer.disconnect();\n",
       "        }}\n",
       "}});\n",
       "\n",
       "// Listen for the removal of the full notebook cells\n",
       "var notebookContainer = gd.closest('#notebook-container');\n",
       "if (notebookContainer) {{\n",
       "    x.observe(notebookContainer, {childList: true});\n",
       "}}\n",
       "\n",
       "// Listen for the clearing of the current output cell\n",
       "var outputEl = gd.closest('.output');\n",
       "if (outputEl) {{\n",
       "    x.observe(outputEl, {childList: true});\n",
       "}}\n",
       "\n",
       "                        })                };                });            </script>        </div>"
      ]
     },
     "metadata": {},
     "output_type": "display_data"
    }
   ],
   "source": [
    "Cell_degradation_test_23_η = Cell_degradation_test_23[(Cell_degradation_test_23['PL-η'] < 0.1)&(Cell_degradation_test_23['PL-η'] > -0.1)]\n",
    "\n",
    "fig_Cd_23_η = make_subplots(rows=2, cols=1,shared_xaxes = True,vertical_spacing=0.03)\n",
    "\n",
    "fig_Cd_23_η.add_trace(\n",
    "    go.Box(y=Cell_degradation_test_23_η['η [%]'], x = Cell_degradation_test_23_η[\"Storage\"], \n",
    "           name = \"Original measurments\", offsetgroup = \"A\"),\n",
    "    row=1, col=1\n",
    ")\n",
    "\n",
    "fig_Cd_23_η.add_trace(\n",
    "    go.Box(y=Cell_degradation_test_23_η['η [%].1'], x = Cell_degradation_test_23_η[\"Storage\"], \n",
    "           name = \"After 24h\", offsetgroup = \"B\"),\n",
    "    row=1, col=1\n",
    ")\n",
    "\n",
    "\n",
    "fig_Cd_23_η.add_trace(\n",
    "    go.Box(y=Cell_degradation_test_23_η['PL-η'], x = Cell_degradation_test_23_η[\"Storage\"], \n",
    "           name = \"Performance loss\", offsetgroup = \"A\"),\n",
    "    row=2, col=1\n",
    ")\n",
    "\n",
    "fig_Cd_23_η.update_layout(title = \"η performance in N2-storage Vs IV-room between 24h\",\n",
    "                     boxmode='group', height=700, width=900,\n",
    "                     boxgap=0.5,\n",
    "                     yaxis=dict(title=\"η [%]\", tickformat=\".2f\"),\n",
    "                     yaxis2=dict(title=\"PL<sub>24h</sub> of η\" ,dtick=0.01,tickformat = ',.1%')\n",
    "                    ) \n",
    "fig_Cd_23_η.show()\n",
    "fig_Cd_23_η.write_image(\"3.4.1 η performance in N2-storage Vs IV-room between 24h.png\", scale=3, width=900, height=600) "
   ]
  }
 ],
 "metadata": {
  "kernelspec": {
   "display_name": "Python 3 (ipykernel)",
   "language": "python",
   "name": "python3"
  },
  "language_info": {
   "codemirror_mode": {
    "name": "ipython",
    "version": 3
   },
   "file_extension": ".py",
   "mimetype": "text/x-python",
   "name": "python",
   "nbconvert_exporter": "python",
   "pygments_lexer": "ipython3",
   "version": "3.7.9"
  }
 },
 "nbformat": 4,
 "nbformat_minor": 5
}
